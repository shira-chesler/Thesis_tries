{
  "cells": [
    {
      "cell_type": "code",
      "execution_count": 7,
      "metadata": {
        "colab": {
          "base_uri": "https://localhost:8080/"
        },
        "id": "pA6vP5rd8WWX",
        "outputId": "38bd1576-0a7c-4113-b9f8-b1ef5bfa28ec"
      },
      "outputs": [
        {
          "output_type": "stream",
          "name": "stdout",
          "text": [
            "Requirement already satisfied: torchvision in /usr/local/lib/python3.10/dist-packages (0.20.0+cu121)\n",
            "Requirement already satisfied: numpy in /usr/local/lib/python3.10/dist-packages (from torchvision) (1.26.4)\n",
            "Requirement already satisfied: torch==2.5.0 in /usr/local/lib/python3.10/dist-packages (from torchvision) (2.5.0+cu121)\n",
            "Requirement already satisfied: pillow!=8.3.*,>=5.3.0 in /usr/local/lib/python3.10/dist-packages (from torchvision) (10.4.0)\n",
            "Requirement already satisfied: filelock in /usr/local/lib/python3.10/dist-packages (from torch==2.5.0->torchvision) (3.16.1)\n",
            "Requirement already satisfied: typing-extensions>=4.8.0 in /usr/local/lib/python3.10/dist-packages (from torch==2.5.0->torchvision) (4.12.2)\n",
            "Requirement already satisfied: networkx in /usr/local/lib/python3.10/dist-packages (from torch==2.5.0->torchvision) (3.4.2)\n",
            "Requirement already satisfied: jinja2 in /usr/local/lib/python3.10/dist-packages (from torch==2.5.0->torchvision) (3.1.4)\n",
            "Requirement already satisfied: fsspec in /usr/local/lib/python3.10/dist-packages (from torch==2.5.0->torchvision) (2024.6.1)\n",
            "Requirement already satisfied: sympy==1.13.1 in /usr/local/lib/python3.10/dist-packages (from torch==2.5.0->torchvision) (1.13.1)\n",
            "Requirement already satisfied: mpmath<1.4,>=1.1.0 in /usr/local/lib/python3.10/dist-packages (from sympy==1.13.1->torch==2.5.0->torchvision) (1.3.0)\n",
            "Requirement already satisfied: MarkupSafe>=2.0 in /usr/local/lib/python3.10/dist-packages (from jinja2->torch==2.5.0->torchvision) (3.0.2)\n"
          ]
        }
      ],
      "source": [
        "!pip install torchvision"
      ]
    },
    {
      "cell_type": "code",
      "source": [
        "#imports zone\n",
        "\n",
        "# Standard library imports\n",
        "import os\n",
        "import re\n",
        "import math\n",
        "import random\n",
        "import warnings\n",
        "from abc import abstractmethod\n",
        "from typing import Sequence, Union, Tuple\n",
        "\n",
        "# Scientific computing and visualization\n",
        "import numpy as np\n",
        "import matplotlib.pyplot as plt\n",
        "import matplotlib.animation as animation\n",
        "\n",
        "# PyTorch imports\n",
        "import torch\n",
        "from torch import Tensor\n",
        "import torch.nn as nn\n",
        "import torch.nn.functional as F\n",
        "import torch.optim as optim\n",
        "from torch.utils.data import DataLoader\n",
        "import torch.nn.modules.loss as loss\n",
        "\n",
        "# torchvision imports\n",
        "from torchvision import datasets, transforms\n",
        "from torchvision.datasets import CIFAR100\n",
        "\n",
        "# Google Colab imports\n",
        "from google.colab import drive\n",
        "\n",
        "# Progress bar\n",
        "from tqdm import tqdm"
      ],
      "metadata": {
        "id": "eTvA4m4zuRvf"
      },
      "execution_count": 8,
      "outputs": []
    },
    {
      "cell_type": "markdown",
      "source": [
        "4 next cells are from [This github repository](https://github.com/AlexPasqua/Autoencoders/tree/main), changed to match the dataset we intend to work on currently (CIFAR100)."
      ],
      "metadata": {
        "id": "PuLTSqJ75qGd"
      }
    },
    {
      "cell_type": "code",
      "source": [
        "# custom_mnist but changed to be for CIFAR100\n",
        "'''\n",
        "# set device globally\n",
        "device = torch.device('cuda:0' if torch.cuda.is_available() else 'cpu')\n",
        "\n",
        "class FastCIFAR100(CIFAR100):\n",
        "    \"\"\"\n",
        "    The base of this class is taken from GitHub Gist, then I adapted it to my needs.\n",
        "    Author: Joost van Amersfoort (y0ast)\n",
        "    link: https://gist.github.com/y0ast/f69966e308e549f013a92dc66debeeb4\n",
        "    \"\"\"\n",
        "    def __init__(self, *args, **kwargs):\n",
        "        super().__init__(*args, **kwargs)\n",
        "\n",
        "        # Scale data to [0,1]\n",
        "        self.data = self.data.unsqueeze(1).float().div(255)\n",
        "\n",
        "        # Normalize it with the usual CIFAR100 mean and std\n",
        "        # self.data = self.data.sub_(0.1307).div_(0.3081)\n",
        "\n",
        "        # Since I'm working with autoencoders, 'targets' becomes a copy of the data. The labels are now stored\n",
        "        # in the variable 'labels'. Also put everything on GPU in advance, since the dataset is small.\n",
        "        # This lets me bypass PyTorch's DataLoaders and speed up the training.\n",
        "        self.data = self.data.to(device)\n",
        "        self.labels = self.targets.to(device)\n",
        "        self.targets = torch.flatten(copy.deepcopy(self.data), start_dim=1)\n",
        "\n",
        "    def __getitem__(self, index):\n",
        "        \"\"\"\n",
        "        Args:\n",
        "            index (int): Index\n",
        "\n",
        "        Returns:\n",
        "            tuple: (image, target) where target is index of the target class.\n",
        "        \"\"\"\n",
        "        img, target, label = self.data[index], self.targets[index], self.labels[index]\n",
        "        return img, target, label\n",
        "\n",
        "\n",
        "class NoisyCIFAR100(FastCIFAR100):\n",
        "    \"\"\" subclass of FastCIFAR100 with data=noisy_data and targets=clean_data (instead of labels) \"\"\"\n",
        "    def __init__(self, noise_const=0.1, patch_width=0, *args, **kwargs):\n",
        "        super().__init__(*args, **kwargs)\n",
        "        self.data += noise_const * torch.randn(self.data.shape).to(device)\n",
        "        self.data -= torch.min(self.data)\n",
        "        self.data /= torch.max(self.data)\n",
        "        if patch_width > 0:\n",
        "            for img in self.data:\n",
        "                start = random.randint(0, img.shape[-1] - patch_width - 1)\n",
        "                img[:, start: start + patch_width, start: start + patch_width] = 0\n",
        "'''"
      ],
      "metadata": {
        "id": "E7R6Qrkf3pd0",
        "colab": {
          "base_uri": "https://localhost:8080/",
          "height": 127
        },
        "outputId": "9193bae5-a4cd-4610-9d1f-a397110d743d"
      },
      "execution_count": 9,
      "outputs": [
        {
          "output_type": "execute_result",
          "data": {
            "text/plain": [
              "'\\n# set device globally\\ndevice = torch.device(\\'cuda:0\\' if torch.cuda.is_available() else \\'cpu\\')\\n\\nclass FastCIFAR100(CIFAR100):\\n    \"\"\"\\n    The base of this class is taken from GitHub Gist, then I adapted it to my needs.\\n    Author: Joost van Amersfoort (y0ast)\\n    link: https://gist.github.com/y0ast/f69966e308e549f013a92dc66debeeb4\\n    \"\"\"\\n    def __init__(self, *args, **kwargs):\\n        super().__init__(*args, **kwargs)\\n\\n        # Scale data to [0,1]\\n        self.data = self.data.unsqueeze(1).float().div(255)\\n\\n        # Normalize it with the usual CIFAR100 mean and std\\n        # self.data = self.data.sub_(0.1307).div_(0.3081)\\n\\n        # Since I\\'m working with autoencoders, \\'targets\\' becomes a copy of the data. The labels are now stored\\n        # in the variable \\'labels\\'. Also put everything on GPU in advance, since the dataset is small.\\n        # This lets me bypass PyTorch\\'s DataLoaders and speed up the training.\\n        self.data = self.data.to(device)\\n        self.labels = self.targets.to(device)\\n        self.targets = torch.flatten(copy.deepcopy(self.data), start_dim=1)\\n\\n    def __getitem__(self, index):\\n        \"\"\"\\n        Args:\\n            index (int): Index\\n\\n        Returns:\\n            tuple: (image, target) where target is index of the target class.\\n        \"\"\"\\n        img, target, label = self.data[index], self.targets[index], self.labels[index]\\n        return img, target, label\\n\\n\\nclass NoisyCIFAR100(FastCIFAR100):\\n    \"\"\" subclass of FastCIFAR100 with data=noisy_data and targets=clean_data (instead of labels) \"\"\"\\n    def __init__(self, noise_const=0.1, patch_width=0, *args, **kwargs):\\n        super().__init__(*args, **kwargs)\\n        self.data += noise_const * torch.randn(self.data.shape).to(device)\\n        self.data -= torch.min(self.data)\\n        self.data /= torch.max(self.data)\\n        if patch_width > 0:\\n            for img in self.data:\\n                start = random.randint(0, img.shape[-1] - patch_width - 1)\\n                img[:, start: start + patch_width, start: start + patch_width] = 0\\n'"
            ],
            "application/vnd.google.colaboratory.intrinsic+json": {
              "type": "string"
            }
          },
          "metadata": {},
          "execution_count": 9
        }
      ]
    },
    {
      "cell_type": "code",
      "source": [
        "# custom_losses\n",
        "class ContractiveLoss(loss.MSELoss):\n",
        "    \"\"\"\n",
        "    Custom loss for contractive autoencoders.\n",
        "\n",
        "    note: the superclass is MSELoss, simply because the base class _Loss is protected and it's not a best practice.\n",
        "          there isn't a real reason between the choice of MSELoss, since the forward method is overridden completely.\n",
        "\n",
        "    Overridden for elasticity -> it's possible to use a function as a custom loss, but having a wrapper class\n",
        "    allows to do:\n",
        "        criterion = ClassOfWhateverLoss()\n",
        "        loss = criterion(output, target)    # this line always the same regardless of the type on loss\n",
        "    \"\"\"\n",
        "    def __init__(self, ae, lambd: float, size_average=None, reduce=None, reduction: str = 'mean') -> None:\n",
        "        super(ContractiveLoss, self).__init__(size_average, reduce, reduction)\n",
        "        self.ae = ae\n",
        "        self.lambd = lambd\n",
        "\n",
        "    def forward(self, input: Tensor, target: Tensor) -> Tensor:\n",
        "        return contractive_loss(input, target, self.lambd, self.ae, self.reduction)\n",
        "\n",
        "\n",
        "def contractive_loss(input, target, lambd, ae, reduction: str):\n",
        "    \"\"\"\n",
        "    Actual function computing the loss of a contractive autoencoder\n",
        "    :param input: (Tensor)\n",
        "    :param target: (Tensor)\n",
        "    :param lambd: (float) regularization parameter\n",
        "    :param ae: (DeepAutoencoder) the model itself, used to get it's weights\n",
        "    :param reduction: (str) type of reduction {'mean' | 'sum'}\n",
        "    :raises: ValueError\n",
        "    :return: the loss\n",
        "    \"\"\"\n",
        "    term1 = (input - target) ** 2\n",
        "    enc_weights = [ae.encoder[i].weight for i in reversed(range(1, len(ae.encoder), 2))]\n",
        "    term2 = lambd * torch.norm(torch.chain_matmul(*enc_weights))\n",
        "    contr_loss = torch.mean(term1 + term2, 0)\n",
        "    if reduction == 'mean':\n",
        "        return torch.mean(contr_loss)\n",
        "    elif reduction == 'sum':\n",
        "        return torch.sum(contr_loss)\n",
        "    else:\n",
        "        raise ValueError(f\"value for 'reduction' must be 'mean' or 'sum', got {reduction}\")"
      ],
      "metadata": {
        "id": "1py0TP4n3IcM"
      },
      "execution_count": 10,
      "outputs": []
    },
    {
      "cell_type": "code",
      "source": [
        "# training_utilities\n",
        "'''\n",
        "# set device globally\n",
        "device = torch.device('cuda:0' if torch.cuda.is_available() else 'cpu')\n",
        "\n",
        "# these variables will be allocated only if needed\n",
        "CIFAR100_train = None\n",
        "CIFAR100_test = None\n",
        "noisy_CIFAR100_train = None\n",
        "noisy_CIFAR100_test = None\n",
        "\n",
        "\n",
        "def get_clean_sets():\n",
        "    global CIFAR100_train\n",
        "    global CIFAR100_test\n",
        "    if CIFAR100_train is None:\n",
        "        CIFAR100_train = CIFAR100(root='../CIFAR100/', train=True, download=True, transform=transforms.ToTensor())\n",
        "        CIFAR100_test = CIFAR100(root='../CIFAR100/', train=False, download=True, transform=transforms.ToTensor())\n",
        "    return CIFAR100_train, CIFAR100_test\n",
        "\n",
        "\n",
        "def get_noisy_sets(**kwargs):\n",
        "    global noisy_CIFAR100_train\n",
        "    global noisy_CIFAR100_test\n",
        "    if noisy_CIFAR100_train is None:\n",
        "        noisy_CIFAR100_train = NoisyCIFAR100(root='../CIFAR100/', train=True, download=True, transform=transforms.ToTensor(), **kwargs)\n",
        "        noisy_CIFAR100_test = NoisyCIFAR100(root='../CIFAR100/', train=False, download=True, transform=transforms.ToTensor(), **kwargs)\n",
        "    return noisy_CIFAR100_train, noisy_CIFAR100_test\n",
        "\n",
        "\n",
        "def fit_ae(model, mode=None, tr_data=None, val_data=None, num_epochs=10, bs=32, lr=0.1, momentum=0., **kwargs):\n",
        "    \"\"\"\n",
        "    Training functions for the AEs\n",
        "    :param model: model to train\n",
        "    :param mode: (str) {'basic | 'contractive' | 'denoising'}\n",
        "    :param tr_data: (optional) specific training data to use\n",
        "    :param val_data: (optional) specific validation data to use\n",
        "    :param num_epochs: (int) number of epochs\n",
        "    :param bs: (int) batch size\n",
        "    :param lr: (float) learning rate\n",
        "    :param momentum: (float) momentum coefficient\n",
        "    :return: history of training (like in Keras)\n",
        "    \"\"\"\n",
        "    mode_values = (None, 'basic', 'contractive', 'denoising')\n",
        "    assert 0 < lr < 1 and num_epochs > 0 and bs > 0 and 0 <= momentum < 1 and mode in mode_values\n",
        "\n",
        "    # set the device: GPU if cuda is available, else CPU\n",
        "    model.to(device)\n",
        "\n",
        "    # set optimizer, loss type and datasets (depending on the type of AE)\n",
        "    optimizer = torch.optim.SGD(model.parameters(), lr=lr, momentum=momentum)\n",
        "    criterion = ContractiveLoss(ae=model, lambd=1e-4) if mode == 'contractive' else nn.MSELoss()\n",
        "    if mode == 'denoising':\n",
        "        if tr_data is not None or val_data is not None:\n",
        "            warnings.warn(\"'denoising' flag was set, so NoisyCIFAR100 will be used for training and validation\")\n",
        "        noisy_train, noisy_val = get_noisy_sets(**kwargs)\n",
        "        tr_data, tr_targets = noisy_train.data, noisy_train.targets\n",
        "        val_data, val_targets = noisy_val.data, noisy_val.targets\n",
        "        del noisy_train, noisy_val\n",
        "    else:\n",
        "        tr_set, val_set = get_clean_sets()\n",
        "        if tr_data is None:\n",
        "            tr_data, tr_targets = tr_set.data, tr_set.targets\n",
        "        else:\n",
        "            tr_data = tr_data.to(device)\n",
        "            tr_targets = torch.flatten(copy.deepcopy(tr_data), start_dim=1)\n",
        "        if val_data is None:\n",
        "            val_data, val_targets = val_set.data, val_set.targets\n",
        "        else:\n",
        "            val_data = val_data.to(device)\n",
        "            val_targets = torch.flatten(copy.deepcopy(val_data), start_dim=1)\n",
        "        del tr_set, val_set\n",
        "    if 'ConvAutoencoder' in model.__class__.__name__:\n",
        "        val_bs = bs\n",
        "        tr_data, tr_targets = tr_data.cpu(), tr_targets.cpu()\n",
        "        val_data, val_targets = val_data.cpu(), val_targets.cpu()\n",
        "    else:\n",
        "        val_bs = None\n",
        "    torch.cuda.empty_cache()\n",
        "\n",
        "    # training cycle\n",
        "    loss = None  # just to avoid reference before assigment\n",
        "    history = {'tr_loss': [], 'val_loss': []}\n",
        "    for epoch in range(num_epochs):\n",
        "        # training\n",
        "        model.train()\n",
        "        tr_loss = 0\n",
        "        n_batches = math.ceil(len(tr_data) / bs)\n",
        "        # shuffle\n",
        "        indexes = torch.randperm(tr_data.shape[0])\n",
        "        tr_data = tr_data[indexes]\n",
        "        tr_targets = tr_targets[indexes]\n",
        "        progbar = tqdm(range(n_batches), total=n_batches)\n",
        "        progbar.set_description(f\"Epoch [{epoch + 1}/{num_epochs}]\")\n",
        "        for batch_idx in range(n_batches):\n",
        "            # zero the gradient\n",
        "            optimizer.zero_grad()\n",
        "            # select a (mini)batch from the training set and compute net's outputs\n",
        "            train_data_batch = tr_data[batch_idx * bs: batch_idx * bs + bs].to(device)\n",
        "            train_targets_batch = tr_targets[batch_idx * bs: batch_idx * bs + bs].to(device)\n",
        "            outputs = model(train_data_batch)\n",
        "            # compute loss (flatten output in case of ConvAE. targets already flat)\n",
        "            loss = criterion(torch.flatten(outputs, 1), train_targets_batch)\n",
        "            tr_loss += loss.item()\n",
        "            # propagate back the loss\n",
        "            loss.backward()\n",
        "            optimizer.step()\n",
        "            # update progress bar\n",
        "            progbar.update()\n",
        "            progbar.set_postfix(train_loss=f\"{loss.item():.4f}\")\n",
        "        last_batch_loss = loss.item()\n",
        "        tr_loss /= n_batches\n",
        "        history['tr_loss'].append(round(tr_loss, 5))\n",
        "\n",
        "        # validation\n",
        "        val_loss = evaluate(model=model, data=val_data, targets=val_targets, criterion=criterion, bs=val_bs)\n",
        "        history['val_loss'].append(round(val_loss, 5))\n",
        "        torch.cuda.empty_cache()\n",
        "        progbar.set_postfix(train_loss=f\"{last_batch_loss:.4f}\", val_loss=f\"{val_loss:.4f}\")\n",
        "        progbar.close()\n",
        "\n",
        "        # simple early stopping mechanism\n",
        "        if epoch >= 10:\n",
        "            last_values = history['val_loss'][-10:]\n",
        "            if (abs(last_values[-10] - last_values[-1]) <= 2e-5) or (last_values[-3] < last_values[-2] < last_values[-1]):\n",
        "                return history\n",
        "\n",
        "    return history\n",
        "\n",
        "\n",
        "def evaluate(model, criterion, mode='basic', data=None, targets=None, bs=None, **kwargs):\n",
        "    \"\"\" Evaluate the model \"\"\"\n",
        "    # set the data\n",
        "    if data is None:\n",
        "        _, val_set = get_noisy_sets(**kwargs) if mode == 'denoising' else get_clean_sets()\n",
        "        data, targets = val_set.data, val_set.targets\n",
        "    bs = len(data) if bs is None else bs\n",
        "    n_batches = math.ceil(len(data) / bs)\n",
        "    if 'ConvAutoencoder' in model.__class__.__name__:\n",
        "        data = data.to('cpu')\n",
        "        targets = targets.to('cpu')\n",
        "    else:\n",
        "        data = data.to(device)\n",
        "        targets = targets.to(device)\n",
        "\n",
        "    # evaluate\n",
        "    model.to(device)\n",
        "    model.eval()\n",
        "    with torch.no_grad():\n",
        "        val_loss = 0\n",
        "        for batch_idx in range(n_batches):\n",
        "            data_batch = data[batch_idx * bs: batch_idx * bs + bs].to(device)\n",
        "            targets_batch = targets[batch_idx * bs: batch_idx * bs + bs].to(device)\n",
        "            outputs = model(data_batch)\n",
        "            # flatten outputs in case of ConvAE (targets already flat)\n",
        "            loss = criterion(torch.flatten(outputs, 1), targets_batch)\n",
        "            val_loss += loss.item()\n",
        "    return val_loss / n_batches\n",
        "'''"
      ],
      "metadata": {
        "id": "2bOBd7Va29R2",
        "colab": {
          "base_uri": "https://localhost:8080/",
          "height": 127
        },
        "outputId": "c1d0c3b0-8980-4e36-ab69-91018e2b0e37"
      },
      "execution_count": 11,
      "outputs": [
        {
          "output_type": "execute_result",
          "data": {
            "text/plain": [
              "'\\n# set device globally\\ndevice = torch.device(\\'cuda:0\\' if torch.cuda.is_available() else \\'cpu\\')\\n\\n# these variables will be allocated only if needed\\nCIFAR100_train = None\\nCIFAR100_test = None\\nnoisy_CIFAR100_train = None\\nnoisy_CIFAR100_test = None\\n\\n\\ndef get_clean_sets():\\n    global CIFAR100_train\\n    global CIFAR100_test\\n    if CIFAR100_train is None:\\n        CIFAR100_train = CIFAR100(root=\\'../CIFAR100/\\', train=True, download=True, transform=transforms.ToTensor())\\n        CIFAR100_test = CIFAR100(root=\\'../CIFAR100/\\', train=False, download=True, transform=transforms.ToTensor())\\n    return CIFAR100_train, CIFAR100_test\\n\\n\\ndef get_noisy_sets(**kwargs):\\n    global noisy_CIFAR100_train\\n    global noisy_CIFAR100_test\\n    if noisy_CIFAR100_train is None:\\n        noisy_CIFAR100_train = NoisyCIFAR100(root=\\'../CIFAR100/\\', train=True, download=True, transform=transforms.ToTensor(), **kwargs)\\n        noisy_CIFAR100_test = NoisyCIFAR100(root=\\'../CIFAR100/\\', train=False, download=True, transform=transforms.ToTensor(), **kwargs)\\n    return noisy_CIFAR100_train, noisy_CIFAR100_test\\n\\n\\ndef fit_ae(model, mode=None, tr_data=None, val_data=None, num_epochs=10, bs=32, lr=0.1, momentum=0., **kwargs):\\n    \"\"\"\\n    Training functions for the AEs\\n    :param model: model to train\\n    :param mode: (str) {\\'basic | \\'contractive\\' | \\'denoising\\'}\\n    :param tr_data: (optional) specific training data to use\\n    :param val_data: (optional) specific validation data to use\\n    :param num_epochs: (int) number of epochs\\n    :param bs: (int) batch size\\n    :param lr: (float) learning rate\\n    :param momentum: (float) momentum coefficient\\n    :return: history of training (like in Keras)\\n    \"\"\"\\n    mode_values = (None, \\'basic\\', \\'contractive\\', \\'denoising\\')\\n    assert 0 < lr < 1 and num_epochs > 0 and bs > 0 and 0 <= momentum < 1 and mode in mode_values\\n\\n    # set the device: GPU if cuda is available, else CPU\\n    model.to(device)\\n\\n    # set optimizer, loss type and datasets (depending on the type of AE)\\n    optimizer = torch.optim.SGD(model.parameters(), lr=lr, momentum=momentum)\\n    criterion = ContractiveLoss(ae=model, lambd=1e-4) if mode == \\'contractive\\' else nn.MSELoss()\\n    if mode == \\'denoising\\':\\n        if tr_data is not None or val_data is not None:\\n            warnings.warn(\"\\'denoising\\' flag was set, so NoisyCIFAR100 will be used for training and validation\")\\n        noisy_train, noisy_val = get_noisy_sets(**kwargs)\\n        tr_data, tr_targets = noisy_train.data, noisy_train.targets\\n        val_data, val_targets = noisy_val.data, noisy_val.targets\\n        del noisy_train, noisy_val\\n    else:\\n        tr_set, val_set = get_clean_sets()\\n        if tr_data is None:\\n            tr_data, tr_targets = tr_set.data, tr_set.targets\\n        else:\\n            tr_data = tr_data.to(device)\\n            tr_targets = torch.flatten(copy.deepcopy(tr_data), start_dim=1)\\n        if val_data is None:\\n            val_data, val_targets = val_set.data, val_set.targets\\n        else:\\n            val_data = val_data.to(device)\\n            val_targets = torch.flatten(copy.deepcopy(val_data), start_dim=1)\\n        del tr_set, val_set\\n    if \\'ConvAutoencoder\\' in model.__class__.__name__:\\n        val_bs = bs\\n        tr_data, tr_targets = tr_data.cpu(), tr_targets.cpu()\\n        val_data, val_targets = val_data.cpu(), val_targets.cpu()\\n    else:\\n        val_bs = None\\n    torch.cuda.empty_cache()\\n\\n    # training cycle\\n    loss = None  # just to avoid reference before assigment\\n    history = {\\'tr_loss\\': [], \\'val_loss\\': []}\\n    for epoch in range(num_epochs):\\n        # training\\n        model.train()\\n        tr_loss = 0\\n        n_batches = math.ceil(len(tr_data) / bs)\\n        # shuffle\\n        indexes = torch.randperm(tr_data.shape[0])\\n        tr_data = tr_data[indexes]\\n        tr_targets = tr_targets[indexes]\\n        progbar = tqdm(range(n_batches), total=n_batches)\\n        progbar.set_description(f\"Epoch [{epoch + 1}/{num_epochs}]\")\\n        for batch_idx in range(n_batches):\\n            # zero the gradient\\n            optimizer.zero_grad()\\n            # select a (mini)batch from the training set and compute net\\'s outputs\\n            train_data_batch = tr_data[batch_idx * bs: batch_idx * bs + bs].to(device)\\n            train_targets_batch = tr_targets[batch_idx * bs: batch_idx * bs + bs].to(device)\\n            outputs = model(train_data_batch)\\n            # compute loss (flatten output in case of ConvAE. targets already flat)\\n            loss = criterion(torch.flatten(outputs, 1), train_targets_batch)\\n            tr_loss += loss.item()\\n            # propagate back the loss\\n            loss.backward()\\n            optimizer.step()\\n            # update progress bar\\n            progbar.update()\\n            progbar.set_postfix(train_loss=f\"{loss.item():.4f}\")\\n        last_batch_loss = loss.item()\\n        tr_loss /= n_batches\\n        history[\\'tr_loss\\'].append(round(tr_loss, 5))\\n\\n        # validation\\n        val_loss = evaluate(model=model, data=val_data, targets=val_targets, criterion=criterion, bs=val_bs)\\n        history[\\'val_loss\\'].append(round(val_loss, 5))\\n        torch.cuda.empty_cache()\\n        progbar.set_postfix(train_loss=f\"{last_batch_loss:.4f}\", val_loss=f\"{val_loss:.4f}\")\\n        progbar.close()\\n\\n        # simple early stopping mechanism\\n        if epoch >= 10:\\n            last_values = history[\\'val_loss\\'][-10:]\\n            if (abs(last_values[-10] - last_values[-1]) <= 2e-5) or (last_values[-3] < last_values[-2] < last_values[-1]):\\n                return history\\n\\n    return history\\n\\n\\ndef evaluate(model, criterion, mode=\\'basic\\', data=None, targets=None, bs=None, **kwargs):\\n    \"\"\" Evaluate the model \"\"\"\\n    # set the data\\n    if data is None:\\n        _, val_set = get_noisy_sets(**kwargs) if mode == \\'denoising\\' else get_clean_sets()\\n        data, targets = val_set.data, val_set.targets\\n    bs = len(data) if bs is None else bs\\n    n_batches = math.ceil(len(data) / bs)\\n    if \\'ConvAutoencoder\\' in model.__class__.__name__:\\n        data = data.to(\\'cpu\\')\\n        targets = targets.to(\\'cpu\\')\\n    else:\\n        data = data.to(device)\\n        targets = targets.to(device)\\n\\n    # evaluate\\n    model.to(device)\\n    model.eval()\\n    with torch.no_grad():\\n        val_loss = 0\\n        for batch_idx in range(n_batches):\\n            data_batch = data[batch_idx * bs: batch_idx * bs + bs].to(device)\\n            targets_batch = targets[batch_idx * bs: batch_idx * bs + bs].to(device)\\n            outputs = model(data_batch)\\n            # flatten outputs in case of ConvAE (targets already flat)\\n            loss = criterion(torch.flatten(outputs, 1), targets_batch)\\n            val_loss += loss.item()\\n    return val_loss / n_batches\\n'"
            ],
            "application/vnd.google.colaboratory.intrinsic+json": {
              "type": "string"
            }
          },
          "metadata": {},
          "execution_count": 11
        }
      ]
    },
    {
      "cell_type": "code",
      "source": [
        "# symmetric autoencoder\n",
        "\n",
        "# set device globally\n",
        "device = torch.device('cuda:0' if torch.cuda.is_available() else 'cpu')\n",
        "\n",
        "class AbstractAutoencoder(nn.Module):\n",
        "    @abstractmethod\n",
        "    def __init__(self):\n",
        "        super().__init__()\n",
        "        self.encoder = None\n",
        "        self.decoder = None\n",
        "\n",
        "    def forward(self, x):\n",
        "        encoded = self.encoder(x)\n",
        "        decoded = self.decoder(encoded)\n",
        "        return decoded\n",
        "\n",
        "    '''def fit(self, mode='basic', tr_data=None, val_data=None, num_epochs=10, bs=32, lr=0.1, momentum=0., **kwargs):\n",
        "        return fit_ae(model=self, mode=mode, tr_data=tr_data, val_data=val_data, num_epochs=num_epochs, bs=bs, lr=lr,\n",
        "                      momentum=momentum, **kwargs)'''\n",
        "\n",
        "    def show_manifold_convergence(self, load=None, path=None, max_iters=1000, thresh=0.02, side_len=28, save=False):\n",
        "        \"\"\"\n",
        "        Show the manifold convergence of an AE when fed with random noise.\n",
        "        The output of the AE is fed again as input in an iterative process.\n",
        "        :param load: if True, load an images progression of the manifold convergence\n",
        "        :param path: path of the images progression\n",
        "        :param max_iters: max number of iterations.\n",
        "        :param thresh: threshold of MSE between 2 iterations under which the process is stopped\n",
        "        :param side_len: length of the side of the images\n",
        "        :param save: if True, save the images progression and the animation\n",
        "        \"\"\"\n",
        "        if load:\n",
        "            images_progression = np.load(path)\n",
        "        else:\n",
        "            self.cpu()\n",
        "            noise_img = torch.randn((1, 1, side_len, side_len))\n",
        "            noise_img -= torch.min(noise_img)\n",
        "            noise_img /= torch.max(noise_img)\n",
        "            images_progression = [torch.squeeze(noise_img)]\n",
        "            serializable_progression = [torch.squeeze(noise_img).cpu().numpy()]\n",
        "\n",
        "            # iterate\n",
        "            i = 0\n",
        "            loss = 1000\n",
        "            input = noise_img\n",
        "            prev_output = None\n",
        "            with torch.no_grad():\n",
        "                while loss > thresh and i < max_iters:\n",
        "                    output = self(input)\n",
        "                    img = torch.reshape(torch.squeeze(output), shape=(side_len, side_len))\n",
        "                    rescaled_img = (img - torch.min(img)) / torch.max(img)\n",
        "                    images_progression.append(rescaled_img)\n",
        "                    serializable_progression.append(rescaled_img.cpu().numpy())\n",
        "                    if prev_output is not None:\n",
        "                        loss = F.mse_loss(output, prev_output)\n",
        "                    prev_output = output\n",
        "                    input = output\n",
        "                    i += 1\n",
        "\n",
        "            # save sequence of images\n",
        "            if save:\n",
        "                serializable_progression = np.array(serializable_progression)\n",
        "                np.save(file=\"manifold_img_seq\", arr=serializable_progression)\n",
        "\n",
        "        if save:\n",
        "            images_progression = images_progression[:60]\n",
        "            frames = []  # for storing the generated images\n",
        "            fig = plt.figure()\n",
        "            for i in range(len(images_progression)):\n",
        "                frames.append([plt.imshow(images_progression[i], animated=True)])\n",
        "            ani = animation.ArtistAnimation(fig, frames, interval=50, blit=True, repeat_delay=1000)\n",
        "            ani.save('movie.gif')\n",
        "            plt.show()\n",
        "        else:\n",
        "            # show images progression\n",
        "            img = None\n",
        "            for i in range(len(images_progression)):\n",
        "                if img is None:\n",
        "                    img = plt.imshow(images_progression[0])\n",
        "                else:\n",
        "                    img.set_data(images_progression[i])\n",
        "                plt.pause(.1)\n",
        "                plt.draw()\n",
        "\n",
        "'''\n",
        "class ShallowAutoencoder(AbstractAutoencoder):\n",
        "    \"\"\" Standard shallow AE with 1 fully-connected layer in the encoder and 1 in the decoder \"\"\"\n",
        "    def __init__(self, input_dim: int = 784, latent_dim: int = 200, use_bias=True):\n",
        "        super().__init__()\n",
        "        assert input_dim > 0 and latent_dim > 0\n",
        "        self.type = \"shallowAE\"\n",
        "        self.encoder = nn.Sequential(nn.Flatten(), nn.Linear(input_dim, latent_dim, bias=use_bias), nn.ReLU(inplace=True))\n",
        "        self.decoder = nn.Sequential(nn.Linear(latent_dim, input_dim, bias=use_bias), nn.Sigmoid())\n",
        "\n",
        "\n",
        "class DeepSymmetricAutoencoder(AbstractAutoencoder):\n",
        "    \"\"\" Standard deep AE \"\"\"\n",
        "    def __init__(self, dims: Sequence[int], use_bias=True):\n",
        "        \"\"\"\n",
        "        :param dims: seq of integers specifying the dimensions of the layers (length of dims = number of layers)\n",
        "        :param use_bias: if False, don't use bias\n",
        "        \"\"\"\n",
        "        super().__init__()\n",
        "        assert len(dims) > 0 and all(d > 0 for d in dims)\n",
        "        self.type = \"deepAE\"\n",
        "        self.use_bias = use_bias\n",
        "        enc_layers = []\n",
        "        dec_layers = []\n",
        "        for i in range(len(dims) - 1):\n",
        "            enc_layers.append(nn.Linear(dims[i], dims[i + 1], bias=use_bias))\n",
        "            enc_layers.append(nn.ReLU(inplace=True))\n",
        "        for i in reversed(range(1, len(dims))):\n",
        "            dec_layers.append(nn.Linear(dims[i], dims[i - 1], bias=use_bias))\n",
        "            dec_layers.append(nn.ReLU(inplace=True))\n",
        "        dec_layers[-1] = nn.Sigmoid()\n",
        "        self.encoder = nn.Sequential(nn.Flatten(), *enc_layers)\n",
        "        self.decoder = nn.Sequential(*dec_layers)\n",
        "\n",
        "    def pretrain_layers(self, num_epochs, bs, lr, momentum, mode='basic', freeze_enc=False, **kwargs):\n",
        "        tr_data = None\n",
        "        val_data = None\n",
        "        for i, layer in enumerate(self.encoder):\n",
        "            if isinstance(layer, nn.Linear):\n",
        "                print(f\"Pretrain layer: {layer}\")\n",
        "                # create shallow AE corresponding to the current layer\n",
        "                shallow_ae = ShallowAutoencoder(layer.in_features, layer.out_features, use_bias=self.use_bias)\n",
        "                if freeze_enc:\n",
        "                    # freeze shallow encoder's weights in case of randomized AE\n",
        "                    shallow_ae.encoder[1].weight.requires_grad = False\n",
        "                # train the shallow AE\n",
        "                shallow_ae.fit(mode=mode, tr_data=tr_data, val_data=val_data, num_epochs=num_epochs, bs=bs, lr=lr,\n",
        "                               momentum=momentum, **kwargs)\n",
        "                if freeze_enc:\n",
        "                    # in case of rand AE, copy shallow decoder's weights transpose in the shallow encoder.\n",
        "                    # This way it's possible to just copy the weights into the original model without further actions\n",
        "                    shallow_ae.encoder[1].weight = nn.Parameter(shallow_ae.decoder[0].weight.T)\n",
        "                # copy shallow AE's weights into the original bigger model\n",
        "                self.encoder[i].weight = nn.Parameter(shallow_ae.encoder[1].weight)\n",
        "                self.decoder[len(self.decoder) - i - 1].weight = nn.Parameter(shallow_ae.decoder[0].weight)\n",
        "                if self.use_bias:\n",
        "                    self.encoder[i].bias = nn.Parameter(shallow_ae.encoder[1].bias)\n",
        "                    self.decoder[len(self.decoder) - i - 1].bias = nn.Parameter(shallow_ae.decoder[0].bias)\n",
        "                # create training set for the next layer\n",
        "                if i == 1 and mode == 'denoising':  # i = 1 --> fist Linear layer\n",
        "                    tr_set, val_set = get_noisy_sets(**kwargs)\n",
        "                    tr_data, tr_targets = tr_set.data, tr_set\n",
        "                    val_data, val_targets = val_set.data, val_set.targets\n",
        "                    mode = 'basic'  # for the pretraining of the deeper layers\n",
        "                tr_data, val_data = self.create_next_layer_sets(shallow_ae=shallow_ae,\n",
        "                                                                prev_tr_data=tr_data,\n",
        "                                                                prev_val_data=val_data)\n",
        "                if num_epochs // 2 > 10:\n",
        "                    num_epochs = num_epochs // 2\n",
        "\n",
        "    @staticmethod\n",
        "    def create_next_layer_sets(shallow_ae, prev_tr_data=None, prev_val_data=None, unsqueeze=True):\n",
        "        \"\"\" Create training data for the next layer during a layer-wise pretraining \"\"\"\n",
        "        train_set, val_set = get_clean_sets()\n",
        "        prev_tr_data = train_set.data if prev_tr_data is None else prev_tr_data\n",
        "        prev_val_data = val_set.data if prev_val_data is None else prev_val_data\n",
        "        with torch.no_grad():\n",
        "            next_tr_data = torch.sigmoid(shallow_ae.encoder(prev_tr_data))\n",
        "            next_val_data = torch.sigmoid(shallow_ae.encoder(prev_val_data))\n",
        "            if unsqueeze:\n",
        "                next_tr_data, next_val_data = torch.unsqueeze(next_tr_data, 1), torch.unsqueeze(next_val_data, 1)\n",
        "        return next_tr_data, next_val_data\n",
        "\n",
        "\n",
        "class DeepSymmetricRandomizedAutoencoder(DeepSymmetricAutoencoder):\n",
        "    def __init__(self, dims: Sequence[int]):\n",
        "        super().__init__(dims=dims, use_bias=False)\n",
        "        self.type = \"deepRandAE\"\n",
        "\n",
        "    def fit(self, num_epochs=10, bs=32, lr=0.1, momentum=0., **kwargs):\n",
        "        \"\"\"\n",
        "        The training of this model is a pretraining of its layers where in the corresponding shallow AE\n",
        "        only its decoder's weights are trained, the encoder's ones are fixed.\n",
        "        Then copy the shallow decoder's weights in the corresponding layer of the bigger decoder\n",
        "        and its transpose in the corresponding layer of the bigger encoder.\n",
        "        \"\"\"\n",
        "        assert 0 < lr < 1 and num_epochs > 0 and bs > 0 and 0 <= momentum < 1\n",
        "        self.pretrain_layers(num_epochs=num_epochs, bs=bs, lr=lr, momentum=momentum, freeze_enc=True)\n",
        "\n",
        "\n",
        "class ShallowConvAutoencoder(AbstractAutoencoder):\n",
        "    \"\"\" Convolutional AE with 1 conv layer in the encoder and 1 in the decoder \"\"\"\n",
        "    def __init__(self, channels=1, n_filters=10, kernel_size: int = 3, central_dim=100,\n",
        "                 inp_side_len: Union[int, Tuple[int, int]] = 28):\n",
        "        super().__init__()\n",
        "        self.type = \"shallowConvAE\"\n",
        "        pad = (kernel_size - 1) // 2  # pad to keep the original area after convolution\n",
        "        central_side_len = math.floor(inp_side_len / 2)\n",
        "        self.encoder = nn.Sequential(\n",
        "            nn.Conv2d(in_channels=channels, out_channels=n_filters, kernel_size=kernel_size, stride=1, padding=pad),\n",
        "            nn.ReLU(inplace=True),\n",
        "            nn.MaxPool2d(kernel_size=2, stride=2),\n",
        "            nn.Flatten(),\n",
        "            nn.Linear(in_features=central_side_len ** 2 * n_filters, out_features=central_dim),\n",
        "            nn.ReLU(inplace=True))\n",
        "\n",
        "        # set kernel size, padding and stride to get the correct output shape\n",
        "        kersize = 2 if central_side_len * 2 == inp_side_len else 3\n",
        "        self.decoder = nn.Sequential(\n",
        "            nn.Linear(in_features=central_dim, out_features=central_side_len ** 2 * n_filters),\n",
        "            nn.ReLU(inplace=True),\n",
        "            nn.Unflatten(dim=1, unflattened_size=(n_filters, central_side_len, central_side_len)),\n",
        "            nn.ConvTranspose2d(in_channels=n_filters, out_channels=channels, kernel_size=kersize, stride=2, padding=0),\n",
        "            nn.Sigmoid())\n",
        "'''\n",
        "\n",
        "class DeepConvSymmetricAutoencoder(AbstractAutoencoder):\n",
        "    \"\"\" Conv AE with variable number of conv layers \"\"\"\n",
        "    def __init__(self, inp_side_len=32, dims=(32, 64), kernel_sizes=3, central_dim=256, pool=True, in_channels=3):\n",
        "        super().__init__()\n",
        "\n",
        "        # initial checks\n",
        "        if isinstance(kernel_sizes, int):\n",
        "            kernel_sizes = [kernel_sizes] * len(dims)\n",
        "        assert len(kernel_sizes) == len(dims) and all(size > 0 for size in kernel_sizes)\n",
        "\n",
        "        # build encoder\n",
        "        step_pool = 1 if len(dims) < 3 else (2 if len(dims) < 6 else 3)\n",
        "        side_len = inp_side_len\n",
        "        side_lengths = [side_len]\n",
        "        dims = (in_channels, *dims)  # Set the first dimension to the number of input channels (e.g., 3 for RGB)\n",
        "        enc_layers = []\n",
        "        for i in range(len(dims) - 1):\n",
        "            pad = (kernel_sizes[i] - 1) // 2\n",
        "            enc_layers.append(nn.Conv2d(in_channels=dims[i], out_channels=dims[i + 1], kernel_size=kernel_sizes[i],\n",
        "                                        padding=pad, stride=1))\n",
        "            enc_layers.append(nn.ReLU(inplace=True))\n",
        "            if pool and (i % step_pool == 0 or i == len(dims) - 1) and side_len > 3:\n",
        "                enc_layers.append(nn.MaxPool2d(kernel_size=2, stride=2, padding=0))\n",
        "                side_len = math.floor(side_len / 2)\n",
        "                side_lengths.append(side_len)\n",
        "\n",
        "        # fully connected layers in the center of the autoencoder to reduce dimensionality\n",
        "        fc_dims = (side_len ** 2 * dims[-1], side_len ** 2 * dims[-1] // 2, central_dim)\n",
        "        self.encoder = nn.Sequential(\n",
        "            *enc_layers,\n",
        "            nn.Flatten(),\n",
        "            nn.Linear(fc_dims[0], fc_dims[1]),\n",
        "            nn.ReLU(inplace=True),\n",
        "            nn.Linear(fc_dims[1], fc_dims[2]),\n",
        "            nn.ReLU(inplace=True)\n",
        "        )\n",
        "\n",
        "        # build decoder\n",
        "        central_side_len = side_lengths.pop(-1)\n",
        "        dec_layers = []\n",
        "        for i in reversed(range(1, len(dims))):\n",
        "            kersize = 2 if len(side_lengths) > 0 and side_len * 2 == side_lengths.pop(-1) else 3\n",
        "            pad, stride = (1, 1) if side_len == inp_side_len else (0, 2)\n",
        "            dec_layers.append(nn.ConvTranspose2d(in_channels=dims[i], out_channels=dims[i - 1], kernel_size=kersize,\n",
        "                                                 padding=pad, stride=stride))\n",
        "            side_len = side_len if pad == 1 else (side_len * 2 if kersize == 2 else side_len * 2 + 1)\n",
        "            dec_layers.append(nn.ReLU(inplace=True))\n",
        "        dec_layers[-1] = nn.Sigmoid()\n",
        "\n",
        "        self.decoder = nn.Sequential(\n",
        "            nn.Linear(fc_dims[2], fc_dims[1]),\n",
        "            nn.ReLU(inplace=True),\n",
        "            nn.Linear(fc_dims[1], fc_dims[0]),\n",
        "            nn.ReLU(inplace=True),\n",
        "            nn.Unflatten(dim=1, unflattened_size=(dims[-1], central_side_len, central_side_len)),\n",
        "            *dec_layers,\n",
        "        )"
      ],
      "metadata": {
        "id": "f-aB4wISp4xv"
      },
      "execution_count": 12,
      "outputs": []
    },
    {
      "cell_type": "markdown",
      "source": [
        "My code starts from here"
      ],
      "metadata": {
        "id": "CCt9pRSRqpa0"
      }
    },
    {
      "cell_type": "code",
      "source": [
        "def load_checkpoint(model, save_dir, num_epochs):\n",
        "    \"\"\"\n",
        "    Loads the latest checkpoint from a specified directory into the model.\n",
        "\n",
        "    Parameters:\n",
        "        model (torch.nn.Module): The model to load the checkpoint into.\n",
        "        save_dir (str): The directory containing checkpoint files.\n",
        "        num_epochs (int): The total number of epochs to train.\n",
        "\n",
        "    Returns:\n",
        "        int: The epoch number to start training from.\n",
        "    \"\"\"\n",
        "    os.makedirs(save_dir, exist_ok=True)\n",
        "\n",
        "    # Check for checkpoint files in the specified directory\n",
        "    checkpoint_files = [f for f in os.listdir(save_dir) if f.endswith('.pth')]\n",
        "    training_finished = False\n",
        "\n",
        "    if checkpoint_files:\n",
        "        if \"model_weights.pth\" in checkpoint_files:\n",
        "            latest_checkpoint_file = \"model_weights.pth\"\n",
        "            training_finished = True\n",
        "        else:\n",
        "            # Find the checkpoint file with the highest epoch number\n",
        "            latest_checkpoint_file = max(checkpoint_files, key=lambda x: int(re.search(r'(\\d+)', x).group()))\n",
        "\n",
        "        # Load the state_dict from the checkpoint file into the model\n",
        "        model.load_state_dict(torch.load(os.path.join(save_dir, latest_checkpoint_file)))\n",
        "\n",
        "        # Determine the starting epoch\n",
        "        start_epoch = num_epochs if training_finished else int(re.search(r'(\\d+)', latest_checkpoint_file).group()) + 1\n",
        "    else:\n",
        "        start_epoch = 0\n",
        "\n",
        "    return start_epoch"
      ],
      "metadata": {
        "id": "FS7K3Su6q1gH"
      },
      "execution_count": 13,
      "outputs": []
    },
    {
      "cell_type": "code",
      "source": [
        "def train_model(model, start_epoch, num_epochs, save_dir, train_loader, val_loader, criterion, optimizer, device, accumulation_steps=1):\n",
        "    \"\"\"\n",
        "    Trains a model and saves checkpoints.\n",
        "\n",
        "    Parameters:\n",
        "        model (torch.nn.Module): The model to train.\n",
        "        start_epoch (int): The starting epoch for resuming training.\n",
        "        num_epochs (int): Total number of epochs to train.\n",
        "        save_dir (str): Directory to save checkpoints.\n",
        "        train_loader (DataLoader): DataLoader for training data.\n",
        "        val_loader (DataLoader): DataLoader for validation data.\n",
        "        criterion: Loss function.\n",
        "        optimizer: Optimizer for model training.\n",
        "        device: Device to perform computations on (e.g., 'cuda' or 'cpu').\n",
        "        accumulation_steps (int): Number of steps to accumulate gradients before updating.\n",
        "    \"\"\"\n",
        "    os.makedirs(save_dir, exist_ok=True)\n",
        "\n",
        "    print(f\"Starting training from epoch {start_epoch + 1}\")\n",
        "    for epoch in range(start_epoch, num_epochs):\n",
        "        model.train()\n",
        "        running_loss = 0.0\n",
        "        accumulated_loss = 0.0\n",
        "\n",
        "        # Training phase\n",
        "        for i, (inputs, _) in enumerate(tqdm(train_loader, desc=f\"Epoch {epoch + 1}/{num_epochs}\")):\n",
        "            inputs = inputs.to(device)\n",
        "            targets = inputs  # For autoencoders, the target is the input itself\n",
        "\n",
        "            # Forward pass\n",
        "            outputs = model(inputs)\n",
        "            loss = criterion(outputs, targets) / accumulation_steps  # Scale the loss\n",
        "\n",
        "            # Backward pass and optimization\n",
        "            loss.backward()\n",
        "            accumulated_loss += loss.item()\n",
        "\n",
        "            # Update the model and reset gradients after accumulation\n",
        "            if (i + 1) % accumulation_steps == 0:\n",
        "                optimizer.step()\n",
        "                optimizer.zero_grad()\n",
        "\n",
        "            running_loss += loss.item()\n",
        "\n",
        "            # Print statistics every 100 mini-batches\n",
        "            if (i + 1) % 100 == 0:\n",
        "                print(f\"[Epoch {epoch + 1}, Batch {i + 1}] loss: {running_loss / 100:.3f}\")\n",
        "                running_loss = 0.0\n",
        "\n",
        "        # Save checkpoint after each epoch\n",
        "        checkpoint_path = os.path.join(save_dir, f'checkpoint_epoch_{epoch + 1}.pth')\n",
        "        torch.save(model.state_dict(), checkpoint_path)\n",
        "        print(f\"Checkpoint saved at {checkpoint_path}\")\n",
        "\n",
        "        # Validation phase - every 10 epochs\n",
        "        if (epoch + 1) % 10 == 0:\n",
        "            model.eval()\n",
        "            val_loss = 0.0\n",
        "            with torch.no_grad():\n",
        "                for inputs, _ in val_loader:\n",
        "                    inputs = inputs.to(device)\n",
        "                    targets = inputs\n",
        "                    outputs = model(inputs)\n",
        "                    loss = criterion(outputs, targets)\n",
        "                    val_loss += loss.item()\n",
        "\n",
        "            val_loss /= len(val_loader)\n",
        "            print(f\"Validation Loss after epoch {epoch + 1}: {val_loss:.4f}\")\n",
        "\n",
        "    print('Finished Training')"
      ],
      "metadata": {
        "id": "QBOKBEDPrnsZ"
      },
      "execution_count": 14,
      "outputs": []
    },
    {
      "cell_type": "code",
      "source": [
        "def display_reconstruction(model, val_loader, device, n=1):\n",
        "    \"\"\"\n",
        "    Displays original and reconstructed images from a model.\n",
        "\n",
        "    Parameters:\n",
        "        model (torch.nn.Module): The autoencoder model.\n",
        "        val_loader (DataLoader): Validation data loader.\n",
        "        device: Device to perform computations on (e.g., 'cuda' or 'cpu').\n",
        "        n (int): Number of images to display.\n",
        "    \"\"\"\n",
        "    model.to(device)\n",
        "    model.eval()\n",
        "\n",
        "    # Obtain one batch of validation data\n",
        "    val_iter = iter(val_loader)\n",
        "    images, _ = next(val_iter)\n",
        "\n",
        "    # Move images to the device\n",
        "    images = images.to(device)\n",
        "\n",
        "    # Pass through the autoencoder to get reconstructed images\n",
        "    with torch.no_grad():\n",
        "        reconstructed_images = model(images)\n",
        "\n",
        "    # Move images back to CPU for visualization\n",
        "    images = images.cpu()\n",
        "    reconstructed_images = reconstructed_images.cpu()\n",
        "\n",
        "    # Display original and reconstructed images\n",
        "    fig, axes = plt.subplots(n, 2, figsize=(6, 3 * n))\n",
        "    for i in range(n):\n",
        "        if n == 1:\n",
        "            axes[0].imshow(transforms.ToPILImage()(images[i]))\n",
        "            axes[0].set_title(\"Original\")\n",
        "            axes[0].axis('off')\n",
        "            axes[1].imshow(transforms.ToPILImage()(reconstructed_images[i]))\n",
        "            axes[1].set_title(\"Reconstructed\")\n",
        "            axes[1].axis('off')\n",
        "        else:\n",
        "            axes[i, 0].imshow(transforms.ToPILImage()(images[i]))\n",
        "            axes[i, 0].set_title(\"Original\")\n",
        "            axes[i, 0].axis('off')\n",
        "            axes[i, 1].imshow(transforms.ToPILImage()(reconstructed_images[i]))\n",
        "            axes[i, 1].set_title(\"Reconstructed\")\n",
        "            axes[i, 1].axis('off')\n",
        "\n",
        "    plt.show()"
      ],
      "metadata": {
        "id": "Feb6vNKksCvP"
      },
      "execution_count": 15,
      "outputs": []
    },
    {
      "cell_type": "code",
      "source": [
        "# Set device\n",
        "device = torch.device('cuda:0' if torch.cuda.is_available() else 'cpu')\n",
        "\n",
        "# Data transformations for CIFAR-100\n",
        "transform = transforms.Compose([\n",
        "    transforms.ToTensor(),\n",
        "    # You can add normalization if needed\n",
        "    # transforms.Normalize((0.5071, 0.4865, 0.4409), (0.2675, 0.2565, 0.2761)),\n",
        "])\n",
        "\n",
        "# Load CIFAR-100 dataset\n",
        "train_dataset = datasets.CIFAR100(root='./data', train=True, download=True, transform=transform)\n",
        "val_dataset = datasets.CIFAR100(root='./data', train=False, download=True, transform=transform)\n",
        "\n",
        "# DataLoaders\n",
        "train_loader = DataLoader(train_dataset, batch_size=64, shuffle=True, num_workers=2)\n",
        "val_loader = DataLoader(val_dataset, batch_size=64, shuffle=False, num_workers=2)\n"
      ],
      "metadata": {
        "colab": {
          "base_uri": "https://localhost:8080/"
        },
        "id": "hWO6LvamXx6f",
        "outputId": "e25af830-4e0c-45b0-85c5-fcef91a6dfbb"
      },
      "execution_count": 16,
      "outputs": [
        {
          "output_type": "stream",
          "name": "stdout",
          "text": [
            "Downloading https://www.cs.toronto.edu/~kriz/cifar-100-python.tar.gz to ./data/cifar-100-python.tar.gz\n"
          ]
        },
        {
          "output_type": "stream",
          "name": "stderr",
          "text": [
            "100%|██████████| 169M/169M [00:02<00:00, 77.8MB/s]\n"
          ]
        },
        {
          "output_type": "stream",
          "name": "stdout",
          "text": [
            "Extracting ./data/cifar-100-python.tar.gz to ./data\n",
            "Files already downloaded and verified\n"
          ]
        }
      ]
    },
    {
      "cell_type": "code",
      "source": [
        "drive.mount('/content/gdrive')\n",
        "num_epochs = 250"
      ],
      "metadata": {
        "colab": {
          "base_uri": "https://localhost:8080/"
        },
        "id": "BHZEI29svXx0",
        "outputId": "b4480167-7cc1-4190-daa2-ecb0c4498c44"
      },
      "execution_count": 17,
      "outputs": [
        {
          "output_type": "stream",
          "name": "stdout",
          "text": [
            "Mounted at /content/gdrive\n"
          ]
        }
      ]
    },
    {
      "cell_type": "code",
      "execution_count": 18,
      "metadata": {
        "id": "gk5hs9xywtBu"
      },
      "outputs": [],
      "source": [
        "# Instantiate your model\n",
        "model = DeepConvSymmetricAutoencoder(\n",
        "    inp_side_len=32,  # CIFAR-100 images are 32x32\n",
        "    dims=(32, 64, 128, 256, 512),    # 5 layers\n",
        "    kernel_sizes=3,\n",
        "    central_dim=256,\n",
        "    in_channels=3  # CIFAR-100 has 3 channels (RGB)\n",
        ").to(device)\n",
        "\n",
        "\n",
        "# Define loss function and optimizer\n",
        "criterion = nn.MSELoss()\n",
        "optimizer = optim.Adam(model.parameters(), lr=0.001)"
      ]
    },
    {
      "cell_type": "code",
      "execution_count": 19,
      "metadata": {
        "id": "IWoWi8bK80j7",
        "colab": {
          "base_uri": "https://localhost:8080/"
        },
        "outputId": "64ff415f-77b5-474a-fe37-d057d0cf3067"
      },
      "outputs": [
        {
          "output_type": "stream",
          "name": "stderr",
          "text": [
            "<ipython-input-13-c97416bc3fbe>:28: FutureWarning: You are using `torch.load` with `weights_only=False` (the current default value), which uses the default pickle module implicitly. It is possible to construct malicious pickle data which will execute arbitrary code during unpickling (See https://github.com/pytorch/pytorch/blob/main/SECURITY.md#untrusted-models for more details). In a future release, the default value for `weights_only` will be flipped to `True`. This limits the functions that could be executed during unpickling. Arbitrary objects will no longer be allowed to be loaded via this mode unless they are explicitly allowlisted by the user via `torch.serialization.add_safe_globals`. We recommend you start setting `weights_only=True` for any use case where you don't have full control of the loaded file. Please open an issue on GitHub for any issues related to this experimental feature.\n",
            "  model.load_state_dict(torch.load(os.path.join(save_dir, latest_checkpoint_file)))\n"
          ]
        }
      ],
      "source": [
        "save_dir_symmetric_ae = '/content/gdrive/My Drive/checkpoints/SymmetricAutoencoder'\n",
        "start_epoch_symmetric = load_checkpoint(model, save_dir_symmetric_ae, num_epochs)"
      ]
    },
    {
      "cell_type": "code",
      "source": [
        "# In order to solve the model's crashing for the 10 dims (out of memory)\n",
        "torch.cuda.empty_cache()\n",
        "os.environ['PYTORCH_CUDA_ALLOC_CONF'] = 'expandable_segments:True'"
      ],
      "metadata": {
        "id": "Q44JY-nA0_Rg"
      },
      "execution_count": 20,
      "outputs": []
    },
    {
      "cell_type": "code",
      "source": [
        "train_model(model, start_epoch_symmetric, num_epochs, save_dir_symmetric_ae, train_loader, val_loader, criterion, optimizer, device)"
      ],
      "metadata": {
        "id": "ELgnq1ZtYisB",
        "colab": {
          "base_uri": "https://localhost:8080/"
        },
        "outputId": "240755ef-83ae-4d93-da2c-4898b0882ff6"
      },
      "execution_count": 21,
      "outputs": [
        {
          "output_type": "stream",
          "name": "stdout",
          "text": [
            "Starting training from epoch 252\n",
            "Finished Training\n"
          ]
        }
      ]
    },
    {
      "cell_type": "code",
      "source": [
        "display_reconstruction(model, val_loader, device, n=1)"
      ],
      "metadata": {
        "colab": {
          "base_uri": "https://localhost:8080/",
          "height": 270
        },
        "id": "s3q5U3hIJogw",
        "outputId": "720ce896-2efd-472b-fc15-1afa185d5863"
      },
      "execution_count": 22,
      "outputs": [
        {
          "output_type": "display_data",
          "data": {
            "text/plain": [
              "<Figure size 600x300 with 2 Axes>"
            ],
            "image/png": "[encoded data removed]"
          },
          "metadata": {}
        }
      ]
    },
    {
      "cell_type": "code",
      "source": [],
      "metadata": {
        "id": "xVSAH_e6tvmt"
      },
      "execution_count": 22,
      "outputs": []
    },
    {
      "cell_type": "markdown",
      "source": [
        "Asymmetric Autoencoders"
      ],
      "metadata": {
        "id": "OE-VLUmCuIU6"
      }
    },
    {
      "cell_type": "code",
      "source": [
        "# My addition - asymmetric autoencoder (currently adjusted for smaller decoder only)\n",
        "\n",
        "def remove_dims(dims, num_layers_less, smaller_part='decoder'):\n",
        "    if num_layers_less >= len(dims):\n",
        "        # If num_layers_less is too large, retain only one dimension\n",
        "        return [dims[0]] if smaller_part == 'encoder' else [dims[-1]]\n",
        "\n",
        "    # if num_layers_less == 0:\n",
        "        # return dims\n",
        "    adjusted_dims = []\n",
        "\n",
        "    times_skipped = 0\n",
        "    if smaller_part == 'encoder':\n",
        "        # Start with the first dimension included\n",
        "        adjusted_dims = [dims[0]]\n",
        "        skip = True  # Start by skipping the second element\n",
        "\n",
        "        # Iterate through remaining dims from start (excluding the first element)\n",
        "        for dim in dims[1:]:\n",
        "          if times_skipped >= num_layers_less:\n",
        "                skip = False\n",
        "          times_skipped = times_skipped + 1\n",
        "          if not skip:\n",
        "              adjusted_dims.append(dim)\n",
        "              times_skipped = times_skipped - 1\n",
        "          skip = not skip  # Toggle skipping\n",
        "\n",
        "\n",
        "    else:  # smaller_part == 'decoder'\n",
        "        # Start with the last dimension included\n",
        "        adjusted_dims = [dims[-1]]\n",
        "        skip = True  # Start by skipping the second-last layer\n",
        "\n",
        "        # Iterate through remaining dims in reverse, excluding the last element\n",
        "        for dim in reversed(dims[:-1]):\n",
        "          if times_skipped >= num_layers_less:\n",
        "              skip = False\n",
        "          times_skipped = times_skipped + 1\n",
        "          if not skip:\n",
        "              adjusted_dims.append(dim)\n",
        "              times_skipped = times_skipped - 1\n",
        "          skip = not skip  # Toggle skipping\n",
        "\n",
        "\n",
        "        # Reverse back to maintain the original order\n",
        "        adjusted_dims.reverse()\n",
        "\n",
        "    return tuple(adjusted_dims)\n",
        "\n",
        "\n",
        "# Function to process kernel sizes for encoder and decoder separately\n",
        "def process_kernel_sizes(kernel_sizes, adjusted_dims_enc, adjusted_dims_dec):\n",
        "    if isinstance(kernel_sizes, int):\n",
        "        # Apply the same kernel size to all encoder and decoder layers\n",
        "        kernel_sizes_enc = [kernel_sizes] * len(adjusted_dims_enc)\n",
        "        kernel_sizes_dec = [kernel_sizes] * len(adjusted_dims_dec)\n",
        "    else:\n",
        "        # Ensure kernel_sizes is long enough for both encoder and decoder, should never get here currently\n",
        "        assert len(kernel_sizes) == len(adjusted_dims_enc) + len(adjusted_dims_dec) - 2, \\\n",
        "        \"kernel_sizes should have length equal to (encoder layers + decoder layers - 2)\"\n",
        "\n",
        "        # Split kernel_sizes between encoder and decoder\n",
        "        kernel_sizes_enc = kernel_sizes[:len(adjusted_dims_enc) - 1]\n",
        "        kernel_sizes_dec = kernel_sizes[len(adjusted_dims_enc) - 1:]\n",
        "\n",
        "    # Verify each kernel size is positive\n",
        "    assert all(size > 0 for size in kernel_sizes_enc + kernel_sizes_dec), \\\n",
        "        \"All kernel sizes must be positive integers\"\n",
        "\n",
        "    return kernel_sizes_enc, kernel_sizes_dec\n",
        "\n",
        "class DeepConvAsymmetricAutoencoder(AbstractAutoencoder):\n",
        "    \"\"\" Conv AE with variable number of conv layers, where either encoder or decoder has fewer layers \"\"\"\n",
        "    def __init__(self, inp_side_len=32, dims=(32, 64), kernel_sizes=3, central_dim=256, pool=True, in_channels=3,\n",
        "                 smaller_part='decoder', num_layers_less=1):\n",
        "        \"\"\"\n",
        "        :param inp_side_len: Input image side length (e.g., 32 for CIFAR)\n",
        "        :param dims: Dimensions of convolutional layers (e.g., (32, 64))\n",
        "        :param kernel_sizes: Kernel sizes for each layer\n",
        "        :param central_dim: Central bottleneck dimension\n",
        "        :param pool: Whether to use pooling\n",
        "        :param in_channels: Number of input channels (3 for RGB)\n",
        "        :param smaller_part: 'encoder' or 'decoder', indicating which part should have fewer layers\n",
        "        :param num_layers_less: How many fewer layers the smaller part should have\n",
        "        \"\"\"\n",
        "        super().__init__()\n",
        "\n",
        "        assert smaller_part in ['encoder', 'decoder'], \"smaller_part must be 'encoder' or 'decoder'\"\n",
        "        assert num_layers_less >= 0, \"num_layers_less must be non-negative\"\n",
        "\n",
        "        # Adjust dims based on which part is smaller\n",
        "        if smaller_part == 'encoder':\n",
        "            adjusted_dims_enc = remove_dims(dims, num_layers_less, smaller_part)\n",
        "            adjusted_dims_dec = dims\n",
        "        else:\n",
        "            adjusted_dims_enc = dims\n",
        "            adjusted_dims_dec = remove_dims(dims, num_layers_less, smaller_part)\n",
        "\n",
        "        kernel_sizes_enc, kernel_sizes_dec = process_kernel_sizes(kernel_sizes, adjusted_dims_enc, adjusted_dims_dec)\n",
        "\n",
        "        # Encoder construction\n",
        "        step_pool = 1 if len(adjusted_dims_enc) < 3 else (2 if len(adjusted_dims_enc) < 6 else 3)\n",
        "        side_len = inp_side_len\n",
        "        side_lengths = [side_len]\n",
        "\n",
        "        adjusted_dims_enc = (in_channels, *adjusted_dims_enc)  # Set the first dimension to input channels\n",
        "        adjusted_dims_dec = (in_channels, *adjusted_dims_dec)  # Ensure the last dimension matches input channels\n",
        "\n",
        "        enc_layers = []\n",
        "        for i in range(len(adjusted_dims_enc) - 1):\n",
        "            pad = (kernel_sizes_enc[i] - 1) // 2\n",
        "            enc_layers.append(nn.Conv2d(in_channels=adjusted_dims_enc[i], out_channels=adjusted_dims_enc[i + 1],\n",
        "                                        kernel_size=kernel_sizes_enc[i], padding=pad, stride=1))\n",
        "            enc_layers.append(nn.ReLU(inplace=True))\n",
        "            if pool and (i % step_pool == 0 or i == len(adjusted_dims_enc) - 1) and side_len > 3:\n",
        "                enc_layers.append(nn.MaxPool2d(kernel_size=2, stride=2, padding=0))\n",
        "                side_len = math.floor(side_len / 2)\n",
        "                side_lengths.append(side_len)\n",
        "\n",
        "        fc_dims_enc = (side_len ** 2 * adjusted_dims_enc[-1], side_len ** 2 * adjusted_dims_enc[-1] // 2, central_dim)\n",
        "        fc_dims_dec = (side_len ** 2 * adjusted_dims_dec[-1], side_len ** 2 * adjusted_dims_dec[-1] // 2, central_dim)\n",
        "        self.encoder = nn.Sequential(\n",
        "            *enc_layers,\n",
        "            nn.Flatten(),\n",
        "            nn.Linear(fc_dims_enc[0], fc_dims_enc[1]),\n",
        "            nn.ReLU(inplace=True),\n",
        "            nn.Linear(fc_dims_enc[1], fc_dims_enc[2]),\n",
        "            nn.ReLU(inplace=True)\n",
        "        )\n",
        "\n",
        "        # Decoder construction\n",
        "        central_side_len = side_lengths.pop(-1)\n",
        "        dec_layers = []\n",
        "        for i in reversed(range(1, len(adjusted_dims_dec))):\n",
        "            kersize = 2 if len(side_lengths) > 0 and side_len * 2 == side_lengths.pop(-1) else 3\n",
        "            pad, stride = (1, 1) if side_len == inp_side_len else (0, 2)\n",
        "            dec_layers.append(nn.ConvTranspose2d(in_channels=adjusted_dims_dec[i], out_channels=adjusted_dims_dec[i - 1], kernel_size=kersize,\n",
        "                                                padding=pad, stride=stride))\n",
        "            side_len = side_len if pad == 1 else (side_len * 2 if kersize == 2 else side_len * 2 + 1)\n",
        "            dec_layers.append(nn.ReLU(inplace=True))\n",
        "        dec_layers[-1] = nn.Sigmoid()\n",
        "\n",
        "        self.decoder = nn.Sequential(\n",
        "            nn.Linear(fc_dims_dec[2], fc_dims_dec[1]),\n",
        "            nn.ReLU(inplace=True),\n",
        "            nn.Linear(fc_dims_dec[1], fc_dims_dec[0]),\n",
        "            nn.ReLU(inplace=True),\n",
        "            nn.Unflatten(dim=1, unflattened_size=(dims[-1], central_side_len, central_side_len)),\n",
        "            *dec_layers,\n",
        "        )"
      ],
      "metadata": {
        "id": "oceGVqER4CAm"
      },
      "execution_count": 23,
      "outputs": []
    },
    {
      "cell_type": "code",
      "source": [
        "# In order to solve the model's crashing for the 10 dims (out of memory)\n",
        "torch.cuda.empty_cache()\n",
        "os.environ['PYTORCH_CUDA_ALLOC_CONF'] = 'expandable_segments:True'"
      ],
      "metadata": {
        "id": "s8h8q1a1A8gn"
      },
      "execution_count": 24,
      "outputs": []
    },
    {
      "cell_type": "code",
      "execution_count": 25,
      "metadata": {
        "id": "S0jemCIIAKT_"
      },
      "outputs": [],
      "source": [
        "# Instantiate your model\n",
        "asym_model_minus2 = DeepConvAsymmetricAutoencoder(\n",
        "    inp_side_len=32,  # CIFAR-100 images are 32x32\n",
        "    dims=(32, 64, 128, 256, 512),    # 5 layers\n",
        "    kernel_sizes=3,\n",
        "    central_dim=256,\n",
        "    num_layers_less=2,\n",
        "    in_channels=3  # CIFAR-100 has 3 channels (RGB)\n",
        ").to(device)\n",
        "\n",
        "\n",
        "# Define loss function and optimizer\n",
        "criterion = nn.MSELoss()\n",
        "optimizer = optim.Adam(asym_model_minus2.parameters(), lr=0.001)"
      ]
    },
    {
      "cell_type": "code",
      "execution_count": 26,
      "metadata": {
        "id": "P49s6qHI3Ent",
        "colab": {
          "base_uri": "https://localhost:8080/"
        },
        "outputId": "43b3d2e7-159f-4ff0-8f68-24e51f17bb00"
      },
      "outputs": [
        {
          "output_type": "stream",
          "name": "stderr",
          "text": [
            "<ipython-input-13-c97416bc3fbe>:28: FutureWarning: You are using `torch.load` with `weights_only=False` (the current default value), which uses the default pickle module implicitly. It is possible to construct malicious pickle data which will execute arbitrary code during unpickling (See https://github.com/pytorch/pytorch/blob/main/SECURITY.md#untrusted-models for more details). In a future release, the default value for `weights_only` will be flipped to `True`. This limits the functions that could be executed during unpickling. Arbitrary objects will no longer be allowed to be loaded via this mode unless they are explicitly allowlisted by the user via `torch.serialization.add_safe_globals`. We recommend you start setting `weights_only=True` for any use case where you don't have full control of the loaded file. Please open an issue on GitHub for any issues related to this experimental feature.\n",
            "  model.load_state_dict(torch.load(os.path.join(save_dir, latest_checkpoint_file)))\n"
          ]
        }
      ],
      "source": [
        "save_dir_asymmetric_ae_minus2 = '/content/gdrive/My Drive/checkpoints/AsymmetricAutoencoderMinus2'\n",
        "start_epoch_asym_minus2 = load_checkpoint(asym_model_minus2, save_dir_asymmetric_ae_minus2, num_epochs)"
      ]
    },
    {
      "cell_type": "code",
      "execution_count": 27,
      "metadata": {
        "id": "xGQhq3lrcQen",
        "colab": {
          "base_uri": "https://localhost:8080/"
        },
        "outputId": "c26da422-6aa9-4334-ccf3-8ed387640b27"
      },
      "outputs": [
        {
          "output_type": "stream",
          "name": "stdout",
          "text": [
            "Starting training from epoch 252\n",
            "Finished Training\n"
          ]
        }
      ],
      "source": [
        "train_model(asym_model_minus2, start_epoch_asym_minus2, num_epochs, save_dir_asymmetric_ae_minus2, train_loader, val_loader, criterion, optimizer, device)"
      ]
    },
    {
      "cell_type": "code",
      "source": [],
      "metadata": {
        "id": "U2R6yx6T4ndc"
      },
      "execution_count": 27,
      "outputs": []
    },
    {
      "cell_type": "code",
      "source": [
        "display_reconstruction(asym_model_minus2, val_loader, device, n=1)"
      ],
      "metadata": {
        "colab": {
          "base_uri": "https://localhost:8080/",
          "height": 270
        },
        "id": "qWomjan7KMsY",
        "outputId": "b6f9fa0c-0664-4cdc-824a-f3985353ede8"
      },
      "execution_count": 28,
      "outputs": [
        {
          "output_type": "display_data",
          "data": {
            "text/plain": [
              "<Figure size 600x300 with 2 Axes>"
            ],
            "image/png": "[encoded data removed]"
          },
          "metadata": {}
        }
      ]
    },
    {
      "cell_type": "code",
      "execution_count": 29,
      "metadata": {
        "id": "eZXwyV_W3yfQ"
      },
      "outputs": [],
      "source": [
        "# Instantiate your model\n",
        "asym_model_minus1 = DeepConvAsymmetricAutoencoder(\n",
        "    inp_side_len=32,  # CIFAR-100 images are 32x32\n",
        "    dims=(32, 64, 128, 256, 512),    # 5 layers\n",
        "    kernel_sizes=3,\n",
        "    central_dim=256,\n",
        "    in_channels=3  # CIFAR-100 has 3 channels (RGB)\n",
        ").to(device)\n",
        "\n",
        "\n",
        "# Define loss function and optimizer\n",
        "criterion = nn.MSELoss()\n",
        "optimizer = optim.Adam(asym_model_minus1.parameters(), lr=0.001)"
      ]
    },
    {
      "cell_type": "code",
      "execution_count": 30,
      "metadata": {
        "id": "oq8xNpqOJtKG",
        "colab": {
          "base_uri": "https://localhost:8080/"
        },
        "outputId": "d58eb14e-4ab6-4cd5-8db8-ea7690c9a325"
      },
      "outputs": [
        {
          "output_type": "stream",
          "name": "stderr",
          "text": [
            "<ipython-input-13-c97416bc3fbe>:28: FutureWarning: You are using `torch.load` with `weights_only=False` (the current default value), which uses the default pickle module implicitly. It is possible to construct malicious pickle data which will execute arbitrary code during unpickling (See https://github.com/pytorch/pytorch/blob/main/SECURITY.md#untrusted-models for more details). In a future release, the default value for `weights_only` will be flipped to `True`. This limits the functions that could be executed during unpickling. Arbitrary objects will no longer be allowed to be loaded via this mode unless they are explicitly allowlisted by the user via `torch.serialization.add_safe_globals`. We recommend you start setting `weights_only=True` for any use case where you don't have full control of the loaded file. Please open an issue on GitHub for any issues related to this experimental feature.\n",
            "  model.load_state_dict(torch.load(os.path.join(save_dir, latest_checkpoint_file)))\n"
          ]
        }
      ],
      "source": [
        "save_dir_asymmetric_ae_minus1 = '/content/gdrive/My Drive/checkpoints/AsymmetricAutoencoderMinus1'\n",
        "start_epoch_asym_minus1 = load_checkpoint(asym_model_minus1, save_dir_asymmetric_ae_minus1, num_epochs)"
      ]
    },
    {
      "cell_type": "code",
      "execution_count": 31,
      "metadata": {
        "id": "ONnfEf_M3yWS",
        "colab": {
          "base_uri": "https://localhost:8080/"
        },
        "outputId": "181e8b0d-1b29-4fee-b65a-48a847724b32"
      },
      "outputs": [
        {
          "output_type": "stream",
          "name": "stdout",
          "text": [
            "Starting training from epoch 252\n",
            "Finished Training\n"
          ]
        }
      ],
      "source": [
        "train_model(asym_model_minus1, start_epoch_asym_minus1, num_epochs, save_dir_asymmetric_ae_minus1, train_loader, val_loader, criterion, optimizer, device)"
      ]
    },
    {
      "cell_type": "code",
      "execution_count": 31,
      "metadata": {
        "id": "KV4Occ9zhAQA"
      },
      "outputs": [],
      "source": []
    },
    {
      "cell_type": "code",
      "source": [
        "display_reconstruction(asym_model_minus1, val_loader, device, n=1)"
      ],
      "metadata": {
        "colab": {
          "base_uri": "https://localhost:8080/",
          "height": 270
        },
        "id": "WSd_PeK9KV8U",
        "outputId": "d06462e9-1c12-4c0d-db46-b5aaea06ffb2"
      },
      "execution_count": 32,
      "outputs": [
        {
          "output_type": "display_data",
          "data": {
            "text/plain": [
              "<Figure size 600x300 with 2 Axes>"
            ],
            "image/png": "[encoded data removed]"
          },
          "metadata": {}
        }
      ]
    },
    {
      "cell_type": "code",
      "execution_count": 32,
      "metadata": {
        "id": "z0PsJsgrsBI-"
      },
      "outputs": [],
      "source": []
    },
    {
      "cell_type": "code",
      "source": [
        "'''\n",
        "sym_model_by_asym_code = DeepConvAsymmetricAutoencoder(\n",
        "    inp_side_len=32,  # CIFAR-100 images are 32x32\n",
        "    dims=(32, 64, 128, 256, 512),    # 5 layers\n",
        "    kernel_sizes=3,\n",
        "    central_dim=256,\n",
        "    num_layers_less=0,\n",
        "    in_channels=3  # CIFAR-100 has 3 channels (RGB)\n",
        ").to(device)\n",
        "\n",
        "\n",
        "# Define loss function and optimizer\n",
        "criterion = nn.MSELoss()\n",
        "optimizer = optim.Adam(sym_model_by_asym_code.parameters(), lr=0.001)\n",
        "\n",
        "save_dir_symmetric_by_asymmetric_code = '/content/gdrive/My Drive/checkpoints/SymmetricAutoencoderByAsymmetricCode'\n",
        "start_epoch_symmetric_by_asym_code = load_checkpoint(sym_model_by_asym_code, save_dir_symmetric_by_asymmetric_code, num_epochs)\n",
        "\n",
        "train_model(\n",
        "    sym_model_by_asym_code,\n",
        "    start_epoch_symmetric_by_asym_code,\n",
        "    num_epochs,\n",
        "    save_dir_symmetric_by_asymmetric_code,\n",
        "    train_loader,\n",
        "    val_loader,\n",
        "    criterion,\n",
        "    optimizer,\n",
        "    device\n",
        ")\n",
        "\n",
        "display_reconstruction(sym_model_by_asym_code, val_loader, device, n=1)\n",
        "'''"
      ],
      "metadata": {
        "colab": {
          "base_uri": "https://localhost:8080/",
          "height": 126
        },
        "id": "JUMTRw9TcBzr",
        "outputId": "0acc75e4-4ecf-4d4e-940c-553b3d5fedeb"
      },
      "execution_count": 33,
      "outputs": [
        {
          "output_type": "execute_result",
          "data": {
            "text/plain": [
              "\"\\nsym_model_by_asym_code = DeepConvAsymmetricAutoencoder(\\n    inp_side_len=32,  # CIFAR-100 images are 32x32\\n    dims=(32, 64, 128, 256, 512),    # 5 layers\\n    kernel_sizes=3,\\n    central_dim=256,\\n    num_layers_less=0,\\n    in_channels=3  # CIFAR-100 has 3 channels (RGB)\\n).to(device)\\n\\n\\n# Define loss function and optimizer\\ncriterion = nn.MSELoss()\\noptimizer = optim.Adam(sym_model_by_asym_code.parameters(), lr=0.001)\\n\\nsave_dir_symmetric_by_asymmetric_code = '/content/gdrive/My Drive/checkpoints/SymmetricAutoencoderByAsymmetricCode'\\nstart_epoch_symmetric_by_asym_code = load_checkpoint(sym_model_by_asym_code, save_dir_symmetric_by_asymmetric_code, num_epochs)\\n\\ntrain_model(\\n    sym_model_by_asym_code,\\n    start_epoch_symmetric_by_asym_code,\\n    num_epochs,\\n    save_dir_symmetric_by_asymmetric_code,\\n    train_loader,\\n    val_loader,\\n    criterion,\\n    optimizer,\\n    device\\n)\\n\\ndisplay_reconstruction(sym_model_by_asym_code, val_loader, device, n=1)\\n\""
            ],
            "application/vnd.google.colaboratory.intrinsic+json": {
              "type": "string"
            }
          },
          "metadata": {},
          "execution_count": 33
        }
      ]
    },
    {
      "cell_type": "code",
      "execution_count": 33,
      "metadata": {
        "id": "MSvXMRGkgfoN"
      },
      "outputs": [],
      "source": []
    },
    {
      "cell_type": "code",
      "execution_count": 33,
      "metadata": {
        "id": "mlKN5sDwdv50"
      },
      "outputs": [],
      "source": []
    },
    {
      "cell_type": "code",
      "execution_count": 33,
      "metadata": {
        "id": "sCG9df5AQYlK"
      },
      "outputs": [],
      "source": []
    },
    {
      "cell_type": "code",
      "execution_count": 33,
      "metadata": {
        "id": "b4EkyZidGpqa"
      },
      "outputs": [],
      "source": []
    },
    {
      "cell_type": "code",
      "execution_count": 33,
      "metadata": {
        "id": "2JdUt-urFv9K"
      },
      "outputs": [],
      "source": []
    },
    {
      "cell_type": "code",
      "execution_count": 33,
      "metadata": {
        "id": "1Edj_W-i3yCf"
      },
      "outputs": [],
      "source": []
    },
    {
      "cell_type": "code",
      "execution_count": 33,
      "metadata": {
        "id": "4LMbpZ0pzsCr"
      },
      "outputs": [],
      "source": []
    },
    {
      "cell_type": "code",
      "execution_count": 33,
      "metadata": {
        "id": "FzOvO6-WCVi7"
      },
      "outputs": [],
      "source": []
    }
  ],
  "metadata": {
    "colab": {
      "provenance": [],
      "machine_shape": "hm",
      "gpuType": "T4"
    },
    "kernelspec": {
      "display_name": "Python 3",
      "name": "python3"
    },
    "language_info": {
      "name": "python"
    },
    "accelerator": "GPU"
  },
  "nbformat": 4,
  "nbformat_minor": 0
}
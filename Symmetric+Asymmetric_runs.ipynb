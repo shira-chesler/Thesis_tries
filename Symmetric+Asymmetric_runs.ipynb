{
  "cells": [
    {
      "cell_type": "markdown",
      "metadata": {
        "id": "view-in-github",
        "colab_type": "text"
      },
      "source": [
        "<a href=\"https://colab.research.google.com/github/shira-chesler/Thesis_tries/blob/main/Symmetric%2BAsymmetric_runs.ipynb\" target=\"_parent\"><img src=\"https://colab.research.google.com/assets/colab-badge.svg\" alt=\"Open In Colab\"/></a>"
      ]
    },
    {
      "cell_type": "code",
      "execution_count": null,
      "metadata": {
        "colab": {
          "base_uri": "https://localhost:8080/"
        },
        "id": "pA6vP5rd8WWX",
        "outputId": "9ad321b5-587d-4e9b-f31e-be7d754ebb28"
      },
      "outputs": [
        {
          "output_type": "stream",
          "name": "stdout",
          "text": [
            "Requirement already satisfied: torchvision in /usr/local/lib/python3.10/dist-packages (0.20.0+cu121)\n",
            "Requirement already satisfied: numpy in /usr/local/lib/python3.10/dist-packages (from torchvision) (1.26.4)\n",
            "Requirement already satisfied: torch==2.5.0 in /usr/local/lib/python3.10/dist-packages (from torchvision) (2.5.0+cu121)\n",
            "Requirement already satisfied: pillow!=8.3.*,>=5.3.0 in /usr/local/lib/python3.10/dist-packages (from torchvision) (10.4.0)\n",
            "Requirement already satisfied: filelock in /usr/local/lib/python3.10/dist-packages (from torch==2.5.0->torchvision) (3.16.1)\n",
            "Requirement already satisfied: typing-extensions>=4.8.0 in /usr/local/lib/python3.10/dist-packages (from torch==2.5.0->torchvision) (4.12.2)\n",
            "Requirement already satisfied: networkx in /usr/local/lib/python3.10/dist-packages (from torch==2.5.0->torchvision) (3.4.2)\n",
            "Requirement already satisfied: jinja2 in /usr/local/lib/python3.10/dist-packages (from torch==2.5.0->torchvision) (3.1.4)\n",
            "Requirement already satisfied: fsspec in /usr/local/lib/python3.10/dist-packages (from torch==2.5.0->torchvision) (2024.6.1)\n",
            "Requirement already satisfied: sympy==1.13.1 in /usr/local/lib/python3.10/dist-packages (from torch==2.5.0->torchvision) (1.13.1)\n",
            "Requirement already satisfied: mpmath<1.4,>=1.1.0 in /usr/local/lib/python3.10/dist-packages (from sympy==1.13.1->torch==2.5.0->torchvision) (1.3.0)\n",
            "Requirement already satisfied: MarkupSafe>=2.0 in /usr/local/lib/python3.10/dist-packages (from jinja2->torch==2.5.0->torchvision) (3.0.2)\n"
          ]
        }
      ],
      "source": [
        "!pip install torchvision"
      ]
    },
    {
      "cell_type": "markdown",
      "source": [
        "4 next cells are from [This github repository](https://github.com/AlexPasqua/Autoencoders/tree/main), changed to match the dataset we intend to work on currently (CIFAR100)."
      ],
      "metadata": {
        "id": "PuLTSqJ75qGd"
      }
    },
    {
      "cell_type": "code",
      "source": [
        "# custom_mnist but changed to be for CIFAR100\n",
        "import copy\n",
        "import random\n",
        "import torch\n",
        "from torchvision.datasets import CIFAR100\n",
        "\n",
        "\n",
        "device = torch.device('cuda:0' if torch.cuda.is_available() else 'cpu')\n",
        "\n",
        "\n",
        "class FastCIFAR100(CIFAR100):\n",
        "    \"\"\"\n",
        "    The base of this class is taken from GitHub Gist, then I adapted it to my needs.\n",
        "    Author: Joost van Amersfoort (y0ast)\n",
        "    link: https://gist.github.com/y0ast/f69966e308e549f013a92dc66debeeb4\n",
        "    \"\"\"\n",
        "    def __init__(self, *args, **kwargs):\n",
        "        super().__init__(*args, **kwargs)\n",
        "\n",
        "        # Scale data to [0,1]\n",
        "        self.data = self.data.unsqueeze(1).float().div(255)\n",
        "\n",
        "        # Normalize it with the usual CIFAR100 mean and std\n",
        "        # self.data = self.data.sub_(0.1307).div_(0.3081)\n",
        "\n",
        "        # Since I'm working with autoencoders, 'targets' becomes a copy of the data. The labels are now stored\n",
        "        # in the variable 'labels'. Also put everything on GPU in advance, since the dataset is small.\n",
        "        # This lets me bypass PyTorch's DataLoaders and speed up the training.\n",
        "        self.data = self.data.to(device)\n",
        "        self.labels = self.targets.to(device)\n",
        "        self.targets = torch.flatten(copy.deepcopy(self.data), start_dim=1)\n",
        "\n",
        "    def __getitem__(self, index):\n",
        "        \"\"\"\n",
        "        Args:\n",
        "            index (int): Index\n",
        "\n",
        "        Returns:\n",
        "            tuple: (image, target) where target is index of the target class.\n",
        "        \"\"\"\n",
        "        img, target, label = self.data[index], self.targets[index], self.labels[index]\n",
        "        return img, target, label\n",
        "\n",
        "\n",
        "class NoisyCIFAR100(FastCIFAR100):\n",
        "    \"\"\" subclass of FastCIFAR100 with data=noisy_data and targets=clean_data (instead of labels) \"\"\"\n",
        "    def __init__(self, noise_const=0.1, patch_width=0, *args, **kwargs):\n",
        "        super().__init__(*args, **kwargs)\n",
        "        self.data += noise_const * torch.randn(self.data.shape).to(device)\n",
        "        self.data -= torch.min(self.data)\n",
        "        self.data /= torch.max(self.data)\n",
        "        if patch_width > 0:\n",
        "            for img in self.data:\n",
        "                start = random.randint(0, img.shape[-1] - patch_width - 1)\n",
        "                img[:, start: start + patch_width, start: start + patch_width] = 0"
      ],
      "metadata": {
        "id": "E7R6Qrkf3pd0"
      },
      "execution_count": null,
      "outputs": []
    },
    {
      "cell_type": "code",
      "source": [
        "# custom_losses\n",
        "import torch\n",
        "from torch import Tensor\n",
        "import torch.nn.modules.loss as loss\n",
        "\n",
        "\n",
        "class ContractiveLoss(loss.MSELoss):\n",
        "    \"\"\"\n",
        "    Custom loss for contractive autoencoders.\n",
        "\n",
        "    note: the superclass is MSELoss, simply because the base class _Loss is protected and it's not a best practice.\n",
        "          there isn't a real reason between the choice of MSELoss, since the forward method is overridden completely.\n",
        "\n",
        "    Overridden for elasticity -> it's possible to use a function as a custom loss, but having a wrapper class\n",
        "    allows to do:\n",
        "        criterion = ClassOfWhateverLoss()\n",
        "        loss = criterion(output, target)    # this line always the same regardless of the type on loss\n",
        "    \"\"\"\n",
        "    def __init__(self, ae, lambd: float, size_average=None, reduce=None, reduction: str = 'mean') -> None:\n",
        "        super(ContractiveLoss, self).__init__(size_average, reduce, reduction)\n",
        "        self.ae = ae\n",
        "        self.lambd = lambd\n",
        "\n",
        "    def forward(self, input: Tensor, target: Tensor) -> Tensor:\n",
        "        return contractive_loss(input, target, self.lambd, self.ae, self.reduction)\n",
        "\n",
        "\n",
        "def contractive_loss(input, target, lambd, ae, reduction: str):\n",
        "    \"\"\"\n",
        "    Actual function computing the loss of a contractive autoencoder\n",
        "    :param input: (Tensor)\n",
        "    :param target: (Tensor)\n",
        "    :param lambd: (float) regularization parameter\n",
        "    :param ae: (DeepAutoencoder) the model itself, used to get it's weights\n",
        "    :param reduction: (str) type of reduction {'mean' | 'sum'}\n",
        "    :raises: ValueError\n",
        "    :return: the loss\n",
        "    \"\"\"\n",
        "    term1 = (input - target) ** 2\n",
        "    enc_weights = [ae.encoder[i].weight for i in reversed(range(1, len(ae.encoder), 2))]\n",
        "    term2 = lambd * torch.norm(torch.chain_matmul(*enc_weights))\n",
        "    contr_loss = torch.mean(term1 + term2, 0)\n",
        "    if reduction == 'mean':\n",
        "        return torch.mean(contr_loss)\n",
        "    elif reduction == 'sum':\n",
        "        return torch.sum(contr_loss)\n",
        "    else:\n",
        "        raise ValueError(f\"value for 'reduction' must be 'mean' or 'sum', got {reduction}\")"
      ],
      "metadata": {
        "id": "1py0TP4n3IcM"
      },
      "execution_count": null,
      "outputs": []
    },
    {
      "cell_type": "code",
      "source": [
        "# training_utilities\n",
        "import copy\n",
        "import math\n",
        "import warnings\n",
        "import torch\n",
        "import torch.nn as nn\n",
        "from torchvision import transforms\n",
        "from tqdm import tqdm\n",
        "# from custom_losses import ContractiveLoss\n",
        "# from custom_mnist import FastCIFAR100, NoisyCIFAR100\n",
        "\n",
        "\n",
        "# set device globally\n",
        "device = torch.device('cuda:0' if torch.cuda.is_available() else 'cpu')\n",
        "\n",
        "# these variables will be allocated only if needed\n",
        "CIFAR100_train = None\n",
        "CIFAR100_test = None\n",
        "noisy_CIFAR100_train = None\n",
        "noisy_CIFAR100_test = None\n",
        "\n",
        "\n",
        "def get_clean_sets():\n",
        "    global CIFAR100_train\n",
        "    global CIFAR100_test\n",
        "    if CIFAR100_train is None:\n",
        "        CIFAR100_train = FastCIFAR100(root='../CIFAR100/', train=True, download=True, transform=transforms.ToTensor())\n",
        "        CIFAR100_test = FastCIFAR100(root='../CIFAR100/', train=False, download=True, transform=transforms.ToTensor())\n",
        "    return CIFAR100_train, CIFAR100_test\n",
        "\n",
        "\n",
        "def get_noisy_sets(**kwargs):\n",
        "    global noisy_CIFAR100_train\n",
        "    global noisy_CIFAR100_test\n",
        "    if noisy_CIFAR100_train is None:\n",
        "        noisy_CIFAR100_train = NoisyCIFAR100(root='../CIFAR100/', train=True, download=True, transform=transforms.ToTensor(), **kwargs)\n",
        "        noisy_CIFAR100_test = NoisyCIFAR100(root='../CIFAR100/', train=False, download=True, transform=transforms.ToTensor(), **kwargs)\n",
        "    return noisy_CIFAR100_train, noisy_CIFAR100_test\n",
        "\n",
        "\n",
        "def fit_ae(model, mode=None, tr_data=None, val_data=None, num_epochs=10, bs=32, lr=0.1, momentum=0., **kwargs):\n",
        "    \"\"\"\n",
        "    Training functions for the AEs\n",
        "    :param model: model to train\n",
        "    :param mode: (str) {'basic | 'contractive' | 'denoising'}\n",
        "    :param tr_data: (optional) specific training data to use\n",
        "    :param val_data: (optional) specific validation data to use\n",
        "    :param num_epochs: (int) number of epochs\n",
        "    :param bs: (int) batch size\n",
        "    :param lr: (float) learning rate\n",
        "    :param momentum: (float) momentum coefficient\n",
        "    :return: history of training (like in Keras)\n",
        "    \"\"\"\n",
        "    mode_values = (None, 'basic', 'contractive', 'denoising')\n",
        "    assert 0 < lr < 1 and num_epochs > 0 and bs > 0 and 0 <= momentum < 1 and mode in mode_values\n",
        "\n",
        "    # set the device: GPU if cuda is available, else CPU\n",
        "    model.to(device)\n",
        "\n",
        "    # set optimizer, loss type and datasets (depending on the type of AE)\n",
        "    optimizer = torch.optim.SGD(model.parameters(), lr=lr, momentum=momentum)\n",
        "    criterion = ContractiveLoss(ae=model, lambd=1e-4) if mode == 'contractive' else nn.MSELoss()\n",
        "    if mode == 'denoising':\n",
        "        if tr_data is not None or val_data is not None:\n",
        "            warnings.warn(\"'denoising' flag was set, so NoisyCIFAR100 will be used for training and validation\")\n",
        "        noisy_train, noisy_val = get_noisy_sets(**kwargs)\n",
        "        tr_data, tr_targets = noisy_train.data, noisy_train.targets\n",
        "        val_data, val_targets = noisy_val.data, noisy_val.targets\n",
        "        del noisy_train, noisy_val\n",
        "    else:\n",
        "        tr_set, val_set = get_clean_sets()\n",
        "        if tr_data is None:\n",
        "            tr_data, tr_targets = tr_set.data, tr_set.targets\n",
        "        else:\n",
        "            tr_data = tr_data.to(device)\n",
        "            tr_targets = torch.flatten(copy.deepcopy(tr_data), start_dim=1)\n",
        "        if val_data is None:\n",
        "            val_data, val_targets = val_set.data, val_set.targets\n",
        "        else:\n",
        "            val_data = val_data.to(device)\n",
        "            val_targets = torch.flatten(copy.deepcopy(val_data), start_dim=1)\n",
        "        del tr_set, val_set\n",
        "    if 'ConvAutoencoder' in model.__class__.__name__:\n",
        "        val_bs = bs\n",
        "        tr_data, tr_targets = tr_data.cpu(), tr_targets.cpu()\n",
        "        val_data, val_targets = val_data.cpu(), val_targets.cpu()\n",
        "    else:\n",
        "        val_bs = None\n",
        "    torch.cuda.empty_cache()\n",
        "\n",
        "    # training cycle\n",
        "    loss = None  # just to avoid reference before assigment\n",
        "    history = {'tr_loss': [], 'val_loss': []}\n",
        "    for epoch in range(num_epochs):\n",
        "        # training\n",
        "        model.train()\n",
        "        tr_loss = 0\n",
        "        n_batches = math.ceil(len(tr_data) / bs)\n",
        "        # shuffle\n",
        "        indexes = torch.randperm(tr_data.shape[0])\n",
        "        tr_data = tr_data[indexes]\n",
        "        tr_targets = tr_targets[indexes]\n",
        "        progbar = tqdm(range(n_batches), total=n_batches)\n",
        "        progbar.set_description(f\"Epoch [{epoch + 1}/{num_epochs}]\")\n",
        "        for batch_idx in range(n_batches):\n",
        "            # zero the gradient\n",
        "            optimizer.zero_grad()\n",
        "            # select a (mini)batch from the training set and compute net's outputs\n",
        "            train_data_batch = tr_data[batch_idx * bs: batch_idx * bs + bs].to(device)\n",
        "            train_targets_batch = tr_targets[batch_idx * bs: batch_idx * bs + bs].to(device)\n",
        "            outputs = model(train_data_batch)\n",
        "            # compute loss (flatten output in case of ConvAE. targets already flat)\n",
        "            loss = criterion(torch.flatten(outputs, 1), train_targets_batch)\n",
        "            tr_loss += loss.item()\n",
        "            # propagate back the loss\n",
        "            loss.backward()\n",
        "            optimizer.step()\n",
        "            # update progress bar\n",
        "            progbar.update()\n",
        "            progbar.set_postfix(train_loss=f\"{loss.item():.4f}\")\n",
        "        last_batch_loss = loss.item()\n",
        "        tr_loss /= n_batches\n",
        "        history['tr_loss'].append(round(tr_loss, 5))\n",
        "\n",
        "        # validation\n",
        "        val_loss = evaluate(model=model, data=val_data, targets=val_targets, criterion=criterion, bs=val_bs)\n",
        "        history['val_loss'].append(round(val_loss, 5))\n",
        "        torch.cuda.empty_cache()\n",
        "        progbar.set_postfix(train_loss=f\"{last_batch_loss:.4f}\", val_loss=f\"{val_loss:.4f}\")\n",
        "        progbar.close()\n",
        "\n",
        "        # simple early stopping mechanism\n",
        "        if epoch >= 10:\n",
        "            last_values = history['val_loss'][-10:]\n",
        "            if (abs(last_values[-10] - last_values[-1]) <= 2e-5) or (last_values[-3] < last_values[-2] < last_values[-1]):\n",
        "                return history\n",
        "\n",
        "    return history\n",
        "\n",
        "\n",
        "def evaluate(model, criterion, mode='basic', data=None, targets=None, bs=None, **kwargs):\n",
        "    \"\"\" Evaluate the model \"\"\"\n",
        "    # set the data\n",
        "    if data is None:\n",
        "        _, val_set = get_noisy_sets(**kwargs) if mode == 'denoising' else get_clean_sets()\n",
        "        data, targets = val_set.data, val_set.targets\n",
        "    bs = len(data) if bs is None else bs\n",
        "    n_batches = math.ceil(len(data) / bs)\n",
        "    if 'ConvAutoencoder' in model.__class__.__name__:\n",
        "        data = data.to('cpu')\n",
        "        targets = targets.to('cpu')\n",
        "    else:\n",
        "        data = data.to(device)\n",
        "        targets = targets.to(device)\n",
        "\n",
        "    # evaluate\n",
        "    model.to(device)\n",
        "    model.eval()\n",
        "    with torch.no_grad():\n",
        "        val_loss = 0\n",
        "        for batch_idx in range(n_batches):\n",
        "            data_batch = data[batch_idx * bs: batch_idx * bs + bs].to(device)\n",
        "            targets_batch = targets[batch_idx * bs: batch_idx * bs + bs].to(device)\n",
        "            outputs = model(data_batch)\n",
        "            # flatten outputs in case of ConvAE (targets already flat)\n",
        "            loss = criterion(torch.flatten(outputs, 1), targets_batch)\n",
        "            val_loss += loss.item()\n",
        "    return val_loss / n_batches"
      ],
      "metadata": {
        "id": "2bOBd7Va29R2"
      },
      "execution_count": null,
      "outputs": []
    },
    {
      "cell_type": "code",
      "source": [
        "# symmetric autoencoder\n",
        "\n",
        "import math\n",
        "from abc import abstractmethod\n",
        "import numpy as np\n",
        "import torch\n",
        "import torch.nn.functional as F\n",
        "import torch.nn as nn\n",
        "import matplotlib.pyplot as plt\n",
        "import matplotlib.animation as animation\n",
        "from typing import Sequence, Union, Tuple\n",
        "# from training_utilities import get_clean_sets, get_noisy_sets, fit_ae\n",
        "\n",
        "\n",
        "# set device globally\n",
        "device = torch.device('cuda:0' if torch.cuda.is_available() else 'cpu')\n",
        "\n",
        "\n",
        "class AbstractAutoencoder(nn.Module):\n",
        "    @abstractmethod\n",
        "    def __init__(self):\n",
        "        super().__init__()\n",
        "        self.encoder = None\n",
        "        self.decoder = None\n",
        "\n",
        "    def forward(self, x):\n",
        "        # print(f\"Input shape: {x.shape}\")\n",
        "        encoded = self.encoder(x)\n",
        "        # print(f\"Encoded shape: {encoded.shape}\")\n",
        "        decoded = self.decoder(encoded)\n",
        "        # print(f\"Output shape: {decoded.shape}\")\n",
        "        return decoded\n",
        "\n",
        "    def fit(self, mode='basic', tr_data=None, val_data=None, num_epochs=10, bs=32, lr=0.1, momentum=0., **kwargs):\n",
        "        return fit_ae(model=self, mode=mode, tr_data=tr_data, val_data=val_data, num_epochs=num_epochs, bs=bs, lr=lr,\n",
        "                      momentum=momentum, **kwargs)\n",
        "\n",
        "    def show_manifold_convergence(self, load=None, path=None, max_iters=1000, thresh=0.02, side_len=28, save=False):\n",
        "        \"\"\"\n",
        "        Show the manifold convergence of an AE when fed with random noise.\n",
        "        The output of the AE is fed again as input in an iterative process.\n",
        "        :param load: if True, load an images progression of the manifold convergence\n",
        "        :param path: path of the images progression\n",
        "        :param max_iters: max number of iterations.\n",
        "        :param thresh: threshold of MSE between 2 iterations under which the process is stopped\n",
        "        :param side_len: length of the side of the images\n",
        "        :param save: if True, save the images progression and the animation\n",
        "        \"\"\"\n",
        "        if load:\n",
        "            images_progression = np.load(path)\n",
        "        else:\n",
        "            self.cpu()\n",
        "            noise_img = torch.randn((1, 1, side_len, side_len))\n",
        "            noise_img -= torch.min(noise_img)\n",
        "            noise_img /= torch.max(noise_img)\n",
        "            images_progression = [torch.squeeze(noise_img)]\n",
        "            serializable_progression = [torch.squeeze(noise_img).cpu().numpy()]\n",
        "\n",
        "            # iterate\n",
        "            i = 0\n",
        "            loss = 1000\n",
        "            input = noise_img\n",
        "            prev_output = None\n",
        "            with torch.no_grad():\n",
        "                while loss > thresh and i < max_iters:\n",
        "                    output = self(input)\n",
        "                    img = torch.reshape(torch.squeeze(output), shape=(side_len, side_len))\n",
        "                    rescaled_img = (img - torch.min(img)) / torch.max(img)\n",
        "                    images_progression.append(rescaled_img)\n",
        "                    serializable_progression.append(rescaled_img.cpu().numpy())\n",
        "                    if prev_output is not None:\n",
        "                        loss = F.mse_loss(output, prev_output)\n",
        "                    prev_output = output\n",
        "                    input = output\n",
        "                    i += 1\n",
        "\n",
        "            # save sequence of images\n",
        "            if save:\n",
        "                serializable_progression = np.array(serializable_progression)\n",
        "                np.save(file=\"manifold_img_seq\", arr=serializable_progression)\n",
        "\n",
        "        if save:\n",
        "            images_progression = images_progression[:60]\n",
        "            frames = []  # for storing the generated images\n",
        "            fig = plt.figure()\n",
        "            for i in range(len(images_progression)):\n",
        "                frames.append([plt.imshow(images_progression[i], animated=True)])\n",
        "            ani = animation.ArtistAnimation(fig, frames, interval=50, blit=True, repeat_delay=1000)\n",
        "            ani.save('movie.gif')\n",
        "            plt.show()\n",
        "        else:\n",
        "            # show images progression\n",
        "            img = None\n",
        "            for i in range(len(images_progression)):\n",
        "                if img is None:\n",
        "                    img = plt.imshow(images_progression[0])\n",
        "                else:\n",
        "                    img.set_data(images_progression[i])\n",
        "                plt.pause(.1)\n",
        "                plt.draw()\n",
        "\n",
        "\n",
        "class ShallowAutoencoder(AbstractAutoencoder):\n",
        "    \"\"\" Standard shallow AE with 1 fully-connected layer in the encoder and 1 in the decoder \"\"\"\n",
        "    def __init__(self, input_dim: int = 784, latent_dim: int = 200, use_bias=True):\n",
        "        super().__init__()\n",
        "        assert input_dim > 0 and latent_dim > 0\n",
        "        self.type = \"shallowAE\"\n",
        "        self.encoder = nn.Sequential(nn.Flatten(), nn.Linear(input_dim, latent_dim, bias=use_bias), nn.ReLU(inplace=True))\n",
        "        self.decoder = nn.Sequential(nn.Linear(latent_dim, input_dim, bias=use_bias), nn.Sigmoid())\n",
        "\n",
        "\n",
        "class DeepSymmetricAutoencoder(AbstractAutoencoder):\n",
        "    \"\"\" Standard deep AE \"\"\"\n",
        "    def __init__(self, dims: Sequence[int], use_bias=True):\n",
        "        \"\"\"\n",
        "        :param dims: seq of integers specifying the dimensions of the layers (length of dims = number of layers)\n",
        "        :param use_bias: if False, don't use bias\n",
        "        \"\"\"\n",
        "        super().__init__()\n",
        "        assert len(dims) > 0 and all(d > 0 for d in dims)\n",
        "        self.type = \"deepAE\"\n",
        "        self.use_bias = use_bias\n",
        "        enc_layers = []\n",
        "        dec_layers = []\n",
        "        for i in range(len(dims) - 1):\n",
        "            enc_layers.append(nn.Linear(dims[i], dims[i + 1], bias=use_bias))\n",
        "            enc_layers.append(nn.ReLU(inplace=True))\n",
        "        for i in reversed(range(1, len(dims))):\n",
        "            dec_layers.append(nn.Linear(dims[i], dims[i - 1], bias=use_bias))\n",
        "            dec_layers.append(nn.ReLU(inplace=True))\n",
        "        dec_layers[-1] = nn.Sigmoid()\n",
        "        self.encoder = nn.Sequential(nn.Flatten(), *enc_layers)\n",
        "        self.decoder = nn.Sequential(*dec_layers)\n",
        "\n",
        "    def pretrain_layers(self, num_epochs, bs, lr, momentum, mode='basic', freeze_enc=False, **kwargs):\n",
        "        tr_data = None\n",
        "        val_data = None\n",
        "        for i, layer in enumerate(self.encoder):\n",
        "            if isinstance(layer, nn.Linear):\n",
        "                print(f\"Pretrain layer: {layer}\")\n",
        "                # create shallow AE corresponding to the current layer\n",
        "                shallow_ae = ShallowAutoencoder(layer.in_features, layer.out_features, use_bias=self.use_bias)\n",
        "                if freeze_enc:\n",
        "                    # freeze shallow encoder's weights in case of randomized AE\n",
        "                    shallow_ae.encoder[1].weight.requires_grad = False\n",
        "                # train the shallow AE\n",
        "                shallow_ae.fit(mode=mode, tr_data=tr_data, val_data=val_data, num_epochs=num_epochs, bs=bs, lr=lr,\n",
        "                               momentum=momentum, **kwargs)\n",
        "                if freeze_enc:\n",
        "                    # in case of rand AE, copy shallow decoder's weights transpose in the shallow encoder.\n",
        "                    # This way it's possible to just copy the weights into the original model without further actions\n",
        "                    shallow_ae.encoder[1].weight = nn.Parameter(shallow_ae.decoder[0].weight.T)\n",
        "                # copy shallow AE's weights into the original bigger model\n",
        "                self.encoder[i].weight = nn.Parameter(shallow_ae.encoder[1].weight)\n",
        "                self.decoder[len(self.decoder) - i - 1].weight = nn.Parameter(shallow_ae.decoder[0].weight)\n",
        "                if self.use_bias:\n",
        "                    self.encoder[i].bias = nn.Parameter(shallow_ae.encoder[1].bias)\n",
        "                    self.decoder[len(self.decoder) - i - 1].bias = nn.Parameter(shallow_ae.decoder[0].bias)\n",
        "                # create training set for the next layer\n",
        "                if i == 1 and mode == 'denoising':  # i = 1 --> fist Linear layer\n",
        "                    tr_set, val_set = get_noisy_sets(**kwargs)\n",
        "                    tr_data, tr_targets = tr_set.data, tr_set\n",
        "                    val_data, val_targets = val_set.data, val_set.targets\n",
        "                    mode = 'basic'  # for the pretraining of the deeper layers\n",
        "                tr_data, val_data = self.create_next_layer_sets(shallow_ae=shallow_ae,\n",
        "                                                                prev_tr_data=tr_data,\n",
        "                                                                prev_val_data=val_data)\n",
        "                if num_epochs // 2 > 10:\n",
        "                    num_epochs = num_epochs // 2\n",
        "\n",
        "    @staticmethod\n",
        "    def create_next_layer_sets(shallow_ae, prev_tr_data=None, prev_val_data=None, unsqueeze=True):\n",
        "        \"\"\" Create training data for the next layer during a layer-wise pretraining \"\"\"\n",
        "        train_set, val_set = get_clean_sets()\n",
        "        prev_tr_data = train_set.data if prev_tr_data is None else prev_tr_data\n",
        "        prev_val_data = val_set.data if prev_val_data is None else prev_val_data\n",
        "        with torch.no_grad():\n",
        "            next_tr_data = torch.sigmoid(shallow_ae.encoder(prev_tr_data))\n",
        "            next_val_data = torch.sigmoid(shallow_ae.encoder(prev_val_data))\n",
        "            if unsqueeze:\n",
        "                next_tr_data, next_val_data = torch.unsqueeze(next_tr_data, 1), torch.unsqueeze(next_val_data, 1)\n",
        "        return next_tr_data, next_val_data\n",
        "\n",
        "\n",
        "class DeepSymmetricRandomizedAutoencoder(DeepSymmetricAutoencoder):\n",
        "    def __init__(self, dims: Sequence[int]):\n",
        "        super().__init__(dims=dims, use_bias=False)\n",
        "        self.type = \"deepRandAE\"\n",
        "\n",
        "    def fit(self, num_epochs=10, bs=32, lr=0.1, momentum=0., **kwargs):\n",
        "        \"\"\"\n",
        "        The training of this model is a pretraining of its layers where in the corresponding shallow AE\n",
        "        only its decoder's weights are trained, the encoder's ones are fixed.\n",
        "        Then copy the shallow decoder's weights in the corresponding layer of the bigger decoder\n",
        "        and its transpose in the corresponding layer of the bigger encoder.\n",
        "        \"\"\"\n",
        "        assert 0 < lr < 1 and num_epochs > 0 and bs > 0 and 0 <= momentum < 1\n",
        "        self.pretrain_layers(num_epochs=num_epochs, bs=bs, lr=lr, momentum=momentum, freeze_enc=True)\n",
        "\n",
        "\n",
        "class ShallowConvAutoencoder(AbstractAutoencoder):\n",
        "    \"\"\" Convolutional AE with 1 conv layer in the encoder and 1 in the decoder \"\"\"\n",
        "    def __init__(self, channels=1, n_filters=10, kernel_size: int = 3, central_dim=100,\n",
        "                 inp_side_len: Union[int, Tuple[int, int]] = 28):\n",
        "        super().__init__()\n",
        "        self.type = \"shallowConvAE\"\n",
        "        pad = (kernel_size - 1) // 2  # pad to keep the original area after convolution\n",
        "        central_side_len = math.floor(inp_side_len / 2)\n",
        "        self.encoder = nn.Sequential(\n",
        "            nn.Conv2d(in_channels=channels, out_channels=n_filters, kernel_size=kernel_size, stride=1, padding=pad),\n",
        "            nn.ReLU(inplace=True),\n",
        "            nn.MaxPool2d(kernel_size=2, stride=2),\n",
        "            nn.Flatten(),\n",
        "            nn.Linear(in_features=central_side_len ** 2 * n_filters, out_features=central_dim),\n",
        "            nn.ReLU(inplace=True))\n",
        "\n",
        "        # set kernel size, padding and stride to get the correct output shape\n",
        "        kersize = 2 if central_side_len * 2 == inp_side_len else 3\n",
        "        self.decoder = nn.Sequential(\n",
        "            nn.Linear(in_features=central_dim, out_features=central_side_len ** 2 * n_filters),\n",
        "            nn.ReLU(inplace=True),\n",
        "            nn.Unflatten(dim=1, unflattened_size=(n_filters, central_side_len, central_side_len)),\n",
        "            nn.ConvTranspose2d(in_channels=n_filters, out_channels=channels, kernel_size=kersize, stride=2, padding=0),\n",
        "            nn.Sigmoid())\n",
        "\n",
        "\n",
        "class DeepConvSymmetricAutoencoder(AbstractAutoencoder):\n",
        "    \"\"\" Conv AE with variable number of conv layers \"\"\"\n",
        "    def __init__(self, inp_side_len=32, dims=(32, 64), kernel_sizes=3, central_dim=256, pool=True, in_channels=3):\n",
        "        super().__init__()\n",
        "\n",
        "        # initial checks\n",
        "        if isinstance(kernel_sizes, int):\n",
        "            kernel_sizes = [kernel_sizes] * len(dims)\n",
        "        assert len(kernel_sizes) == len(dims) and all(size > 0 for size in kernel_sizes)\n",
        "\n",
        "        # build encoder\n",
        "        step_pool = 1 if len(dims) < 3 else (2 if len(dims) < 6 else 3)\n",
        "        side_len = inp_side_len\n",
        "        side_lengths = [side_len]\n",
        "        dims = (in_channels, *dims)  # Set the first dimension to the number of input channels (e.g., 3 for RGB)\n",
        "        enc_layers = []\n",
        "        for i in range(len(dims) - 1):\n",
        "            pad = (kernel_sizes[i] - 1) // 2\n",
        "            enc_layers.append(nn.Conv2d(in_channels=dims[i], out_channels=dims[i + 1], kernel_size=kernel_sizes[i],\n",
        "                                        padding=pad, stride=1))\n",
        "            enc_layers.append(nn.ReLU(inplace=True))\n",
        "            if pool and (i % step_pool == 0 or i == len(dims) - 1) and side_len > 3:\n",
        "                enc_layers.append(nn.MaxPool2d(kernel_size=2, stride=2, padding=0))\n",
        "                side_len = math.floor(side_len / 2)\n",
        "                side_lengths.append(side_len)\n",
        "\n",
        "        # fully connected layers in the center of the autoencoder to reduce dimensionality\n",
        "        fc_dims = (side_len ** 2 * dims[-1], side_len ** 2 * dims[-1] // 2, central_dim)\n",
        "        self.encoder = nn.Sequential(\n",
        "            *enc_layers,\n",
        "            nn.Flatten(),\n",
        "            nn.Linear(fc_dims[0], fc_dims[1]),\n",
        "            nn.ReLU(inplace=True),\n",
        "            nn.Linear(fc_dims[1], fc_dims[2]),\n",
        "            nn.ReLU(inplace=True)\n",
        "        )\n",
        "\n",
        "        # build decoder\n",
        "        central_side_len = side_lengths.pop(-1)\n",
        "        dec_layers = []\n",
        "        for i in reversed(range(1, len(dims))):\n",
        "            kersize = 2 if len(side_lengths) > 0 and side_len * 2 == side_lengths.pop(-1) else 3\n",
        "            pad, stride = (1, 1) if side_len == inp_side_len else (0, 2)\n",
        "            dec_layers.append(nn.ConvTranspose2d(in_channels=dims[i], out_channels=dims[i - 1], kernel_size=kersize,\n",
        "                                                 padding=pad, stride=stride))\n",
        "            side_len = side_len if pad == 1 else (side_len * 2 if kersize == 2 else side_len * 2 + 1)\n",
        "            dec_layers.append(nn.ReLU(inplace=True))\n",
        "        dec_layers[-1] = nn.Sigmoid()\n",
        "\n",
        "        self.decoder = nn.Sequential(\n",
        "            nn.Linear(fc_dims[2], fc_dims[1]),\n",
        "            nn.ReLU(inplace=True),\n",
        "            nn.Linear(fc_dims[1], fc_dims[0]),\n",
        "            nn.ReLU(inplace=True),\n",
        "            nn.Unflatten(dim=1, unflattened_size=(dims[-1], central_side_len, central_side_len)),\n",
        "            *dec_layers,\n",
        "        )"
      ],
      "metadata": {
        "id": "f-aB4wISp4xv"
      },
      "execution_count": null,
      "outputs": []
    },
    {
      "cell_type": "code",
      "source": [
        "import os\n",
        "import torch\n",
        "import torch.optim as optim\n",
        "import torch.nn as nn\n",
        "from torchvision import datasets, transforms\n",
        "from torch.utils.data import DataLoader\n",
        "from tqdm import tqdm\n",
        "\n",
        "# Set device\n",
        "device = torch.device('cuda:0' if torch.cuda.is_available() else 'cpu')\n",
        "\n",
        "# Data transformations for CIFAR-100\n",
        "transform = transforms.Compose([\n",
        "    transforms.ToTensor(),\n",
        "    # You can add normalization if needed\n",
        "    # transforms.Normalize((0.5071, 0.4865, 0.4409), (0.2675, 0.2565, 0.2761)),\n",
        "])\n",
        "\n",
        "# Load CIFAR-100 dataset\n",
        "train_dataset = datasets.CIFAR100(root='./data', train=True, download=True, transform=transform)\n",
        "val_dataset = datasets.CIFAR100(root='./data', train=False, download=True, transform=transform)\n",
        "\n",
        "# DataLoaders\n",
        "train_loader = DataLoader(train_dataset, batch_size=64, shuffle=True, num_workers=2)\n",
        "val_loader = DataLoader(val_dataset, batch_size=64, shuffle=False, num_workers=2)"
      ],
      "metadata": {
        "colab": {
          "base_uri": "https://localhost:8080/"
        },
        "id": "hWO6LvamXx6f",
        "outputId": "fc9f35fd-8aa3-4606-f54a-a93648f06bbd"
      },
      "execution_count": null,
      "outputs": [
        {
          "output_type": "stream",
          "name": "stdout",
          "text": [
            "Files already downloaded and verified\n",
            "Files already downloaded and verified\n"
          ]
        }
      ]
    },
    {
      "cell_type": "code",
      "source": [
        "# In order to solve the model's crashing for the 10 dims (out of memory)\n",
        "torch.cuda.empty_cache()\n",
        "os.environ['PYTORCH_CUDA_ALLOC_CONF'] = 'expandable_segments:True'"
      ],
      "metadata": {
        "id": "F4lNh0kRrzRQ"
      },
      "execution_count": null,
      "outputs": []
    },
    {
      "cell_type": "code",
      "execution_count": null,
      "metadata": {
        "id": "gk5hs9xywtBu"
      },
      "outputs": [],
      "source": [
        "# Instantiate your model\n",
        "model = DeepConvSymmetricAutoencoder(\n",
        "    inp_side_len=32,  # CIFAR-100 images are 32x32\n",
        "    dims=(32, 64, 128, 256, 512),    # 5 layers\n",
        "    kernel_sizes=3,\n",
        "    central_dim=256,\n",
        "    in_channels=3  # CIFAR-100 has 3 channels (RGB)\n",
        ").to(device)\n",
        "\n",
        "\n",
        "# Define loss function and optimizer\n",
        "criterion = nn.MSELoss()\n",
        "optimizer = optim.Adam(model.parameters(), lr=0.001)"
      ]
    },
    {
      "cell_type": "code",
      "execution_count": null,
      "metadata": {
        "id": "IWoWi8bK80j7",
        "colab": {
          "base_uri": "https://localhost:8080/"
        },
        "outputId": "97b64e98-ac35-4953-d691-174f61b6a4c9"
      },
      "outputs": [
        {
          "output_type": "stream",
          "name": "stdout",
          "text": [
            "Drive already mounted at /content/gdrive; to attempt to forcibly remount, call drive.mount(\"/content/gdrive\", force_remount=True).\n"
          ]
        },
        {
          "output_type": "stream",
          "name": "stderr",
          "text": [
            "<ipython-input-49-d1324f93169e>:26: FutureWarning: You are using `torch.load` with `weights_only=False` (the current default value), which uses the default pickle module implicitly. It is possible to construct malicious pickle data which will execute arbitrary code during unpickling (See https://github.com/pytorch/pytorch/blob/main/SECURITY.md#untrusted-models for more details). In a future release, the default value for `weights_only` will be flipped to `True`. This limits the functions that could be executed during unpickling. Arbitrary objects will no longer be allowed to be loaded via this mode unless they are explicitly allowlisted by the user via `torch.serialization.add_safe_globals`. We recommend you start setting `weights_only=True` for any use case where you don't have full control of the loaded file. Please open an issue on GitHub for any issues related to this experimental feature.\n",
            "  model.load_state_dict(torch.load(os.path.join(save_dir_symmetric_ae, latest_checkpoint_file)))\n"
          ]
        }
      ],
      "source": [
        "import os\n",
        "import re\n",
        "from google.colab import drive\n",
        "\n",
        "# Mount Google Drive to Colab Notebook\n",
        "drive.mount('/content/gdrive')\n",
        "\n",
        "# Define the directory to save the checkpoints\n",
        "save_dir_symmetric_ae = '/content/gdrive/My Drive/checkpoints/SymmetricAutoencoder'\n",
        "\n",
        "os.makedirs(save_dir_symmetric_ae, exist_ok=True)\n",
        "\n",
        "num_epochs = 250\n",
        "\n",
        "# Check if there are any checkpoint files in the Google Drive directory\n",
        "checkpoint_files = [f for f in os.listdir(save_dir_symmetric_ae) if f.endswith('.pth')]\n",
        "training_finished = False\n",
        "if checkpoint_files:\n",
        "    if \"model_weights.pth\" in checkpoint_files:\n",
        "        latest_checkpoint_file = \"model_weights.pth\"\n",
        "        training_finished = True\n",
        "    else:\n",
        "        # Find the checkpoint file with the highest epoch number\n",
        "        latest_checkpoint_file = max(checkpoint_files, key=lambda x: int(re.search(r'(\\d+)', x).group()))\n",
        "    # Load the state_dict from this checkpoint into the model\n",
        "    model.load_state_dict(torch.load(os.path.join(save_dir_symmetric_ae, latest_checkpoint_file)))\n",
        "    # Start the training loop from the epoch number after the one in the checkpoint\n",
        "    if training_finished:\n",
        "      start_epoch = num_epochs\n",
        "    else:\n",
        "      start_epoch = int(re.search(r'(\\d+)', latest_checkpoint_file).group())+1\n",
        "else:\n",
        "    start_epoch = 0"
      ]
    },
    {
      "cell_type": "code",
      "source": [
        "# In order to solve the model's crashing for the 10 dims (out of memory)\n",
        "torch.cuda.empty_cache()\n",
        "os.environ['PYTORCH_CUDA_ALLOC_CONF'] = 'expandable_segments:True'"
      ],
      "metadata": {
        "id": "Q44JY-nA0_Rg"
      },
      "execution_count": null,
      "outputs": []
    },
    {
      "cell_type": "code",
      "source": [
        "# Training loop\n",
        "\n",
        "accumulation_steps = 1  # Simulate a larger batch size by accumulating gradients\n",
        "\n",
        "print(f\"Starting training from epoch {start_epoch + 1}\")\n",
        "for epoch in range(start_epoch, num_epochs):\n",
        "    model.train()\n",
        "    running_loss = 0.0\n",
        "    accumulated_loss = 0.0  # To accumulate loss over accumulation steps\n",
        "\n",
        "    # Training phase\n",
        "    for i, (inputs, _) in enumerate(tqdm(train_loader, desc=f\"Epoch {epoch + 1}/{num_epochs}\")):\n",
        "        inputs = inputs.to(device)\n",
        "        targets = inputs  # For autoencoders, the target is the input itself\n",
        "\n",
        "        # Forward pass\n",
        "        outputs = model(inputs)\n",
        "        loss = criterion(outputs, targets)\n",
        "\n",
        "        # Scale the loss by the number of accumulation steps\n",
        "        loss = loss / accumulation_steps\n",
        "\n",
        "        # Backward pass and optimization\n",
        "        loss.backward()\n",
        "\n",
        "        accumulated_loss += loss.item()\n",
        "\n",
        "        # Perform optimizer step and zero the gradients after accumulating gradients over `accumulation_steps` batches\n",
        "        if (i + 1) % accumulation_steps == 0:\n",
        "            optimizer.step()\n",
        "            optimizer.zero_grad()\n",
        "\n",
        "        running_loss += loss.item()\n",
        "\n",
        "        # Print statistics every 100 mini-batches\n",
        "        if (i + 1) % 100 == 0:\n",
        "            print(f\"[Epoch {epoch + 1}, Batch {i + 1}] loss: {running_loss / 100:.3f}\")\n",
        "            running_loss = 0.0\n",
        "\n",
        "    # Save checkpoint after every epoch\n",
        "    checkpoint_path = os.path.join(save_dir_symmetric_ae, f'checkpoint_epoch_{epoch + 1}.pth')\n",
        "    torch.save(model.state_dict(), checkpoint_path)\n",
        "    print(f\"Checkpoint saved at {checkpoint_path}\")\n",
        "\n",
        "    # Validation phase - every 10 epochs\n",
        "    if (epoch + 1) % 10 == 0:\n",
        "      model.eval()\n",
        "      val_loss = 0.0\n",
        "      with torch.no_grad():\n",
        "          for inputs, _ in val_loader:\n",
        "              inputs = inputs.to(device)\n",
        "              targets = inputs\n",
        "              outputs = model(inputs)\n",
        "              loss = criterion(outputs, targets)\n",
        "              val_loss += loss.item()\n",
        "\n",
        "      val_loss /= len(val_loader)\n",
        "      print(f\"Validation Loss after epoch {epoch + 1}: {val_loss:.4f}\")\n",
        "\n",
        "print('Finished Training')"
      ],
      "metadata": {
        "id": "ELgnq1ZtYisB",
        "colab": {
          "base_uri": "https://localhost:8080/"
        },
        "outputId": "451da162-3c0c-4d89-84b7-f81f9c141773"
      },
      "execution_count": null,
      "outputs": [
        {
          "output_type": "stream",
          "name": "stdout",
          "text": [
            "Starting training from epoch 252\n",
            "Finished Training\n"
          ]
        }
      ]
    },
    {
      "cell_type": "code",
      "source": [
        "model.eval()\n",
        "val_loss = 0.0\n",
        "correct_pixels = 0\n",
        "total_pixels = 0\n",
        "threshold = 0.1  # Define a threshold for pixel accuracy\n",
        "\n",
        "with torch.no_grad():\n",
        "    for inputs, _ in val_loader:\n",
        "        inputs = inputs.to(device)\n",
        "        targets = inputs  # For autoencoder, the targets are the inputs\n",
        "        outputs = model(inputs)\n",
        "\n",
        "        # Compute loss\n",
        "        loss = criterion(outputs, targets)\n",
        "        val_loss += loss.item()\n",
        "\n",
        "        # Compute pixel-wise accuracy\n",
        "        # We treat each pixel as \"correct\" if its value is within the threshold of the original input\n",
        "        total_pixels += inputs.numel()  # Total number of pixels (elements) in the batch\n",
        "        correct_pixels += torch.sum(torch.abs(outputs - targets) < threshold).item()  # Count correct pixels\n",
        "\n",
        "# Calculate average validation loss and pixel-wise accuracy\n",
        "val_loss /= len(val_loader)\n",
        "pixel_accuracy = correct_pixels / total_pixels * 100  # Convert to percentage\n",
        "\n",
        "print(f\"Validation Loss after 250 epochs: {val_loss:.4f}\")\n",
        "print(f\"Pixel-wise Accuracy: {pixel_accuracy:.2f}%\")"
      ],
      "metadata": {
        "id": "iUwiVbuUdrMv",
        "colab": {
          "base_uri": "https://localhost:8080/"
        },
        "outputId": "828499c2-fb23-467c-df00-f3333026b3e7"
      },
      "execution_count": null,
      "outputs": [
        {
          "output_type": "stream",
          "name": "stdout",
          "text": [
            "Validation Loss after 250 epochs: 0.0117\n",
            "Pixel-wise Accuracy: 73.32%\n"
          ]
        }
      ]
    },
    {
      "cell_type": "code",
      "source": [
        "# addition of mine - asymmetric autoencoder\n",
        "\n",
        "def remove_dims(dims, num_layers_less, smaller_part='decoder'):\n",
        "    if num_layers_less >= len(dims):\n",
        "        # If num_layers_less is too large, retain only one dimension\n",
        "        return [dims[0]] if smaller_part == 'encoder' else [dims[-1]]\n",
        "\n",
        "    adjusted_dims = []\n",
        "\n",
        "    times_skipped = 0\n",
        "    if smaller_part == 'encoder':\n",
        "        # Start with the first dimension included\n",
        "        adjusted_dims = [dims[0]]\n",
        "        skip = True  # Start by skipping the second element\n",
        "\n",
        "        # Iterate through remaining dims from start (excluding the first element)\n",
        "        for dim in dims[1:]:\n",
        "            times_skipped = times_skipped + 1\n",
        "            if not skip:\n",
        "                adjusted_dims.append(dim)\n",
        "                times_skipped = times_skipped - 1\n",
        "            skip = not skip  # Toggle skipping\n",
        "            if times_skipped >= num_layers_less:\n",
        "                skip = False\n",
        "\n",
        "    else:  # smaller_part == 'decoder'\n",
        "        # Start with the last dimension included\n",
        "        adjusted_dims = [dims[-1]]\n",
        "        skip = True  # Start by skipping the second-last layer\n",
        "\n",
        "        # Iterate through remaining dims in reverse, excluding the last element\n",
        "        for dim in reversed(dims[:-1]):\n",
        "            times_skipped = times_skipped + 1\n",
        "            if not skip:\n",
        "                adjusted_dims.append(dim)\n",
        "                times_skipped = times_skipped - 1\n",
        "            skip = not skip  # Toggle skipping\n",
        "            if times_skipped >= num_layers_less:\n",
        "                skip = False\n",
        "\n",
        "        # Reverse back to maintain the original order\n",
        "        adjusted_dims.reverse()\n",
        "\n",
        "    return adjusted_dims\n",
        "\n",
        "\n",
        "class DeepConvAsymmetricAutoencoder(AbstractAutoencoder):\n",
        "    \"\"\" Conv AE with variable number of conv layers, where either encoder or decoder has fewer layers \"\"\"\n",
        "    def __init__(self, inp_side_len=32, dims=(32, 64), kernel_sizes=3, central_dim=256, pool=True, in_channels=3,\n",
        "                 smaller_part='decoder', num_layers_less=1):\n",
        "        \"\"\"\n",
        "        :param inp_side_len: Input image side length (e.g., 32 for CIFAR)\n",
        "        :param dims: Dimensions of convolutional layers (e.g., (32, 64))\n",
        "        :param kernel_sizes: Kernel sizes for each layer\n",
        "        :param central_dim: Central bottleneck dimension\n",
        "        :param pool: Whether to use pooling\n",
        "        :param in_channels: Number of input channels (3 for RGB)\n",
        "        :param smaller_part: 'encoder' or 'decoder', indicating which part should have fewer layers\n",
        "        :param num_layers_less: How many fewer layers the smaller part should have\n",
        "        \"\"\"\n",
        "        super().__init__()\n",
        "\n",
        "        assert smaller_part in ['encoder', 'decoder'], \"smaller_part must be 'encoder' or 'decoder'\"\n",
        "        assert num_layers_less >= 0, \"num_layers_less must be non-negative\"\n",
        "\n",
        "        # Adjust dims based on which part is smaller\n",
        "        if smaller_part == 'encoder':\n",
        "            adjusted_dims_enc = remove_dims(dims, num_layers_less, smaller_part)\n",
        "            adjusted_dims_dec = dims\n",
        "        else:\n",
        "            adjusted_dims_enc = dims\n",
        "            adjusted_dims_dec = remove_dims(dims, num_layers_less, smaller_part)\n",
        "\n",
        "        if isinstance(kernel_sizes, int):\n",
        "            kernel_sizes = [kernel_sizes] * len(dims)\n",
        "        assert len(kernel_sizes) == len(dims) and all(size > 0 for size in kernel_sizes)\n",
        "\n",
        "        # Encoder construction\n",
        "        step_pool = 1 if len(adjusted_dims_enc) < 3 else (2 if len(adjusted_dims_enc) < 6 else 3)\n",
        "        side_len = inp_side_len\n",
        "        side_lengths = [side_len]\n",
        "        adjusted_dims_enc = (in_channels, *adjusted_dims_enc)  # Set the first dimension to input channels\n",
        "        enc_layers = []\n",
        "        for i in range(len(adjusted_dims_enc) - 1):\n",
        "            pad = (kernel_sizes[i] - 1) // 2\n",
        "            enc_layers.append(nn.Conv2d(in_channels=adjusted_dims_enc[i], out_channels=adjusted_dims_enc[i + 1],\n",
        "                                        kernel_size=kernel_sizes[i], padding=pad, stride=1))\n",
        "            enc_layers.append(nn.ReLU(inplace=True))\n",
        "            if pool and (i % step_pool == 0 or i == len(adjusted_dims_enc) - 1) and side_len > 3:\n",
        "                enc_layers.append(nn.MaxPool2d(kernel_size=2, stride=2, padding=0))\n",
        "                side_len = math.floor(side_len / 2)\n",
        "                side_lengths.append(side_len)\n",
        "\n",
        "        # Fully connected layers in the encoder\n",
        "        fc_dims = (side_len ** 2 * dims[-1], side_len ** 2 * dims[-1] // 2, central_dim)\n",
        "        self.encoder = nn.Sequential(\n",
        "            *enc_layers,\n",
        "            nn.Flatten(),\n",
        "            nn.Linear(fc_dims[0], fc_dims[1]),\n",
        "            nn.ReLU(inplace=True),\n",
        "            nn.Linear(fc_dims[1], fc_dims[2]),\n",
        "            nn.ReLU(inplace=True)\n",
        "        )\n",
        "\n",
        "        # Decoder construction\n",
        "        central_side_len = side_lengths.pop(-1)\n",
        "        adjusted_dims_dec = (in_channels, *adjusted_dims_dec)  # Ensure the last dimension matches input channels\n",
        "        # print(f'adjusted dims dec{adjusted_dims_dec}')\n",
        "        dec_layers = []\n",
        "        for i in reversed(range(1, len(adjusted_dims_dec))):\n",
        "            in_ch = adjusted_dims_dec[i]  # Set to current layer's input channels\n",
        "            out_ch = adjusted_dims_dec[i - 1] if i > 1 else in_channels  # Last layer should output `in_channels` (e.g., 3)\n",
        "\n",
        "            # Adjust kernel size and padding based on current side length\n",
        "            kersize = 2 if len(side_lengths) > 0 and side_len * 2 == side_lengths.pop(-1) else 3\n",
        "            pad, stride = (1, 1) if side_len == inp_side_len else (0, 2)\n",
        "\n",
        "            # Add ConvTranspose2d layer with adjusted in/out channels\n",
        "            dec_layers.append(nn.ConvTranspose2d(in_channels=in_ch, out_channels=out_ch, kernel_size=kersize, padding=pad, stride=stride))\n",
        "\n",
        "            # Adjust spatial dimensions for each upsampling layer\n",
        "            side_len = side_len if pad == 1 else (side_len * 2 if kersize == 2 else side_len * 2 + 1)\n",
        "\n",
        "            # Apply ReLU except for the final layer\n",
        "            if i > 1:\n",
        "                dec_layers.append(nn.ReLU(inplace=True))\n",
        "            else:\n",
        "                dec_layers.append(nn.Sigmoid())  # Final layer for output range [0, 1]\n",
        "\n",
        "\n",
        "        # Fully connected layers in the decoder\n",
        "        #fc_dims_dec = (side_len ** 2 * adjusted_dims_dec[-1], side_len ** 2 * adjusted_dims_dec[-1] // 2, central_dim)\n",
        "        self.decoder = nn.Sequential(\n",
        "            nn.Linear(fc_dims[2], fc_dims[1]),\n",
        "            nn.ReLU(inplace=True),\n",
        "            nn.Linear(fc_dims[1], fc_dims[0]),\n",
        "            nn.ReLU(inplace=True),\n",
        "            nn.Unflatten(dim=1, unflattened_size=(dims[-1], central_side_len, central_side_len)),\n",
        "            *dec_layers,\n",
        "        )"
      ],
      "metadata": {
        "id": "oceGVqER4CAm"
      },
      "execution_count": null,
      "outputs": []
    },
    {
      "cell_type": "code",
      "execution_count": null,
      "metadata": {
        "id": "S0jemCIIAKT_"
      },
      "outputs": [],
      "source": [
        "# Instantiate your model\n",
        "asym_model_minus2 = DeepConvAsymmetricAutoencoder(\n",
        "    inp_side_len=32,  # CIFAR-100 images are 32x32\n",
        "    dims=(32, 64, 128, 256, 512),    # 5 layers\n",
        "    kernel_sizes=3,\n",
        "    central_dim=256,\n",
        "    num_layers_less=2,\n",
        "    in_channels=3  # CIFAR-100 has 3 channels (RGB)\n",
        ").to(device)\n",
        "\n",
        "\n",
        "# Define loss function and optimizer\n",
        "criterion = nn.MSELoss()\n",
        "optimizer = optim.Adam(model.parameters(), lr=0.001)"
      ]
    },
    {
      "cell_type": "code",
      "execution_count": null,
      "metadata": {
        "id": "P49s6qHI3Ent",
        "colab": {
          "base_uri": "https://localhost:8080/"
        },
        "outputId": "021e40ba-41c7-4eed-905d-22c78a2804d2"
      },
      "outputs": [
        {
          "output_type": "stream",
          "name": "stdout",
          "text": [
            "Drive already mounted at /content/gdrive; to attempt to forcibly remount, call drive.mount(\"/content/gdrive\", force_remount=True).\n"
          ]
        },
        {
          "output_type": "stream",
          "name": "stderr",
          "text": [
            "<ipython-input-55-297f9fd46e81>:26: FutureWarning: You are using `torch.load` with `weights_only=False` (the current default value), which uses the default pickle module implicitly. It is possible to construct malicious pickle data which will execute arbitrary code during unpickling (See https://github.com/pytorch/pytorch/blob/main/SECURITY.md#untrusted-models for more details). In a future release, the default value for `weights_only` will be flipped to `True`. This limits the functions that could be executed during unpickling. Arbitrary objects will no longer be allowed to be loaded via this mode unless they are explicitly allowlisted by the user via `torch.serialization.add_safe_globals`. We recommend you start setting `weights_only=True` for any use case where you don't have full control of the loaded file. Please open an issue on GitHub for any issues related to this experimental feature.\n",
            "  asym_model_minus2.load_state_dict(torch.load(os.path.join(save_dir_asymmetric_ae_minus2, latest_checkpoint_file)))\n"
          ]
        }
      ],
      "source": [
        "import os\n",
        "import re\n",
        "from google.colab import drive\n",
        "\n",
        "# Mount Google Drive to Colab Notebook\n",
        "drive.mount('/content/gdrive')\n",
        "\n",
        "# Define the directory to save the checkpoints\n",
        "save_dir_asymmetric_ae_minus2 = '/content/gdrive/My Drive/checkpoints/AsymmetricAutoencoderMinus2'\n",
        "\n",
        "os.makedirs(save_dir_asymmetric_ae_minus2, exist_ok=True)\n",
        "\n",
        "num_epochs = 250\n",
        "\n",
        "# Check if there are any checkpoint files in the Google Drive directory\n",
        "checkpoint_files = [f for f in os.listdir(save_dir_asymmetric_ae_minus2) if f.endswith('.pth')]\n",
        "training_finished = False\n",
        "if checkpoint_files:\n",
        "    if \"model_weights.pth\" in checkpoint_files:\n",
        "        latest_checkpoint_file = \"model_weights.pth\"\n",
        "        training_finished = True\n",
        "    else:\n",
        "        # Find the checkpoint file with the highest epoch number\n",
        "        latest_checkpoint_file = max(checkpoint_files, key=lambda x: int(re.search(r'(\\d+)', x).group()))\n",
        "    # Load the state_dict from this checkpoint into the model\n",
        "    asym_model_minus2.load_state_dict(torch.load(os.path.join(save_dir_asymmetric_ae_minus2, latest_checkpoint_file)))\n",
        "    # Start the training loop from the epoch number after the one in the checkpoint\n",
        "    if training_finished:\n",
        "      start_epoch = num_epochs\n",
        "    else:\n",
        "      start_epoch = int(re.search(r'(\\d+)', latest_checkpoint_file).group())+1\n",
        "else:\n",
        "    start_epoch = 0"
      ]
    },
    {
      "cell_type": "code",
      "execution_count": null,
      "metadata": {
        "id": "xGQhq3lrcQen",
        "colab": {
          "base_uri": "https://localhost:8080/"
        },
        "outputId": "b8f3ccd8-d461-46a8-c42a-056c65c0f57b"
      },
      "outputs": [
        {
          "output_type": "stream",
          "name": "stdout",
          "text": [
            "Starting training from epoch 251\n",
            "Finished Training\n"
          ]
        }
      ],
      "source": [
        "# Training loop\n",
        "\n",
        "accumulation_steps = 1  # Simulate a larger batch size by accumulating gradients\n",
        "\n",
        "print(f\"Starting training from epoch {start_epoch}\")\n",
        "for epoch in range(start_epoch, num_epochs):\n",
        "    asym_model_minus2.train()\n",
        "    running_loss = 0.0\n",
        "    accumulated_loss = 0.0  # To accumulate loss over accumulation steps\n",
        "\n",
        "    # Training phase\n",
        "    for i, (inputs, _) in enumerate(tqdm(train_loader, desc=f\"Epoch {epoch + 1}/{num_epochs}\")):\n",
        "        inputs = inputs.to(device)\n",
        "        targets = inputs  # For autoencoders, the target is the input itself\n",
        "\n",
        "        # Forward pass\n",
        "        outputs = asym_model_minus2(inputs)\n",
        "        loss = criterion(outputs, targets)\n",
        "\n",
        "        # Scale the loss by the number of accumulation steps\n",
        "        loss = loss / accumulation_steps\n",
        "\n",
        "        # Backward pass and optimization\n",
        "        loss.backward()\n",
        "\n",
        "        accumulated_loss += loss.item()\n",
        "\n",
        "        # Perform optimizer step and zero the gradients after accumulating gradients over `accumulation_steps` batches\n",
        "        if (i + 1) % accumulation_steps == 0:\n",
        "            optimizer.step()\n",
        "            optimizer.zero_grad()\n",
        "\n",
        "        running_loss += loss.item()\n",
        "\n",
        "        # Print statistics every 100 mini-batches\n",
        "        if (i + 1) % 100 == 0:\n",
        "            print(f\"[Epoch {epoch + 1}, Batch {i + 1}] loss: {running_loss / 100:.3f}\")\n",
        "            running_loss = 0.0\n",
        "\n",
        "    # Save checkpoint after every epoch\n",
        "    checkpoint_path = os.path.join(save_dir_asymmetric_ae_minus2, f'checkpoint_epoch_{epoch + 1}.pth')\n",
        "    torch.save(asym_model_minus2.state_dict(), checkpoint_path)\n",
        "    print(f\"Checkpoint saved at {checkpoint_path}\")\n",
        "\n",
        "    # Validation phase - every 10 epochs\n",
        "    if (epoch + 1) % 10 == 0:\n",
        "      asym_model_minus2.eval()\n",
        "      val_loss = 0.0\n",
        "      with torch.no_grad():\n",
        "          for inputs, _ in val_loader:\n",
        "              inputs = inputs.to(device)\n",
        "              targets = inputs\n",
        "              outputs = asym_model_minus2(inputs)\n",
        "              loss = criterion(outputs, targets)\n",
        "              val_loss += loss.item()\n",
        "\n",
        "      val_loss /= len(val_loader)\n",
        "      print(f\"Validation Loss after epoch {epoch + 1}: {val_loss:.4f}\")\n",
        "\n",
        "print('Finished Training')"
      ]
    },
    {
      "cell_type": "code",
      "source": [
        "asym_model_minus2.eval()\n",
        "val_loss = 0.0\n",
        "correct_pixels = 0\n",
        "total_pixels = 0\n",
        "threshold = 0.1  # Define a threshold for pixel accuracy\n",
        "\n",
        "with torch.no_grad():\n",
        "    for inputs, _ in val_loader:\n",
        "        inputs = inputs.to(device)\n",
        "        targets = inputs  # For autoencoder, the targets are the inputs\n",
        "        outputs = asym_model_minus2(inputs)\n",
        "\n",
        "        # Compute loss\n",
        "        loss = criterion(outputs, targets)\n",
        "        val_loss += loss.item()\n",
        "\n",
        "        # Compute pixel-wise accuracy\n",
        "        # We treat each pixel as \"correct\" if its value is within the threshold of the original input\n",
        "        total_pixels += inputs.numel()  # Total number of pixels (elements) in the batch\n",
        "        correct_pixels += torch.sum(torch.abs(outputs - targets) < threshold).item()  # Count correct pixels\n",
        "\n",
        "# Calculate average validation loss and pixel-wise accuracy\n",
        "val_loss /= len(val_loader)\n",
        "pixel_accuracy = correct_pixels / total_pixels * 100  # Convert to percentage\n",
        "\n",
        "print(f\"Validation Loss after 250 epochs: {val_loss:.4f}\")\n",
        "print(f\"Pixel-wise Accuracy: {pixel_accuracy:.2f}%\")"
      ],
      "metadata": {
        "colab": {
          "base_uri": "https://localhost:8080/"
        },
        "id": "U2R6yx6T4ndc",
        "outputId": "12c11563-cb75-48be-aa2c-ad3e7634ac00"
      },
      "execution_count": 71,
      "outputs": [
        {
          "output_type": "stream",
          "name": "stdout",
          "text": [
            "Validation Loss after 250 epochs: 0.0734\n",
            "Pixel-wise Accuracy: 24.27%\n"
          ]
        }
      ]
    },
    {
      "cell_type": "code",
      "execution_count": null,
      "metadata": {
        "id": "eZXwyV_W3yfQ"
      },
      "outputs": [],
      "source": [
        "# Instantiate your model\n",
        "asym_model_minus1 = DeepConvAsymmetricAutoencoder(\n",
        "    inp_side_len=32,  # CIFAR-100 images are 32x32\n",
        "    dims=(32, 64, 128, 256, 512),    # 5 layers\n",
        "    kernel_sizes=3,\n",
        "    central_dim=256,\n",
        "    in_channels=3  # CIFAR-100 has 3 channels (RGB)\n",
        ").to(device)\n",
        "\n",
        "\n",
        "# Define loss function and optimizer\n",
        "criterion = nn.MSELoss()\n",
        "optimizer = optim.Adam(model.parameters(), lr=0.001)"
      ]
    },
    {
      "cell_type": "code",
      "execution_count": 69,
      "metadata": {
        "id": "oq8xNpqOJtKG",
        "colab": {
          "base_uri": "https://localhost:8080/"
        },
        "outputId": "d171ebde-4bfd-4a30-d46d-961e498c4566"
      },
      "outputs": [
        {
          "output_type": "stream",
          "name": "stdout",
          "text": [
            "Mounted at /content/gdrive\n",
            "checkpoint_epoch_75.pth\n"
          ]
        },
        {
          "output_type": "stream",
          "name": "stderr",
          "text": [
            "<ipython-input-69-8c761d427c0f>:27: FutureWarning: You are using `torch.load` with `weights_only=False` (the current default value), which uses the default pickle module implicitly. It is possible to construct malicious pickle data which will execute arbitrary code during unpickling (See https://github.com/pytorch/pytorch/blob/main/SECURITY.md#untrusted-models for more details). In a future release, the default value for `weights_only` will be flipped to `True`. This limits the functions that could be executed during unpickling. Arbitrary objects will no longer be allowed to be loaded via this mode unless they are explicitly allowlisted by the user via `torch.serialization.add_safe_globals`. We recommend you start setting `weights_only=True` for any use case where you don't have full control of the loaded file. Please open an issue on GitHub for any issues related to this experimental feature.\n",
            "  asym_model_minus1.load_state_dict(torch.load(os.path.join(save_dir_asymmetric_ae_minus1, latest_checkpoint_file)))\n"
          ]
        }
      ],
      "source": [
        "import os\n",
        "import re\n",
        "from google.colab import drive\n",
        "\n",
        "# Mount Google Drive to Colab Notebook\n",
        "drive.mount('/content/gdrive', True)\n",
        "\n",
        "# Define the directory to save the checkpoints\n",
        "save_dir_asymmetric_ae_minus1 = '/content/gdrive/My Drive/checkpoints/AsymmetricAutoencoderMinus1'\n",
        "\n",
        "os.makedirs(save_dir_asymmetric_ae_minus1, exist_ok=True)\n",
        "\n",
        "num_epochs = 250\n",
        "\n",
        "# Check if there are any checkpoint files in the Google Drive directory\n",
        "checkpoint_files = [f for f in os.listdir(save_dir_asymmetric_ae_minus1) if f.endswith('.pth')]\n",
        "training_finished = False\n",
        "if checkpoint_files:\n",
        "    if \"model_weights.pth\" in checkpoint_files:\n",
        "        latest_checkpoint_file = \"model_weights.pth\"\n",
        "        training_finished = True\n",
        "    else:\n",
        "        # Find the checkpoint file with the highest epoch number\n",
        "        latest_checkpoint_file = max(checkpoint_files, key=lambda x: int(re.search(r'(\\d+)', x).group()))\n",
        "    # Load the state_dict from this checkpoint into the model\n",
        "    print(latest_checkpoint_file)\n",
        "    asym_model_minus1.load_state_dict(torch.load(os.path.join(save_dir_asymmetric_ae_minus1, latest_checkpoint_file)))\n",
        "    # Start the training loop from the epoch number after the one in the checkpoint\n",
        "    if training_finished:\n",
        "      start_epoch = num_epochs\n",
        "    else:\n",
        "      start_epoch = int(re.search(r'(\\d+)', latest_checkpoint_file).group())+1\n",
        "else:\n",
        "    start_epoch = 0"
      ]
    },
    {
      "cell_type": "code",
      "execution_count": 70,
      "metadata": {
        "id": "ONnfEf_M3yWS",
        "colab": {
          "base_uri": "https://localhost:8080/"
        },
        "outputId": "d2fec6c5-c97f-4aa9-89da-af5826db1d25"
      },
      "outputs": [
        {
          "output_type": "stream",
          "name": "stdout",
          "text": [
            "Starting training from epoch 76\n"
          ]
        },
        {
          "output_type": "stream",
          "name": "stderr",
          "text": [
            "Epoch 77/250:  14%|█▎        | 107/782 [00:02<00:16, 41.50it/s]"
          ]
        },
        {
          "output_type": "stream",
          "name": "stdout",
          "text": [
            "[Epoch 77, Batch 100] loss: 0.074\n"
          ]
        },
        {
          "output_type": "stream",
          "name": "stderr",
          "text": [
            "Epoch 77/250:  26%|██▋       | 207/782 [00:05<00:14, 40.98it/s]"
          ]
        },
        {
          "output_type": "stream",
          "name": "stdout",
          "text": [
            "[Epoch 77, Batch 200] loss: 0.074\n"
          ]
        },
        {
          "output_type": "stream",
          "name": "stderr",
          "text": [
            "Epoch 77/250:  39%|███▉      | 307/782 [00:07<00:11, 41.05it/s]"
          ]
        },
        {
          "output_type": "stream",
          "name": "stdout",
          "text": [
            "[Epoch 77, Batch 300] loss: 0.074\n"
          ]
        },
        {
          "output_type": "stream",
          "name": "stderr",
          "text": [
            "Epoch 77/250:  52%|█████▏    | 407/782 [00:10<00:09, 41.18it/s]"
          ]
        },
        {
          "output_type": "stream",
          "name": "stdout",
          "text": [
            "[Epoch 77, Batch 400] loss: 0.073\n"
          ]
        },
        {
          "output_type": "stream",
          "name": "stderr",
          "text": [
            "Epoch 77/250:  65%|██████▍   | 507/782 [00:12<00:06, 40.96it/s]"
          ]
        },
        {
          "output_type": "stream",
          "name": "stdout",
          "text": [
            "[Epoch 77, Batch 500] loss: 0.073\n"
          ]
        },
        {
          "output_type": "stream",
          "name": "stderr",
          "text": [
            "Epoch 77/250:  78%|███████▊  | 607/782 [00:14<00:04, 40.56it/s]"
          ]
        },
        {
          "output_type": "stream",
          "name": "stdout",
          "text": [
            "[Epoch 77, Batch 600] loss: 0.074\n"
          ]
        },
        {
          "output_type": "stream",
          "name": "stderr",
          "text": [
            "Epoch 77/250:  90%|█████████ | 707/782 [00:17<00:01, 41.10it/s]"
          ]
        },
        {
          "output_type": "stream",
          "name": "stdout",
          "text": [
            "[Epoch 77, Batch 700] loss: 0.074\n"
          ]
        },
        {
          "output_type": "stream",
          "name": "stderr",
          "text": [
            "Epoch 77/250: 100%|██████████| 782/782 [00:19<00:00, 40.65it/s]\n"
          ]
        },
        {
          "output_type": "stream",
          "name": "stdout",
          "text": [
            "Checkpoint saved at /content/gdrive/My Drive/checkpoints/AsymmetricAutoencoderMinus1/checkpoint_epoch_77.pth\n"
          ]
        },
        {
          "output_type": "stream",
          "name": "stderr",
          "text": [
            "Epoch 78/250:  13%|█▎        | 105/782 [00:02<00:16, 40.45it/s]"
          ]
        },
        {
          "output_type": "stream",
          "name": "stdout",
          "text": [
            "[Epoch 78, Batch 100] loss: 0.073\n"
          ]
        },
        {
          "output_type": "stream",
          "name": "stderr",
          "text": [
            "Epoch 78/250:  26%|██▌       | 205/782 [00:05<00:14, 40.59it/s]"
          ]
        },
        {
          "output_type": "stream",
          "name": "stdout",
          "text": [
            "[Epoch 78, Batch 200] loss: 0.074\n"
          ]
        },
        {
          "output_type": "stream",
          "name": "stderr",
          "text": [
            "Epoch 78/250:  39%|███▉      | 305/782 [00:07<00:11, 40.74it/s]"
          ]
        },
        {
          "output_type": "stream",
          "name": "stdout",
          "text": [
            "[Epoch 78, Batch 300] loss: 0.075\n"
          ]
        },
        {
          "output_type": "stream",
          "name": "stderr",
          "text": [
            "Epoch 78/250:  52%|█████▏    | 405/782 [00:10<00:09, 39.46it/s]"
          ]
        },
        {
          "output_type": "stream",
          "name": "stdout",
          "text": [
            "[Epoch 78, Batch 400] loss: 0.074\n"
          ]
        },
        {
          "output_type": "stream",
          "name": "stderr",
          "text": [
            "Epoch 78/250:  65%|██████▍   | 505/782 [00:12<00:06, 41.12it/s]"
          ]
        },
        {
          "output_type": "stream",
          "name": "stdout",
          "text": [
            "[Epoch 78, Batch 500] loss: 0.074\n"
          ]
        },
        {
          "output_type": "stream",
          "name": "stderr",
          "text": [
            "Epoch 78/250:  77%|███████▋  | 605/782 [00:15<00:04, 40.90it/s]"
          ]
        },
        {
          "output_type": "stream",
          "name": "stdout",
          "text": [
            "[Epoch 78, Batch 600] loss: 0.074\n"
          ]
        },
        {
          "output_type": "stream",
          "name": "stderr",
          "text": [
            "Epoch 78/250:  90%|█████████ | 705/782 [00:17<00:01, 40.58it/s]"
          ]
        },
        {
          "output_type": "stream",
          "name": "stdout",
          "text": [
            "[Epoch 78, Batch 700] loss: 0.074\n"
          ]
        },
        {
          "output_type": "stream",
          "name": "stderr",
          "text": [
            "Epoch 78/250: 100%|██████████| 782/782 [00:19<00:00, 40.31it/s]\n"
          ]
        },
        {
          "output_type": "stream",
          "name": "stdout",
          "text": [
            "Checkpoint saved at /content/gdrive/My Drive/checkpoints/AsymmetricAutoencoderMinus1/checkpoint_epoch_78.pth\n"
          ]
        },
        {
          "output_type": "stream",
          "name": "stderr",
          "text": [
            "Epoch 79/250:  14%|█▎        | 106/782 [00:02<00:16, 41.53it/s]"
          ]
        },
        {
          "output_type": "stream",
          "name": "stdout",
          "text": [
            "[Epoch 79, Batch 100] loss: 0.074\n"
          ]
        },
        {
          "output_type": "stream",
          "name": "stderr",
          "text": [
            "Epoch 79/250:  26%|██▋       | 206/782 [00:05<00:14, 41.04it/s]"
          ]
        },
        {
          "output_type": "stream",
          "name": "stdout",
          "text": [
            "[Epoch 79, Batch 200] loss: 0.074\n"
          ]
        },
        {
          "output_type": "stream",
          "name": "stderr",
          "text": [
            "Epoch 79/250:  39%|███▉      | 306/782 [00:07<00:11, 41.44it/s]"
          ]
        },
        {
          "output_type": "stream",
          "name": "stdout",
          "text": [
            "[Epoch 79, Batch 300] loss: 0.074\n"
          ]
        },
        {
          "output_type": "stream",
          "name": "stderr",
          "text": [
            "Epoch 79/250:  52%|█████▏    | 406/782 [00:09<00:09, 41.29it/s]"
          ]
        },
        {
          "output_type": "stream",
          "name": "stdout",
          "text": [
            "[Epoch 79, Batch 400] loss: 0.074\n"
          ]
        },
        {
          "output_type": "stream",
          "name": "stderr",
          "text": [
            "Epoch 79/250:  65%|██████▍   | 506/782 [00:12<00:06, 40.82it/s]"
          ]
        },
        {
          "output_type": "stream",
          "name": "stdout",
          "text": [
            "[Epoch 79, Batch 500] loss: 0.074\n"
          ]
        },
        {
          "output_type": "stream",
          "name": "stderr",
          "text": [
            "Epoch 79/250:  77%|███████▋  | 606/782 [00:14<00:04, 41.73it/s]"
          ]
        },
        {
          "output_type": "stream",
          "name": "stdout",
          "text": [
            "[Epoch 79, Batch 600] loss: 0.074\n"
          ]
        },
        {
          "output_type": "stream",
          "name": "stderr",
          "text": [
            "Epoch 79/250:  90%|█████████ | 706/782 [00:17<00:01, 41.86it/s]"
          ]
        },
        {
          "output_type": "stream",
          "name": "stdout",
          "text": [
            "[Epoch 79, Batch 700] loss: 0.073\n"
          ]
        },
        {
          "output_type": "stream",
          "name": "stderr",
          "text": [
            "Epoch 79/250: 100%|██████████| 782/782 [00:19<00:00, 41.11it/s]\n"
          ]
        },
        {
          "output_type": "stream",
          "name": "stdout",
          "text": [
            "Checkpoint saved at /content/gdrive/My Drive/checkpoints/AsymmetricAutoencoderMinus1/checkpoint_epoch_79.pth\n"
          ]
        },
        {
          "output_type": "stream",
          "name": "stderr",
          "text": [
            "Epoch 80/250:  14%|█▎        | 106/782 [00:02<00:16, 41.72it/s]"
          ]
        },
        {
          "output_type": "stream",
          "name": "stdout",
          "text": [
            "[Epoch 80, Batch 100] loss: 0.074\n"
          ]
        },
        {
          "output_type": "stream",
          "name": "stderr",
          "text": [
            "Epoch 80/250:  26%|██▋       | 206/782 [00:05<00:13, 41.76it/s]"
          ]
        },
        {
          "output_type": "stream",
          "name": "stdout",
          "text": [
            "[Epoch 80, Batch 200] loss: 0.073\n"
          ]
        },
        {
          "output_type": "stream",
          "name": "stderr",
          "text": [
            "Epoch 80/250:  39%|███▉      | 306/782 [00:07<00:11, 41.99it/s]"
          ]
        },
        {
          "output_type": "stream",
          "name": "stdout",
          "text": [
            "[Epoch 80, Batch 300] loss: 0.074\n"
          ]
        },
        {
          "output_type": "stream",
          "name": "stderr",
          "text": [
            "Epoch 80/250:  52%|█████▏    | 406/782 [00:09<00:09, 41.12it/s]"
          ]
        },
        {
          "output_type": "stream",
          "name": "stdout",
          "text": [
            "[Epoch 80, Batch 400] loss: 0.074\n"
          ]
        },
        {
          "output_type": "stream",
          "name": "stderr",
          "text": [
            "Epoch 80/250:  65%|██████▍   | 506/782 [00:12<00:06, 41.24it/s]"
          ]
        },
        {
          "output_type": "stream",
          "name": "stdout",
          "text": [
            "[Epoch 80, Batch 500] loss: 0.074\n"
          ]
        },
        {
          "output_type": "stream",
          "name": "stderr",
          "text": [
            "Epoch 80/250:  77%|███████▋  | 606/782 [00:14<00:04, 41.95it/s]"
          ]
        },
        {
          "output_type": "stream",
          "name": "stdout",
          "text": [
            "[Epoch 80, Batch 600] loss: 0.073\n"
          ]
        },
        {
          "output_type": "stream",
          "name": "stderr",
          "text": [
            "Epoch 80/250:  90%|█████████ | 706/782 [00:17<00:01, 41.21it/s]"
          ]
        },
        {
          "output_type": "stream",
          "name": "stdout",
          "text": [
            "[Epoch 80, Batch 700] loss: 0.074\n"
          ]
        },
        {
          "output_type": "stream",
          "name": "stderr",
          "text": [
            "Epoch 80/250: 100%|██████████| 782/782 [00:18<00:00, 41.30it/s]\n"
          ]
        },
        {
          "output_type": "stream",
          "name": "stdout",
          "text": [
            "Checkpoint saved at /content/gdrive/My Drive/checkpoints/AsymmetricAutoencoderMinus1/checkpoint_epoch_80.pth\n",
            "Validation Loss after epoch 80: 0.0742\n"
          ]
        },
        {
          "output_type": "stream",
          "name": "stderr",
          "text": [
            "Epoch 81/250:  14%|█▎        | 106/782 [00:02<00:16, 41.65it/s]"
          ]
        },
        {
          "output_type": "stream",
          "name": "stdout",
          "text": [
            "[Epoch 81, Batch 100] loss: 0.073\n"
          ]
        },
        {
          "output_type": "stream",
          "name": "stderr",
          "text": [
            "Epoch 81/250:  26%|██▋       | 206/782 [00:05<00:13, 41.23it/s]"
          ]
        },
        {
          "output_type": "stream",
          "name": "stdout",
          "text": [
            "[Epoch 81, Batch 200] loss: 0.074\n"
          ]
        },
        {
          "output_type": "stream",
          "name": "stderr",
          "text": [
            "Epoch 81/250:  39%|███▉      | 306/782 [00:07<00:11, 41.65it/s]"
          ]
        },
        {
          "output_type": "stream",
          "name": "stdout",
          "text": [
            "[Epoch 81, Batch 300] loss: 0.074\n"
          ]
        },
        {
          "output_type": "stream",
          "name": "stderr",
          "text": [
            "Epoch 81/250:  52%|█████▏    | 406/782 [00:09<00:09, 41.26it/s]"
          ]
        },
        {
          "output_type": "stream",
          "name": "stdout",
          "text": [
            "[Epoch 81, Batch 400] loss: 0.074\n"
          ]
        },
        {
          "output_type": "stream",
          "name": "stderr",
          "text": [
            "Epoch 81/250:  65%|██████▍   | 506/782 [00:12<00:06, 41.23it/s]"
          ]
        },
        {
          "output_type": "stream",
          "name": "stdout",
          "text": [
            "[Epoch 81, Batch 500] loss: 0.074\n"
          ]
        },
        {
          "output_type": "stream",
          "name": "stderr",
          "text": [
            "Epoch 81/250:  77%|███████▋  | 606/782 [00:14<00:04, 41.61it/s]"
          ]
        },
        {
          "output_type": "stream",
          "name": "stdout",
          "text": [
            "[Epoch 81, Batch 600] loss: 0.074\n"
          ]
        },
        {
          "output_type": "stream",
          "name": "stderr",
          "text": [
            "Epoch 81/250:  90%|█████████ | 706/782 [00:17<00:01, 41.29it/s]"
          ]
        },
        {
          "output_type": "stream",
          "name": "stdout",
          "text": [
            "[Epoch 81, Batch 700] loss: 0.073\n"
          ]
        },
        {
          "output_type": "stream",
          "name": "stderr",
          "text": [
            "Epoch 81/250: 100%|██████████| 782/782 [00:18<00:00, 41.24it/s]\n"
          ]
        },
        {
          "output_type": "stream",
          "name": "stdout",
          "text": [
            "Checkpoint saved at /content/gdrive/My Drive/checkpoints/AsymmetricAutoencoderMinus1/checkpoint_epoch_81.pth\n"
          ]
        },
        {
          "output_type": "stream",
          "name": "stderr",
          "text": [
            "Epoch 82/250:  14%|█▎        | 106/782 [00:02<00:16, 41.63it/s]"
          ]
        },
        {
          "output_type": "stream",
          "name": "stdout",
          "text": [
            "[Epoch 82, Batch 100] loss: 0.074\n"
          ]
        },
        {
          "output_type": "stream",
          "name": "stderr",
          "text": [
            "Epoch 82/250:  26%|██▋       | 206/782 [00:05<00:13, 41.43it/s]"
          ]
        },
        {
          "output_type": "stream",
          "name": "stdout",
          "text": [
            "[Epoch 82, Batch 200] loss: 0.074\n"
          ]
        },
        {
          "output_type": "stream",
          "name": "stderr",
          "text": [
            "Epoch 82/250:  39%|███▉      | 306/782 [00:07<00:11, 41.03it/s]"
          ]
        },
        {
          "output_type": "stream",
          "name": "stdout",
          "text": [
            "[Epoch 82, Batch 300] loss: 0.074\n"
          ]
        },
        {
          "output_type": "stream",
          "name": "stderr",
          "text": [
            "Epoch 82/250:  52%|█████▏    | 406/782 [00:09<00:09, 41.14it/s]"
          ]
        },
        {
          "output_type": "stream",
          "name": "stdout",
          "text": [
            "[Epoch 82, Batch 400] loss: 0.074\n"
          ]
        },
        {
          "output_type": "stream",
          "name": "stderr",
          "text": [
            "Epoch 82/250:  65%|██████▍   | 506/782 [00:12<00:06, 41.22it/s]"
          ]
        },
        {
          "output_type": "stream",
          "name": "stdout",
          "text": [
            "[Epoch 82, Batch 500] loss: 0.074\n"
          ]
        },
        {
          "output_type": "stream",
          "name": "stderr",
          "text": [
            "Epoch 82/250:  77%|███████▋  | 606/782 [00:14<00:04, 41.13it/s]"
          ]
        },
        {
          "output_type": "stream",
          "name": "stdout",
          "text": [
            "[Epoch 82, Batch 600] loss: 0.073\n"
          ]
        },
        {
          "output_type": "stream",
          "name": "stderr",
          "text": [
            "Epoch 82/250:  90%|█████████ | 706/782 [00:17<00:01, 41.74it/s]"
          ]
        },
        {
          "output_type": "stream",
          "name": "stdout",
          "text": [
            "[Epoch 82, Batch 700] loss: 0.074\n"
          ]
        },
        {
          "output_type": "stream",
          "name": "stderr",
          "text": [
            "Epoch 82/250: 100%|██████████| 782/782 [00:19<00:00, 41.05it/s]\n"
          ]
        },
        {
          "output_type": "stream",
          "name": "stdout",
          "text": [
            "Checkpoint saved at /content/gdrive/My Drive/checkpoints/AsymmetricAutoencoderMinus1/checkpoint_epoch_82.pth\n"
          ]
        },
        {
          "output_type": "stream",
          "name": "stderr",
          "text": [
            "Epoch 83/250:  14%|█▎        | 106/782 [00:02<00:16, 41.16it/s]"
          ]
        },
        {
          "output_type": "stream",
          "name": "stdout",
          "text": [
            "[Epoch 83, Batch 100] loss: 0.073\n"
          ]
        },
        {
          "output_type": "stream",
          "name": "stderr",
          "text": [
            "Epoch 83/250:  26%|██▋       | 206/782 [00:05<00:13, 41.32it/s]"
          ]
        },
        {
          "output_type": "stream",
          "name": "stdout",
          "text": [
            "[Epoch 83, Batch 200] loss: 0.074\n"
          ]
        },
        {
          "output_type": "stream",
          "name": "stderr",
          "text": [
            "Epoch 83/250:  39%|███▉      | 306/782 [00:07<00:11, 41.58it/s]"
          ]
        },
        {
          "output_type": "stream",
          "name": "stdout",
          "text": [
            "[Epoch 83, Batch 300] loss: 0.074\n"
          ]
        },
        {
          "output_type": "stream",
          "name": "stderr",
          "text": [
            "Epoch 83/250:  52%|█████▏    | 406/782 [00:09<00:09, 41.28it/s]"
          ]
        },
        {
          "output_type": "stream",
          "name": "stdout",
          "text": [
            "[Epoch 83, Batch 400] loss: 0.074\n"
          ]
        },
        {
          "output_type": "stream",
          "name": "stderr",
          "text": [
            "Epoch 83/250:  65%|██████▍   | 506/782 [00:12<00:06, 40.46it/s]"
          ]
        },
        {
          "output_type": "stream",
          "name": "stdout",
          "text": [
            "[Epoch 83, Batch 500] loss: 0.075\n"
          ]
        },
        {
          "output_type": "stream",
          "name": "stderr",
          "text": [
            "Epoch 83/250:  77%|███████▋  | 606/782 [00:14<00:04, 41.27it/s]"
          ]
        },
        {
          "output_type": "stream",
          "name": "stdout",
          "text": [
            "[Epoch 83, Batch 600] loss: 0.074\n"
          ]
        },
        {
          "output_type": "stream",
          "name": "stderr",
          "text": [
            "Epoch 83/250:  90%|█████████ | 706/782 [00:17<00:01, 41.49it/s]"
          ]
        },
        {
          "output_type": "stream",
          "name": "stdout",
          "text": [
            "[Epoch 83, Batch 700] loss: 0.074\n"
          ]
        },
        {
          "output_type": "stream",
          "name": "stderr",
          "text": [
            "Epoch 83/250: 100%|██████████| 782/782 [00:19<00:00, 41.04it/s]\n"
          ]
        },
        {
          "output_type": "stream",
          "name": "stdout",
          "text": [
            "Checkpoint saved at /content/gdrive/My Drive/checkpoints/AsymmetricAutoencoderMinus1/checkpoint_epoch_83.pth\n"
          ]
        },
        {
          "output_type": "stream",
          "name": "stderr",
          "text": [
            "Epoch 84/250:  14%|█▎        | 106/782 [00:02<00:16, 41.53it/s]"
          ]
        },
        {
          "output_type": "stream",
          "name": "stdout",
          "text": [
            "[Epoch 84, Batch 100] loss: 0.074\n"
          ]
        },
        {
          "output_type": "stream",
          "name": "stderr",
          "text": [
            "Epoch 84/250:  26%|██▋       | 206/782 [00:05<00:13, 41.48it/s]"
          ]
        },
        {
          "output_type": "stream",
          "name": "stdout",
          "text": [
            "[Epoch 84, Batch 200] loss: 0.075\n"
          ]
        },
        {
          "output_type": "stream",
          "name": "stderr",
          "text": [
            "Epoch 84/250:  39%|███▉      | 306/782 [00:07<00:11, 40.54it/s]"
          ]
        },
        {
          "output_type": "stream",
          "name": "stdout",
          "text": [
            "[Epoch 84, Batch 300] loss: 0.073\n"
          ]
        },
        {
          "output_type": "stream",
          "name": "stderr",
          "text": [
            "Epoch 84/250:  52%|█████▏    | 406/782 [00:09<00:09, 41.14it/s]"
          ]
        },
        {
          "output_type": "stream",
          "name": "stdout",
          "text": [
            "[Epoch 84, Batch 400] loss: 0.074\n"
          ]
        },
        {
          "output_type": "stream",
          "name": "stderr",
          "text": [
            "Epoch 84/250:  65%|██████▍   | 506/782 [00:12<00:06, 41.82it/s]"
          ]
        },
        {
          "output_type": "stream",
          "name": "stdout",
          "text": [
            "[Epoch 84, Batch 500] loss: 0.073\n"
          ]
        },
        {
          "output_type": "stream",
          "name": "stderr",
          "text": [
            "Epoch 84/250:  77%|███████▋  | 606/782 [00:14<00:04, 41.17it/s]"
          ]
        },
        {
          "output_type": "stream",
          "name": "stdout",
          "text": [
            "[Epoch 84, Batch 600] loss: 0.074\n"
          ]
        },
        {
          "output_type": "stream",
          "name": "stderr",
          "text": [
            "Epoch 84/250:  90%|█████████ | 706/782 [00:17<00:01, 41.27it/s]"
          ]
        },
        {
          "output_type": "stream",
          "name": "stdout",
          "text": [
            "[Epoch 84, Batch 700] loss: 0.074\n"
          ]
        },
        {
          "output_type": "stream",
          "name": "stderr",
          "text": [
            "Epoch 84/250: 100%|██████████| 782/782 [00:19<00:00, 41.12it/s]\n"
          ]
        },
        {
          "output_type": "stream",
          "name": "stdout",
          "text": [
            "Checkpoint saved at /content/gdrive/My Drive/checkpoints/AsymmetricAutoencoderMinus1/checkpoint_epoch_84.pth\n"
          ]
        },
        {
          "output_type": "stream",
          "name": "stderr",
          "text": [
            "Epoch 85/250:  14%|█▎        | 106/782 [00:02<00:16, 41.59it/s]"
          ]
        },
        {
          "output_type": "stream",
          "name": "stdout",
          "text": [
            "[Epoch 85, Batch 100] loss: 0.074\n"
          ]
        },
        {
          "output_type": "stream",
          "name": "stderr",
          "text": [
            "Epoch 85/250:  26%|██▋       | 206/782 [00:05<00:13, 41.93it/s]"
          ]
        },
        {
          "output_type": "stream",
          "name": "stdout",
          "text": [
            "[Epoch 85, Batch 200] loss: 0.075\n"
          ]
        },
        {
          "output_type": "stream",
          "name": "stderr",
          "text": [
            "Epoch 85/250:  39%|███▉      | 306/782 [00:07<00:11, 41.84it/s]"
          ]
        },
        {
          "output_type": "stream",
          "name": "stdout",
          "text": [
            "[Epoch 85, Batch 300] loss: 0.074\n"
          ]
        },
        {
          "output_type": "stream",
          "name": "stderr",
          "text": [
            "Epoch 85/250:  52%|█████▏    | 406/782 [00:09<00:09, 41.47it/s]"
          ]
        },
        {
          "output_type": "stream",
          "name": "stdout",
          "text": [
            "[Epoch 85, Batch 400] loss: 0.073\n"
          ]
        },
        {
          "output_type": "stream",
          "name": "stderr",
          "text": [
            "Epoch 85/250:  65%|██████▍   | 506/782 [00:12<00:06, 40.81it/s]"
          ]
        },
        {
          "output_type": "stream",
          "name": "stdout",
          "text": [
            "[Epoch 85, Batch 500] loss: 0.074\n"
          ]
        },
        {
          "output_type": "stream",
          "name": "stderr",
          "text": [
            "Epoch 85/250:  77%|███████▋  | 606/782 [00:14<00:04, 41.81it/s]"
          ]
        },
        {
          "output_type": "stream",
          "name": "stdout",
          "text": [
            "[Epoch 85, Batch 600] loss: 0.073\n"
          ]
        },
        {
          "output_type": "stream",
          "name": "stderr",
          "text": [
            "Epoch 85/250:  90%|█████████ | 706/782 [00:17<00:01, 41.55it/s]"
          ]
        },
        {
          "output_type": "stream",
          "name": "stdout",
          "text": [
            "[Epoch 85, Batch 700] loss: 0.074\n"
          ]
        },
        {
          "output_type": "stream",
          "name": "stderr",
          "text": [
            "Epoch 85/250: 100%|██████████| 782/782 [00:18<00:00, 41.22it/s]\n"
          ]
        },
        {
          "output_type": "stream",
          "name": "stdout",
          "text": [
            "Checkpoint saved at /content/gdrive/My Drive/checkpoints/AsymmetricAutoencoderMinus1/checkpoint_epoch_85.pth\n"
          ]
        },
        {
          "output_type": "stream",
          "name": "stderr",
          "text": [
            "Epoch 86/250:  14%|█▎        | 106/782 [00:02<00:16, 41.39it/s]"
          ]
        },
        {
          "output_type": "stream",
          "name": "stdout",
          "text": [
            "[Epoch 86, Batch 100] loss: 0.073\n"
          ]
        },
        {
          "output_type": "stream",
          "name": "stderr",
          "text": [
            "Epoch 86/250:  26%|██▋       | 206/782 [00:05<00:13, 41.79it/s]"
          ]
        },
        {
          "output_type": "stream",
          "name": "stdout",
          "text": [
            "[Epoch 86, Batch 200] loss: 0.073\n"
          ]
        },
        {
          "output_type": "stream",
          "name": "stderr",
          "text": [
            "Epoch 86/250:  39%|███▉      | 306/782 [00:07<00:11, 41.19it/s]"
          ]
        },
        {
          "output_type": "stream",
          "name": "stdout",
          "text": [
            "[Epoch 86, Batch 300] loss: 0.074\n"
          ]
        },
        {
          "output_type": "stream",
          "name": "stderr",
          "text": [
            "Epoch 86/250:  52%|█████▏    | 406/782 [00:09<00:09, 41.20it/s]"
          ]
        },
        {
          "output_type": "stream",
          "name": "stdout",
          "text": [
            "[Epoch 86, Batch 400] loss: 0.074\n"
          ]
        },
        {
          "output_type": "stream",
          "name": "stderr",
          "text": [
            "Epoch 86/250:  65%|██████▍   | 506/782 [00:12<00:06, 41.56it/s]"
          ]
        },
        {
          "output_type": "stream",
          "name": "stdout",
          "text": [
            "[Epoch 86, Batch 500] loss: 0.074\n"
          ]
        },
        {
          "output_type": "stream",
          "name": "stderr",
          "text": [
            "Epoch 86/250:  77%|███████▋  | 606/782 [00:14<00:04, 41.12it/s]"
          ]
        },
        {
          "output_type": "stream",
          "name": "stdout",
          "text": [
            "[Epoch 86, Batch 600] loss: 0.074\n"
          ]
        },
        {
          "output_type": "stream",
          "name": "stderr",
          "text": [
            "Epoch 86/250:  90%|█████████ | 706/782 [00:17<00:01, 41.80it/s]"
          ]
        },
        {
          "output_type": "stream",
          "name": "stdout",
          "text": [
            "[Epoch 86, Batch 700] loss: 0.074\n"
          ]
        },
        {
          "output_type": "stream",
          "name": "stderr",
          "text": [
            "Epoch 86/250: 100%|██████████| 782/782 [00:18<00:00, 41.20it/s]\n"
          ]
        },
        {
          "output_type": "stream",
          "name": "stdout",
          "text": [
            "Checkpoint saved at /content/gdrive/My Drive/checkpoints/AsymmetricAutoencoderMinus1/checkpoint_epoch_86.pth\n"
          ]
        },
        {
          "output_type": "stream",
          "name": "stderr",
          "text": [
            "Epoch 87/250:  14%|█▎        | 106/782 [00:02<00:16, 41.46it/s]"
          ]
        },
        {
          "output_type": "stream",
          "name": "stdout",
          "text": [
            "[Epoch 87, Batch 100] loss: 0.074\n"
          ]
        },
        {
          "output_type": "stream",
          "name": "stderr",
          "text": [
            "Epoch 87/250:  26%|██▋       | 206/782 [00:05<00:13, 41.57it/s]"
          ]
        },
        {
          "output_type": "stream",
          "name": "stdout",
          "text": [
            "[Epoch 87, Batch 200] loss: 0.074\n"
          ]
        },
        {
          "output_type": "stream",
          "name": "stderr",
          "text": [
            "Epoch 87/250:  39%|███▉      | 306/782 [00:07<00:11, 41.65it/s]"
          ]
        },
        {
          "output_type": "stream",
          "name": "stdout",
          "text": [
            "[Epoch 87, Batch 300] loss: 0.074\n"
          ]
        },
        {
          "output_type": "stream",
          "name": "stderr",
          "text": [
            "Epoch 87/250:  52%|█████▏    | 406/782 [00:09<00:09, 40.94it/s]"
          ]
        },
        {
          "output_type": "stream",
          "name": "stdout",
          "text": [
            "[Epoch 87, Batch 400] loss: 0.073\n"
          ]
        },
        {
          "output_type": "stream",
          "name": "stderr",
          "text": [
            "Epoch 87/250:  65%|██████▍   | 506/782 [00:12<00:06, 41.54it/s]"
          ]
        },
        {
          "output_type": "stream",
          "name": "stdout",
          "text": [
            "[Epoch 87, Batch 500] loss: 0.074\n"
          ]
        },
        {
          "output_type": "stream",
          "name": "stderr",
          "text": [
            "Epoch 87/250:  77%|███████▋  | 606/782 [00:14<00:04, 41.53it/s]"
          ]
        },
        {
          "output_type": "stream",
          "name": "stdout",
          "text": [
            "[Epoch 87, Batch 600] loss: 0.074\n"
          ]
        },
        {
          "output_type": "stream",
          "name": "stderr",
          "text": [
            "Epoch 87/250:  90%|█████████ | 706/782 [00:17<00:01, 41.07it/s]"
          ]
        },
        {
          "output_type": "stream",
          "name": "stdout",
          "text": [
            "[Epoch 87, Batch 700] loss: 0.074\n"
          ]
        },
        {
          "output_type": "stream",
          "name": "stderr",
          "text": [
            "Epoch 87/250: 100%|██████████| 782/782 [00:18<00:00, 41.17it/s]\n"
          ]
        },
        {
          "output_type": "stream",
          "name": "stdout",
          "text": [
            "Checkpoint saved at /content/gdrive/My Drive/checkpoints/AsymmetricAutoencoderMinus1/checkpoint_epoch_87.pth\n"
          ]
        },
        {
          "output_type": "stream",
          "name": "stderr",
          "text": [
            "Epoch 88/250:  14%|█▎        | 106/782 [00:02<00:16, 42.00it/s]"
          ]
        },
        {
          "output_type": "stream",
          "name": "stdout",
          "text": [
            "[Epoch 88, Batch 100] loss: 0.074\n"
          ]
        },
        {
          "output_type": "stream",
          "name": "stderr",
          "text": [
            "Epoch 88/250:  26%|██▋       | 206/782 [00:05<00:13, 41.48it/s]"
          ]
        },
        {
          "output_type": "stream",
          "name": "stdout",
          "text": [
            "[Epoch 88, Batch 200] loss: 0.074\n"
          ]
        },
        {
          "output_type": "stream",
          "name": "stderr",
          "text": [
            "Epoch 88/250:  39%|███▉      | 306/782 [00:07<00:11, 41.28it/s]"
          ]
        },
        {
          "output_type": "stream",
          "name": "stdout",
          "text": [
            "[Epoch 88, Batch 300] loss: 0.073\n"
          ]
        },
        {
          "output_type": "stream",
          "name": "stderr",
          "text": [
            "Epoch 88/250:  52%|█████▏    | 406/782 [00:09<00:09, 41.27it/s]"
          ]
        },
        {
          "output_type": "stream",
          "name": "stdout",
          "text": [
            "[Epoch 88, Batch 400] loss: 0.074\n"
          ]
        },
        {
          "output_type": "stream",
          "name": "stderr",
          "text": [
            "Epoch 88/250:  65%|██████▍   | 506/782 [00:12<00:06, 41.32it/s]"
          ]
        },
        {
          "output_type": "stream",
          "name": "stdout",
          "text": [
            "[Epoch 88, Batch 500] loss: 0.073\n"
          ]
        },
        {
          "output_type": "stream",
          "name": "stderr",
          "text": [
            "Epoch 88/250:  77%|███████▋  | 606/782 [00:14<00:04, 41.23it/s]"
          ]
        },
        {
          "output_type": "stream",
          "name": "stdout",
          "text": [
            "[Epoch 88, Batch 600] loss: 0.074\n"
          ]
        },
        {
          "output_type": "stream",
          "name": "stderr",
          "text": [
            "Epoch 88/250:  90%|█████████ | 706/782 [00:17<00:01, 41.88it/s]"
          ]
        },
        {
          "output_type": "stream",
          "name": "stdout",
          "text": [
            "[Epoch 88, Batch 700] loss: 0.074\n"
          ]
        },
        {
          "output_type": "stream",
          "name": "stderr",
          "text": [
            "Epoch 88/250: 100%|██████████| 782/782 [00:18<00:00, 41.18it/s]\n"
          ]
        },
        {
          "output_type": "stream",
          "name": "stdout",
          "text": [
            "Checkpoint saved at /content/gdrive/My Drive/checkpoints/AsymmetricAutoencoderMinus1/checkpoint_epoch_88.pth\n"
          ]
        },
        {
          "output_type": "stream",
          "name": "stderr",
          "text": [
            "Epoch 89/250:  14%|█▎        | 106/782 [00:02<00:16, 41.43it/s]"
          ]
        },
        {
          "output_type": "stream",
          "name": "stdout",
          "text": [
            "[Epoch 89, Batch 100] loss: 0.074\n"
          ]
        },
        {
          "output_type": "stream",
          "name": "stderr",
          "text": [
            "Epoch 89/250:  26%|██▋       | 206/782 [00:05<00:13, 41.40it/s]"
          ]
        },
        {
          "output_type": "stream",
          "name": "stdout",
          "text": [
            "[Epoch 89, Batch 200] loss: 0.073\n"
          ]
        },
        {
          "output_type": "stream",
          "name": "stderr",
          "text": [
            "Epoch 89/250:  39%|███▉      | 306/782 [00:07<00:11, 41.53it/s]"
          ]
        },
        {
          "output_type": "stream",
          "name": "stdout",
          "text": [
            "[Epoch 89, Batch 300] loss: 0.075\n"
          ]
        },
        {
          "output_type": "stream",
          "name": "stderr",
          "text": [
            "Epoch 89/250:  52%|█████▏    | 406/782 [00:09<00:09, 41.26it/s]"
          ]
        },
        {
          "output_type": "stream",
          "name": "stdout",
          "text": [
            "[Epoch 89, Batch 400] loss: 0.074\n"
          ]
        },
        {
          "output_type": "stream",
          "name": "stderr",
          "text": [
            "Epoch 89/250:  65%|██████▍   | 506/782 [00:12<00:06, 40.70it/s]"
          ]
        },
        {
          "output_type": "stream",
          "name": "stdout",
          "text": [
            "[Epoch 89, Batch 500] loss: 0.074\n"
          ]
        },
        {
          "output_type": "stream",
          "name": "stderr",
          "text": [
            "Epoch 89/250:  77%|███████▋  | 606/782 [00:14<00:04, 41.57it/s]"
          ]
        },
        {
          "output_type": "stream",
          "name": "stdout",
          "text": [
            "[Epoch 89, Batch 600] loss: 0.074\n"
          ]
        },
        {
          "output_type": "stream",
          "name": "stderr",
          "text": [
            "Epoch 89/250:  90%|█████████ | 706/782 [00:17<00:01, 41.12it/s]"
          ]
        },
        {
          "output_type": "stream",
          "name": "stdout",
          "text": [
            "[Epoch 89, Batch 700] loss: 0.074\n"
          ]
        },
        {
          "output_type": "stream",
          "name": "stderr",
          "text": [
            "Epoch 89/250: 100%|██████████| 782/782 [00:19<00:00, 41.06it/s]\n"
          ]
        },
        {
          "output_type": "stream",
          "name": "stdout",
          "text": [
            "Checkpoint saved at /content/gdrive/My Drive/checkpoints/AsymmetricAutoencoderMinus1/checkpoint_epoch_89.pth\n"
          ]
        },
        {
          "output_type": "stream",
          "name": "stderr",
          "text": [
            "Epoch 90/250:  14%|█▎        | 106/782 [00:02<00:16, 41.73it/s]"
          ]
        },
        {
          "output_type": "stream",
          "name": "stdout",
          "text": [
            "[Epoch 90, Batch 100] loss: 0.074\n"
          ]
        },
        {
          "output_type": "stream",
          "name": "stderr",
          "text": [
            "Epoch 90/250:  26%|██▋       | 206/782 [00:05<00:13, 41.31it/s]"
          ]
        },
        {
          "output_type": "stream",
          "name": "stdout",
          "text": [
            "[Epoch 90, Batch 200] loss: 0.073\n"
          ]
        },
        {
          "output_type": "stream",
          "name": "stderr",
          "text": [
            "Epoch 90/250:  39%|███▉      | 306/782 [00:07<00:11, 41.45it/s]"
          ]
        },
        {
          "output_type": "stream",
          "name": "stdout",
          "text": [
            "[Epoch 90, Batch 300] loss: 0.074\n"
          ]
        },
        {
          "output_type": "stream",
          "name": "stderr",
          "text": [
            "Epoch 90/250:  52%|█████▏    | 406/782 [00:09<00:09, 40.55it/s]"
          ]
        },
        {
          "output_type": "stream",
          "name": "stdout",
          "text": [
            "[Epoch 90, Batch 400] loss: 0.074\n"
          ]
        },
        {
          "output_type": "stream",
          "name": "stderr",
          "text": [
            "Epoch 90/250:  65%|██████▍   | 506/782 [00:12<00:06, 41.40it/s]"
          ]
        },
        {
          "output_type": "stream",
          "name": "stdout",
          "text": [
            "[Epoch 90, Batch 500] loss: 0.074\n"
          ]
        },
        {
          "output_type": "stream",
          "name": "stderr",
          "text": [
            "Epoch 90/250:  77%|███████▋  | 606/782 [00:14<00:04, 41.10it/s]"
          ]
        },
        {
          "output_type": "stream",
          "name": "stdout",
          "text": [
            "[Epoch 90, Batch 600] loss: 0.073\n"
          ]
        },
        {
          "output_type": "stream",
          "name": "stderr",
          "text": [
            "Epoch 90/250:  90%|█████████ | 706/782 [00:17<00:01, 41.39it/s]"
          ]
        },
        {
          "output_type": "stream",
          "name": "stdout",
          "text": [
            "[Epoch 90, Batch 700] loss: 0.074\n"
          ]
        },
        {
          "output_type": "stream",
          "name": "stderr",
          "text": [
            "Epoch 90/250: 100%|██████████| 782/782 [00:19<00:00, 41.15it/s]\n"
          ]
        },
        {
          "output_type": "stream",
          "name": "stdout",
          "text": [
            "Checkpoint saved at /content/gdrive/My Drive/checkpoints/AsymmetricAutoencoderMinus1/checkpoint_epoch_90.pth\n",
            "Validation Loss after epoch 90: 0.0742\n"
          ]
        },
        {
          "output_type": "stream",
          "name": "stderr",
          "text": [
            "Epoch 91/250:  14%|█▎        | 106/782 [00:02<00:16, 41.61it/s]"
          ]
        },
        {
          "output_type": "stream",
          "name": "stdout",
          "text": [
            "[Epoch 91, Batch 100] loss: 0.074\n"
          ]
        },
        {
          "output_type": "stream",
          "name": "stderr",
          "text": [
            "Epoch 91/250:  26%|██▋       | 206/782 [00:05<00:13, 41.52it/s]"
          ]
        },
        {
          "output_type": "stream",
          "name": "stdout",
          "text": [
            "[Epoch 91, Batch 200] loss: 0.074\n"
          ]
        },
        {
          "output_type": "stream",
          "name": "stderr",
          "text": [
            "Epoch 91/250:  39%|███▉      | 306/782 [00:07<00:11, 41.13it/s]"
          ]
        },
        {
          "output_type": "stream",
          "name": "stdout",
          "text": [
            "[Epoch 91, Batch 300] loss: 0.074\n"
          ]
        },
        {
          "output_type": "stream",
          "name": "stderr",
          "text": [
            "Epoch 91/250:  52%|█████▏    | 406/782 [00:09<00:09, 41.06it/s]"
          ]
        },
        {
          "output_type": "stream",
          "name": "stdout",
          "text": [
            "[Epoch 91, Batch 400] loss: 0.075\n"
          ]
        },
        {
          "output_type": "stream",
          "name": "stderr",
          "text": [
            "Epoch 91/250:  65%|██████▍   | 506/782 [00:12<00:06, 41.64it/s]"
          ]
        },
        {
          "output_type": "stream",
          "name": "stdout",
          "text": [
            "[Epoch 91, Batch 500] loss: 0.073\n"
          ]
        },
        {
          "output_type": "stream",
          "name": "stderr",
          "text": [
            "Epoch 91/250:  77%|███████▋  | 606/782 [00:14<00:04, 41.32it/s]"
          ]
        },
        {
          "output_type": "stream",
          "name": "stdout",
          "text": [
            "[Epoch 91, Batch 600] loss: 0.074\n"
          ]
        },
        {
          "output_type": "stream",
          "name": "stderr",
          "text": [
            "Epoch 91/250:  90%|█████████ | 706/782 [00:17<00:01, 41.41it/s]"
          ]
        },
        {
          "output_type": "stream",
          "name": "stdout",
          "text": [
            "[Epoch 91, Batch 700] loss: 0.073\n"
          ]
        },
        {
          "output_type": "stream",
          "name": "stderr",
          "text": [
            "Epoch 91/250: 100%|██████████| 782/782 [00:19<00:00, 41.11it/s]\n"
          ]
        },
        {
          "output_type": "stream",
          "name": "stdout",
          "text": [
            "Checkpoint saved at /content/gdrive/My Drive/checkpoints/AsymmetricAutoencoderMinus1/checkpoint_epoch_91.pth\n"
          ]
        },
        {
          "output_type": "stream",
          "name": "stderr",
          "text": [
            "Epoch 92/250:  14%|█▎        | 106/782 [00:02<00:16, 41.39it/s]"
          ]
        },
        {
          "output_type": "stream",
          "name": "stdout",
          "text": [
            "[Epoch 92, Batch 100] loss: 0.074\n"
          ]
        },
        {
          "output_type": "stream",
          "name": "stderr",
          "text": [
            "Epoch 92/250:  26%|██▋       | 206/782 [00:05<00:14, 40.67it/s]"
          ]
        },
        {
          "output_type": "stream",
          "name": "stdout",
          "text": [
            "[Epoch 92, Batch 200] loss: 0.074\n"
          ]
        },
        {
          "output_type": "stream",
          "name": "stderr",
          "text": [
            "Epoch 92/250:  39%|███▉      | 306/782 [00:07<00:11, 41.40it/s]"
          ]
        },
        {
          "output_type": "stream",
          "name": "stdout",
          "text": [
            "[Epoch 92, Batch 300] loss: 0.073\n"
          ]
        },
        {
          "output_type": "stream",
          "name": "stderr",
          "text": [
            "Epoch 92/250:  52%|█████▏    | 406/782 [00:09<00:09, 41.39it/s]"
          ]
        },
        {
          "output_type": "stream",
          "name": "stdout",
          "text": [
            "[Epoch 92, Batch 400] loss: 0.074\n"
          ]
        },
        {
          "output_type": "stream",
          "name": "stderr",
          "text": [
            "Epoch 92/250:  65%|██████▍   | 506/782 [00:12<00:06, 40.26it/s]"
          ]
        },
        {
          "output_type": "stream",
          "name": "stdout",
          "text": [
            "[Epoch 92, Batch 500] loss: 0.074\n"
          ]
        },
        {
          "output_type": "stream",
          "name": "stderr",
          "text": [
            "Epoch 92/250:  77%|███████▋  | 606/782 [00:14<00:04, 41.67it/s]"
          ]
        },
        {
          "output_type": "stream",
          "name": "stdout",
          "text": [
            "[Epoch 92, Batch 600] loss: 0.074\n"
          ]
        },
        {
          "output_type": "stream",
          "name": "stderr",
          "text": [
            "Epoch 92/250:  90%|█████████ | 706/782 [00:17<00:01, 41.61it/s]"
          ]
        },
        {
          "output_type": "stream",
          "name": "stdout",
          "text": [
            "[Epoch 92, Batch 700] loss: 0.074\n"
          ]
        },
        {
          "output_type": "stream",
          "name": "stderr",
          "text": [
            "Epoch 92/250: 100%|██████████| 782/782 [00:19<00:00, 41.07it/s]\n"
          ]
        },
        {
          "output_type": "stream",
          "name": "stdout",
          "text": [
            "Checkpoint saved at /content/gdrive/My Drive/checkpoints/AsymmetricAutoencoderMinus1/checkpoint_epoch_92.pth\n"
          ]
        },
        {
          "output_type": "stream",
          "name": "stderr",
          "text": [
            "Epoch 93/250:  14%|█▎        | 106/782 [00:02<00:16, 41.63it/s]"
          ]
        },
        {
          "output_type": "stream",
          "name": "stdout",
          "text": [
            "[Epoch 93, Batch 100] loss: 0.073\n"
          ]
        },
        {
          "output_type": "stream",
          "name": "stderr",
          "text": [
            "Epoch 93/250:  26%|██▋       | 206/782 [00:05<00:13, 41.52it/s]"
          ]
        },
        {
          "output_type": "stream",
          "name": "stdout",
          "text": [
            "[Epoch 93, Batch 200] loss: 0.074\n"
          ]
        },
        {
          "output_type": "stream",
          "name": "stderr",
          "text": [
            "Epoch 93/250:  39%|███▉      | 306/782 [00:07<00:11, 41.19it/s]"
          ]
        },
        {
          "output_type": "stream",
          "name": "stdout",
          "text": [
            "[Epoch 93, Batch 300] loss: 0.074\n"
          ]
        },
        {
          "output_type": "stream",
          "name": "stderr",
          "text": [
            "Epoch 93/250:  52%|█████▏    | 406/782 [00:09<00:09, 40.76it/s]"
          ]
        },
        {
          "output_type": "stream",
          "name": "stdout",
          "text": [
            "[Epoch 93, Batch 400] loss: 0.074\n"
          ]
        },
        {
          "output_type": "stream",
          "name": "stderr",
          "text": [
            "Epoch 93/250:  65%|██████▍   | 506/782 [00:12<00:06, 41.42it/s]"
          ]
        },
        {
          "output_type": "stream",
          "name": "stdout",
          "text": [
            "[Epoch 93, Batch 500] loss: 0.073\n"
          ]
        },
        {
          "output_type": "stream",
          "name": "stderr",
          "text": [
            "Epoch 93/250:  77%|███████▋  | 606/782 [00:14<00:04, 41.17it/s]"
          ]
        },
        {
          "output_type": "stream",
          "name": "stdout",
          "text": [
            "[Epoch 93, Batch 600] loss: 0.075\n"
          ]
        },
        {
          "output_type": "stream",
          "name": "stderr",
          "text": [
            "Epoch 93/250:  90%|█████████ | 706/782 [00:17<00:01, 41.43it/s]"
          ]
        },
        {
          "output_type": "stream",
          "name": "stdout",
          "text": [
            "[Epoch 93, Batch 700] loss: 0.074\n"
          ]
        },
        {
          "output_type": "stream",
          "name": "stderr",
          "text": [
            "Epoch 93/250: 100%|██████████| 782/782 [00:18<00:00, 41.17it/s]\n"
          ]
        },
        {
          "output_type": "stream",
          "name": "stdout",
          "text": [
            "Checkpoint saved at /content/gdrive/My Drive/checkpoints/AsymmetricAutoencoderMinus1/checkpoint_epoch_93.pth\n"
          ]
        },
        {
          "output_type": "stream",
          "name": "stderr",
          "text": [
            "Epoch 94/250:  14%|█▎        | 106/782 [00:02<00:16, 41.30it/s]"
          ]
        },
        {
          "output_type": "stream",
          "name": "stdout",
          "text": [
            "[Epoch 94, Batch 100] loss: 0.073\n"
          ]
        },
        {
          "output_type": "stream",
          "name": "stderr",
          "text": [
            "Epoch 94/250:  26%|██▋       | 206/782 [00:05<00:13, 41.29it/s]"
          ]
        },
        {
          "output_type": "stream",
          "name": "stdout",
          "text": [
            "[Epoch 94, Batch 200] loss: 0.073\n"
          ]
        },
        {
          "output_type": "stream",
          "name": "stderr",
          "text": [
            "Epoch 94/250:  39%|███▉      | 306/782 [00:07<00:11, 41.52it/s]"
          ]
        },
        {
          "output_type": "stream",
          "name": "stdout",
          "text": [
            "[Epoch 94, Batch 300] loss: 0.074\n"
          ]
        },
        {
          "output_type": "stream",
          "name": "stderr",
          "text": [
            "Epoch 94/250:  52%|█████▏    | 406/782 [00:09<00:08, 41.78it/s]"
          ]
        },
        {
          "output_type": "stream",
          "name": "stdout",
          "text": [
            "[Epoch 94, Batch 400] loss: 0.074\n"
          ]
        },
        {
          "output_type": "stream",
          "name": "stderr",
          "text": [
            "Epoch 94/250:  65%|██████▍   | 506/782 [00:12<00:06, 40.63it/s]"
          ]
        },
        {
          "output_type": "stream",
          "name": "stdout",
          "text": [
            "[Epoch 94, Batch 500] loss: 0.074\n"
          ]
        },
        {
          "output_type": "stream",
          "name": "stderr",
          "text": [
            "Epoch 94/250:  77%|███████▋  | 606/782 [00:14<00:04, 41.63it/s]"
          ]
        },
        {
          "output_type": "stream",
          "name": "stdout",
          "text": [
            "[Epoch 94, Batch 600] loss: 0.073\n"
          ]
        },
        {
          "output_type": "stream",
          "name": "stderr",
          "text": [
            "Epoch 94/250:  90%|█████████ | 706/782 [00:17<00:01, 41.83it/s]"
          ]
        },
        {
          "output_type": "stream",
          "name": "stdout",
          "text": [
            "[Epoch 94, Batch 700] loss: 0.074\n"
          ]
        },
        {
          "output_type": "stream",
          "name": "stderr",
          "text": [
            "Epoch 94/250: 100%|██████████| 782/782 [00:18<00:00, 41.18it/s]\n"
          ]
        },
        {
          "output_type": "stream",
          "name": "stdout",
          "text": [
            "Checkpoint saved at /content/gdrive/My Drive/checkpoints/AsymmetricAutoencoderMinus1/checkpoint_epoch_94.pth\n"
          ]
        },
        {
          "output_type": "stream",
          "name": "stderr",
          "text": [
            "Epoch 95/250:  14%|█▎        | 106/782 [00:02<00:16, 41.98it/s]"
          ]
        },
        {
          "output_type": "stream",
          "name": "stdout",
          "text": [
            "[Epoch 95, Batch 100] loss: 0.074\n"
          ]
        },
        {
          "output_type": "stream",
          "name": "stderr",
          "text": [
            "Epoch 95/250:  26%|██▋       | 206/782 [00:05<00:13, 41.33it/s]"
          ]
        },
        {
          "output_type": "stream",
          "name": "stdout",
          "text": [
            "[Epoch 95, Batch 200] loss: 0.074\n"
          ]
        },
        {
          "output_type": "stream",
          "name": "stderr",
          "text": [
            "Epoch 95/250:  39%|███▉      | 306/782 [00:07<00:11, 41.24it/s]"
          ]
        },
        {
          "output_type": "stream",
          "name": "stdout",
          "text": [
            "[Epoch 95, Batch 300] loss: 0.075\n"
          ]
        },
        {
          "output_type": "stream",
          "name": "stderr",
          "text": [
            "Epoch 95/250:  52%|█████▏    | 406/782 [00:09<00:09, 41.53it/s]"
          ]
        },
        {
          "output_type": "stream",
          "name": "stdout",
          "text": [
            "[Epoch 95, Batch 400] loss: 0.074\n"
          ]
        },
        {
          "output_type": "stream",
          "name": "stderr",
          "text": [
            "Epoch 95/250:  65%|██████▍   | 506/782 [00:12<00:06, 41.22it/s]"
          ]
        },
        {
          "output_type": "stream",
          "name": "stdout",
          "text": [
            "[Epoch 95, Batch 500] loss: 0.074\n"
          ]
        },
        {
          "output_type": "stream",
          "name": "stderr",
          "text": [
            "Epoch 95/250:  77%|███████▋  | 606/782 [00:14<00:04, 41.16it/s]"
          ]
        },
        {
          "output_type": "stream",
          "name": "stdout",
          "text": [
            "[Epoch 95, Batch 600] loss: 0.074\n"
          ]
        },
        {
          "output_type": "stream",
          "name": "stderr",
          "text": [
            "Epoch 95/250:  90%|█████████ | 706/782 [00:17<00:01, 41.48it/s]"
          ]
        },
        {
          "output_type": "stream",
          "name": "stdout",
          "text": [
            "[Epoch 95, Batch 700] loss: 0.074\n"
          ]
        },
        {
          "output_type": "stream",
          "name": "stderr",
          "text": [
            "Epoch 95/250: 100%|██████████| 782/782 [00:18<00:00, 41.19it/s]\n"
          ]
        },
        {
          "output_type": "stream",
          "name": "stdout",
          "text": [
            "Checkpoint saved at /content/gdrive/My Drive/checkpoints/AsymmetricAutoencoderMinus1/checkpoint_epoch_95.pth\n"
          ]
        },
        {
          "output_type": "stream",
          "name": "stderr",
          "text": [
            "Epoch 96/250:  14%|█▎        | 106/782 [00:02<00:16, 41.39it/s]"
          ]
        },
        {
          "output_type": "stream",
          "name": "stdout",
          "text": [
            "[Epoch 96, Batch 100] loss: 0.074\n"
          ]
        },
        {
          "output_type": "stream",
          "name": "stderr",
          "text": [
            "Epoch 96/250:  26%|██▋       | 206/782 [00:05<00:13, 41.42it/s]"
          ]
        },
        {
          "output_type": "stream",
          "name": "stdout",
          "text": [
            "[Epoch 96, Batch 200] loss: 0.073\n"
          ]
        },
        {
          "output_type": "stream",
          "name": "stderr",
          "text": [
            "Epoch 96/250:  39%|███▉      | 306/782 [00:07<00:11, 41.61it/s]"
          ]
        },
        {
          "output_type": "stream",
          "name": "stdout",
          "text": [
            "[Epoch 96, Batch 300] loss: 0.073\n"
          ]
        },
        {
          "output_type": "stream",
          "name": "stderr",
          "text": [
            "Epoch 96/250:  52%|█████▏    | 406/782 [00:09<00:09, 41.15it/s]"
          ]
        },
        {
          "output_type": "stream",
          "name": "stdout",
          "text": [
            "[Epoch 96, Batch 400] loss: 0.074\n"
          ]
        },
        {
          "output_type": "stream",
          "name": "stderr",
          "text": [
            "Epoch 96/250:  65%|██████▍   | 506/782 [00:12<00:06, 41.04it/s]"
          ]
        },
        {
          "output_type": "stream",
          "name": "stdout",
          "text": [
            "[Epoch 96, Batch 500] loss: 0.074\n"
          ]
        },
        {
          "output_type": "stream",
          "name": "stderr",
          "text": [
            "Epoch 96/250:  77%|███████▋  | 606/782 [00:14<00:04, 41.69it/s]"
          ]
        },
        {
          "output_type": "stream",
          "name": "stdout",
          "text": [
            "[Epoch 96, Batch 600] loss: 0.073\n"
          ]
        },
        {
          "output_type": "stream",
          "name": "stderr",
          "text": [
            "Epoch 96/250:  90%|█████████ | 706/782 [00:17<00:01, 41.63it/s]"
          ]
        },
        {
          "output_type": "stream",
          "name": "stdout",
          "text": [
            "[Epoch 96, Batch 700] loss: 0.074\n"
          ]
        },
        {
          "output_type": "stream",
          "name": "stderr",
          "text": [
            "Epoch 96/250: 100%|██████████| 782/782 [00:19<00:00, 41.10it/s]\n"
          ]
        },
        {
          "output_type": "stream",
          "name": "stdout",
          "text": [
            "Checkpoint saved at /content/gdrive/My Drive/checkpoints/AsymmetricAutoencoderMinus1/checkpoint_epoch_96.pth\n"
          ]
        },
        {
          "output_type": "stream",
          "name": "stderr",
          "text": [
            "Epoch 97/250:  14%|█▎        | 106/782 [00:02<00:16, 41.85it/s]"
          ]
        },
        {
          "output_type": "stream",
          "name": "stdout",
          "text": [
            "[Epoch 97, Batch 100] loss: 0.074\n"
          ]
        },
        {
          "output_type": "stream",
          "name": "stderr",
          "text": [
            "Epoch 97/250:  26%|██▋       | 206/782 [00:05<00:13, 41.46it/s]"
          ]
        },
        {
          "output_type": "stream",
          "name": "stdout",
          "text": [
            "[Epoch 97, Batch 200] loss: 0.074\n"
          ]
        },
        {
          "output_type": "stream",
          "name": "stderr",
          "text": [
            "Epoch 97/250:  39%|███▉      | 306/782 [00:07<00:11, 41.31it/s]"
          ]
        },
        {
          "output_type": "stream",
          "name": "stdout",
          "text": [
            "[Epoch 97, Batch 300] loss: 0.074\n"
          ]
        },
        {
          "output_type": "stream",
          "name": "stderr",
          "text": [
            "Epoch 97/250:  52%|█████▏    | 406/782 [00:09<00:09, 41.37it/s]"
          ]
        },
        {
          "output_type": "stream",
          "name": "stdout",
          "text": [
            "[Epoch 97, Batch 400] loss: 0.074\n"
          ]
        },
        {
          "output_type": "stream",
          "name": "stderr",
          "text": [
            "Epoch 97/250:  65%|██████▍   | 506/782 [00:12<00:06, 41.30it/s]"
          ]
        },
        {
          "output_type": "stream",
          "name": "stdout",
          "text": [
            "[Epoch 97, Batch 500] loss: 0.074\n"
          ]
        },
        {
          "output_type": "stream",
          "name": "stderr",
          "text": [
            "Epoch 97/250:  77%|███████▋  | 606/782 [00:14<00:04, 41.19it/s]"
          ]
        },
        {
          "output_type": "stream",
          "name": "stdout",
          "text": [
            "[Epoch 97, Batch 600] loss: 0.073\n"
          ]
        },
        {
          "output_type": "stream",
          "name": "stderr",
          "text": [
            "Epoch 97/250:  90%|█████████ | 706/782 [00:17<00:01, 41.18it/s]"
          ]
        },
        {
          "output_type": "stream",
          "name": "stdout",
          "text": [
            "[Epoch 97, Batch 700] loss: 0.073\n"
          ]
        },
        {
          "output_type": "stream",
          "name": "stderr",
          "text": [
            "Epoch 97/250: 100%|██████████| 782/782 [00:19<00:00, 41.10it/s]\n"
          ]
        },
        {
          "output_type": "stream",
          "name": "stdout",
          "text": [
            "Checkpoint saved at /content/gdrive/My Drive/checkpoints/AsymmetricAutoencoderMinus1/checkpoint_epoch_97.pth\n"
          ]
        },
        {
          "output_type": "stream",
          "name": "stderr",
          "text": [
            "Epoch 98/250:  14%|█▎        | 106/782 [00:02<00:16, 41.49it/s]"
          ]
        },
        {
          "output_type": "stream",
          "name": "stdout",
          "text": [
            "[Epoch 98, Batch 100] loss: 0.074\n"
          ]
        },
        {
          "output_type": "stream",
          "name": "stderr",
          "text": [
            "Epoch 98/250:  26%|██▋       | 206/782 [00:05<00:13, 41.50it/s]"
          ]
        },
        {
          "output_type": "stream",
          "name": "stdout",
          "text": [
            "[Epoch 98, Batch 200] loss: 0.074\n"
          ]
        },
        {
          "output_type": "stream",
          "name": "stderr",
          "text": [
            "Epoch 98/250:  39%|███▉      | 306/782 [00:07<00:11, 41.43it/s]"
          ]
        },
        {
          "output_type": "stream",
          "name": "stdout",
          "text": [
            "[Epoch 98, Batch 300] loss: 0.073\n"
          ]
        },
        {
          "output_type": "stream",
          "name": "stderr",
          "text": [
            "Epoch 98/250:  52%|█████▏    | 406/782 [00:09<00:09, 41.32it/s]"
          ]
        },
        {
          "output_type": "stream",
          "name": "stdout",
          "text": [
            "[Epoch 98, Batch 400] loss: 0.074\n"
          ]
        },
        {
          "output_type": "stream",
          "name": "stderr",
          "text": [
            "Epoch 98/250:  65%|██████▍   | 506/782 [00:12<00:06, 40.42it/s]"
          ]
        },
        {
          "output_type": "stream",
          "name": "stdout",
          "text": [
            "[Epoch 98, Batch 500] loss: 0.073\n"
          ]
        },
        {
          "output_type": "stream",
          "name": "stderr",
          "text": [
            "Epoch 98/250:  77%|███████▋  | 606/782 [00:14<00:04, 41.57it/s]"
          ]
        },
        {
          "output_type": "stream",
          "name": "stdout",
          "text": [
            "[Epoch 98, Batch 600] loss: 0.074\n"
          ]
        },
        {
          "output_type": "stream",
          "name": "stderr",
          "text": [
            "Epoch 98/250:  90%|█████████ | 706/782 [00:17<00:01, 41.65it/s]"
          ]
        },
        {
          "output_type": "stream",
          "name": "stdout",
          "text": [
            "[Epoch 98, Batch 700] loss: 0.074\n"
          ]
        },
        {
          "output_type": "stream",
          "name": "stderr",
          "text": [
            "Epoch 98/250: 100%|██████████| 782/782 [00:19<00:00, 41.11it/s]\n"
          ]
        },
        {
          "output_type": "stream",
          "name": "stdout",
          "text": [
            "Checkpoint saved at /content/gdrive/My Drive/checkpoints/AsymmetricAutoencoderMinus1/checkpoint_epoch_98.pth\n"
          ]
        },
        {
          "output_type": "stream",
          "name": "stderr",
          "text": [
            "Epoch 99/250:  14%|█▎        | 106/782 [00:02<00:16, 41.54it/s]"
          ]
        },
        {
          "output_type": "stream",
          "name": "stdout",
          "text": [
            "[Epoch 99, Batch 100] loss: 0.073\n"
          ]
        },
        {
          "output_type": "stream",
          "name": "stderr",
          "text": [
            "Epoch 99/250:  26%|██▋       | 206/782 [00:05<00:13, 41.64it/s]"
          ]
        },
        {
          "output_type": "stream",
          "name": "stdout",
          "text": [
            "[Epoch 99, Batch 200] loss: 0.074\n"
          ]
        },
        {
          "output_type": "stream",
          "name": "stderr",
          "text": [
            "Epoch 99/250:  39%|███▉      | 306/782 [00:07<00:11, 41.25it/s]"
          ]
        },
        {
          "output_type": "stream",
          "name": "stdout",
          "text": [
            "[Epoch 99, Batch 300] loss: 0.074\n"
          ]
        },
        {
          "output_type": "stream",
          "name": "stderr",
          "text": [
            "Epoch 99/250:  52%|█████▏    | 406/782 [00:09<00:09, 41.66it/s]"
          ]
        },
        {
          "output_type": "stream",
          "name": "stdout",
          "text": [
            "[Epoch 99, Batch 400] loss: 0.074\n"
          ]
        },
        {
          "output_type": "stream",
          "name": "stderr",
          "text": [
            "Epoch 99/250:  65%|██████▍   | 506/782 [00:12<00:06, 41.09it/s]"
          ]
        },
        {
          "output_type": "stream",
          "name": "stdout",
          "text": [
            "[Epoch 99, Batch 500] loss: 0.073\n"
          ]
        },
        {
          "output_type": "stream",
          "name": "stderr",
          "text": [
            "Epoch 99/250:  77%|███████▋  | 606/782 [00:14<00:04, 41.28it/s]"
          ]
        },
        {
          "output_type": "stream",
          "name": "stdout",
          "text": [
            "[Epoch 99, Batch 600] loss: 0.074\n"
          ]
        },
        {
          "output_type": "stream",
          "name": "stderr",
          "text": [
            "Epoch 99/250:  90%|█████████ | 706/782 [00:17<00:01, 41.67it/s]"
          ]
        },
        {
          "output_type": "stream",
          "name": "stdout",
          "text": [
            "[Epoch 99, Batch 700] loss: 0.075\n"
          ]
        },
        {
          "output_type": "stream",
          "name": "stderr",
          "text": [
            "Epoch 99/250: 100%|██████████| 782/782 [00:19<00:00, 41.15it/s]\n"
          ]
        },
        {
          "output_type": "stream",
          "name": "stdout",
          "text": [
            "Checkpoint saved at /content/gdrive/My Drive/checkpoints/AsymmetricAutoencoderMinus1/checkpoint_epoch_99.pth\n"
          ]
        },
        {
          "output_type": "stream",
          "name": "stderr",
          "text": [
            "Epoch 100/250:  14%|█▎        | 106/782 [00:02<00:16, 41.92it/s]"
          ]
        },
        {
          "output_type": "stream",
          "name": "stdout",
          "text": [
            "[Epoch 100, Batch 100] loss: 0.073\n"
          ]
        },
        {
          "output_type": "stream",
          "name": "stderr",
          "text": [
            "Epoch 100/250:  26%|██▋       | 206/782 [00:05<00:13, 41.59it/s]"
          ]
        },
        {
          "output_type": "stream",
          "name": "stdout",
          "text": [
            "[Epoch 100, Batch 200] loss: 0.074\n"
          ]
        },
        {
          "output_type": "stream",
          "name": "stderr",
          "text": [
            "Epoch 100/250:  39%|███▉      | 306/782 [00:07<00:11, 41.73it/s]"
          ]
        },
        {
          "output_type": "stream",
          "name": "stdout",
          "text": [
            "[Epoch 100, Batch 300] loss: 0.073\n"
          ]
        },
        {
          "output_type": "stream",
          "name": "stderr",
          "text": [
            "Epoch 100/250:  52%|█████▏    | 406/782 [00:09<00:09, 40.99it/s]"
          ]
        },
        {
          "output_type": "stream",
          "name": "stdout",
          "text": [
            "[Epoch 100, Batch 400] loss: 0.074\n"
          ]
        },
        {
          "output_type": "stream",
          "name": "stderr",
          "text": [
            "Epoch 100/250:  65%|██████▍   | 506/782 [00:12<00:06, 41.60it/s]"
          ]
        },
        {
          "output_type": "stream",
          "name": "stdout",
          "text": [
            "[Epoch 100, Batch 500] loss: 0.074\n"
          ]
        },
        {
          "output_type": "stream",
          "name": "stderr",
          "text": [
            "Epoch 100/250:  77%|███████▋  | 606/782 [00:14<00:04, 41.65it/s]"
          ]
        },
        {
          "output_type": "stream",
          "name": "stdout",
          "text": [
            "[Epoch 100, Batch 600] loss: 0.074\n"
          ]
        },
        {
          "output_type": "stream",
          "name": "stderr",
          "text": [
            "Epoch 100/250:  90%|█████████ | 706/782 [00:17<00:01, 41.79it/s]"
          ]
        },
        {
          "output_type": "stream",
          "name": "stdout",
          "text": [
            "[Epoch 100, Batch 700] loss: 0.074\n"
          ]
        },
        {
          "output_type": "stream",
          "name": "stderr",
          "text": [
            "Epoch 100/250: 100%|██████████| 782/782 [00:18<00:00, 41.27it/s]\n"
          ]
        },
        {
          "output_type": "stream",
          "name": "stdout",
          "text": [
            "Checkpoint saved at /content/gdrive/My Drive/checkpoints/AsymmetricAutoencoderMinus1/checkpoint_epoch_100.pth\n",
            "Validation Loss after epoch 100: 0.0742\n"
          ]
        },
        {
          "output_type": "stream",
          "name": "stderr",
          "text": [
            "Epoch 101/250:  14%|█▎        | 106/782 [00:02<00:16, 41.86it/s]"
          ]
        },
        {
          "output_type": "stream",
          "name": "stdout",
          "text": [
            "[Epoch 101, Batch 100] loss: 0.074\n"
          ]
        },
        {
          "output_type": "stream",
          "name": "stderr",
          "text": [
            "Epoch 101/250:  26%|██▋       | 206/782 [00:05<00:13, 41.34it/s]"
          ]
        },
        {
          "output_type": "stream",
          "name": "stdout",
          "text": [
            "[Epoch 101, Batch 200] loss: 0.073\n"
          ]
        },
        {
          "output_type": "stream",
          "name": "stderr",
          "text": [
            "Epoch 101/250:  39%|███▉      | 306/782 [00:07<00:11, 41.04it/s]"
          ]
        },
        {
          "output_type": "stream",
          "name": "stdout",
          "text": [
            "[Epoch 101, Batch 300] loss: 0.074\n"
          ]
        },
        {
          "output_type": "stream",
          "name": "stderr",
          "text": [
            "Epoch 101/250:  52%|█████▏    | 406/782 [00:09<00:09, 41.00it/s]"
          ]
        },
        {
          "output_type": "stream",
          "name": "stdout",
          "text": [
            "[Epoch 101, Batch 400] loss: 0.074\n"
          ]
        },
        {
          "output_type": "stream",
          "name": "stderr",
          "text": [
            "Epoch 101/250:  65%|██████▍   | 506/782 [00:12<00:06, 41.61it/s]"
          ]
        },
        {
          "output_type": "stream",
          "name": "stdout",
          "text": [
            "[Epoch 101, Batch 500] loss: 0.074\n"
          ]
        },
        {
          "output_type": "stream",
          "name": "stderr",
          "text": [
            "Epoch 101/250:  77%|███████▋  | 606/782 [00:14<00:04, 41.38it/s]"
          ]
        },
        {
          "output_type": "stream",
          "name": "stdout",
          "text": [
            "[Epoch 101, Batch 600] loss: 0.074\n"
          ]
        },
        {
          "output_type": "stream",
          "name": "stderr",
          "text": [
            "Epoch 101/250:  90%|█████████ | 706/782 [00:17<00:01, 41.83it/s]"
          ]
        },
        {
          "output_type": "stream",
          "name": "stdout",
          "text": [
            "[Epoch 101, Batch 700] loss: 0.074\n"
          ]
        },
        {
          "output_type": "stream",
          "name": "stderr",
          "text": [
            "Epoch 101/250: 100%|██████████| 782/782 [00:18<00:00, 41.21it/s]\n"
          ]
        },
        {
          "output_type": "stream",
          "name": "stdout",
          "text": [
            "Checkpoint saved at /content/gdrive/My Drive/checkpoints/AsymmetricAutoencoderMinus1/checkpoint_epoch_101.pth\n"
          ]
        },
        {
          "output_type": "stream",
          "name": "stderr",
          "text": [
            "Epoch 102/250:  14%|█▎        | 106/782 [00:02<00:16, 41.27it/s]"
          ]
        },
        {
          "output_type": "stream",
          "name": "stdout",
          "text": [
            "[Epoch 102, Batch 100] loss: 0.073\n"
          ]
        },
        {
          "output_type": "stream",
          "name": "stderr",
          "text": [
            "Epoch 102/250:  26%|██▋       | 206/782 [00:05<00:13, 41.54it/s]"
          ]
        },
        {
          "output_type": "stream",
          "name": "stdout",
          "text": [
            "[Epoch 102, Batch 200] loss: 0.074\n"
          ]
        },
        {
          "output_type": "stream",
          "name": "stderr",
          "text": [
            "Epoch 102/250:  39%|███▉      | 306/782 [00:07<00:11, 41.68it/s]"
          ]
        },
        {
          "output_type": "stream",
          "name": "stdout",
          "text": [
            "[Epoch 102, Batch 300] loss: 0.074\n"
          ]
        },
        {
          "output_type": "stream",
          "name": "stderr",
          "text": [
            "Epoch 102/250:  52%|█████▏    | 406/782 [00:09<00:09, 40.55it/s]"
          ]
        },
        {
          "output_type": "stream",
          "name": "stdout",
          "text": [
            "[Epoch 102, Batch 400] loss: 0.074\n"
          ]
        },
        {
          "output_type": "stream",
          "name": "stderr",
          "text": [
            "Epoch 102/250:  65%|██████▍   | 506/782 [00:12<00:06, 41.35it/s]"
          ]
        },
        {
          "output_type": "stream",
          "name": "stdout",
          "text": [
            "[Epoch 102, Batch 500] loss: 0.075\n"
          ]
        },
        {
          "output_type": "stream",
          "name": "stderr",
          "text": [
            "Epoch 102/250:  77%|███████▋  | 606/782 [00:14<00:04, 41.59it/s]"
          ]
        },
        {
          "output_type": "stream",
          "name": "stdout",
          "text": [
            "[Epoch 102, Batch 600] loss: 0.073\n"
          ]
        },
        {
          "output_type": "stream",
          "name": "stderr",
          "text": [
            "Epoch 102/250:  90%|█████████ | 706/782 [00:17<00:01, 41.42it/s]"
          ]
        },
        {
          "output_type": "stream",
          "name": "stdout",
          "text": [
            "[Epoch 102, Batch 700] loss: 0.074\n"
          ]
        },
        {
          "output_type": "stream",
          "name": "stderr",
          "text": [
            "Epoch 102/250: 100%|██████████| 782/782 [00:19<00:00, 41.07it/s]\n"
          ]
        },
        {
          "output_type": "stream",
          "name": "stdout",
          "text": [
            "Checkpoint saved at /content/gdrive/My Drive/checkpoints/AsymmetricAutoencoderMinus1/checkpoint_epoch_102.pth\n"
          ]
        },
        {
          "output_type": "stream",
          "name": "stderr",
          "text": [
            "Epoch 103/250:  14%|█▎        | 106/782 [00:02<00:16, 41.79it/s]"
          ]
        },
        {
          "output_type": "stream",
          "name": "stdout",
          "text": [
            "[Epoch 103, Batch 100] loss: 0.074\n"
          ]
        },
        {
          "output_type": "stream",
          "name": "stderr",
          "text": [
            "Epoch 103/250:  26%|██▋       | 206/782 [00:05<00:13, 41.42it/s]"
          ]
        },
        {
          "output_type": "stream",
          "name": "stdout",
          "text": [
            "[Epoch 103, Batch 200] loss: 0.074\n"
          ]
        },
        {
          "output_type": "stream",
          "name": "stderr",
          "text": [
            "Epoch 103/250:  39%|███▉      | 306/782 [00:07<00:11, 41.18it/s]"
          ]
        },
        {
          "output_type": "stream",
          "name": "stdout",
          "text": [
            "[Epoch 103, Batch 300] loss: 0.074\n"
          ]
        },
        {
          "output_type": "stream",
          "name": "stderr",
          "text": [
            "Epoch 103/250:  52%|█████▏    | 406/782 [00:09<00:09, 41.39it/s]"
          ]
        },
        {
          "output_type": "stream",
          "name": "stdout",
          "text": [
            "[Epoch 103, Batch 400] loss: 0.074\n"
          ]
        },
        {
          "output_type": "stream",
          "name": "stderr",
          "text": [
            "Epoch 103/250:  65%|██████▍   | 506/782 [00:12<00:06, 41.22it/s]"
          ]
        },
        {
          "output_type": "stream",
          "name": "stdout",
          "text": [
            "[Epoch 103, Batch 500] loss: 0.074\n"
          ]
        },
        {
          "output_type": "stream",
          "name": "stderr",
          "text": [
            "Epoch 103/250:  77%|███████▋  | 606/782 [00:14<00:04, 41.05it/s]"
          ]
        },
        {
          "output_type": "stream",
          "name": "stdout",
          "text": [
            "[Epoch 103, Batch 600] loss: 0.073\n"
          ]
        },
        {
          "output_type": "stream",
          "name": "stderr",
          "text": [
            "Epoch 103/250:  90%|█████████ | 706/782 [00:17<00:01, 41.54it/s]"
          ]
        },
        {
          "output_type": "stream",
          "name": "stdout",
          "text": [
            "[Epoch 103, Batch 700] loss: 0.074\n"
          ]
        },
        {
          "output_type": "stream",
          "name": "stderr",
          "text": [
            "Epoch 103/250: 100%|██████████| 782/782 [00:18<00:00, 41.23it/s]\n"
          ]
        },
        {
          "output_type": "stream",
          "name": "stdout",
          "text": [
            "Checkpoint saved at /content/gdrive/My Drive/checkpoints/AsymmetricAutoencoderMinus1/checkpoint_epoch_103.pth\n"
          ]
        },
        {
          "output_type": "stream",
          "name": "stderr",
          "text": [
            "Epoch 104/250:  14%|█▎        | 106/782 [00:02<00:16, 41.27it/s]"
          ]
        },
        {
          "output_type": "stream",
          "name": "stdout",
          "text": [
            "[Epoch 104, Batch 100] loss: 0.074\n"
          ]
        },
        {
          "output_type": "stream",
          "name": "stderr",
          "text": [
            "Epoch 104/250:  26%|██▋       | 206/782 [00:05<00:13, 41.39it/s]"
          ]
        },
        {
          "output_type": "stream",
          "name": "stdout",
          "text": [
            "[Epoch 104, Batch 200] loss: 0.074\n"
          ]
        },
        {
          "output_type": "stream",
          "name": "stderr",
          "text": [
            "Epoch 104/250:  39%|███▉      | 306/782 [00:07<00:11, 41.50it/s]"
          ]
        },
        {
          "output_type": "stream",
          "name": "stdout",
          "text": [
            "[Epoch 104, Batch 300] loss: 0.073\n"
          ]
        },
        {
          "output_type": "stream",
          "name": "stderr",
          "text": [
            "Epoch 104/250:  52%|█████▏    | 406/782 [00:09<00:09, 41.18it/s]"
          ]
        },
        {
          "output_type": "stream",
          "name": "stdout",
          "text": [
            "[Epoch 104, Batch 400] loss: 0.074\n"
          ]
        },
        {
          "output_type": "stream",
          "name": "stderr",
          "text": [
            "Epoch 104/250:  65%|██████▍   | 506/782 [00:12<00:06, 41.08it/s]"
          ]
        },
        {
          "output_type": "stream",
          "name": "stdout",
          "text": [
            "[Epoch 104, Batch 500] loss: 0.073\n"
          ]
        },
        {
          "output_type": "stream",
          "name": "stderr",
          "text": [
            "Epoch 104/250:  77%|███████▋  | 606/782 [00:14<00:04, 41.35it/s]"
          ]
        },
        {
          "output_type": "stream",
          "name": "stdout",
          "text": [
            "[Epoch 104, Batch 600] loss: 0.073\n"
          ]
        },
        {
          "output_type": "stream",
          "name": "stderr",
          "text": [
            "Epoch 104/250:  90%|█████████ | 706/782 [00:17<00:01, 41.35it/s]"
          ]
        },
        {
          "output_type": "stream",
          "name": "stdout",
          "text": [
            "[Epoch 104, Batch 700] loss: 0.074\n"
          ]
        },
        {
          "output_type": "stream",
          "name": "stderr",
          "text": [
            "Epoch 104/250: 100%|██████████| 782/782 [00:19<00:00, 41.09it/s]\n"
          ]
        },
        {
          "output_type": "stream",
          "name": "stdout",
          "text": [
            "Checkpoint saved at /content/gdrive/My Drive/checkpoints/AsymmetricAutoencoderMinus1/checkpoint_epoch_104.pth\n"
          ]
        },
        {
          "output_type": "stream",
          "name": "stderr",
          "text": [
            "Epoch 105/250:  14%|█▎        | 106/782 [00:02<00:16, 42.01it/s]"
          ]
        },
        {
          "output_type": "stream",
          "name": "stdout",
          "text": [
            "[Epoch 105, Batch 100] loss: 0.073\n"
          ]
        },
        {
          "output_type": "stream",
          "name": "stderr",
          "text": [
            "Epoch 105/250:  26%|██▋       | 206/782 [00:05<00:13, 41.26it/s]"
          ]
        },
        {
          "output_type": "stream",
          "name": "stdout",
          "text": [
            "[Epoch 105, Batch 200] loss: 0.074\n"
          ]
        },
        {
          "output_type": "stream",
          "name": "stderr",
          "text": [
            "Epoch 105/250:  39%|███▉      | 306/782 [00:07<00:11, 41.35it/s]"
          ]
        },
        {
          "output_type": "stream",
          "name": "stdout",
          "text": [
            "[Epoch 105, Batch 300] loss: 0.073\n"
          ]
        },
        {
          "output_type": "stream",
          "name": "stderr",
          "text": [
            "Epoch 105/250:  52%|█████▏    | 406/782 [00:09<00:09, 40.86it/s]"
          ]
        },
        {
          "output_type": "stream",
          "name": "stdout",
          "text": [
            "[Epoch 105, Batch 400] loss: 0.073\n"
          ]
        },
        {
          "output_type": "stream",
          "name": "stderr",
          "text": [
            "Epoch 105/250:  65%|██████▍   | 506/782 [00:12<00:06, 41.33it/s]"
          ]
        },
        {
          "output_type": "stream",
          "name": "stdout",
          "text": [
            "[Epoch 105, Batch 500] loss: 0.074\n"
          ]
        },
        {
          "output_type": "stream",
          "name": "stderr",
          "text": [
            "Epoch 105/250:  77%|███████▋  | 606/782 [00:14<00:04, 41.32it/s]"
          ]
        },
        {
          "output_type": "stream",
          "name": "stdout",
          "text": [
            "[Epoch 105, Batch 600] loss: 0.074\n"
          ]
        },
        {
          "output_type": "stream",
          "name": "stderr",
          "text": [
            "Epoch 105/250:  90%|█████████ | 706/782 [00:17<00:01, 41.43it/s]"
          ]
        },
        {
          "output_type": "stream",
          "name": "stdout",
          "text": [
            "[Epoch 105, Batch 700] loss: 0.074\n"
          ]
        },
        {
          "output_type": "stream",
          "name": "stderr",
          "text": [
            "Epoch 105/250: 100%|██████████| 782/782 [00:18<00:00, 41.16it/s]\n"
          ]
        },
        {
          "output_type": "stream",
          "name": "stdout",
          "text": [
            "Checkpoint saved at /content/gdrive/My Drive/checkpoints/AsymmetricAutoencoderMinus1/checkpoint_epoch_105.pth\n"
          ]
        },
        {
          "output_type": "stream",
          "name": "stderr",
          "text": [
            "Epoch 106/250:  14%|█▎        | 106/782 [00:02<00:16, 41.38it/s]"
          ]
        },
        {
          "output_type": "stream",
          "name": "stdout",
          "text": [
            "[Epoch 106, Batch 100] loss: 0.073\n"
          ]
        },
        {
          "output_type": "stream",
          "name": "stderr",
          "text": [
            "Epoch 106/250:  26%|██▋       | 206/782 [00:05<00:13, 41.49it/s]"
          ]
        },
        {
          "output_type": "stream",
          "name": "stdout",
          "text": [
            "[Epoch 106, Batch 200] loss: 0.074\n"
          ]
        },
        {
          "output_type": "stream",
          "name": "stderr",
          "text": [
            "Epoch 106/250:  39%|███▉      | 306/782 [00:07<00:11, 41.51it/s]"
          ]
        },
        {
          "output_type": "stream",
          "name": "stdout",
          "text": [
            "[Epoch 106, Batch 300] loss: 0.074\n"
          ]
        },
        {
          "output_type": "stream",
          "name": "stderr",
          "text": [
            "Epoch 106/250:  52%|█████▏    | 406/782 [00:09<00:09, 41.19it/s]"
          ]
        },
        {
          "output_type": "stream",
          "name": "stdout",
          "text": [
            "[Epoch 106, Batch 400] loss: 0.074\n"
          ]
        },
        {
          "output_type": "stream",
          "name": "stderr",
          "text": [
            "Epoch 106/250:  65%|██████▍   | 506/782 [00:12<00:06, 41.20it/s]"
          ]
        },
        {
          "output_type": "stream",
          "name": "stdout",
          "text": [
            "[Epoch 106, Batch 500] loss: 0.074\n"
          ]
        },
        {
          "output_type": "stream",
          "name": "stderr",
          "text": [
            "Epoch 106/250:  77%|███████▋  | 606/782 [00:14<00:04, 41.50it/s]"
          ]
        },
        {
          "output_type": "stream",
          "name": "stdout",
          "text": [
            "[Epoch 106, Batch 600] loss: 0.074\n"
          ]
        },
        {
          "output_type": "stream",
          "name": "stderr",
          "text": [
            "Epoch 106/250:  90%|█████████ | 706/782 [00:17<00:01, 41.27it/s]"
          ]
        },
        {
          "output_type": "stream",
          "name": "stdout",
          "text": [
            "[Epoch 106, Batch 700] loss: 0.074\n"
          ]
        },
        {
          "output_type": "stream",
          "name": "stderr",
          "text": [
            "Epoch 106/250: 100%|██████████| 782/782 [00:19<00:00, 41.12it/s]\n"
          ]
        },
        {
          "output_type": "stream",
          "name": "stdout",
          "text": [
            "Checkpoint saved at /content/gdrive/My Drive/checkpoints/AsymmetricAutoencoderMinus1/checkpoint_epoch_106.pth\n"
          ]
        },
        {
          "output_type": "stream",
          "name": "stderr",
          "text": [
            "Epoch 107/250:  14%|█▎        | 106/782 [00:02<00:16, 41.62it/s]"
          ]
        },
        {
          "output_type": "stream",
          "name": "stdout",
          "text": [
            "[Epoch 107, Batch 100] loss: 0.074\n"
          ]
        },
        {
          "output_type": "stream",
          "name": "stderr",
          "text": [
            "Epoch 107/250:  26%|██▋       | 206/782 [00:05<00:13, 41.16it/s]"
          ]
        },
        {
          "output_type": "stream",
          "name": "stdout",
          "text": [
            "[Epoch 107, Batch 200] loss: 0.073\n"
          ]
        },
        {
          "output_type": "stream",
          "name": "stderr",
          "text": [
            "Epoch 107/250:  39%|███▉      | 306/782 [00:07<00:11, 41.41it/s]"
          ]
        },
        {
          "output_type": "stream",
          "name": "stdout",
          "text": [
            "[Epoch 107, Batch 300] loss: 0.074\n"
          ]
        },
        {
          "output_type": "stream",
          "name": "stderr",
          "text": [
            "Epoch 107/250:  52%|█████▏    | 406/782 [00:09<00:09, 41.63it/s]"
          ]
        },
        {
          "output_type": "stream",
          "name": "stdout",
          "text": [
            "[Epoch 107, Batch 400] loss: 0.073\n"
          ]
        },
        {
          "output_type": "stream",
          "name": "stderr",
          "text": [
            "Epoch 107/250:  65%|██████▍   | 506/782 [00:12<00:06, 40.61it/s]"
          ]
        },
        {
          "output_type": "stream",
          "name": "stdout",
          "text": [
            "[Epoch 107, Batch 500] loss: 0.074\n"
          ]
        },
        {
          "output_type": "stream",
          "name": "stderr",
          "text": [
            "Epoch 107/250:  77%|███████▋  | 606/782 [00:14<00:04, 41.62it/s]"
          ]
        },
        {
          "output_type": "stream",
          "name": "stdout",
          "text": [
            "[Epoch 107, Batch 600] loss: 0.074\n"
          ]
        },
        {
          "output_type": "stream",
          "name": "stderr",
          "text": [
            "Epoch 107/250:  90%|█████████ | 706/782 [00:17<00:01, 41.50it/s]"
          ]
        },
        {
          "output_type": "stream",
          "name": "stdout",
          "text": [
            "[Epoch 107, Batch 700] loss: 0.074\n"
          ]
        },
        {
          "output_type": "stream",
          "name": "stderr",
          "text": [
            "Epoch 107/250: 100%|██████████| 782/782 [00:19<00:00, 41.15it/s]\n"
          ]
        },
        {
          "output_type": "stream",
          "name": "stdout",
          "text": [
            "Checkpoint saved at /content/gdrive/My Drive/checkpoints/AsymmetricAutoencoderMinus1/checkpoint_epoch_107.pth\n"
          ]
        },
        {
          "output_type": "stream",
          "name": "stderr",
          "text": [
            "Epoch 108/250:  14%|█▎        | 106/782 [00:02<00:16, 41.53it/s]"
          ]
        },
        {
          "output_type": "stream",
          "name": "stdout",
          "text": [
            "[Epoch 108, Batch 100] loss: 0.074\n"
          ]
        },
        {
          "output_type": "stream",
          "name": "stderr",
          "text": [
            "Epoch 108/250:  26%|██▋       | 206/782 [00:05<00:13, 41.60it/s]"
          ]
        },
        {
          "output_type": "stream",
          "name": "stdout",
          "text": [
            "[Epoch 108, Batch 200] loss: 0.074\n"
          ]
        },
        {
          "output_type": "stream",
          "name": "stderr",
          "text": [
            "Epoch 108/250:  39%|███▉      | 306/782 [00:07<00:11, 41.23it/s]"
          ]
        },
        {
          "output_type": "stream",
          "name": "stdout",
          "text": [
            "[Epoch 108, Batch 300] loss: 0.074\n"
          ]
        },
        {
          "output_type": "stream",
          "name": "stderr",
          "text": [
            "Epoch 108/250:  52%|█████▏    | 406/782 [00:09<00:09, 41.27it/s]"
          ]
        },
        {
          "output_type": "stream",
          "name": "stdout",
          "text": [
            "[Epoch 108, Batch 400] loss: 0.075\n"
          ]
        },
        {
          "output_type": "stream",
          "name": "stderr",
          "text": [
            "Epoch 108/250:  65%|██████▍   | 506/782 [00:12<00:06, 41.23it/s]"
          ]
        },
        {
          "output_type": "stream",
          "name": "stdout",
          "text": [
            "[Epoch 108, Batch 500] loss: 0.073\n"
          ]
        },
        {
          "output_type": "stream",
          "name": "stderr",
          "text": [
            "Epoch 108/250:  77%|███████▋  | 606/782 [00:14<00:04, 41.68it/s]"
          ]
        },
        {
          "output_type": "stream",
          "name": "stdout",
          "text": [
            "[Epoch 108, Batch 600] loss: 0.073\n"
          ]
        },
        {
          "output_type": "stream",
          "name": "stderr",
          "text": [
            "Epoch 108/250:  90%|█████████ | 706/782 [00:17<00:01, 41.27it/s]"
          ]
        },
        {
          "output_type": "stream",
          "name": "stdout",
          "text": [
            "[Epoch 108, Batch 700] loss: 0.074\n"
          ]
        },
        {
          "output_type": "stream",
          "name": "stderr",
          "text": [
            "Epoch 108/250: 100%|██████████| 782/782 [00:19<00:00, 41.15it/s]\n"
          ]
        },
        {
          "output_type": "stream",
          "name": "stdout",
          "text": [
            "Checkpoint saved at /content/gdrive/My Drive/checkpoints/AsymmetricAutoencoderMinus1/checkpoint_epoch_108.pth\n"
          ]
        },
        {
          "output_type": "stream",
          "name": "stderr",
          "text": [
            "Epoch 109/250:  14%|█▎        | 106/782 [00:02<00:16, 41.72it/s]"
          ]
        },
        {
          "output_type": "stream",
          "name": "stdout",
          "text": [
            "[Epoch 109, Batch 100] loss: 0.073\n"
          ]
        },
        {
          "output_type": "stream",
          "name": "stderr",
          "text": [
            "Epoch 109/250:  26%|██▋       | 206/782 [00:05<00:13, 41.26it/s]"
          ]
        },
        {
          "output_type": "stream",
          "name": "stdout",
          "text": [
            "[Epoch 109, Batch 200] loss: 0.073\n"
          ]
        },
        {
          "output_type": "stream",
          "name": "stderr",
          "text": [
            "Epoch 109/250:  39%|███▉      | 306/782 [00:07<00:11, 41.62it/s]"
          ]
        },
        {
          "output_type": "stream",
          "name": "stdout",
          "text": [
            "[Epoch 109, Batch 300] loss: 0.075\n"
          ]
        },
        {
          "output_type": "stream",
          "name": "stderr",
          "text": [
            "Epoch 109/250:  52%|█████▏    | 406/782 [00:09<00:09, 41.32it/s]"
          ]
        },
        {
          "output_type": "stream",
          "name": "stdout",
          "text": [
            "[Epoch 109, Batch 400] loss: 0.073\n"
          ]
        },
        {
          "output_type": "stream",
          "name": "stderr",
          "text": [
            "Epoch 109/250:  65%|██████▍   | 506/782 [00:12<00:06, 40.91it/s]"
          ]
        },
        {
          "output_type": "stream",
          "name": "stdout",
          "text": [
            "[Epoch 109, Batch 500] loss: 0.073\n"
          ]
        },
        {
          "output_type": "stream",
          "name": "stderr",
          "text": [
            "Epoch 109/250:  77%|███████▋  | 606/782 [00:14<00:04, 41.36it/s]"
          ]
        },
        {
          "output_type": "stream",
          "name": "stdout",
          "text": [
            "[Epoch 109, Batch 600] loss: 0.074\n"
          ]
        },
        {
          "output_type": "stream",
          "name": "stderr",
          "text": [
            "Epoch 109/250:  90%|█████████ | 706/782 [00:17<00:01, 41.81it/s]"
          ]
        },
        {
          "output_type": "stream",
          "name": "stdout",
          "text": [
            "[Epoch 109, Batch 700] loss: 0.074\n"
          ]
        },
        {
          "output_type": "stream",
          "name": "stderr",
          "text": [
            "Epoch 109/250: 100%|██████████| 782/782 [00:19<00:00, 41.15it/s]\n"
          ]
        },
        {
          "output_type": "stream",
          "name": "stdout",
          "text": [
            "Checkpoint saved at /content/gdrive/My Drive/checkpoints/AsymmetricAutoencoderMinus1/checkpoint_epoch_109.pth\n"
          ]
        },
        {
          "output_type": "stream",
          "name": "stderr",
          "text": [
            "Epoch 110/250:  14%|█▎        | 106/782 [00:02<00:16, 41.60it/s]"
          ]
        },
        {
          "output_type": "stream",
          "name": "stdout",
          "text": [
            "[Epoch 110, Batch 100] loss: 0.074\n"
          ]
        },
        {
          "output_type": "stream",
          "name": "stderr",
          "text": [
            "Epoch 110/250:  26%|██▋       | 206/782 [00:05<00:13, 41.14it/s]"
          ]
        },
        {
          "output_type": "stream",
          "name": "stdout",
          "text": [
            "[Epoch 110, Batch 200] loss: 0.074\n"
          ]
        },
        {
          "output_type": "stream",
          "name": "stderr",
          "text": [
            "Epoch 110/250:  39%|███▉      | 306/782 [00:07<00:11, 41.30it/s]"
          ]
        },
        {
          "output_type": "stream",
          "name": "stdout",
          "text": [
            "[Epoch 110, Batch 300] loss: 0.074\n"
          ]
        },
        {
          "output_type": "stream",
          "name": "stderr",
          "text": [
            "Epoch 110/250:  52%|█████▏    | 406/782 [00:09<00:09, 41.12it/s]"
          ]
        },
        {
          "output_type": "stream",
          "name": "stdout",
          "text": [
            "[Epoch 110, Batch 400] loss: 0.074\n"
          ]
        },
        {
          "output_type": "stream",
          "name": "stderr",
          "text": [
            "Epoch 110/250:  65%|██████▍   | 506/782 [00:12<00:06, 41.01it/s]"
          ]
        },
        {
          "output_type": "stream",
          "name": "stdout",
          "text": [
            "[Epoch 110, Batch 500] loss: 0.073\n"
          ]
        },
        {
          "output_type": "stream",
          "name": "stderr",
          "text": [
            "Epoch 110/250:  77%|███████▋  | 606/782 [00:14<00:04, 41.60it/s]"
          ]
        },
        {
          "output_type": "stream",
          "name": "stdout",
          "text": [
            "[Epoch 110, Batch 600] loss: 0.074\n"
          ]
        },
        {
          "output_type": "stream",
          "name": "stderr",
          "text": [
            "Epoch 110/250:  90%|█████████ | 706/782 [00:17<00:01, 40.82it/s]"
          ]
        },
        {
          "output_type": "stream",
          "name": "stdout",
          "text": [
            "[Epoch 110, Batch 700] loss: 0.074\n"
          ]
        },
        {
          "output_type": "stream",
          "name": "stderr",
          "text": [
            "Epoch 110/250: 100%|██████████| 782/782 [00:19<00:00, 41.06it/s]\n"
          ]
        },
        {
          "output_type": "stream",
          "name": "stdout",
          "text": [
            "Checkpoint saved at /content/gdrive/My Drive/checkpoints/AsymmetricAutoencoderMinus1/checkpoint_epoch_110.pth\n",
            "Validation Loss after epoch 110: 0.0742\n"
          ]
        },
        {
          "output_type": "stream",
          "name": "stderr",
          "text": [
            "Epoch 111/250:  14%|█▎        | 106/782 [00:02<00:16, 41.34it/s]"
          ]
        },
        {
          "output_type": "stream",
          "name": "stdout",
          "text": [
            "[Epoch 111, Batch 100] loss: 0.074\n"
          ]
        },
        {
          "output_type": "stream",
          "name": "stderr",
          "text": [
            "Epoch 111/250:  26%|██▋       | 206/782 [00:05<00:13, 41.54it/s]"
          ]
        },
        {
          "output_type": "stream",
          "name": "stdout",
          "text": [
            "[Epoch 111, Batch 200] loss: 0.073\n"
          ]
        },
        {
          "output_type": "stream",
          "name": "stderr",
          "text": [
            "Epoch 111/250:  39%|███▉      | 306/782 [00:07<00:11, 41.56it/s]"
          ]
        },
        {
          "output_type": "stream",
          "name": "stdout",
          "text": [
            "[Epoch 111, Batch 300] loss: 0.074\n"
          ]
        },
        {
          "output_type": "stream",
          "name": "stderr",
          "text": [
            "Epoch 111/250:  52%|█████▏    | 406/782 [00:09<00:09, 40.67it/s]"
          ]
        },
        {
          "output_type": "stream",
          "name": "stdout",
          "text": [
            "[Epoch 111, Batch 400] loss: 0.074\n"
          ]
        },
        {
          "output_type": "stream",
          "name": "stderr",
          "text": [
            "Epoch 111/250:  65%|██████▍   | 506/782 [00:12<00:06, 41.30it/s]"
          ]
        },
        {
          "output_type": "stream",
          "name": "stdout",
          "text": [
            "[Epoch 111, Batch 500] loss: 0.074\n"
          ]
        },
        {
          "output_type": "stream",
          "name": "stderr",
          "text": [
            "Epoch 111/250:  77%|███████▋  | 606/782 [00:14<00:04, 41.69it/s]"
          ]
        },
        {
          "output_type": "stream",
          "name": "stdout",
          "text": [
            "[Epoch 111, Batch 600] loss: 0.073\n"
          ]
        },
        {
          "output_type": "stream",
          "name": "stderr",
          "text": [
            "Epoch 111/250:  90%|█████████ | 706/782 [00:17<00:01, 41.39it/s]"
          ]
        },
        {
          "output_type": "stream",
          "name": "stdout",
          "text": [
            "[Epoch 111, Batch 700] loss: 0.074\n"
          ]
        },
        {
          "output_type": "stream",
          "name": "stderr",
          "text": [
            "Epoch 111/250: 100%|██████████| 782/782 [00:19<00:00, 41.02it/s]\n"
          ]
        },
        {
          "output_type": "stream",
          "name": "stdout",
          "text": [
            "Checkpoint saved at /content/gdrive/My Drive/checkpoints/AsymmetricAutoencoderMinus1/checkpoint_epoch_111.pth\n"
          ]
        },
        {
          "output_type": "stream",
          "name": "stderr",
          "text": [
            "Epoch 112/250:  14%|█▎        | 106/782 [00:02<00:16, 41.68it/s]"
          ]
        },
        {
          "output_type": "stream",
          "name": "stdout",
          "text": [
            "[Epoch 112, Batch 100] loss: 0.074\n"
          ]
        },
        {
          "output_type": "stream",
          "name": "stderr",
          "text": [
            "Epoch 112/250:  26%|██▋       | 206/782 [00:05<00:13, 41.38it/s]"
          ]
        },
        {
          "output_type": "stream",
          "name": "stdout",
          "text": [
            "[Epoch 112, Batch 200] loss: 0.074\n"
          ]
        },
        {
          "output_type": "stream",
          "name": "stderr",
          "text": [
            "Epoch 112/250:  39%|███▉      | 306/782 [00:07<00:11, 41.30it/s]"
          ]
        },
        {
          "output_type": "stream",
          "name": "stdout",
          "text": [
            "[Epoch 112, Batch 300] loss: 0.073\n"
          ]
        },
        {
          "output_type": "stream",
          "name": "stderr",
          "text": [
            "Epoch 112/250:  52%|█████▏    | 406/782 [00:09<00:09, 41.61it/s]"
          ]
        },
        {
          "output_type": "stream",
          "name": "stdout",
          "text": [
            "[Epoch 112, Batch 400] loss: 0.073\n"
          ]
        },
        {
          "output_type": "stream",
          "name": "stderr",
          "text": [
            "Epoch 112/250:  65%|██████▍   | 506/782 [00:12<00:06, 41.19it/s]"
          ]
        },
        {
          "output_type": "stream",
          "name": "stdout",
          "text": [
            "[Epoch 112, Batch 500] loss: 0.074\n"
          ]
        },
        {
          "output_type": "stream",
          "name": "stderr",
          "text": [
            "Epoch 112/250:  77%|███████▋  | 606/782 [00:14<00:04, 41.37it/s]"
          ]
        },
        {
          "output_type": "stream",
          "name": "stdout",
          "text": [
            "[Epoch 112, Batch 600] loss: 0.074\n"
          ]
        },
        {
          "output_type": "stream",
          "name": "stderr",
          "text": [
            "Epoch 112/250:  90%|█████████ | 706/782 [00:17<00:01, 41.49it/s]"
          ]
        },
        {
          "output_type": "stream",
          "name": "stdout",
          "text": [
            "[Epoch 112, Batch 700] loss: 0.074\n"
          ]
        },
        {
          "output_type": "stream",
          "name": "stderr",
          "text": [
            "Epoch 112/250: 100%|██████████| 782/782 [00:19<00:00, 41.12it/s]\n"
          ]
        },
        {
          "output_type": "stream",
          "name": "stdout",
          "text": [
            "Checkpoint saved at /content/gdrive/My Drive/checkpoints/AsymmetricAutoencoderMinus1/checkpoint_epoch_112.pth\n"
          ]
        },
        {
          "output_type": "stream",
          "name": "stderr",
          "text": [
            "Epoch 113/250:  14%|█▎        | 106/782 [00:02<00:16, 41.36it/s]"
          ]
        },
        {
          "output_type": "stream",
          "name": "stdout",
          "text": [
            "[Epoch 113, Batch 100] loss: 0.074\n"
          ]
        },
        {
          "output_type": "stream",
          "name": "stderr",
          "text": [
            "Epoch 113/250:  26%|██▋       | 206/782 [00:05<00:13, 41.21it/s]"
          ]
        },
        {
          "output_type": "stream",
          "name": "stdout",
          "text": [
            "[Epoch 113, Batch 200] loss: 0.074\n"
          ]
        },
        {
          "output_type": "stream",
          "name": "stderr",
          "text": [
            "Epoch 113/250:  39%|███▉      | 306/782 [00:07<00:11, 41.61it/s]"
          ]
        },
        {
          "output_type": "stream",
          "name": "stdout",
          "text": [
            "[Epoch 113, Batch 300] loss: 0.074\n"
          ]
        },
        {
          "output_type": "stream",
          "name": "stderr",
          "text": [
            "Epoch 113/250:  52%|█████▏    | 406/782 [00:09<00:09, 41.23it/s]"
          ]
        },
        {
          "output_type": "stream",
          "name": "stdout",
          "text": [
            "[Epoch 113, Batch 400] loss: 0.074\n"
          ]
        },
        {
          "output_type": "stream",
          "name": "stderr",
          "text": [
            "Epoch 113/250:  65%|██████▍   | 506/782 [00:12<00:06, 41.12it/s]"
          ]
        },
        {
          "output_type": "stream",
          "name": "stdout",
          "text": [
            "[Epoch 113, Batch 500] loss: 0.075\n"
          ]
        },
        {
          "output_type": "stream",
          "name": "stderr",
          "text": [
            "Epoch 113/250:  77%|███████▋  | 606/782 [00:14<00:04, 41.65it/s]"
          ]
        },
        {
          "output_type": "stream",
          "name": "stdout",
          "text": [
            "[Epoch 113, Batch 600] loss: 0.074\n"
          ]
        },
        {
          "output_type": "stream",
          "name": "stderr",
          "text": [
            "Epoch 113/250:  90%|█████████ | 706/782 [00:17<00:01, 41.39it/s]"
          ]
        },
        {
          "output_type": "stream",
          "name": "stdout",
          "text": [
            "[Epoch 113, Batch 700] loss: 0.074\n"
          ]
        },
        {
          "output_type": "stream",
          "name": "stderr",
          "text": [
            "Epoch 113/250: 100%|██████████| 782/782 [00:18<00:00, 41.16it/s]\n"
          ]
        },
        {
          "output_type": "stream",
          "name": "stdout",
          "text": [
            "Checkpoint saved at /content/gdrive/My Drive/checkpoints/AsymmetricAutoencoderMinus1/checkpoint_epoch_113.pth\n"
          ]
        },
        {
          "output_type": "stream",
          "name": "stderr",
          "text": [
            "Epoch 114/250:  14%|█▎        | 106/782 [00:02<00:16, 42.01it/s]"
          ]
        },
        {
          "output_type": "stream",
          "name": "stdout",
          "text": [
            "[Epoch 114, Batch 100] loss: 0.074\n"
          ]
        },
        {
          "output_type": "stream",
          "name": "stderr",
          "text": [
            "Epoch 114/250:  26%|██▋       | 206/782 [00:05<00:13, 41.66it/s]"
          ]
        },
        {
          "output_type": "stream",
          "name": "stdout",
          "text": [
            "[Epoch 114, Batch 200] loss: 0.073\n"
          ]
        },
        {
          "output_type": "stream",
          "name": "stderr",
          "text": [
            "Epoch 114/250:  39%|███▉      | 306/782 [00:07<00:11, 41.00it/s]"
          ]
        },
        {
          "output_type": "stream",
          "name": "stdout",
          "text": [
            "[Epoch 114, Batch 300] loss: 0.074\n"
          ]
        },
        {
          "output_type": "stream",
          "name": "stderr",
          "text": [
            "Epoch 114/250:  52%|█████▏    | 406/782 [00:09<00:09, 41.39it/s]"
          ]
        },
        {
          "output_type": "stream",
          "name": "stdout",
          "text": [
            "[Epoch 114, Batch 400] loss: 0.073\n"
          ]
        },
        {
          "output_type": "stream",
          "name": "stderr",
          "text": [
            "Epoch 114/250:  65%|██████▍   | 506/782 [00:12<00:06, 41.13it/s]"
          ]
        },
        {
          "output_type": "stream",
          "name": "stdout",
          "text": [
            "[Epoch 114, Batch 500] loss: 0.075\n"
          ]
        },
        {
          "output_type": "stream",
          "name": "stderr",
          "text": [
            "Epoch 114/250:  77%|███████▋  | 606/782 [00:14<00:04, 41.40it/s]"
          ]
        },
        {
          "output_type": "stream",
          "name": "stdout",
          "text": [
            "[Epoch 114, Batch 600] loss: 0.074\n"
          ]
        },
        {
          "output_type": "stream",
          "name": "stderr",
          "text": [
            "Epoch 114/250:  90%|█████████ | 706/782 [00:17<00:01, 41.80it/s]"
          ]
        },
        {
          "output_type": "stream",
          "name": "stdout",
          "text": [
            "[Epoch 114, Batch 700] loss: 0.074\n"
          ]
        },
        {
          "output_type": "stream",
          "name": "stderr",
          "text": [
            "Epoch 114/250: 100%|██████████| 782/782 [00:18<00:00, 41.22it/s]\n"
          ]
        },
        {
          "output_type": "stream",
          "name": "stdout",
          "text": [
            "Checkpoint saved at /content/gdrive/My Drive/checkpoints/AsymmetricAutoencoderMinus1/checkpoint_epoch_114.pth\n"
          ]
        },
        {
          "output_type": "stream",
          "name": "stderr",
          "text": [
            "Epoch 115/250:  14%|█▎        | 106/782 [00:02<00:16, 41.07it/s]"
          ]
        },
        {
          "output_type": "stream",
          "name": "stdout",
          "text": [
            "[Epoch 115, Batch 100] loss: 0.074\n"
          ]
        },
        {
          "output_type": "stream",
          "name": "stderr",
          "text": [
            "Epoch 115/250:  26%|██▋       | 206/782 [00:05<00:13, 41.59it/s]"
          ]
        },
        {
          "output_type": "stream",
          "name": "stdout",
          "text": [
            "[Epoch 115, Batch 200] loss: 0.074\n"
          ]
        },
        {
          "output_type": "stream",
          "name": "stderr",
          "text": [
            "Epoch 115/250:  39%|███▉      | 306/782 [00:07<00:11, 41.75it/s]"
          ]
        },
        {
          "output_type": "stream",
          "name": "stdout",
          "text": [
            "[Epoch 115, Batch 300] loss: 0.075\n"
          ]
        },
        {
          "output_type": "stream",
          "name": "stderr",
          "text": [
            "Epoch 115/250:  52%|█████▏    | 406/782 [00:09<00:09, 40.98it/s]"
          ]
        },
        {
          "output_type": "stream",
          "name": "stdout",
          "text": [
            "[Epoch 115, Batch 400] loss: 0.074\n"
          ]
        },
        {
          "output_type": "stream",
          "name": "stderr",
          "text": [
            "Epoch 115/250:  65%|██████▍   | 506/782 [00:12<00:06, 41.23it/s]"
          ]
        },
        {
          "output_type": "stream",
          "name": "stdout",
          "text": [
            "[Epoch 115, Batch 500] loss: 0.073\n"
          ]
        },
        {
          "output_type": "stream",
          "name": "stderr",
          "text": [
            "Epoch 115/250:  77%|███████▋  | 606/782 [00:14<00:04, 41.57it/s]"
          ]
        },
        {
          "output_type": "stream",
          "name": "stdout",
          "text": [
            "[Epoch 115, Batch 600] loss: 0.073\n"
          ]
        },
        {
          "output_type": "stream",
          "name": "stderr",
          "text": [
            "Epoch 115/250:  90%|█████████ | 706/782 [00:17<00:01, 41.65it/s]"
          ]
        },
        {
          "output_type": "stream",
          "name": "stdout",
          "text": [
            "[Epoch 115, Batch 700] loss: 0.075\n"
          ]
        },
        {
          "output_type": "stream",
          "name": "stderr",
          "text": [
            "Epoch 115/250: 100%|██████████| 782/782 [00:18<00:00, 41.25it/s]\n"
          ]
        },
        {
          "output_type": "stream",
          "name": "stdout",
          "text": [
            "Checkpoint saved at /content/gdrive/My Drive/checkpoints/AsymmetricAutoencoderMinus1/checkpoint_epoch_115.pth\n"
          ]
        },
        {
          "output_type": "stream",
          "name": "stderr",
          "text": [
            "Epoch 116/250:  14%|█▎        | 106/782 [00:02<00:16, 41.71it/s]"
          ]
        },
        {
          "output_type": "stream",
          "name": "stdout",
          "text": [
            "[Epoch 116, Batch 100] loss: 0.074\n"
          ]
        },
        {
          "output_type": "stream",
          "name": "stderr",
          "text": [
            "Epoch 116/250:  26%|██▋       | 206/782 [00:05<00:13, 41.56it/s]"
          ]
        },
        {
          "output_type": "stream",
          "name": "stdout",
          "text": [
            "[Epoch 116, Batch 200] loss: 0.073\n"
          ]
        },
        {
          "output_type": "stream",
          "name": "stderr",
          "text": [
            "Epoch 116/250:  39%|███▉      | 306/782 [00:07<00:11, 41.03it/s]"
          ]
        },
        {
          "output_type": "stream",
          "name": "stdout",
          "text": [
            "[Epoch 116, Batch 300] loss: 0.073\n"
          ]
        },
        {
          "output_type": "stream",
          "name": "stderr",
          "text": [
            "Epoch 116/250:  52%|█████▏    | 406/782 [00:09<00:09, 41.67it/s]"
          ]
        },
        {
          "output_type": "stream",
          "name": "stdout",
          "text": [
            "[Epoch 116, Batch 400] loss: 0.074\n"
          ]
        },
        {
          "output_type": "stream",
          "name": "stderr",
          "text": [
            "Epoch 116/250:  65%|██████▍   | 506/782 [00:12<00:06, 41.21it/s]"
          ]
        },
        {
          "output_type": "stream",
          "name": "stdout",
          "text": [
            "[Epoch 116, Batch 500] loss: 0.074\n"
          ]
        },
        {
          "output_type": "stream",
          "name": "stderr",
          "text": [
            "Epoch 116/250:  77%|███████▋  | 606/782 [00:14<00:04, 41.32it/s]"
          ]
        },
        {
          "output_type": "stream",
          "name": "stdout",
          "text": [
            "[Epoch 116, Batch 600] loss: 0.074\n"
          ]
        },
        {
          "output_type": "stream",
          "name": "stderr",
          "text": [
            "Epoch 116/250:  90%|█████████ | 706/782 [00:17<00:01, 41.65it/s]"
          ]
        },
        {
          "output_type": "stream",
          "name": "stdout",
          "text": [
            "[Epoch 116, Batch 700] loss: 0.074\n"
          ]
        },
        {
          "output_type": "stream",
          "name": "stderr",
          "text": [
            "Epoch 116/250: 100%|██████████| 782/782 [00:18<00:00, 41.25it/s]\n"
          ]
        },
        {
          "output_type": "stream",
          "name": "stdout",
          "text": [
            "Checkpoint saved at /content/gdrive/My Drive/checkpoints/AsymmetricAutoencoderMinus1/checkpoint_epoch_116.pth\n"
          ]
        },
        {
          "output_type": "stream",
          "name": "stderr",
          "text": [
            "Epoch 117/250:  14%|█▎        | 106/782 [00:02<00:16, 41.57it/s]"
          ]
        },
        {
          "output_type": "stream",
          "name": "stdout",
          "text": [
            "[Epoch 117, Batch 100] loss: 0.074\n"
          ]
        },
        {
          "output_type": "stream",
          "name": "stderr",
          "text": [
            "Epoch 117/250:  26%|██▋       | 206/782 [00:05<00:13, 41.46it/s]"
          ]
        },
        {
          "output_type": "stream",
          "name": "stdout",
          "text": [
            "[Epoch 117, Batch 200] loss: 0.074\n"
          ]
        },
        {
          "output_type": "stream",
          "name": "stderr",
          "text": [
            "Epoch 117/250:  39%|███▉      | 306/782 [00:07<00:11, 41.81it/s]"
          ]
        },
        {
          "output_type": "stream",
          "name": "stdout",
          "text": [
            "[Epoch 117, Batch 300] loss: 0.074\n"
          ]
        },
        {
          "output_type": "stream",
          "name": "stderr",
          "text": [
            "Epoch 117/250:  52%|█████▏    | 406/782 [00:09<00:09, 41.46it/s]"
          ]
        },
        {
          "output_type": "stream",
          "name": "stdout",
          "text": [
            "[Epoch 117, Batch 400] loss: 0.074\n"
          ]
        },
        {
          "output_type": "stream",
          "name": "stderr",
          "text": [
            "Epoch 117/250:  65%|██████▍   | 506/782 [00:12<00:06, 40.70it/s]"
          ]
        },
        {
          "output_type": "stream",
          "name": "stdout",
          "text": [
            "[Epoch 117, Batch 500] loss: 0.074\n"
          ]
        },
        {
          "output_type": "stream",
          "name": "stderr",
          "text": [
            "Epoch 117/250:  77%|███████▋  | 606/782 [00:14<00:04, 41.63it/s]"
          ]
        },
        {
          "output_type": "stream",
          "name": "stdout",
          "text": [
            "[Epoch 117, Batch 600] loss: 0.074\n"
          ]
        },
        {
          "output_type": "stream",
          "name": "stderr",
          "text": [
            "Epoch 117/250:  90%|█████████ | 706/782 [00:17<00:01, 41.26it/s]"
          ]
        },
        {
          "output_type": "stream",
          "name": "stdout",
          "text": [
            "[Epoch 117, Batch 700] loss: 0.074\n"
          ]
        },
        {
          "output_type": "stream",
          "name": "stderr",
          "text": [
            "Epoch 117/250: 100%|██████████| 782/782 [00:18<00:00, 41.19it/s]\n"
          ]
        },
        {
          "output_type": "stream",
          "name": "stdout",
          "text": [
            "Checkpoint saved at /content/gdrive/My Drive/checkpoints/AsymmetricAutoencoderMinus1/checkpoint_epoch_117.pth\n"
          ]
        },
        {
          "output_type": "stream",
          "name": "stderr",
          "text": [
            "Epoch 118/250:  14%|█▎        | 106/782 [00:02<00:16, 41.81it/s]"
          ]
        },
        {
          "output_type": "stream",
          "name": "stdout",
          "text": [
            "[Epoch 118, Batch 100] loss: 0.073\n"
          ]
        },
        {
          "output_type": "stream",
          "name": "stderr",
          "text": [
            "Epoch 118/250:  26%|██▋       | 206/782 [00:05<00:13, 41.50it/s]"
          ]
        },
        {
          "output_type": "stream",
          "name": "stdout",
          "text": [
            "[Epoch 118, Batch 200] loss: 0.074\n"
          ]
        },
        {
          "output_type": "stream",
          "name": "stderr",
          "text": [
            "Epoch 118/250:  39%|███▉      | 306/782 [00:07<00:11, 41.27it/s]"
          ]
        },
        {
          "output_type": "stream",
          "name": "stdout",
          "text": [
            "[Epoch 118, Batch 300] loss: 0.074\n"
          ]
        },
        {
          "output_type": "stream",
          "name": "stderr",
          "text": [
            "Epoch 118/250:  52%|█████▏    | 406/782 [00:09<00:09, 41.66it/s]"
          ]
        },
        {
          "output_type": "stream",
          "name": "stdout",
          "text": [
            "[Epoch 118, Batch 400] loss: 0.074\n"
          ]
        },
        {
          "output_type": "stream",
          "name": "stderr",
          "text": [
            "Epoch 118/250:  65%|██████▍   | 506/782 [00:12<00:06, 41.35it/s]"
          ]
        },
        {
          "output_type": "stream",
          "name": "stdout",
          "text": [
            "[Epoch 118, Batch 500] loss: 0.074\n"
          ]
        },
        {
          "output_type": "stream",
          "name": "stderr",
          "text": [
            "Epoch 118/250:  77%|███████▋  | 606/782 [00:14<00:04, 41.25it/s]"
          ]
        },
        {
          "output_type": "stream",
          "name": "stdout",
          "text": [
            "[Epoch 118, Batch 600] loss: 0.074\n"
          ]
        },
        {
          "output_type": "stream",
          "name": "stderr",
          "text": [
            "Epoch 118/250:  90%|█████████ | 706/782 [00:17<00:01, 41.39it/s]"
          ]
        },
        {
          "output_type": "stream",
          "name": "stdout",
          "text": [
            "[Epoch 118, Batch 700] loss: 0.073\n"
          ]
        },
        {
          "output_type": "stream",
          "name": "stderr",
          "text": [
            "Epoch 118/250: 100%|██████████| 782/782 [00:18<00:00, 41.21it/s]\n"
          ]
        },
        {
          "output_type": "stream",
          "name": "stdout",
          "text": [
            "Checkpoint saved at /content/gdrive/My Drive/checkpoints/AsymmetricAutoencoderMinus1/checkpoint_epoch_118.pth\n"
          ]
        },
        {
          "output_type": "stream",
          "name": "stderr",
          "text": [
            "Epoch 119/250:  14%|█▎        | 106/782 [00:02<00:16, 41.17it/s]"
          ]
        },
        {
          "output_type": "stream",
          "name": "stdout",
          "text": [
            "[Epoch 119, Batch 100] loss: 0.074\n"
          ]
        },
        {
          "output_type": "stream",
          "name": "stderr",
          "text": [
            "Epoch 119/250:  26%|██▋       | 206/782 [00:05<00:13, 41.55it/s]"
          ]
        },
        {
          "output_type": "stream",
          "name": "stdout",
          "text": [
            "[Epoch 119, Batch 200] loss: 0.073\n"
          ]
        },
        {
          "output_type": "stream",
          "name": "stderr",
          "text": [
            "Epoch 119/250:  39%|███▉      | 306/782 [00:07<00:11, 41.62it/s]"
          ]
        },
        {
          "output_type": "stream",
          "name": "stdout",
          "text": [
            "[Epoch 119, Batch 300] loss: 0.074\n"
          ]
        },
        {
          "output_type": "stream",
          "name": "stderr",
          "text": [
            "Epoch 119/250:  52%|█████▏    | 406/782 [00:09<00:09, 40.54it/s]"
          ]
        },
        {
          "output_type": "stream",
          "name": "stdout",
          "text": [
            "[Epoch 119, Batch 400] loss: 0.074\n"
          ]
        },
        {
          "output_type": "stream",
          "name": "stderr",
          "text": [
            "Epoch 119/250:  65%|██████▍   | 505/782 [00:12<00:06, 41.55it/s]"
          ]
        },
        {
          "output_type": "stream",
          "name": "stdout",
          "text": [
            "[Epoch 119, Batch 500] loss: 0.073\n"
          ]
        },
        {
          "output_type": "stream",
          "name": "stderr",
          "text": [
            "Epoch 119/250:  77%|███████▋  | 605/782 [00:14<00:04, 41.85it/s]"
          ]
        },
        {
          "output_type": "stream",
          "name": "stdout",
          "text": [
            "[Epoch 119, Batch 600] loss: 0.074\n"
          ]
        },
        {
          "output_type": "stream",
          "name": "stderr",
          "text": [
            "Epoch 119/250:  90%|█████████ | 705/782 [00:17<00:01, 41.51it/s]"
          ]
        },
        {
          "output_type": "stream",
          "name": "stdout",
          "text": [
            "[Epoch 119, Batch 700] loss: 0.073\n"
          ]
        },
        {
          "output_type": "stream",
          "name": "stderr",
          "text": [
            "Epoch 119/250: 100%|██████████| 782/782 [00:18<00:00, 41.16it/s]\n"
          ]
        },
        {
          "output_type": "stream",
          "name": "stdout",
          "text": [
            "Checkpoint saved at /content/gdrive/My Drive/checkpoints/AsymmetricAutoencoderMinus1/checkpoint_epoch_119.pth\n"
          ]
        },
        {
          "output_type": "stream",
          "name": "stderr",
          "text": [
            "Epoch 120/250:  14%|█▎        | 106/782 [00:02<00:16, 41.40it/s]"
          ]
        },
        {
          "output_type": "stream",
          "name": "stdout",
          "text": [
            "[Epoch 120, Batch 100] loss: 0.074\n"
          ]
        },
        {
          "output_type": "stream",
          "name": "stderr",
          "text": [
            "Epoch 120/250:  26%|██▋       | 206/782 [00:05<00:13, 41.45it/s]"
          ]
        },
        {
          "output_type": "stream",
          "name": "stdout",
          "text": [
            "[Epoch 120, Batch 200] loss: 0.074\n"
          ]
        },
        {
          "output_type": "stream",
          "name": "stderr",
          "text": [
            "Epoch 120/250:  39%|███▉      | 306/782 [00:07<00:11, 41.29it/s]"
          ]
        },
        {
          "output_type": "stream",
          "name": "stdout",
          "text": [
            "[Epoch 120, Batch 300] loss: 0.074\n"
          ]
        },
        {
          "output_type": "stream",
          "name": "stderr",
          "text": [
            "Epoch 120/250:  52%|█████▏    | 406/782 [00:09<00:09, 41.36it/s]"
          ]
        },
        {
          "output_type": "stream",
          "name": "stdout",
          "text": [
            "[Epoch 120, Batch 400] loss: 0.074\n"
          ]
        },
        {
          "output_type": "stream",
          "name": "stderr",
          "text": [
            "Epoch 120/250:  65%|██████▍   | 506/782 [00:12<00:06, 41.34it/s]"
          ]
        },
        {
          "output_type": "stream",
          "name": "stdout",
          "text": [
            "[Epoch 120, Batch 500] loss: 0.073\n"
          ]
        },
        {
          "output_type": "stream",
          "name": "stderr",
          "text": [
            "Epoch 120/250:  77%|███████▋  | 606/782 [00:14<00:04, 40.98it/s]"
          ]
        },
        {
          "output_type": "stream",
          "name": "stdout",
          "text": [
            "[Epoch 120, Batch 600] loss: 0.074\n"
          ]
        },
        {
          "output_type": "stream",
          "name": "stderr",
          "text": [
            "Epoch 120/250:  90%|█████████ | 706/782 [00:17<00:01, 41.80it/s]"
          ]
        },
        {
          "output_type": "stream",
          "name": "stdout",
          "text": [
            "[Epoch 120, Batch 700] loss: 0.074\n"
          ]
        },
        {
          "output_type": "stream",
          "name": "stderr",
          "text": [
            "Epoch 120/250: 100%|██████████| 782/782 [00:18<00:00, 41.19it/s]\n"
          ]
        },
        {
          "output_type": "stream",
          "name": "stdout",
          "text": [
            "Checkpoint saved at /content/gdrive/My Drive/checkpoints/AsymmetricAutoencoderMinus1/checkpoint_epoch_120.pth\n",
            "Validation Loss after epoch 120: 0.0742\n"
          ]
        },
        {
          "output_type": "stream",
          "name": "stderr",
          "text": [
            "Epoch 121/250:  14%|█▎        | 106/782 [00:02<00:16, 41.65it/s]"
          ]
        },
        {
          "output_type": "stream",
          "name": "stdout",
          "text": [
            "[Epoch 121, Batch 100] loss: 0.074\n"
          ]
        },
        {
          "output_type": "stream",
          "name": "stderr",
          "text": [
            "Epoch 121/250:  26%|██▋       | 206/782 [00:05<00:13, 41.42it/s]"
          ]
        },
        {
          "output_type": "stream",
          "name": "stdout",
          "text": [
            "[Epoch 121, Batch 200] loss: 0.074\n"
          ]
        },
        {
          "output_type": "stream",
          "name": "stderr",
          "text": [
            "Epoch 121/250:  39%|███▉      | 306/782 [00:07<00:11, 41.35it/s]"
          ]
        },
        {
          "output_type": "stream",
          "name": "stdout",
          "text": [
            "[Epoch 121, Batch 300] loss: 0.073\n"
          ]
        },
        {
          "output_type": "stream",
          "name": "stderr",
          "text": [
            "Epoch 121/250:  52%|█████▏    | 406/782 [00:09<00:09, 40.77it/s]"
          ]
        },
        {
          "output_type": "stream",
          "name": "stdout",
          "text": [
            "[Epoch 121, Batch 400] loss: 0.074\n"
          ]
        },
        {
          "output_type": "stream",
          "name": "stderr",
          "text": [
            "Epoch 121/250:  65%|██████▍   | 506/782 [00:12<00:06, 41.57it/s]"
          ]
        },
        {
          "output_type": "stream",
          "name": "stdout",
          "text": [
            "[Epoch 121, Batch 500] loss: 0.073\n"
          ]
        },
        {
          "output_type": "stream",
          "name": "stderr",
          "text": [
            "Epoch 121/250:  77%|███████▋  | 606/782 [00:14<00:04, 41.51it/s]"
          ]
        },
        {
          "output_type": "stream",
          "name": "stdout",
          "text": [
            "[Epoch 121, Batch 600] loss: 0.074\n"
          ]
        },
        {
          "output_type": "stream",
          "name": "stderr",
          "text": [
            "Epoch 121/250:  90%|█████████ | 706/782 [00:17<00:01, 41.11it/s]"
          ]
        },
        {
          "output_type": "stream",
          "name": "stdout",
          "text": [
            "[Epoch 121, Batch 700] loss: 0.074\n"
          ]
        },
        {
          "output_type": "stream",
          "name": "stderr",
          "text": [
            "Epoch 121/250: 100%|██████████| 782/782 [00:19<00:00, 41.07it/s]\n"
          ]
        },
        {
          "output_type": "stream",
          "name": "stdout",
          "text": [
            "Checkpoint saved at /content/gdrive/My Drive/checkpoints/AsymmetricAutoencoderMinus1/checkpoint_epoch_121.pth\n"
          ]
        },
        {
          "output_type": "stream",
          "name": "stderr",
          "text": [
            "Epoch 122/250:  14%|█▎        | 106/782 [00:02<00:16, 41.80it/s]"
          ]
        },
        {
          "output_type": "stream",
          "name": "stdout",
          "text": [
            "[Epoch 122, Batch 100] loss: 0.073\n"
          ]
        },
        {
          "output_type": "stream",
          "name": "stderr",
          "text": [
            "Epoch 122/250:  26%|██▋       | 206/782 [00:05<00:14, 41.14it/s]"
          ]
        },
        {
          "output_type": "stream",
          "name": "stdout",
          "text": [
            "[Epoch 122, Batch 200] loss: 0.074\n"
          ]
        },
        {
          "output_type": "stream",
          "name": "stderr",
          "text": [
            "Epoch 122/250:  39%|███▉      | 306/782 [00:07<00:11, 41.48it/s]"
          ]
        },
        {
          "output_type": "stream",
          "name": "stdout",
          "text": [
            "[Epoch 122, Batch 300] loss: 0.074\n"
          ]
        },
        {
          "output_type": "stream",
          "name": "stderr",
          "text": [
            "Epoch 122/250:  52%|█████▏    | 406/782 [00:09<00:09, 41.61it/s]"
          ]
        },
        {
          "output_type": "stream",
          "name": "stdout",
          "text": [
            "[Epoch 122, Batch 400] loss: 0.074\n"
          ]
        },
        {
          "output_type": "stream",
          "name": "stderr",
          "text": [
            "Epoch 122/250:  65%|██████▍   | 506/782 [00:12<00:06, 40.57it/s]"
          ]
        },
        {
          "output_type": "stream",
          "name": "stdout",
          "text": [
            "[Epoch 122, Batch 500] loss: 0.075\n"
          ]
        },
        {
          "output_type": "stream",
          "name": "stderr",
          "text": [
            "Epoch 122/250:  77%|███████▋  | 606/782 [00:14<00:04, 41.49it/s]"
          ]
        },
        {
          "output_type": "stream",
          "name": "stdout",
          "text": [
            "[Epoch 122, Batch 600] loss: 0.073\n"
          ]
        },
        {
          "output_type": "stream",
          "name": "stderr",
          "text": [
            "Epoch 122/250:  90%|█████████ | 706/782 [00:17<00:01, 41.56it/s]"
          ]
        },
        {
          "output_type": "stream",
          "name": "stdout",
          "text": [
            "[Epoch 122, Batch 700] loss: 0.075\n"
          ]
        },
        {
          "output_type": "stream",
          "name": "stderr",
          "text": [
            "Epoch 122/250: 100%|██████████| 782/782 [00:19<00:00, 41.13it/s]\n"
          ]
        },
        {
          "output_type": "stream",
          "name": "stdout",
          "text": [
            "Checkpoint saved at /content/gdrive/My Drive/checkpoints/AsymmetricAutoencoderMinus1/checkpoint_epoch_122.pth\n"
          ]
        },
        {
          "output_type": "stream",
          "name": "stderr",
          "text": [
            "Epoch 123/250:  14%|█▎        | 106/782 [00:02<00:16, 41.68it/s]"
          ]
        },
        {
          "output_type": "stream",
          "name": "stdout",
          "text": [
            "[Epoch 123, Batch 100] loss: 0.074\n"
          ]
        },
        {
          "output_type": "stream",
          "name": "stderr",
          "text": [
            "Epoch 123/250:  26%|██▋       | 206/782 [00:05<00:13, 41.60it/s]"
          ]
        },
        {
          "output_type": "stream",
          "name": "stdout",
          "text": [
            "[Epoch 123, Batch 200] loss: 0.074\n"
          ]
        },
        {
          "output_type": "stream",
          "name": "stderr",
          "text": [
            "Epoch 123/250:  39%|███▉      | 306/782 [00:07<00:11, 41.58it/s]"
          ]
        },
        {
          "output_type": "stream",
          "name": "stdout",
          "text": [
            "[Epoch 123, Batch 300] loss: 0.074\n"
          ]
        },
        {
          "output_type": "stream",
          "name": "stderr",
          "text": [
            "Epoch 123/250:  52%|█████▏    | 406/782 [00:09<00:09, 41.09it/s]"
          ]
        },
        {
          "output_type": "stream",
          "name": "stdout",
          "text": [
            "[Epoch 123, Batch 400] loss: 0.073\n"
          ]
        },
        {
          "output_type": "stream",
          "name": "stderr",
          "text": [
            "Epoch 123/250:  65%|██████▍   | 506/782 [00:12<00:06, 40.94it/s]"
          ]
        },
        {
          "output_type": "stream",
          "name": "stdout",
          "text": [
            "[Epoch 123, Batch 500] loss: 0.074\n"
          ]
        },
        {
          "output_type": "stream",
          "name": "stderr",
          "text": [
            "Epoch 123/250:  77%|███████▋  | 606/782 [00:14<00:04, 41.64it/s]"
          ]
        },
        {
          "output_type": "stream",
          "name": "stdout",
          "text": [
            "[Epoch 123, Batch 600] loss: 0.074\n"
          ]
        },
        {
          "output_type": "stream",
          "name": "stderr",
          "text": [
            "Epoch 123/250:  90%|█████████ | 706/782 [00:17<00:01, 41.13it/s]"
          ]
        },
        {
          "output_type": "stream",
          "name": "stdout",
          "text": [
            "[Epoch 123, Batch 700] loss: 0.073\n"
          ]
        },
        {
          "output_type": "stream",
          "name": "stderr",
          "text": [
            "Epoch 123/250: 100%|██████████| 782/782 [00:19<00:00, 41.07it/s]\n"
          ]
        },
        {
          "output_type": "stream",
          "name": "stdout",
          "text": [
            "Checkpoint saved at /content/gdrive/My Drive/checkpoints/AsymmetricAutoencoderMinus1/checkpoint_epoch_123.pth\n"
          ]
        },
        {
          "output_type": "stream",
          "name": "stderr",
          "text": [
            "Epoch 124/250:  14%|█▎        | 106/782 [00:02<00:16, 41.66it/s]"
          ]
        },
        {
          "output_type": "stream",
          "name": "stdout",
          "text": [
            "[Epoch 124, Batch 100] loss: 0.073\n"
          ]
        },
        {
          "output_type": "stream",
          "name": "stderr",
          "text": [
            "Epoch 124/250:  26%|██▋       | 206/782 [00:05<00:13, 41.34it/s]"
          ]
        },
        {
          "output_type": "stream",
          "name": "stdout",
          "text": [
            "[Epoch 124, Batch 200] loss: 0.074\n"
          ]
        },
        {
          "output_type": "stream",
          "name": "stderr",
          "text": [
            "Epoch 124/250:  39%|███▉      | 306/782 [00:07<00:11, 41.36it/s]"
          ]
        },
        {
          "output_type": "stream",
          "name": "stdout",
          "text": [
            "[Epoch 124, Batch 300] loss: 0.074\n"
          ]
        },
        {
          "output_type": "stream",
          "name": "stderr",
          "text": [
            "Epoch 124/250:  52%|█████▏    | 406/782 [00:09<00:09, 41.29it/s]"
          ]
        },
        {
          "output_type": "stream",
          "name": "stdout",
          "text": [
            "[Epoch 124, Batch 400] loss: 0.074\n"
          ]
        },
        {
          "output_type": "stream",
          "name": "stderr",
          "text": [
            "Epoch 124/250:  65%|██████▍   | 506/782 [00:12<00:06, 41.10it/s]"
          ]
        },
        {
          "output_type": "stream",
          "name": "stdout",
          "text": [
            "[Epoch 124, Batch 500] loss: 0.074\n"
          ]
        },
        {
          "output_type": "stream",
          "name": "stderr",
          "text": [
            "Epoch 124/250:  77%|███████▋  | 606/782 [00:14<00:04, 41.78it/s]"
          ]
        },
        {
          "output_type": "stream",
          "name": "stdout",
          "text": [
            "[Epoch 124, Batch 600] loss: 0.074\n"
          ]
        },
        {
          "output_type": "stream",
          "name": "stderr",
          "text": [
            "Epoch 124/250:  90%|█████████ | 706/782 [00:17<00:01, 41.61it/s]"
          ]
        },
        {
          "output_type": "stream",
          "name": "stdout",
          "text": [
            "[Epoch 124, Batch 700] loss: 0.074\n"
          ]
        },
        {
          "output_type": "stream",
          "name": "stderr",
          "text": [
            "Epoch 124/250: 100%|██████████| 782/782 [00:18<00:00, 41.16it/s]\n"
          ]
        },
        {
          "output_type": "stream",
          "name": "stdout",
          "text": [
            "Checkpoint saved at /content/gdrive/My Drive/checkpoints/AsymmetricAutoencoderMinus1/checkpoint_epoch_124.pth\n"
          ]
        },
        {
          "output_type": "stream",
          "name": "stderr",
          "text": [
            "Epoch 125/250:  14%|█▎        | 106/782 [00:02<00:16, 41.62it/s]"
          ]
        },
        {
          "output_type": "stream",
          "name": "stdout",
          "text": [
            "[Epoch 125, Batch 100] loss: 0.074\n"
          ]
        },
        {
          "output_type": "stream",
          "name": "stderr",
          "text": [
            "Epoch 125/250:  26%|██▋       | 206/782 [00:05<00:13, 41.62it/s]"
          ]
        },
        {
          "output_type": "stream",
          "name": "stdout",
          "text": [
            "[Epoch 125, Batch 200] loss: 0.074\n"
          ]
        },
        {
          "output_type": "stream",
          "name": "stderr",
          "text": [
            "Epoch 125/250:  39%|███▉      | 306/782 [00:07<00:11, 41.27it/s]"
          ]
        },
        {
          "output_type": "stream",
          "name": "stdout",
          "text": [
            "[Epoch 125, Batch 300] loss: 0.074\n"
          ]
        },
        {
          "output_type": "stream",
          "name": "stderr",
          "text": [
            "Epoch 125/250:  52%|█████▏    | 406/782 [00:09<00:09, 40.83it/s]"
          ]
        },
        {
          "output_type": "stream",
          "name": "stdout",
          "text": [
            "[Epoch 125, Batch 400] loss: 0.073\n"
          ]
        },
        {
          "output_type": "stream",
          "name": "stderr",
          "text": [
            "Epoch 125/250:  65%|██████▍   | 506/782 [00:12<00:06, 41.39it/s]"
          ]
        },
        {
          "output_type": "stream",
          "name": "stdout",
          "text": [
            "[Epoch 125, Batch 500] loss: 0.074\n"
          ]
        },
        {
          "output_type": "stream",
          "name": "stderr",
          "text": [
            "Epoch 125/250:  77%|███████▋  | 606/782 [00:14<00:04, 41.33it/s]"
          ]
        },
        {
          "output_type": "stream",
          "name": "stdout",
          "text": [
            "[Epoch 125, Batch 600] loss: 0.074\n"
          ]
        },
        {
          "output_type": "stream",
          "name": "stderr",
          "text": [
            "Epoch 125/250:  90%|█████████ | 706/782 [00:17<00:01, 41.13it/s]"
          ]
        },
        {
          "output_type": "stream",
          "name": "stdout",
          "text": [
            "[Epoch 125, Batch 700] loss: 0.074\n"
          ]
        },
        {
          "output_type": "stream",
          "name": "stderr",
          "text": [
            "Epoch 125/250: 100%|██████████| 782/782 [00:19<00:00, 41.05it/s]\n"
          ]
        },
        {
          "output_type": "stream",
          "name": "stdout",
          "text": [
            "Checkpoint saved at /content/gdrive/My Drive/checkpoints/AsymmetricAutoencoderMinus1/checkpoint_epoch_125.pth\n"
          ]
        },
        {
          "output_type": "stream",
          "name": "stderr",
          "text": [
            "Epoch 126/250:  14%|█▎        | 106/782 [00:02<00:16, 41.65it/s]"
          ]
        },
        {
          "output_type": "stream",
          "name": "stdout",
          "text": [
            "[Epoch 126, Batch 100] loss: 0.074\n"
          ]
        },
        {
          "output_type": "stream",
          "name": "stderr",
          "text": [
            "Epoch 126/250:  26%|██▋       | 206/782 [00:05<00:14, 40.81it/s]"
          ]
        },
        {
          "output_type": "stream",
          "name": "stdout",
          "text": [
            "[Epoch 126, Batch 200] loss: 0.074\n"
          ]
        },
        {
          "output_type": "stream",
          "name": "stderr",
          "text": [
            "Epoch 126/250:  39%|███▉      | 306/782 [00:07<00:11, 41.35it/s]"
          ]
        },
        {
          "output_type": "stream",
          "name": "stdout",
          "text": [
            "[Epoch 126, Batch 300] loss: 0.074\n"
          ]
        },
        {
          "output_type": "stream",
          "name": "stderr",
          "text": [
            "Epoch 126/250:  52%|█████▏    | 406/782 [00:09<00:09, 41.34it/s]"
          ]
        },
        {
          "output_type": "stream",
          "name": "stdout",
          "text": [
            "[Epoch 126, Batch 400] loss: 0.074\n"
          ]
        },
        {
          "output_type": "stream",
          "name": "stderr",
          "text": [
            "Epoch 126/250:  65%|██████▍   | 506/782 [00:12<00:06, 41.01it/s]"
          ]
        },
        {
          "output_type": "stream",
          "name": "stdout",
          "text": [
            "[Epoch 126, Batch 500] loss: 0.074\n"
          ]
        },
        {
          "output_type": "stream",
          "name": "stderr",
          "text": [
            "Epoch 126/250:  77%|███████▋  | 606/782 [00:14<00:04, 41.46it/s]"
          ]
        },
        {
          "output_type": "stream",
          "name": "stdout",
          "text": [
            "[Epoch 126, Batch 600] loss: 0.074\n"
          ]
        },
        {
          "output_type": "stream",
          "name": "stderr",
          "text": [
            "Epoch 126/250:  90%|█████████ | 706/782 [00:17<00:01, 41.25it/s]"
          ]
        },
        {
          "output_type": "stream",
          "name": "stdout",
          "text": [
            "[Epoch 126, Batch 700] loss: 0.074\n"
          ]
        },
        {
          "output_type": "stream",
          "name": "stderr",
          "text": [
            "Epoch 126/250: 100%|██████████| 782/782 [00:19<00:00, 41.06it/s]\n"
          ]
        },
        {
          "output_type": "stream",
          "name": "stdout",
          "text": [
            "Checkpoint saved at /content/gdrive/My Drive/checkpoints/AsymmetricAutoencoderMinus1/checkpoint_epoch_126.pth\n"
          ]
        },
        {
          "output_type": "stream",
          "name": "stderr",
          "text": [
            "Epoch 127/250:  14%|█▎        | 106/782 [00:02<00:16, 41.71it/s]"
          ]
        },
        {
          "output_type": "stream",
          "name": "stdout",
          "text": [
            "[Epoch 127, Batch 100] loss: 0.074\n"
          ]
        },
        {
          "output_type": "stream",
          "name": "stderr",
          "text": [
            "Epoch 127/250:  26%|██▋       | 206/782 [00:05<00:13, 41.52it/s]"
          ]
        },
        {
          "output_type": "stream",
          "name": "stdout",
          "text": [
            "[Epoch 127, Batch 200] loss: 0.074\n"
          ]
        },
        {
          "output_type": "stream",
          "name": "stderr",
          "text": [
            "Epoch 127/250:  39%|███▉      | 306/782 [00:07<00:11, 41.09it/s]"
          ]
        },
        {
          "output_type": "stream",
          "name": "stdout",
          "text": [
            "[Epoch 127, Batch 300] loss: 0.074\n"
          ]
        },
        {
          "output_type": "stream",
          "name": "stderr",
          "text": [
            "Epoch 127/250:  52%|█████▏    | 406/782 [00:09<00:09, 40.75it/s]"
          ]
        },
        {
          "output_type": "stream",
          "name": "stdout",
          "text": [
            "[Epoch 127, Batch 400] loss: 0.074\n"
          ]
        },
        {
          "output_type": "stream",
          "name": "stderr",
          "text": [
            "Epoch 127/250:  65%|██████▍   | 506/782 [00:12<00:06, 41.64it/s]"
          ]
        },
        {
          "output_type": "stream",
          "name": "stdout",
          "text": [
            "[Epoch 127, Batch 500] loss: 0.073\n"
          ]
        },
        {
          "output_type": "stream",
          "name": "stderr",
          "text": [
            "Epoch 127/250:  77%|███████▋  | 606/782 [00:14<00:04, 41.71it/s]"
          ]
        },
        {
          "output_type": "stream",
          "name": "stdout",
          "text": [
            "[Epoch 127, Batch 600] loss: 0.074\n"
          ]
        },
        {
          "output_type": "stream",
          "name": "stderr",
          "text": [
            "Epoch 127/250:  90%|█████████ | 706/782 [00:17<00:01, 41.20it/s]"
          ]
        },
        {
          "output_type": "stream",
          "name": "stdout",
          "text": [
            "[Epoch 127, Batch 700] loss: 0.074\n"
          ]
        },
        {
          "output_type": "stream",
          "name": "stderr",
          "text": [
            "Epoch 127/250: 100%|██████████| 782/782 [00:19<00:00, 41.09it/s]\n"
          ]
        },
        {
          "output_type": "stream",
          "name": "stdout",
          "text": [
            "Checkpoint saved at /content/gdrive/My Drive/checkpoints/AsymmetricAutoencoderMinus1/checkpoint_epoch_127.pth\n"
          ]
        },
        {
          "output_type": "stream",
          "name": "stderr",
          "text": [
            "Epoch 128/250:  14%|█▎        | 106/782 [00:02<00:16, 41.56it/s]"
          ]
        },
        {
          "output_type": "stream",
          "name": "stdout",
          "text": [
            "[Epoch 128, Batch 100] loss: 0.073\n"
          ]
        },
        {
          "output_type": "stream",
          "name": "stderr",
          "text": [
            "Epoch 128/250:  26%|██▋       | 206/782 [00:05<00:14, 41.12it/s]"
          ]
        },
        {
          "output_type": "stream",
          "name": "stdout",
          "text": [
            "[Epoch 128, Batch 200] loss: 0.075\n"
          ]
        },
        {
          "output_type": "stream",
          "name": "stderr",
          "text": [
            "Epoch 128/250:  39%|███▉      | 306/782 [00:07<00:11, 41.52it/s]"
          ]
        },
        {
          "output_type": "stream",
          "name": "stdout",
          "text": [
            "[Epoch 128, Batch 300] loss: 0.074\n"
          ]
        },
        {
          "output_type": "stream",
          "name": "stderr",
          "text": [
            "Epoch 128/250:  52%|█████▏    | 406/782 [00:09<00:09, 41.54it/s]"
          ]
        },
        {
          "output_type": "stream",
          "name": "stdout",
          "text": [
            "[Epoch 128, Batch 400] loss: 0.074\n"
          ]
        },
        {
          "output_type": "stream",
          "name": "stderr",
          "text": [
            "Epoch 128/250:  65%|██████▍   | 506/782 [00:12<00:06, 40.01it/s]"
          ]
        },
        {
          "output_type": "stream",
          "name": "stdout",
          "text": [
            "[Epoch 128, Batch 500] loss: 0.075\n"
          ]
        },
        {
          "output_type": "stream",
          "name": "stderr",
          "text": [
            "Epoch 128/250:  77%|███████▋  | 606/782 [00:14<00:04, 41.26it/s]"
          ]
        },
        {
          "output_type": "stream",
          "name": "stdout",
          "text": [
            "[Epoch 128, Batch 600] loss: 0.073\n"
          ]
        },
        {
          "output_type": "stream",
          "name": "stderr",
          "text": [
            "Epoch 128/250:  90%|█████████ | 706/782 [00:17<00:01, 41.83it/s]"
          ]
        },
        {
          "output_type": "stream",
          "name": "stdout",
          "text": [
            "[Epoch 128, Batch 700] loss: 0.073\n"
          ]
        },
        {
          "output_type": "stream",
          "name": "stderr",
          "text": [
            "Epoch 128/250: 100%|██████████| 782/782 [00:19<00:00, 41.03it/s]\n"
          ]
        },
        {
          "output_type": "stream",
          "name": "stdout",
          "text": [
            "Checkpoint saved at /content/gdrive/My Drive/checkpoints/AsymmetricAutoencoderMinus1/checkpoint_epoch_128.pth\n"
          ]
        },
        {
          "output_type": "stream",
          "name": "stderr",
          "text": [
            "Epoch 129/250:  14%|█▎        | 106/782 [00:02<00:16, 41.38it/s]"
          ]
        },
        {
          "output_type": "stream",
          "name": "stdout",
          "text": [
            "[Epoch 129, Batch 100] loss: 0.075\n"
          ]
        },
        {
          "output_type": "stream",
          "name": "stderr",
          "text": [
            "Epoch 129/250:  26%|██▋       | 206/782 [00:05<00:13, 41.75it/s]"
          ]
        },
        {
          "output_type": "stream",
          "name": "stdout",
          "text": [
            "[Epoch 129, Batch 200] loss: 0.073\n"
          ]
        },
        {
          "output_type": "stream",
          "name": "stderr",
          "text": [
            "Epoch 129/250:  39%|███▉      | 306/782 [00:07<00:11, 41.08it/s]"
          ]
        },
        {
          "output_type": "stream",
          "name": "stdout",
          "text": [
            "[Epoch 129, Batch 300] loss: 0.075\n"
          ]
        },
        {
          "output_type": "stream",
          "name": "stderr",
          "text": [
            "Epoch 129/250:  52%|█████▏    | 406/782 [00:09<00:09, 41.43it/s]"
          ]
        },
        {
          "output_type": "stream",
          "name": "stdout",
          "text": [
            "[Epoch 129, Batch 400] loss: 0.074\n"
          ]
        },
        {
          "output_type": "stream",
          "name": "stderr",
          "text": [
            "Epoch 129/250:  65%|██████▍   | 506/782 [00:12<00:06, 41.23it/s]"
          ]
        },
        {
          "output_type": "stream",
          "name": "stdout",
          "text": [
            "[Epoch 129, Batch 500] loss: 0.073\n"
          ]
        },
        {
          "output_type": "stream",
          "name": "stderr",
          "text": [
            "Epoch 129/250:  77%|███████▋  | 606/782 [00:14<00:04, 41.25it/s]"
          ]
        },
        {
          "output_type": "stream",
          "name": "stdout",
          "text": [
            "[Epoch 129, Batch 600] loss: 0.074\n"
          ]
        },
        {
          "output_type": "stream",
          "name": "stderr",
          "text": [
            "Epoch 129/250:  90%|█████████ | 706/782 [00:17<00:01, 41.12it/s]"
          ]
        },
        {
          "output_type": "stream",
          "name": "stdout",
          "text": [
            "[Epoch 129, Batch 700] loss: 0.074\n"
          ]
        },
        {
          "output_type": "stream",
          "name": "stderr",
          "text": [
            "Epoch 129/250: 100%|██████████| 782/782 [00:19<00:00, 41.07it/s]\n"
          ]
        },
        {
          "output_type": "stream",
          "name": "stdout",
          "text": [
            "Checkpoint saved at /content/gdrive/My Drive/checkpoints/AsymmetricAutoencoderMinus1/checkpoint_epoch_129.pth\n"
          ]
        },
        {
          "output_type": "stream",
          "name": "stderr",
          "text": [
            "Epoch 130/250:  14%|█▎        | 106/782 [00:02<00:16, 41.46it/s]"
          ]
        },
        {
          "output_type": "stream",
          "name": "stdout",
          "text": [
            "[Epoch 130, Batch 100] loss: 0.074\n"
          ]
        },
        {
          "output_type": "stream",
          "name": "stderr",
          "text": [
            "Epoch 130/250:  26%|██▋       | 206/782 [00:05<00:13, 41.17it/s]"
          ]
        },
        {
          "output_type": "stream",
          "name": "stdout",
          "text": [
            "[Epoch 130, Batch 200] loss: 0.074\n"
          ]
        },
        {
          "output_type": "stream",
          "name": "stderr",
          "text": [
            "Epoch 130/250:  39%|███▉      | 306/782 [00:07<00:11, 41.65it/s]"
          ]
        },
        {
          "output_type": "stream",
          "name": "stdout",
          "text": [
            "[Epoch 130, Batch 300] loss: 0.074\n"
          ]
        },
        {
          "output_type": "stream",
          "name": "stderr",
          "text": [
            "Epoch 130/250:  52%|█████▏    | 406/782 [00:09<00:09, 41.47it/s]"
          ]
        },
        {
          "output_type": "stream",
          "name": "stdout",
          "text": [
            "[Epoch 130, Batch 400] loss: 0.073\n"
          ]
        },
        {
          "output_type": "stream",
          "name": "stderr",
          "text": [
            "Epoch 130/250:  65%|██████▍   | 506/782 [00:12<00:06, 40.53it/s]"
          ]
        },
        {
          "output_type": "stream",
          "name": "stdout",
          "text": [
            "[Epoch 130, Batch 500] loss: 0.075\n"
          ]
        },
        {
          "output_type": "stream",
          "name": "stderr",
          "text": [
            "Epoch 130/250:  77%|███████▋  | 606/782 [00:14<00:04, 41.58it/s]"
          ]
        },
        {
          "output_type": "stream",
          "name": "stdout",
          "text": [
            "[Epoch 130, Batch 600] loss: 0.075\n"
          ]
        },
        {
          "output_type": "stream",
          "name": "stderr",
          "text": [
            "Epoch 130/250:  90%|█████████ | 706/782 [00:17<00:01, 41.48it/s]"
          ]
        },
        {
          "output_type": "stream",
          "name": "stdout",
          "text": [
            "[Epoch 130, Batch 700] loss: 0.073\n"
          ]
        },
        {
          "output_type": "stream",
          "name": "stderr",
          "text": [
            "Epoch 130/250: 100%|██████████| 782/782 [00:19<00:00, 41.14it/s]\n"
          ]
        },
        {
          "output_type": "stream",
          "name": "stdout",
          "text": [
            "Checkpoint saved at /content/gdrive/My Drive/checkpoints/AsymmetricAutoencoderMinus1/checkpoint_epoch_130.pth\n",
            "Validation Loss after epoch 130: 0.0742\n"
          ]
        },
        {
          "output_type": "stream",
          "name": "stderr",
          "text": [
            "Epoch 131/250:  14%|█▎        | 106/782 [00:02<00:16, 41.51it/s]"
          ]
        },
        {
          "output_type": "stream",
          "name": "stdout",
          "text": [
            "[Epoch 131, Batch 100] loss: 0.074\n"
          ]
        },
        {
          "output_type": "stream",
          "name": "stderr",
          "text": [
            "Epoch 131/250:  26%|██▋       | 206/782 [00:05<00:13, 41.38it/s]"
          ]
        },
        {
          "output_type": "stream",
          "name": "stdout",
          "text": [
            "[Epoch 131, Batch 200] loss: 0.075\n"
          ]
        },
        {
          "output_type": "stream",
          "name": "stderr",
          "text": [
            "Epoch 131/250:  39%|███▉      | 306/782 [00:07<00:11, 41.23it/s]"
          ]
        },
        {
          "output_type": "stream",
          "name": "stdout",
          "text": [
            "[Epoch 131, Batch 300] loss: 0.074\n"
          ]
        },
        {
          "output_type": "stream",
          "name": "stderr",
          "text": [
            "Epoch 131/250:  52%|█████▏    | 406/782 [00:09<00:09, 41.22it/s]"
          ]
        },
        {
          "output_type": "stream",
          "name": "stdout",
          "text": [
            "[Epoch 131, Batch 400] loss: 0.074\n"
          ]
        },
        {
          "output_type": "stream",
          "name": "stderr",
          "text": [
            "Epoch 131/250:  65%|██████▍   | 506/782 [00:12<00:06, 41.72it/s]"
          ]
        },
        {
          "output_type": "stream",
          "name": "stdout",
          "text": [
            "[Epoch 131, Batch 500] loss: 0.073\n"
          ]
        },
        {
          "output_type": "stream",
          "name": "stderr",
          "text": [
            "Epoch 131/250:  77%|███████▋  | 606/782 [00:14<00:04, 40.97it/s]"
          ]
        },
        {
          "output_type": "stream",
          "name": "stdout",
          "text": [
            "[Epoch 131, Batch 600] loss: 0.073\n"
          ]
        },
        {
          "output_type": "stream",
          "name": "stderr",
          "text": [
            "Epoch 131/250:  90%|█████████ | 706/782 [00:17<00:01, 41.76it/s]"
          ]
        },
        {
          "output_type": "stream",
          "name": "stdout",
          "text": [
            "[Epoch 131, Batch 700] loss: 0.074\n"
          ]
        },
        {
          "output_type": "stream",
          "name": "stderr",
          "text": [
            "Epoch 131/250: 100%|██████████| 782/782 [00:19<00:00, 41.10it/s]\n"
          ]
        },
        {
          "output_type": "stream",
          "name": "stdout",
          "text": [
            "Checkpoint saved at /content/gdrive/My Drive/checkpoints/AsymmetricAutoencoderMinus1/checkpoint_epoch_131.pth\n"
          ]
        },
        {
          "output_type": "stream",
          "name": "stderr",
          "text": [
            "Epoch 132/250:  14%|█▎        | 106/782 [00:02<00:16, 41.44it/s]"
          ]
        },
        {
          "output_type": "stream",
          "name": "stdout",
          "text": [
            "[Epoch 132, Batch 100] loss: 0.074\n"
          ]
        },
        {
          "output_type": "stream",
          "name": "stderr",
          "text": [
            "Epoch 132/250:  26%|██▋       | 206/782 [00:05<00:13, 41.56it/s]"
          ]
        },
        {
          "output_type": "stream",
          "name": "stdout",
          "text": [
            "[Epoch 132, Batch 200] loss: 0.073\n"
          ]
        },
        {
          "output_type": "stream",
          "name": "stderr",
          "text": [
            "Epoch 132/250:  39%|███▉      | 306/782 [00:07<00:11, 41.55it/s]"
          ]
        },
        {
          "output_type": "stream",
          "name": "stdout",
          "text": [
            "[Epoch 132, Batch 300] loss: 0.074\n"
          ]
        },
        {
          "output_type": "stream",
          "name": "stderr",
          "text": [
            "Epoch 132/250:  52%|█████▏    | 406/782 [00:09<00:09, 40.56it/s]"
          ]
        },
        {
          "output_type": "stream",
          "name": "stdout",
          "text": [
            "[Epoch 132, Batch 400] loss: 0.073\n"
          ]
        },
        {
          "output_type": "stream",
          "name": "stderr",
          "text": [
            "Epoch 132/250:  65%|██████▍   | 506/782 [00:12<00:06, 41.31it/s]"
          ]
        },
        {
          "output_type": "stream",
          "name": "stdout",
          "text": [
            "[Epoch 132, Batch 500] loss: 0.074\n"
          ]
        },
        {
          "output_type": "stream",
          "name": "stderr",
          "text": [
            "Epoch 132/250:  77%|███████▋  | 606/782 [00:14<00:04, 41.79it/s]"
          ]
        },
        {
          "output_type": "stream",
          "name": "stdout",
          "text": [
            "[Epoch 132, Batch 600] loss: 0.074\n"
          ]
        },
        {
          "output_type": "stream",
          "name": "stderr",
          "text": [
            "Epoch 132/250:  90%|█████████ | 706/782 [00:17<00:01, 41.30it/s]"
          ]
        },
        {
          "output_type": "stream",
          "name": "stdout",
          "text": [
            "[Epoch 132, Batch 700] loss: 0.075\n"
          ]
        },
        {
          "output_type": "stream",
          "name": "stderr",
          "text": [
            "Epoch 132/250: 100%|██████████| 782/782 [00:19<00:00, 41.07it/s]\n"
          ]
        },
        {
          "output_type": "stream",
          "name": "stdout",
          "text": [
            "Checkpoint saved at /content/gdrive/My Drive/checkpoints/AsymmetricAutoencoderMinus1/checkpoint_epoch_132.pth\n"
          ]
        },
        {
          "output_type": "stream",
          "name": "stderr",
          "text": [
            "Epoch 133/250:  14%|█▎        | 106/782 [00:02<00:20, 32.71it/s]"
          ]
        },
        {
          "output_type": "stream",
          "name": "stdout",
          "text": [
            "[Epoch 133, Batch 100] loss: 0.074\n"
          ]
        },
        {
          "output_type": "stream",
          "name": "stderr",
          "text": [
            "Epoch 133/250:  26%|██▋       | 206/782 [00:05<00:13, 41.42it/s]"
          ]
        },
        {
          "output_type": "stream",
          "name": "stdout",
          "text": [
            "[Epoch 133, Batch 200] loss: 0.074\n"
          ]
        },
        {
          "output_type": "stream",
          "name": "stderr",
          "text": [
            "Epoch 133/250:  39%|███▉      | 306/782 [00:07<00:11, 41.24it/s]"
          ]
        },
        {
          "output_type": "stream",
          "name": "stdout",
          "text": [
            "[Epoch 133, Batch 300] loss: 0.074\n"
          ]
        },
        {
          "output_type": "stream",
          "name": "stderr",
          "text": [
            "Epoch 133/250:  52%|█████▏    | 406/782 [00:10<00:09, 41.28it/s]"
          ]
        },
        {
          "output_type": "stream",
          "name": "stdout",
          "text": [
            "[Epoch 133, Batch 400] loss: 0.074\n"
          ]
        },
        {
          "output_type": "stream",
          "name": "stderr",
          "text": [
            "Epoch 133/250:  65%|██████▍   | 506/782 [00:12<00:06, 40.96it/s]"
          ]
        },
        {
          "output_type": "stream",
          "name": "stdout",
          "text": [
            "[Epoch 133, Batch 500] loss: 0.074\n"
          ]
        },
        {
          "output_type": "stream",
          "name": "stderr",
          "text": [
            "Epoch 133/250:  77%|███████▋  | 606/782 [00:14<00:04, 41.15it/s]"
          ]
        },
        {
          "output_type": "stream",
          "name": "stdout",
          "text": [
            "[Epoch 133, Batch 600] loss: 0.073\n"
          ]
        },
        {
          "output_type": "stream",
          "name": "stderr",
          "text": [
            "Epoch 133/250:  90%|█████████ | 706/782 [00:17<00:01, 41.48it/s]"
          ]
        },
        {
          "output_type": "stream",
          "name": "stdout",
          "text": [
            "[Epoch 133, Batch 700] loss: 0.074\n"
          ]
        },
        {
          "output_type": "stream",
          "name": "stderr",
          "text": [
            "Epoch 133/250: 100%|██████████| 782/782 [00:19<00:00, 40.62it/s]\n"
          ]
        },
        {
          "output_type": "stream",
          "name": "stdout",
          "text": [
            "Checkpoint saved at /content/gdrive/My Drive/checkpoints/AsymmetricAutoencoderMinus1/checkpoint_epoch_133.pth\n"
          ]
        },
        {
          "output_type": "stream",
          "name": "stderr",
          "text": [
            "Epoch 134/250:  14%|█▎        | 106/782 [00:02<00:16, 40.92it/s]"
          ]
        },
        {
          "output_type": "stream",
          "name": "stdout",
          "text": [
            "[Epoch 134, Batch 100] loss: 0.074\n"
          ]
        },
        {
          "output_type": "stream",
          "name": "stderr",
          "text": [
            "Epoch 134/250:  26%|██▋       | 206/782 [00:05<00:13, 41.54it/s]"
          ]
        },
        {
          "output_type": "stream",
          "name": "stdout",
          "text": [
            "[Epoch 134, Batch 200] loss: 0.074\n"
          ]
        },
        {
          "output_type": "stream",
          "name": "stderr",
          "text": [
            "Epoch 134/250:  39%|███▉      | 306/782 [00:07<00:11, 41.39it/s]"
          ]
        },
        {
          "output_type": "stream",
          "name": "stdout",
          "text": [
            "[Epoch 134, Batch 300] loss: 0.073\n"
          ]
        },
        {
          "output_type": "stream",
          "name": "stderr",
          "text": [
            "Epoch 134/250:  52%|█████▏    | 406/782 [00:09<00:09, 41.16it/s]"
          ]
        },
        {
          "output_type": "stream",
          "name": "stdout",
          "text": [
            "[Epoch 134, Batch 400] loss: 0.074\n"
          ]
        },
        {
          "output_type": "stream",
          "name": "stderr",
          "text": [
            "Epoch 134/250:  65%|██████▍   | 506/782 [00:12<00:06, 40.86it/s]"
          ]
        },
        {
          "output_type": "stream",
          "name": "stdout",
          "text": [
            "[Epoch 134, Batch 500] loss: 0.074\n"
          ]
        },
        {
          "output_type": "stream",
          "name": "stderr",
          "text": [
            "Epoch 134/250:  77%|███████▋  | 606/782 [00:14<00:04, 41.37it/s]"
          ]
        },
        {
          "output_type": "stream",
          "name": "stdout",
          "text": [
            "[Epoch 134, Batch 600] loss: 0.074\n"
          ]
        },
        {
          "output_type": "stream",
          "name": "stderr",
          "text": [
            "Epoch 134/250:  90%|█████████ | 706/782 [00:17<00:01, 41.04it/s]"
          ]
        },
        {
          "output_type": "stream",
          "name": "stdout",
          "text": [
            "[Epoch 134, Batch 700] loss: 0.074\n"
          ]
        },
        {
          "output_type": "stream",
          "name": "stderr",
          "text": [
            "Epoch 134/250: 100%|██████████| 782/782 [00:19<00:00, 41.00it/s]\n"
          ]
        },
        {
          "output_type": "stream",
          "name": "stdout",
          "text": [
            "Checkpoint saved at /content/gdrive/My Drive/checkpoints/AsymmetricAutoencoderMinus1/checkpoint_epoch_134.pth\n"
          ]
        },
        {
          "output_type": "stream",
          "name": "stderr",
          "text": [
            "Epoch 135/250:  14%|█▎        | 106/782 [00:02<00:16, 41.78it/s]"
          ]
        },
        {
          "output_type": "stream",
          "name": "stdout",
          "text": [
            "[Epoch 135, Batch 100] loss: 0.074\n"
          ]
        },
        {
          "output_type": "stream",
          "name": "stderr",
          "text": [
            "Epoch 135/250:  26%|██▋       | 206/782 [00:05<00:13, 41.45it/s]"
          ]
        },
        {
          "output_type": "stream",
          "name": "stdout",
          "text": [
            "[Epoch 135, Batch 200] loss: 0.073\n"
          ]
        },
        {
          "output_type": "stream",
          "name": "stderr",
          "text": [
            "Epoch 135/250:  39%|███▉      | 306/782 [00:07<00:11, 41.25it/s]"
          ]
        },
        {
          "output_type": "stream",
          "name": "stdout",
          "text": [
            "[Epoch 135, Batch 300] loss: 0.074\n"
          ]
        },
        {
          "output_type": "stream",
          "name": "stderr",
          "text": [
            "Epoch 135/250:  52%|█████▏    | 406/782 [00:10<00:09, 41.59it/s]"
          ]
        },
        {
          "output_type": "stream",
          "name": "stdout",
          "text": [
            "[Epoch 135, Batch 400] loss: 0.074\n"
          ]
        },
        {
          "output_type": "stream",
          "name": "stderr",
          "text": [
            "Epoch 135/250:  65%|██████▍   | 506/782 [00:12<00:06, 40.67it/s]"
          ]
        },
        {
          "output_type": "stream",
          "name": "stdout",
          "text": [
            "[Epoch 135, Batch 500] loss: 0.074\n"
          ]
        },
        {
          "output_type": "stream",
          "name": "stderr",
          "text": [
            "Epoch 135/250:  77%|███████▋  | 606/782 [00:14<00:04, 41.58it/s]"
          ]
        },
        {
          "output_type": "stream",
          "name": "stdout",
          "text": [
            "[Epoch 135, Batch 600] loss: 0.074\n"
          ]
        },
        {
          "output_type": "stream",
          "name": "stderr",
          "text": [
            "Epoch 135/250:  90%|█████████ | 706/782 [00:17<00:01, 41.48it/s]"
          ]
        },
        {
          "output_type": "stream",
          "name": "stdout",
          "text": [
            "[Epoch 135, Batch 700] loss: 0.074\n"
          ]
        },
        {
          "output_type": "stream",
          "name": "stderr",
          "text": [
            "Epoch 135/250: 100%|██████████| 782/782 [00:19<00:00, 40.46it/s]\n"
          ]
        },
        {
          "output_type": "stream",
          "name": "stdout",
          "text": [
            "Checkpoint saved at /content/gdrive/My Drive/checkpoints/AsymmetricAutoencoderMinus1/checkpoint_epoch_135.pth\n"
          ]
        },
        {
          "output_type": "stream",
          "name": "stderr",
          "text": [
            "Epoch 136/250:  14%|█▎        | 106/782 [00:02<00:16, 41.24it/s]"
          ]
        },
        {
          "output_type": "stream",
          "name": "stdout",
          "text": [
            "[Epoch 136, Batch 100] loss: 0.074\n"
          ]
        },
        {
          "output_type": "stream",
          "name": "stderr",
          "text": [
            "Epoch 136/250:  26%|██▋       | 206/782 [00:05<00:13, 41.42it/s]"
          ]
        },
        {
          "output_type": "stream",
          "name": "stdout",
          "text": [
            "[Epoch 136, Batch 200] loss: 0.074\n"
          ]
        },
        {
          "output_type": "stream",
          "name": "stderr",
          "text": [
            "Epoch 136/250:  39%|███▉      | 306/782 [00:07<00:11, 41.35it/s]"
          ]
        },
        {
          "output_type": "stream",
          "name": "stdout",
          "text": [
            "[Epoch 136, Batch 300] loss: 0.074\n"
          ]
        },
        {
          "output_type": "stream",
          "name": "stderr",
          "text": [
            "Epoch 136/250:  52%|█████▏    | 406/782 [00:09<00:09, 40.83it/s]"
          ]
        },
        {
          "output_type": "stream",
          "name": "stdout",
          "text": [
            "[Epoch 136, Batch 400] loss: 0.074\n"
          ]
        },
        {
          "output_type": "stream",
          "name": "stderr",
          "text": [
            "Epoch 136/250:  65%|██████▍   | 506/782 [00:12<00:06, 40.85it/s]"
          ]
        },
        {
          "output_type": "stream",
          "name": "stdout",
          "text": [
            "[Epoch 136, Batch 500] loss: 0.074\n"
          ]
        },
        {
          "output_type": "stream",
          "name": "stderr",
          "text": [
            "Epoch 136/250:  77%|███████▋  | 606/782 [00:14<00:04, 41.36it/s]"
          ]
        },
        {
          "output_type": "stream",
          "name": "stdout",
          "text": [
            "[Epoch 136, Batch 600] loss: 0.074\n"
          ]
        },
        {
          "output_type": "stream",
          "name": "stderr",
          "text": [
            "Epoch 136/250:  90%|█████████ | 706/782 [00:17<00:01, 41.05it/s]"
          ]
        },
        {
          "output_type": "stream",
          "name": "stdout",
          "text": [
            "[Epoch 136, Batch 700] loss: 0.074\n"
          ]
        },
        {
          "output_type": "stream",
          "name": "stderr",
          "text": [
            "Epoch 136/250: 100%|██████████| 782/782 [00:19<00:00, 40.95it/s]\n"
          ]
        },
        {
          "output_type": "stream",
          "name": "stdout",
          "text": [
            "Checkpoint saved at /content/gdrive/My Drive/checkpoints/AsymmetricAutoencoderMinus1/checkpoint_epoch_136.pth\n"
          ]
        },
        {
          "output_type": "stream",
          "name": "stderr",
          "text": [
            "Epoch 137/250:  14%|█▎        | 106/782 [00:02<00:16, 41.63it/s]"
          ]
        },
        {
          "output_type": "stream",
          "name": "stdout",
          "text": [
            "[Epoch 137, Batch 100] loss: 0.074\n"
          ]
        },
        {
          "output_type": "stream",
          "name": "stderr",
          "text": [
            "Epoch 137/250:  26%|██▋       | 206/782 [00:05<00:13, 41.23it/s]"
          ]
        },
        {
          "output_type": "stream",
          "name": "stdout",
          "text": [
            "[Epoch 137, Batch 200] loss: 0.073\n"
          ]
        },
        {
          "output_type": "stream",
          "name": "stderr",
          "text": [
            "Epoch 137/250:  39%|███▉      | 306/782 [00:07<00:11, 41.64it/s]"
          ]
        },
        {
          "output_type": "stream",
          "name": "stdout",
          "text": [
            "[Epoch 137, Batch 300] loss: 0.074\n"
          ]
        },
        {
          "output_type": "stream",
          "name": "stderr",
          "text": [
            "Epoch 137/250:  52%|█████▏    | 406/782 [00:09<00:09, 41.05it/s]"
          ]
        },
        {
          "output_type": "stream",
          "name": "stdout",
          "text": [
            "[Epoch 137, Batch 400] loss: 0.074\n"
          ]
        },
        {
          "output_type": "stream",
          "name": "stderr",
          "text": [
            "Epoch 137/250:  65%|██████▍   | 506/782 [00:12<00:06, 41.00it/s]"
          ]
        },
        {
          "output_type": "stream",
          "name": "stdout",
          "text": [
            "[Epoch 137, Batch 500] loss: 0.074\n"
          ]
        },
        {
          "output_type": "stream",
          "name": "stderr",
          "text": [
            "Epoch 137/250:  77%|███████▋  | 606/782 [00:14<00:04, 41.61it/s]"
          ]
        },
        {
          "output_type": "stream",
          "name": "stdout",
          "text": [
            "[Epoch 137, Batch 600] loss: 0.074\n"
          ]
        },
        {
          "output_type": "stream",
          "name": "stderr",
          "text": [
            "Epoch 137/250:  90%|█████████ | 706/782 [00:17<00:01, 41.37it/s]"
          ]
        },
        {
          "output_type": "stream",
          "name": "stdout",
          "text": [
            "[Epoch 137, Batch 700] loss: 0.074\n"
          ]
        },
        {
          "output_type": "stream",
          "name": "stderr",
          "text": [
            "Epoch 137/250: 100%|██████████| 782/782 [00:19<00:00, 41.07it/s]\n"
          ]
        },
        {
          "output_type": "stream",
          "name": "stdout",
          "text": [
            "Checkpoint saved at /content/gdrive/My Drive/checkpoints/AsymmetricAutoencoderMinus1/checkpoint_epoch_137.pth\n"
          ]
        },
        {
          "output_type": "stream",
          "name": "stderr",
          "text": [
            "Epoch 138/250:  14%|█▎        | 106/782 [00:02<00:16, 41.66it/s]"
          ]
        },
        {
          "output_type": "stream",
          "name": "stdout",
          "text": [
            "[Epoch 138, Batch 100] loss: 0.074\n"
          ]
        },
        {
          "output_type": "stream",
          "name": "stderr",
          "text": [
            "Epoch 138/250:  26%|██▋       | 206/782 [00:05<00:13, 41.66it/s]"
          ]
        },
        {
          "output_type": "stream",
          "name": "stdout",
          "text": [
            "[Epoch 138, Batch 200] loss: 0.074\n"
          ]
        },
        {
          "output_type": "stream",
          "name": "stderr",
          "text": [
            "Epoch 138/250:  39%|███▉      | 306/782 [00:07<00:11, 41.24it/s]"
          ]
        },
        {
          "output_type": "stream",
          "name": "stdout",
          "text": [
            "[Epoch 138, Batch 300] loss: 0.074\n"
          ]
        },
        {
          "output_type": "stream",
          "name": "stderr",
          "text": [
            "Epoch 138/250:  52%|█████▏    | 406/782 [00:09<00:09, 41.00it/s]"
          ]
        },
        {
          "output_type": "stream",
          "name": "stdout",
          "text": [
            "[Epoch 138, Batch 400] loss: 0.074\n"
          ]
        },
        {
          "output_type": "stream",
          "name": "stderr",
          "text": [
            "Epoch 138/250:  65%|██████▍   | 506/782 [00:12<00:06, 40.72it/s]"
          ]
        },
        {
          "output_type": "stream",
          "name": "stdout",
          "text": [
            "[Epoch 138, Batch 500] loss: 0.074\n"
          ]
        },
        {
          "output_type": "stream",
          "name": "stderr",
          "text": [
            "Epoch 138/250:  77%|███████▋  | 606/782 [00:14<00:04, 41.44it/s]"
          ]
        },
        {
          "output_type": "stream",
          "name": "stdout",
          "text": [
            "[Epoch 138, Batch 600] loss: 0.074\n"
          ]
        },
        {
          "output_type": "stream",
          "name": "stderr",
          "text": [
            "Epoch 138/250:  90%|█████████ | 706/782 [00:17<00:01, 41.26it/s]"
          ]
        },
        {
          "output_type": "stream",
          "name": "stdout",
          "text": [
            "[Epoch 138, Batch 700] loss: 0.075\n"
          ]
        },
        {
          "output_type": "stream",
          "name": "stderr",
          "text": [
            "Epoch 138/250: 100%|██████████| 782/782 [00:19<00:00, 41.10it/s]\n"
          ]
        },
        {
          "output_type": "stream",
          "name": "stdout",
          "text": [
            "Checkpoint saved at /content/gdrive/My Drive/checkpoints/AsymmetricAutoencoderMinus1/checkpoint_epoch_138.pth\n"
          ]
        },
        {
          "output_type": "stream",
          "name": "stderr",
          "text": [
            "Epoch 139/250:  14%|█▎        | 106/782 [00:02<00:16, 41.38it/s]"
          ]
        },
        {
          "output_type": "stream",
          "name": "stdout",
          "text": [
            "[Epoch 139, Batch 100] loss: 0.074\n"
          ]
        },
        {
          "output_type": "stream",
          "name": "stderr",
          "text": [
            "Epoch 139/250:  26%|██▋       | 206/782 [00:05<00:13, 41.45it/s]"
          ]
        },
        {
          "output_type": "stream",
          "name": "stdout",
          "text": [
            "[Epoch 139, Batch 200] loss: 0.074\n"
          ]
        },
        {
          "output_type": "stream",
          "name": "stderr",
          "text": [
            "Epoch 139/250:  39%|███▉      | 306/782 [00:07<00:11, 41.37it/s]"
          ]
        },
        {
          "output_type": "stream",
          "name": "stdout",
          "text": [
            "[Epoch 139, Batch 300] loss: 0.075\n"
          ]
        },
        {
          "output_type": "stream",
          "name": "stderr",
          "text": [
            "Epoch 139/250:  52%|█████▏    | 406/782 [00:09<00:09, 41.46it/s]"
          ]
        },
        {
          "output_type": "stream",
          "name": "stdout",
          "text": [
            "[Epoch 139, Batch 400] loss: 0.074\n"
          ]
        },
        {
          "output_type": "stream",
          "name": "stderr",
          "text": [
            "Epoch 139/250:  65%|██████▍   | 506/782 [00:12<00:06, 40.22it/s]"
          ]
        },
        {
          "output_type": "stream",
          "name": "stdout",
          "text": [
            "[Epoch 139, Batch 500] loss: 0.074\n"
          ]
        },
        {
          "output_type": "stream",
          "name": "stderr",
          "text": [
            "Epoch 139/250:  77%|███████▋  | 606/782 [00:14<00:04, 41.01it/s]"
          ]
        },
        {
          "output_type": "stream",
          "name": "stdout",
          "text": [
            "[Epoch 139, Batch 600] loss: 0.074\n"
          ]
        },
        {
          "output_type": "stream",
          "name": "stderr",
          "text": [
            "Epoch 139/250:  90%|█████████ | 706/782 [00:17<00:01, 41.68it/s]"
          ]
        },
        {
          "output_type": "stream",
          "name": "stdout",
          "text": [
            "[Epoch 139, Batch 700] loss: 0.073\n"
          ]
        },
        {
          "output_type": "stream",
          "name": "stderr",
          "text": [
            "Epoch 139/250: 100%|██████████| 782/782 [00:19<00:00, 41.07it/s]\n"
          ]
        },
        {
          "output_type": "stream",
          "name": "stdout",
          "text": [
            "Checkpoint saved at /content/gdrive/My Drive/checkpoints/AsymmetricAutoencoderMinus1/checkpoint_epoch_139.pth\n"
          ]
        },
        {
          "output_type": "stream",
          "name": "stderr",
          "text": [
            "Epoch 140/250:  14%|█▎        | 106/782 [00:02<00:16, 41.43it/s]"
          ]
        },
        {
          "output_type": "stream",
          "name": "stdout",
          "text": [
            "[Epoch 140, Batch 100] loss: 0.073\n"
          ]
        },
        {
          "output_type": "stream",
          "name": "stderr",
          "text": [
            "Epoch 140/250:  26%|██▋       | 206/782 [00:05<00:13, 41.56it/s]"
          ]
        },
        {
          "output_type": "stream",
          "name": "stdout",
          "text": [
            "[Epoch 140, Batch 200] loss: 0.074\n"
          ]
        },
        {
          "output_type": "stream",
          "name": "stderr",
          "text": [
            "Epoch 140/250:  39%|███▉      | 306/782 [00:07<00:11, 41.23it/s]"
          ]
        },
        {
          "output_type": "stream",
          "name": "stdout",
          "text": [
            "[Epoch 140, Batch 300] loss: 0.074\n"
          ]
        },
        {
          "output_type": "stream",
          "name": "stderr",
          "text": [
            "Epoch 140/250:  52%|█████▏    | 406/782 [00:09<00:09, 41.17it/s]"
          ]
        },
        {
          "output_type": "stream",
          "name": "stdout",
          "text": [
            "[Epoch 140, Batch 400] loss: 0.074\n"
          ]
        },
        {
          "output_type": "stream",
          "name": "stderr",
          "text": [
            "Epoch 140/250:  65%|██████▍   | 506/782 [00:12<00:06, 41.01it/s]"
          ]
        },
        {
          "output_type": "stream",
          "name": "stdout",
          "text": [
            "[Epoch 140, Batch 500] loss: 0.074\n"
          ]
        },
        {
          "output_type": "stream",
          "name": "stderr",
          "text": [
            "Epoch 140/250:  77%|███████▋  | 606/782 [00:14<00:04, 41.66it/s]"
          ]
        },
        {
          "output_type": "stream",
          "name": "stdout",
          "text": [
            "[Epoch 140, Batch 600] loss: 0.073\n"
          ]
        },
        {
          "output_type": "stream",
          "name": "stderr",
          "text": [
            "Epoch 140/250:  90%|█████████ | 706/782 [00:17<00:01, 41.09it/s]"
          ]
        },
        {
          "output_type": "stream",
          "name": "stdout",
          "text": [
            "[Epoch 140, Batch 700] loss: 0.075\n"
          ]
        },
        {
          "output_type": "stream",
          "name": "stderr",
          "text": [
            "Epoch 140/250: 100%|██████████| 782/782 [00:19<00:00, 40.99it/s]\n"
          ]
        },
        {
          "output_type": "stream",
          "name": "stdout",
          "text": [
            "Checkpoint saved at /content/gdrive/My Drive/checkpoints/AsymmetricAutoencoderMinus1/checkpoint_epoch_140.pth\n",
            "Validation Loss after epoch 140: 0.0742\n"
          ]
        },
        {
          "output_type": "stream",
          "name": "stderr",
          "text": [
            "Epoch 141/250:  14%|█▎        | 106/782 [00:02<00:16, 41.63it/s]"
          ]
        },
        {
          "output_type": "stream",
          "name": "stdout",
          "text": [
            "[Epoch 141, Batch 100] loss: 0.074\n"
          ]
        },
        {
          "output_type": "stream",
          "name": "stderr",
          "text": [
            "Epoch 141/250:  26%|██▋       | 206/782 [00:05<00:13, 41.31it/s]"
          ]
        },
        {
          "output_type": "stream",
          "name": "stdout",
          "text": [
            "[Epoch 141, Batch 200] loss: 0.074\n"
          ]
        },
        {
          "output_type": "stream",
          "name": "stderr",
          "text": [
            "Epoch 141/250:  39%|███▉      | 306/782 [00:07<00:11, 41.29it/s]"
          ]
        },
        {
          "output_type": "stream",
          "name": "stdout",
          "text": [
            "[Epoch 141, Batch 300] loss: 0.073\n"
          ]
        },
        {
          "output_type": "stream",
          "name": "stderr",
          "text": [
            "Epoch 141/250:  52%|█████▏    | 406/782 [00:09<00:09, 40.99it/s]"
          ]
        },
        {
          "output_type": "stream",
          "name": "stdout",
          "text": [
            "[Epoch 141, Batch 400] loss: 0.074\n"
          ]
        },
        {
          "output_type": "stream",
          "name": "stderr",
          "text": [
            "Epoch 141/250:  65%|██████▍   | 506/782 [00:12<00:06, 41.11it/s]"
          ]
        },
        {
          "output_type": "stream",
          "name": "stdout",
          "text": [
            "[Epoch 141, Batch 500] loss: 0.073\n"
          ]
        },
        {
          "output_type": "stream",
          "name": "stderr",
          "text": [
            "Epoch 141/250:  77%|███████▋  | 606/782 [00:14<00:04, 41.78it/s]"
          ]
        },
        {
          "output_type": "stream",
          "name": "stdout",
          "text": [
            "[Epoch 141, Batch 600] loss: 0.075\n"
          ]
        },
        {
          "output_type": "stream",
          "name": "stderr",
          "text": [
            "Epoch 141/250:  90%|█████████ | 706/782 [00:17<00:01, 41.67it/s]"
          ]
        },
        {
          "output_type": "stream",
          "name": "stdout",
          "text": [
            "[Epoch 141, Batch 700] loss: 0.073\n"
          ]
        },
        {
          "output_type": "stream",
          "name": "stderr",
          "text": [
            "Epoch 141/250: 100%|██████████| 782/782 [00:19<00:00, 41.09it/s]\n"
          ]
        },
        {
          "output_type": "stream",
          "name": "stdout",
          "text": [
            "Checkpoint saved at /content/gdrive/My Drive/checkpoints/AsymmetricAutoencoderMinus1/checkpoint_epoch_141.pth\n"
          ]
        },
        {
          "output_type": "stream",
          "name": "stderr",
          "text": [
            "Epoch 142/250:  14%|█▎        | 106/782 [00:02<00:16, 41.51it/s]"
          ]
        },
        {
          "output_type": "stream",
          "name": "stdout",
          "text": [
            "[Epoch 142, Batch 100] loss: 0.074\n"
          ]
        },
        {
          "output_type": "stream",
          "name": "stderr",
          "text": [
            "Epoch 142/250:  26%|██▋       | 206/782 [00:05<00:13, 41.61it/s]"
          ]
        },
        {
          "output_type": "stream",
          "name": "stdout",
          "text": [
            "[Epoch 142, Batch 200] loss: 0.074\n"
          ]
        },
        {
          "output_type": "stream",
          "name": "stderr",
          "text": [
            "Epoch 142/250:  39%|███▉      | 306/782 [00:07<00:11, 41.29it/s]"
          ]
        },
        {
          "output_type": "stream",
          "name": "stdout",
          "text": [
            "[Epoch 142, Batch 300] loss: 0.074\n"
          ]
        },
        {
          "output_type": "stream",
          "name": "stderr",
          "text": [
            "Epoch 142/250:  52%|█████▏    | 406/782 [00:09<00:09, 41.20it/s]"
          ]
        },
        {
          "output_type": "stream",
          "name": "stdout",
          "text": [
            "[Epoch 142, Batch 400] loss: 0.073\n"
          ]
        },
        {
          "output_type": "stream",
          "name": "stderr",
          "text": [
            "Epoch 142/250:  65%|██████▍   | 506/782 [00:12<00:06, 41.20it/s]"
          ]
        },
        {
          "output_type": "stream",
          "name": "stdout",
          "text": [
            "[Epoch 142, Batch 500] loss: 0.074\n"
          ]
        },
        {
          "output_type": "stream",
          "name": "stderr",
          "text": [
            "Epoch 142/250:  77%|███████▋  | 606/782 [00:14<00:04, 41.15it/s]"
          ]
        },
        {
          "output_type": "stream",
          "name": "stdout",
          "text": [
            "[Epoch 142, Batch 600] loss: 0.073\n"
          ]
        },
        {
          "output_type": "stream",
          "name": "stderr",
          "text": [
            "Epoch 142/250:  90%|█████████ | 706/782 [00:17<00:01, 41.09it/s]"
          ]
        },
        {
          "output_type": "stream",
          "name": "stdout",
          "text": [
            "[Epoch 142, Batch 700] loss: 0.074\n"
          ]
        },
        {
          "output_type": "stream",
          "name": "stderr",
          "text": [
            "Epoch 142/250: 100%|██████████| 782/782 [00:19<00:00, 41.04it/s]\n"
          ]
        },
        {
          "output_type": "stream",
          "name": "stdout",
          "text": [
            "Checkpoint saved at /content/gdrive/My Drive/checkpoints/AsymmetricAutoencoderMinus1/checkpoint_epoch_142.pth\n"
          ]
        },
        {
          "output_type": "stream",
          "name": "stderr",
          "text": [
            "Epoch 143/250:  14%|█▎        | 106/782 [00:02<00:16, 41.21it/s]"
          ]
        },
        {
          "output_type": "stream",
          "name": "stdout",
          "text": [
            "[Epoch 143, Batch 100] loss: 0.074\n"
          ]
        },
        {
          "output_type": "stream",
          "name": "stderr",
          "text": [
            "Epoch 143/250:  26%|██▋       | 206/782 [00:05<00:14, 40.97it/s]"
          ]
        },
        {
          "output_type": "stream",
          "name": "stdout",
          "text": [
            "[Epoch 143, Batch 200] loss: 0.074\n"
          ]
        },
        {
          "output_type": "stream",
          "name": "stderr",
          "text": [
            "Epoch 143/250:  39%|███▉      | 306/782 [00:07<00:11, 41.37it/s]"
          ]
        },
        {
          "output_type": "stream",
          "name": "stdout",
          "text": [
            "[Epoch 143, Batch 300] loss: 0.074\n"
          ]
        },
        {
          "output_type": "stream",
          "name": "stderr",
          "text": [
            "Epoch 143/250:  52%|█████▏    | 406/782 [00:09<00:09, 40.75it/s]"
          ]
        },
        {
          "output_type": "stream",
          "name": "stdout",
          "text": [
            "[Epoch 143, Batch 400] loss: 0.074\n"
          ]
        },
        {
          "output_type": "stream",
          "name": "stderr",
          "text": [
            "Epoch 143/250:  65%|██████▍   | 506/782 [00:12<00:06, 41.02it/s]"
          ]
        },
        {
          "output_type": "stream",
          "name": "stdout",
          "text": [
            "[Epoch 143, Batch 500] loss: 0.075\n"
          ]
        },
        {
          "output_type": "stream",
          "name": "stderr",
          "text": [
            "Epoch 143/250:  77%|███████▋  | 606/782 [00:14<00:04, 41.33it/s]"
          ]
        },
        {
          "output_type": "stream",
          "name": "stdout",
          "text": [
            "[Epoch 143, Batch 600] loss: 0.073\n"
          ]
        },
        {
          "output_type": "stream",
          "name": "stderr",
          "text": [
            "Epoch 143/250:  90%|█████████ | 706/782 [00:17<00:01, 41.69it/s]"
          ]
        },
        {
          "output_type": "stream",
          "name": "stdout",
          "text": [
            "[Epoch 143, Batch 700] loss: 0.073\n"
          ]
        },
        {
          "output_type": "stream",
          "name": "stderr",
          "text": [
            "Epoch 143/250: 100%|██████████| 782/782 [00:19<00:00, 41.00it/s]\n"
          ]
        },
        {
          "output_type": "stream",
          "name": "stdout",
          "text": [
            "Checkpoint saved at /content/gdrive/My Drive/checkpoints/AsymmetricAutoencoderMinus1/checkpoint_epoch_143.pth\n"
          ]
        },
        {
          "output_type": "stream",
          "name": "stderr",
          "text": [
            "Epoch 144/250:  14%|█▎        | 106/782 [00:02<00:16, 41.81it/s]"
          ]
        },
        {
          "output_type": "stream",
          "name": "stdout",
          "text": [
            "[Epoch 144, Batch 100] loss: 0.074\n"
          ]
        },
        {
          "output_type": "stream",
          "name": "stderr",
          "text": [
            "Epoch 144/250:  26%|██▋       | 206/782 [00:05<00:13, 41.28it/s]"
          ]
        },
        {
          "output_type": "stream",
          "name": "stdout",
          "text": [
            "[Epoch 144, Batch 200] loss: 0.074\n"
          ]
        },
        {
          "output_type": "stream",
          "name": "stderr",
          "text": [
            "Epoch 144/250:  39%|███▉      | 306/782 [00:07<00:11, 41.17it/s]"
          ]
        },
        {
          "output_type": "stream",
          "name": "stdout",
          "text": [
            "[Epoch 144, Batch 300] loss: 0.075\n"
          ]
        },
        {
          "output_type": "stream",
          "name": "stderr",
          "text": [
            "Epoch 144/250:  52%|█████▏    | 406/782 [00:09<00:09, 41.41it/s]"
          ]
        },
        {
          "output_type": "stream",
          "name": "stdout",
          "text": [
            "[Epoch 144, Batch 400] loss: 0.074\n"
          ]
        },
        {
          "output_type": "stream",
          "name": "stderr",
          "text": [
            "Epoch 144/250:  65%|██████▍   | 506/782 [00:12<00:06, 40.69it/s]"
          ]
        },
        {
          "output_type": "stream",
          "name": "stdout",
          "text": [
            "[Epoch 144, Batch 500] loss: 0.074\n"
          ]
        },
        {
          "output_type": "stream",
          "name": "stderr",
          "text": [
            "Epoch 144/250:  77%|███████▋  | 606/782 [00:14<00:04, 41.23it/s]"
          ]
        },
        {
          "output_type": "stream",
          "name": "stdout",
          "text": [
            "[Epoch 144, Batch 600] loss: 0.073\n"
          ]
        },
        {
          "output_type": "stream",
          "name": "stderr",
          "text": [
            "Epoch 144/250:  90%|█████████ | 706/782 [00:17<00:01, 41.39it/s]"
          ]
        },
        {
          "output_type": "stream",
          "name": "stdout",
          "text": [
            "[Epoch 144, Batch 700] loss: 0.073\n"
          ]
        },
        {
          "output_type": "stream",
          "name": "stderr",
          "text": [
            "Epoch 144/250: 100%|██████████| 782/782 [00:19<00:00, 40.91it/s]\n"
          ]
        },
        {
          "output_type": "stream",
          "name": "stdout",
          "text": [
            "Checkpoint saved at /content/gdrive/My Drive/checkpoints/AsymmetricAutoencoderMinus1/checkpoint_epoch_144.pth\n"
          ]
        },
        {
          "output_type": "stream",
          "name": "stderr",
          "text": [
            "Epoch 145/250:  14%|█▎        | 106/782 [00:02<00:16, 41.20it/s]"
          ]
        },
        {
          "output_type": "stream",
          "name": "stdout",
          "text": [
            "[Epoch 145, Batch 100] loss: 0.073\n"
          ]
        },
        {
          "output_type": "stream",
          "name": "stderr",
          "text": [
            "Epoch 145/250:  26%|██▋       | 206/782 [00:05<00:13, 41.17it/s]"
          ]
        },
        {
          "output_type": "stream",
          "name": "stdout",
          "text": [
            "[Epoch 145, Batch 200] loss: 0.074\n"
          ]
        },
        {
          "output_type": "stream",
          "name": "stderr",
          "text": [
            "Epoch 145/250:  39%|███▉      | 306/782 [00:07<00:11, 41.44it/s]"
          ]
        },
        {
          "output_type": "stream",
          "name": "stdout",
          "text": [
            "[Epoch 145, Batch 300] loss: 0.073\n"
          ]
        },
        {
          "output_type": "stream",
          "name": "stderr",
          "text": [
            "Epoch 145/250:  52%|█████▏    | 406/782 [00:09<00:09, 40.79it/s]"
          ]
        },
        {
          "output_type": "stream",
          "name": "stdout",
          "text": [
            "[Epoch 145, Batch 400] loss: 0.075\n"
          ]
        },
        {
          "output_type": "stream",
          "name": "stderr",
          "text": [
            "Epoch 145/250:  65%|██████▍   | 506/782 [00:12<00:06, 41.12it/s]"
          ]
        },
        {
          "output_type": "stream",
          "name": "stdout",
          "text": [
            "[Epoch 145, Batch 500] loss: 0.073\n"
          ]
        },
        {
          "output_type": "stream",
          "name": "stderr",
          "text": [
            "Epoch 145/250:  77%|███████▋  | 606/782 [00:14<00:04, 41.42it/s]"
          ]
        },
        {
          "output_type": "stream",
          "name": "stdout",
          "text": [
            "[Epoch 145, Batch 600] loss: 0.074\n"
          ]
        },
        {
          "output_type": "stream",
          "name": "stderr",
          "text": [
            "Epoch 145/250:  90%|█████████ | 706/782 [00:17<00:01, 41.43it/s]"
          ]
        },
        {
          "output_type": "stream",
          "name": "stdout",
          "text": [
            "[Epoch 145, Batch 700] loss: 0.074\n"
          ]
        },
        {
          "output_type": "stream",
          "name": "stderr",
          "text": [
            "Epoch 145/250: 100%|██████████| 782/782 [00:19<00:00, 40.98it/s]\n"
          ]
        },
        {
          "output_type": "stream",
          "name": "stdout",
          "text": [
            "Checkpoint saved at /content/gdrive/My Drive/checkpoints/AsymmetricAutoencoderMinus1/checkpoint_epoch_145.pth\n"
          ]
        },
        {
          "output_type": "stream",
          "name": "stderr",
          "text": [
            "Epoch 146/250:  14%|█▎        | 106/782 [00:02<00:16, 41.56it/s]"
          ]
        },
        {
          "output_type": "stream",
          "name": "stdout",
          "text": [
            "[Epoch 146, Batch 100] loss: 0.074\n"
          ]
        },
        {
          "output_type": "stream",
          "name": "stderr",
          "text": [
            "Epoch 146/250:  26%|██▋       | 206/782 [00:05<00:13, 41.48it/s]"
          ]
        },
        {
          "output_type": "stream",
          "name": "stdout",
          "text": [
            "[Epoch 146, Batch 200] loss: 0.074\n"
          ]
        },
        {
          "output_type": "stream",
          "name": "stderr",
          "text": [
            "Epoch 146/250:  39%|███▉      | 306/782 [00:07<00:11, 41.18it/s]"
          ]
        },
        {
          "output_type": "stream",
          "name": "stdout",
          "text": [
            "[Epoch 146, Batch 300] loss: 0.074\n"
          ]
        },
        {
          "output_type": "stream",
          "name": "stderr",
          "text": [
            "Epoch 146/250:  52%|█████▏    | 406/782 [00:09<00:09, 41.30it/s]"
          ]
        },
        {
          "output_type": "stream",
          "name": "stdout",
          "text": [
            "[Epoch 146, Batch 400] loss: 0.074\n"
          ]
        },
        {
          "output_type": "stream",
          "name": "stderr",
          "text": [
            "Epoch 146/250:  65%|██████▍   | 506/782 [00:12<00:06, 41.00it/s]"
          ]
        },
        {
          "output_type": "stream",
          "name": "stdout",
          "text": [
            "[Epoch 146, Batch 500] loss: 0.074\n"
          ]
        },
        {
          "output_type": "stream",
          "name": "stderr",
          "text": [
            "Epoch 146/250:  77%|███████▋  | 606/782 [00:14<00:04, 41.16it/s]"
          ]
        },
        {
          "output_type": "stream",
          "name": "stdout",
          "text": [
            "[Epoch 146, Batch 600] loss: 0.074\n"
          ]
        },
        {
          "output_type": "stream",
          "name": "stderr",
          "text": [
            "Epoch 146/250:  90%|█████████ | 706/782 [00:17<00:01, 41.22it/s]"
          ]
        },
        {
          "output_type": "stream",
          "name": "stdout",
          "text": [
            "[Epoch 146, Batch 700] loss: 0.074\n"
          ]
        },
        {
          "output_type": "stream",
          "name": "stderr",
          "text": [
            "Epoch 146/250: 100%|██████████| 782/782 [00:19<00:00, 41.04it/s]\n"
          ]
        },
        {
          "output_type": "stream",
          "name": "stdout",
          "text": [
            "Checkpoint saved at /content/gdrive/My Drive/checkpoints/AsymmetricAutoencoderMinus1/checkpoint_epoch_146.pth\n"
          ]
        },
        {
          "output_type": "stream",
          "name": "stderr",
          "text": [
            "Epoch 147/250:  14%|█▎        | 106/782 [00:02<00:16, 40.99it/s]"
          ]
        },
        {
          "output_type": "stream",
          "name": "stdout",
          "text": [
            "[Epoch 147, Batch 100] loss: 0.074\n"
          ]
        },
        {
          "output_type": "stream",
          "name": "stderr",
          "text": [
            "Epoch 147/250:  26%|██▋       | 206/782 [00:05<00:14, 41.10it/s]"
          ]
        },
        {
          "output_type": "stream",
          "name": "stdout",
          "text": [
            "[Epoch 147, Batch 200] loss: 0.074\n"
          ]
        },
        {
          "output_type": "stream",
          "name": "stderr",
          "text": [
            "Epoch 147/250:  39%|███▉      | 306/782 [00:07<00:11, 41.15it/s]"
          ]
        },
        {
          "output_type": "stream",
          "name": "stdout",
          "text": [
            "[Epoch 147, Batch 300] loss: 0.074\n"
          ]
        },
        {
          "output_type": "stream",
          "name": "stderr",
          "text": [
            "Epoch 147/250:  52%|█████▏    | 406/782 [00:09<00:09, 41.42it/s]"
          ]
        },
        {
          "output_type": "stream",
          "name": "stdout",
          "text": [
            "[Epoch 147, Batch 400] loss: 0.074\n"
          ]
        },
        {
          "output_type": "stream",
          "name": "stderr",
          "text": [
            "Epoch 147/250:  65%|██████▍   | 506/782 [00:12<00:06, 40.35it/s]"
          ]
        },
        {
          "output_type": "stream",
          "name": "stdout",
          "text": [
            "[Epoch 147, Batch 500] loss: 0.074\n"
          ]
        },
        {
          "output_type": "stream",
          "name": "stderr",
          "text": [
            "Epoch 147/250:  77%|███████▋  | 606/782 [00:14<00:04, 41.36it/s]"
          ]
        },
        {
          "output_type": "stream",
          "name": "stdout",
          "text": [
            "[Epoch 147, Batch 600] loss: 0.074\n"
          ]
        },
        {
          "output_type": "stream",
          "name": "stderr",
          "text": [
            "Epoch 147/250:  90%|█████████ | 706/782 [00:17<00:01, 41.35it/s]"
          ]
        },
        {
          "output_type": "stream",
          "name": "stdout",
          "text": [
            "[Epoch 147, Batch 700] loss: 0.073\n"
          ]
        },
        {
          "output_type": "stream",
          "name": "stderr",
          "text": [
            "Epoch 147/250: 100%|██████████| 782/782 [00:19<00:00, 40.93it/s]\n"
          ]
        },
        {
          "output_type": "stream",
          "name": "stdout",
          "text": [
            "Checkpoint saved at /content/gdrive/My Drive/checkpoints/AsymmetricAutoencoderMinus1/checkpoint_epoch_147.pth\n"
          ]
        },
        {
          "output_type": "stream",
          "name": "stderr",
          "text": [
            "Epoch 148/250:  14%|█▎        | 106/782 [00:02<00:16, 41.74it/s]"
          ]
        },
        {
          "output_type": "stream",
          "name": "stdout",
          "text": [
            "[Epoch 148, Batch 100] loss: 0.074\n"
          ]
        },
        {
          "output_type": "stream",
          "name": "stderr",
          "text": [
            "Epoch 148/250:  26%|██▋       | 206/782 [00:05<00:13, 41.63it/s]"
          ]
        },
        {
          "output_type": "stream",
          "name": "stdout",
          "text": [
            "[Epoch 148, Batch 200] loss: 0.073\n"
          ]
        },
        {
          "output_type": "stream",
          "name": "stderr",
          "text": [
            "Epoch 148/250:  39%|███▉      | 306/782 [00:07<00:11, 40.69it/s]"
          ]
        },
        {
          "output_type": "stream",
          "name": "stdout",
          "text": [
            "[Epoch 148, Batch 300] loss: 0.074\n"
          ]
        },
        {
          "output_type": "stream",
          "name": "stderr",
          "text": [
            "Epoch 148/250:  52%|█████▏    | 406/782 [00:09<00:09, 41.37it/s]"
          ]
        },
        {
          "output_type": "stream",
          "name": "stdout",
          "text": [
            "[Epoch 148, Batch 400] loss: 0.074\n"
          ]
        },
        {
          "output_type": "stream",
          "name": "stderr",
          "text": [
            "Epoch 148/250:  65%|██████▍   | 506/782 [00:12<00:06, 41.01it/s]"
          ]
        },
        {
          "output_type": "stream",
          "name": "stdout",
          "text": [
            "[Epoch 148, Batch 500] loss: 0.073\n"
          ]
        },
        {
          "output_type": "stream",
          "name": "stderr",
          "text": [
            "Epoch 148/250:  77%|███████▋  | 606/782 [00:14<00:04, 41.06it/s]"
          ]
        },
        {
          "output_type": "stream",
          "name": "stdout",
          "text": [
            "[Epoch 148, Batch 600] loss: 0.075\n"
          ]
        },
        {
          "output_type": "stream",
          "name": "stderr",
          "text": [
            "Epoch 148/250:  90%|█████████ | 706/782 [00:17<00:01, 41.45it/s]"
          ]
        },
        {
          "output_type": "stream",
          "name": "stdout",
          "text": [
            "[Epoch 148, Batch 700] loss: 0.073\n"
          ]
        },
        {
          "output_type": "stream",
          "name": "stderr",
          "text": [
            "Epoch 148/250: 100%|██████████| 782/782 [00:19<00:00, 40.99it/s]\n"
          ]
        },
        {
          "output_type": "stream",
          "name": "stdout",
          "text": [
            "Checkpoint saved at /content/gdrive/My Drive/checkpoints/AsymmetricAutoencoderMinus1/checkpoint_epoch_148.pth\n"
          ]
        },
        {
          "output_type": "stream",
          "name": "stderr",
          "text": [
            "Epoch 149/250:  14%|█▎        | 106/782 [00:02<00:16, 41.36it/s]"
          ]
        },
        {
          "output_type": "stream",
          "name": "stdout",
          "text": [
            "[Epoch 149, Batch 100] loss: 0.074\n"
          ]
        },
        {
          "output_type": "stream",
          "name": "stderr",
          "text": [
            "Epoch 149/250:  26%|██▋       | 206/782 [00:05<00:13, 41.42it/s]"
          ]
        },
        {
          "output_type": "stream",
          "name": "stdout",
          "text": [
            "[Epoch 149, Batch 200] loss: 0.074\n"
          ]
        },
        {
          "output_type": "stream",
          "name": "stderr",
          "text": [
            "Epoch 149/250:  39%|███▉      | 306/782 [00:07<00:11, 41.44it/s]"
          ]
        },
        {
          "output_type": "stream",
          "name": "stdout",
          "text": [
            "[Epoch 149, Batch 300] loss: 0.074\n"
          ]
        },
        {
          "output_type": "stream",
          "name": "stderr",
          "text": [
            "Epoch 149/250:  52%|█████▏    | 406/782 [00:09<00:09, 40.80it/s]"
          ]
        },
        {
          "output_type": "stream",
          "name": "stdout",
          "text": [
            "[Epoch 149, Batch 400] loss: 0.073\n"
          ]
        },
        {
          "output_type": "stream",
          "name": "stderr",
          "text": [
            "Epoch 149/250:  65%|██████▍   | 506/782 [00:12<00:06, 40.34it/s]"
          ]
        },
        {
          "output_type": "stream",
          "name": "stdout",
          "text": [
            "[Epoch 149, Batch 500] loss: 0.074\n"
          ]
        },
        {
          "output_type": "stream",
          "name": "stderr",
          "text": [
            "Epoch 149/250:  77%|███████▋  | 606/782 [00:14<00:04, 41.40it/s]"
          ]
        },
        {
          "output_type": "stream",
          "name": "stdout",
          "text": [
            "[Epoch 149, Batch 600] loss: 0.074\n"
          ]
        },
        {
          "output_type": "stream",
          "name": "stderr",
          "text": [
            "Epoch 149/250:  90%|█████████ | 706/782 [00:17<00:01, 41.66it/s]"
          ]
        },
        {
          "output_type": "stream",
          "name": "stdout",
          "text": [
            "[Epoch 149, Batch 700] loss: 0.073\n"
          ]
        },
        {
          "output_type": "stream",
          "name": "stderr",
          "text": [
            "Epoch 149/250: 100%|██████████| 782/782 [00:19<00:00, 41.02it/s]\n"
          ]
        },
        {
          "output_type": "stream",
          "name": "stdout",
          "text": [
            "Checkpoint saved at /content/gdrive/My Drive/checkpoints/AsymmetricAutoencoderMinus1/checkpoint_epoch_149.pth\n"
          ]
        },
        {
          "output_type": "stream",
          "name": "stderr",
          "text": [
            "Epoch 150/250:  14%|█▎        | 106/782 [00:02<00:16, 41.52it/s]"
          ]
        },
        {
          "output_type": "stream",
          "name": "stdout",
          "text": [
            "[Epoch 150, Batch 100] loss: 0.073\n"
          ]
        },
        {
          "output_type": "stream",
          "name": "stderr",
          "text": [
            "Epoch 150/250:  26%|██▋       | 206/782 [00:05<00:13, 41.22it/s]"
          ]
        },
        {
          "output_type": "stream",
          "name": "stdout",
          "text": [
            "[Epoch 150, Batch 200] loss: 0.075\n"
          ]
        },
        {
          "output_type": "stream",
          "name": "stderr",
          "text": [
            "Epoch 150/250:  39%|███▉      | 306/782 [00:07<00:11, 41.18it/s]"
          ]
        },
        {
          "output_type": "stream",
          "name": "stdout",
          "text": [
            "[Epoch 150, Batch 300] loss: 0.074\n"
          ]
        },
        {
          "output_type": "stream",
          "name": "stderr",
          "text": [
            "Epoch 150/250:  52%|█████▏    | 406/782 [00:09<00:09, 41.40it/s]"
          ]
        },
        {
          "output_type": "stream",
          "name": "stdout",
          "text": [
            "[Epoch 150, Batch 400] loss: 0.075\n"
          ]
        },
        {
          "output_type": "stream",
          "name": "stderr",
          "text": [
            "Epoch 150/250:  65%|██████▍   | 506/782 [00:12<00:06, 41.07it/s]"
          ]
        },
        {
          "output_type": "stream",
          "name": "stdout",
          "text": [
            "[Epoch 150, Batch 500] loss: 0.074\n"
          ]
        },
        {
          "output_type": "stream",
          "name": "stderr",
          "text": [
            "Epoch 150/250:  77%|███████▋  | 606/782 [00:14<00:04, 41.00it/s]"
          ]
        },
        {
          "output_type": "stream",
          "name": "stdout",
          "text": [
            "[Epoch 150, Batch 600] loss: 0.074\n"
          ]
        },
        {
          "output_type": "stream",
          "name": "stderr",
          "text": [
            "Epoch 150/250:  90%|█████████ | 706/782 [00:17<00:01, 41.22it/s]"
          ]
        },
        {
          "output_type": "stream",
          "name": "stdout",
          "text": [
            "[Epoch 150, Batch 700] loss: 0.073\n"
          ]
        },
        {
          "output_type": "stream",
          "name": "stderr",
          "text": [
            "Epoch 150/250: 100%|██████████| 782/782 [00:19<00:00, 41.05it/s]\n"
          ]
        },
        {
          "output_type": "stream",
          "name": "stdout",
          "text": [
            "Checkpoint saved at /content/gdrive/My Drive/checkpoints/AsymmetricAutoencoderMinus1/checkpoint_epoch_150.pth\n",
            "Validation Loss after epoch 150: 0.0742\n"
          ]
        },
        {
          "output_type": "stream",
          "name": "stderr",
          "text": [
            "Epoch 151/250:  14%|█▎        | 106/782 [00:02<00:16, 41.24it/s]"
          ]
        },
        {
          "output_type": "stream",
          "name": "stdout",
          "text": [
            "[Epoch 151, Batch 100] loss: 0.074\n"
          ]
        },
        {
          "output_type": "stream",
          "name": "stderr",
          "text": [
            "Epoch 151/250:  26%|██▋       | 206/782 [00:05<00:13, 41.58it/s]"
          ]
        },
        {
          "output_type": "stream",
          "name": "stdout",
          "text": [
            "[Epoch 151, Batch 200] loss: 0.074\n"
          ]
        },
        {
          "output_type": "stream",
          "name": "stderr",
          "text": [
            "Epoch 151/250:  39%|███▉      | 306/782 [00:07<00:11, 41.34it/s]"
          ]
        },
        {
          "output_type": "stream",
          "name": "stdout",
          "text": [
            "[Epoch 151, Batch 300] loss: 0.074\n"
          ]
        },
        {
          "output_type": "stream",
          "name": "stderr",
          "text": [
            "Epoch 151/250:  52%|█████▏    | 406/782 [00:09<00:09, 40.60it/s]"
          ]
        },
        {
          "output_type": "stream",
          "name": "stdout",
          "text": [
            "[Epoch 151, Batch 400] loss: 0.074\n"
          ]
        },
        {
          "output_type": "stream",
          "name": "stderr",
          "text": [
            "Epoch 151/250:  65%|██████▍   | 506/782 [00:12<00:06, 41.81it/s]"
          ]
        },
        {
          "output_type": "stream",
          "name": "stdout",
          "text": [
            "[Epoch 151, Batch 500] loss: 0.074\n"
          ]
        },
        {
          "output_type": "stream",
          "name": "stderr",
          "text": [
            "Epoch 151/250:  77%|███████▋  | 606/782 [00:14<00:04, 41.47it/s]"
          ]
        },
        {
          "output_type": "stream",
          "name": "stdout",
          "text": [
            "[Epoch 151, Batch 600] loss: 0.074\n"
          ]
        },
        {
          "output_type": "stream",
          "name": "stderr",
          "text": [
            "Epoch 151/250:  90%|█████████ | 706/782 [00:17<00:01, 41.15it/s]"
          ]
        },
        {
          "output_type": "stream",
          "name": "stdout",
          "text": [
            "[Epoch 151, Batch 700] loss: 0.073\n"
          ]
        },
        {
          "output_type": "stream",
          "name": "stderr",
          "text": [
            "Epoch 151/250: 100%|██████████| 782/782 [00:19<00:00, 41.00it/s]\n"
          ]
        },
        {
          "output_type": "stream",
          "name": "stdout",
          "text": [
            "Checkpoint saved at /content/gdrive/My Drive/checkpoints/AsymmetricAutoencoderMinus1/checkpoint_epoch_151.pth\n"
          ]
        },
        {
          "output_type": "stream",
          "name": "stderr",
          "text": [
            "Epoch 152/250:  14%|█▎        | 106/782 [00:02<00:16, 41.63it/s]"
          ]
        },
        {
          "output_type": "stream",
          "name": "stdout",
          "text": [
            "[Epoch 152, Batch 100] loss: 0.074\n"
          ]
        },
        {
          "output_type": "stream",
          "name": "stderr",
          "text": [
            "Epoch 152/250:  26%|██▋       | 206/782 [00:05<00:13, 41.15it/s]"
          ]
        },
        {
          "output_type": "stream",
          "name": "stdout",
          "text": [
            "[Epoch 152, Batch 200] loss: 0.074\n"
          ]
        },
        {
          "output_type": "stream",
          "name": "stderr",
          "text": [
            "Epoch 152/250:  39%|███▉      | 306/782 [00:07<00:11, 41.44it/s]"
          ]
        },
        {
          "output_type": "stream",
          "name": "stdout",
          "text": [
            "[Epoch 152, Batch 300] loss: 0.074\n"
          ]
        },
        {
          "output_type": "stream",
          "name": "stderr",
          "text": [
            "Epoch 152/250:  52%|█████▏    | 406/782 [00:09<00:09, 41.34it/s]"
          ]
        },
        {
          "output_type": "stream",
          "name": "stdout",
          "text": [
            "[Epoch 152, Batch 400] loss: 0.074\n"
          ]
        },
        {
          "output_type": "stream",
          "name": "stderr",
          "text": [
            "Epoch 152/250:  65%|██████▍   | 506/782 [00:12<00:06, 40.29it/s]"
          ]
        },
        {
          "output_type": "stream",
          "name": "stdout",
          "text": [
            "[Epoch 152, Batch 500] loss: 0.073\n"
          ]
        },
        {
          "output_type": "stream",
          "name": "stderr",
          "text": [
            "Epoch 152/250:  77%|███████▋  | 606/782 [00:14<00:04, 41.05it/s]"
          ]
        },
        {
          "output_type": "stream",
          "name": "stdout",
          "text": [
            "[Epoch 152, Batch 600] loss: 0.074\n"
          ]
        },
        {
          "output_type": "stream",
          "name": "stderr",
          "text": [
            "Epoch 152/250:  90%|█████████ | 706/782 [00:17<00:01, 41.52it/s]"
          ]
        },
        {
          "output_type": "stream",
          "name": "stdout",
          "text": [
            "[Epoch 152, Batch 700] loss: 0.074\n"
          ]
        },
        {
          "output_type": "stream",
          "name": "stderr",
          "text": [
            "Epoch 152/250: 100%|██████████| 782/782 [00:19<00:00, 41.06it/s]\n"
          ]
        },
        {
          "output_type": "stream",
          "name": "stdout",
          "text": [
            "Checkpoint saved at /content/gdrive/My Drive/checkpoints/AsymmetricAutoencoderMinus1/checkpoint_epoch_152.pth\n"
          ]
        },
        {
          "output_type": "stream",
          "name": "stderr",
          "text": [
            "Epoch 153/250:  14%|█▎        | 106/782 [00:02<00:16, 41.06it/s]"
          ]
        },
        {
          "output_type": "stream",
          "name": "stdout",
          "text": [
            "[Epoch 153, Batch 100] loss: 0.074\n"
          ]
        },
        {
          "output_type": "stream",
          "name": "stderr",
          "text": [
            "Epoch 153/250:  26%|██▋       | 206/782 [00:05<00:14, 41.13it/s]"
          ]
        },
        {
          "output_type": "stream",
          "name": "stdout",
          "text": [
            "[Epoch 153, Batch 200] loss: 0.074\n"
          ]
        },
        {
          "output_type": "stream",
          "name": "stderr",
          "text": [
            "Epoch 153/250:  39%|███▉      | 306/782 [00:07<00:11, 41.58it/s]"
          ]
        },
        {
          "output_type": "stream",
          "name": "stdout",
          "text": [
            "[Epoch 153, Batch 300] loss: 0.074\n"
          ]
        },
        {
          "output_type": "stream",
          "name": "stderr",
          "text": [
            "Epoch 153/250:  52%|█████▏    | 406/782 [00:09<00:09, 41.10it/s]"
          ]
        },
        {
          "output_type": "stream",
          "name": "stdout",
          "text": [
            "[Epoch 153, Batch 400] loss: 0.074\n"
          ]
        },
        {
          "output_type": "stream",
          "name": "stderr",
          "text": [
            "Epoch 153/250:  65%|██████▍   | 506/782 [00:12<00:06, 41.14it/s]"
          ]
        },
        {
          "output_type": "stream",
          "name": "stdout",
          "text": [
            "[Epoch 153, Batch 500] loss: 0.074\n"
          ]
        },
        {
          "output_type": "stream",
          "name": "stderr",
          "text": [
            "Epoch 153/250:  77%|███████▋  | 606/782 [00:14<00:04, 41.49it/s]"
          ]
        },
        {
          "output_type": "stream",
          "name": "stdout",
          "text": [
            "[Epoch 153, Batch 600] loss: 0.074\n"
          ]
        },
        {
          "output_type": "stream",
          "name": "stderr",
          "text": [
            "Epoch 153/250:  90%|█████████ | 706/782 [00:17<00:01, 40.94it/s]"
          ]
        },
        {
          "output_type": "stream",
          "name": "stdout",
          "text": [
            "[Epoch 153, Batch 700] loss: 0.074\n"
          ]
        },
        {
          "output_type": "stream",
          "name": "stderr",
          "text": [
            "Epoch 153/250: 100%|██████████| 782/782 [00:19<00:00, 40.91it/s]\n"
          ]
        },
        {
          "output_type": "stream",
          "name": "stdout",
          "text": [
            "Checkpoint saved at /content/gdrive/My Drive/checkpoints/AsymmetricAutoencoderMinus1/checkpoint_epoch_153.pth\n"
          ]
        },
        {
          "output_type": "stream",
          "name": "stderr",
          "text": [
            "Epoch 154/250:  14%|█▎        | 106/782 [00:02<00:16, 41.75it/s]"
          ]
        },
        {
          "output_type": "stream",
          "name": "stdout",
          "text": [
            "[Epoch 154, Batch 100] loss: 0.074\n"
          ]
        },
        {
          "output_type": "stream",
          "name": "stderr",
          "text": [
            "Epoch 154/250:  26%|██▋       | 206/782 [00:05<00:13, 41.17it/s]"
          ]
        },
        {
          "output_type": "stream",
          "name": "stdout",
          "text": [
            "[Epoch 154, Batch 200] loss: 0.074\n"
          ]
        },
        {
          "output_type": "stream",
          "name": "stderr",
          "text": [
            "Epoch 154/250:  39%|███▉      | 306/782 [00:07<00:11, 41.63it/s]"
          ]
        },
        {
          "output_type": "stream",
          "name": "stdout",
          "text": [
            "[Epoch 154, Batch 300] loss: 0.073\n"
          ]
        },
        {
          "output_type": "stream",
          "name": "stderr",
          "text": [
            "Epoch 154/250:  52%|█████▏    | 406/782 [00:09<00:09, 41.31it/s]"
          ]
        },
        {
          "output_type": "stream",
          "name": "stdout",
          "text": [
            "[Epoch 154, Batch 400] loss: 0.074\n"
          ]
        },
        {
          "output_type": "stream",
          "name": "stderr",
          "text": [
            "Epoch 154/250:  65%|██████▍   | 506/782 [00:12<00:06, 40.46it/s]"
          ]
        },
        {
          "output_type": "stream",
          "name": "stdout",
          "text": [
            "[Epoch 154, Batch 500] loss: 0.074\n"
          ]
        },
        {
          "output_type": "stream",
          "name": "stderr",
          "text": [
            "Epoch 154/250:  77%|███████▋  | 606/782 [00:14<00:04, 40.92it/s]"
          ]
        },
        {
          "output_type": "stream",
          "name": "stdout",
          "text": [
            "[Epoch 154, Batch 600] loss: 0.074\n"
          ]
        },
        {
          "output_type": "stream",
          "name": "stderr",
          "text": [
            "Epoch 154/250:  90%|█████████ | 706/782 [00:17<00:01, 41.52it/s]"
          ]
        },
        {
          "output_type": "stream",
          "name": "stdout",
          "text": [
            "[Epoch 154, Batch 700] loss: 0.073\n"
          ]
        },
        {
          "output_type": "stream",
          "name": "stderr",
          "text": [
            "Epoch 154/250: 100%|██████████| 782/782 [00:19<00:00, 40.95it/s]\n"
          ]
        },
        {
          "output_type": "stream",
          "name": "stdout",
          "text": [
            "Checkpoint saved at /content/gdrive/My Drive/checkpoints/AsymmetricAutoencoderMinus1/checkpoint_epoch_154.pth\n"
          ]
        },
        {
          "output_type": "stream",
          "name": "stderr",
          "text": [
            "Epoch 155/250:  14%|█▎        | 106/782 [00:02<00:16, 40.93it/s]"
          ]
        },
        {
          "output_type": "stream",
          "name": "stdout",
          "text": [
            "[Epoch 155, Batch 100] loss: 0.074\n"
          ]
        },
        {
          "output_type": "stream",
          "name": "stderr",
          "text": [
            "Epoch 155/250:  26%|██▋       | 206/782 [00:05<00:13, 41.51it/s]"
          ]
        },
        {
          "output_type": "stream",
          "name": "stdout",
          "text": [
            "[Epoch 155, Batch 200] loss: 0.073\n"
          ]
        },
        {
          "output_type": "stream",
          "name": "stderr",
          "text": [
            "Epoch 155/250:  39%|███▉      | 306/782 [00:07<00:11, 41.34it/s]"
          ]
        },
        {
          "output_type": "stream",
          "name": "stdout",
          "text": [
            "[Epoch 155, Batch 300] loss: 0.074\n"
          ]
        },
        {
          "output_type": "stream",
          "name": "stderr",
          "text": [
            "Epoch 155/250:  52%|█████▏    | 406/782 [00:09<00:09, 40.92it/s]"
          ]
        },
        {
          "output_type": "stream",
          "name": "stdout",
          "text": [
            "[Epoch 155, Batch 400] loss: 0.074\n"
          ]
        },
        {
          "output_type": "stream",
          "name": "stderr",
          "text": [
            "Epoch 155/250:  65%|██████▍   | 506/782 [00:12<00:06, 40.74it/s]"
          ]
        },
        {
          "output_type": "stream",
          "name": "stdout",
          "text": [
            "[Epoch 155, Batch 500] loss: 0.075\n"
          ]
        },
        {
          "output_type": "stream",
          "name": "stderr",
          "text": [
            "Epoch 155/250:  77%|███████▋  | 606/782 [00:14<00:04, 41.46it/s]"
          ]
        },
        {
          "output_type": "stream",
          "name": "stdout",
          "text": [
            "[Epoch 155, Batch 600] loss: 0.074\n"
          ]
        },
        {
          "output_type": "stream",
          "name": "stderr",
          "text": [
            "Epoch 155/250:  90%|█████████ | 706/782 [00:17<00:01, 41.01it/s]"
          ]
        },
        {
          "output_type": "stream",
          "name": "stdout",
          "text": [
            "[Epoch 155, Batch 700] loss: 0.074\n"
          ]
        },
        {
          "output_type": "stream",
          "name": "stderr",
          "text": [
            "Epoch 155/250: 100%|██████████| 782/782 [00:19<00:00, 40.94it/s]\n"
          ]
        },
        {
          "output_type": "stream",
          "name": "stdout",
          "text": [
            "Checkpoint saved at /content/gdrive/My Drive/checkpoints/AsymmetricAutoencoderMinus1/checkpoint_epoch_155.pth\n"
          ]
        },
        {
          "output_type": "stream",
          "name": "stderr",
          "text": [
            "Epoch 156/250:  14%|█▎        | 106/782 [00:02<00:16, 41.63it/s]"
          ]
        },
        {
          "output_type": "stream",
          "name": "stdout",
          "text": [
            "[Epoch 156, Batch 100] loss: 0.074\n"
          ]
        },
        {
          "output_type": "stream",
          "name": "stderr",
          "text": [
            "Epoch 156/250:  26%|██▋       | 206/782 [00:05<00:14, 40.91it/s]"
          ]
        },
        {
          "output_type": "stream",
          "name": "stdout",
          "text": [
            "[Epoch 156, Batch 200] loss: 0.073\n"
          ]
        },
        {
          "output_type": "stream",
          "name": "stderr",
          "text": [
            "Epoch 156/250:  39%|███▉      | 306/782 [00:07<00:11, 41.16it/s]"
          ]
        },
        {
          "output_type": "stream",
          "name": "stdout",
          "text": [
            "[Epoch 156, Batch 300] loss: 0.073\n"
          ]
        },
        {
          "output_type": "stream",
          "name": "stderr",
          "text": [
            "Epoch 156/250:  52%|█████▏    | 406/782 [00:09<00:09, 41.36it/s]"
          ]
        },
        {
          "output_type": "stream",
          "name": "stdout",
          "text": [
            "[Epoch 156, Batch 400] loss: 0.075\n"
          ]
        },
        {
          "output_type": "stream",
          "name": "stderr",
          "text": [
            "Epoch 156/250:  65%|██████▍   | 506/782 [00:12<00:06, 40.34it/s]"
          ]
        },
        {
          "output_type": "stream",
          "name": "stdout",
          "text": [
            "[Epoch 156, Batch 500] loss: 0.074\n"
          ]
        },
        {
          "output_type": "stream",
          "name": "stderr",
          "text": [
            "Epoch 156/250:  77%|███████▋  | 606/782 [00:14<00:04, 40.92it/s]"
          ]
        },
        {
          "output_type": "stream",
          "name": "stdout",
          "text": [
            "[Epoch 156, Batch 600] loss: 0.074\n"
          ]
        },
        {
          "output_type": "stream",
          "name": "stderr",
          "text": [
            "Epoch 156/250:  90%|█████████ | 706/782 [00:17<00:01, 41.21it/s]"
          ]
        },
        {
          "output_type": "stream",
          "name": "stdout",
          "text": [
            "[Epoch 156, Batch 700] loss: 0.074\n"
          ]
        },
        {
          "output_type": "stream",
          "name": "stderr",
          "text": [
            "Epoch 156/250: 100%|██████████| 782/782 [00:19<00:00, 40.88it/s]\n"
          ]
        },
        {
          "output_type": "stream",
          "name": "stdout",
          "text": [
            "Checkpoint saved at /content/gdrive/My Drive/checkpoints/AsymmetricAutoencoderMinus1/checkpoint_epoch_156.pth\n"
          ]
        },
        {
          "output_type": "stream",
          "name": "stderr",
          "text": [
            "Epoch 157/250:  14%|█▎        | 106/782 [00:02<00:16, 41.34it/s]"
          ]
        },
        {
          "output_type": "stream",
          "name": "stdout",
          "text": [
            "[Epoch 157, Batch 100] loss: 0.074\n"
          ]
        },
        {
          "output_type": "stream",
          "name": "stderr",
          "text": [
            "Epoch 157/250:  26%|██▋       | 206/782 [00:05<00:13, 41.35it/s]"
          ]
        },
        {
          "output_type": "stream",
          "name": "stdout",
          "text": [
            "[Epoch 157, Batch 200] loss: 0.073\n"
          ]
        },
        {
          "output_type": "stream",
          "name": "stderr",
          "text": [
            "Epoch 157/250:  39%|███▉      | 306/782 [00:07<00:11, 41.60it/s]"
          ]
        },
        {
          "output_type": "stream",
          "name": "stdout",
          "text": [
            "[Epoch 157, Batch 300] loss: 0.074\n"
          ]
        },
        {
          "output_type": "stream",
          "name": "stderr",
          "text": [
            "Epoch 157/250:  52%|█████▏    | 406/782 [00:09<00:09, 41.01it/s]"
          ]
        },
        {
          "output_type": "stream",
          "name": "stdout",
          "text": [
            "[Epoch 157, Batch 400] loss: 0.074\n"
          ]
        },
        {
          "output_type": "stream",
          "name": "stderr",
          "text": [
            "Epoch 157/250:  65%|██████▍   | 506/782 [00:12<00:06, 41.04it/s]"
          ]
        },
        {
          "output_type": "stream",
          "name": "stdout",
          "text": [
            "[Epoch 157, Batch 500] loss: 0.074\n"
          ]
        },
        {
          "output_type": "stream",
          "name": "stderr",
          "text": [
            "Epoch 157/250:  77%|███████▋  | 606/782 [00:14<00:04, 41.51it/s]"
          ]
        },
        {
          "output_type": "stream",
          "name": "stdout",
          "text": [
            "[Epoch 157, Batch 600] loss: 0.073\n"
          ]
        },
        {
          "output_type": "stream",
          "name": "stderr",
          "text": [
            "Epoch 157/250:  90%|█████████ | 706/782 [00:17<00:01, 41.04it/s]"
          ]
        },
        {
          "output_type": "stream",
          "name": "stdout",
          "text": [
            "[Epoch 157, Batch 700] loss: 0.074\n"
          ]
        },
        {
          "output_type": "stream",
          "name": "stderr",
          "text": [
            "Epoch 157/250: 100%|██████████| 782/782 [00:19<00:00, 41.01it/s]\n"
          ]
        },
        {
          "output_type": "stream",
          "name": "stdout",
          "text": [
            "Checkpoint saved at /content/gdrive/My Drive/checkpoints/AsymmetricAutoencoderMinus1/checkpoint_epoch_157.pth\n"
          ]
        },
        {
          "output_type": "stream",
          "name": "stderr",
          "text": [
            "Epoch 158/250:  14%|█▎        | 106/782 [00:02<00:16, 41.56it/s]"
          ]
        },
        {
          "output_type": "stream",
          "name": "stdout",
          "text": [
            "[Epoch 158, Batch 100] loss: 0.074\n"
          ]
        },
        {
          "output_type": "stream",
          "name": "stderr",
          "text": [
            "Epoch 158/250:  26%|██▋       | 206/782 [00:05<00:13, 41.25it/s]"
          ]
        },
        {
          "output_type": "stream",
          "name": "stdout",
          "text": [
            "[Epoch 158, Batch 200] loss: 0.074\n"
          ]
        },
        {
          "output_type": "stream",
          "name": "stderr",
          "text": [
            "Epoch 158/250:  39%|███▉      | 306/782 [00:07<00:11, 41.61it/s]"
          ]
        },
        {
          "output_type": "stream",
          "name": "stdout",
          "text": [
            "[Epoch 158, Batch 300] loss: 0.074\n"
          ]
        },
        {
          "output_type": "stream",
          "name": "stderr",
          "text": [
            "Epoch 158/250:  52%|█████▏    | 406/782 [00:09<00:09, 41.63it/s]"
          ]
        },
        {
          "output_type": "stream",
          "name": "stdout",
          "text": [
            "[Epoch 158, Batch 400] loss: 0.074\n"
          ]
        },
        {
          "output_type": "stream",
          "name": "stderr",
          "text": [
            "Epoch 158/250:  65%|██████▍   | 506/782 [00:12<00:06, 41.06it/s]"
          ]
        },
        {
          "output_type": "stream",
          "name": "stdout",
          "text": [
            "[Epoch 158, Batch 500] loss: 0.074\n"
          ]
        },
        {
          "output_type": "stream",
          "name": "stderr",
          "text": [
            "Epoch 158/250:  77%|███████▋  | 606/782 [00:14<00:04, 41.09it/s]"
          ]
        },
        {
          "output_type": "stream",
          "name": "stdout",
          "text": [
            "[Epoch 158, Batch 600] loss: 0.074\n"
          ]
        },
        {
          "output_type": "stream",
          "name": "stderr",
          "text": [
            "Epoch 158/250:  90%|█████████ | 706/782 [00:17<00:01, 41.12it/s]"
          ]
        },
        {
          "output_type": "stream",
          "name": "stdout",
          "text": [
            "[Epoch 158, Batch 700] loss: 0.073\n"
          ]
        },
        {
          "output_type": "stream",
          "name": "stderr",
          "text": [
            "Epoch 158/250: 100%|██████████| 782/782 [00:19<00:00, 41.09it/s]\n"
          ]
        },
        {
          "output_type": "stream",
          "name": "stdout",
          "text": [
            "Checkpoint saved at /content/gdrive/My Drive/checkpoints/AsymmetricAutoencoderMinus1/checkpoint_epoch_158.pth\n"
          ]
        },
        {
          "output_type": "stream",
          "name": "stderr",
          "text": [
            "Epoch 159/250:  14%|█▎        | 106/782 [00:02<00:16, 41.29it/s]"
          ]
        },
        {
          "output_type": "stream",
          "name": "stdout",
          "text": [
            "[Epoch 159, Batch 100] loss: 0.073\n"
          ]
        },
        {
          "output_type": "stream",
          "name": "stderr",
          "text": [
            "Epoch 159/250:  26%|██▋       | 206/782 [00:05<00:13, 41.61it/s]"
          ]
        },
        {
          "output_type": "stream",
          "name": "stdout",
          "text": [
            "[Epoch 159, Batch 200] loss: 0.074\n"
          ]
        },
        {
          "output_type": "stream",
          "name": "stderr",
          "text": [
            "Epoch 159/250:  39%|███▉      | 306/782 [00:07<00:11, 41.49it/s]"
          ]
        },
        {
          "output_type": "stream",
          "name": "stdout",
          "text": [
            "[Epoch 159, Batch 300] loss: 0.074\n"
          ]
        },
        {
          "output_type": "stream",
          "name": "stderr",
          "text": [
            "Epoch 159/250:  52%|█████▏    | 406/782 [00:09<00:09, 40.93it/s]"
          ]
        },
        {
          "output_type": "stream",
          "name": "stdout",
          "text": [
            "[Epoch 159, Batch 400] loss: 0.074\n"
          ]
        },
        {
          "output_type": "stream",
          "name": "stderr",
          "text": [
            "Epoch 159/250:  65%|██████▍   | 506/782 [00:12<00:06, 40.75it/s]"
          ]
        },
        {
          "output_type": "stream",
          "name": "stdout",
          "text": [
            "[Epoch 159, Batch 500] loss: 0.074\n"
          ]
        },
        {
          "output_type": "stream",
          "name": "stderr",
          "text": [
            "Epoch 159/250:  77%|███████▋  | 606/782 [00:14<00:04, 41.50it/s]"
          ]
        },
        {
          "output_type": "stream",
          "name": "stdout",
          "text": [
            "[Epoch 159, Batch 600] loss: 0.073\n"
          ]
        },
        {
          "output_type": "stream",
          "name": "stderr",
          "text": [
            "Epoch 159/250:  90%|█████████ | 706/782 [00:17<00:01, 41.30it/s]"
          ]
        },
        {
          "output_type": "stream",
          "name": "stdout",
          "text": [
            "[Epoch 159, Batch 700] loss: 0.073\n"
          ]
        },
        {
          "output_type": "stream",
          "name": "stderr",
          "text": [
            "Epoch 159/250: 100%|██████████| 782/782 [00:19<00:00, 41.09it/s]\n"
          ]
        },
        {
          "output_type": "stream",
          "name": "stdout",
          "text": [
            "Checkpoint saved at /content/gdrive/My Drive/checkpoints/AsymmetricAutoencoderMinus1/checkpoint_epoch_159.pth\n"
          ]
        },
        {
          "output_type": "stream",
          "name": "stderr",
          "text": [
            "Epoch 160/250:  14%|█▎        | 106/782 [00:02<00:16, 41.73it/s]"
          ]
        },
        {
          "output_type": "stream",
          "name": "stdout",
          "text": [
            "[Epoch 160, Batch 100] loss: 0.075\n"
          ]
        },
        {
          "output_type": "stream",
          "name": "stderr",
          "text": [
            "Epoch 160/250:  26%|██▋       | 206/782 [00:05<00:14, 40.98it/s]"
          ]
        },
        {
          "output_type": "stream",
          "name": "stdout",
          "text": [
            "[Epoch 160, Batch 200] loss: 0.073\n"
          ]
        },
        {
          "output_type": "stream",
          "name": "stderr",
          "text": [
            "Epoch 160/250:  39%|███▉      | 306/782 [00:07<00:11, 41.62it/s]"
          ]
        },
        {
          "output_type": "stream",
          "name": "stdout",
          "text": [
            "[Epoch 160, Batch 300] loss: 0.074\n"
          ]
        },
        {
          "output_type": "stream",
          "name": "stderr",
          "text": [
            "Epoch 160/250:  52%|█████▏    | 406/782 [00:09<00:09, 41.51it/s]"
          ]
        },
        {
          "output_type": "stream",
          "name": "stdout",
          "text": [
            "[Epoch 160, Batch 400] loss: 0.074\n"
          ]
        },
        {
          "output_type": "stream",
          "name": "stderr",
          "text": [
            "Epoch 160/250:  65%|██████▍   | 506/782 [00:12<00:06, 40.74it/s]"
          ]
        },
        {
          "output_type": "stream",
          "name": "stdout",
          "text": [
            "[Epoch 160, Batch 500] loss: 0.073\n"
          ]
        },
        {
          "output_type": "stream",
          "name": "stderr",
          "text": [
            "Epoch 160/250:  77%|███████▋  | 606/782 [00:14<00:04, 41.18it/s]"
          ]
        },
        {
          "output_type": "stream",
          "name": "stdout",
          "text": [
            "[Epoch 160, Batch 600] loss: 0.074\n"
          ]
        },
        {
          "output_type": "stream",
          "name": "stderr",
          "text": [
            "Epoch 160/250:  90%|█████████ | 706/782 [00:17<00:01, 41.67it/s]"
          ]
        },
        {
          "output_type": "stream",
          "name": "stdout",
          "text": [
            "[Epoch 160, Batch 700] loss: 0.074\n"
          ]
        },
        {
          "output_type": "stream",
          "name": "stderr",
          "text": [
            "Epoch 160/250: 100%|██████████| 782/782 [00:19<00:00, 41.05it/s]\n"
          ]
        },
        {
          "output_type": "stream",
          "name": "stdout",
          "text": [
            "Checkpoint saved at /content/gdrive/My Drive/checkpoints/AsymmetricAutoencoderMinus1/checkpoint_epoch_160.pth\n",
            "Validation Loss after epoch 160: 0.0742\n"
          ]
        },
        {
          "output_type": "stream",
          "name": "stderr",
          "text": [
            "Epoch 161/250:  13%|█▎        | 105/782 [00:02<00:16, 41.57it/s]"
          ]
        },
        {
          "output_type": "stream",
          "name": "stdout",
          "text": [
            "[Epoch 161, Batch 100] loss: 0.074\n"
          ]
        },
        {
          "output_type": "stream",
          "name": "stderr",
          "text": [
            "Epoch 161/250:  26%|██▌       | 205/782 [00:05<00:14, 41.18it/s]"
          ]
        },
        {
          "output_type": "stream",
          "name": "stdout",
          "text": [
            "[Epoch 161, Batch 200] loss: 0.074\n"
          ]
        },
        {
          "output_type": "stream",
          "name": "stderr",
          "text": [
            "Epoch 161/250:  39%|███▉      | 305/782 [00:07<00:11, 41.23it/s]"
          ]
        },
        {
          "output_type": "stream",
          "name": "stdout",
          "text": [
            "[Epoch 161, Batch 300] loss: 0.074\n"
          ]
        },
        {
          "output_type": "stream",
          "name": "stderr",
          "text": [
            "Epoch 161/250:  52%|█████▏    | 405/782 [00:09<00:09, 41.20it/s]"
          ]
        },
        {
          "output_type": "stream",
          "name": "stdout",
          "text": [
            "[Epoch 161, Batch 400] loss: 0.073\n"
          ]
        },
        {
          "output_type": "stream",
          "name": "stderr",
          "text": [
            "Epoch 161/250:  65%|██████▍   | 505/782 [00:12<00:06, 41.67it/s]"
          ]
        },
        {
          "output_type": "stream",
          "name": "stdout",
          "text": [
            "[Epoch 161, Batch 500] loss: 0.074\n"
          ]
        },
        {
          "output_type": "stream",
          "name": "stderr",
          "text": [
            "Epoch 161/250:  77%|███████▋  | 605/782 [00:14<00:04, 41.02it/s]"
          ]
        },
        {
          "output_type": "stream",
          "name": "stdout",
          "text": [
            "[Epoch 161, Batch 600] loss: 0.074\n"
          ]
        },
        {
          "output_type": "stream",
          "name": "stderr",
          "text": [
            "Epoch 161/250:  90%|█████████ | 705/782 [00:17<00:01, 41.07it/s]"
          ]
        },
        {
          "output_type": "stream",
          "name": "stdout",
          "text": [
            "[Epoch 161, Batch 700] loss: 0.073\n"
          ]
        },
        {
          "output_type": "stream",
          "name": "stderr",
          "text": [
            "Epoch 161/250: 100%|██████████| 782/782 [00:19<00:00, 41.00it/s]\n"
          ]
        },
        {
          "output_type": "stream",
          "name": "stdout",
          "text": [
            "Checkpoint saved at /content/gdrive/My Drive/checkpoints/AsymmetricAutoencoderMinus1/checkpoint_epoch_161.pth\n"
          ]
        },
        {
          "output_type": "stream",
          "name": "stderr",
          "text": [
            "Epoch 162/250:  14%|█▎        | 106/782 [00:02<00:16, 41.35it/s]"
          ]
        },
        {
          "output_type": "stream",
          "name": "stdout",
          "text": [
            "[Epoch 162, Batch 100] loss: 0.074\n"
          ]
        },
        {
          "output_type": "stream",
          "name": "stderr",
          "text": [
            "Epoch 162/250:  26%|██▋       | 206/782 [00:05<00:13, 41.44it/s]"
          ]
        },
        {
          "output_type": "stream",
          "name": "stdout",
          "text": [
            "[Epoch 162, Batch 200] loss: 0.074\n"
          ]
        },
        {
          "output_type": "stream",
          "name": "stderr",
          "text": [
            "Epoch 162/250:  39%|███▉      | 306/782 [00:07<00:11, 41.58it/s]"
          ]
        },
        {
          "output_type": "stream",
          "name": "stdout",
          "text": [
            "[Epoch 162, Batch 300] loss: 0.074\n"
          ]
        },
        {
          "output_type": "stream",
          "name": "stderr",
          "text": [
            "Epoch 162/250:  52%|█████▏    | 406/782 [00:09<00:09, 41.14it/s]"
          ]
        },
        {
          "output_type": "stream",
          "name": "stdout",
          "text": [
            "[Epoch 162, Batch 400] loss: 0.074\n"
          ]
        },
        {
          "output_type": "stream",
          "name": "stderr",
          "text": [
            "Epoch 162/250:  65%|██████▍   | 506/782 [00:12<00:06, 40.40it/s]"
          ]
        },
        {
          "output_type": "stream",
          "name": "stdout",
          "text": [
            "[Epoch 162, Batch 500] loss: 0.074\n"
          ]
        },
        {
          "output_type": "stream",
          "name": "stderr",
          "text": [
            "Epoch 162/250:  77%|███████▋  | 606/782 [00:14<00:04, 41.36it/s]"
          ]
        },
        {
          "output_type": "stream",
          "name": "stdout",
          "text": [
            "[Epoch 162, Batch 600] loss: 0.074\n"
          ]
        },
        {
          "output_type": "stream",
          "name": "stderr",
          "text": [
            "Epoch 162/250:  90%|█████████ | 706/782 [00:17<00:01, 41.53it/s]"
          ]
        },
        {
          "output_type": "stream",
          "name": "stdout",
          "text": [
            "[Epoch 162, Batch 700] loss: 0.073\n"
          ]
        },
        {
          "output_type": "stream",
          "name": "stderr",
          "text": [
            "Epoch 162/250: 100%|██████████| 782/782 [00:19<00:00, 40.96it/s]\n"
          ]
        },
        {
          "output_type": "stream",
          "name": "stdout",
          "text": [
            "Checkpoint saved at /content/gdrive/My Drive/checkpoints/AsymmetricAutoencoderMinus1/checkpoint_epoch_162.pth\n"
          ]
        },
        {
          "output_type": "stream",
          "name": "stderr",
          "text": [
            "Epoch 163/250:  14%|█▎        | 106/782 [00:02<00:16, 41.64it/s]"
          ]
        },
        {
          "output_type": "stream",
          "name": "stdout",
          "text": [
            "[Epoch 163, Batch 100] loss: 0.074\n"
          ]
        },
        {
          "output_type": "stream",
          "name": "stderr",
          "text": [
            "Epoch 163/250:  26%|██▋       | 206/782 [00:05<00:13, 41.87it/s]"
          ]
        },
        {
          "output_type": "stream",
          "name": "stdout",
          "text": [
            "[Epoch 163, Batch 200] loss: 0.074\n"
          ]
        },
        {
          "output_type": "stream",
          "name": "stderr",
          "text": [
            "Epoch 163/250:  39%|███▉      | 306/782 [00:07<00:11, 40.91it/s]"
          ]
        },
        {
          "output_type": "stream",
          "name": "stdout",
          "text": [
            "[Epoch 163, Batch 300] loss: 0.074\n"
          ]
        },
        {
          "output_type": "stream",
          "name": "stderr",
          "text": [
            "Epoch 163/250:  52%|█████▏    | 406/782 [00:09<00:09, 41.51it/s]"
          ]
        },
        {
          "output_type": "stream",
          "name": "stdout",
          "text": [
            "[Epoch 163, Batch 400] loss: 0.074\n"
          ]
        },
        {
          "output_type": "stream",
          "name": "stderr",
          "text": [
            "Epoch 163/250:  65%|██████▍   | 506/782 [00:12<00:06, 40.69it/s]"
          ]
        },
        {
          "output_type": "stream",
          "name": "stdout",
          "text": [
            "[Epoch 163, Batch 500] loss: 0.073\n"
          ]
        },
        {
          "output_type": "stream",
          "name": "stderr",
          "text": [
            "Epoch 163/250:  77%|███████▋  | 606/782 [00:14<00:04, 41.48it/s]"
          ]
        },
        {
          "output_type": "stream",
          "name": "stdout",
          "text": [
            "[Epoch 163, Batch 600] loss: 0.074\n"
          ]
        },
        {
          "output_type": "stream",
          "name": "stderr",
          "text": [
            "Epoch 163/250:  90%|█████████ | 706/782 [00:17<00:01, 41.50it/s]"
          ]
        },
        {
          "output_type": "stream",
          "name": "stdout",
          "text": [
            "[Epoch 163, Batch 700] loss: 0.074\n"
          ]
        },
        {
          "output_type": "stream",
          "name": "stderr",
          "text": [
            "Epoch 163/250: 100%|██████████| 782/782 [00:19<00:00, 41.08it/s]\n"
          ]
        },
        {
          "output_type": "stream",
          "name": "stdout",
          "text": [
            "Checkpoint saved at /content/gdrive/My Drive/checkpoints/AsymmetricAutoencoderMinus1/checkpoint_epoch_163.pth\n"
          ]
        },
        {
          "output_type": "stream",
          "name": "stderr",
          "text": [
            "Epoch 164/250:  14%|█▎        | 106/782 [00:02<00:16, 41.41it/s]"
          ]
        },
        {
          "output_type": "stream",
          "name": "stdout",
          "text": [
            "[Epoch 164, Batch 100] loss: 0.074\n"
          ]
        },
        {
          "output_type": "stream",
          "name": "stderr",
          "text": [
            "Epoch 164/250:  26%|██▋       | 206/782 [00:05<00:14, 40.83it/s]"
          ]
        },
        {
          "output_type": "stream",
          "name": "stdout",
          "text": [
            "[Epoch 164, Batch 200] loss: 0.074\n"
          ]
        },
        {
          "output_type": "stream",
          "name": "stderr",
          "text": [
            "Epoch 164/250:  39%|███▉      | 306/782 [00:07<00:11, 41.42it/s]"
          ]
        },
        {
          "output_type": "stream",
          "name": "stdout",
          "text": [
            "[Epoch 164, Batch 300] loss: 0.074\n"
          ]
        },
        {
          "output_type": "stream",
          "name": "stderr",
          "text": [
            "Epoch 164/250:  52%|█████▏    | 406/782 [00:09<00:09, 41.65it/s]"
          ]
        },
        {
          "output_type": "stream",
          "name": "stdout",
          "text": [
            "[Epoch 164, Batch 400] loss: 0.073\n"
          ]
        },
        {
          "output_type": "stream",
          "name": "stderr",
          "text": [
            "Epoch 164/250:  65%|██████▍   | 506/782 [00:12<00:06, 40.28it/s]"
          ]
        },
        {
          "output_type": "stream",
          "name": "stdout",
          "text": [
            "[Epoch 164, Batch 500] loss: 0.074\n"
          ]
        },
        {
          "output_type": "stream",
          "name": "stderr",
          "text": [
            "Epoch 164/250:  77%|███████▋  | 606/782 [00:14<00:04, 41.58it/s]"
          ]
        },
        {
          "output_type": "stream",
          "name": "stdout",
          "text": [
            "[Epoch 164, Batch 600] loss: 0.074\n"
          ]
        },
        {
          "output_type": "stream",
          "name": "stderr",
          "text": [
            "Epoch 164/250:  90%|█████████ | 706/782 [00:17<00:01, 41.56it/s]"
          ]
        },
        {
          "output_type": "stream",
          "name": "stdout",
          "text": [
            "[Epoch 164, Batch 700] loss: 0.074\n"
          ]
        },
        {
          "output_type": "stream",
          "name": "stderr",
          "text": [
            "Epoch 164/250: 100%|██████████| 782/782 [00:19<00:00, 41.07it/s]\n"
          ]
        },
        {
          "output_type": "stream",
          "name": "stdout",
          "text": [
            "Checkpoint saved at /content/gdrive/My Drive/checkpoints/AsymmetricAutoencoderMinus1/checkpoint_epoch_164.pth\n"
          ]
        },
        {
          "output_type": "stream",
          "name": "stderr",
          "text": [
            "Epoch 165/250:  14%|█▎        | 106/782 [00:02<00:16, 41.39it/s]"
          ]
        },
        {
          "output_type": "stream",
          "name": "stdout",
          "text": [
            "[Epoch 165, Batch 100] loss: 0.074\n"
          ]
        },
        {
          "output_type": "stream",
          "name": "stderr",
          "text": [
            "Epoch 165/250:  26%|██▋       | 206/782 [00:05<00:13, 41.55it/s]"
          ]
        },
        {
          "output_type": "stream",
          "name": "stdout",
          "text": [
            "[Epoch 165, Batch 200] loss: 0.074\n"
          ]
        },
        {
          "output_type": "stream",
          "name": "stderr",
          "text": [
            "Epoch 165/250:  39%|███▉      | 306/782 [00:07<00:11, 41.34it/s]"
          ]
        },
        {
          "output_type": "stream",
          "name": "stdout",
          "text": [
            "[Epoch 165, Batch 300] loss: 0.074\n"
          ]
        },
        {
          "output_type": "stream",
          "name": "stderr",
          "text": [
            "Epoch 165/250:  52%|█████▏    | 406/782 [00:09<00:09, 40.77it/s]"
          ]
        },
        {
          "output_type": "stream",
          "name": "stdout",
          "text": [
            "[Epoch 165, Batch 400] loss: 0.074\n"
          ]
        },
        {
          "output_type": "stream",
          "name": "stderr",
          "text": [
            "Epoch 165/250:  65%|██████▍   | 506/782 [00:12<00:06, 41.21it/s]"
          ]
        },
        {
          "output_type": "stream",
          "name": "stdout",
          "text": [
            "[Epoch 165, Batch 500] loss: 0.073\n"
          ]
        },
        {
          "output_type": "stream",
          "name": "stderr",
          "text": [
            "Epoch 165/250:  77%|███████▋  | 605/782 [00:14<00:04, 39.41it/s]"
          ]
        },
        {
          "output_type": "stream",
          "name": "stdout",
          "text": [
            "[Epoch 165, Batch 600] loss: 0.074\n"
          ]
        },
        {
          "output_type": "stream",
          "name": "stderr",
          "text": [
            "Epoch 165/250:  90%|█████████ | 705/782 [00:17<00:01, 41.31it/s]"
          ]
        },
        {
          "output_type": "stream",
          "name": "stdout",
          "text": [
            "[Epoch 165, Batch 700] loss: 0.074\n"
          ]
        },
        {
          "output_type": "stream",
          "name": "stderr",
          "text": [
            "Epoch 165/250: 100%|██████████| 782/782 [00:19<00:00, 40.94it/s]\n"
          ]
        },
        {
          "output_type": "stream",
          "name": "stdout",
          "text": [
            "Checkpoint saved at /content/gdrive/My Drive/checkpoints/AsymmetricAutoencoderMinus1/checkpoint_epoch_165.pth\n"
          ]
        },
        {
          "output_type": "stream",
          "name": "stderr",
          "text": [
            "Epoch 166/250:  14%|█▎        | 106/782 [00:02<00:16, 41.36it/s]"
          ]
        },
        {
          "output_type": "stream",
          "name": "stdout",
          "text": [
            "[Epoch 166, Batch 100] loss: 0.074\n"
          ]
        },
        {
          "output_type": "stream",
          "name": "stderr",
          "text": [
            "Epoch 166/250:  26%|██▋       | 206/782 [00:05<00:14, 40.95it/s]"
          ]
        },
        {
          "output_type": "stream",
          "name": "stdout",
          "text": [
            "[Epoch 166, Batch 200] loss: 0.073\n"
          ]
        },
        {
          "output_type": "stream",
          "name": "stderr",
          "text": [
            "Epoch 166/250:  39%|███▉      | 306/782 [00:07<00:11, 41.34it/s]"
          ]
        },
        {
          "output_type": "stream",
          "name": "stdout",
          "text": [
            "[Epoch 166, Batch 300] loss: 0.075\n"
          ]
        },
        {
          "output_type": "stream",
          "name": "stderr",
          "text": [
            "Epoch 166/250:  52%|█████▏    | 406/782 [00:09<00:09, 41.33it/s]"
          ]
        },
        {
          "output_type": "stream",
          "name": "stdout",
          "text": [
            "[Epoch 166, Batch 400] loss: 0.074\n"
          ]
        },
        {
          "output_type": "stream",
          "name": "stderr",
          "text": [
            "Epoch 166/250:  65%|██████▍   | 506/782 [00:12<00:06, 40.51it/s]"
          ]
        },
        {
          "output_type": "stream",
          "name": "stdout",
          "text": [
            "[Epoch 166, Batch 500] loss: 0.074\n"
          ]
        },
        {
          "output_type": "stream",
          "name": "stderr",
          "text": [
            "Epoch 166/250:  77%|███████▋  | 606/782 [00:14<00:04, 41.14it/s]"
          ]
        },
        {
          "output_type": "stream",
          "name": "stdout",
          "text": [
            "[Epoch 166, Batch 600] loss: 0.074\n"
          ]
        },
        {
          "output_type": "stream",
          "name": "stderr",
          "text": [
            "Epoch 166/250:  90%|█████████ | 706/782 [00:17<00:01, 41.44it/s]"
          ]
        },
        {
          "output_type": "stream",
          "name": "stdout",
          "text": [
            "[Epoch 166, Batch 700] loss: 0.074\n"
          ]
        },
        {
          "output_type": "stream",
          "name": "stderr",
          "text": [
            "Epoch 166/250: 100%|██████████| 782/782 [00:19<00:00, 40.95it/s]\n"
          ]
        },
        {
          "output_type": "stream",
          "name": "stdout",
          "text": [
            "Checkpoint saved at /content/gdrive/My Drive/checkpoints/AsymmetricAutoencoderMinus1/checkpoint_epoch_166.pth\n"
          ]
        },
        {
          "output_type": "stream",
          "name": "stderr",
          "text": [
            "Epoch 167/250:  13%|█▎        | 105/782 [00:02<00:16, 41.63it/s]"
          ]
        },
        {
          "output_type": "stream",
          "name": "stdout",
          "text": [
            "[Epoch 167, Batch 100] loss: 0.073\n"
          ]
        },
        {
          "output_type": "stream",
          "name": "stderr",
          "text": [
            "Epoch 167/250:  26%|██▌       | 205/782 [00:05<00:13, 41.39it/s]"
          ]
        },
        {
          "output_type": "stream",
          "name": "stdout",
          "text": [
            "[Epoch 167, Batch 200] loss: 0.074\n"
          ]
        },
        {
          "output_type": "stream",
          "name": "stderr",
          "text": [
            "Epoch 167/250:  39%|███▉      | 305/782 [00:07<00:11, 41.07it/s]"
          ]
        },
        {
          "output_type": "stream",
          "name": "stdout",
          "text": [
            "[Epoch 167, Batch 300] loss: 0.074\n"
          ]
        },
        {
          "output_type": "stream",
          "name": "stderr",
          "text": [
            "Epoch 167/250:  52%|█████▏    | 405/782 [00:09<00:09, 40.77it/s]"
          ]
        },
        {
          "output_type": "stream",
          "name": "stdout",
          "text": [
            "[Epoch 167, Batch 400] loss: 0.074\n"
          ]
        },
        {
          "output_type": "stream",
          "name": "stderr",
          "text": [
            "Epoch 167/250:  65%|██████▍   | 505/782 [00:12<00:06, 40.90it/s]"
          ]
        },
        {
          "output_type": "stream",
          "name": "stdout",
          "text": [
            "[Epoch 167, Batch 500] loss: 0.074\n"
          ]
        },
        {
          "output_type": "stream",
          "name": "stderr",
          "text": [
            "Epoch 167/250:  77%|███████▋  | 605/782 [00:14<00:04, 40.83it/s]"
          ]
        },
        {
          "output_type": "stream",
          "name": "stdout",
          "text": [
            "[Epoch 167, Batch 600] loss: 0.073\n"
          ]
        },
        {
          "output_type": "stream",
          "name": "stderr",
          "text": [
            "Epoch 167/250:  90%|█████████ | 705/782 [00:17<00:01, 40.73it/s]"
          ]
        },
        {
          "output_type": "stream",
          "name": "stdout",
          "text": [
            "[Epoch 167, Batch 700] loss: 0.074\n"
          ]
        },
        {
          "output_type": "stream",
          "name": "stderr",
          "text": [
            "Epoch 167/250: 100%|██████████| 782/782 [00:19<00:00, 40.83it/s]\n"
          ]
        },
        {
          "output_type": "stream",
          "name": "stdout",
          "text": [
            "Checkpoint saved at /content/gdrive/My Drive/checkpoints/AsymmetricAutoencoderMinus1/checkpoint_epoch_167.pth\n"
          ]
        },
        {
          "output_type": "stream",
          "name": "stderr",
          "text": [
            "Epoch 168/250:  14%|█▎        | 106/782 [00:02<00:16, 41.49it/s]"
          ]
        },
        {
          "output_type": "stream",
          "name": "stdout",
          "text": [
            "[Epoch 168, Batch 100] loss: 0.074\n"
          ]
        },
        {
          "output_type": "stream",
          "name": "stderr",
          "text": [
            "Epoch 168/250:  26%|██▋       | 206/782 [00:05<00:14, 40.82it/s]"
          ]
        },
        {
          "output_type": "stream",
          "name": "stdout",
          "text": [
            "[Epoch 168, Batch 200] loss: 0.074\n"
          ]
        },
        {
          "output_type": "stream",
          "name": "stderr",
          "text": [
            "Epoch 168/250:  39%|███▉      | 306/782 [00:07<00:11, 41.18it/s]"
          ]
        },
        {
          "output_type": "stream",
          "name": "stdout",
          "text": [
            "[Epoch 168, Batch 300] loss: 0.073\n"
          ]
        },
        {
          "output_type": "stream",
          "name": "stderr",
          "text": [
            "Epoch 168/250:  52%|█████▏    | 406/782 [00:09<00:09, 41.28it/s]"
          ]
        },
        {
          "output_type": "stream",
          "name": "stdout",
          "text": [
            "[Epoch 168, Batch 400] loss: 0.073\n"
          ]
        },
        {
          "output_type": "stream",
          "name": "stderr",
          "text": [
            "Epoch 168/250:  65%|██████▍   | 506/782 [00:12<00:06, 40.08it/s]"
          ]
        },
        {
          "output_type": "stream",
          "name": "stdout",
          "text": [
            "[Epoch 168, Batch 500] loss: 0.074\n"
          ]
        },
        {
          "output_type": "stream",
          "name": "stderr",
          "text": [
            "Epoch 168/250:  77%|███████▋  | 606/782 [00:14<00:04, 41.25it/s]"
          ]
        },
        {
          "output_type": "stream",
          "name": "stdout",
          "text": [
            "[Epoch 168, Batch 600] loss: 0.073\n"
          ]
        },
        {
          "output_type": "stream",
          "name": "stderr",
          "text": [
            "Epoch 168/250:  90%|█████████ | 706/782 [00:17<00:01, 41.47it/s]"
          ]
        },
        {
          "output_type": "stream",
          "name": "stdout",
          "text": [
            "[Epoch 168, Batch 700] loss: 0.074\n"
          ]
        },
        {
          "output_type": "stream",
          "name": "stderr",
          "text": [
            "Epoch 168/250: 100%|██████████| 782/782 [00:19<00:00, 40.78it/s]\n"
          ]
        },
        {
          "output_type": "stream",
          "name": "stdout",
          "text": [
            "Checkpoint saved at /content/gdrive/My Drive/checkpoints/AsymmetricAutoencoderMinus1/checkpoint_epoch_168.pth\n"
          ]
        },
        {
          "output_type": "stream",
          "name": "stderr",
          "text": [
            "Epoch 169/250:  14%|█▎        | 106/782 [00:02<00:16, 41.48it/s]"
          ]
        },
        {
          "output_type": "stream",
          "name": "stdout",
          "text": [
            "[Epoch 169, Batch 100] loss: 0.074\n"
          ]
        },
        {
          "output_type": "stream",
          "name": "stderr",
          "text": [
            "Epoch 169/250:  26%|██▋       | 206/782 [00:05<00:13, 41.31it/s]"
          ]
        },
        {
          "output_type": "stream",
          "name": "stdout",
          "text": [
            "[Epoch 169, Batch 200] loss: 0.074\n"
          ]
        },
        {
          "output_type": "stream",
          "name": "stderr",
          "text": [
            "Epoch 169/250:  39%|███▉      | 306/782 [00:07<00:11, 41.24it/s]"
          ]
        },
        {
          "output_type": "stream",
          "name": "stdout",
          "text": [
            "[Epoch 169, Batch 300] loss: 0.074\n"
          ]
        },
        {
          "output_type": "stream",
          "name": "stderr",
          "text": [
            "Epoch 169/250:  52%|█████▏    | 406/782 [00:09<00:09, 41.04it/s]"
          ]
        },
        {
          "output_type": "stream",
          "name": "stdout",
          "text": [
            "[Epoch 169, Batch 400] loss: 0.074\n"
          ]
        },
        {
          "output_type": "stream",
          "name": "stderr",
          "text": [
            "Epoch 169/250:  65%|██████▍   | 506/782 [00:12<00:06, 40.78it/s]"
          ]
        },
        {
          "output_type": "stream",
          "name": "stdout",
          "text": [
            "[Epoch 169, Batch 500] loss: 0.073\n"
          ]
        },
        {
          "output_type": "stream",
          "name": "stderr",
          "text": [
            "Epoch 169/250:  77%|███████▋  | 606/782 [00:14<00:04, 41.60it/s]"
          ]
        },
        {
          "output_type": "stream",
          "name": "stdout",
          "text": [
            "[Epoch 169, Batch 600] loss: 0.073\n"
          ]
        },
        {
          "output_type": "stream",
          "name": "stderr",
          "text": [
            "Epoch 169/250:  90%|█████████ | 706/782 [00:17<00:01, 40.89it/s]"
          ]
        },
        {
          "output_type": "stream",
          "name": "stdout",
          "text": [
            "[Epoch 169, Batch 700] loss: 0.074\n"
          ]
        },
        {
          "output_type": "stream",
          "name": "stderr",
          "text": [
            "Epoch 169/250: 100%|██████████| 782/782 [00:19<00:00, 40.88it/s]\n"
          ]
        },
        {
          "output_type": "stream",
          "name": "stdout",
          "text": [
            "Checkpoint saved at /content/gdrive/My Drive/checkpoints/AsymmetricAutoencoderMinus1/checkpoint_epoch_169.pth\n"
          ]
        },
        {
          "output_type": "stream",
          "name": "stderr",
          "text": [
            "Epoch 170/250:  14%|█▎        | 106/782 [00:02<00:16, 41.34it/s]"
          ]
        },
        {
          "output_type": "stream",
          "name": "stdout",
          "text": [
            "[Epoch 170, Batch 100] loss: 0.074\n"
          ]
        },
        {
          "output_type": "stream",
          "name": "stderr",
          "text": [
            "Epoch 170/250:  26%|██▋       | 206/782 [00:05<00:14, 40.93it/s]"
          ]
        },
        {
          "output_type": "stream",
          "name": "stdout",
          "text": [
            "[Epoch 170, Batch 200] loss: 0.074\n"
          ]
        },
        {
          "output_type": "stream",
          "name": "stderr",
          "text": [
            "Epoch 170/250:  39%|███▉      | 306/782 [00:07<00:11, 41.65it/s]"
          ]
        },
        {
          "output_type": "stream",
          "name": "stdout",
          "text": [
            "[Epoch 170, Batch 300] loss: 0.073\n"
          ]
        },
        {
          "output_type": "stream",
          "name": "stderr",
          "text": [
            "Epoch 170/250:  52%|█████▏    | 406/782 [00:09<00:09, 40.69it/s]"
          ]
        },
        {
          "output_type": "stream",
          "name": "stdout",
          "text": [
            "[Epoch 170, Batch 400] loss: 0.074\n"
          ]
        },
        {
          "output_type": "stream",
          "name": "stderr",
          "text": [
            "Epoch 170/250:  65%|██████▍   | 506/782 [00:12<00:06, 41.08it/s]"
          ]
        },
        {
          "output_type": "stream",
          "name": "stdout",
          "text": [
            "[Epoch 170, Batch 500] loss: 0.074\n"
          ]
        },
        {
          "output_type": "stream",
          "name": "stderr",
          "text": [
            "Epoch 170/250:  77%|███████▋  | 606/782 [00:14<00:04, 41.06it/s]"
          ]
        },
        {
          "output_type": "stream",
          "name": "stdout",
          "text": [
            "[Epoch 170, Batch 600] loss: 0.074\n"
          ]
        },
        {
          "output_type": "stream",
          "name": "stderr",
          "text": [
            "Epoch 170/250:  90%|█████████ | 706/782 [00:17<00:01, 41.38it/s]"
          ]
        },
        {
          "output_type": "stream",
          "name": "stdout",
          "text": [
            "[Epoch 170, Batch 700] loss: 0.074\n"
          ]
        },
        {
          "output_type": "stream",
          "name": "stderr",
          "text": [
            "Epoch 170/250: 100%|██████████| 782/782 [00:19<00:00, 40.97it/s]\n"
          ]
        },
        {
          "output_type": "stream",
          "name": "stdout",
          "text": [
            "Checkpoint saved at /content/gdrive/My Drive/checkpoints/AsymmetricAutoencoderMinus1/checkpoint_epoch_170.pth\n",
            "Validation Loss after epoch 170: 0.0742\n"
          ]
        },
        {
          "output_type": "stream",
          "name": "stderr",
          "text": [
            "Epoch 171/250:  13%|█▎        | 105/782 [00:02<00:16, 41.48it/s]"
          ]
        },
        {
          "output_type": "stream",
          "name": "stdout",
          "text": [
            "[Epoch 171, Batch 100] loss: 0.073\n"
          ]
        },
        {
          "output_type": "stream",
          "name": "stderr",
          "text": [
            "Epoch 171/250:  26%|██▌       | 205/782 [00:05<00:13, 41.50it/s]"
          ]
        },
        {
          "output_type": "stream",
          "name": "stdout",
          "text": [
            "[Epoch 171, Batch 200] loss: 0.074\n"
          ]
        },
        {
          "output_type": "stream",
          "name": "stderr",
          "text": [
            "Epoch 171/250:  39%|███▉      | 305/782 [00:07<00:11, 41.27it/s]"
          ]
        },
        {
          "output_type": "stream",
          "name": "stdout",
          "text": [
            "[Epoch 171, Batch 300] loss: 0.074\n"
          ]
        },
        {
          "output_type": "stream",
          "name": "stderr",
          "text": [
            "Epoch 171/250:  52%|█████▏    | 405/782 [00:09<00:09, 40.70it/s]"
          ]
        },
        {
          "output_type": "stream",
          "name": "stdout",
          "text": [
            "[Epoch 171, Batch 400] loss: 0.074\n"
          ]
        },
        {
          "output_type": "stream",
          "name": "stderr",
          "text": [
            "Epoch 171/250:  65%|██████▍   | 505/782 [00:12<00:06, 41.34it/s]"
          ]
        },
        {
          "output_type": "stream",
          "name": "stdout",
          "text": [
            "[Epoch 171, Batch 500] loss: 0.075\n"
          ]
        },
        {
          "output_type": "stream",
          "name": "stderr",
          "text": [
            "Epoch 171/250:  77%|███████▋  | 605/782 [00:14<00:04, 41.49it/s]"
          ]
        },
        {
          "output_type": "stream",
          "name": "stdout",
          "text": [
            "[Epoch 171, Batch 600] loss: 0.074\n"
          ]
        },
        {
          "output_type": "stream",
          "name": "stderr",
          "text": [
            "Epoch 171/250:  90%|█████████ | 705/782 [00:17<00:01, 40.92it/s]"
          ]
        },
        {
          "output_type": "stream",
          "name": "stdout",
          "text": [
            "[Epoch 171, Batch 700] loss: 0.074\n"
          ]
        },
        {
          "output_type": "stream",
          "name": "stderr",
          "text": [
            "Epoch 171/250: 100%|██████████| 782/782 [00:19<00:00, 40.94it/s]\n"
          ]
        },
        {
          "output_type": "stream",
          "name": "stdout",
          "text": [
            "Checkpoint saved at /content/gdrive/My Drive/checkpoints/AsymmetricAutoencoderMinus1/checkpoint_epoch_171.pth\n"
          ]
        },
        {
          "output_type": "stream",
          "name": "stderr",
          "text": [
            "Epoch 172/250:  14%|█▎        | 106/782 [00:02<00:16, 41.66it/s]"
          ]
        },
        {
          "output_type": "stream",
          "name": "stdout",
          "text": [
            "[Epoch 172, Batch 100] loss: 0.074\n"
          ]
        },
        {
          "output_type": "stream",
          "name": "stderr",
          "text": [
            "Epoch 172/250:  26%|██▋       | 206/782 [00:05<00:14, 41.11it/s]"
          ]
        },
        {
          "output_type": "stream",
          "name": "stdout",
          "text": [
            "[Epoch 172, Batch 200] loss: 0.073\n"
          ]
        },
        {
          "output_type": "stream",
          "name": "stderr",
          "text": [
            "Epoch 172/250:  39%|███▉      | 306/782 [00:07<00:11, 41.46it/s]"
          ]
        },
        {
          "output_type": "stream",
          "name": "stdout",
          "text": [
            "[Epoch 172, Batch 300] loss: 0.074\n"
          ]
        },
        {
          "output_type": "stream",
          "name": "stderr",
          "text": [
            "Epoch 172/250:  52%|█████▏    | 406/782 [00:09<00:09, 41.20it/s]"
          ]
        },
        {
          "output_type": "stream",
          "name": "stdout",
          "text": [
            "[Epoch 172, Batch 400] loss: 0.074\n"
          ]
        },
        {
          "output_type": "stream",
          "name": "stderr",
          "text": [
            "Epoch 172/250:  65%|██████▍   | 506/782 [00:12<00:06, 40.82it/s]"
          ]
        },
        {
          "output_type": "stream",
          "name": "stdout",
          "text": [
            "[Epoch 172, Batch 500] loss: 0.075\n"
          ]
        },
        {
          "output_type": "stream",
          "name": "stderr",
          "text": [
            "Epoch 172/250:  77%|███████▋  | 606/782 [00:14<00:04, 41.55it/s]"
          ]
        },
        {
          "output_type": "stream",
          "name": "stdout",
          "text": [
            "[Epoch 172, Batch 600] loss: 0.074\n"
          ]
        },
        {
          "output_type": "stream",
          "name": "stderr",
          "text": [
            "Epoch 172/250:  90%|█████████ | 706/782 [00:17<00:01, 41.50it/s]"
          ]
        },
        {
          "output_type": "stream",
          "name": "stdout",
          "text": [
            "[Epoch 172, Batch 700] loss: 0.074\n"
          ]
        },
        {
          "output_type": "stream",
          "name": "stderr",
          "text": [
            "Epoch 172/250: 100%|██████████| 782/782 [00:19<00:00, 41.01it/s]\n"
          ]
        },
        {
          "output_type": "stream",
          "name": "stdout",
          "text": [
            "Checkpoint saved at /content/gdrive/My Drive/checkpoints/AsymmetricAutoencoderMinus1/checkpoint_epoch_172.pth\n"
          ]
        },
        {
          "output_type": "stream",
          "name": "stderr",
          "text": [
            "Epoch 173/250:  14%|█▎        | 106/782 [00:02<00:16, 41.54it/s]"
          ]
        },
        {
          "output_type": "stream",
          "name": "stdout",
          "text": [
            "[Epoch 173, Batch 100] loss: 0.074\n"
          ]
        },
        {
          "output_type": "stream",
          "name": "stderr",
          "text": [
            "Epoch 173/250:  26%|██▋       | 206/782 [00:05<00:13, 41.51it/s]"
          ]
        },
        {
          "output_type": "stream",
          "name": "stdout",
          "text": [
            "[Epoch 173, Batch 200] loss: 0.074\n"
          ]
        },
        {
          "output_type": "stream",
          "name": "stderr",
          "text": [
            "Epoch 173/250:  39%|███▉      | 306/782 [00:07<00:11, 41.22it/s]"
          ]
        },
        {
          "output_type": "stream",
          "name": "stdout",
          "text": [
            "[Epoch 173, Batch 300] loss: 0.074\n"
          ]
        },
        {
          "output_type": "stream",
          "name": "stderr",
          "text": [
            "Epoch 173/250:  52%|█████▏    | 406/782 [00:09<00:09, 41.07it/s]"
          ]
        },
        {
          "output_type": "stream",
          "name": "stdout",
          "text": [
            "[Epoch 173, Batch 400] loss: 0.074\n"
          ]
        },
        {
          "output_type": "stream",
          "name": "stderr",
          "text": [
            "Epoch 173/250:  65%|██████▍   | 506/782 [00:12<00:06, 40.86it/s]"
          ]
        },
        {
          "output_type": "stream",
          "name": "stdout",
          "text": [
            "[Epoch 173, Batch 500] loss: 0.074\n"
          ]
        },
        {
          "output_type": "stream",
          "name": "stderr",
          "text": [
            "Epoch 173/250:  77%|███████▋  | 606/782 [00:14<00:04, 41.55it/s]"
          ]
        },
        {
          "output_type": "stream",
          "name": "stdout",
          "text": [
            "[Epoch 173, Batch 600] loss: 0.074\n"
          ]
        },
        {
          "output_type": "stream",
          "name": "stderr",
          "text": [
            "Epoch 173/250:  90%|█████████ | 706/782 [00:17<00:01, 41.18it/s]"
          ]
        },
        {
          "output_type": "stream",
          "name": "stdout",
          "text": [
            "[Epoch 173, Batch 700] loss: 0.073\n"
          ]
        },
        {
          "output_type": "stream",
          "name": "stderr",
          "text": [
            "Epoch 173/250: 100%|██████████| 782/782 [00:19<00:00, 40.99it/s]\n"
          ]
        },
        {
          "output_type": "stream",
          "name": "stdout",
          "text": [
            "Checkpoint saved at /content/gdrive/My Drive/checkpoints/AsymmetricAutoencoderMinus1/checkpoint_epoch_173.pth\n"
          ]
        },
        {
          "output_type": "stream",
          "name": "stderr",
          "text": [
            "Epoch 174/250:  14%|█▎        | 106/782 [00:02<00:16, 41.73it/s]"
          ]
        },
        {
          "output_type": "stream",
          "name": "stdout",
          "text": [
            "[Epoch 174, Batch 100] loss: 0.074\n"
          ]
        },
        {
          "output_type": "stream",
          "name": "stderr",
          "text": [
            "Epoch 174/250:  26%|██▋       | 206/782 [00:05<00:14, 40.95it/s]"
          ]
        },
        {
          "output_type": "stream",
          "name": "stdout",
          "text": [
            "[Epoch 174, Batch 200] loss: 0.075\n"
          ]
        },
        {
          "output_type": "stream",
          "name": "stderr",
          "text": [
            "Epoch 174/250:  39%|███▉      | 306/782 [00:07<00:11, 41.50it/s]"
          ]
        },
        {
          "output_type": "stream",
          "name": "stdout",
          "text": [
            "[Epoch 174, Batch 300] loss: 0.073\n"
          ]
        },
        {
          "output_type": "stream",
          "name": "stderr",
          "text": [
            "Epoch 174/250:  52%|█████▏    | 406/782 [00:09<00:09, 41.50it/s]"
          ]
        },
        {
          "output_type": "stream",
          "name": "stdout",
          "text": [
            "[Epoch 174, Batch 400] loss: 0.074\n"
          ]
        },
        {
          "output_type": "stream",
          "name": "stderr",
          "text": [
            "Epoch 174/250:  65%|██████▍   | 506/782 [00:12<00:06, 40.62it/s]"
          ]
        },
        {
          "output_type": "stream",
          "name": "stdout",
          "text": [
            "[Epoch 174, Batch 500] loss: 0.074\n"
          ]
        },
        {
          "output_type": "stream",
          "name": "stderr",
          "text": [
            "Epoch 174/250:  77%|███████▋  | 606/782 [00:14<00:04, 41.56it/s]"
          ]
        },
        {
          "output_type": "stream",
          "name": "stdout",
          "text": [
            "[Epoch 174, Batch 600] loss: 0.074\n"
          ]
        },
        {
          "output_type": "stream",
          "name": "stderr",
          "text": [
            "Epoch 174/250:  90%|█████████ | 706/782 [00:17<00:01, 41.35it/s]"
          ]
        },
        {
          "output_type": "stream",
          "name": "stdout",
          "text": [
            "[Epoch 174, Batch 700] loss: 0.074\n"
          ]
        },
        {
          "output_type": "stream",
          "name": "stderr",
          "text": [
            "Epoch 174/250: 100%|██████████| 782/782 [00:19<00:00, 40.98it/s]\n"
          ]
        },
        {
          "output_type": "stream",
          "name": "stdout",
          "text": [
            "Checkpoint saved at /content/gdrive/My Drive/checkpoints/AsymmetricAutoencoderMinus1/checkpoint_epoch_174.pth\n"
          ]
        },
        {
          "output_type": "stream",
          "name": "stderr",
          "text": [
            "Epoch 175/250:  14%|█▎        | 106/782 [00:02<00:16, 41.38it/s]"
          ]
        },
        {
          "output_type": "stream",
          "name": "stdout",
          "text": [
            "[Epoch 175, Batch 100] loss: 0.074\n"
          ]
        },
        {
          "output_type": "stream",
          "name": "stderr",
          "text": [
            "Epoch 175/250:  26%|██▋       | 206/782 [00:05<00:13, 41.32it/s]"
          ]
        },
        {
          "output_type": "stream",
          "name": "stdout",
          "text": [
            "[Epoch 175, Batch 200] loss: 0.074\n"
          ]
        },
        {
          "output_type": "stream",
          "name": "stderr",
          "text": [
            "Epoch 175/250:  39%|███▉      | 306/782 [00:07<00:11, 41.29it/s]"
          ]
        },
        {
          "output_type": "stream",
          "name": "stdout",
          "text": [
            "[Epoch 175, Batch 300] loss: 0.074\n"
          ]
        },
        {
          "output_type": "stream",
          "name": "stderr",
          "text": [
            "Epoch 175/250:  52%|█████▏    | 406/782 [00:09<00:09, 41.13it/s]"
          ]
        },
        {
          "output_type": "stream",
          "name": "stdout",
          "text": [
            "[Epoch 175, Batch 400] loss: 0.074\n"
          ]
        },
        {
          "output_type": "stream",
          "name": "stderr",
          "text": [
            "Epoch 175/250:  65%|██████▍   | 506/782 [00:12<00:06, 40.69it/s]"
          ]
        },
        {
          "output_type": "stream",
          "name": "stdout",
          "text": [
            "[Epoch 175, Batch 500] loss: 0.074\n"
          ]
        },
        {
          "output_type": "stream",
          "name": "stderr",
          "text": [
            "Epoch 175/250:  77%|███████▋  | 606/782 [00:14<00:04, 41.53it/s]"
          ]
        },
        {
          "output_type": "stream",
          "name": "stdout",
          "text": [
            "[Epoch 175, Batch 600] loss: 0.074\n"
          ]
        },
        {
          "output_type": "stream",
          "name": "stderr",
          "text": [
            "Epoch 175/250:  90%|█████████ | 706/782 [00:17<00:01, 41.11it/s]"
          ]
        },
        {
          "output_type": "stream",
          "name": "stdout",
          "text": [
            "[Epoch 175, Batch 700] loss: 0.073\n"
          ]
        },
        {
          "output_type": "stream",
          "name": "stderr",
          "text": [
            "Epoch 175/250: 100%|██████████| 782/782 [00:19<00:00, 41.00it/s]\n"
          ]
        },
        {
          "output_type": "stream",
          "name": "stdout",
          "text": [
            "Checkpoint saved at /content/gdrive/My Drive/checkpoints/AsymmetricAutoencoderMinus1/checkpoint_epoch_175.pth\n"
          ]
        },
        {
          "output_type": "stream",
          "name": "stderr",
          "text": [
            "Epoch 176/250:  14%|█▎        | 106/782 [00:02<00:16, 41.57it/s]"
          ]
        },
        {
          "output_type": "stream",
          "name": "stdout",
          "text": [
            "[Epoch 176, Batch 100] loss: 0.074\n"
          ]
        },
        {
          "output_type": "stream",
          "name": "stderr",
          "text": [
            "Epoch 176/250:  26%|██▋       | 206/782 [00:05<00:13, 41.18it/s]"
          ]
        },
        {
          "output_type": "stream",
          "name": "stdout",
          "text": [
            "[Epoch 176, Batch 200] loss: 0.073\n"
          ]
        },
        {
          "output_type": "stream",
          "name": "stderr",
          "text": [
            "Epoch 176/250:  39%|███▉      | 306/782 [00:07<00:11, 41.62it/s]"
          ]
        },
        {
          "output_type": "stream",
          "name": "stdout",
          "text": [
            "[Epoch 176, Batch 300] loss: 0.074\n"
          ]
        },
        {
          "output_type": "stream",
          "name": "stderr",
          "text": [
            "Epoch 176/250:  52%|█████▏    | 406/782 [00:09<00:09, 41.29it/s]"
          ]
        },
        {
          "output_type": "stream",
          "name": "stdout",
          "text": [
            "[Epoch 176, Batch 400] loss: 0.073\n"
          ]
        },
        {
          "output_type": "stream",
          "name": "stderr",
          "text": [
            "Epoch 176/250:  65%|██████▍   | 506/782 [00:12<00:06, 40.72it/s]"
          ]
        },
        {
          "output_type": "stream",
          "name": "stdout",
          "text": [
            "[Epoch 176, Batch 500] loss: 0.074\n"
          ]
        },
        {
          "output_type": "stream",
          "name": "stderr",
          "text": [
            "Epoch 176/250:  77%|███████▋  | 606/782 [00:14<00:04, 41.12it/s]"
          ]
        },
        {
          "output_type": "stream",
          "name": "stdout",
          "text": [
            "[Epoch 176, Batch 600] loss: 0.074\n"
          ]
        },
        {
          "output_type": "stream",
          "name": "stderr",
          "text": [
            "Epoch 176/250:  90%|█████████ | 706/782 [00:17<00:01, 41.56it/s]"
          ]
        },
        {
          "output_type": "stream",
          "name": "stdout",
          "text": [
            "[Epoch 176, Batch 700] loss: 0.074\n"
          ]
        },
        {
          "output_type": "stream",
          "name": "stderr",
          "text": [
            "Epoch 176/250: 100%|██████████| 782/782 [00:19<00:00, 41.01it/s]\n"
          ]
        },
        {
          "output_type": "stream",
          "name": "stdout",
          "text": [
            "Checkpoint saved at /content/gdrive/My Drive/checkpoints/AsymmetricAutoencoderMinus1/checkpoint_epoch_176.pth\n"
          ]
        },
        {
          "output_type": "stream",
          "name": "stderr",
          "text": [
            "Epoch 177/250:  14%|█▎        | 106/782 [00:02<00:16, 41.16it/s]"
          ]
        },
        {
          "output_type": "stream",
          "name": "stdout",
          "text": [
            "[Epoch 177, Batch 100] loss: 0.075\n"
          ]
        },
        {
          "output_type": "stream",
          "name": "stderr",
          "text": [
            "Epoch 177/250:  26%|██▋       | 206/782 [00:05<00:13, 41.15it/s]"
          ]
        },
        {
          "output_type": "stream",
          "name": "stdout",
          "text": [
            "[Epoch 177, Batch 200] loss: 0.073\n"
          ]
        },
        {
          "output_type": "stream",
          "name": "stderr",
          "text": [
            "Epoch 177/250:  39%|███▉      | 306/782 [00:07<00:11, 41.55it/s]"
          ]
        },
        {
          "output_type": "stream",
          "name": "stdout",
          "text": [
            "[Epoch 177, Batch 300] loss: 0.074\n"
          ]
        },
        {
          "output_type": "stream",
          "name": "stderr",
          "text": [
            "Epoch 177/250:  52%|█████▏    | 406/782 [00:09<00:09, 41.27it/s]"
          ]
        },
        {
          "output_type": "stream",
          "name": "stdout",
          "text": [
            "[Epoch 177, Batch 400] loss: 0.073\n"
          ]
        },
        {
          "output_type": "stream",
          "name": "stderr",
          "text": [
            "Epoch 177/250:  65%|██████▍   | 506/782 [00:12<00:06, 41.04it/s]"
          ]
        },
        {
          "output_type": "stream",
          "name": "stdout",
          "text": [
            "[Epoch 177, Batch 500] loss: 0.074\n"
          ]
        },
        {
          "output_type": "stream",
          "name": "stderr",
          "text": [
            "Epoch 177/250:  77%|███████▋  | 606/782 [00:14<00:04, 41.31it/s]"
          ]
        },
        {
          "output_type": "stream",
          "name": "stdout",
          "text": [
            "[Epoch 177, Batch 600] loss: 0.074\n"
          ]
        },
        {
          "output_type": "stream",
          "name": "stderr",
          "text": [
            "Epoch 177/250:  90%|█████████ | 706/782 [00:17<00:01, 41.09it/s]"
          ]
        },
        {
          "output_type": "stream",
          "name": "stdout",
          "text": [
            "[Epoch 177, Batch 700] loss: 0.074\n"
          ]
        },
        {
          "output_type": "stream",
          "name": "stderr",
          "text": [
            "Epoch 177/250: 100%|██████████| 782/782 [00:19<00:00, 40.94it/s]\n"
          ]
        },
        {
          "output_type": "stream",
          "name": "stdout",
          "text": [
            "Checkpoint saved at /content/gdrive/My Drive/checkpoints/AsymmetricAutoencoderMinus1/checkpoint_epoch_177.pth\n"
          ]
        },
        {
          "output_type": "stream",
          "name": "stderr",
          "text": [
            "Epoch 178/250:  14%|█▎        | 106/782 [00:02<00:16, 42.07it/s]"
          ]
        },
        {
          "output_type": "stream",
          "name": "stdout",
          "text": [
            "[Epoch 178, Batch 100] loss: 0.074\n"
          ]
        },
        {
          "output_type": "stream",
          "name": "stderr",
          "text": [
            "Epoch 178/250:  26%|██▋       | 206/782 [00:05<00:14, 41.13it/s]"
          ]
        },
        {
          "output_type": "stream",
          "name": "stdout",
          "text": [
            "[Epoch 178, Batch 200] loss: 0.074\n"
          ]
        },
        {
          "output_type": "stream",
          "name": "stderr",
          "text": [
            "Epoch 178/250:  39%|███▉      | 306/782 [00:07<00:11, 41.14it/s]"
          ]
        },
        {
          "output_type": "stream",
          "name": "stdout",
          "text": [
            "[Epoch 178, Batch 300] loss: 0.074\n"
          ]
        },
        {
          "output_type": "stream",
          "name": "stderr",
          "text": [
            "Epoch 178/250:  52%|█████▏    | 406/782 [00:09<00:09, 41.15it/s]"
          ]
        },
        {
          "output_type": "stream",
          "name": "stdout",
          "text": [
            "[Epoch 178, Batch 400] loss: 0.074\n"
          ]
        },
        {
          "output_type": "stream",
          "name": "stderr",
          "text": [
            "Epoch 178/250:  65%|██████▍   | 506/782 [00:12<00:06, 40.52it/s]"
          ]
        },
        {
          "output_type": "stream",
          "name": "stdout",
          "text": [
            "[Epoch 178, Batch 500] loss: 0.074\n"
          ]
        },
        {
          "output_type": "stream",
          "name": "stderr",
          "text": [
            "Epoch 178/250:  77%|███████▋  | 606/782 [00:14<00:04, 41.13it/s]"
          ]
        },
        {
          "output_type": "stream",
          "name": "stdout",
          "text": [
            "[Epoch 178, Batch 600] loss: 0.073\n"
          ]
        },
        {
          "output_type": "stream",
          "name": "stderr",
          "text": [
            "Epoch 178/250:  90%|█████████ | 706/782 [00:17<00:01, 41.68it/s]"
          ]
        },
        {
          "output_type": "stream",
          "name": "stdout",
          "text": [
            "[Epoch 178, Batch 700] loss: 0.073\n"
          ]
        },
        {
          "output_type": "stream",
          "name": "stderr",
          "text": [
            "Epoch 178/250: 100%|██████████| 782/782 [00:19<00:00, 41.08it/s]\n"
          ]
        },
        {
          "output_type": "stream",
          "name": "stdout",
          "text": [
            "Checkpoint saved at /content/gdrive/My Drive/checkpoints/AsymmetricAutoencoderMinus1/checkpoint_epoch_178.pth\n"
          ]
        },
        {
          "output_type": "stream",
          "name": "stderr",
          "text": [
            "Epoch 179/250:  14%|█▎        | 106/782 [00:02<00:16, 40.87it/s]"
          ]
        },
        {
          "output_type": "stream",
          "name": "stdout",
          "text": [
            "[Epoch 179, Batch 100] loss: 0.073\n"
          ]
        },
        {
          "output_type": "stream",
          "name": "stderr",
          "text": [
            "Epoch 179/250:  26%|██▋       | 206/782 [00:05<00:13, 41.51it/s]"
          ]
        },
        {
          "output_type": "stream",
          "name": "stdout",
          "text": [
            "[Epoch 179, Batch 200] loss: 0.074\n"
          ]
        },
        {
          "output_type": "stream",
          "name": "stderr",
          "text": [
            "Epoch 179/250:  39%|███▉      | 306/782 [00:07<00:11, 41.42it/s]"
          ]
        },
        {
          "output_type": "stream",
          "name": "stdout",
          "text": [
            "[Epoch 179, Batch 300] loss: 0.074\n"
          ]
        },
        {
          "output_type": "stream",
          "name": "stderr",
          "text": [
            "Epoch 179/250:  52%|█████▏    | 406/782 [00:09<00:09, 41.08it/s]"
          ]
        },
        {
          "output_type": "stream",
          "name": "stdout",
          "text": [
            "[Epoch 179, Batch 400] loss: 0.074\n"
          ]
        },
        {
          "output_type": "stream",
          "name": "stderr",
          "text": [
            "Epoch 179/250:  65%|██████▍   | 506/782 [00:12<00:06, 41.09it/s]"
          ]
        },
        {
          "output_type": "stream",
          "name": "stdout",
          "text": [
            "[Epoch 179, Batch 500] loss: 0.074\n"
          ]
        },
        {
          "output_type": "stream",
          "name": "stderr",
          "text": [
            "Epoch 179/250:  77%|███████▋  | 606/782 [00:14<00:04, 41.36it/s]"
          ]
        },
        {
          "output_type": "stream",
          "name": "stdout",
          "text": [
            "[Epoch 179, Batch 600] loss: 0.073\n"
          ]
        },
        {
          "output_type": "stream",
          "name": "stderr",
          "text": [
            "Epoch 179/250:  90%|█████████ | 706/782 [00:17<00:01, 40.95it/s]"
          ]
        },
        {
          "output_type": "stream",
          "name": "stdout",
          "text": [
            "[Epoch 179, Batch 700] loss: 0.074\n"
          ]
        },
        {
          "output_type": "stream",
          "name": "stderr",
          "text": [
            "Epoch 179/250: 100%|██████████| 782/782 [00:19<00:00, 40.91it/s]\n"
          ]
        },
        {
          "output_type": "stream",
          "name": "stdout",
          "text": [
            "Checkpoint saved at /content/gdrive/My Drive/checkpoints/AsymmetricAutoencoderMinus1/checkpoint_epoch_179.pth\n"
          ]
        },
        {
          "output_type": "stream",
          "name": "stderr",
          "text": [
            "Epoch 180/250:  14%|█▎        | 106/782 [00:02<00:16, 41.69it/s]"
          ]
        },
        {
          "output_type": "stream",
          "name": "stdout",
          "text": [
            "[Epoch 180, Batch 100] loss: 0.073\n"
          ]
        },
        {
          "output_type": "stream",
          "name": "stderr",
          "text": [
            "Epoch 180/250:  26%|██▋       | 206/782 [00:05<00:13, 41.23it/s]"
          ]
        },
        {
          "output_type": "stream",
          "name": "stdout",
          "text": [
            "[Epoch 180, Batch 200] loss: 0.073\n"
          ]
        },
        {
          "output_type": "stream",
          "name": "stderr",
          "text": [
            "Epoch 180/250:  39%|███▉      | 306/782 [00:07<00:11, 41.30it/s]"
          ]
        },
        {
          "output_type": "stream",
          "name": "stdout",
          "text": [
            "[Epoch 180, Batch 300] loss: 0.074\n"
          ]
        },
        {
          "output_type": "stream",
          "name": "stderr",
          "text": [
            "Epoch 180/250:  52%|█████▏    | 406/782 [00:09<00:09, 40.67it/s]"
          ]
        },
        {
          "output_type": "stream",
          "name": "stdout",
          "text": [
            "[Epoch 180, Batch 400] loss: 0.074\n"
          ]
        },
        {
          "output_type": "stream",
          "name": "stderr",
          "text": [
            "Epoch 180/250:  65%|██████▍   | 506/782 [00:12<00:06, 41.14it/s]"
          ]
        },
        {
          "output_type": "stream",
          "name": "stdout",
          "text": [
            "[Epoch 180, Batch 500] loss: 0.074\n"
          ]
        },
        {
          "output_type": "stream",
          "name": "stderr",
          "text": [
            "Epoch 180/250:  77%|███████▋  | 606/782 [00:14<00:04, 41.08it/s]"
          ]
        },
        {
          "output_type": "stream",
          "name": "stdout",
          "text": [
            "[Epoch 180, Batch 600] loss: 0.075\n"
          ]
        },
        {
          "output_type": "stream",
          "name": "stderr",
          "text": [
            "Epoch 180/250:  90%|█████████ | 706/782 [00:17<00:01, 41.28it/s]"
          ]
        },
        {
          "output_type": "stream",
          "name": "stdout",
          "text": [
            "[Epoch 180, Batch 700] loss: 0.074\n"
          ]
        },
        {
          "output_type": "stream",
          "name": "stderr",
          "text": [
            "Epoch 180/250: 100%|██████████| 782/782 [00:19<00:00, 41.00it/s]\n"
          ]
        },
        {
          "output_type": "stream",
          "name": "stdout",
          "text": [
            "Checkpoint saved at /content/gdrive/My Drive/checkpoints/AsymmetricAutoencoderMinus1/checkpoint_epoch_180.pth\n",
            "Validation Loss after epoch 180: 0.0742\n"
          ]
        },
        {
          "output_type": "stream",
          "name": "stderr",
          "text": [
            "Epoch 181/250:  14%|█▎        | 106/782 [00:02<00:16, 41.64it/s]"
          ]
        },
        {
          "output_type": "stream",
          "name": "stdout",
          "text": [
            "[Epoch 181, Batch 100] loss: 0.075\n"
          ]
        },
        {
          "output_type": "stream",
          "name": "stderr",
          "text": [
            "Epoch 181/250:  26%|██▋       | 206/782 [00:05<00:13, 41.30it/s]"
          ]
        },
        {
          "output_type": "stream",
          "name": "stdout",
          "text": [
            "[Epoch 181, Batch 200] loss: 0.074\n"
          ]
        },
        {
          "output_type": "stream",
          "name": "stderr",
          "text": [
            "Epoch 181/250:  39%|███▉      | 306/782 [00:07<00:11, 41.17it/s]"
          ]
        },
        {
          "output_type": "stream",
          "name": "stdout",
          "text": [
            "[Epoch 181, Batch 300] loss: 0.074\n"
          ]
        },
        {
          "output_type": "stream",
          "name": "stderr",
          "text": [
            "Epoch 181/250:  52%|█████▏    | 406/782 [00:09<00:09, 40.36it/s]"
          ]
        },
        {
          "output_type": "stream",
          "name": "stdout",
          "text": [
            "[Epoch 181, Batch 400] loss: 0.073\n"
          ]
        },
        {
          "output_type": "stream",
          "name": "stderr",
          "text": [
            "Epoch 181/250:  65%|██████▍   | 506/782 [00:12<00:06, 41.48it/s]"
          ]
        },
        {
          "output_type": "stream",
          "name": "stdout",
          "text": [
            "[Epoch 181, Batch 500] loss: 0.073\n"
          ]
        },
        {
          "output_type": "stream",
          "name": "stderr",
          "text": [
            "Epoch 181/250:  77%|███████▋  | 606/782 [00:14<00:04, 41.33it/s]"
          ]
        },
        {
          "output_type": "stream",
          "name": "stdout",
          "text": [
            "[Epoch 181, Batch 600] loss: 0.073\n"
          ]
        },
        {
          "output_type": "stream",
          "name": "stderr",
          "text": [
            "Epoch 181/250:  90%|█████████ | 706/782 [00:17<00:01, 41.03it/s]"
          ]
        },
        {
          "output_type": "stream",
          "name": "stdout",
          "text": [
            "[Epoch 181, Batch 700] loss: 0.074\n"
          ]
        },
        {
          "output_type": "stream",
          "name": "stderr",
          "text": [
            "Epoch 181/250: 100%|██████████| 782/782 [00:19<00:00, 41.05it/s]\n"
          ]
        },
        {
          "output_type": "stream",
          "name": "stdout",
          "text": [
            "Checkpoint saved at /content/gdrive/My Drive/checkpoints/AsymmetricAutoencoderMinus1/checkpoint_epoch_181.pth\n"
          ]
        },
        {
          "output_type": "stream",
          "name": "stderr",
          "text": [
            "Epoch 182/250:  14%|█▎        | 106/782 [00:02<00:16, 41.55it/s]"
          ]
        },
        {
          "output_type": "stream",
          "name": "stdout",
          "text": [
            "[Epoch 182, Batch 100] loss: 0.074\n"
          ]
        },
        {
          "output_type": "stream",
          "name": "stderr",
          "text": [
            "Epoch 182/250:  26%|██▋       | 206/782 [00:05<00:14, 41.07it/s]"
          ]
        },
        {
          "output_type": "stream",
          "name": "stdout",
          "text": [
            "[Epoch 182, Batch 200] loss: 0.074\n"
          ]
        },
        {
          "output_type": "stream",
          "name": "stderr",
          "text": [
            "Epoch 182/250:  39%|███▉      | 306/782 [00:07<00:11, 41.47it/s]"
          ]
        },
        {
          "output_type": "stream",
          "name": "stdout",
          "text": [
            "[Epoch 182, Batch 300] loss: 0.074\n"
          ]
        },
        {
          "output_type": "stream",
          "name": "stderr",
          "text": [
            "Epoch 182/250:  52%|█████▏    | 406/782 [00:09<00:09, 41.38it/s]"
          ]
        },
        {
          "output_type": "stream",
          "name": "stdout",
          "text": [
            "[Epoch 182, Batch 400] loss: 0.073\n"
          ]
        },
        {
          "output_type": "stream",
          "name": "stderr",
          "text": [
            "Epoch 182/250:  65%|██████▍   | 506/782 [00:12<00:06, 40.48it/s]"
          ]
        },
        {
          "output_type": "stream",
          "name": "stdout",
          "text": [
            "[Epoch 182, Batch 500] loss: 0.073\n"
          ]
        },
        {
          "output_type": "stream",
          "name": "stderr",
          "text": [
            "Epoch 182/250:  77%|███████▋  | 606/782 [00:14<00:04, 41.23it/s]"
          ]
        },
        {
          "output_type": "stream",
          "name": "stdout",
          "text": [
            "[Epoch 182, Batch 600] loss: 0.074\n"
          ]
        },
        {
          "output_type": "stream",
          "name": "stderr",
          "text": [
            "Epoch 182/250:  90%|█████████ | 706/782 [00:17<00:01, 41.36it/s]"
          ]
        },
        {
          "output_type": "stream",
          "name": "stdout",
          "text": [
            "[Epoch 182, Batch 700] loss: 0.074\n"
          ]
        },
        {
          "output_type": "stream",
          "name": "stderr",
          "text": [
            "Epoch 182/250: 100%|██████████| 782/782 [00:19<00:00, 40.97it/s]\n"
          ]
        },
        {
          "output_type": "stream",
          "name": "stdout",
          "text": [
            "Checkpoint saved at /content/gdrive/My Drive/checkpoints/AsymmetricAutoencoderMinus1/checkpoint_epoch_182.pth\n"
          ]
        },
        {
          "output_type": "stream",
          "name": "stderr",
          "text": [
            "Epoch 183/250:  14%|█▎        | 106/782 [00:02<00:16, 41.55it/s]"
          ]
        },
        {
          "output_type": "stream",
          "name": "stdout",
          "text": [
            "[Epoch 183, Batch 100] loss: 0.075\n"
          ]
        },
        {
          "output_type": "stream",
          "name": "stderr",
          "text": [
            "Epoch 183/250:  26%|██▋       | 206/782 [00:05<00:13, 41.44it/s]"
          ]
        },
        {
          "output_type": "stream",
          "name": "stdout",
          "text": [
            "[Epoch 183, Batch 200] loss: 0.074\n"
          ]
        },
        {
          "output_type": "stream",
          "name": "stderr",
          "text": [
            "Epoch 183/250:  39%|███▉      | 306/782 [00:07<00:11, 40.88it/s]"
          ]
        },
        {
          "output_type": "stream",
          "name": "stdout",
          "text": [
            "[Epoch 183, Batch 300] loss: 0.074\n"
          ]
        },
        {
          "output_type": "stream",
          "name": "stderr",
          "text": [
            "Epoch 183/250:  52%|█████▏    | 406/782 [00:09<00:09, 41.30it/s]"
          ]
        },
        {
          "output_type": "stream",
          "name": "stdout",
          "text": [
            "[Epoch 183, Batch 400] loss: 0.074\n"
          ]
        },
        {
          "output_type": "stream",
          "name": "stderr",
          "text": [
            "Epoch 183/250:  65%|██████▍   | 506/782 [00:12<00:06, 41.00it/s]"
          ]
        },
        {
          "output_type": "stream",
          "name": "stdout",
          "text": [
            "[Epoch 183, Batch 500] loss: 0.073\n"
          ]
        },
        {
          "output_type": "stream",
          "name": "stderr",
          "text": [
            "Epoch 183/250:  77%|███████▋  | 606/782 [00:14<00:04, 41.56it/s]"
          ]
        },
        {
          "output_type": "stream",
          "name": "stdout",
          "text": [
            "[Epoch 183, Batch 600] loss: 0.074\n"
          ]
        },
        {
          "output_type": "stream",
          "name": "stderr",
          "text": [
            "Epoch 183/250:  90%|█████████ | 706/782 [00:17<00:01, 41.16it/s]"
          ]
        },
        {
          "output_type": "stream",
          "name": "stdout",
          "text": [
            "[Epoch 183, Batch 700] loss: 0.074\n"
          ]
        },
        {
          "output_type": "stream",
          "name": "stderr",
          "text": [
            "Epoch 183/250: 100%|██████████| 782/782 [00:19<00:00, 40.97it/s]\n"
          ]
        },
        {
          "output_type": "stream",
          "name": "stdout",
          "text": [
            "Checkpoint saved at /content/gdrive/My Drive/checkpoints/AsymmetricAutoencoderMinus1/checkpoint_epoch_183.pth\n"
          ]
        },
        {
          "output_type": "stream",
          "name": "stderr",
          "text": [
            "Epoch 184/250:  14%|█▎        | 106/782 [00:02<00:16, 41.79it/s]"
          ]
        },
        {
          "output_type": "stream",
          "name": "stdout",
          "text": [
            "[Epoch 184, Batch 100] loss: 0.074\n"
          ]
        },
        {
          "output_type": "stream",
          "name": "stderr",
          "text": [
            "Epoch 184/250:  26%|██▋       | 206/782 [00:05<00:14, 41.10it/s]"
          ]
        },
        {
          "output_type": "stream",
          "name": "stdout",
          "text": [
            "[Epoch 184, Batch 200] loss: 0.074\n"
          ]
        },
        {
          "output_type": "stream",
          "name": "stderr",
          "text": [
            "Epoch 184/250:  39%|███▉      | 306/782 [00:07<00:11, 41.46it/s]"
          ]
        },
        {
          "output_type": "stream",
          "name": "stdout",
          "text": [
            "[Epoch 184, Batch 300] loss: 0.073\n"
          ]
        },
        {
          "output_type": "stream",
          "name": "stderr",
          "text": [
            "Epoch 184/250:  52%|█████▏    | 406/782 [00:09<00:09, 41.36it/s]"
          ]
        },
        {
          "output_type": "stream",
          "name": "stdout",
          "text": [
            "[Epoch 184, Batch 400] loss: 0.074\n"
          ]
        },
        {
          "output_type": "stream",
          "name": "stderr",
          "text": [
            "Epoch 184/250:  65%|██████▍   | 506/782 [00:12<00:06, 40.48it/s]"
          ]
        },
        {
          "output_type": "stream",
          "name": "stdout",
          "text": [
            "[Epoch 184, Batch 500] loss: 0.074\n"
          ]
        },
        {
          "output_type": "stream",
          "name": "stderr",
          "text": [
            "Epoch 184/250:  77%|███████▋  | 606/782 [00:14<00:04, 41.46it/s]"
          ]
        },
        {
          "output_type": "stream",
          "name": "stdout",
          "text": [
            "[Epoch 184, Batch 600] loss: 0.074\n"
          ]
        },
        {
          "output_type": "stream",
          "name": "stderr",
          "text": [
            "Epoch 184/250:  90%|█████████ | 706/782 [00:17<00:01, 41.39it/s]"
          ]
        },
        {
          "output_type": "stream",
          "name": "stdout",
          "text": [
            "[Epoch 184, Batch 700] loss: 0.074\n"
          ]
        },
        {
          "output_type": "stream",
          "name": "stderr",
          "text": [
            "Epoch 184/250: 100%|██████████| 782/782 [00:19<00:00, 40.94it/s]\n"
          ]
        },
        {
          "output_type": "stream",
          "name": "stdout",
          "text": [
            "Checkpoint saved at /content/gdrive/My Drive/checkpoints/AsymmetricAutoencoderMinus1/checkpoint_epoch_184.pth\n"
          ]
        },
        {
          "output_type": "stream",
          "name": "stderr",
          "text": [
            "Epoch 185/250:  14%|█▎        | 106/782 [00:02<00:16, 41.49it/s]"
          ]
        },
        {
          "output_type": "stream",
          "name": "stdout",
          "text": [
            "[Epoch 185, Batch 100] loss: 0.074\n"
          ]
        },
        {
          "output_type": "stream",
          "name": "stderr",
          "text": [
            "Epoch 185/250:  26%|██▋       | 206/782 [00:05<00:13, 41.49it/s]"
          ]
        },
        {
          "output_type": "stream",
          "name": "stdout",
          "text": [
            "[Epoch 185, Batch 200] loss: 0.074\n"
          ]
        },
        {
          "output_type": "stream",
          "name": "stderr",
          "text": [
            "Epoch 185/250:  39%|███▉      | 306/782 [00:07<00:11, 41.45it/s]"
          ]
        },
        {
          "output_type": "stream",
          "name": "stdout",
          "text": [
            "[Epoch 185, Batch 300] loss: 0.074\n"
          ]
        },
        {
          "output_type": "stream",
          "name": "stderr",
          "text": [
            "Epoch 185/250:  52%|█████▏    | 406/782 [00:09<00:09, 41.40it/s]"
          ]
        },
        {
          "output_type": "stream",
          "name": "stdout",
          "text": [
            "[Epoch 185, Batch 400] loss: 0.073\n"
          ]
        },
        {
          "output_type": "stream",
          "name": "stderr",
          "text": [
            "Epoch 185/250:  65%|██████▍   | 506/782 [00:12<00:06, 40.86it/s]"
          ]
        },
        {
          "output_type": "stream",
          "name": "stdout",
          "text": [
            "[Epoch 185, Batch 500] loss: 0.074\n"
          ]
        },
        {
          "output_type": "stream",
          "name": "stderr",
          "text": [
            "Epoch 185/250:  77%|███████▋  | 606/782 [00:14<00:04, 41.08it/s]"
          ]
        },
        {
          "output_type": "stream",
          "name": "stdout",
          "text": [
            "[Epoch 185, Batch 600] loss: 0.074\n"
          ]
        },
        {
          "output_type": "stream",
          "name": "stderr",
          "text": [
            "Epoch 185/250:  90%|█████████ | 706/782 [00:17<00:01, 41.22it/s]"
          ]
        },
        {
          "output_type": "stream",
          "name": "stdout",
          "text": [
            "[Epoch 185, Batch 700] loss: 0.074\n"
          ]
        },
        {
          "output_type": "stream",
          "name": "stderr",
          "text": [
            "Epoch 185/250: 100%|██████████| 782/782 [00:19<00:00, 40.92it/s]\n"
          ]
        },
        {
          "output_type": "stream",
          "name": "stdout",
          "text": [
            "Checkpoint saved at /content/gdrive/My Drive/checkpoints/AsymmetricAutoencoderMinus1/checkpoint_epoch_185.pth\n"
          ]
        },
        {
          "output_type": "stream",
          "name": "stderr",
          "text": [
            "Epoch 186/250:  14%|█▎        | 106/782 [00:02<00:16, 41.31it/s]"
          ]
        },
        {
          "output_type": "stream",
          "name": "stdout",
          "text": [
            "[Epoch 186, Batch 100] loss: 0.074\n"
          ]
        },
        {
          "output_type": "stream",
          "name": "stderr",
          "text": [
            "Epoch 186/250:  26%|██▋       | 206/782 [00:05<00:14, 41.03it/s]"
          ]
        },
        {
          "output_type": "stream",
          "name": "stdout",
          "text": [
            "[Epoch 186, Batch 200] loss: 0.075\n"
          ]
        },
        {
          "output_type": "stream",
          "name": "stderr",
          "text": [
            "Epoch 186/250:  39%|███▉      | 306/782 [00:07<00:11, 41.10it/s]"
          ]
        },
        {
          "output_type": "stream",
          "name": "stdout",
          "text": [
            "[Epoch 186, Batch 300] loss: 0.073\n"
          ]
        },
        {
          "output_type": "stream",
          "name": "stderr",
          "text": [
            "Epoch 186/250:  52%|█████▏    | 406/782 [00:09<00:09, 40.17it/s]"
          ]
        },
        {
          "output_type": "stream",
          "name": "stdout",
          "text": [
            "[Epoch 186, Batch 400] loss: 0.074\n"
          ]
        },
        {
          "output_type": "stream",
          "name": "stderr",
          "text": [
            "Epoch 186/250:  65%|██████▍   | 506/782 [00:12<00:06, 40.78it/s]"
          ]
        },
        {
          "output_type": "stream",
          "name": "stdout",
          "text": [
            "[Epoch 186, Batch 500] loss: 0.074\n"
          ]
        },
        {
          "output_type": "stream",
          "name": "stderr",
          "text": [
            "Epoch 186/250:  77%|███████▋  | 606/782 [00:14<00:04, 40.66it/s]"
          ]
        },
        {
          "output_type": "stream",
          "name": "stdout",
          "text": [
            "[Epoch 186, Batch 600] loss: 0.074\n"
          ]
        },
        {
          "output_type": "stream",
          "name": "stderr",
          "text": [
            "Epoch 186/250:  90%|█████████ | 706/782 [00:17<00:01, 41.40it/s]"
          ]
        },
        {
          "output_type": "stream",
          "name": "stdout",
          "text": [
            "[Epoch 186, Batch 700] loss: 0.074\n"
          ]
        },
        {
          "output_type": "stream",
          "name": "stderr",
          "text": [
            "Epoch 186/250: 100%|██████████| 782/782 [00:19<00:00, 40.71it/s]\n"
          ]
        },
        {
          "output_type": "stream",
          "name": "stdout",
          "text": [
            "Checkpoint saved at /content/gdrive/My Drive/checkpoints/AsymmetricAutoencoderMinus1/checkpoint_epoch_186.pth\n"
          ]
        },
        {
          "output_type": "stream",
          "name": "stderr",
          "text": [
            "Epoch 187/250:  14%|█▎        | 106/782 [00:02<00:16, 40.61it/s]"
          ]
        },
        {
          "output_type": "stream",
          "name": "stdout",
          "text": [
            "[Epoch 187, Batch 100] loss: 0.074\n"
          ]
        },
        {
          "output_type": "stream",
          "name": "stderr",
          "text": [
            "Epoch 187/250:  26%|██▋       | 206/782 [00:05<00:13, 41.31it/s]"
          ]
        },
        {
          "output_type": "stream",
          "name": "stdout",
          "text": [
            "[Epoch 187, Batch 200] loss: 0.074\n"
          ]
        },
        {
          "output_type": "stream",
          "name": "stderr",
          "text": [
            "Epoch 187/250:  39%|███▉      | 306/782 [00:07<00:11, 41.36it/s]"
          ]
        },
        {
          "output_type": "stream",
          "name": "stdout",
          "text": [
            "[Epoch 187, Batch 300] loss: 0.074\n"
          ]
        },
        {
          "output_type": "stream",
          "name": "stderr",
          "text": [
            "Epoch 187/250:  52%|█████▏    | 406/782 [00:09<00:09, 40.75it/s]"
          ]
        },
        {
          "output_type": "stream",
          "name": "stdout",
          "text": [
            "[Epoch 187, Batch 400] loss: 0.073\n"
          ]
        },
        {
          "output_type": "stream",
          "name": "stderr",
          "text": [
            "Epoch 187/250:  65%|██████▍   | 506/782 [00:12<00:06, 40.85it/s]"
          ]
        },
        {
          "output_type": "stream",
          "name": "stdout",
          "text": [
            "[Epoch 187, Batch 500] loss: 0.074\n"
          ]
        },
        {
          "output_type": "stream",
          "name": "stderr",
          "text": [
            "Epoch 187/250:  77%|███████▋  | 606/782 [00:14<00:04, 40.91it/s]"
          ]
        },
        {
          "output_type": "stream",
          "name": "stdout",
          "text": [
            "[Epoch 187, Batch 600] loss: 0.074\n"
          ]
        },
        {
          "output_type": "stream",
          "name": "stderr",
          "text": [
            "Epoch 187/250:  90%|█████████ | 706/782 [00:17<00:01, 41.11it/s]"
          ]
        },
        {
          "output_type": "stream",
          "name": "stdout",
          "text": [
            "[Epoch 187, Batch 700] loss: 0.074\n"
          ]
        },
        {
          "output_type": "stream",
          "name": "stderr",
          "text": [
            "Epoch 187/250: 100%|██████████| 782/782 [00:19<00:00, 40.70it/s]\n"
          ]
        },
        {
          "output_type": "stream",
          "name": "stdout",
          "text": [
            "Checkpoint saved at /content/gdrive/My Drive/checkpoints/AsymmetricAutoencoderMinus1/checkpoint_epoch_187.pth\n"
          ]
        },
        {
          "output_type": "stream",
          "name": "stderr",
          "text": [
            "Epoch 188/250:  14%|█▎        | 106/782 [00:02<00:16, 41.52it/s]"
          ]
        },
        {
          "output_type": "stream",
          "name": "stdout",
          "text": [
            "[Epoch 188, Batch 100] loss: 0.074\n"
          ]
        },
        {
          "output_type": "stream",
          "name": "stderr",
          "text": [
            "Epoch 188/250:  26%|██▋       | 206/782 [00:05<00:14, 40.69it/s]"
          ]
        },
        {
          "output_type": "stream",
          "name": "stdout",
          "text": [
            "[Epoch 188, Batch 200] loss: 0.074\n"
          ]
        },
        {
          "output_type": "stream",
          "name": "stderr",
          "text": [
            "Epoch 188/250:  39%|███▉      | 306/782 [00:07<00:11, 40.75it/s]"
          ]
        },
        {
          "output_type": "stream",
          "name": "stdout",
          "text": [
            "[Epoch 188, Batch 300] loss: 0.074\n"
          ]
        },
        {
          "output_type": "stream",
          "name": "stderr",
          "text": [
            "Epoch 188/250:  52%|█████▏    | 406/782 [00:09<00:09, 41.32it/s]"
          ]
        },
        {
          "output_type": "stream",
          "name": "stdout",
          "text": [
            "[Epoch 188, Batch 400] loss: 0.074\n"
          ]
        },
        {
          "output_type": "stream",
          "name": "stderr",
          "text": [
            "Epoch 188/250:  65%|██████▍   | 506/782 [00:12<00:06, 40.71it/s]"
          ]
        },
        {
          "output_type": "stream",
          "name": "stdout",
          "text": [
            "[Epoch 188, Batch 500] loss: 0.074\n"
          ]
        },
        {
          "output_type": "stream",
          "name": "stderr",
          "text": [
            "Epoch 188/250:  77%|███████▋  | 606/782 [00:14<00:04, 41.14it/s]"
          ]
        },
        {
          "output_type": "stream",
          "name": "stdout",
          "text": [
            "[Epoch 188, Batch 600] loss: 0.073\n"
          ]
        },
        {
          "output_type": "stream",
          "name": "stderr",
          "text": [
            "Epoch 188/250:  90%|█████████ | 706/782 [00:17<00:01, 41.59it/s]"
          ]
        },
        {
          "output_type": "stream",
          "name": "stdout",
          "text": [
            "[Epoch 188, Batch 700] loss: 0.073\n"
          ]
        },
        {
          "output_type": "stream",
          "name": "stderr",
          "text": [
            "Epoch 188/250: 100%|██████████| 782/782 [00:19<00:00, 40.89it/s]\n"
          ]
        },
        {
          "output_type": "stream",
          "name": "stdout",
          "text": [
            "Checkpoint saved at /content/gdrive/My Drive/checkpoints/AsymmetricAutoencoderMinus1/checkpoint_epoch_188.pth\n"
          ]
        },
        {
          "output_type": "stream",
          "name": "stderr",
          "text": [
            "Epoch 189/250:  14%|█▎        | 106/782 [00:02<00:16, 41.26it/s]"
          ]
        },
        {
          "output_type": "stream",
          "name": "stdout",
          "text": [
            "[Epoch 189, Batch 100] loss: 0.074\n"
          ]
        },
        {
          "output_type": "stream",
          "name": "stderr",
          "text": [
            "Epoch 189/250:  26%|██▋       | 206/782 [00:05<00:13, 41.29it/s]"
          ]
        },
        {
          "output_type": "stream",
          "name": "stdout",
          "text": [
            "[Epoch 189, Batch 200] loss: 0.074\n"
          ]
        },
        {
          "output_type": "stream",
          "name": "stderr",
          "text": [
            "Epoch 189/250:  39%|███▉      | 306/782 [00:07<00:11, 41.75it/s]"
          ]
        },
        {
          "output_type": "stream",
          "name": "stdout",
          "text": [
            "[Epoch 189, Batch 300] loss: 0.074\n"
          ]
        },
        {
          "output_type": "stream",
          "name": "stderr",
          "text": [
            "Epoch 189/250:  52%|█████▏    | 406/782 [00:09<00:09, 40.88it/s]"
          ]
        },
        {
          "output_type": "stream",
          "name": "stdout",
          "text": [
            "[Epoch 189, Batch 400] loss: 0.074\n"
          ]
        },
        {
          "output_type": "stream",
          "name": "stderr",
          "text": [
            "Epoch 189/250:  65%|██████▍   | 506/782 [00:12<00:06, 40.21it/s]"
          ]
        },
        {
          "output_type": "stream",
          "name": "stdout",
          "text": [
            "[Epoch 189, Batch 500] loss: 0.074\n"
          ]
        },
        {
          "output_type": "stream",
          "name": "stderr",
          "text": [
            "Epoch 189/250:  77%|███████▋  | 606/782 [00:14<00:04, 41.68it/s]"
          ]
        },
        {
          "output_type": "stream",
          "name": "stdout",
          "text": [
            "[Epoch 189, Batch 600] loss: 0.074\n"
          ]
        },
        {
          "output_type": "stream",
          "name": "stderr",
          "text": [
            "Epoch 189/250:  90%|█████████ | 706/782 [00:17<00:01, 41.02it/s]"
          ]
        },
        {
          "output_type": "stream",
          "name": "stdout",
          "text": [
            "[Epoch 189, Batch 700] loss: 0.074\n"
          ]
        },
        {
          "output_type": "stream",
          "name": "stderr",
          "text": [
            "Epoch 189/250: 100%|██████████| 782/782 [00:19<00:00, 40.87it/s]\n"
          ]
        },
        {
          "output_type": "stream",
          "name": "stdout",
          "text": [
            "Checkpoint saved at /content/gdrive/My Drive/checkpoints/AsymmetricAutoencoderMinus1/checkpoint_epoch_189.pth\n"
          ]
        },
        {
          "output_type": "stream",
          "name": "stderr",
          "text": [
            "Epoch 190/250:  14%|█▎        | 106/782 [00:02<00:16, 41.51it/s]"
          ]
        },
        {
          "output_type": "stream",
          "name": "stdout",
          "text": [
            "[Epoch 190, Batch 100] loss: 0.073\n"
          ]
        },
        {
          "output_type": "stream",
          "name": "stderr",
          "text": [
            "Epoch 190/250:  26%|██▋       | 206/782 [00:05<00:14, 41.12it/s]"
          ]
        },
        {
          "output_type": "stream",
          "name": "stdout",
          "text": [
            "[Epoch 190, Batch 200] loss: 0.074\n"
          ]
        },
        {
          "output_type": "stream",
          "name": "stderr",
          "text": [
            "Epoch 190/250:  39%|███▉      | 306/782 [00:07<00:11, 41.51it/s]"
          ]
        },
        {
          "output_type": "stream",
          "name": "stdout",
          "text": [
            "[Epoch 190, Batch 300] loss: 0.074\n"
          ]
        },
        {
          "output_type": "stream",
          "name": "stderr",
          "text": [
            "Epoch 190/250:  52%|█████▏    | 406/782 [00:09<00:09, 41.69it/s]"
          ]
        },
        {
          "output_type": "stream",
          "name": "stdout",
          "text": [
            "[Epoch 190, Batch 400] loss: 0.074\n"
          ]
        },
        {
          "output_type": "stream",
          "name": "stderr",
          "text": [
            "Epoch 190/250:  65%|██████▍   | 506/782 [00:12<00:06, 40.63it/s]"
          ]
        },
        {
          "output_type": "stream",
          "name": "stdout",
          "text": [
            "[Epoch 190, Batch 500] loss: 0.074\n"
          ]
        },
        {
          "output_type": "stream",
          "name": "stderr",
          "text": [
            "Epoch 190/250:  77%|███████▋  | 606/782 [00:14<00:04, 41.20it/s]"
          ]
        },
        {
          "output_type": "stream",
          "name": "stdout",
          "text": [
            "[Epoch 190, Batch 600] loss: 0.073\n"
          ]
        },
        {
          "output_type": "stream",
          "name": "stderr",
          "text": [
            "Epoch 190/250:  90%|█████████ | 706/782 [00:17<00:01, 41.33it/s]"
          ]
        },
        {
          "output_type": "stream",
          "name": "stdout",
          "text": [
            "[Epoch 190, Batch 700] loss: 0.074\n"
          ]
        },
        {
          "output_type": "stream",
          "name": "stderr",
          "text": [
            "Epoch 190/250: 100%|██████████| 782/782 [00:19<00:00, 41.00it/s]\n"
          ]
        },
        {
          "output_type": "stream",
          "name": "stdout",
          "text": [
            "Checkpoint saved at /content/gdrive/My Drive/checkpoints/AsymmetricAutoencoderMinus1/checkpoint_epoch_190.pth\n",
            "Validation Loss after epoch 190: 0.0742\n"
          ]
        },
        {
          "output_type": "stream",
          "name": "stderr",
          "text": [
            "Epoch 191/250:  14%|█▎        | 106/782 [00:02<00:16, 41.48it/s]"
          ]
        },
        {
          "output_type": "stream",
          "name": "stdout",
          "text": [
            "[Epoch 191, Batch 100] loss: 0.074\n"
          ]
        },
        {
          "output_type": "stream",
          "name": "stderr",
          "text": [
            "Epoch 191/250:  26%|██▋       | 206/782 [00:05<00:13, 41.43it/s]"
          ]
        },
        {
          "output_type": "stream",
          "name": "stdout",
          "text": [
            "[Epoch 191, Batch 200] loss: 0.074\n"
          ]
        },
        {
          "output_type": "stream",
          "name": "stderr",
          "text": [
            "Epoch 191/250:  39%|███▉      | 306/782 [00:07<00:11, 41.05it/s]"
          ]
        },
        {
          "output_type": "stream",
          "name": "stdout",
          "text": [
            "[Epoch 191, Batch 300] loss: 0.073\n"
          ]
        },
        {
          "output_type": "stream",
          "name": "stderr",
          "text": [
            "Epoch 191/250:  52%|█████▏    | 405/782 [00:09<00:09, 40.63it/s]"
          ]
        },
        {
          "output_type": "stream",
          "name": "stdout",
          "text": [
            "[Epoch 191, Batch 400] loss: 0.074\n"
          ]
        },
        {
          "output_type": "stream",
          "name": "stderr",
          "text": [
            "Epoch 191/250:  65%|██████▍   | 505/782 [00:12<00:06, 41.23it/s]"
          ]
        },
        {
          "output_type": "stream",
          "name": "stdout",
          "text": [
            "[Epoch 191, Batch 500] loss: 0.073\n"
          ]
        },
        {
          "output_type": "stream",
          "name": "stderr",
          "text": [
            "Epoch 191/250:  77%|███████▋  | 605/782 [00:14<00:04, 41.09it/s]"
          ]
        },
        {
          "output_type": "stream",
          "name": "stdout",
          "text": [
            "[Epoch 191, Batch 600] loss: 0.074\n"
          ]
        },
        {
          "output_type": "stream",
          "name": "stderr",
          "text": [
            "Epoch 191/250:  90%|█████████ | 705/782 [00:17<00:01, 40.69it/s]"
          ]
        },
        {
          "output_type": "stream",
          "name": "stdout",
          "text": [
            "[Epoch 191, Batch 700] loss: 0.074\n"
          ]
        },
        {
          "output_type": "stream",
          "name": "stderr",
          "text": [
            "Epoch 191/250: 100%|██████████| 782/782 [00:19<00:00, 40.84it/s]\n"
          ]
        },
        {
          "output_type": "stream",
          "name": "stdout",
          "text": [
            "Checkpoint saved at /content/gdrive/My Drive/checkpoints/AsymmetricAutoencoderMinus1/checkpoint_epoch_191.pth\n"
          ]
        },
        {
          "output_type": "stream",
          "name": "stderr",
          "text": [
            "Epoch 192/250:  14%|█▎        | 106/782 [00:02<00:16, 41.53it/s]"
          ]
        },
        {
          "output_type": "stream",
          "name": "stdout",
          "text": [
            "[Epoch 192, Batch 100] loss: 0.074\n"
          ]
        },
        {
          "output_type": "stream",
          "name": "stderr",
          "text": [
            "Epoch 192/250:  26%|██▋       | 206/782 [00:05<00:14, 41.01it/s]"
          ]
        },
        {
          "output_type": "stream",
          "name": "stdout",
          "text": [
            "[Epoch 192, Batch 200] loss: 0.074\n"
          ]
        },
        {
          "output_type": "stream",
          "name": "stderr",
          "text": [
            "Epoch 192/250:  39%|███▉      | 306/782 [00:07<00:11, 41.30it/s]"
          ]
        },
        {
          "output_type": "stream",
          "name": "stdout",
          "text": [
            "[Epoch 192, Batch 300] loss: 0.074\n"
          ]
        },
        {
          "output_type": "stream",
          "name": "stderr",
          "text": [
            "Epoch 192/250:  52%|█████▏    | 406/782 [00:09<00:09, 40.68it/s]"
          ]
        },
        {
          "output_type": "stream",
          "name": "stdout",
          "text": [
            "[Epoch 192, Batch 400] loss: 0.074\n"
          ]
        },
        {
          "output_type": "stream",
          "name": "stderr",
          "text": [
            "Epoch 192/250:  65%|██████▍   | 506/782 [00:12<00:06, 40.99it/s]"
          ]
        },
        {
          "output_type": "stream",
          "name": "stdout",
          "text": [
            "[Epoch 192, Batch 500] loss: 0.074\n"
          ]
        },
        {
          "output_type": "stream",
          "name": "stderr",
          "text": [
            "Epoch 192/250:  77%|███████▋  | 606/782 [00:14<00:04, 41.48it/s]"
          ]
        },
        {
          "output_type": "stream",
          "name": "stdout",
          "text": [
            "[Epoch 192, Batch 600] loss: 0.074\n"
          ]
        },
        {
          "output_type": "stream",
          "name": "stderr",
          "text": [
            "Epoch 192/250:  90%|█████████ | 706/782 [00:17<00:01, 41.51it/s]"
          ]
        },
        {
          "output_type": "stream",
          "name": "stdout",
          "text": [
            "[Epoch 192, Batch 700] loss: 0.073\n"
          ]
        },
        {
          "output_type": "stream",
          "name": "stderr",
          "text": [
            "Epoch 192/250: 100%|██████████| 782/782 [00:19<00:00, 40.91it/s]\n"
          ]
        },
        {
          "output_type": "stream",
          "name": "stdout",
          "text": [
            "Checkpoint saved at /content/gdrive/My Drive/checkpoints/AsymmetricAutoencoderMinus1/checkpoint_epoch_192.pth\n"
          ]
        },
        {
          "output_type": "stream",
          "name": "stderr",
          "text": [
            "Epoch 193/250:  14%|█▎        | 106/782 [00:02<00:16, 41.40it/s]"
          ]
        },
        {
          "output_type": "stream",
          "name": "stdout",
          "text": [
            "[Epoch 193, Batch 100] loss: 0.074\n"
          ]
        },
        {
          "output_type": "stream",
          "name": "stderr",
          "text": [
            "Epoch 193/250:  26%|██▋       | 206/782 [00:05<00:13, 41.19it/s]"
          ]
        },
        {
          "output_type": "stream",
          "name": "stdout",
          "text": [
            "[Epoch 193, Batch 200] loss: 0.074\n"
          ]
        },
        {
          "output_type": "stream",
          "name": "stderr",
          "text": [
            "Epoch 193/250:  39%|███▉      | 306/782 [00:07<00:11, 41.11it/s]"
          ]
        },
        {
          "output_type": "stream",
          "name": "stdout",
          "text": [
            "[Epoch 193, Batch 300] loss: 0.074\n"
          ]
        },
        {
          "output_type": "stream",
          "name": "stderr",
          "text": [
            "Epoch 193/250:  52%|█████▏    | 406/782 [00:09<00:09, 40.88it/s]"
          ]
        },
        {
          "output_type": "stream",
          "name": "stdout",
          "text": [
            "[Epoch 193, Batch 400] loss: 0.073\n"
          ]
        },
        {
          "output_type": "stream",
          "name": "stderr",
          "text": [
            "Epoch 193/250:  65%|██████▍   | 506/782 [00:12<00:06, 41.29it/s]"
          ]
        },
        {
          "output_type": "stream",
          "name": "stdout",
          "text": [
            "[Epoch 193, Batch 500] loss: 0.074\n"
          ]
        },
        {
          "output_type": "stream",
          "name": "stderr",
          "text": [
            "Epoch 193/250:  77%|███████▋  | 606/782 [00:14<00:04, 41.09it/s]"
          ]
        },
        {
          "output_type": "stream",
          "name": "stdout",
          "text": [
            "[Epoch 193, Batch 600] loss: 0.073\n"
          ]
        },
        {
          "output_type": "stream",
          "name": "stderr",
          "text": [
            "Epoch 193/250:  90%|█████████ | 706/782 [00:17<00:01, 40.89it/s]"
          ]
        },
        {
          "output_type": "stream",
          "name": "stdout",
          "text": [
            "[Epoch 193, Batch 700] loss: 0.074\n"
          ]
        },
        {
          "output_type": "stream",
          "name": "stderr",
          "text": [
            "Epoch 193/250: 100%|██████████| 782/782 [00:19<00:00, 40.99it/s]\n"
          ]
        },
        {
          "output_type": "stream",
          "name": "stdout",
          "text": [
            "Checkpoint saved at /content/gdrive/My Drive/checkpoints/AsymmetricAutoencoderMinus1/checkpoint_epoch_193.pth\n"
          ]
        },
        {
          "output_type": "stream",
          "name": "stderr",
          "text": [
            "Epoch 194/250:  14%|█▎        | 106/782 [00:02<00:16, 41.65it/s]"
          ]
        },
        {
          "output_type": "stream",
          "name": "stdout",
          "text": [
            "[Epoch 194, Batch 100] loss: 0.074\n"
          ]
        },
        {
          "output_type": "stream",
          "name": "stderr",
          "text": [
            "Epoch 194/250:  26%|██▋       | 206/782 [00:05<00:14, 40.80it/s]"
          ]
        },
        {
          "output_type": "stream",
          "name": "stdout",
          "text": [
            "[Epoch 194, Batch 200] loss: 0.073\n"
          ]
        },
        {
          "output_type": "stream",
          "name": "stderr",
          "text": [
            "Epoch 194/250:  39%|███▉      | 306/782 [00:07<00:11, 41.52it/s]"
          ]
        },
        {
          "output_type": "stream",
          "name": "stdout",
          "text": [
            "[Epoch 194, Batch 300] loss: 0.074\n"
          ]
        },
        {
          "output_type": "stream",
          "name": "stderr",
          "text": [
            "Epoch 194/250:  52%|█████▏    | 406/782 [00:09<00:09, 41.51it/s]"
          ]
        },
        {
          "output_type": "stream",
          "name": "stdout",
          "text": [
            "[Epoch 194, Batch 400] loss: 0.074\n"
          ]
        },
        {
          "output_type": "stream",
          "name": "stderr",
          "text": [
            "Epoch 194/250:  65%|██████▍   | 506/782 [00:12<00:06, 40.42it/s]"
          ]
        },
        {
          "output_type": "stream",
          "name": "stdout",
          "text": [
            "[Epoch 194, Batch 500] loss: 0.073\n"
          ]
        },
        {
          "output_type": "stream",
          "name": "stderr",
          "text": [
            "Epoch 194/250:  77%|███████▋  | 606/782 [00:14<00:04, 41.76it/s]"
          ]
        },
        {
          "output_type": "stream",
          "name": "stdout",
          "text": [
            "[Epoch 194, Batch 600] loss: 0.074\n"
          ]
        },
        {
          "output_type": "stream",
          "name": "stderr",
          "text": [
            "Epoch 194/250:  90%|█████████ | 706/782 [00:17<00:01, 41.60it/s]"
          ]
        },
        {
          "output_type": "stream",
          "name": "stdout",
          "text": [
            "[Epoch 194, Batch 700] loss: 0.075\n"
          ]
        },
        {
          "output_type": "stream",
          "name": "stderr",
          "text": [
            "Epoch 194/250: 100%|██████████| 782/782 [00:19<00:00, 41.05it/s]\n"
          ]
        },
        {
          "output_type": "stream",
          "name": "stdout",
          "text": [
            "Checkpoint saved at /content/gdrive/My Drive/checkpoints/AsymmetricAutoencoderMinus1/checkpoint_epoch_194.pth\n"
          ]
        },
        {
          "output_type": "stream",
          "name": "stderr",
          "text": [
            "Epoch 195/250:  14%|█▎        | 106/782 [00:02<00:16, 41.19it/s]"
          ]
        },
        {
          "output_type": "stream",
          "name": "stdout",
          "text": [
            "[Epoch 195, Batch 100] loss: 0.075\n"
          ]
        },
        {
          "output_type": "stream",
          "name": "stderr",
          "text": [
            "Epoch 195/250:  26%|██▋       | 206/782 [00:05<00:13, 41.53it/s]"
          ]
        },
        {
          "output_type": "stream",
          "name": "stdout",
          "text": [
            "[Epoch 195, Batch 200] loss: 0.073\n"
          ]
        },
        {
          "output_type": "stream",
          "name": "stderr",
          "text": [
            "Epoch 195/250:  39%|███▉      | 306/782 [00:07<00:11, 41.22it/s]"
          ]
        },
        {
          "output_type": "stream",
          "name": "stdout",
          "text": [
            "[Epoch 195, Batch 300] loss: 0.073\n"
          ]
        },
        {
          "output_type": "stream",
          "name": "stderr",
          "text": [
            "Epoch 195/250:  52%|█████▏    | 406/782 [00:09<00:09, 41.37it/s]"
          ]
        },
        {
          "output_type": "stream",
          "name": "stdout",
          "text": [
            "[Epoch 195, Batch 400] loss: 0.074\n"
          ]
        },
        {
          "output_type": "stream",
          "name": "stderr",
          "text": [
            "Epoch 195/250:  65%|██████▍   | 506/782 [00:12<00:06, 40.82it/s]"
          ]
        },
        {
          "output_type": "stream",
          "name": "stdout",
          "text": [
            "[Epoch 195, Batch 500] loss: 0.073\n"
          ]
        },
        {
          "output_type": "stream",
          "name": "stderr",
          "text": [
            "Epoch 195/250:  77%|███████▋  | 606/782 [00:14<00:04, 40.90it/s]"
          ]
        },
        {
          "output_type": "stream",
          "name": "stdout",
          "text": [
            "[Epoch 195, Batch 600] loss: 0.074\n"
          ]
        },
        {
          "output_type": "stream",
          "name": "stderr",
          "text": [
            "Epoch 195/250:  90%|█████████ | 706/782 [00:17<00:01, 41.00it/s]"
          ]
        },
        {
          "output_type": "stream",
          "name": "stdout",
          "text": [
            "[Epoch 195, Batch 700] loss: 0.074\n"
          ]
        },
        {
          "output_type": "stream",
          "name": "stderr",
          "text": [
            "Epoch 195/250: 100%|██████████| 782/782 [00:19<00:00, 41.02it/s]\n"
          ]
        },
        {
          "output_type": "stream",
          "name": "stdout",
          "text": [
            "Checkpoint saved at /content/gdrive/My Drive/checkpoints/AsymmetricAutoencoderMinus1/checkpoint_epoch_195.pth\n"
          ]
        },
        {
          "output_type": "stream",
          "name": "stderr",
          "text": [
            "Epoch 196/250:  14%|█▎        | 106/782 [00:02<00:16, 41.53it/s]"
          ]
        },
        {
          "output_type": "stream",
          "name": "stdout",
          "text": [
            "[Epoch 196, Batch 100] loss: 0.073\n"
          ]
        },
        {
          "output_type": "stream",
          "name": "stderr",
          "text": [
            "Epoch 196/250:  26%|██▋       | 206/782 [00:05<00:14, 41.08it/s]"
          ]
        },
        {
          "output_type": "stream",
          "name": "stdout",
          "text": [
            "[Epoch 196, Batch 200] loss: 0.074\n"
          ]
        },
        {
          "output_type": "stream",
          "name": "stderr",
          "text": [
            "Epoch 196/250:  39%|███▉      | 306/782 [00:07<00:11, 41.42it/s]"
          ]
        },
        {
          "output_type": "stream",
          "name": "stdout",
          "text": [
            "[Epoch 196, Batch 300] loss: 0.075\n"
          ]
        },
        {
          "output_type": "stream",
          "name": "stderr",
          "text": [
            "Epoch 196/250:  52%|█████▏    | 406/782 [00:09<00:08, 41.87it/s]"
          ]
        },
        {
          "output_type": "stream",
          "name": "stdout",
          "text": [
            "[Epoch 196, Batch 400] loss: 0.074\n"
          ]
        },
        {
          "output_type": "stream",
          "name": "stderr",
          "text": [
            "Epoch 196/250:  65%|██████▍   | 506/782 [00:12<00:06, 40.47it/s]"
          ]
        },
        {
          "output_type": "stream",
          "name": "stdout",
          "text": [
            "[Epoch 196, Batch 500] loss: 0.074\n"
          ]
        },
        {
          "output_type": "stream",
          "name": "stderr",
          "text": [
            "Epoch 196/250:  77%|███████▋  | 606/782 [00:14<00:04, 41.33it/s]"
          ]
        },
        {
          "output_type": "stream",
          "name": "stdout",
          "text": [
            "[Epoch 196, Batch 600] loss: 0.073\n"
          ]
        },
        {
          "output_type": "stream",
          "name": "stderr",
          "text": [
            "Epoch 196/250:  90%|█████████ | 706/782 [00:17<00:01, 41.40it/s]"
          ]
        },
        {
          "output_type": "stream",
          "name": "stdout",
          "text": [
            "[Epoch 196, Batch 700] loss: 0.074\n"
          ]
        },
        {
          "output_type": "stream",
          "name": "stderr",
          "text": [
            "Epoch 196/250: 100%|██████████| 782/782 [00:19<00:00, 41.04it/s]\n"
          ]
        },
        {
          "output_type": "stream",
          "name": "stdout",
          "text": [
            "Checkpoint saved at /content/gdrive/My Drive/checkpoints/AsymmetricAutoencoderMinus1/checkpoint_epoch_196.pth\n"
          ]
        },
        {
          "output_type": "stream",
          "name": "stderr",
          "text": [
            "Epoch 197/250:  14%|█▎        | 106/782 [00:02<00:16, 41.62it/s]"
          ]
        },
        {
          "output_type": "stream",
          "name": "stdout",
          "text": [
            "[Epoch 197, Batch 100] loss: 0.074\n"
          ]
        },
        {
          "output_type": "stream",
          "name": "stderr",
          "text": [
            "Epoch 197/250:  26%|██▋       | 206/782 [00:05<00:13, 41.45it/s]"
          ]
        },
        {
          "output_type": "stream",
          "name": "stdout",
          "text": [
            "[Epoch 197, Batch 200] loss: 0.073\n"
          ]
        },
        {
          "output_type": "stream",
          "name": "stderr",
          "text": [
            "Epoch 197/250:  39%|███▉      | 306/782 [00:07<00:11, 41.13it/s]"
          ]
        },
        {
          "output_type": "stream",
          "name": "stdout",
          "text": [
            "[Epoch 197, Batch 300] loss: 0.073\n"
          ]
        },
        {
          "output_type": "stream",
          "name": "stderr",
          "text": [
            "Epoch 197/250:  52%|█████▏    | 406/782 [00:09<00:09, 41.15it/s]"
          ]
        },
        {
          "output_type": "stream",
          "name": "stdout",
          "text": [
            "[Epoch 197, Batch 400] loss: 0.074\n"
          ]
        },
        {
          "output_type": "stream",
          "name": "stderr",
          "text": [
            "Epoch 197/250:  65%|██████▍   | 506/782 [00:12<00:06, 41.20it/s]"
          ]
        },
        {
          "output_type": "stream",
          "name": "stdout",
          "text": [
            "[Epoch 197, Batch 500] loss: 0.074\n"
          ]
        },
        {
          "output_type": "stream",
          "name": "stderr",
          "text": [
            "Epoch 197/250:  77%|███████▋  | 606/782 [00:14<00:04, 40.83it/s]"
          ]
        },
        {
          "output_type": "stream",
          "name": "stdout",
          "text": [
            "[Epoch 197, Batch 600] loss: 0.074\n"
          ]
        },
        {
          "output_type": "stream",
          "name": "stderr",
          "text": [
            "Epoch 197/250:  90%|█████████ | 706/782 [00:17<00:01, 40.95it/s]"
          ]
        },
        {
          "output_type": "stream",
          "name": "stdout",
          "text": [
            "[Epoch 197, Batch 700] loss: 0.074\n"
          ]
        },
        {
          "output_type": "stream",
          "name": "stderr",
          "text": [
            "Epoch 197/250: 100%|██████████| 782/782 [00:19<00:00, 40.94it/s]\n"
          ]
        },
        {
          "output_type": "stream",
          "name": "stdout",
          "text": [
            "Checkpoint saved at /content/gdrive/My Drive/checkpoints/AsymmetricAutoencoderMinus1/checkpoint_epoch_197.pth\n"
          ]
        },
        {
          "output_type": "stream",
          "name": "stderr",
          "text": [
            "Epoch 198/250:  14%|█▎        | 106/782 [00:02<00:16, 41.34it/s]"
          ]
        },
        {
          "output_type": "stream",
          "name": "stdout",
          "text": [
            "[Epoch 198, Batch 100] loss: 0.073\n"
          ]
        },
        {
          "output_type": "stream",
          "name": "stderr",
          "text": [
            "Epoch 198/250:  26%|██▋       | 206/782 [00:05<00:14, 40.95it/s]"
          ]
        },
        {
          "output_type": "stream",
          "name": "stdout",
          "text": [
            "[Epoch 198, Batch 200] loss: 0.073\n"
          ]
        },
        {
          "output_type": "stream",
          "name": "stderr",
          "text": [
            "Epoch 198/250:  39%|███▉      | 306/782 [00:07<00:11, 41.44it/s]"
          ]
        },
        {
          "output_type": "stream",
          "name": "stdout",
          "text": [
            "[Epoch 198, Batch 300] loss: 0.074\n"
          ]
        },
        {
          "output_type": "stream",
          "name": "stderr",
          "text": [
            "Epoch 198/250:  52%|█████▏    | 406/782 [00:09<00:09, 41.39it/s]"
          ]
        },
        {
          "output_type": "stream",
          "name": "stdout",
          "text": [
            "[Epoch 198, Batch 400] loss: 0.073\n"
          ]
        },
        {
          "output_type": "stream",
          "name": "stderr",
          "text": [
            "Epoch 198/250:  65%|██████▍   | 506/782 [00:12<00:06, 40.43it/s]"
          ]
        },
        {
          "output_type": "stream",
          "name": "stdout",
          "text": [
            "[Epoch 198, Batch 500] loss: 0.074\n"
          ]
        },
        {
          "output_type": "stream",
          "name": "stderr",
          "text": [
            "Epoch 198/250:  77%|███████▋  | 606/782 [00:14<00:04, 41.51it/s]"
          ]
        },
        {
          "output_type": "stream",
          "name": "stdout",
          "text": [
            "[Epoch 198, Batch 600] loss: 0.074\n"
          ]
        },
        {
          "output_type": "stream",
          "name": "stderr",
          "text": [
            "Epoch 198/250:  90%|█████████ | 706/782 [00:17<00:01, 41.18it/s]"
          ]
        },
        {
          "output_type": "stream",
          "name": "stdout",
          "text": [
            "[Epoch 198, Batch 700] loss: 0.073\n"
          ]
        },
        {
          "output_type": "stream",
          "name": "stderr",
          "text": [
            "Epoch 198/250: 100%|██████████| 782/782 [00:19<00:00, 40.96it/s]\n"
          ]
        },
        {
          "output_type": "stream",
          "name": "stdout",
          "text": [
            "Checkpoint saved at /content/gdrive/My Drive/checkpoints/AsymmetricAutoencoderMinus1/checkpoint_epoch_198.pth\n"
          ]
        },
        {
          "output_type": "stream",
          "name": "stderr",
          "text": [
            "Epoch 199/250:  14%|█▎        | 106/782 [00:02<00:16, 41.56it/s]"
          ]
        },
        {
          "output_type": "stream",
          "name": "stdout",
          "text": [
            "[Epoch 199, Batch 100] loss: 0.074\n"
          ]
        },
        {
          "output_type": "stream",
          "name": "stderr",
          "text": [
            "Epoch 199/250:  26%|██▋       | 206/782 [00:05<00:13, 41.44it/s]"
          ]
        },
        {
          "output_type": "stream",
          "name": "stdout",
          "text": [
            "[Epoch 199, Batch 200] loss: 0.074\n"
          ]
        },
        {
          "output_type": "stream",
          "name": "stderr",
          "text": [
            "Epoch 199/250:  39%|███▉      | 306/782 [00:07<00:11, 40.92it/s]"
          ]
        },
        {
          "output_type": "stream",
          "name": "stdout",
          "text": [
            "[Epoch 199, Batch 300] loss: 0.074\n"
          ]
        },
        {
          "output_type": "stream",
          "name": "stderr",
          "text": [
            "Epoch 199/250:  52%|█████▏    | 406/782 [00:09<00:09, 41.38it/s]"
          ]
        },
        {
          "output_type": "stream",
          "name": "stdout",
          "text": [
            "[Epoch 199, Batch 400] loss: 0.073\n"
          ]
        },
        {
          "output_type": "stream",
          "name": "stderr",
          "text": [
            "Epoch 199/250:  65%|██████▍   | 506/782 [00:12<00:06, 41.01it/s]"
          ]
        },
        {
          "output_type": "stream",
          "name": "stdout",
          "text": [
            "[Epoch 199, Batch 500] loss: 0.074\n"
          ]
        },
        {
          "output_type": "stream",
          "name": "stderr",
          "text": [
            "Epoch 199/250:  77%|███████▋  | 606/782 [00:14<00:04, 41.40it/s]"
          ]
        },
        {
          "output_type": "stream",
          "name": "stdout",
          "text": [
            "[Epoch 199, Batch 600] loss: 0.074\n"
          ]
        },
        {
          "output_type": "stream",
          "name": "stderr",
          "text": [
            "Epoch 199/250:  90%|█████████ | 706/782 [00:17<00:01, 41.48it/s]"
          ]
        },
        {
          "output_type": "stream",
          "name": "stdout",
          "text": [
            "[Epoch 199, Batch 700] loss: 0.074\n"
          ]
        },
        {
          "output_type": "stream",
          "name": "stderr",
          "text": [
            "Epoch 199/250: 100%|██████████| 782/782 [00:19<00:00, 41.06it/s]\n"
          ]
        },
        {
          "output_type": "stream",
          "name": "stdout",
          "text": [
            "Checkpoint saved at /content/gdrive/My Drive/checkpoints/AsymmetricAutoencoderMinus1/checkpoint_epoch_199.pth\n"
          ]
        },
        {
          "output_type": "stream",
          "name": "stderr",
          "text": [
            "Epoch 200/250:  14%|█▎        | 106/782 [00:02<00:16, 41.25it/s]"
          ]
        },
        {
          "output_type": "stream",
          "name": "stdout",
          "text": [
            "[Epoch 200, Batch 100] loss: 0.074\n"
          ]
        },
        {
          "output_type": "stream",
          "name": "stderr",
          "text": [
            "Epoch 200/250:  26%|██▋       | 206/782 [00:05<00:13, 41.19it/s]"
          ]
        },
        {
          "output_type": "stream",
          "name": "stdout",
          "text": [
            "[Epoch 200, Batch 200] loss: 0.074\n"
          ]
        },
        {
          "output_type": "stream",
          "name": "stderr",
          "text": [
            "Epoch 200/250:  39%|███▉      | 306/782 [00:07<00:11, 41.72it/s]"
          ]
        },
        {
          "output_type": "stream",
          "name": "stdout",
          "text": [
            "[Epoch 200, Batch 300] loss: 0.074\n"
          ]
        },
        {
          "output_type": "stream",
          "name": "stderr",
          "text": [
            "Epoch 200/250:  52%|█████▏    | 406/782 [00:09<00:09, 41.48it/s]"
          ]
        },
        {
          "output_type": "stream",
          "name": "stdout",
          "text": [
            "[Epoch 200, Batch 400] loss: 0.073\n"
          ]
        },
        {
          "output_type": "stream",
          "name": "stderr",
          "text": [
            "Epoch 200/250:  65%|██████▍   | 506/782 [00:12<00:06, 40.67it/s]"
          ]
        },
        {
          "output_type": "stream",
          "name": "stdout",
          "text": [
            "[Epoch 200, Batch 500] loss: 0.074\n"
          ]
        },
        {
          "output_type": "stream",
          "name": "stderr",
          "text": [
            "Epoch 200/250:  77%|███████▋  | 606/782 [00:14<00:04, 41.20it/s]"
          ]
        },
        {
          "output_type": "stream",
          "name": "stdout",
          "text": [
            "[Epoch 200, Batch 600] loss: 0.074\n"
          ]
        },
        {
          "output_type": "stream",
          "name": "stderr",
          "text": [
            "Epoch 200/250:  90%|█████████ | 706/782 [00:17<00:01, 41.67it/s]"
          ]
        },
        {
          "output_type": "stream",
          "name": "stdout",
          "text": [
            "[Epoch 200, Batch 700] loss: 0.074\n"
          ]
        },
        {
          "output_type": "stream",
          "name": "stderr",
          "text": [
            "Epoch 200/250: 100%|██████████| 782/782 [00:19<00:00, 41.09it/s]\n"
          ]
        },
        {
          "output_type": "stream",
          "name": "stdout",
          "text": [
            "Checkpoint saved at /content/gdrive/My Drive/checkpoints/AsymmetricAutoencoderMinus1/checkpoint_epoch_200.pth\n",
            "Validation Loss after epoch 200: 0.0742\n"
          ]
        },
        {
          "output_type": "stream",
          "name": "stderr",
          "text": [
            "Epoch 201/250:  14%|█▎        | 106/782 [00:02<00:16, 41.78it/s]"
          ]
        },
        {
          "output_type": "stream",
          "name": "stdout",
          "text": [
            "[Epoch 201, Batch 100] loss: 0.074\n"
          ]
        },
        {
          "output_type": "stream",
          "name": "stderr",
          "text": [
            "Epoch 201/250:  26%|██▋       | 206/782 [00:05<00:14, 40.57it/s]"
          ]
        },
        {
          "output_type": "stream",
          "name": "stdout",
          "text": [
            "[Epoch 201, Batch 200] loss: 0.074\n"
          ]
        },
        {
          "output_type": "stream",
          "name": "stderr",
          "text": [
            "Epoch 201/250:  39%|███▉      | 306/782 [00:07<00:11, 41.31it/s]"
          ]
        },
        {
          "output_type": "stream",
          "name": "stdout",
          "text": [
            "[Epoch 201, Batch 300] loss: 0.074\n"
          ]
        },
        {
          "output_type": "stream",
          "name": "stderr",
          "text": [
            "Epoch 201/250:  52%|█████▏    | 406/782 [00:09<00:09, 41.08it/s]"
          ]
        },
        {
          "output_type": "stream",
          "name": "stdout",
          "text": [
            "[Epoch 201, Batch 400] loss: 0.073\n"
          ]
        },
        {
          "output_type": "stream",
          "name": "stderr",
          "text": [
            "Epoch 201/250:  65%|██████▍   | 506/782 [00:12<00:06, 41.59it/s]"
          ]
        },
        {
          "output_type": "stream",
          "name": "stdout",
          "text": [
            "[Epoch 201, Batch 500] loss: 0.073\n"
          ]
        },
        {
          "output_type": "stream",
          "name": "stderr",
          "text": [
            "Epoch 201/250:  77%|███████▋  | 606/782 [00:14<00:04, 41.25it/s]"
          ]
        },
        {
          "output_type": "stream",
          "name": "stdout",
          "text": [
            "[Epoch 201, Batch 600] loss: 0.074\n"
          ]
        },
        {
          "output_type": "stream",
          "name": "stderr",
          "text": [
            "Epoch 201/250:  90%|█████████ | 706/782 [00:17<00:01, 41.23it/s]"
          ]
        },
        {
          "output_type": "stream",
          "name": "stdout",
          "text": [
            "[Epoch 201, Batch 700] loss: 0.074\n"
          ]
        },
        {
          "output_type": "stream",
          "name": "stderr",
          "text": [
            "Epoch 201/250: 100%|██████████| 782/782 [00:19<00:00, 41.03it/s]\n"
          ]
        },
        {
          "output_type": "stream",
          "name": "stdout",
          "text": [
            "Checkpoint saved at /content/gdrive/My Drive/checkpoints/AsymmetricAutoencoderMinus1/checkpoint_epoch_201.pth\n"
          ]
        },
        {
          "output_type": "stream",
          "name": "stderr",
          "text": [
            "Epoch 202/250:  14%|█▎        | 106/782 [00:02<00:16, 41.35it/s]"
          ]
        },
        {
          "output_type": "stream",
          "name": "stdout",
          "text": [
            "[Epoch 202, Batch 100] loss: 0.073\n"
          ]
        },
        {
          "output_type": "stream",
          "name": "stderr",
          "text": [
            "Epoch 202/250:  26%|██▋       | 206/782 [00:05<00:13, 41.71it/s]"
          ]
        },
        {
          "output_type": "stream",
          "name": "stdout",
          "text": [
            "[Epoch 202, Batch 200] loss: 0.075\n"
          ]
        },
        {
          "output_type": "stream",
          "name": "stderr",
          "text": [
            "Epoch 202/250:  39%|███▉      | 306/782 [00:07<00:11, 41.52it/s]"
          ]
        },
        {
          "output_type": "stream",
          "name": "stdout",
          "text": [
            "[Epoch 202, Batch 300] loss: 0.074\n"
          ]
        },
        {
          "output_type": "stream",
          "name": "stderr",
          "text": [
            "Epoch 202/250:  52%|█████▏    | 406/782 [00:09<00:09, 40.43it/s]"
          ]
        },
        {
          "output_type": "stream",
          "name": "stdout",
          "text": [
            "[Epoch 202, Batch 400] loss: 0.074\n"
          ]
        },
        {
          "output_type": "stream",
          "name": "stderr",
          "text": [
            "Epoch 202/250:  65%|██████▍   | 506/782 [00:12<00:06, 41.16it/s]"
          ]
        },
        {
          "output_type": "stream",
          "name": "stdout",
          "text": [
            "[Epoch 202, Batch 500] loss: 0.074\n"
          ]
        },
        {
          "output_type": "stream",
          "name": "stderr",
          "text": [
            "Epoch 202/250:  77%|███████▋  | 606/782 [00:14<00:04, 41.62it/s]"
          ]
        },
        {
          "output_type": "stream",
          "name": "stdout",
          "text": [
            "[Epoch 202, Batch 600] loss: 0.075\n"
          ]
        },
        {
          "output_type": "stream",
          "name": "stderr",
          "text": [
            "Epoch 202/250:  90%|█████████ | 706/782 [00:17<00:01, 41.03it/s]"
          ]
        },
        {
          "output_type": "stream",
          "name": "stdout",
          "text": [
            "[Epoch 202, Batch 700] loss: 0.073\n"
          ]
        },
        {
          "output_type": "stream",
          "name": "stderr",
          "text": [
            "Epoch 202/250: 100%|██████████| 782/782 [00:19<00:00, 41.02it/s]\n"
          ]
        },
        {
          "output_type": "stream",
          "name": "stdout",
          "text": [
            "Checkpoint saved at /content/gdrive/My Drive/checkpoints/AsymmetricAutoencoderMinus1/checkpoint_epoch_202.pth\n"
          ]
        },
        {
          "output_type": "stream",
          "name": "stderr",
          "text": [
            "Epoch 203/250:  14%|█▎        | 106/782 [00:02<00:16, 41.30it/s]"
          ]
        },
        {
          "output_type": "stream",
          "name": "stdout",
          "text": [
            "[Epoch 203, Batch 100] loss: 0.073\n"
          ]
        },
        {
          "output_type": "stream",
          "name": "stderr",
          "text": [
            "Epoch 203/250:  26%|██▋       | 206/782 [00:05<00:14, 40.84it/s]"
          ]
        },
        {
          "output_type": "stream",
          "name": "stdout",
          "text": [
            "[Epoch 203, Batch 200] loss: 0.074\n"
          ]
        },
        {
          "output_type": "stream",
          "name": "stderr",
          "text": [
            "Epoch 203/250:  39%|███▉      | 306/782 [00:07<00:11, 41.41it/s]"
          ]
        },
        {
          "output_type": "stream",
          "name": "stdout",
          "text": [
            "[Epoch 203, Batch 300] loss: 0.073\n"
          ]
        },
        {
          "output_type": "stream",
          "name": "stderr",
          "text": [
            "Epoch 203/250:  52%|█████▏    | 406/782 [00:09<00:09, 41.49it/s]"
          ]
        },
        {
          "output_type": "stream",
          "name": "stdout",
          "text": [
            "[Epoch 203, Batch 400] loss: 0.075\n"
          ]
        },
        {
          "output_type": "stream",
          "name": "stderr",
          "text": [
            "Epoch 203/250:  65%|██████▍   | 506/782 [00:12<00:06, 39.99it/s]"
          ]
        },
        {
          "output_type": "stream",
          "name": "stdout",
          "text": [
            "[Epoch 203, Batch 500] loss: 0.073\n"
          ]
        },
        {
          "output_type": "stream",
          "name": "stderr",
          "text": [
            "Epoch 203/250:  77%|███████▋  | 606/782 [00:14<00:04, 40.93it/s]"
          ]
        },
        {
          "output_type": "stream",
          "name": "stdout",
          "text": [
            "[Epoch 203, Batch 600] loss: 0.073\n"
          ]
        },
        {
          "output_type": "stream",
          "name": "stderr",
          "text": [
            "Epoch 203/250:  90%|█████████ | 706/782 [00:17<00:01, 41.67it/s]"
          ]
        },
        {
          "output_type": "stream",
          "name": "stdout",
          "text": [
            "[Epoch 203, Batch 700] loss: 0.075\n"
          ]
        },
        {
          "output_type": "stream",
          "name": "stderr",
          "text": [
            "Epoch 203/250: 100%|██████████| 782/782 [00:19<00:00, 40.94it/s]\n"
          ]
        },
        {
          "output_type": "stream",
          "name": "stdout",
          "text": [
            "Checkpoint saved at /content/gdrive/My Drive/checkpoints/AsymmetricAutoencoderMinus1/checkpoint_epoch_203.pth\n"
          ]
        },
        {
          "output_type": "stream",
          "name": "stderr",
          "text": [
            "Epoch 204/250:  14%|█▎        | 106/782 [00:02<00:16, 41.51it/s]"
          ]
        },
        {
          "output_type": "stream",
          "name": "stdout",
          "text": [
            "[Epoch 204, Batch 100] loss: 0.073\n"
          ]
        },
        {
          "output_type": "stream",
          "name": "stderr",
          "text": [
            "Epoch 204/250:  26%|██▋       | 206/782 [00:05<00:13, 41.36it/s]"
          ]
        },
        {
          "output_type": "stream",
          "name": "stdout",
          "text": [
            "[Epoch 204, Batch 200] loss: 0.073\n"
          ]
        },
        {
          "output_type": "stream",
          "name": "stderr",
          "text": [
            "Epoch 204/250:  39%|███▉      | 306/782 [00:07<00:11, 40.86it/s]"
          ]
        },
        {
          "output_type": "stream",
          "name": "stdout",
          "text": [
            "[Epoch 204, Batch 300] loss: 0.075\n"
          ]
        },
        {
          "output_type": "stream",
          "name": "stderr",
          "text": [
            "Epoch 204/250:  52%|█████▏    | 406/782 [00:09<00:09, 40.98it/s]"
          ]
        },
        {
          "output_type": "stream",
          "name": "stdout",
          "text": [
            "[Epoch 204, Batch 400] loss: 0.074\n"
          ]
        },
        {
          "output_type": "stream",
          "name": "stderr",
          "text": [
            "Epoch 204/250:  65%|██████▍   | 506/782 [00:12<00:06, 41.24it/s]"
          ]
        },
        {
          "output_type": "stream",
          "name": "stdout",
          "text": [
            "[Epoch 204, Batch 500] loss: 0.074\n"
          ]
        },
        {
          "output_type": "stream",
          "name": "stderr",
          "text": [
            "Epoch 204/250:  77%|███████▋  | 606/782 [00:14<00:04, 41.60it/s]"
          ]
        },
        {
          "output_type": "stream",
          "name": "stdout",
          "text": [
            "[Epoch 204, Batch 600] loss: 0.074\n"
          ]
        },
        {
          "output_type": "stream",
          "name": "stderr",
          "text": [
            "Epoch 204/250:  90%|█████████ | 706/782 [00:17<00:01, 41.18it/s]"
          ]
        },
        {
          "output_type": "stream",
          "name": "stdout",
          "text": [
            "[Epoch 204, Batch 700] loss: 0.074\n"
          ]
        },
        {
          "output_type": "stream",
          "name": "stderr",
          "text": [
            "Epoch 204/250: 100%|██████████| 782/782 [00:19<00:00, 40.97it/s]\n"
          ]
        },
        {
          "output_type": "stream",
          "name": "stdout",
          "text": [
            "Checkpoint saved at /content/gdrive/My Drive/checkpoints/AsymmetricAutoencoderMinus1/checkpoint_epoch_204.pth\n"
          ]
        },
        {
          "output_type": "stream",
          "name": "stderr",
          "text": [
            "Epoch 205/250:  14%|█▎        | 106/782 [00:02<00:16, 41.80it/s]"
          ]
        },
        {
          "output_type": "stream",
          "name": "stdout",
          "text": [
            "[Epoch 205, Batch 100] loss: 0.073\n"
          ]
        },
        {
          "output_type": "stream",
          "name": "stderr",
          "text": [
            "Epoch 205/250:  26%|██▋       | 206/782 [00:05<00:14, 40.84it/s]"
          ]
        },
        {
          "output_type": "stream",
          "name": "stdout",
          "text": [
            "[Epoch 205, Batch 200] loss: 0.074\n"
          ]
        },
        {
          "output_type": "stream",
          "name": "stderr",
          "text": [
            "Epoch 205/250:  39%|███▉      | 306/782 [00:07<00:11, 41.38it/s]"
          ]
        },
        {
          "output_type": "stream",
          "name": "stdout",
          "text": [
            "[Epoch 205, Batch 300] loss: 0.073\n"
          ]
        },
        {
          "output_type": "stream",
          "name": "stderr",
          "text": [
            "Epoch 205/250:  52%|█████▏    | 406/782 [00:09<00:09, 41.11it/s]"
          ]
        },
        {
          "output_type": "stream",
          "name": "stdout",
          "text": [
            "[Epoch 205, Batch 400] loss: 0.075\n"
          ]
        },
        {
          "output_type": "stream",
          "name": "stderr",
          "text": [
            "Epoch 205/250:  65%|██████▍   | 506/782 [00:12<00:06, 40.68it/s]"
          ]
        },
        {
          "output_type": "stream",
          "name": "stdout",
          "text": [
            "[Epoch 205, Batch 500] loss: 0.074\n"
          ]
        },
        {
          "output_type": "stream",
          "name": "stderr",
          "text": [
            "Epoch 205/250:  77%|███████▋  | 606/782 [00:14<00:04, 41.50it/s]"
          ]
        },
        {
          "output_type": "stream",
          "name": "stdout",
          "text": [
            "[Epoch 205, Batch 600] loss: 0.075\n"
          ]
        },
        {
          "output_type": "stream",
          "name": "stderr",
          "text": [
            "Epoch 205/250:  90%|█████████ | 706/782 [00:17<00:01, 41.70it/s]"
          ]
        },
        {
          "output_type": "stream",
          "name": "stdout",
          "text": [
            "[Epoch 205, Batch 700] loss: 0.073\n"
          ]
        },
        {
          "output_type": "stream",
          "name": "stderr",
          "text": [
            "Epoch 205/250: 100%|██████████| 782/782 [00:19<00:00, 41.03it/s]\n"
          ]
        },
        {
          "output_type": "stream",
          "name": "stdout",
          "text": [
            "Checkpoint saved at /content/gdrive/My Drive/checkpoints/AsymmetricAutoencoderMinus1/checkpoint_epoch_205.pth\n"
          ]
        },
        {
          "output_type": "stream",
          "name": "stderr",
          "text": [
            "Epoch 206/250:  14%|█▎        | 106/782 [00:02<00:16, 41.51it/s]"
          ]
        },
        {
          "output_type": "stream",
          "name": "stdout",
          "text": [
            "[Epoch 206, Batch 100] loss: 0.074\n"
          ]
        },
        {
          "output_type": "stream",
          "name": "stderr",
          "text": [
            "Epoch 206/250:  26%|██▋       | 206/782 [00:05<00:13, 41.24it/s]"
          ]
        },
        {
          "output_type": "stream",
          "name": "stdout",
          "text": [
            "[Epoch 206, Batch 200] loss: 0.074\n"
          ]
        },
        {
          "output_type": "stream",
          "name": "stderr",
          "text": [
            "Epoch 206/250:  39%|███▉      | 306/782 [00:07<00:11, 41.31it/s]"
          ]
        },
        {
          "output_type": "stream",
          "name": "stdout",
          "text": [
            "[Epoch 206, Batch 300] loss: 0.073\n"
          ]
        },
        {
          "output_type": "stream",
          "name": "stderr",
          "text": [
            "Epoch 206/250:  52%|█████▏    | 406/782 [00:09<00:09, 41.41it/s]"
          ]
        },
        {
          "output_type": "stream",
          "name": "stdout",
          "text": [
            "[Epoch 206, Batch 400] loss: 0.074\n"
          ]
        },
        {
          "output_type": "stream",
          "name": "stderr",
          "text": [
            "Epoch 206/250:  65%|██████▍   | 506/782 [00:12<00:06, 40.52it/s]"
          ]
        },
        {
          "output_type": "stream",
          "name": "stdout",
          "text": [
            "[Epoch 206, Batch 500] loss: 0.074\n"
          ]
        },
        {
          "output_type": "stream",
          "name": "stderr",
          "text": [
            "Epoch 206/250:  77%|███████▋  | 606/782 [00:14<00:04, 41.34it/s]"
          ]
        },
        {
          "output_type": "stream",
          "name": "stdout",
          "text": [
            "[Epoch 206, Batch 600] loss: 0.074\n"
          ]
        },
        {
          "output_type": "stream",
          "name": "stderr",
          "text": [
            "Epoch 206/250:  90%|█████████ | 706/782 [00:17<00:01, 40.93it/s]"
          ]
        },
        {
          "output_type": "stream",
          "name": "stdout",
          "text": [
            "[Epoch 206, Batch 700] loss: 0.074\n"
          ]
        },
        {
          "output_type": "stream",
          "name": "stderr",
          "text": [
            "Epoch 206/250: 100%|██████████| 782/782 [00:19<00:00, 40.97it/s]\n"
          ]
        },
        {
          "output_type": "stream",
          "name": "stdout",
          "text": [
            "Checkpoint saved at /content/gdrive/My Drive/checkpoints/AsymmetricAutoencoderMinus1/checkpoint_epoch_206.pth\n"
          ]
        },
        {
          "output_type": "stream",
          "name": "stderr",
          "text": [
            "Epoch 207/250:  14%|█▎        | 106/782 [00:02<00:16, 41.49it/s]"
          ]
        },
        {
          "output_type": "stream",
          "name": "stdout",
          "text": [
            "[Epoch 207, Batch 100] loss: 0.074\n"
          ]
        },
        {
          "output_type": "stream",
          "name": "stderr",
          "text": [
            "Epoch 207/250:  26%|██▋       | 206/782 [00:05<00:14, 40.82it/s]"
          ]
        },
        {
          "output_type": "stream",
          "name": "stdout",
          "text": [
            "[Epoch 207, Batch 200] loss: 0.074\n"
          ]
        },
        {
          "output_type": "stream",
          "name": "stderr",
          "text": [
            "Epoch 207/250:  39%|███▉      | 306/782 [00:07<00:11, 41.27it/s]"
          ]
        },
        {
          "output_type": "stream",
          "name": "stdout",
          "text": [
            "[Epoch 207, Batch 300] loss: 0.074\n"
          ]
        },
        {
          "output_type": "stream",
          "name": "stderr",
          "text": [
            "Epoch 207/250:  52%|█████▏    | 406/782 [00:09<00:09, 40.95it/s]"
          ]
        },
        {
          "output_type": "stream",
          "name": "stdout",
          "text": [
            "[Epoch 207, Batch 400] loss: 0.074\n"
          ]
        },
        {
          "output_type": "stream",
          "name": "stderr",
          "text": [
            "Epoch 207/250:  65%|██████▍   | 506/782 [00:12<00:06, 40.98it/s]"
          ]
        },
        {
          "output_type": "stream",
          "name": "stdout",
          "text": [
            "[Epoch 207, Batch 500] loss: 0.074\n"
          ]
        },
        {
          "output_type": "stream",
          "name": "stderr",
          "text": [
            "Epoch 207/250:  77%|███████▋  | 606/782 [00:14<00:04, 41.35it/s]"
          ]
        },
        {
          "output_type": "stream",
          "name": "stdout",
          "text": [
            "[Epoch 207, Batch 600] loss: 0.073\n"
          ]
        },
        {
          "output_type": "stream",
          "name": "stderr",
          "text": [
            "Epoch 207/250:  90%|█████████ | 706/782 [00:17<00:01, 41.37it/s]"
          ]
        },
        {
          "output_type": "stream",
          "name": "stdout",
          "text": [
            "[Epoch 207, Batch 700] loss: 0.074\n"
          ]
        },
        {
          "output_type": "stream",
          "name": "stderr",
          "text": [
            "Epoch 207/250: 100%|██████████| 782/782 [00:19<00:00, 41.01it/s]\n"
          ]
        },
        {
          "output_type": "stream",
          "name": "stdout",
          "text": [
            "Checkpoint saved at /content/gdrive/My Drive/checkpoints/AsymmetricAutoencoderMinus1/checkpoint_epoch_207.pth\n"
          ]
        },
        {
          "output_type": "stream",
          "name": "stderr",
          "text": [
            "Epoch 208/250:  13%|█▎        | 105/782 [00:02<00:16, 41.62it/s]"
          ]
        },
        {
          "output_type": "stream",
          "name": "stdout",
          "text": [
            "[Epoch 208, Batch 100] loss: 0.073\n"
          ]
        },
        {
          "output_type": "stream",
          "name": "stderr",
          "text": [
            "Epoch 208/250:  26%|██▌       | 205/782 [00:05<00:13, 41.73it/s]"
          ]
        },
        {
          "output_type": "stream",
          "name": "stdout",
          "text": [
            "[Epoch 208, Batch 200] loss: 0.073\n"
          ]
        },
        {
          "output_type": "stream",
          "name": "stderr",
          "text": [
            "Epoch 208/250:  39%|███▉      | 305/782 [00:07<00:11, 40.99it/s]"
          ]
        },
        {
          "output_type": "stream",
          "name": "stdout",
          "text": [
            "[Epoch 208, Batch 300] loss: 0.074\n"
          ]
        },
        {
          "output_type": "stream",
          "name": "stderr",
          "text": [
            "Epoch 208/250:  52%|█████▏    | 405/782 [00:09<00:09, 41.47it/s]"
          ]
        },
        {
          "output_type": "stream",
          "name": "stdout",
          "text": [
            "[Epoch 208, Batch 400] loss: 0.074\n"
          ]
        },
        {
          "output_type": "stream",
          "name": "stderr",
          "text": [
            "Epoch 208/250:  65%|██████▍   | 505/782 [00:12<00:06, 40.82it/s]"
          ]
        },
        {
          "output_type": "stream",
          "name": "stdout",
          "text": [
            "[Epoch 208, Batch 500] loss: 0.074\n"
          ]
        },
        {
          "output_type": "stream",
          "name": "stderr",
          "text": [
            "Epoch 208/250:  77%|███████▋  | 605/782 [00:14<00:04, 41.03it/s]"
          ]
        },
        {
          "output_type": "stream",
          "name": "stdout",
          "text": [
            "[Epoch 208, Batch 600] loss: 0.074\n"
          ]
        },
        {
          "output_type": "stream",
          "name": "stderr",
          "text": [
            "Epoch 208/250:  90%|█████████ | 705/782 [00:17<00:01, 41.53it/s]"
          ]
        },
        {
          "output_type": "stream",
          "name": "stdout",
          "text": [
            "[Epoch 208, Batch 700] loss: 0.074\n"
          ]
        },
        {
          "output_type": "stream",
          "name": "stderr",
          "text": [
            "Epoch 208/250: 100%|██████████| 782/782 [00:19<00:00, 40.98it/s]\n"
          ]
        },
        {
          "output_type": "stream",
          "name": "stdout",
          "text": [
            "Checkpoint saved at /content/gdrive/My Drive/checkpoints/AsymmetricAutoencoderMinus1/checkpoint_epoch_208.pth\n"
          ]
        },
        {
          "output_type": "stream",
          "name": "stderr",
          "text": [
            "Epoch 209/250:  14%|█▎        | 106/782 [00:02<00:16, 41.23it/s]"
          ]
        },
        {
          "output_type": "stream",
          "name": "stdout",
          "text": [
            "[Epoch 209, Batch 100] loss: 0.074\n"
          ]
        },
        {
          "output_type": "stream",
          "name": "stderr",
          "text": [
            "Epoch 209/250:  26%|██▋       | 206/782 [00:05<00:14, 41.02it/s]"
          ]
        },
        {
          "output_type": "stream",
          "name": "stdout",
          "text": [
            "[Epoch 209, Batch 200] loss: 0.074\n"
          ]
        },
        {
          "output_type": "stream",
          "name": "stderr",
          "text": [
            "Epoch 209/250:  39%|███▉      | 306/782 [00:07<00:11, 41.31it/s]"
          ]
        },
        {
          "output_type": "stream",
          "name": "stdout",
          "text": [
            "[Epoch 209, Batch 300] loss: 0.074\n"
          ]
        },
        {
          "output_type": "stream",
          "name": "stderr",
          "text": [
            "Epoch 209/250:  52%|█████▏    | 406/782 [00:09<00:09, 40.94it/s]"
          ]
        },
        {
          "output_type": "stream",
          "name": "stdout",
          "text": [
            "[Epoch 209, Batch 400] loss: 0.075\n"
          ]
        },
        {
          "output_type": "stream",
          "name": "stderr",
          "text": [
            "Epoch 209/250:  65%|██████▍   | 506/782 [00:12<00:06, 40.68it/s]"
          ]
        },
        {
          "output_type": "stream",
          "name": "stdout",
          "text": [
            "[Epoch 209, Batch 500] loss: 0.073\n"
          ]
        },
        {
          "output_type": "stream",
          "name": "stderr",
          "text": [
            "Epoch 209/250:  77%|███████▋  | 606/782 [00:14<00:04, 41.67it/s]"
          ]
        },
        {
          "output_type": "stream",
          "name": "stdout",
          "text": [
            "[Epoch 209, Batch 600] loss: 0.074\n"
          ]
        },
        {
          "output_type": "stream",
          "name": "stderr",
          "text": [
            "Epoch 209/250:  90%|█████████ | 706/782 [00:17<00:01, 41.23it/s]"
          ]
        },
        {
          "output_type": "stream",
          "name": "stdout",
          "text": [
            "[Epoch 209, Batch 700] loss: 0.074\n"
          ]
        },
        {
          "output_type": "stream",
          "name": "stderr",
          "text": [
            "Epoch 209/250: 100%|██████████| 782/782 [00:19<00:00, 40.87it/s]\n"
          ]
        },
        {
          "output_type": "stream",
          "name": "stdout",
          "text": [
            "Checkpoint saved at /content/gdrive/My Drive/checkpoints/AsymmetricAutoencoderMinus1/checkpoint_epoch_209.pth\n"
          ]
        },
        {
          "output_type": "stream",
          "name": "stderr",
          "text": [
            "Epoch 210/250:  14%|█▎        | 106/782 [00:02<00:16, 41.52it/s]"
          ]
        },
        {
          "output_type": "stream",
          "name": "stdout",
          "text": [
            "[Epoch 210, Batch 100] loss: 0.074\n"
          ]
        },
        {
          "output_type": "stream",
          "name": "stderr",
          "text": [
            "Epoch 210/250:  26%|██▋       | 206/782 [00:05<00:13, 41.33it/s]"
          ]
        },
        {
          "output_type": "stream",
          "name": "stdout",
          "text": [
            "[Epoch 210, Batch 200] loss: 0.074\n"
          ]
        },
        {
          "output_type": "stream",
          "name": "stderr",
          "text": [
            "Epoch 210/250:  39%|███▉      | 306/782 [00:07<00:11, 41.17it/s]"
          ]
        },
        {
          "output_type": "stream",
          "name": "stdout",
          "text": [
            "[Epoch 210, Batch 300] loss: 0.073\n"
          ]
        },
        {
          "output_type": "stream",
          "name": "stderr",
          "text": [
            "Epoch 210/250:  52%|█████▏    | 406/782 [00:09<00:09, 41.09it/s]"
          ]
        },
        {
          "output_type": "stream",
          "name": "stdout",
          "text": [
            "[Epoch 210, Batch 400] loss: 0.074\n"
          ]
        },
        {
          "output_type": "stream",
          "name": "stderr",
          "text": [
            "Epoch 210/250:  65%|██████▍   | 506/782 [00:12<00:06, 40.85it/s]"
          ]
        },
        {
          "output_type": "stream",
          "name": "stdout",
          "text": [
            "[Epoch 210, Batch 500] loss: 0.074\n"
          ]
        },
        {
          "output_type": "stream",
          "name": "stderr",
          "text": [
            "Epoch 210/250:  77%|███████▋  | 606/782 [00:14<00:04, 41.17it/s]"
          ]
        },
        {
          "output_type": "stream",
          "name": "stdout",
          "text": [
            "[Epoch 210, Batch 600] loss: 0.074\n"
          ]
        },
        {
          "output_type": "stream",
          "name": "stderr",
          "text": [
            "Epoch 210/250:  90%|█████████ | 706/782 [00:17<00:01, 41.51it/s]"
          ]
        },
        {
          "output_type": "stream",
          "name": "stdout",
          "text": [
            "[Epoch 210, Batch 700] loss: 0.073\n"
          ]
        },
        {
          "output_type": "stream",
          "name": "stderr",
          "text": [
            "Epoch 210/250: 100%|██████████| 782/782 [00:19<00:00, 40.87it/s]\n"
          ]
        },
        {
          "output_type": "stream",
          "name": "stdout",
          "text": [
            "Checkpoint saved at /content/gdrive/My Drive/checkpoints/AsymmetricAutoencoderMinus1/checkpoint_epoch_210.pth\n",
            "Validation Loss after epoch 210: 0.0742\n"
          ]
        },
        {
          "output_type": "stream",
          "name": "stderr",
          "text": [
            "Epoch 211/250:  14%|█▎        | 106/782 [00:02<00:16, 41.15it/s]"
          ]
        },
        {
          "output_type": "stream",
          "name": "stdout",
          "text": [
            "[Epoch 211, Batch 100] loss: 0.074\n"
          ]
        },
        {
          "output_type": "stream",
          "name": "stderr",
          "text": [
            "Epoch 211/250:  26%|██▋       | 206/782 [00:05<00:13, 41.19it/s]"
          ]
        },
        {
          "output_type": "stream",
          "name": "stdout",
          "text": [
            "[Epoch 211, Batch 200] loss: 0.074\n"
          ]
        },
        {
          "output_type": "stream",
          "name": "stderr",
          "text": [
            "Epoch 211/250:  39%|███▉      | 306/782 [00:07<00:11, 41.24it/s]"
          ]
        },
        {
          "output_type": "stream",
          "name": "stdout",
          "text": [
            "[Epoch 211, Batch 300] loss: 0.074\n"
          ]
        },
        {
          "output_type": "stream",
          "name": "stderr",
          "text": [
            "Epoch 211/250:  52%|█████▏    | 406/782 [00:09<00:09, 40.45it/s]"
          ]
        },
        {
          "output_type": "stream",
          "name": "stdout",
          "text": [
            "[Epoch 211, Batch 400] loss: 0.073\n"
          ]
        },
        {
          "output_type": "stream",
          "name": "stderr",
          "text": [
            "Epoch 211/250:  65%|██████▍   | 506/782 [00:12<00:06, 41.37it/s]"
          ]
        },
        {
          "output_type": "stream",
          "name": "stdout",
          "text": [
            "[Epoch 211, Batch 500] loss: 0.074\n"
          ]
        },
        {
          "output_type": "stream",
          "name": "stderr",
          "text": [
            "Epoch 211/250:  77%|███████▋  | 606/782 [00:14<00:04, 41.20it/s]"
          ]
        },
        {
          "output_type": "stream",
          "name": "stdout",
          "text": [
            "[Epoch 211, Batch 600] loss: 0.074\n"
          ]
        },
        {
          "output_type": "stream",
          "name": "stderr",
          "text": [
            "Epoch 211/250:  90%|█████████ | 706/782 [00:17<00:01, 41.08it/s]"
          ]
        },
        {
          "output_type": "stream",
          "name": "stdout",
          "text": [
            "[Epoch 211, Batch 700] loss: 0.074\n"
          ]
        },
        {
          "output_type": "stream",
          "name": "stderr",
          "text": [
            "Epoch 211/250: 100%|██████████| 782/782 [00:19<00:00, 40.94it/s]\n"
          ]
        },
        {
          "output_type": "stream",
          "name": "stdout",
          "text": [
            "Checkpoint saved at /content/gdrive/My Drive/checkpoints/AsymmetricAutoencoderMinus1/checkpoint_epoch_211.pth\n"
          ]
        },
        {
          "output_type": "stream",
          "name": "stderr",
          "text": [
            "Epoch 212/250:  14%|█▎        | 106/782 [00:02<00:16, 41.64it/s]"
          ]
        },
        {
          "output_type": "stream",
          "name": "stdout",
          "text": [
            "[Epoch 212, Batch 100] loss: 0.073\n"
          ]
        },
        {
          "output_type": "stream",
          "name": "stderr",
          "text": [
            "Epoch 212/250:  26%|██▋       | 206/782 [00:05<00:14, 41.02it/s]"
          ]
        },
        {
          "output_type": "stream",
          "name": "stdout",
          "text": [
            "[Epoch 212, Batch 200] loss: 0.074\n"
          ]
        },
        {
          "output_type": "stream",
          "name": "stderr",
          "text": [
            "Epoch 212/250:  39%|███▉      | 306/782 [00:07<00:11, 41.47it/s]"
          ]
        },
        {
          "output_type": "stream",
          "name": "stdout",
          "text": [
            "[Epoch 212, Batch 300] loss: 0.074\n"
          ]
        },
        {
          "output_type": "stream",
          "name": "stderr",
          "text": [
            "Epoch 212/250:  52%|█████▏    | 406/782 [00:09<00:09, 41.41it/s]"
          ]
        },
        {
          "output_type": "stream",
          "name": "stdout",
          "text": [
            "[Epoch 212, Batch 400] loss: 0.074\n"
          ]
        },
        {
          "output_type": "stream",
          "name": "stderr",
          "text": [
            "Epoch 212/250:  65%|██████▍   | 506/782 [00:12<00:06, 40.48it/s]"
          ]
        },
        {
          "output_type": "stream",
          "name": "stdout",
          "text": [
            "[Epoch 212, Batch 500] loss: 0.073\n"
          ]
        },
        {
          "output_type": "stream",
          "name": "stderr",
          "text": [
            "Epoch 212/250:  77%|███████▋  | 606/782 [00:14<00:04, 41.15it/s]"
          ]
        },
        {
          "output_type": "stream",
          "name": "stdout",
          "text": [
            "[Epoch 212, Batch 600] loss: 0.074\n"
          ]
        },
        {
          "output_type": "stream",
          "name": "stderr",
          "text": [
            "Epoch 212/250:  90%|█████████ | 706/782 [00:17<00:01, 41.12it/s]"
          ]
        },
        {
          "output_type": "stream",
          "name": "stdout",
          "text": [
            "[Epoch 212, Batch 700] loss: 0.074\n"
          ]
        },
        {
          "output_type": "stream",
          "name": "stderr",
          "text": [
            "Epoch 212/250: 100%|██████████| 782/782 [00:19<00:00, 40.97it/s]\n"
          ]
        },
        {
          "output_type": "stream",
          "name": "stdout",
          "text": [
            "Checkpoint saved at /content/gdrive/My Drive/checkpoints/AsymmetricAutoencoderMinus1/checkpoint_epoch_212.pth\n"
          ]
        },
        {
          "output_type": "stream",
          "name": "stderr",
          "text": [
            "Epoch 213/250:  13%|█▎        | 105/782 [00:02<00:16, 41.27it/s]"
          ]
        },
        {
          "output_type": "stream",
          "name": "stdout",
          "text": [
            "[Epoch 213, Batch 100] loss: 0.074\n"
          ]
        },
        {
          "output_type": "stream",
          "name": "stderr",
          "text": [
            "Epoch 213/250:  26%|██▌       | 205/782 [00:05<00:13, 41.64it/s]"
          ]
        },
        {
          "output_type": "stream",
          "name": "stdout",
          "text": [
            "[Epoch 213, Batch 200] loss: 0.074\n"
          ]
        },
        {
          "output_type": "stream",
          "name": "stderr",
          "text": [
            "Epoch 213/250:  39%|███▉      | 305/782 [00:07<00:11, 41.55it/s]"
          ]
        },
        {
          "output_type": "stream",
          "name": "stdout",
          "text": [
            "[Epoch 213, Batch 300] loss: 0.073\n"
          ]
        },
        {
          "output_type": "stream",
          "name": "stderr",
          "text": [
            "Epoch 213/250:  52%|█████▏    | 405/782 [00:09<00:09, 39.84it/s]"
          ]
        },
        {
          "output_type": "stream",
          "name": "stdout",
          "text": [
            "[Epoch 213, Batch 400] loss: 0.074\n"
          ]
        },
        {
          "output_type": "stream",
          "name": "stderr",
          "text": [
            "Epoch 213/250:  65%|██████▍   | 505/782 [00:12<00:06, 41.40it/s]"
          ]
        },
        {
          "output_type": "stream",
          "name": "stdout",
          "text": [
            "[Epoch 213, Batch 500] loss: 0.074\n"
          ]
        },
        {
          "output_type": "stream",
          "name": "stderr",
          "text": [
            "Epoch 213/250:  77%|███████▋  | 605/782 [00:14<00:04, 41.49it/s]"
          ]
        },
        {
          "output_type": "stream",
          "name": "stdout",
          "text": [
            "[Epoch 213, Batch 600] loss: 0.073\n"
          ]
        },
        {
          "output_type": "stream",
          "name": "stderr",
          "text": [
            "Epoch 213/250:  90%|█████████ | 705/782 [00:17<00:01, 41.14it/s]"
          ]
        },
        {
          "output_type": "stream",
          "name": "stdout",
          "text": [
            "[Epoch 213, Batch 700] loss: 0.074\n"
          ]
        },
        {
          "output_type": "stream",
          "name": "stderr",
          "text": [
            "Epoch 213/250: 100%|██████████| 782/782 [00:19<00:00, 40.95it/s]\n"
          ]
        },
        {
          "output_type": "stream",
          "name": "stdout",
          "text": [
            "Checkpoint saved at /content/gdrive/My Drive/checkpoints/AsymmetricAutoencoderMinus1/checkpoint_epoch_213.pth\n"
          ]
        },
        {
          "output_type": "stream",
          "name": "stderr",
          "text": [
            "Epoch 214/250:  14%|█▎        | 106/782 [00:02<00:16, 41.47it/s]"
          ]
        },
        {
          "output_type": "stream",
          "name": "stdout",
          "text": [
            "[Epoch 214, Batch 100] loss: 0.073\n"
          ]
        },
        {
          "output_type": "stream",
          "name": "stderr",
          "text": [
            "Epoch 214/250:  26%|██▋       | 206/782 [00:05<00:14, 41.09it/s]"
          ]
        },
        {
          "output_type": "stream",
          "name": "stdout",
          "text": [
            "[Epoch 214, Batch 200] loss: 0.074\n"
          ]
        },
        {
          "output_type": "stream",
          "name": "stderr",
          "text": [
            "Epoch 214/250:  39%|███▉      | 306/782 [00:07<00:11, 41.53it/s]"
          ]
        },
        {
          "output_type": "stream",
          "name": "stdout",
          "text": [
            "[Epoch 214, Batch 300] loss: 0.074\n"
          ]
        },
        {
          "output_type": "stream",
          "name": "stderr",
          "text": [
            "Epoch 214/250:  52%|█████▏    | 406/782 [00:09<00:09, 41.20it/s]"
          ]
        },
        {
          "output_type": "stream",
          "name": "stdout",
          "text": [
            "[Epoch 214, Batch 400] loss: 0.074\n"
          ]
        },
        {
          "output_type": "stream",
          "name": "stderr",
          "text": [
            "Epoch 214/250:  65%|██████▍   | 506/782 [00:12<00:06, 41.21it/s]"
          ]
        },
        {
          "output_type": "stream",
          "name": "stdout",
          "text": [
            "[Epoch 214, Batch 500] loss: 0.074\n"
          ]
        },
        {
          "output_type": "stream",
          "name": "stderr",
          "text": [
            "Epoch 214/250:  77%|███████▋  | 606/782 [00:14<00:04, 40.87it/s]"
          ]
        },
        {
          "output_type": "stream",
          "name": "stdout",
          "text": [
            "[Epoch 214, Batch 600] loss: 0.073\n"
          ]
        },
        {
          "output_type": "stream",
          "name": "stderr",
          "text": [
            "Epoch 214/250:  90%|█████████ | 706/782 [00:17<00:01, 41.15it/s]"
          ]
        },
        {
          "output_type": "stream",
          "name": "stdout",
          "text": [
            "[Epoch 214, Batch 700] loss: 0.074\n"
          ]
        },
        {
          "output_type": "stream",
          "name": "stderr",
          "text": [
            "Epoch 214/250: 100%|██████████| 782/782 [00:19<00:00, 40.97it/s]\n"
          ]
        },
        {
          "output_type": "stream",
          "name": "stdout",
          "text": [
            "Checkpoint saved at /content/gdrive/My Drive/checkpoints/AsymmetricAutoencoderMinus1/checkpoint_epoch_214.pth\n"
          ]
        },
        {
          "output_type": "stream",
          "name": "stderr",
          "text": [
            "Epoch 215/250:  14%|█▎        | 106/782 [00:02<00:16, 41.29it/s]"
          ]
        },
        {
          "output_type": "stream",
          "name": "stdout",
          "text": [
            "[Epoch 215, Batch 100] loss: 0.075\n"
          ]
        },
        {
          "output_type": "stream",
          "name": "stderr",
          "text": [
            "Epoch 215/250:  26%|██▋       | 206/782 [00:05<00:13, 41.72it/s]"
          ]
        },
        {
          "output_type": "stream",
          "name": "stdout",
          "text": [
            "[Epoch 215, Batch 200] loss: 0.074\n"
          ]
        },
        {
          "output_type": "stream",
          "name": "stderr",
          "text": [
            "Epoch 215/250:  39%|███▉      | 306/782 [00:07<00:11, 41.39it/s]"
          ]
        },
        {
          "output_type": "stream",
          "name": "stdout",
          "text": [
            "[Epoch 215, Batch 300] loss: 0.074\n"
          ]
        },
        {
          "output_type": "stream",
          "name": "stderr",
          "text": [
            "Epoch 215/250:  52%|█████▏    | 406/782 [00:09<00:09, 41.03it/s]"
          ]
        },
        {
          "output_type": "stream",
          "name": "stdout",
          "text": [
            "[Epoch 215, Batch 400] loss: 0.074\n"
          ]
        },
        {
          "output_type": "stream",
          "name": "stderr",
          "text": [
            "Epoch 215/250:  65%|██████▍   | 506/782 [00:12<00:06, 40.92it/s]"
          ]
        },
        {
          "output_type": "stream",
          "name": "stdout",
          "text": [
            "[Epoch 215, Batch 500] loss: 0.073\n"
          ]
        },
        {
          "output_type": "stream",
          "name": "stderr",
          "text": [
            "Epoch 215/250:  77%|███████▋  | 606/782 [00:14<00:04, 41.52it/s]"
          ]
        },
        {
          "output_type": "stream",
          "name": "stdout",
          "text": [
            "[Epoch 215, Batch 600] loss: 0.074\n"
          ]
        },
        {
          "output_type": "stream",
          "name": "stderr",
          "text": [
            "Epoch 215/250:  90%|█████████ | 706/782 [00:17<00:01, 40.98it/s]"
          ]
        },
        {
          "output_type": "stream",
          "name": "stdout",
          "text": [
            "[Epoch 215, Batch 700] loss: 0.074\n"
          ]
        },
        {
          "output_type": "stream",
          "name": "stderr",
          "text": [
            "Epoch 215/250: 100%|██████████| 782/782 [00:19<00:00, 41.03it/s]\n"
          ]
        },
        {
          "output_type": "stream",
          "name": "stdout",
          "text": [
            "Checkpoint saved at /content/gdrive/My Drive/checkpoints/AsymmetricAutoencoderMinus1/checkpoint_epoch_215.pth\n"
          ]
        },
        {
          "output_type": "stream",
          "name": "stderr",
          "text": [
            "Epoch 216/250:  14%|█▎        | 106/782 [00:02<00:16, 41.73it/s]"
          ]
        },
        {
          "output_type": "stream",
          "name": "stdout",
          "text": [
            "[Epoch 216, Batch 100] loss: 0.074\n"
          ]
        },
        {
          "output_type": "stream",
          "name": "stderr",
          "text": [
            "Epoch 216/250:  26%|██▋       | 206/782 [00:05<00:13, 41.20it/s]"
          ]
        },
        {
          "output_type": "stream",
          "name": "stdout",
          "text": [
            "[Epoch 216, Batch 200] loss: 0.074\n"
          ]
        },
        {
          "output_type": "stream",
          "name": "stderr",
          "text": [
            "Epoch 216/250:  39%|███▉      | 306/782 [00:07<00:11, 41.71it/s]"
          ]
        },
        {
          "output_type": "stream",
          "name": "stdout",
          "text": [
            "[Epoch 216, Batch 300] loss: 0.074\n"
          ]
        },
        {
          "output_type": "stream",
          "name": "stderr",
          "text": [
            "Epoch 216/250:  52%|█████▏    | 406/782 [00:09<00:09, 40.99it/s]"
          ]
        },
        {
          "output_type": "stream",
          "name": "stdout",
          "text": [
            "[Epoch 216, Batch 400] loss: 0.075\n"
          ]
        },
        {
          "output_type": "stream",
          "name": "stderr",
          "text": [
            "Epoch 216/250:  65%|██████▍   | 506/782 [00:12<00:06, 40.76it/s]"
          ]
        },
        {
          "output_type": "stream",
          "name": "stdout",
          "text": [
            "[Epoch 216, Batch 500] loss: 0.073\n"
          ]
        },
        {
          "output_type": "stream",
          "name": "stderr",
          "text": [
            "Epoch 216/250:  77%|███████▋  | 606/782 [00:14<00:04, 41.03it/s]"
          ]
        },
        {
          "output_type": "stream",
          "name": "stdout",
          "text": [
            "[Epoch 216, Batch 600] loss: 0.074\n"
          ]
        },
        {
          "output_type": "stream",
          "name": "stderr",
          "text": [
            "Epoch 216/250:  90%|█████████ | 706/782 [00:17<00:01, 41.36it/s]"
          ]
        },
        {
          "output_type": "stream",
          "name": "stdout",
          "text": [
            "[Epoch 216, Batch 700] loss: 0.074\n"
          ]
        },
        {
          "output_type": "stream",
          "name": "stderr",
          "text": [
            "Epoch 216/250: 100%|██████████| 782/782 [00:19<00:00, 41.05it/s]\n"
          ]
        },
        {
          "output_type": "stream",
          "name": "stdout",
          "text": [
            "Checkpoint saved at /content/gdrive/My Drive/checkpoints/AsymmetricAutoencoderMinus1/checkpoint_epoch_216.pth\n"
          ]
        },
        {
          "output_type": "stream",
          "name": "stderr",
          "text": [
            "Epoch 217/250:  14%|█▎        | 106/782 [00:02<00:16, 41.29it/s]"
          ]
        },
        {
          "output_type": "stream",
          "name": "stdout",
          "text": [
            "[Epoch 217, Batch 100] loss: 0.073\n"
          ]
        },
        {
          "output_type": "stream",
          "name": "stderr",
          "text": [
            "Epoch 217/250:  26%|██▋       | 206/782 [00:05<00:13, 41.40it/s]"
          ]
        },
        {
          "output_type": "stream",
          "name": "stdout",
          "text": [
            "[Epoch 217, Batch 200] loss: 0.074\n"
          ]
        },
        {
          "output_type": "stream",
          "name": "stderr",
          "text": [
            "Epoch 217/250:  39%|███▉      | 306/782 [00:07<00:11, 41.53it/s]"
          ]
        },
        {
          "output_type": "stream",
          "name": "stdout",
          "text": [
            "[Epoch 217, Batch 300] loss: 0.074\n"
          ]
        },
        {
          "output_type": "stream",
          "name": "stderr",
          "text": [
            "Epoch 217/250:  52%|█████▏    | 406/782 [00:09<00:09, 41.55it/s]"
          ]
        },
        {
          "output_type": "stream",
          "name": "stdout",
          "text": [
            "[Epoch 217, Batch 400] loss: 0.074\n"
          ]
        },
        {
          "output_type": "stream",
          "name": "stderr",
          "text": [
            "Epoch 217/250:  65%|██████▍   | 506/782 [00:12<00:06, 40.62it/s]"
          ]
        },
        {
          "output_type": "stream",
          "name": "stdout",
          "text": [
            "[Epoch 217, Batch 500] loss: 0.074\n"
          ]
        },
        {
          "output_type": "stream",
          "name": "stderr",
          "text": [
            "Epoch 217/250:  77%|███████▋  | 606/782 [00:14<00:04, 41.46it/s]"
          ]
        },
        {
          "output_type": "stream",
          "name": "stdout",
          "text": [
            "[Epoch 217, Batch 600] loss: 0.074\n"
          ]
        },
        {
          "output_type": "stream",
          "name": "stderr",
          "text": [
            "Epoch 217/250:  90%|█████████ | 706/782 [00:17<00:01, 41.17it/s]"
          ]
        },
        {
          "output_type": "stream",
          "name": "stdout",
          "text": [
            "[Epoch 217, Batch 700] loss: 0.074\n"
          ]
        },
        {
          "output_type": "stream",
          "name": "stderr",
          "text": [
            "Epoch 217/250: 100%|██████████| 782/782 [00:19<00:00, 41.01it/s]\n"
          ]
        },
        {
          "output_type": "stream",
          "name": "stdout",
          "text": [
            "Checkpoint saved at /content/gdrive/My Drive/checkpoints/AsymmetricAutoencoderMinus1/checkpoint_epoch_217.pth\n"
          ]
        },
        {
          "output_type": "stream",
          "name": "stderr",
          "text": [
            "Epoch 218/250:  14%|█▎        | 106/782 [00:02<00:16, 41.55it/s]"
          ]
        },
        {
          "output_type": "stream",
          "name": "stdout",
          "text": [
            "[Epoch 218, Batch 100] loss: 0.073\n"
          ]
        },
        {
          "output_type": "stream",
          "name": "stderr",
          "text": [
            "Epoch 218/250:  26%|██▋       | 206/782 [00:05<00:13, 41.16it/s]"
          ]
        },
        {
          "output_type": "stream",
          "name": "stdout",
          "text": [
            "[Epoch 218, Batch 200] loss: 0.075\n"
          ]
        },
        {
          "output_type": "stream",
          "name": "stderr",
          "text": [
            "Epoch 218/250:  39%|███▉      | 306/782 [00:07<00:11, 41.10it/s]"
          ]
        },
        {
          "output_type": "stream",
          "name": "stdout",
          "text": [
            "[Epoch 218, Batch 300] loss: 0.074\n"
          ]
        },
        {
          "output_type": "stream",
          "name": "stderr",
          "text": [
            "Epoch 218/250:  52%|█████▏    | 406/782 [00:09<00:09, 41.03it/s]"
          ]
        },
        {
          "output_type": "stream",
          "name": "stdout",
          "text": [
            "[Epoch 218, Batch 400] loss: 0.073\n"
          ]
        },
        {
          "output_type": "stream",
          "name": "stderr",
          "text": [
            "Epoch 218/250:  65%|██████▍   | 506/782 [00:12<00:06, 41.34it/s]"
          ]
        },
        {
          "output_type": "stream",
          "name": "stdout",
          "text": [
            "[Epoch 218, Batch 500] loss: 0.074\n"
          ]
        },
        {
          "output_type": "stream",
          "name": "stderr",
          "text": [
            "Epoch 218/250:  77%|███████▋  | 606/782 [00:14<00:04, 40.99it/s]"
          ]
        },
        {
          "output_type": "stream",
          "name": "stdout",
          "text": [
            "[Epoch 218, Batch 600] loss: 0.074\n"
          ]
        },
        {
          "output_type": "stream",
          "name": "stderr",
          "text": [
            "Epoch 218/250:  90%|█████████ | 706/782 [00:17<00:01, 41.31it/s]"
          ]
        },
        {
          "output_type": "stream",
          "name": "stdout",
          "text": [
            "[Epoch 218, Batch 700] loss: 0.074\n"
          ]
        },
        {
          "output_type": "stream",
          "name": "stderr",
          "text": [
            "Epoch 218/250: 100%|██████████| 782/782 [00:19<00:00, 41.01it/s]\n"
          ]
        },
        {
          "output_type": "stream",
          "name": "stdout",
          "text": [
            "Checkpoint saved at /content/gdrive/My Drive/checkpoints/AsymmetricAutoencoderMinus1/checkpoint_epoch_218.pth\n"
          ]
        },
        {
          "output_type": "stream",
          "name": "stderr",
          "text": [
            "Epoch 219/250:  14%|█▎        | 106/782 [00:02<00:16, 40.80it/s]"
          ]
        },
        {
          "output_type": "stream",
          "name": "stdout",
          "text": [
            "[Epoch 219, Batch 100] loss: 0.073\n"
          ]
        },
        {
          "output_type": "stream",
          "name": "stderr",
          "text": [
            "Epoch 219/250:  26%|██▋       | 206/782 [00:05<00:13, 41.48it/s]"
          ]
        },
        {
          "output_type": "stream",
          "name": "stdout",
          "text": [
            "[Epoch 219, Batch 200] loss: 0.074\n"
          ]
        },
        {
          "output_type": "stream",
          "name": "stderr",
          "text": [
            "Epoch 219/250:  39%|███▉      | 306/782 [00:07<00:11, 41.56it/s]"
          ]
        },
        {
          "output_type": "stream",
          "name": "stdout",
          "text": [
            "[Epoch 219, Batch 300] loss: 0.075\n"
          ]
        },
        {
          "output_type": "stream",
          "name": "stderr",
          "text": [
            "Epoch 219/250:  52%|█████▏    | 406/782 [00:09<00:09, 41.03it/s]"
          ]
        },
        {
          "output_type": "stream",
          "name": "stdout",
          "text": [
            "[Epoch 219, Batch 400] loss: 0.074\n"
          ]
        },
        {
          "output_type": "stream",
          "name": "stderr",
          "text": [
            "Epoch 219/250:  65%|██████▍   | 506/782 [00:12<00:06, 40.89it/s]"
          ]
        },
        {
          "output_type": "stream",
          "name": "stdout",
          "text": [
            "[Epoch 219, Batch 500] loss: 0.074\n"
          ]
        },
        {
          "output_type": "stream",
          "name": "stderr",
          "text": [
            "Epoch 219/250:  77%|███████▋  | 606/782 [00:14<00:04, 41.22it/s]"
          ]
        },
        {
          "output_type": "stream",
          "name": "stdout",
          "text": [
            "[Epoch 219, Batch 600] loss: 0.073\n"
          ]
        },
        {
          "output_type": "stream",
          "name": "stderr",
          "text": [
            "Epoch 219/250:  90%|█████████ | 706/782 [00:17<00:01, 41.22it/s]"
          ]
        },
        {
          "output_type": "stream",
          "name": "stdout",
          "text": [
            "[Epoch 219, Batch 700] loss: 0.074\n"
          ]
        },
        {
          "output_type": "stream",
          "name": "stderr",
          "text": [
            "Epoch 219/250: 100%|██████████| 782/782 [00:19<00:00, 40.95it/s]\n"
          ]
        },
        {
          "output_type": "stream",
          "name": "stdout",
          "text": [
            "Checkpoint saved at /content/gdrive/My Drive/checkpoints/AsymmetricAutoencoderMinus1/checkpoint_epoch_219.pth\n"
          ]
        },
        {
          "output_type": "stream",
          "name": "stderr",
          "text": [
            "Epoch 220/250:  14%|█▎        | 106/782 [00:02<00:16, 41.48it/s]"
          ]
        },
        {
          "output_type": "stream",
          "name": "stdout",
          "text": [
            "[Epoch 220, Batch 100] loss: 0.074\n"
          ]
        },
        {
          "output_type": "stream",
          "name": "stderr",
          "text": [
            "Epoch 220/250:  26%|██▋       | 206/782 [00:05<00:14, 41.12it/s]"
          ]
        },
        {
          "output_type": "stream",
          "name": "stdout",
          "text": [
            "[Epoch 220, Batch 200] loss: 0.073\n"
          ]
        },
        {
          "output_type": "stream",
          "name": "stderr",
          "text": [
            "Epoch 220/250:  39%|███▉      | 306/782 [00:07<00:11, 40.50it/s]"
          ]
        },
        {
          "output_type": "stream",
          "name": "stdout",
          "text": [
            "[Epoch 220, Batch 300] loss: 0.074\n"
          ]
        },
        {
          "output_type": "stream",
          "name": "stderr",
          "text": [
            "Epoch 220/250:  52%|█████▏    | 406/782 [00:09<00:09, 41.45it/s]"
          ]
        },
        {
          "output_type": "stream",
          "name": "stdout",
          "text": [
            "[Epoch 220, Batch 400] loss: 0.074\n"
          ]
        },
        {
          "output_type": "stream",
          "name": "stderr",
          "text": [
            "Epoch 220/250:  65%|██████▍   | 506/782 [00:12<00:06, 40.91it/s]"
          ]
        },
        {
          "output_type": "stream",
          "name": "stdout",
          "text": [
            "[Epoch 220, Batch 500] loss: 0.074\n"
          ]
        },
        {
          "output_type": "stream",
          "name": "stderr",
          "text": [
            "Epoch 220/250:  77%|███████▋  | 606/782 [00:14<00:04, 41.25it/s]"
          ]
        },
        {
          "output_type": "stream",
          "name": "stdout",
          "text": [
            "[Epoch 220, Batch 600] loss: 0.074\n"
          ]
        },
        {
          "output_type": "stream",
          "name": "stderr",
          "text": [
            "Epoch 220/250:  90%|█████████ | 706/782 [00:17<00:01, 41.59it/s]"
          ]
        },
        {
          "output_type": "stream",
          "name": "stdout",
          "text": [
            "[Epoch 220, Batch 700] loss: 0.074\n"
          ]
        },
        {
          "output_type": "stream",
          "name": "stderr",
          "text": [
            "Epoch 220/250: 100%|██████████| 782/782 [00:19<00:00, 41.05it/s]\n"
          ]
        },
        {
          "output_type": "stream",
          "name": "stdout",
          "text": [
            "Checkpoint saved at /content/gdrive/My Drive/checkpoints/AsymmetricAutoencoderMinus1/checkpoint_epoch_220.pth\n",
            "Validation Loss after epoch 220: 0.0742\n"
          ]
        },
        {
          "output_type": "stream",
          "name": "stderr",
          "text": [
            "Epoch 221/250:  14%|█▎        | 106/782 [00:02<00:16, 41.43it/s]"
          ]
        },
        {
          "output_type": "stream",
          "name": "stdout",
          "text": [
            "[Epoch 221, Batch 100] loss: 0.074\n"
          ]
        },
        {
          "output_type": "stream",
          "name": "stderr",
          "text": [
            "Epoch 221/250:  26%|██▋       | 206/782 [00:05<00:13, 41.20it/s]"
          ]
        },
        {
          "output_type": "stream",
          "name": "stdout",
          "text": [
            "[Epoch 221, Batch 200] loss: 0.074\n"
          ]
        },
        {
          "output_type": "stream",
          "name": "stderr",
          "text": [
            "Epoch 221/250:  39%|███▉      | 306/782 [00:07<00:11, 41.18it/s]"
          ]
        },
        {
          "output_type": "stream",
          "name": "stdout",
          "text": [
            "[Epoch 221, Batch 300] loss: 0.074\n"
          ]
        },
        {
          "output_type": "stream",
          "name": "stderr",
          "text": [
            "Epoch 221/250:  52%|█████▏    | 406/782 [00:09<00:09, 40.77it/s]"
          ]
        },
        {
          "output_type": "stream",
          "name": "stdout",
          "text": [
            "[Epoch 221, Batch 400] loss: 0.073\n"
          ]
        },
        {
          "output_type": "stream",
          "name": "stderr",
          "text": [
            "Epoch 221/250:  65%|██████▍   | 506/782 [00:12<00:06, 41.29it/s]"
          ]
        },
        {
          "output_type": "stream",
          "name": "stdout",
          "text": [
            "[Epoch 221, Batch 500] loss: 0.074\n"
          ]
        },
        {
          "output_type": "stream",
          "name": "stderr",
          "text": [
            "Epoch 221/250:  77%|███████▋  | 606/782 [00:14<00:04, 41.26it/s]"
          ]
        },
        {
          "output_type": "stream",
          "name": "stdout",
          "text": [
            "[Epoch 221, Batch 600] loss: 0.073\n"
          ]
        },
        {
          "output_type": "stream",
          "name": "stderr",
          "text": [
            "Epoch 221/250:  90%|█████████ | 706/782 [00:17<00:01, 41.16it/s]"
          ]
        },
        {
          "output_type": "stream",
          "name": "stdout",
          "text": [
            "[Epoch 221, Batch 700] loss: 0.074\n"
          ]
        },
        {
          "output_type": "stream",
          "name": "stderr",
          "text": [
            "Epoch 221/250: 100%|██████████| 782/782 [00:19<00:00, 40.97it/s]\n"
          ]
        },
        {
          "output_type": "stream",
          "name": "stdout",
          "text": [
            "Checkpoint saved at /content/gdrive/My Drive/checkpoints/AsymmetricAutoencoderMinus1/checkpoint_epoch_221.pth\n"
          ]
        },
        {
          "output_type": "stream",
          "name": "stderr",
          "text": [
            "Epoch 222/250:  14%|█▎        | 106/782 [00:02<00:16, 41.45it/s]"
          ]
        },
        {
          "output_type": "stream",
          "name": "stdout",
          "text": [
            "[Epoch 222, Batch 100] loss: 0.074\n"
          ]
        },
        {
          "output_type": "stream",
          "name": "stderr",
          "text": [
            "Epoch 222/250:  26%|██▋       | 206/782 [00:05<00:14, 41.12it/s]"
          ]
        },
        {
          "output_type": "stream",
          "name": "stdout",
          "text": [
            "[Epoch 222, Batch 200] loss: 0.074\n"
          ]
        },
        {
          "output_type": "stream",
          "name": "stderr",
          "text": [
            "Epoch 222/250:  39%|███▉      | 306/782 [00:07<00:11, 41.46it/s]"
          ]
        },
        {
          "output_type": "stream",
          "name": "stdout",
          "text": [
            "[Epoch 222, Batch 300] loss: 0.074\n"
          ]
        },
        {
          "output_type": "stream",
          "name": "stderr",
          "text": [
            "Epoch 222/250:  52%|█████▏    | 406/782 [00:09<00:09, 40.78it/s]"
          ]
        },
        {
          "output_type": "stream",
          "name": "stdout",
          "text": [
            "[Epoch 222, Batch 400] loss: 0.073\n"
          ]
        },
        {
          "output_type": "stream",
          "name": "stderr",
          "text": [
            "Epoch 222/250:  65%|██████▍   | 506/782 [00:12<00:06, 41.02it/s]"
          ]
        },
        {
          "output_type": "stream",
          "name": "stdout",
          "text": [
            "[Epoch 222, Batch 500] loss: 0.074\n"
          ]
        },
        {
          "output_type": "stream",
          "name": "stderr",
          "text": [
            "Epoch 222/250:  77%|███████▋  | 606/782 [00:14<00:04, 41.29it/s]"
          ]
        },
        {
          "output_type": "stream",
          "name": "stdout",
          "text": [
            "[Epoch 222, Batch 600] loss: 0.074\n"
          ]
        },
        {
          "output_type": "stream",
          "name": "stderr",
          "text": [
            "Epoch 222/250:  90%|█████████ | 706/782 [00:17<00:01, 41.49it/s]"
          ]
        },
        {
          "output_type": "stream",
          "name": "stdout",
          "text": [
            "[Epoch 222, Batch 700] loss: 0.074\n"
          ]
        },
        {
          "output_type": "stream",
          "name": "stderr",
          "text": [
            "Epoch 222/250: 100%|██████████| 782/782 [00:19<00:00, 40.99it/s]\n"
          ]
        },
        {
          "output_type": "stream",
          "name": "stdout",
          "text": [
            "Checkpoint saved at /content/gdrive/My Drive/checkpoints/AsymmetricAutoencoderMinus1/checkpoint_epoch_222.pth\n"
          ]
        },
        {
          "output_type": "stream",
          "name": "stderr",
          "text": [
            "Epoch 223/250:  14%|█▎        | 106/782 [00:02<00:16, 41.33it/s]"
          ]
        },
        {
          "output_type": "stream",
          "name": "stdout",
          "text": [
            "[Epoch 223, Batch 100] loss: 0.074\n"
          ]
        },
        {
          "output_type": "stream",
          "name": "stderr",
          "text": [
            "Epoch 223/250:  26%|██▋       | 206/782 [00:05<00:13, 41.29it/s]"
          ]
        },
        {
          "output_type": "stream",
          "name": "stdout",
          "text": [
            "[Epoch 223, Batch 200] loss: 0.074\n"
          ]
        },
        {
          "output_type": "stream",
          "name": "stderr",
          "text": [
            "Epoch 223/250:  39%|███▉      | 306/782 [00:07<00:11, 40.77it/s]"
          ]
        },
        {
          "output_type": "stream",
          "name": "stdout",
          "text": [
            "[Epoch 223, Batch 300] loss: 0.074\n"
          ]
        },
        {
          "output_type": "stream",
          "name": "stderr",
          "text": [
            "Epoch 223/250:  52%|█████▏    | 406/782 [00:09<00:09, 40.89it/s]"
          ]
        },
        {
          "output_type": "stream",
          "name": "stdout",
          "text": [
            "[Epoch 223, Batch 400] loss: 0.074\n"
          ]
        },
        {
          "output_type": "stream",
          "name": "stderr",
          "text": [
            "Epoch 223/250:  65%|██████▍   | 506/782 [00:12<00:06, 41.04it/s]"
          ]
        },
        {
          "output_type": "stream",
          "name": "stdout",
          "text": [
            "[Epoch 223, Batch 500] loss: 0.074\n"
          ]
        },
        {
          "output_type": "stream",
          "name": "stderr",
          "text": [
            "Epoch 223/250:  77%|███████▋  | 606/782 [00:14<00:04, 41.14it/s]"
          ]
        },
        {
          "output_type": "stream",
          "name": "stdout",
          "text": [
            "[Epoch 223, Batch 600] loss: 0.074\n"
          ]
        },
        {
          "output_type": "stream",
          "name": "stderr",
          "text": [
            "Epoch 223/250:  90%|█████████ | 706/782 [00:17<00:01, 41.00it/s]"
          ]
        },
        {
          "output_type": "stream",
          "name": "stdout",
          "text": [
            "[Epoch 223, Batch 700] loss: 0.074\n"
          ]
        },
        {
          "output_type": "stream",
          "name": "stderr",
          "text": [
            "Epoch 223/250: 100%|██████████| 782/782 [00:19<00:00, 40.87it/s]\n"
          ]
        },
        {
          "output_type": "stream",
          "name": "stdout",
          "text": [
            "Checkpoint saved at /content/gdrive/My Drive/checkpoints/AsymmetricAutoencoderMinus1/checkpoint_epoch_223.pth\n"
          ]
        },
        {
          "output_type": "stream",
          "name": "stderr",
          "text": [
            "Epoch 224/250:  14%|█▍        | 108/782 [00:02<00:16, 41.12it/s]"
          ]
        },
        {
          "output_type": "stream",
          "name": "stdout",
          "text": [
            "[Epoch 224, Batch 100] loss: 0.074\n"
          ]
        },
        {
          "output_type": "stream",
          "name": "stderr",
          "text": [
            "Epoch 224/250:  27%|██▋       | 208/782 [00:05<00:13, 41.55it/s]"
          ]
        },
        {
          "output_type": "stream",
          "name": "stdout",
          "text": [
            "[Epoch 224, Batch 200] loss: 0.075\n"
          ]
        },
        {
          "output_type": "stream",
          "name": "stderr",
          "text": [
            "Epoch 224/250:  39%|███▉      | 308/782 [00:07<00:11, 41.23it/s]"
          ]
        },
        {
          "output_type": "stream",
          "name": "stdout",
          "text": [
            "[Epoch 224, Batch 300] loss: 0.074\n"
          ]
        },
        {
          "output_type": "stream",
          "name": "stderr",
          "text": [
            "Epoch 224/250:  52%|█████▏    | 408/782 [00:10<00:09, 40.74it/s]"
          ]
        },
        {
          "output_type": "stream",
          "name": "stdout",
          "text": [
            "[Epoch 224, Batch 400] loss: 0.073\n"
          ]
        },
        {
          "output_type": "stream",
          "name": "stderr",
          "text": [
            "Epoch 224/250:  65%|██████▍   | 508/782 [00:12<00:06, 41.48it/s]"
          ]
        },
        {
          "output_type": "stream",
          "name": "stdout",
          "text": [
            "[Epoch 224, Batch 500] loss: 0.073\n"
          ]
        },
        {
          "output_type": "stream",
          "name": "stderr",
          "text": [
            "Epoch 224/250:  78%|███████▊  | 608/782 [00:14<00:04, 41.15it/s]"
          ]
        },
        {
          "output_type": "stream",
          "name": "stdout",
          "text": [
            "[Epoch 224, Batch 600] loss: 0.075\n"
          ]
        },
        {
          "output_type": "stream",
          "name": "stderr",
          "text": [
            "Epoch 224/250:  91%|█████████ | 708/782 [00:17<00:01, 41.01it/s]"
          ]
        },
        {
          "output_type": "stream",
          "name": "stdout",
          "text": [
            "[Epoch 224, Batch 700] loss: 0.073\n"
          ]
        },
        {
          "output_type": "stream",
          "name": "stderr",
          "text": [
            "Epoch 224/250: 100%|██████████| 782/782 [00:19<00:00, 40.87it/s]\n"
          ]
        },
        {
          "output_type": "stream",
          "name": "stdout",
          "text": [
            "Checkpoint saved at /content/gdrive/My Drive/checkpoints/AsymmetricAutoencoderMinus1/checkpoint_epoch_224.pth\n"
          ]
        },
        {
          "output_type": "stream",
          "name": "stderr",
          "text": [
            "Epoch 225/250:  14%|█▎        | 106/782 [00:02<00:16, 41.17it/s]"
          ]
        },
        {
          "output_type": "stream",
          "name": "stdout",
          "text": [
            "[Epoch 225, Batch 100] loss: 0.074\n"
          ]
        },
        {
          "output_type": "stream",
          "name": "stderr",
          "text": [
            "Epoch 225/250:  26%|██▋       | 206/782 [00:05<00:14, 40.89it/s]"
          ]
        },
        {
          "output_type": "stream",
          "name": "stdout",
          "text": [
            "[Epoch 225, Batch 200] loss: 0.073\n"
          ]
        },
        {
          "output_type": "stream",
          "name": "stderr",
          "text": [
            "Epoch 225/250:  39%|███▉      | 306/782 [00:07<00:11, 40.58it/s]"
          ]
        },
        {
          "output_type": "stream",
          "name": "stdout",
          "text": [
            "[Epoch 225, Batch 300] loss: 0.074\n"
          ]
        },
        {
          "output_type": "stream",
          "name": "stderr",
          "text": [
            "Epoch 225/250:  52%|█████▏    | 406/782 [00:10<00:09, 41.22it/s]"
          ]
        },
        {
          "output_type": "stream",
          "name": "stdout",
          "text": [
            "[Epoch 225, Batch 400] loss: 0.074\n"
          ]
        },
        {
          "output_type": "stream",
          "name": "stderr",
          "text": [
            "Epoch 225/250:  65%|██████▍   | 506/782 [00:12<00:06, 40.93it/s]"
          ]
        },
        {
          "output_type": "stream",
          "name": "stdout",
          "text": [
            "[Epoch 225, Batch 500] loss: 0.074\n"
          ]
        },
        {
          "output_type": "stream",
          "name": "stderr",
          "text": [
            "Epoch 225/250:  77%|███████▋  | 606/782 [00:14<00:04, 40.98it/s]"
          ]
        },
        {
          "output_type": "stream",
          "name": "stdout",
          "text": [
            "[Epoch 225, Batch 600] loss: 0.074\n"
          ]
        },
        {
          "output_type": "stream",
          "name": "stderr",
          "text": [
            "Epoch 225/250:  90%|█████████ | 706/782 [00:17<00:01, 41.30it/s]"
          ]
        },
        {
          "output_type": "stream",
          "name": "stdout",
          "text": [
            "[Epoch 225, Batch 700] loss: 0.073\n"
          ]
        },
        {
          "output_type": "stream",
          "name": "stderr",
          "text": [
            "Epoch 225/250: 100%|██████████| 782/782 [00:19<00:00, 40.80it/s]\n"
          ]
        },
        {
          "output_type": "stream",
          "name": "stdout",
          "text": [
            "Checkpoint saved at /content/gdrive/My Drive/checkpoints/AsymmetricAutoencoderMinus1/checkpoint_epoch_225.pth\n"
          ]
        },
        {
          "output_type": "stream",
          "name": "stderr",
          "text": [
            "Epoch 226/250:  14%|█▎        | 106/782 [00:02<00:16, 41.23it/s]"
          ]
        },
        {
          "output_type": "stream",
          "name": "stdout",
          "text": [
            "[Epoch 226, Batch 100] loss: 0.074\n"
          ]
        },
        {
          "output_type": "stream",
          "name": "stderr",
          "text": [
            "Epoch 226/250:  26%|██▋       | 206/782 [00:05<00:13, 41.18it/s]"
          ]
        },
        {
          "output_type": "stream",
          "name": "stdout",
          "text": [
            "[Epoch 226, Batch 200] loss: 0.074\n"
          ]
        },
        {
          "output_type": "stream",
          "name": "stderr",
          "text": [
            "Epoch 226/250:  39%|███▉      | 306/782 [00:07<00:11, 41.23it/s]"
          ]
        },
        {
          "output_type": "stream",
          "name": "stdout",
          "text": [
            "[Epoch 226, Batch 300] loss: 0.074\n"
          ]
        },
        {
          "output_type": "stream",
          "name": "stderr",
          "text": [
            "Epoch 226/250:  52%|█████▏    | 406/782 [00:09<00:09, 40.47it/s]"
          ]
        },
        {
          "output_type": "stream",
          "name": "stdout",
          "text": [
            "[Epoch 226, Batch 400] loss: 0.074\n"
          ]
        },
        {
          "output_type": "stream",
          "name": "stderr",
          "text": [
            "Epoch 226/250:  65%|██████▍   | 506/782 [00:12<00:06, 41.53it/s]"
          ]
        },
        {
          "output_type": "stream",
          "name": "stdout",
          "text": [
            "[Epoch 226, Batch 500] loss: 0.073\n"
          ]
        },
        {
          "output_type": "stream",
          "name": "stderr",
          "text": [
            "Epoch 226/250:  77%|███████▋  | 606/782 [00:14<00:04, 41.61it/s]"
          ]
        },
        {
          "output_type": "stream",
          "name": "stdout",
          "text": [
            "[Epoch 226, Batch 600] loss: 0.074\n"
          ]
        },
        {
          "output_type": "stream",
          "name": "stderr",
          "text": [
            "Epoch 226/250:  90%|█████████ | 706/782 [00:17<00:01, 41.03it/s]"
          ]
        },
        {
          "output_type": "stream",
          "name": "stdout",
          "text": [
            "[Epoch 226, Batch 700] loss: 0.075\n"
          ]
        },
        {
          "output_type": "stream",
          "name": "stderr",
          "text": [
            "Epoch 226/250: 100%|██████████| 782/782 [00:19<00:00, 40.90it/s]\n"
          ]
        },
        {
          "output_type": "stream",
          "name": "stdout",
          "text": [
            "Checkpoint saved at /content/gdrive/My Drive/checkpoints/AsymmetricAutoencoderMinus1/checkpoint_epoch_226.pth\n"
          ]
        },
        {
          "output_type": "stream",
          "name": "stderr",
          "text": [
            "Epoch 227/250:  13%|█▎        | 105/782 [00:02<00:16, 41.67it/s]"
          ]
        },
        {
          "output_type": "stream",
          "name": "stdout",
          "text": [
            "[Epoch 227, Batch 100] loss: 0.074\n"
          ]
        },
        {
          "output_type": "stream",
          "name": "stderr",
          "text": [
            "Epoch 227/250:  26%|██▌       | 205/782 [00:05<00:13, 41.30it/s]"
          ]
        },
        {
          "output_type": "stream",
          "name": "stdout",
          "text": [
            "[Epoch 227, Batch 200] loss: 0.074\n"
          ]
        },
        {
          "output_type": "stream",
          "name": "stderr",
          "text": [
            "Epoch 227/250:  39%|███▉      | 305/782 [00:07<00:11, 41.30it/s]"
          ]
        },
        {
          "output_type": "stream",
          "name": "stdout",
          "text": [
            "[Epoch 227, Batch 300] loss: 0.074\n"
          ]
        },
        {
          "output_type": "stream",
          "name": "stderr",
          "text": [
            "Epoch 227/250:  52%|█████▏    | 405/782 [00:09<00:09, 41.29it/s]"
          ]
        },
        {
          "output_type": "stream",
          "name": "stdout",
          "text": [
            "[Epoch 227, Batch 400] loss: 0.074\n"
          ]
        },
        {
          "output_type": "stream",
          "name": "stderr",
          "text": [
            "Epoch 227/250:  65%|██████▍   | 505/782 [00:12<00:06, 40.49it/s]"
          ]
        },
        {
          "output_type": "stream",
          "name": "stdout",
          "text": [
            "[Epoch 227, Batch 500] loss: 0.074\n"
          ]
        },
        {
          "output_type": "stream",
          "name": "stderr",
          "text": [
            "Epoch 227/250:  77%|███████▋  | 605/782 [00:14<00:04, 41.43it/s]"
          ]
        },
        {
          "output_type": "stream",
          "name": "stdout",
          "text": [
            "[Epoch 227, Batch 600] loss: 0.073\n"
          ]
        },
        {
          "output_type": "stream",
          "name": "stderr",
          "text": [
            "Epoch 227/250:  90%|█████████ | 705/782 [00:17<00:01, 41.46it/s]"
          ]
        },
        {
          "output_type": "stream",
          "name": "stdout",
          "text": [
            "[Epoch 227, Batch 700] loss: 0.074\n"
          ]
        },
        {
          "output_type": "stream",
          "name": "stderr",
          "text": [
            "Epoch 227/250: 100%|██████████| 782/782 [00:19<00:00, 40.96it/s]\n"
          ]
        },
        {
          "output_type": "stream",
          "name": "stdout",
          "text": [
            "Checkpoint saved at /content/gdrive/My Drive/checkpoints/AsymmetricAutoencoderMinus1/checkpoint_epoch_227.pth\n"
          ]
        },
        {
          "output_type": "stream",
          "name": "stderr",
          "text": [
            "Epoch 228/250:  14%|█▎        | 106/782 [00:02<00:16, 41.65it/s]"
          ]
        },
        {
          "output_type": "stream",
          "name": "stdout",
          "text": [
            "[Epoch 228, Batch 100] loss: 0.074\n"
          ]
        },
        {
          "output_type": "stream",
          "name": "stderr",
          "text": [
            "Epoch 228/250:  26%|██▋       | 206/782 [00:05<00:13, 41.18it/s]"
          ]
        },
        {
          "output_type": "stream",
          "name": "stdout",
          "text": [
            "[Epoch 228, Batch 200] loss: 0.074\n"
          ]
        },
        {
          "output_type": "stream",
          "name": "stderr",
          "text": [
            "Epoch 228/250:  39%|███▉      | 306/782 [00:07<00:11, 40.40it/s]"
          ]
        },
        {
          "output_type": "stream",
          "name": "stdout",
          "text": [
            "[Epoch 228, Batch 300] loss: 0.073\n"
          ]
        },
        {
          "output_type": "stream",
          "name": "stderr",
          "text": [
            "Epoch 228/250:  52%|█████▏    | 406/782 [00:09<00:09, 41.16it/s]"
          ]
        },
        {
          "output_type": "stream",
          "name": "stdout",
          "text": [
            "[Epoch 228, Batch 400] loss: 0.075\n"
          ]
        },
        {
          "output_type": "stream",
          "name": "stderr",
          "text": [
            "Epoch 228/250:  65%|██████▍   | 506/782 [00:12<00:06, 41.49it/s]"
          ]
        },
        {
          "output_type": "stream",
          "name": "stdout",
          "text": [
            "[Epoch 228, Batch 500] loss: 0.074\n"
          ]
        },
        {
          "output_type": "stream",
          "name": "stderr",
          "text": [
            "Epoch 228/250:  77%|███████▋  | 606/782 [00:14<00:04, 41.65it/s]"
          ]
        },
        {
          "output_type": "stream",
          "name": "stdout",
          "text": [
            "[Epoch 228, Batch 600] loss: 0.073\n"
          ]
        },
        {
          "output_type": "stream",
          "name": "stderr",
          "text": [
            "Epoch 228/250:  90%|█████████ | 706/782 [00:17<00:01, 40.82it/s]"
          ]
        },
        {
          "output_type": "stream",
          "name": "stdout",
          "text": [
            "[Epoch 228, Batch 700] loss: 0.073\n"
          ]
        },
        {
          "output_type": "stream",
          "name": "stderr",
          "text": [
            "Epoch 228/250: 100%|██████████| 782/782 [00:19<00:00, 41.00it/s]\n"
          ]
        },
        {
          "output_type": "stream",
          "name": "stdout",
          "text": [
            "Checkpoint saved at /content/gdrive/My Drive/checkpoints/AsymmetricAutoencoderMinus1/checkpoint_epoch_228.pth\n"
          ]
        },
        {
          "output_type": "stream",
          "name": "stderr",
          "text": [
            "Epoch 229/250:  14%|█▎        | 106/782 [00:02<00:16, 41.69it/s]"
          ]
        },
        {
          "output_type": "stream",
          "name": "stdout",
          "text": [
            "[Epoch 229, Batch 100] loss: 0.074\n"
          ]
        },
        {
          "output_type": "stream",
          "name": "stderr",
          "text": [
            "Epoch 229/250:  26%|██▋       | 206/782 [00:05<00:14, 40.99it/s]"
          ]
        },
        {
          "output_type": "stream",
          "name": "stdout",
          "text": [
            "[Epoch 229, Batch 200] loss: 0.074\n"
          ]
        },
        {
          "output_type": "stream",
          "name": "stderr",
          "text": [
            "Epoch 229/250:  39%|███▉      | 306/782 [00:07<00:11, 41.74it/s]"
          ]
        },
        {
          "output_type": "stream",
          "name": "stdout",
          "text": [
            "[Epoch 229, Batch 300] loss: 0.073\n"
          ]
        },
        {
          "output_type": "stream",
          "name": "stderr",
          "text": [
            "Epoch 229/250:  52%|█████▏    | 406/782 [00:09<00:09, 41.15it/s]"
          ]
        },
        {
          "output_type": "stream",
          "name": "stdout",
          "text": [
            "[Epoch 229, Batch 400] loss: 0.075\n"
          ]
        },
        {
          "output_type": "stream",
          "name": "stderr",
          "text": [
            "Epoch 229/250:  65%|██████▍   | 506/782 [00:12<00:06, 40.51it/s]"
          ]
        },
        {
          "output_type": "stream",
          "name": "stdout",
          "text": [
            "[Epoch 229, Batch 500] loss: 0.074\n"
          ]
        },
        {
          "output_type": "stream",
          "name": "stderr",
          "text": [
            "Epoch 229/250:  77%|███████▋  | 606/782 [00:14<00:04, 41.28it/s]"
          ]
        },
        {
          "output_type": "stream",
          "name": "stdout",
          "text": [
            "[Epoch 229, Batch 600] loss: 0.073\n"
          ]
        },
        {
          "output_type": "stream",
          "name": "stderr",
          "text": [
            "Epoch 229/250:  90%|█████████ | 706/782 [00:17<00:01, 41.51it/s]"
          ]
        },
        {
          "output_type": "stream",
          "name": "stdout",
          "text": [
            "[Epoch 229, Batch 700] loss: 0.073\n"
          ]
        },
        {
          "output_type": "stream",
          "name": "stderr",
          "text": [
            "Epoch 229/250: 100%|██████████| 782/782 [00:19<00:00, 41.00it/s]\n"
          ]
        },
        {
          "output_type": "stream",
          "name": "stdout",
          "text": [
            "Checkpoint saved at /content/gdrive/My Drive/checkpoints/AsymmetricAutoencoderMinus1/checkpoint_epoch_229.pth\n"
          ]
        },
        {
          "output_type": "stream",
          "name": "stderr",
          "text": [
            "Epoch 230/250:  14%|█▎        | 106/782 [00:02<00:16, 41.45it/s]"
          ]
        },
        {
          "output_type": "stream",
          "name": "stdout",
          "text": [
            "[Epoch 230, Batch 100] loss: 0.074\n"
          ]
        },
        {
          "output_type": "stream",
          "name": "stderr",
          "text": [
            "Epoch 230/250:  26%|██▋       | 206/782 [00:05<00:13, 41.49it/s]"
          ]
        },
        {
          "output_type": "stream",
          "name": "stdout",
          "text": [
            "[Epoch 230, Batch 200] loss: 0.074\n"
          ]
        },
        {
          "output_type": "stream",
          "name": "stderr",
          "text": [
            "Epoch 230/250:  39%|███▉      | 306/782 [00:07<00:11, 41.11it/s]"
          ]
        },
        {
          "output_type": "stream",
          "name": "stdout",
          "text": [
            "[Epoch 230, Batch 300] loss: 0.074\n"
          ]
        },
        {
          "output_type": "stream",
          "name": "stderr",
          "text": [
            "Epoch 230/250:  52%|█████▏    | 406/782 [00:09<00:09, 40.95it/s]"
          ]
        },
        {
          "output_type": "stream",
          "name": "stdout",
          "text": [
            "[Epoch 230, Batch 400] loss: 0.074\n"
          ]
        },
        {
          "output_type": "stream",
          "name": "stderr",
          "text": [
            "Epoch 230/250:  65%|██████▍   | 506/782 [00:12<00:06, 41.33it/s]"
          ]
        },
        {
          "output_type": "stream",
          "name": "stdout",
          "text": [
            "[Epoch 230, Batch 500] loss: 0.073\n"
          ]
        },
        {
          "output_type": "stream",
          "name": "stderr",
          "text": [
            "Epoch 230/250:  77%|███████▋  | 606/782 [00:14<00:04, 41.21it/s]"
          ]
        },
        {
          "output_type": "stream",
          "name": "stdout",
          "text": [
            "[Epoch 230, Batch 600] loss: 0.073\n"
          ]
        },
        {
          "output_type": "stream",
          "name": "stderr",
          "text": [
            "Epoch 230/250:  90%|█████████ | 706/782 [00:17<00:01, 41.08it/s]"
          ]
        },
        {
          "output_type": "stream",
          "name": "stdout",
          "text": [
            "[Epoch 230, Batch 700] loss: 0.073\n"
          ]
        },
        {
          "output_type": "stream",
          "name": "stderr",
          "text": [
            "Epoch 230/250: 100%|██████████| 782/782 [00:19<00:00, 40.97it/s]\n"
          ]
        },
        {
          "output_type": "stream",
          "name": "stdout",
          "text": [
            "Checkpoint saved at /content/gdrive/My Drive/checkpoints/AsymmetricAutoencoderMinus1/checkpoint_epoch_230.pth\n",
            "Validation Loss after epoch 230: 0.0742\n"
          ]
        },
        {
          "output_type": "stream",
          "name": "stderr",
          "text": [
            "Epoch 231/250:  14%|█▎        | 106/782 [00:02<00:16, 41.21it/s]"
          ]
        },
        {
          "output_type": "stream",
          "name": "stdout",
          "text": [
            "[Epoch 231, Batch 100] loss: 0.074\n"
          ]
        },
        {
          "output_type": "stream",
          "name": "stderr",
          "text": [
            "Epoch 231/250:  26%|██▋       | 206/782 [00:05<00:13, 41.49it/s]"
          ]
        },
        {
          "output_type": "stream",
          "name": "stdout",
          "text": [
            "[Epoch 231, Batch 200] loss: 0.073\n"
          ]
        },
        {
          "output_type": "stream",
          "name": "stderr",
          "text": [
            "Epoch 231/250:  39%|███▉      | 306/782 [00:07<00:11, 40.83it/s]"
          ]
        },
        {
          "output_type": "stream",
          "name": "stdout",
          "text": [
            "[Epoch 231, Batch 300] loss: 0.074\n"
          ]
        },
        {
          "output_type": "stream",
          "name": "stderr",
          "text": [
            "Epoch 231/250:  52%|█████▏    | 406/782 [00:09<00:09, 41.23it/s]"
          ]
        },
        {
          "output_type": "stream",
          "name": "stdout",
          "text": [
            "[Epoch 231, Batch 400] loss: 0.074\n"
          ]
        },
        {
          "output_type": "stream",
          "name": "stderr",
          "text": [
            "Epoch 231/250:  65%|██████▍   | 506/782 [00:12<00:06, 41.68it/s]"
          ]
        },
        {
          "output_type": "stream",
          "name": "stdout",
          "text": [
            "[Epoch 231, Batch 500] loss: 0.073\n"
          ]
        },
        {
          "output_type": "stream",
          "name": "stderr",
          "text": [
            "Epoch 231/250:  77%|███████▋  | 606/782 [00:14<00:04, 41.48it/s]"
          ]
        },
        {
          "output_type": "stream",
          "name": "stdout",
          "text": [
            "[Epoch 231, Batch 600] loss: 0.074\n"
          ]
        },
        {
          "output_type": "stream",
          "name": "stderr",
          "text": [
            "Epoch 231/250:  90%|█████████ | 706/782 [00:17<00:01, 40.89it/s]"
          ]
        },
        {
          "output_type": "stream",
          "name": "stdout",
          "text": [
            "[Epoch 231, Batch 700] loss: 0.074\n"
          ]
        },
        {
          "output_type": "stream",
          "name": "stderr",
          "text": [
            "Epoch 231/250: 100%|██████████| 782/782 [00:19<00:00, 40.98it/s]\n"
          ]
        },
        {
          "output_type": "stream",
          "name": "stdout",
          "text": [
            "Checkpoint saved at /content/gdrive/My Drive/checkpoints/AsymmetricAutoencoderMinus1/checkpoint_epoch_231.pth\n"
          ]
        },
        {
          "output_type": "stream",
          "name": "stderr",
          "text": [
            "Epoch 232/250:  14%|█▎        | 106/782 [00:02<00:16, 41.60it/s]"
          ]
        },
        {
          "output_type": "stream",
          "name": "stdout",
          "text": [
            "[Epoch 232, Batch 100] loss: 0.074\n"
          ]
        },
        {
          "output_type": "stream",
          "name": "stderr",
          "text": [
            "Epoch 232/250:  26%|██▋       | 206/782 [00:05<00:14, 41.00it/s]"
          ]
        },
        {
          "output_type": "stream",
          "name": "stdout",
          "text": [
            "[Epoch 232, Batch 200] loss: 0.074\n"
          ]
        },
        {
          "output_type": "stream",
          "name": "stderr",
          "text": [
            "Epoch 232/250:  39%|███▉      | 306/782 [00:07<00:11, 41.16it/s]"
          ]
        },
        {
          "output_type": "stream",
          "name": "stdout",
          "text": [
            "[Epoch 232, Batch 300] loss: 0.074\n"
          ]
        },
        {
          "output_type": "stream",
          "name": "stderr",
          "text": [
            "Epoch 232/250:  52%|█████▏    | 406/782 [00:09<00:09, 40.74it/s]"
          ]
        },
        {
          "output_type": "stream",
          "name": "stdout",
          "text": [
            "[Epoch 232, Batch 400] loss: 0.074\n"
          ]
        },
        {
          "output_type": "stream",
          "name": "stderr",
          "text": [
            "Epoch 232/250:  65%|██████▍   | 506/782 [00:12<00:06, 41.24it/s]"
          ]
        },
        {
          "output_type": "stream",
          "name": "stdout",
          "text": [
            "[Epoch 232, Batch 500] loss: 0.073\n"
          ]
        },
        {
          "output_type": "stream",
          "name": "stderr",
          "text": [
            "Epoch 232/250:  77%|███████▋  | 606/782 [00:14<00:04, 40.79it/s]"
          ]
        },
        {
          "output_type": "stream",
          "name": "stdout",
          "text": [
            "[Epoch 232, Batch 600] loss: 0.074\n"
          ]
        },
        {
          "output_type": "stream",
          "name": "stderr",
          "text": [
            "Epoch 232/250:  90%|█████████ | 706/782 [00:17<00:01, 41.45it/s]"
          ]
        },
        {
          "output_type": "stream",
          "name": "stdout",
          "text": [
            "[Epoch 232, Batch 700] loss: 0.074\n"
          ]
        },
        {
          "output_type": "stream",
          "name": "stderr",
          "text": [
            "Epoch 232/250: 100%|██████████| 782/782 [00:19<00:00, 40.90it/s]\n"
          ]
        },
        {
          "output_type": "stream",
          "name": "stdout",
          "text": [
            "Checkpoint saved at /content/gdrive/My Drive/checkpoints/AsymmetricAutoencoderMinus1/checkpoint_epoch_232.pth\n"
          ]
        },
        {
          "output_type": "stream",
          "name": "stderr",
          "text": [
            "Epoch 233/250:  14%|█▎        | 106/782 [00:02<00:16, 40.81it/s]"
          ]
        },
        {
          "output_type": "stream",
          "name": "stdout",
          "text": [
            "[Epoch 233, Batch 100] loss: 0.074\n"
          ]
        },
        {
          "output_type": "stream",
          "name": "stderr",
          "text": [
            "Epoch 233/250:  26%|██▋       | 206/782 [00:05<00:13, 41.34it/s]"
          ]
        },
        {
          "output_type": "stream",
          "name": "stdout",
          "text": [
            "[Epoch 233, Batch 200] loss: 0.073\n"
          ]
        },
        {
          "output_type": "stream",
          "name": "stderr",
          "text": [
            "Epoch 233/250:  39%|███▉      | 306/782 [00:07<00:11, 41.57it/s]"
          ]
        },
        {
          "output_type": "stream",
          "name": "stdout",
          "text": [
            "[Epoch 233, Batch 300] loss: 0.074\n"
          ]
        },
        {
          "output_type": "stream",
          "name": "stderr",
          "text": [
            "Epoch 233/250:  52%|█████▏    | 406/782 [00:09<00:09, 41.17it/s]"
          ]
        },
        {
          "output_type": "stream",
          "name": "stdout",
          "text": [
            "[Epoch 233, Batch 400] loss: 0.074\n"
          ]
        },
        {
          "output_type": "stream",
          "name": "stderr",
          "text": [
            "Epoch 233/250:  65%|██████▍   | 506/782 [00:12<00:06, 40.63it/s]"
          ]
        },
        {
          "output_type": "stream",
          "name": "stdout",
          "text": [
            "[Epoch 233, Batch 500] loss: 0.074\n"
          ]
        },
        {
          "output_type": "stream",
          "name": "stderr",
          "text": [
            "Epoch 233/250:  77%|███████▋  | 606/782 [00:14<00:04, 41.22it/s]"
          ]
        },
        {
          "output_type": "stream",
          "name": "stdout",
          "text": [
            "[Epoch 233, Batch 600] loss: 0.074\n"
          ]
        },
        {
          "output_type": "stream",
          "name": "stderr",
          "text": [
            "Epoch 233/250:  90%|█████████ | 706/782 [00:17<00:01, 41.11it/s]"
          ]
        },
        {
          "output_type": "stream",
          "name": "stdout",
          "text": [
            "[Epoch 233, Batch 700] loss: 0.074\n"
          ]
        },
        {
          "output_type": "stream",
          "name": "stderr",
          "text": [
            "Epoch 233/250: 100%|██████████| 782/782 [00:19<00:00, 40.89it/s]\n"
          ]
        },
        {
          "output_type": "stream",
          "name": "stdout",
          "text": [
            "Checkpoint saved at /content/gdrive/My Drive/checkpoints/AsymmetricAutoencoderMinus1/checkpoint_epoch_233.pth\n"
          ]
        },
        {
          "output_type": "stream",
          "name": "stderr",
          "text": [
            "Epoch 234/250:  14%|█▎        | 106/782 [00:02<00:16, 41.36it/s]"
          ]
        },
        {
          "output_type": "stream",
          "name": "stdout",
          "text": [
            "[Epoch 234, Batch 100] loss: 0.073\n"
          ]
        },
        {
          "output_type": "stream",
          "name": "stderr",
          "text": [
            "Epoch 234/250:  26%|██▋       | 206/782 [00:05<00:13, 41.22it/s]"
          ]
        },
        {
          "output_type": "stream",
          "name": "stdout",
          "text": [
            "[Epoch 234, Batch 200] loss: 0.074\n"
          ]
        },
        {
          "output_type": "stream",
          "name": "stderr",
          "text": [
            "Epoch 234/250:  39%|███▉      | 308/782 [00:07<00:11, 39.87it/s]"
          ]
        },
        {
          "output_type": "stream",
          "name": "stdout",
          "text": [
            "[Epoch 234, Batch 300] loss: 0.074\n"
          ]
        },
        {
          "output_type": "stream",
          "name": "stderr",
          "text": [
            "Epoch 234/250:  52%|█████▏    | 408/782 [00:10<00:09, 41.55it/s]"
          ]
        },
        {
          "output_type": "stream",
          "name": "stdout",
          "text": [
            "[Epoch 234, Batch 400] loss: 0.073\n"
          ]
        },
        {
          "output_type": "stream",
          "name": "stderr",
          "text": [
            "Epoch 234/250:  65%|██████▍   | 508/782 [00:12<00:06, 41.36it/s]"
          ]
        },
        {
          "output_type": "stream",
          "name": "stdout",
          "text": [
            "[Epoch 234, Batch 500] loss: 0.074\n"
          ]
        },
        {
          "output_type": "stream",
          "name": "stderr",
          "text": [
            "Epoch 234/250:  78%|███████▊  | 608/782 [00:14<00:04, 41.12it/s]"
          ]
        },
        {
          "output_type": "stream",
          "name": "stdout",
          "text": [
            "[Epoch 234, Batch 600] loss: 0.074\n"
          ]
        },
        {
          "output_type": "stream",
          "name": "stderr",
          "text": [
            "Epoch 234/250:  91%|█████████ | 708/782 [00:17<00:01, 41.36it/s]"
          ]
        },
        {
          "output_type": "stream",
          "name": "stdout",
          "text": [
            "[Epoch 234, Batch 700] loss: 0.074\n"
          ]
        },
        {
          "output_type": "stream",
          "name": "stderr",
          "text": [
            "Epoch 234/250: 100%|██████████| 782/782 [00:19<00:00, 40.96it/s]\n"
          ]
        },
        {
          "output_type": "stream",
          "name": "stdout",
          "text": [
            "Checkpoint saved at /content/gdrive/My Drive/checkpoints/AsymmetricAutoencoderMinus1/checkpoint_epoch_234.pth\n"
          ]
        },
        {
          "output_type": "stream",
          "name": "stderr",
          "text": [
            "Epoch 235/250:  14%|█▎        | 106/782 [00:02<00:16, 41.30it/s]"
          ]
        },
        {
          "output_type": "stream",
          "name": "stdout",
          "text": [
            "[Epoch 235, Batch 100] loss: 0.075\n"
          ]
        },
        {
          "output_type": "stream",
          "name": "stderr",
          "text": [
            "Epoch 235/250:  26%|██▋       | 206/782 [00:05<00:13, 41.44it/s]"
          ]
        },
        {
          "output_type": "stream",
          "name": "stdout",
          "text": [
            "[Epoch 235, Batch 200] loss: 0.074\n"
          ]
        },
        {
          "output_type": "stream",
          "name": "stderr",
          "text": [
            "Epoch 235/250:  39%|███▉      | 306/782 [00:07<00:11, 41.65it/s]"
          ]
        },
        {
          "output_type": "stream",
          "name": "stdout",
          "text": [
            "[Epoch 235, Batch 300] loss: 0.074\n"
          ]
        },
        {
          "output_type": "stream",
          "name": "stderr",
          "text": [
            "Epoch 235/250:  52%|█████▏    | 406/782 [00:09<00:09, 41.27it/s]"
          ]
        },
        {
          "output_type": "stream",
          "name": "stdout",
          "text": [
            "[Epoch 235, Batch 400] loss: 0.073\n"
          ]
        },
        {
          "output_type": "stream",
          "name": "stderr",
          "text": [
            "Epoch 235/250:  65%|██████▍   | 506/782 [00:12<00:06, 40.50it/s]"
          ]
        },
        {
          "output_type": "stream",
          "name": "stdout",
          "text": [
            "[Epoch 235, Batch 500] loss: 0.074\n"
          ]
        },
        {
          "output_type": "stream",
          "name": "stderr",
          "text": [
            "Epoch 235/250:  77%|███████▋  | 606/782 [00:14<00:04, 41.36it/s]"
          ]
        },
        {
          "output_type": "stream",
          "name": "stdout",
          "text": [
            "[Epoch 235, Batch 600] loss: 0.074\n"
          ]
        },
        {
          "output_type": "stream",
          "name": "stderr",
          "text": [
            "Epoch 235/250:  90%|█████████ | 706/782 [00:17<00:01, 41.04it/s]"
          ]
        },
        {
          "output_type": "stream",
          "name": "stdout",
          "text": [
            "[Epoch 235, Batch 700] loss: 0.073\n"
          ]
        },
        {
          "output_type": "stream",
          "name": "stderr",
          "text": [
            "Epoch 235/250: 100%|██████████| 782/782 [00:19<00:00, 40.92it/s]\n"
          ]
        },
        {
          "output_type": "stream",
          "name": "stdout",
          "text": [
            "Checkpoint saved at /content/gdrive/My Drive/checkpoints/AsymmetricAutoencoderMinus1/checkpoint_epoch_235.pth\n"
          ]
        },
        {
          "output_type": "stream",
          "name": "stderr",
          "text": [
            "Epoch 236/250:  14%|█▎        | 106/782 [00:02<00:16, 41.62it/s]"
          ]
        },
        {
          "output_type": "stream",
          "name": "stdout",
          "text": [
            "[Epoch 236, Batch 100] loss: 0.073\n"
          ]
        },
        {
          "output_type": "stream",
          "name": "stderr",
          "text": [
            "Epoch 236/250:  26%|██▋       | 206/782 [00:05<00:14, 40.71it/s]"
          ]
        },
        {
          "output_type": "stream",
          "name": "stdout",
          "text": [
            "[Epoch 236, Batch 200] loss: 0.074\n"
          ]
        },
        {
          "output_type": "stream",
          "name": "stderr",
          "text": [
            "Epoch 236/250:  39%|███▉      | 306/782 [00:07<00:11, 41.54it/s]"
          ]
        },
        {
          "output_type": "stream",
          "name": "stdout",
          "text": [
            "[Epoch 236, Batch 300] loss: 0.074\n"
          ]
        },
        {
          "output_type": "stream",
          "name": "stderr",
          "text": [
            "Epoch 236/250:  52%|█████▏    | 406/782 [00:09<00:09, 41.10it/s]"
          ]
        },
        {
          "output_type": "stream",
          "name": "stdout",
          "text": [
            "[Epoch 236, Batch 400] loss: 0.074\n"
          ]
        },
        {
          "output_type": "stream",
          "name": "stderr",
          "text": [
            "Epoch 236/250:  65%|██████▍   | 506/782 [00:12<00:06, 41.34it/s]"
          ]
        },
        {
          "output_type": "stream",
          "name": "stdout",
          "text": [
            "[Epoch 236, Batch 500] loss: 0.074\n"
          ]
        },
        {
          "output_type": "stream",
          "name": "stderr",
          "text": [
            "Epoch 236/250:  77%|███████▋  | 606/782 [00:14<00:04, 41.24it/s]"
          ]
        },
        {
          "output_type": "stream",
          "name": "stdout",
          "text": [
            "[Epoch 236, Batch 600] loss: 0.074\n"
          ]
        },
        {
          "output_type": "stream",
          "name": "stderr",
          "text": [
            "Epoch 236/250:  90%|█████████ | 706/782 [00:17<00:01, 41.14it/s]"
          ]
        },
        {
          "output_type": "stream",
          "name": "stdout",
          "text": [
            "[Epoch 236, Batch 700] loss: 0.074\n"
          ]
        },
        {
          "output_type": "stream",
          "name": "stderr",
          "text": [
            "Epoch 236/250: 100%|██████████| 782/782 [00:19<00:00, 41.08it/s]\n"
          ]
        },
        {
          "output_type": "stream",
          "name": "stdout",
          "text": [
            "Checkpoint saved at /content/gdrive/My Drive/checkpoints/AsymmetricAutoencoderMinus1/checkpoint_epoch_236.pth\n"
          ]
        },
        {
          "output_type": "stream",
          "name": "stderr",
          "text": [
            "Epoch 237/250:  14%|█▎        | 106/782 [00:02<00:16, 41.02it/s]"
          ]
        },
        {
          "output_type": "stream",
          "name": "stdout",
          "text": [
            "[Epoch 237, Batch 100] loss: 0.073\n"
          ]
        },
        {
          "output_type": "stream",
          "name": "stderr",
          "text": [
            "Epoch 237/250:  26%|██▋       | 206/782 [00:05<00:13, 41.69it/s]"
          ]
        },
        {
          "output_type": "stream",
          "name": "stdout",
          "text": [
            "[Epoch 237, Batch 200] loss: 0.074\n"
          ]
        },
        {
          "output_type": "stream",
          "name": "stderr",
          "text": [
            "Epoch 237/250:  39%|███▉      | 306/782 [00:07<00:11, 40.84it/s]"
          ]
        },
        {
          "output_type": "stream",
          "name": "stdout",
          "text": [
            "[Epoch 237, Batch 300] loss: 0.074\n"
          ]
        },
        {
          "output_type": "stream",
          "name": "stderr",
          "text": [
            "Epoch 237/250:  52%|█████▏    | 406/782 [00:09<00:09, 40.86it/s]"
          ]
        },
        {
          "output_type": "stream",
          "name": "stdout",
          "text": [
            "[Epoch 237, Batch 400] loss: 0.074\n"
          ]
        },
        {
          "output_type": "stream",
          "name": "stderr",
          "text": [
            "Epoch 237/250:  65%|██████▍   | 506/782 [00:12<00:06, 41.40it/s]"
          ]
        },
        {
          "output_type": "stream",
          "name": "stdout",
          "text": [
            "[Epoch 237, Batch 500] loss: 0.074\n"
          ]
        },
        {
          "output_type": "stream",
          "name": "stderr",
          "text": [
            "Epoch 237/250:  77%|███████▋  | 606/782 [00:14<00:04, 41.53it/s]"
          ]
        },
        {
          "output_type": "stream",
          "name": "stdout",
          "text": [
            "[Epoch 237, Batch 600] loss: 0.073\n"
          ]
        },
        {
          "output_type": "stream",
          "name": "stderr",
          "text": [
            "Epoch 237/250:  90%|█████████ | 706/782 [00:17<00:01, 41.33it/s]"
          ]
        },
        {
          "output_type": "stream",
          "name": "stdout",
          "text": [
            "[Epoch 237, Batch 700] loss: 0.074\n"
          ]
        },
        {
          "output_type": "stream",
          "name": "stderr",
          "text": [
            "Epoch 237/250: 100%|██████████| 782/782 [00:19<00:00, 40.95it/s]\n"
          ]
        },
        {
          "output_type": "stream",
          "name": "stdout",
          "text": [
            "Checkpoint saved at /content/gdrive/My Drive/checkpoints/AsymmetricAutoencoderMinus1/checkpoint_epoch_237.pth\n"
          ]
        },
        {
          "output_type": "stream",
          "name": "stderr",
          "text": [
            "Epoch 238/250:  14%|█▎        | 106/782 [00:02<00:16, 41.56it/s]"
          ]
        },
        {
          "output_type": "stream",
          "name": "stdout",
          "text": [
            "[Epoch 238, Batch 100] loss: 0.074\n"
          ]
        },
        {
          "output_type": "stream",
          "name": "stderr",
          "text": [
            "Epoch 238/250:  26%|██▋       | 206/782 [00:05<00:14, 40.94it/s]"
          ]
        },
        {
          "output_type": "stream",
          "name": "stdout",
          "text": [
            "[Epoch 238, Batch 200] loss: 0.073\n"
          ]
        },
        {
          "output_type": "stream",
          "name": "stderr",
          "text": [
            "Epoch 238/250:  39%|███▉      | 306/782 [00:07<00:11, 41.61it/s]"
          ]
        },
        {
          "output_type": "stream",
          "name": "stdout",
          "text": [
            "[Epoch 238, Batch 300] loss: 0.074\n"
          ]
        },
        {
          "output_type": "stream",
          "name": "stderr",
          "text": [
            "Epoch 238/250:  52%|█████▏    | 406/782 [00:09<00:09, 41.26it/s]"
          ]
        },
        {
          "output_type": "stream",
          "name": "stdout",
          "text": [
            "[Epoch 238, Batch 400] loss: 0.074\n"
          ]
        },
        {
          "output_type": "stream",
          "name": "stderr",
          "text": [
            "Epoch 238/250:  65%|██████▍   | 506/782 [00:12<00:06, 40.82it/s]"
          ]
        },
        {
          "output_type": "stream",
          "name": "stdout",
          "text": [
            "[Epoch 238, Batch 500] loss: 0.073\n"
          ]
        },
        {
          "output_type": "stream",
          "name": "stderr",
          "text": [
            "Epoch 238/250:  77%|███████▋  | 606/782 [00:14<00:04, 41.08it/s]"
          ]
        },
        {
          "output_type": "stream",
          "name": "stdout",
          "text": [
            "[Epoch 238, Batch 600] loss: 0.074\n"
          ]
        },
        {
          "output_type": "stream",
          "name": "stderr",
          "text": [
            "Epoch 238/250:  90%|█████████ | 706/782 [00:17<00:01, 41.29it/s]"
          ]
        },
        {
          "output_type": "stream",
          "name": "stdout",
          "text": [
            "[Epoch 238, Batch 700] loss: 0.074\n"
          ]
        },
        {
          "output_type": "stream",
          "name": "stderr",
          "text": [
            "Epoch 238/250: 100%|██████████| 782/782 [00:19<00:00, 41.06it/s]\n"
          ]
        },
        {
          "output_type": "stream",
          "name": "stdout",
          "text": [
            "Checkpoint saved at /content/gdrive/My Drive/checkpoints/AsymmetricAutoencoderMinus1/checkpoint_epoch_238.pth\n"
          ]
        },
        {
          "output_type": "stream",
          "name": "stderr",
          "text": [
            "Epoch 239/250:  14%|█▎        | 106/782 [00:02<00:16, 41.08it/s]"
          ]
        },
        {
          "output_type": "stream",
          "name": "stdout",
          "text": [
            "[Epoch 239, Batch 100] loss: 0.074\n"
          ]
        },
        {
          "output_type": "stream",
          "name": "stderr",
          "text": [
            "Epoch 239/250:  26%|██▋       | 206/782 [00:05<00:13, 41.26it/s]"
          ]
        },
        {
          "output_type": "stream",
          "name": "stdout",
          "text": [
            "[Epoch 239, Batch 200] loss: 0.074\n"
          ]
        },
        {
          "output_type": "stream",
          "name": "stderr",
          "text": [
            "Epoch 239/250:  39%|███▉      | 306/782 [00:07<00:11, 41.19it/s]"
          ]
        },
        {
          "output_type": "stream",
          "name": "stdout",
          "text": [
            "[Epoch 239, Batch 300] loss: 0.074\n"
          ]
        },
        {
          "output_type": "stream",
          "name": "stderr",
          "text": [
            "Epoch 239/250:  52%|█████▏    | 406/782 [00:09<00:09, 40.93it/s]"
          ]
        },
        {
          "output_type": "stream",
          "name": "stdout",
          "text": [
            "[Epoch 239, Batch 400] loss: 0.074\n"
          ]
        },
        {
          "output_type": "stream",
          "name": "stderr",
          "text": [
            "Epoch 239/250:  65%|██████▍   | 506/782 [00:12<00:06, 40.74it/s]"
          ]
        },
        {
          "output_type": "stream",
          "name": "stdout",
          "text": [
            "[Epoch 239, Batch 500] loss: 0.074\n"
          ]
        },
        {
          "output_type": "stream",
          "name": "stderr",
          "text": [
            "Epoch 239/250:  77%|███████▋  | 606/782 [00:14<00:04, 41.59it/s]"
          ]
        },
        {
          "output_type": "stream",
          "name": "stdout",
          "text": [
            "[Epoch 239, Batch 600] loss: 0.073\n"
          ]
        },
        {
          "output_type": "stream",
          "name": "stderr",
          "text": [
            "Epoch 239/250:  90%|█████████ | 706/782 [00:17<00:01, 41.07it/s]"
          ]
        },
        {
          "output_type": "stream",
          "name": "stdout",
          "text": [
            "[Epoch 239, Batch 700] loss: 0.074\n"
          ]
        },
        {
          "output_type": "stream",
          "name": "stderr",
          "text": [
            "Epoch 239/250: 100%|██████████| 782/782 [00:19<00:00, 40.88it/s]\n"
          ]
        },
        {
          "output_type": "stream",
          "name": "stdout",
          "text": [
            "Checkpoint saved at /content/gdrive/My Drive/checkpoints/AsymmetricAutoencoderMinus1/checkpoint_epoch_239.pth\n"
          ]
        },
        {
          "output_type": "stream",
          "name": "stderr",
          "text": [
            "Epoch 240/250:  14%|█▎        | 106/782 [00:02<00:16, 41.62it/s]"
          ]
        },
        {
          "output_type": "stream",
          "name": "stdout",
          "text": [
            "[Epoch 240, Batch 100] loss: 0.074\n"
          ]
        },
        {
          "output_type": "stream",
          "name": "stderr",
          "text": [
            "Epoch 240/250:  26%|██▋       | 206/782 [00:05<00:14, 41.12it/s]"
          ]
        },
        {
          "output_type": "stream",
          "name": "stdout",
          "text": [
            "[Epoch 240, Batch 200] loss: 0.074\n"
          ]
        },
        {
          "output_type": "stream",
          "name": "stderr",
          "text": [
            "Epoch 240/250:  39%|███▉      | 306/782 [00:07<00:11, 41.15it/s]"
          ]
        },
        {
          "output_type": "stream",
          "name": "stdout",
          "text": [
            "[Epoch 240, Batch 300] loss: 0.074\n"
          ]
        },
        {
          "output_type": "stream",
          "name": "stderr",
          "text": [
            "Epoch 240/250:  52%|█████▏    | 406/782 [00:09<00:09, 41.41it/s]"
          ]
        },
        {
          "output_type": "stream",
          "name": "stdout",
          "text": [
            "[Epoch 240, Batch 400] loss: 0.074\n"
          ]
        },
        {
          "output_type": "stream",
          "name": "stderr",
          "text": [
            "Epoch 240/250:  65%|██████▍   | 506/782 [00:12<00:06, 41.02it/s]"
          ]
        },
        {
          "output_type": "stream",
          "name": "stdout",
          "text": [
            "[Epoch 240, Batch 500] loss: 0.074\n"
          ]
        },
        {
          "output_type": "stream",
          "name": "stderr",
          "text": [
            "Epoch 240/250:  77%|███████▋  | 606/782 [00:14<00:04, 41.38it/s]"
          ]
        },
        {
          "output_type": "stream",
          "name": "stdout",
          "text": [
            "[Epoch 240, Batch 600] loss: 0.074\n"
          ]
        },
        {
          "output_type": "stream",
          "name": "stderr",
          "text": [
            "Epoch 240/250:  90%|█████████ | 706/782 [00:17<00:01, 41.60it/s]"
          ]
        },
        {
          "output_type": "stream",
          "name": "stdout",
          "text": [
            "[Epoch 240, Batch 700] loss: 0.074\n"
          ]
        },
        {
          "output_type": "stream",
          "name": "stderr",
          "text": [
            "Epoch 240/250: 100%|██████████| 782/782 [00:19<00:00, 41.08it/s]\n"
          ]
        },
        {
          "output_type": "stream",
          "name": "stdout",
          "text": [
            "Checkpoint saved at /content/gdrive/My Drive/checkpoints/AsymmetricAutoencoderMinus1/checkpoint_epoch_240.pth\n",
            "Validation Loss after epoch 240: 0.0742\n"
          ]
        },
        {
          "output_type": "stream",
          "name": "stderr",
          "text": [
            "Epoch 241/250:  14%|█▎        | 106/782 [00:02<00:16, 41.50it/s]"
          ]
        },
        {
          "output_type": "stream",
          "name": "stdout",
          "text": [
            "[Epoch 241, Batch 100] loss: 0.073\n"
          ]
        },
        {
          "output_type": "stream",
          "name": "stderr",
          "text": [
            "Epoch 241/250:  26%|██▋       | 206/782 [00:05<00:13, 41.58it/s]"
          ]
        },
        {
          "output_type": "stream",
          "name": "stdout",
          "text": [
            "[Epoch 241, Batch 200] loss: 0.073\n"
          ]
        },
        {
          "output_type": "stream",
          "name": "stderr",
          "text": [
            "Epoch 241/250:  39%|███▉      | 306/782 [00:07<00:11, 41.23it/s]"
          ]
        },
        {
          "output_type": "stream",
          "name": "stdout",
          "text": [
            "[Epoch 241, Batch 300] loss: 0.074\n"
          ]
        },
        {
          "output_type": "stream",
          "name": "stderr",
          "text": [
            "Epoch 241/250:  52%|█████▏    | 406/782 [00:09<00:09, 40.90it/s]"
          ]
        },
        {
          "output_type": "stream",
          "name": "stdout",
          "text": [
            "[Epoch 241, Batch 400] loss: 0.073\n"
          ]
        },
        {
          "output_type": "stream",
          "name": "stderr",
          "text": [
            "Epoch 241/250:  65%|██████▍   | 506/782 [00:12<00:06, 41.68it/s]"
          ]
        },
        {
          "output_type": "stream",
          "name": "stdout",
          "text": [
            "[Epoch 241, Batch 500] loss: 0.074\n"
          ]
        },
        {
          "output_type": "stream",
          "name": "stderr",
          "text": [
            "Epoch 241/250:  77%|███████▋  | 606/782 [00:14<00:04, 40.62it/s]"
          ]
        },
        {
          "output_type": "stream",
          "name": "stdout",
          "text": [
            "[Epoch 241, Batch 600] loss: 0.075\n"
          ]
        },
        {
          "output_type": "stream",
          "name": "stderr",
          "text": [
            "Epoch 241/250:  90%|█████████ | 706/782 [00:17<00:01, 41.53it/s]"
          ]
        },
        {
          "output_type": "stream",
          "name": "stdout",
          "text": [
            "[Epoch 241, Batch 700] loss: 0.074\n"
          ]
        },
        {
          "output_type": "stream",
          "name": "stderr",
          "text": [
            "Epoch 241/250: 100%|██████████| 782/782 [00:19<00:00, 41.02it/s]\n"
          ]
        },
        {
          "output_type": "stream",
          "name": "stdout",
          "text": [
            "Checkpoint saved at /content/gdrive/My Drive/checkpoints/AsymmetricAutoencoderMinus1/checkpoint_epoch_241.pth\n"
          ]
        },
        {
          "output_type": "stream",
          "name": "stderr",
          "text": [
            "Epoch 242/250:  14%|█▎        | 106/782 [00:02<00:16, 41.27it/s]"
          ]
        },
        {
          "output_type": "stream",
          "name": "stdout",
          "text": [
            "[Epoch 242, Batch 100] loss: 0.074\n"
          ]
        },
        {
          "output_type": "stream",
          "name": "stderr",
          "text": [
            "Epoch 242/250:  26%|██▋       | 206/782 [00:05<00:13, 41.39it/s]"
          ]
        },
        {
          "output_type": "stream",
          "name": "stdout",
          "text": [
            "[Epoch 242, Batch 200] loss: 0.074\n"
          ]
        },
        {
          "output_type": "stream",
          "name": "stderr",
          "text": [
            "Epoch 242/250:  39%|███▉      | 306/782 [00:07<00:11, 41.25it/s]"
          ]
        },
        {
          "output_type": "stream",
          "name": "stdout",
          "text": [
            "[Epoch 242, Batch 300] loss: 0.074\n"
          ]
        },
        {
          "output_type": "stream",
          "name": "stderr",
          "text": [
            "Epoch 242/250:  52%|█████▏    | 406/782 [00:09<00:09, 40.95it/s]"
          ]
        },
        {
          "output_type": "stream",
          "name": "stdout",
          "text": [
            "[Epoch 242, Batch 400] loss: 0.074\n"
          ]
        },
        {
          "output_type": "stream",
          "name": "stderr",
          "text": [
            "Epoch 242/250:  65%|██████▍   | 506/782 [00:12<00:06, 40.68it/s]"
          ]
        },
        {
          "output_type": "stream",
          "name": "stdout",
          "text": [
            "[Epoch 242, Batch 500] loss: 0.073\n"
          ]
        },
        {
          "output_type": "stream",
          "name": "stderr",
          "text": [
            "Epoch 242/250:  77%|███████▋  | 606/782 [00:14<00:04, 41.62it/s]"
          ]
        },
        {
          "output_type": "stream",
          "name": "stdout",
          "text": [
            "[Epoch 242, Batch 600] loss: 0.074\n"
          ]
        },
        {
          "output_type": "stream",
          "name": "stderr",
          "text": [
            "Epoch 242/250:  90%|█████████ | 706/782 [00:17<00:01, 41.76it/s]"
          ]
        },
        {
          "output_type": "stream",
          "name": "stdout",
          "text": [
            "[Epoch 242, Batch 700] loss: 0.075\n"
          ]
        },
        {
          "output_type": "stream",
          "name": "stderr",
          "text": [
            "Epoch 242/250: 100%|██████████| 782/782 [00:19<00:00, 41.07it/s]\n"
          ]
        },
        {
          "output_type": "stream",
          "name": "stdout",
          "text": [
            "Checkpoint saved at /content/gdrive/My Drive/checkpoints/AsymmetricAutoencoderMinus1/checkpoint_epoch_242.pth\n"
          ]
        },
        {
          "output_type": "stream",
          "name": "stderr",
          "text": [
            "Epoch 243/250:  14%|█▎        | 106/782 [00:02<00:16, 41.79it/s]"
          ]
        },
        {
          "output_type": "stream",
          "name": "stdout",
          "text": [
            "[Epoch 243, Batch 100] loss: 0.075\n"
          ]
        },
        {
          "output_type": "stream",
          "name": "stderr",
          "text": [
            "Epoch 243/250:  26%|██▋       | 206/782 [00:05<00:13, 41.40it/s]"
          ]
        },
        {
          "output_type": "stream",
          "name": "stdout",
          "text": [
            "[Epoch 243, Batch 200] loss: 0.073\n"
          ]
        },
        {
          "output_type": "stream",
          "name": "stderr",
          "text": [
            "Epoch 243/250:  39%|███▉      | 306/782 [00:07<00:11, 41.01it/s]"
          ]
        },
        {
          "output_type": "stream",
          "name": "stdout",
          "text": [
            "[Epoch 243, Batch 300] loss: 0.073\n"
          ]
        },
        {
          "output_type": "stream",
          "name": "stderr",
          "text": [
            "Epoch 243/250:  52%|█████▏    | 406/782 [00:09<00:09, 41.49it/s]"
          ]
        },
        {
          "output_type": "stream",
          "name": "stdout",
          "text": [
            "[Epoch 243, Batch 400] loss: 0.074\n"
          ]
        },
        {
          "output_type": "stream",
          "name": "stderr",
          "text": [
            "Epoch 243/250:  65%|██████▍   | 506/782 [00:12<00:06, 41.45it/s]"
          ]
        },
        {
          "output_type": "stream",
          "name": "stdout",
          "text": [
            "[Epoch 243, Batch 500] loss: 0.074\n"
          ]
        },
        {
          "output_type": "stream",
          "name": "stderr",
          "text": [
            "Epoch 243/250:  77%|███████▋  | 606/782 [00:14<00:04, 41.48it/s]"
          ]
        },
        {
          "output_type": "stream",
          "name": "stdout",
          "text": [
            "[Epoch 243, Batch 600] loss: 0.073\n"
          ]
        },
        {
          "output_type": "stream",
          "name": "stderr",
          "text": [
            "Epoch 243/250:  90%|█████████ | 706/782 [00:17<00:01, 40.92it/s]"
          ]
        },
        {
          "output_type": "stream",
          "name": "stdout",
          "text": [
            "[Epoch 243, Batch 700] loss: 0.074\n"
          ]
        },
        {
          "output_type": "stream",
          "name": "stderr",
          "text": [
            "Epoch 243/250: 100%|██████████| 782/782 [00:19<00:00, 41.08it/s]\n"
          ]
        },
        {
          "output_type": "stream",
          "name": "stdout",
          "text": [
            "Checkpoint saved at /content/gdrive/My Drive/checkpoints/AsymmetricAutoencoderMinus1/checkpoint_epoch_243.pth\n"
          ]
        },
        {
          "output_type": "stream",
          "name": "stderr",
          "text": [
            "Epoch 244/250:  14%|█▎        | 107/782 [00:02<00:16, 41.51it/s]"
          ]
        },
        {
          "output_type": "stream",
          "name": "stdout",
          "text": [
            "[Epoch 244, Batch 100] loss: 0.074\n"
          ]
        },
        {
          "output_type": "stream",
          "name": "stderr",
          "text": [
            "Epoch 244/250:  26%|██▋       | 207/782 [00:05<00:14, 40.61it/s]"
          ]
        },
        {
          "output_type": "stream",
          "name": "stdout",
          "text": [
            "[Epoch 244, Batch 200] loss: 0.075\n"
          ]
        },
        {
          "output_type": "stream",
          "name": "stderr",
          "text": [
            "Epoch 244/250:  39%|███▉      | 307/782 [00:07<00:11, 41.35it/s]"
          ]
        },
        {
          "output_type": "stream",
          "name": "stdout",
          "text": [
            "[Epoch 244, Batch 300] loss: 0.073\n"
          ]
        },
        {
          "output_type": "stream",
          "name": "stderr",
          "text": [
            "Epoch 244/250:  52%|█████▏    | 407/782 [00:09<00:09, 41.29it/s]"
          ]
        },
        {
          "output_type": "stream",
          "name": "stdout",
          "text": [
            "[Epoch 244, Batch 400] loss: 0.073\n"
          ]
        },
        {
          "output_type": "stream",
          "name": "stderr",
          "text": [
            "Epoch 244/250:  65%|██████▍   | 507/782 [00:12<00:06, 40.15it/s]"
          ]
        },
        {
          "output_type": "stream",
          "name": "stdout",
          "text": [
            "[Epoch 244, Batch 500] loss: 0.074\n"
          ]
        },
        {
          "output_type": "stream",
          "name": "stderr",
          "text": [
            "Epoch 244/250:  78%|███████▊  | 607/782 [00:14<00:04, 41.42it/s]"
          ]
        },
        {
          "output_type": "stream",
          "name": "stdout",
          "text": [
            "[Epoch 244, Batch 600] loss: 0.074\n"
          ]
        },
        {
          "output_type": "stream",
          "name": "stderr",
          "text": [
            "Epoch 244/250:  90%|█████████ | 707/782 [00:17<00:01, 41.25it/s]"
          ]
        },
        {
          "output_type": "stream",
          "name": "stdout",
          "text": [
            "[Epoch 244, Batch 700] loss: 0.074\n"
          ]
        },
        {
          "output_type": "stream",
          "name": "stderr",
          "text": [
            "Epoch 244/250: 100%|██████████| 782/782 [00:19<00:00, 40.96it/s]\n"
          ]
        },
        {
          "output_type": "stream",
          "name": "stdout",
          "text": [
            "Checkpoint saved at /content/gdrive/My Drive/checkpoints/AsymmetricAutoencoderMinus1/checkpoint_epoch_244.pth\n"
          ]
        },
        {
          "output_type": "stream",
          "name": "stderr",
          "text": [
            "Epoch 245/250:  14%|█▎        | 106/782 [00:02<00:16, 41.61it/s]"
          ]
        },
        {
          "output_type": "stream",
          "name": "stdout",
          "text": [
            "[Epoch 245, Batch 100] loss: 0.074\n"
          ]
        },
        {
          "output_type": "stream",
          "name": "stderr",
          "text": [
            "Epoch 245/250:  26%|██▋       | 206/782 [00:05<00:13, 41.46it/s]"
          ]
        },
        {
          "output_type": "stream",
          "name": "stdout",
          "text": [
            "[Epoch 245, Batch 200] loss: 0.074\n"
          ]
        },
        {
          "output_type": "stream",
          "name": "stderr",
          "text": [
            "Epoch 245/250:  39%|███▉      | 306/782 [00:07<00:11, 41.17it/s]"
          ]
        },
        {
          "output_type": "stream",
          "name": "stdout",
          "text": [
            "[Epoch 245, Batch 300] loss: 0.074\n"
          ]
        },
        {
          "output_type": "stream",
          "name": "stderr",
          "text": [
            "Epoch 245/250:  52%|█████▏    | 406/782 [00:09<00:09, 41.38it/s]"
          ]
        },
        {
          "output_type": "stream",
          "name": "stdout",
          "text": [
            "[Epoch 245, Batch 400] loss: 0.073\n"
          ]
        },
        {
          "output_type": "stream",
          "name": "stderr",
          "text": [
            "Epoch 245/250:  65%|██████▍   | 506/782 [00:12<00:06, 41.05it/s]"
          ]
        },
        {
          "output_type": "stream",
          "name": "stdout",
          "text": [
            "[Epoch 245, Batch 500] loss: 0.074\n"
          ]
        },
        {
          "output_type": "stream",
          "name": "stderr",
          "text": [
            "Epoch 245/250:  77%|███████▋  | 606/782 [00:14<00:04, 41.34it/s]"
          ]
        },
        {
          "output_type": "stream",
          "name": "stdout",
          "text": [
            "[Epoch 245, Batch 600] loss: 0.073\n"
          ]
        },
        {
          "output_type": "stream",
          "name": "stderr",
          "text": [
            "Epoch 245/250:  90%|█████████ | 706/782 [00:17<00:01, 41.00it/s]"
          ]
        },
        {
          "output_type": "stream",
          "name": "stdout",
          "text": [
            "[Epoch 245, Batch 700] loss: 0.074\n"
          ]
        },
        {
          "output_type": "stream",
          "name": "stderr",
          "text": [
            "Epoch 245/250: 100%|██████████| 782/782 [00:19<00:00, 41.11it/s]\n"
          ]
        },
        {
          "output_type": "stream",
          "name": "stdout",
          "text": [
            "Checkpoint saved at /content/gdrive/My Drive/checkpoints/AsymmetricAutoencoderMinus1/checkpoint_epoch_245.pth\n"
          ]
        },
        {
          "output_type": "stream",
          "name": "stderr",
          "text": [
            "Epoch 246/250:  14%|█▎        | 106/782 [00:02<00:16, 41.45it/s]"
          ]
        },
        {
          "output_type": "stream",
          "name": "stdout",
          "text": [
            "[Epoch 246, Batch 100] loss: 0.074\n"
          ]
        },
        {
          "output_type": "stream",
          "name": "stderr",
          "text": [
            "Epoch 246/250:  26%|██▋       | 206/782 [00:05<00:13, 41.17it/s]"
          ]
        },
        {
          "output_type": "stream",
          "name": "stdout",
          "text": [
            "[Epoch 246, Batch 200] loss: 0.074\n"
          ]
        },
        {
          "output_type": "stream",
          "name": "stderr",
          "text": [
            "Epoch 246/250:  39%|███▉      | 306/782 [00:07<00:11, 41.23it/s]"
          ]
        },
        {
          "output_type": "stream",
          "name": "stdout",
          "text": [
            "[Epoch 246, Batch 300] loss: 0.074\n"
          ]
        },
        {
          "output_type": "stream",
          "name": "stderr",
          "text": [
            "Epoch 246/250:  52%|█████▏    | 406/782 [00:09<00:09, 41.18it/s]"
          ]
        },
        {
          "output_type": "stream",
          "name": "stdout",
          "text": [
            "[Epoch 246, Batch 400] loss: 0.073\n"
          ]
        },
        {
          "output_type": "stream",
          "name": "stderr",
          "text": [
            "Epoch 246/250:  65%|██████▍   | 506/782 [00:12<00:06, 40.83it/s]"
          ]
        },
        {
          "output_type": "stream",
          "name": "stdout",
          "text": [
            "[Epoch 246, Batch 500] loss: 0.075\n"
          ]
        },
        {
          "output_type": "stream",
          "name": "stderr",
          "text": [
            "Epoch 246/250:  77%|███████▋  | 606/782 [00:14<00:04, 41.24it/s]"
          ]
        },
        {
          "output_type": "stream",
          "name": "stdout",
          "text": [
            "[Epoch 246, Batch 600] loss: 0.074\n"
          ]
        },
        {
          "output_type": "stream",
          "name": "stderr",
          "text": [
            "Epoch 246/250:  90%|█████████ | 706/782 [00:17<00:01, 41.52it/s]"
          ]
        },
        {
          "output_type": "stream",
          "name": "stdout",
          "text": [
            "[Epoch 246, Batch 700] loss: 0.073\n"
          ]
        },
        {
          "output_type": "stream",
          "name": "stderr",
          "text": [
            "Epoch 246/250: 100%|██████████| 782/782 [00:19<00:00, 40.88it/s]\n"
          ]
        },
        {
          "output_type": "stream",
          "name": "stdout",
          "text": [
            "Checkpoint saved at /content/gdrive/My Drive/checkpoints/AsymmetricAutoencoderMinus1/checkpoint_epoch_246.pth\n"
          ]
        },
        {
          "output_type": "stream",
          "name": "stderr",
          "text": [
            "Epoch 247/250:  13%|█▎        | 105/782 [00:02<00:16, 41.28it/s]"
          ]
        },
        {
          "output_type": "stream",
          "name": "stdout",
          "text": [
            "[Epoch 247, Batch 100] loss: 0.074\n"
          ]
        },
        {
          "output_type": "stream",
          "name": "stderr",
          "text": [
            "Epoch 247/250:  26%|██▌       | 205/782 [00:05<00:13, 41.29it/s]"
          ]
        },
        {
          "output_type": "stream",
          "name": "stdout",
          "text": [
            "[Epoch 247, Batch 200] loss: 0.073\n"
          ]
        },
        {
          "output_type": "stream",
          "name": "stderr",
          "text": [
            "Epoch 247/250:  39%|███▉      | 305/782 [00:07<00:11, 41.08it/s]"
          ]
        },
        {
          "output_type": "stream",
          "name": "stdout",
          "text": [
            "[Epoch 247, Batch 300] loss: 0.073\n"
          ]
        },
        {
          "output_type": "stream",
          "name": "stderr",
          "text": [
            "Epoch 247/250:  52%|█████▏    | 405/782 [00:09<00:09, 40.94it/s]"
          ]
        },
        {
          "output_type": "stream",
          "name": "stdout",
          "text": [
            "[Epoch 247, Batch 400] loss: 0.074\n"
          ]
        },
        {
          "output_type": "stream",
          "name": "stderr",
          "text": [
            "Epoch 247/250:  65%|██████▍   | 505/782 [00:12<00:06, 41.51it/s]"
          ]
        },
        {
          "output_type": "stream",
          "name": "stdout",
          "text": [
            "[Epoch 247, Batch 500] loss: 0.073\n"
          ]
        },
        {
          "output_type": "stream",
          "name": "stderr",
          "text": [
            "Epoch 247/250:  77%|███████▋  | 605/782 [00:14<00:04, 41.25it/s]"
          ]
        },
        {
          "output_type": "stream",
          "name": "stdout",
          "text": [
            "[Epoch 247, Batch 600] loss: 0.074\n"
          ]
        },
        {
          "output_type": "stream",
          "name": "stderr",
          "text": [
            "Epoch 247/250:  90%|█████████ | 705/782 [00:17<00:01, 40.74it/s]"
          ]
        },
        {
          "output_type": "stream",
          "name": "stdout",
          "text": [
            "[Epoch 247, Batch 700] loss: 0.075\n"
          ]
        },
        {
          "output_type": "stream",
          "name": "stderr",
          "text": [
            "Epoch 247/250: 100%|██████████| 782/782 [00:19<00:00, 40.86it/s]\n"
          ]
        },
        {
          "output_type": "stream",
          "name": "stdout",
          "text": [
            "Checkpoint saved at /content/gdrive/My Drive/checkpoints/AsymmetricAutoencoderMinus1/checkpoint_epoch_247.pth\n"
          ]
        },
        {
          "output_type": "stream",
          "name": "stderr",
          "text": [
            "Epoch 248/250:  14%|█▎        | 106/782 [00:02<00:16, 41.38it/s]"
          ]
        },
        {
          "output_type": "stream",
          "name": "stdout",
          "text": [
            "[Epoch 248, Batch 100] loss: 0.074\n"
          ]
        },
        {
          "output_type": "stream",
          "name": "stderr",
          "text": [
            "Epoch 248/250:  26%|██▋       | 206/782 [00:05<00:14, 41.07it/s]"
          ]
        },
        {
          "output_type": "stream",
          "name": "stdout",
          "text": [
            "[Epoch 248, Batch 200] loss: 0.074\n"
          ]
        },
        {
          "output_type": "stream",
          "name": "stderr",
          "text": [
            "Epoch 248/250:  39%|███▉      | 306/782 [00:07<00:11, 41.46it/s]"
          ]
        },
        {
          "output_type": "stream",
          "name": "stdout",
          "text": [
            "[Epoch 248, Batch 300] loss: 0.074\n"
          ]
        },
        {
          "output_type": "stream",
          "name": "stderr",
          "text": [
            "Epoch 248/250:  52%|█████▏    | 406/782 [00:09<00:09, 41.29it/s]"
          ]
        },
        {
          "output_type": "stream",
          "name": "stdout",
          "text": [
            "[Epoch 248, Batch 400] loss: 0.074\n"
          ]
        },
        {
          "output_type": "stream",
          "name": "stderr",
          "text": [
            "Epoch 248/250:  65%|██████▍   | 506/782 [00:12<00:06, 40.93it/s]"
          ]
        },
        {
          "output_type": "stream",
          "name": "stdout",
          "text": [
            "[Epoch 248, Batch 500] loss: 0.074\n"
          ]
        },
        {
          "output_type": "stream",
          "name": "stderr",
          "text": [
            "Epoch 248/250:  77%|███████▋  | 606/782 [00:14<00:04, 41.56it/s]"
          ]
        },
        {
          "output_type": "stream",
          "name": "stdout",
          "text": [
            "[Epoch 248, Batch 600] loss: 0.074\n"
          ]
        },
        {
          "output_type": "stream",
          "name": "stderr",
          "text": [
            "Epoch 248/250:  90%|█████████ | 706/782 [00:17<00:01, 41.53it/s]"
          ]
        },
        {
          "output_type": "stream",
          "name": "stdout",
          "text": [
            "[Epoch 248, Batch 700] loss: 0.074\n"
          ]
        },
        {
          "output_type": "stream",
          "name": "stderr",
          "text": [
            "Epoch 248/250: 100%|██████████| 782/782 [00:19<00:00, 41.09it/s]\n"
          ]
        },
        {
          "output_type": "stream",
          "name": "stdout",
          "text": [
            "Checkpoint saved at /content/gdrive/My Drive/checkpoints/AsymmetricAutoencoderMinus1/checkpoint_epoch_248.pth\n"
          ]
        },
        {
          "output_type": "stream",
          "name": "stderr",
          "text": [
            "Epoch 249/250:  14%|█▎        | 106/782 [00:02<00:16, 41.62it/s]"
          ]
        },
        {
          "output_type": "stream",
          "name": "stdout",
          "text": [
            "[Epoch 249, Batch 100] loss: 0.074\n"
          ]
        },
        {
          "output_type": "stream",
          "name": "stderr",
          "text": [
            "Epoch 249/250:  26%|██▋       | 206/782 [00:05<00:13, 41.60it/s]"
          ]
        },
        {
          "output_type": "stream",
          "name": "stdout",
          "text": [
            "[Epoch 249, Batch 200] loss: 0.074\n"
          ]
        },
        {
          "output_type": "stream",
          "name": "stderr",
          "text": [
            "Epoch 249/250:  39%|███▉      | 306/782 [00:07<00:11, 40.79it/s]"
          ]
        },
        {
          "output_type": "stream",
          "name": "stdout",
          "text": [
            "[Epoch 249, Batch 300] loss: 0.073\n"
          ]
        },
        {
          "output_type": "stream",
          "name": "stderr",
          "text": [
            "Epoch 249/250:  52%|█████▏    | 406/782 [00:09<00:09, 41.44it/s]"
          ]
        },
        {
          "output_type": "stream",
          "name": "stdout",
          "text": [
            "[Epoch 249, Batch 400] loss: 0.074\n"
          ]
        },
        {
          "output_type": "stream",
          "name": "stderr",
          "text": [
            "Epoch 249/250:  65%|██████▍   | 506/782 [00:12<00:06, 41.44it/s]"
          ]
        },
        {
          "output_type": "stream",
          "name": "stdout",
          "text": [
            "[Epoch 249, Batch 500] loss: 0.074\n"
          ]
        },
        {
          "output_type": "stream",
          "name": "stderr",
          "text": [
            "Epoch 249/250:  77%|███████▋  | 606/782 [00:14<00:04, 41.38it/s]"
          ]
        },
        {
          "output_type": "stream",
          "name": "stdout",
          "text": [
            "[Epoch 249, Batch 600] loss: 0.074\n"
          ]
        },
        {
          "output_type": "stream",
          "name": "stderr",
          "text": [
            "Epoch 249/250:  90%|█████████ | 706/782 [00:17<00:01, 41.27it/s]"
          ]
        },
        {
          "output_type": "stream",
          "name": "stdout",
          "text": [
            "[Epoch 249, Batch 700] loss: 0.074\n"
          ]
        },
        {
          "output_type": "stream",
          "name": "stderr",
          "text": [
            "Epoch 249/250: 100%|██████████| 782/782 [00:19<00:00, 41.07it/s]\n"
          ]
        },
        {
          "output_type": "stream",
          "name": "stdout",
          "text": [
            "Checkpoint saved at /content/gdrive/My Drive/checkpoints/AsymmetricAutoencoderMinus1/checkpoint_epoch_249.pth\n"
          ]
        },
        {
          "output_type": "stream",
          "name": "stderr",
          "text": [
            "Epoch 250/250:  14%|█▎        | 106/782 [00:02<00:16, 41.53it/s]"
          ]
        },
        {
          "output_type": "stream",
          "name": "stdout",
          "text": [
            "[Epoch 250, Batch 100] loss: 0.073\n"
          ]
        },
        {
          "output_type": "stream",
          "name": "stderr",
          "text": [
            "Epoch 250/250:  26%|██▋       | 206/782 [00:05<00:13, 41.25it/s]"
          ]
        },
        {
          "output_type": "stream",
          "name": "stdout",
          "text": [
            "[Epoch 250, Batch 200] loss: 0.074\n"
          ]
        },
        {
          "output_type": "stream",
          "name": "stderr",
          "text": [
            "Epoch 250/250:  39%|███▉      | 306/782 [00:07<00:11, 41.36it/s]"
          ]
        },
        {
          "output_type": "stream",
          "name": "stdout",
          "text": [
            "[Epoch 250, Batch 300] loss: 0.074\n"
          ]
        },
        {
          "output_type": "stream",
          "name": "stderr",
          "text": [
            "Epoch 250/250:  52%|█████▏    | 406/782 [00:09<00:09, 41.60it/s]"
          ]
        },
        {
          "output_type": "stream",
          "name": "stdout",
          "text": [
            "[Epoch 250, Batch 400] loss: 0.074\n"
          ]
        },
        {
          "output_type": "stream",
          "name": "stderr",
          "text": [
            "Epoch 250/250:  65%|██████▍   | 506/782 [00:12<00:06, 40.28it/s]"
          ]
        },
        {
          "output_type": "stream",
          "name": "stdout",
          "text": [
            "[Epoch 250, Batch 500] loss: 0.074\n"
          ]
        },
        {
          "output_type": "stream",
          "name": "stderr",
          "text": [
            "Epoch 250/250:  77%|███████▋  | 606/782 [00:14<00:04, 41.41it/s]"
          ]
        },
        {
          "output_type": "stream",
          "name": "stdout",
          "text": [
            "[Epoch 250, Batch 600] loss: 0.074\n"
          ]
        },
        {
          "output_type": "stream",
          "name": "stderr",
          "text": [
            "Epoch 250/250:  90%|█████████ | 706/782 [00:17<00:01, 41.50it/s]"
          ]
        },
        {
          "output_type": "stream",
          "name": "stdout",
          "text": [
            "[Epoch 250, Batch 700] loss: 0.074\n"
          ]
        },
        {
          "output_type": "stream",
          "name": "stderr",
          "text": [
            "Epoch 250/250: 100%|██████████| 782/782 [00:19<00:00, 41.06it/s]\n"
          ]
        },
        {
          "output_type": "stream",
          "name": "stdout",
          "text": [
            "Checkpoint saved at /content/gdrive/My Drive/checkpoints/AsymmetricAutoencoderMinus1/checkpoint_epoch_250.pth\n",
            "Validation Loss after epoch 250: 0.0742\n",
            "Finished Training\n"
          ]
        }
      ],
      "source": [
        "# Training loop\n",
        "\n",
        "accumulation_steps = 1  # Simulate a larger batch size by accumulating gradients\n",
        "\n",
        "print(f\"Starting training from epoch {start_epoch}\")\n",
        "for epoch in range(start_epoch, num_epochs):\n",
        "    asym_model_minus1.train()\n",
        "    running_loss = 0.0\n",
        "    accumulated_loss = 0.0  # To accumulate loss over accumulation steps\n",
        "\n",
        "    # Training phase\n",
        "    for i, (inputs, _) in enumerate(tqdm(train_loader, desc=f\"Epoch {epoch + 1}/{num_epochs}\")):\n",
        "        inputs = inputs.to(device)\n",
        "        targets = inputs  # For autoencoders, the target is the input itself\n",
        "\n",
        "        # Forward pass\n",
        "        outputs = asym_model_minus1(inputs)\n",
        "        loss = criterion(outputs, targets)\n",
        "\n",
        "        # Scale the loss by the number of accumulation steps\n",
        "        loss = loss / accumulation_steps\n",
        "\n",
        "        # Backward pass and optimization\n",
        "        loss.backward()\n",
        "\n",
        "        accumulated_loss += loss.item()\n",
        "\n",
        "        # Perform optimizer step and zero the gradients after accumulating gradients over `accumulation_steps` batches\n",
        "        if (i + 1) % accumulation_steps == 0:\n",
        "            optimizer.step()\n",
        "            optimizer.zero_grad()\n",
        "\n",
        "        running_loss += loss.item()\n",
        "\n",
        "        # Print statistics every 100 mini-batches\n",
        "        if (i + 1) % 100 == 0:\n",
        "            print(f\"[Epoch {epoch + 1}, Batch {i + 1}] loss: {running_loss / 100:.3f}\")\n",
        "            running_loss = 0.0\n",
        "\n",
        "    # Save checkpoint after every epoch\n",
        "    checkpoint_path = os.path.join(save_dir_asymmetric_ae_minus1, f'checkpoint_epoch_{epoch + 1}.pth')\n",
        "    torch.save(asym_model_minus1.state_dict(), checkpoint_path)\n",
        "    print(f\"Checkpoint saved at {checkpoint_path}\")\n",
        "\n",
        "    # Validation phase - every 10 epochs\n",
        "    if (epoch + 1) % 10 == 0:\n",
        "      asym_model_minus1.eval()\n",
        "      val_loss = 0.0\n",
        "      with torch.no_grad():\n",
        "          for inputs, _ in val_loader:\n",
        "              inputs = inputs.to(device)\n",
        "              targets = inputs\n",
        "              outputs = asym_model_minus1(inputs)\n",
        "              loss = criterion(outputs, targets)\n",
        "              val_loss += loss.item()\n",
        "\n",
        "      val_loss /= len(val_loader)\n",
        "      print(f\"Validation Loss after epoch {epoch + 1}: {val_loss:.4f}\")\n",
        "\n",
        "print('Finished Training')"
      ]
    },
    {
      "cell_type": "code",
      "execution_count": 72,
      "metadata": {
        "id": "KV4Occ9zhAQA",
        "colab": {
          "base_uri": "https://localhost:8080/"
        },
        "outputId": "5ecba981-aaa8-4deb-9187-67c88a85bab2"
      },
      "outputs": [
        {
          "output_type": "stream",
          "name": "stdout",
          "text": [
            "Validation Loss after 250 epochs: 0.0742\n",
            "Pixel-wise Accuracy: 24.32%\n"
          ]
        }
      ],
      "source": [
        "asym_model_minus1.eval()\n",
        "val_loss = 0.0\n",
        "correct_pixels = 0\n",
        "total_pixels = 0\n",
        "threshold = 0.1  # Define a threshold for pixel accuracy\n",
        "\n",
        "with torch.no_grad():\n",
        "    for inputs, _ in val_loader:\n",
        "        inputs = inputs.to(device)\n",
        "        targets = inputs  # For autoencoder, the targets are the inputs\n",
        "        outputs = asym_model_minus1(inputs)\n",
        "\n",
        "        # Compute loss\n",
        "        loss = criterion(outputs, targets)\n",
        "        val_loss += loss.item()\n",
        "\n",
        "        # Compute pixel-wise accuracy\n",
        "        # We treat each pixel as \"correct\" if its value is within the threshold of the original input\n",
        "        total_pixels += inputs.numel()  # Total number of pixels (elements) in the batch\n",
        "        correct_pixels += torch.sum(torch.abs(outputs - targets) < threshold).item()  # Count correct pixels\n",
        "\n",
        "# Calculate average validation loss and pixel-wise accuracy\n",
        "val_loss /= len(val_loader)\n",
        "pixel_accuracy = correct_pixels / total_pixels * 100  # Convert to percentage\n",
        "\n",
        "print(f\"Validation Loss after 250 epochs: {val_loss:.4f}\")\n",
        "print(f\"Pixel-wise Accuracy: {pixel_accuracy:.2f}%\")"
      ]
    },
    {
      "cell_type": "code",
      "execution_count": null,
      "metadata": {
        "id": "z0PsJsgrsBI-"
      },
      "outputs": [],
      "source": []
    },
    {
      "cell_type": "code",
      "execution_count": null,
      "metadata": {
        "id": "MSvXMRGkgfoN"
      },
      "outputs": [],
      "source": []
    },
    {
      "cell_type": "code",
      "execution_count": null,
      "metadata": {
        "id": "mlKN5sDwdv50"
      },
      "outputs": [],
      "source": []
    },
    {
      "cell_type": "code",
      "execution_count": null,
      "metadata": {
        "id": "sCG9df5AQYlK"
      },
      "outputs": [],
      "source": []
    },
    {
      "cell_type": "code",
      "execution_count": null,
      "metadata": {
        "id": "b4EkyZidGpqa"
      },
      "outputs": [],
      "source": []
    },
    {
      "cell_type": "code",
      "execution_count": null,
      "metadata": {
        "id": "2JdUt-urFv9K"
      },
      "outputs": [],
      "source": []
    },
    {
      "cell_type": "code",
      "execution_count": null,
      "metadata": {
        "id": "1Edj_W-i3yCf"
      },
      "outputs": [],
      "source": []
    },
    {
      "cell_type": "code",
      "execution_count": null,
      "metadata": {
        "id": "4LMbpZ0pzsCr"
      },
      "outputs": [],
      "source": []
    },
    {
      "cell_type": "code",
      "execution_count": null,
      "metadata": {
        "id": "FzOvO6-WCVi7"
      },
      "outputs": [],
      "source": []
    }
  ],
  "metadata": {
    "colab": {
      "provenance": [],
      "machine_shape": "hm",
      "gpuType": "T4",
      "authorship_tag": "ABX9TyPzIHe+lLsaKcSUObOi2JGH",
      "include_colab_link": true
    },
    "kernelspec": {
      "display_name": "Python 3",
      "name": "python3"
    },
    "language_info": {
      "name": "python"
    },
    "accelerator": "GPU"
  },
  "nbformat": 4,
  "nbformat_minor": 0
}
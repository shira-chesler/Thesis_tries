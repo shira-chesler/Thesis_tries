{
  "cells": [
    {
      "cell_type": "markdown",
      "metadata": {
        "id": "view-in-github",
        "colab_type": "text"
      },
      "source": [
        "<a href=\"https://colab.research.google.com/github/shira-chesler/Thesis_tries/blob/main/Thesis_AsymAutoencoderWithSSIM_Final_for_now.ipynb\" target=\"_parent\"><img src=\"https://colab.research.google.com/assets/colab-badge.svg\" alt=\"Open In Colab\"/></a>"
      ]
    },
    {
      "cell_type": "code",
      "execution_count": null,
      "metadata": {
        "id": "kqInFeoEZgsC"
      },
      "outputs": [],
      "source": [
        "!pip install wandb -qU"
      ]
    },
    {
      "cell_type": "code",
      "execution_count": null,
      "metadata": {
        "id": "75_BPbJkZhWk"
      },
      "outputs": [],
      "source": [
        "# Log in to your W&B account\n",
        "import wandb\n",
        "import random\n",
        "import math"
      ]
    },
    {
      "cell_type": "code",
      "execution_count": null,
      "metadata": {
        "colab": {
          "base_uri": "https://localhost:8080/"
        },
        "id": "p36Mh_XIZksq",
        "outputId": "cfdb8ae0-fd72-4f3d-beb3-50f5d83dc78a"
      },
      "outputs": [
        {
          "data": {
            "text/plain": [
              "True"
            ]
          },
          "execution_count": 25,
          "metadata": {},
          "output_type": "execute_result"
        }
      ],
      "source": [
        "wandb.login()"
      ]
    },
    {
      "cell_type": "code",
      "execution_count": null,
      "metadata": {
        "colab": {
          "base_uri": "https://localhost:8080/"
        },
        "id": "pA6vP5rd8WWX",
        "outputId": "ba0c3623-6f43-4e13-c129-9094634128cd"
      },
      "outputs": [
        {
          "output_type": "stream",
          "name": "stdout",
          "text": [
            "Requirement already satisfied: torchvision in /usr/local/lib/python3.10/dist-packages (0.20.1+cu121)\n",
            "Requirement already satisfied: numpy in /usr/local/lib/python3.10/dist-packages (from torchvision) (1.26.4)\n",
            "Requirement already satisfied: torch==2.5.1 in /usr/local/lib/python3.10/dist-packages (from torchvision) (2.5.1+cu121)\n",
            "Requirement already satisfied: pillow!=8.3.*,>=5.3.0 in /usr/local/lib/python3.10/dist-packages (from torchvision) (11.0.0)\n",
            "Requirement already satisfied: filelock in /usr/local/lib/python3.10/dist-packages (from torch==2.5.1->torchvision) (3.16.1)\n",
            "Requirement already satisfied: typing-extensions>=4.8.0 in /usr/local/lib/python3.10/dist-packages (from torch==2.5.1->torchvision) (4.12.2)\n",
            "Requirement already satisfied: networkx in /usr/local/lib/python3.10/dist-packages (from torch==2.5.1->torchvision) (3.4.2)\n",
            "Requirement already satisfied: jinja2 in /usr/local/lib/python3.10/dist-packages (from torch==2.5.1->torchvision) (3.1.4)\n",
            "Requirement already satisfied: fsspec in /usr/local/lib/python3.10/dist-packages (from torch==2.5.1->torchvision) (2024.10.0)\n",
            "Requirement already satisfied: sympy==1.13.1 in /usr/local/lib/python3.10/dist-packages (from torch==2.5.1->torchvision) (1.13.1)\n",
            "Requirement already satisfied: mpmath<1.4,>=1.1.0 in /usr/local/lib/python3.10/dist-packages (from sympy==1.13.1->torch==2.5.1->torchvision) (1.3.0)\n",
            "Requirement already satisfied: MarkupSafe>=2.0 in /usr/local/lib/python3.10/dist-packages (from jinja2->torch==2.5.1->torchvision) (3.0.2)\n",
            "Collecting torchmetrics\n",
            "  Downloading torchmetrics-1.6.0-py3-none-any.whl.metadata (20 kB)\n",
            "Requirement already satisfied: numpy>1.20.0 in /usr/local/lib/python3.10/dist-packages (from torchmetrics) (1.26.4)\n",
            "Requirement already satisfied: packaging>17.1 in /usr/local/lib/python3.10/dist-packages (from torchmetrics) (24.2)\n",
            "Requirement already satisfied: torch>=2.0.0 in /usr/local/lib/python3.10/dist-packages (from torchmetrics) (2.5.1+cu121)\n",
            "Collecting lightning-utilities>=0.8.0 (from torchmetrics)\n",
            "  Downloading lightning_utilities-0.11.9-py3-none-any.whl.metadata (5.2 kB)\n",
            "Requirement already satisfied: setuptools in /usr/local/lib/python3.10/dist-packages (from lightning-utilities>=0.8.0->torchmetrics) (75.1.0)\n",
            "Requirement already satisfied: typing-extensions in /usr/local/lib/python3.10/dist-packages (from lightning-utilities>=0.8.0->torchmetrics) (4.12.2)\n",
            "Requirement already satisfied: filelock in /usr/local/lib/python3.10/dist-packages (from torch>=2.0.0->torchmetrics) (3.16.1)\n",
            "Requirement already satisfied: networkx in /usr/local/lib/python3.10/dist-packages (from torch>=2.0.0->torchmetrics) (3.4.2)\n",
            "Requirement already satisfied: jinja2 in /usr/local/lib/python3.10/dist-packages (from torch>=2.0.0->torchmetrics) (3.1.4)\n",
            "Requirement already satisfied: fsspec in /usr/local/lib/python3.10/dist-packages (from torch>=2.0.0->torchmetrics) (2024.10.0)\n",
            "Requirement already satisfied: sympy==1.13.1 in /usr/local/lib/python3.10/dist-packages (from torch>=2.0.0->torchmetrics) (1.13.1)\n",
            "Requirement already satisfied: mpmath<1.4,>=1.1.0 in /usr/local/lib/python3.10/dist-packages (from sympy==1.13.1->torch>=2.0.0->torchmetrics) (1.3.0)\n",
            "Requirement already satisfied: MarkupSafe>=2.0 in /usr/local/lib/python3.10/dist-packages (from jinja2->torch>=2.0.0->torchmetrics) (3.0.2)\n",
            "Downloading torchmetrics-1.6.0-py3-none-any.whl (926 kB)\n",
            "\u001b[2K   \u001b[90m━━━━━━━━━━━━━━━━━━━━━━━━━━━━━━━━━━━━━━━━\u001b[0m \u001b[32m926.4/926.4 kB\u001b[0m \u001b[31m12.9 MB/s\u001b[0m eta \u001b[36m0:00:00\u001b[0m\n",
            "\u001b[?25hDownloading lightning_utilities-0.11.9-py3-none-any.whl (28 kB)\n",
            "Installing collected packages: lightning-utilities, torchmetrics\n",
            "Successfully installed lightning-utilities-0.11.9 torchmetrics-1.6.0\n"
          ]
        }
      ],
      "source": [
        "!pip install torchvision\n",
        "!pip install torchmetrics"
      ]
    },
    {
      "cell_type": "code",
      "execution_count": null,
      "metadata": {
        "id": "eTvA4m4zuRvf"
      },
      "outputs": [],
      "source": [
        "#imports zone\n",
        "\n",
        "# Standard library imports\n",
        "import os\n",
        "import re\n",
        "import math\n",
        "import random\n",
        "import warnings\n",
        "from abc import abstractmethod\n",
        "from typing import Sequence, Union, Tuple\n",
        "import copy\n",
        "\n",
        "# Scientific computing and visualization\n",
        "import numpy as np\n",
        "import matplotlib.pyplot as plt\n",
        "import matplotlib.animation as animation\n",
        "\n",
        "# PyTorch imports\n",
        "import torch\n",
        "from torch import Tensor\n",
        "import torch.nn as nn\n",
        "import torch.nn.functional as F\n",
        "import torch.optim as optim\n",
        "from torch.utils.data import DataLoader\n",
        "import torch.nn.modules.loss as loss\n",
        "from torchmetrics.image.ssim import StructuralSimilarityIndexMeasure\n",
        "\n",
        "# torchvision imports\n",
        "from torchvision import datasets, transforms\n",
        "from torchvision.datasets import CIFAR100\n",
        "\n",
        "# Google Colab imports\n",
        "from google.colab import drive\n",
        "\n",
        "# Progress bar\n",
        "from tqdm import tqdm"
      ]
    },
    {
      "cell_type": "markdown",
      "metadata": {
        "id": "PuLTSqJ75qGd"
      },
      "source": [
        "4 next cells are from [This github repository](https://github.com/AlexPasqua/Autoencoders/tree/main), changed to match the dataset we intend to work on currently (CIFAR100)."
      ]
    },
    {
      "cell_type": "code",
      "execution_count": null,
      "metadata": {
        "colab": {
          "base_uri": "https://localhost:8080/",
          "height": 127
        },
        "id": "E7R6Qrkf3pd0",
        "outputId": "b869379e-d8eb-420c-ee60-72b13f121f3b"
      },
      "outputs": [
        {
          "data": {
            "application/vnd.google.colaboratory.intrinsic+json": {
              "type": "string"
            },
            "text/plain": [
              "'\\n# set device globally\\ndevice = torch.device(\\'cuda:0\\' if torch.cuda.is_available() else \\'cpu\\')\\n\\nclass FastCIFAR100(CIFAR100):\\n    \"\"\"\\n    The base of this class is taken from GitHub Gist, then I adapted it to my needs.\\n    Author: Joost van Amersfoort (y0ast)\\n    link: https://gist.github.com/y0ast/f69966e308e549f013a92dc66debeeb4\\n    \"\"\"\\n    def __init__(self, *args, **kwargs):\\n        super().__init__(*args, **kwargs)\\n\\n        # Scale data to [0,1]\\n        self.data = self.data.unsqueeze(1).float().div(255)\\n\\n        # Normalize it with the usual CIFAR100 mean and std\\n        # self.data = self.data.sub_(0.1307).div_(0.3081)\\n\\n        # Since I\\'m working with autoencoders, \\'targets\\' becomes a copy of the data. The labels are now stored\\n        # in the variable \\'labels\\'. Also put everything on GPU in advance, since the dataset is small.\\n        # This lets me bypass PyTorch\\'s DataLoaders and speed up the training.\\n        self.data = self.data.to(device)\\n        self.labels = self.targets.to(device)\\n        self.targets = torch.flatten(copy.deepcopy(self.data), start_dim=1)\\n\\n    def __getitem__(self, index):\\n        \"\"\"\\n        Args:\\n            index (int): Index\\n\\n        Returns:\\n            tuple: (image, target) where target is index of the target class.\\n        \"\"\"\\n        img, target, label = self.data[index], self.targets[index], self.labels[index]\\n        return img, target, label\\n\\n\\nclass NoisyCIFAR100(FastCIFAR100):\\n    \"\"\" subclass of FastCIFAR100 with data=noisy_data and targets=clean_data (instead of labels) \"\"\"\\n    def __init__(self, noise_const=0.1, patch_width=0, *args, **kwargs):\\n        super().__init__(*args, **kwargs)\\n        self.data += noise_const * torch.randn(self.data.shape).to(device)\\n        self.data -= torch.min(self.data)\\n        self.data /= torch.max(self.data)\\n        if patch_width > 0:\\n            for img in self.data:\\n                start = random.randint(0, img.shape[-1] - patch_width - 1)\\n                img[:, start: start + patch_width, start: start + patch_width] = 0\\n'"
            ]
          },
          "execution_count": 28,
          "metadata": {},
          "output_type": "execute_result"
        }
      ],
      "source": [
        "# custom_mnist but changed to be for CIFAR100\n",
        "'''\n",
        "# set device globally\n",
        "device = torch.device('cuda:0' if torch.cuda.is_available() else 'cpu')\n",
        "\n",
        "class FastCIFAR100(CIFAR100):\n",
        "    \"\"\"\n",
        "    The base of this class is taken from GitHub Gist, then I adapted it to my needs.\n",
        "    Author: Joost van Amersfoort (y0ast)\n",
        "    link: https://gist.github.com/y0ast/f69966e308e549f013a92dc66debeeb4\n",
        "    \"\"\"\n",
        "    def __init__(self, *args, **kwargs):\n",
        "        super().__init__(*args, **kwargs)\n",
        "\n",
        "        # Scale data to [0,1]\n",
        "        self.data = self.data.unsqueeze(1).float().div(255)\n",
        "\n",
        "        # Normalize it with the usual CIFAR100 mean and std\n",
        "        # self.data = self.data.sub_(0.1307).div_(0.3081)\n",
        "\n",
        "        # Since I'm working with autoencoders, 'targets' becomes a copy of the data. The labels are now stored\n",
        "        # in the variable 'labels'. Also put everything on GPU in advance, since the dataset is small.\n",
        "        # This lets me bypass PyTorch's DataLoaders and speed up the training.\n",
        "        self.data = self.data.to(device)\n",
        "        self.labels = self.targets.to(device)\n",
        "        self.targets = torch.flatten(copy.deepcopy(self.data), start_dim=1)\n",
        "\n",
        "    def __getitem__(self, index):\n",
        "        \"\"\"\n",
        "        Args:\n",
        "            index (int): Index\n",
        "\n",
        "        Returns:\n",
        "            tuple: (image, target) where target is index of the target class.\n",
        "        \"\"\"\n",
        "        img, target, label = self.data[index], self.targets[index], self.labels[index]\n",
        "        return img, target, label\n",
        "\n",
        "\n",
        "class NoisyCIFAR100(FastCIFAR100):\n",
        "    \"\"\" subclass of FastCIFAR100 with data=noisy_data and targets=clean_data (instead of labels) \"\"\"\n",
        "    def __init__(self, noise_const=0.1, patch_width=0, *args, **kwargs):\n",
        "        super().__init__(*args, **kwargs)\n",
        "        self.data += noise_const * torch.randn(self.data.shape).to(device)\n",
        "        self.data -= torch.min(self.data)\n",
        "        self.data /= torch.max(self.data)\n",
        "        if patch_width > 0:\n",
        "            for img in self.data:\n",
        "                start = random.randint(0, img.shape[-1] - patch_width - 1)\n",
        "                img[:, start: start + patch_width, start: start + patch_width] = 0\n",
        "'''"
      ]
    },
    {
      "cell_type": "code",
      "execution_count": null,
      "metadata": {
        "id": "1py0TP4n3IcM"
      },
      "outputs": [],
      "source": [
        "# custom_losses\n",
        "class ContractiveLoss(loss.MSELoss):\n",
        "    \"\"\"\n",
        "    Custom loss for contractive autoencoders.\n",
        "\n",
        "    note: the superclass is MSELoss, simply because the base class _Loss is protected and it's not a best practice.\n",
        "          there isn't a real reason between the choice of MSELoss, since the forward method is overridden completely.\n",
        "\n",
        "    Overridden for elasticity -> it's possible to use a function as a custom loss, but having a wrapper class\n",
        "    allows to do:\n",
        "        criterion = ClassOfWhateverLoss()\n",
        "        loss = criterion(output, target)    # this line always the same regardless of the type on loss\n",
        "    \"\"\"\n",
        "    def __init__(self, ae, lambd: float, size_average=None, reduce=None, reduction: str = 'mean') -> None:\n",
        "        super(ContractiveLoss, self).__init__(size_average, reduce, reduction)\n",
        "        self.ae = ae\n",
        "        self.lambd = lambd\n",
        "\n",
        "    def forward(self, input: Tensor, target: Tensor) -> Tensor:\n",
        "        return contractive_loss(input, target, self.lambd, self.ae, self.reduction)\n",
        "\n",
        "\n",
        "def contractive_loss(input, target, lambd, ae, reduction: str):\n",
        "    \"\"\"\n",
        "    Actual function computing the loss of a contractive autoencoder\n",
        "    :param input: (Tensor)\n",
        "    :param target: (Tensor)\n",
        "    :param lambd: (float) regularization parameter\n",
        "    :param ae: (DeepAutoencoder) the model itself, used to get it's weights\n",
        "    :param reduction: (str) type of reduction {'mean' | 'sum'}\n",
        "    :raises: ValueError\n",
        "    :return: the loss\n",
        "    \"\"\"\n",
        "    term1 = (input - target) ** 2\n",
        "    enc_weights = [ae.encoder[i].weight for i in reversed(range(1, len(ae.encoder), 2))]\n",
        "    term2 = lambd * torch.norm(torch.chain_matmul(*enc_weights))\n",
        "    contr_loss = torch.mean(term1 + term2, 0)\n",
        "    if reduction == 'mean':\n",
        "        return torch.mean(contr_loss)\n",
        "    elif reduction == 'sum':\n",
        "        return torch.sum(contr_loss)\n",
        "    else:\n",
        "        raise ValueError(f\"value for 'reduction' must be 'mean' or 'sum', got {reduction}\")"
      ]
    },
    {
      "cell_type": "code",
      "execution_count": null,
      "metadata": {
        "id": "yiIG34orrvJo"
      },
      "outputs": [],
      "source": [
        "def per_pixel_accuracy(predictions, targets, threshold=0.01):\n",
        "    \"\"\"\n",
        "    Compute per-pixel binary accuracy for autoencoder outputs.\n",
        "\n",
        "    Parameters:\n",
        "        predictions (torch.Tensor): The reconstructed images (output of the autoencoder).\n",
        "        targets (torch.Tensor): The original images (input to the autoencoder).\n",
        "        threshold (float): The threshold to consider a pixel \"correct.\"\n",
        "\n",
        "    Returns:\n",
        "        float: Per-pixel accuracy over the batch.\n",
        "    \"\"\"\n",
        "    # Ensure predictions and targets are in the same range and shape\n",
        "    predictions = predictions.view(-1)  # Flatten the predictions\n",
        "    targets = targets.view(-1)          # Flatten the targets\n",
        "\n",
        "    # Compute per-pixel accuracy\n",
        "    correct_pixels = torch.abs(predictions - targets) < threshold\n",
        "    accuracy = correct_pixels.float().mean().item()\n",
        "\n",
        "    return accuracy"
      ]
    },
    {
      "cell_type": "code",
      "execution_count": null,
      "metadata": {
        "id": "Tqywl4aiF6v_"
      },
      "outputs": [],
      "source": [
        "class ReduceLROnPlateauManual:\n",
        "    def __init__(self, optimizer, mode='min', factor=0.5, patience=3, min_lr=1e-6, verbose=True):\n",
        "        \"\"\"\n",
        "        Custom ReduceLROnPlateau scheduler.\n",
        "        Args:\n",
        "            optimizer: Optimizer to adjust.\n",
        "            mode: 'min' for minimizing loss, 'max' for maximizing metric.\n",
        "            factor: Multiplicative factor for learning rate reduction.\n",
        "            patience: Number of epochs to wait before reducing LR.\n",
        "            min_lr: Minimum learning rate.\n",
        "            verbose: Whether to print learning rate changes.\n",
        "        \"\"\"\n",
        "        self.optimizer = optimizer\n",
        "        self.mode = mode\n",
        "        self.factor = factor\n",
        "        self.patience = patience\n",
        "        self.min_lr = min_lr\n",
        "        self.verbose = verbose\n",
        "\n",
        "        self.best_metric = float('inf') if mode == 'min' else -float('inf')\n",
        "        self.num_bad_epochs = 0\n",
        "\n",
        "    def step(self, metric):\n",
        "        \"\"\"\n",
        "        Check if the learning rate should be reduced.\n",
        "        Args:\n",
        "            metric: Current validation loss or metric to monitor.\n",
        "        \"\"\"\n",
        "        if self._is_improvement(metric):\n",
        "            self.best_metric = metric\n",
        "            self.num_bad_epochs = 0\n",
        "        else:\n",
        "            self.num_bad_epochs += 1\n",
        "\n",
        "        if self.num_bad_epochs > self.patience:\n",
        "            self._reduce_lr()\n",
        "            self.num_bad_epochs = 0\n",
        "\n",
        "    def _is_improvement(self, metric):\n",
        "        \"\"\"Check if the current metric improves over the best.\"\"\"\n",
        "        if self.mode == 'min':\n",
        "            return metric < self.best_metric\n",
        "        elif self.mode == 'max':\n",
        "            return metric > self.best_metric\n",
        "\n",
        "    def _reduce_lr(self):\n",
        "        \"\"\"Reduce the learning rate of the optimizer.\"\"\"\n",
        "        for param_group in self.optimizer.param_groups:\n",
        "            old_lr = param_group['lr']\n",
        "            new_lr = max(old_lr * self.factor, self.min_lr)\n",
        "            if old_lr > self.min_lr:\n",
        "                param_group['lr'] = new_lr\n",
        "                if self.verbose:\n",
        "                    print(f\"Reducing learning rate from {old_lr:.6e} to {new_lr:.6e}\")\n",
        "            else:\n",
        "                if self.verbose:\n",
        "                    print(f\"Learning rate is already at the minimum: {old_lr:.6e}\")"
      ]
    },
    {
      "cell_type": "code",
      "execution_count": null,
      "metadata": {
        "id": "2bOBd7Va29R2"
      },
      "outputs": [],
      "source": [
        "# training_utilities - added acc computation to fit_ae\n",
        "\n",
        "# set device globally\n",
        "device = torch.device('cuda:0' if torch.cuda.is_available() else 'cpu')\n",
        "\n",
        "def fit_ae(model, tr_data, val_data, save_dir, start_epoch, mode=None, num_epochs=10, bs=32, lr=0.001, momentum=0., patience=5, **kwargs):\n",
        "    \"\"\"\n",
        "    Training function for Autoencoders with decreasing LR and early stopping.\n",
        "    :param model: Model to train\n",
        "    :param tr_data: Training data\n",
        "    :param val_data: Validation data\n",
        "    :param save_dir: Directory to save checkpoints\n",
        "    :param start_epoch: Starting epoch number\n",
        "    :param mode: (str) {'basic' | 'contractive' | 'denoising'}\n",
        "    :param num_epochs: Number of epochs\n",
        "    :param bs: Batch size\n",
        "    :param lr: Learning rate\n",
        "    :param momentum: Momentum coefficient\n",
        "    :param patience: Early stopping patience (default: 5)\n",
        "    :return: Training history\n",
        "    \"\"\"\n",
        "    mode_values = (None, 'basic', 'contractive', 'denoising')\n",
        "    assert tr_data is not None and val_data is not None\n",
        "    assert 0 < lr < 1 and num_epochs > 0 and bs > 0 and 0 <= momentum < 1 and mode in mode_values\n",
        "\n",
        "    # Set the device: GPU if available, else CPU\n",
        "    model.to(device)\n",
        "\n",
        "    os.makedirs(save_dir, exist_ok=True)\n",
        "\n",
        "    # Optimizer, loss, and scheduler\n",
        "    criterion = ContractiveLoss(ae=model, lambd=1e-4) if mode == 'contractive' else nn.MSELoss()\n",
        "    optimizer = torch.optim.Adam(model.parameters(), lr=lr)\n",
        "    scheduler = ReduceLROnPlateauManual(optimizer, mode='min', factor=0.5, patience=3, min_lr=1e-6, verbose=True)\n",
        "\n",
        "    # Flatten targets for basic AE training\n",
        "    tr_data = tr_data.to(device)\n",
        "    tr_targets = torch.flatten(tr_data.clone(), start_dim=1)\n",
        "\n",
        "    val_data = val_data.to(device)\n",
        "    val_targets = torch.flatten(val_data.clone(), start_dim=1)\n",
        "\n",
        "    if 'ConvAutoencoder' in model.__class__.__name__:\n",
        "        val_bs = bs\n",
        "    else:\n",
        "        val_bs = None\n",
        "    torch.cuda.empty_cache()\n",
        "\n",
        "    # Training loop\n",
        "    history = {'tr_loss': [], 'val_loss': [], 'tr_acc': [], 'val_acc': []}\n",
        "    best_val_loss = float('inf')\n",
        "    no_improve_epochs = 0\n",
        "\n",
        "    for epoch in range(start_epoch, num_epochs):\n",
        "        ssim_metric = StructuralSimilarityIndexMeasure(data_range=1.0).to(device)\n",
        "\n",
        "        # Training\n",
        "        model.train()\n",
        "        tr_loss, tr_acc = 0, 0\n",
        "        n_batches = math.ceil(len(tr_data) / bs)\n",
        "        indexes = torch.randperm(tr_data.shape[0])\n",
        "        tr_data = tr_data[indexes]\n",
        "        tr_targets = tr_targets[indexes]\n",
        "        progbar = tqdm(range(n_batches), total=n_batches)\n",
        "        progbar.set_description(f\"Epoch [{epoch + 1}/{num_epochs}]\")\n",
        "\n",
        "        for batch_idx in range(n_batches):\n",
        "            optimizer.zero_grad()\n",
        "            train_data_batch = tr_data[batch_idx * bs: batch_idx * bs + bs].to(device)\n",
        "            train_targets_batch = tr_targets[batch_idx * bs: batch_idx * bs + bs].to(device)\n",
        "            outputs = model(train_data_batch)\n",
        "            loss = criterion(torch.flatten(outputs, 1), train_targets_batch)\n",
        "            tr_loss += loss.item()\n",
        "            train_targets_batch = train_targets_batch.view(-1, 3, 32, 32)\n",
        "            ssim_metric.update(outputs, train_targets_batch)\n",
        "            accuracy = ssim_metric.compute().item()\n",
        "            tr_acc += accuracy\n",
        "            loss.backward()\n",
        "            optimizer.step()\n",
        "            progbar.update()\n",
        "            progbar.set_postfix(train_loss=f\"{loss.item():.4f}\", train_acc=f\"{accuracy * 100:.2f}%\")\n",
        "        tr_loss /= n_batches\n",
        "        tr_acc /= n_batches\n",
        "        history['tr_loss'].append(round(tr_loss, 5))\n",
        "        history['tr_acc'].append(round(tr_acc, 5))\n",
        "\n",
        "        ssim_metric.reset()\n",
        "\n",
        "        # Validation\n",
        "        model.eval()\n",
        "        with torch.no_grad():\n",
        "            outputs = model(val_data)\n",
        "            val_loss = criterion(torch.flatten(outputs, 1), torch.flatten(val_targets, 1)).item()\n",
        "            val_targets = val_targets.view(-1, 3, 32, 32)\n",
        "            ssim_metric.update(outputs, val_targets)\n",
        "            val_acc = ssim_metric.compute().item()\n",
        "        scheduler.step(val_loss)\n",
        "        history['val_loss'].append(round(val_loss, 5))\n",
        "        history['val_acc'].append(round(val_acc, 5))\n",
        "\n",
        "        progbar.set_postfix(train_loss=f\"{tr_loss:.4f}\", train_acc=f\"{tr_acc * 100:.2f}%\",\n",
        "                            val_loss=f\"{val_loss:.4f}\", val_acc=f\"{val_acc * 100:.2f}%\")\n",
        "        progbar.close()\n",
        "\n",
        "        # Early stopping\n",
        "        if val_loss < best_val_loss:\n",
        "            best_val_loss = val_loss\n",
        "            no_improve_epochs = 0\n",
        "            best_model_path = os.path.join(save_dir, f'best_model_epoch_{epoch + 1}.pth')\n",
        "            torch.save(model.state_dict(), best_model_path)\n",
        "            print(f\"Best model saved at {best_model_path}\")\n",
        "        else:\n",
        "            no_improve_epochs += 1\n",
        "\n",
        "        #if no_improve_epochs >= patience:\n",
        "         #   print(f\"\\nEarly stopping triggered. No improvement for {patience} epochs.\")\n",
        "          #  break\n",
        "\n",
        "        # Save checkpoint every 10 epochs\n",
        "        if (epoch + 1) % 10 == 0:\n",
        "            checkpoint_path = os.path.join(save_dir, f'checkpoint_epoch_{epoch + 1}.pth')\n",
        "            torch.save(model.state_dict(), checkpoint_path)\n",
        "            print(f\"Checkpoint saved at {checkpoint_path}\")\n",
        "\n",
        "    return history\n",
        "\n",
        "\n",
        "def evaluate(model, criterion, data, targets, mode='basic',  bs=None, **kwargs):\n",
        "    \"\"\" Evaluate the model \"\"\"\n",
        "    # set the data\n",
        "    bs = len(data) if bs is None else bs\n",
        "    n_batches = math.ceil(len(data) / bs)\n",
        "    if 'ConvAutoencoder' in model.__class__.__name__:\n",
        "        data = data.to('cpu')\n",
        "        targets = targets.to('cpu')\n",
        "    else:\n",
        "        data = data.to(device)\n",
        "        targets = targets.to(device)\n",
        "\n",
        "    # evaluate\n",
        "    model.to(device)\n",
        "    model.eval()\n",
        "    with torch.no_grad():\n",
        "        val_loss = 0\n",
        "        for batch_idx in range(n_batches):\n",
        "            data_batch = data[batch_idx * bs: batch_idx * bs + bs].to(device)\n",
        "            targets_batch = targets[batch_idx * bs: batch_idx * bs + bs].to(device)\n",
        "            outputs = model(data_batch)\n",
        "            # flatten outputs in case of ConvAE (targets already flat)\n",
        "            loss = criterion(torch.flatten(outputs, 1), targets_batch)\n",
        "            val_loss += loss.item()\n",
        "    return val_loss / n_batches\n"
      ]
    },
    {
      "cell_type": "code",
      "execution_count": null,
      "metadata": {
        "id": "f-aB4wISp4xv"
      },
      "outputs": [],
      "source": [
        "# symmetric autoencoder\n",
        "\n",
        "# set device globally\n",
        "device = torch.device('cuda:0' if torch.cuda.is_available() else 'cpu')\n",
        "\n",
        "class AbstractAutoencoder(nn.Module):\n",
        "    @abstractmethod\n",
        "    def __init__(self):\n",
        "        super().__init__()\n",
        "        self.encoder = None\n",
        "        self.decoder = None\n",
        "\n",
        "    def forward(self, x):\n",
        "        encoded = self.encoder(x)\n",
        "        decoded = self.decoder(encoded)\n",
        "        return decoded\n",
        "\n",
        "    def fit(self, tr_data, val_data, save_dir, start_epoch, mode='basic', num_epochs=10, bs=32, lr=0.001, momentum=0., **kwargs):\n",
        "        return fit_ae(model=self, mode=mode, tr_data=tr_data, val_data=val_data, save_dir=save_dir, start_epoch=start_epoch, num_epochs=num_epochs, bs=bs, lr=lr,\n",
        "                      momentum=momentum, **kwargs)\n",
        "\n",
        "\n",
        "    def show_manifold_convergence(self, load=None, path=None, max_iters=1000, thresh=0.02, side_len=28, save=False):\n",
        "        \"\"\"\n",
        "        Show the manifold convergence of an AE when fed with random noise.\n",
        "        The output of the AE is fed again as input in an iterative process.\n",
        "        :param load: if True, load an images progression of the manifold convergence\n",
        "        :param path: path of the images progression\n",
        "        :param max_iters: max number of iterations.\n",
        "        :param thresh: threshold of MSE between 2 iterations under which the process is stopped\n",
        "        :param side_len: length of the side of the images\n",
        "        :param save: if True, save the images progression and the animation\n",
        "        \"\"\"\n",
        "        if load:\n",
        "            images_progression = np.load(path)\n",
        "        else:\n",
        "            self.cpu()\n",
        "            noise_img = torch.randn((1, 1, side_len, side_len))\n",
        "            noise_img -= torch.min(noise_img)\n",
        "            noise_img /= torch.max(noise_img)\n",
        "            images_progression = [torch.squeeze(noise_img)]\n",
        "            serializable_progression = [torch.squeeze(noise_img).cpu().numpy()]\n",
        "\n",
        "            # iterate\n",
        "            i = 0\n",
        "            loss = 1000\n",
        "            input = noise_img\n",
        "            prev_output = None\n",
        "            with torch.no_grad():\n",
        "                while loss > thresh and i < max_iters:\n",
        "                    output = self(input)\n",
        "                    img = torch.reshape(torch.squeeze(output), shape=(side_len, side_len))\n",
        "                    rescaled_img = (img - torch.min(img)) / torch.max(img)\n",
        "                    images_progression.append(rescaled_img)\n",
        "                    serializable_progression.append(rescaled_img.cpu().numpy())\n",
        "                    if prev_output is not None:\n",
        "                        loss = F.mse_loss(output, prev_output)\n",
        "                    prev_output = output\n",
        "                    input = output\n",
        "                    i += 1\n",
        "\n",
        "            # save sequence of images\n",
        "            if save:\n",
        "                serializable_progression = np.array(serializable_progression)\n",
        "                np.save(file=\"manifold_img_seq\", arr=serializable_progression)\n",
        "\n",
        "        if save:\n",
        "            images_progression = images_progression[:60]\n",
        "            frames = []  # for storing the generated images\n",
        "            fig = plt.figure()\n",
        "            for i in range(len(images_progression)):\n",
        "                frames.append([plt.imshow(images_progression[i], animated=True)])\n",
        "            ani = animation.ArtistAnimation(fig, frames, interval=50, blit=True, repeat_delay=1000)\n",
        "            ani.save('movie.gif')\n",
        "            plt.show()\n",
        "        else:\n",
        "            # show images progression\n",
        "            img = None\n",
        "            for i in range(len(images_progression)):\n",
        "                if img is None:\n",
        "                    img = plt.imshow(images_progression[0])\n",
        "                else:\n",
        "                    img.set_data(images_progression[i])\n",
        "                plt.pause(.1)\n",
        "                plt.draw()\n",
        "\n",
        "'''\n",
        "class ShallowAutoencoder(AbstractAutoencoder):\n",
        "    \"\"\" Standard shallow AE with 1 fully-connected layer in the encoder and 1 in the decoder \"\"\"\n",
        "    def __init__(self, input_dim: int = 784, latent_dim: int = 200, use_bias=True):\n",
        "        super().__init__()\n",
        "        assert input_dim > 0 and latent_dim > 0\n",
        "        self.type = \"shallowAE\"\n",
        "        self.encoder = nn.Sequential(nn.Flatten(), nn.Linear(input_dim, latent_dim, bias=use_bias), nn.ReLU(inplace=True))\n",
        "        self.decoder = nn.Sequential(nn.Linear(latent_dim, input_dim, bias=use_bias), nn.Sigmoid())\n",
        "\n",
        "\n",
        "class DeepSymmetricAutoencoder(AbstractAutoencoder):\n",
        "    \"\"\" Standard deep AE \"\"\"\n",
        "    def __init__(self, dims: Sequence[int], use_bias=True):\n",
        "        \"\"\"\n",
        "        :param dims: seq of integers specifying the dimensions of the layers (length of dims = number of layers)\n",
        "        :param use_bias: if False, don't use bias\n",
        "        \"\"\"\n",
        "        super().__init__()\n",
        "        assert len(dims) > 0 and all(d > 0 for d in dims)\n",
        "        self.type = \"deepAE\"\n",
        "        self.use_bias = use_bias\n",
        "        enc_layers = []\n",
        "        dec_layers = []\n",
        "        for i in range(len(dims) - 1):\n",
        "            enc_layers.append(nn.Linear(dims[i], dims[i + 1], bias=use_bias))\n",
        "            enc_layers.append(nn.ReLU(inplace=True))\n",
        "        for i in reversed(range(1, len(dims))):\n",
        "            dec_layers.append(nn.Linear(dims[i], dims[i - 1], bias=use_bias))\n",
        "            dec_layers.append(nn.ReLU(inplace=True))\n",
        "        dec_layers[-1] = nn.Sigmoid()\n",
        "        self.encoder = nn.Sequential(nn.Flatten(), *enc_layers)\n",
        "        self.decoder = nn.Sequential(*dec_layers)\n",
        "\n",
        "    def pretrain_layers(self, num_epochs, bs, lr, momentum, mode='basic', freeze_enc=False, **kwargs):\n",
        "        tr_data = None\n",
        "        val_data = None\n",
        "        for i, layer in enumerate(self.encoder):\n",
        "            if isinstance(layer, nn.Linear):\n",
        "                print(f\"Pretrain layer: {layer}\")\n",
        "                # create shallow AE corresponding to the current layer\n",
        "                shallow_ae = ShallowAutoencoder(layer.in_features, layer.out_features, use_bias=self.use_bias)\n",
        "                if freeze_enc:\n",
        "                    # freeze shallow encoder's weights in case of randomized AE\n",
        "                    shallow_ae.encoder[1].weight.requires_grad = False\n",
        "                # train the shallow AE\n",
        "                shallow_ae.fit(mode=mode, tr_data=tr_data, val_data=val_data, num_epochs=num_epochs, bs=bs, lr=lr,\n",
        "                               momentum=momentum, **kwargs)\n",
        "                if freeze_enc:\n",
        "                    # in case of rand AE, copy shallow decoder's weights transpose in the shallow encoder.\n",
        "                    # This way it's possible to just copy the weights into the original model without further actions\n",
        "                    shallow_ae.encoder[1].weight = nn.Parameter(shallow_ae.decoder[0].weight.T)\n",
        "                # copy shallow AE's weights into the original bigger model\n",
        "                self.encoder[i].weight = nn.Parameter(shallow_ae.encoder[1].weight)\n",
        "                self.decoder[len(self.decoder) - i - 1].weight = nn.Parameter(shallow_ae.decoder[0].weight)\n",
        "                if self.use_bias:\n",
        "                    self.encoder[i].bias = nn.Parameter(shallow_ae.encoder[1].bias)\n",
        "                    self.decoder[len(self.decoder) - i - 1].bias = nn.Parameter(shallow_ae.decoder[0].bias)\n",
        "                # create training set for the next layer\n",
        "                if i == 1 and mode == 'denoising':  # i = 1 --> fist Linear layer\n",
        "                    tr_set, val_set = get_noisy_sets(**kwargs)\n",
        "                    tr_data, tr_targets = tr_set.data, tr_set\n",
        "                    val_data, val_targets = val_set.data, val_set.targets\n",
        "                    mode = 'basic'  # for the pretraining of the deeper layers\n",
        "                tr_data, val_data = self.create_next_layer_sets(shallow_ae=shallow_ae,\n",
        "                                                                prev_tr_data=tr_data,\n",
        "                                                                prev_val_data=val_data)\n",
        "                if num_epochs // 2 > 10:\n",
        "                    num_epochs = num_epochs // 2\n",
        "\n",
        "    @staticmethod\n",
        "    def create_next_layer_sets(shallow_ae, prev_tr_data=None, prev_val_data=None, unsqueeze=True):\n",
        "        \"\"\" Create training data for the next layer during a layer-wise pretraining \"\"\"\n",
        "        train_set, val_set = get_clean_sets()\n",
        "        prev_tr_data = train_set.data if prev_tr_data is None else prev_tr_data\n",
        "        prev_val_data = val_set.data if prev_val_data is None else prev_val_data\n",
        "        with torch.no_grad():\n",
        "            next_tr_data = torch.sigmoid(shallow_ae.encoder(prev_tr_data))\n",
        "            next_val_data = torch.sigmoid(shallow_ae.encoder(prev_val_data))\n",
        "            if unsqueeze:\n",
        "                next_tr_data, next_val_data = torch.unsqueeze(next_tr_data, 1), torch.unsqueeze(next_val_data, 1)\n",
        "        return next_tr_data, next_val_data\n",
        "\n",
        "\n",
        "class DeepSymmetricRandomizedAutoencoder(DeepSymmetricAutoencoder):\n",
        "    def __init__(self, dims: Sequence[int]):\n",
        "        super().__init__(dims=dims, use_bias=False)\n",
        "        self.type = \"deepRandAE\"\n",
        "\n",
        "    def fit(self, num_epochs=10, bs=32, lr=0.1, momentum=0., **kwargs):\n",
        "        \"\"\"\n",
        "        The training of this model is a pretraining of its layers where in the corresponding shallow AE\n",
        "        only its decoder's weights are trained, the encoder's ones are fixed.\n",
        "        Then copy the shallow decoder's weights in the corresponding layer of the bigger decoder\n",
        "        and its transpose in the corresponding layer of the bigger encoder.\n",
        "        \"\"\"\n",
        "        assert 0 < lr < 1 and num_epochs > 0 and bs > 0 and 0 <= momentum < 1\n",
        "        self.pretrain_layers(num_epochs=num_epochs, bs=bs, lr=lr, momentum=momentum, freeze_enc=True)\n",
        "\n",
        "\n",
        "class ShallowConvAutoencoder(AbstractAutoencoder):\n",
        "    \"\"\" Convolutional AE with 1 conv layer in the encoder and 1 in the decoder \"\"\"\n",
        "    def __init__(self, channels=1, n_filters=10, kernel_size: int = 3, central_dim=100,\n",
        "                 inp_side_len: Union[int, Tuple[int, int]] = 28):\n",
        "        super().__init__()\n",
        "        self.type = \"shallowConvAE\"\n",
        "        pad = (kernel_size - 1) // 2  # pad to keep the original area after convolution\n",
        "        central_side_len = math.floor(inp_side_len / 2)\n",
        "        self.encoder = nn.Sequential(\n",
        "            nn.Conv2d(in_channels=channels, out_channels=n_filters, kernel_size=kernel_size, stride=1, padding=pad),\n",
        "            nn.ReLU(inplace=True),\n",
        "            nn.MaxPool2d(kernel_size=2, stride=2),\n",
        "            nn.Flatten(),\n",
        "            nn.Linear(in_features=central_side_len ** 2 * n_filters, out_features=central_dim),\n",
        "            nn.ReLU(inplace=True))\n",
        "\n",
        "        # set kernel size, padding and stride to get the correct output shape\n",
        "        kersize = 2 if central_side_len * 2 == inp_side_len else 3\n",
        "        self.decoder = nn.Sequential(\n",
        "            nn.Linear(in_features=central_dim, out_features=central_side_len ** 2 * n_filters),\n",
        "            nn.ReLU(inplace=True),\n",
        "            nn.Unflatten(dim=1, unflattened_size=(n_filters, central_side_len, central_side_len)),\n",
        "            nn.ConvTranspose2d(in_channels=n_filters, out_channels=channels, kernel_size=kersize, stride=2, padding=0),\n",
        "            nn.Sigmoid())\n",
        "'''\n",
        "\n",
        "class DeepSymmetricConvAutoencoder(AbstractAutoencoder):\n",
        "    \"\"\" Conv AE with variable number of conv layers and dropout support \"\"\"\n",
        "    def __init__(self, inp_side_len=32, dims=(32, 64), kernel_sizes=3, central_dim=256, pool=True, in_channels=3, dropout_rate=0.5):\n",
        "        super().__init__()\n",
        "\n",
        "        # initial checks\n",
        "        if isinstance(kernel_sizes, int):\n",
        "            kernel_sizes = [kernel_sizes] * len(dims)\n",
        "        assert len(kernel_sizes) == len(dims) and all(size > 0 for size in kernel_sizes)\n",
        "\n",
        "        # build encoder\n",
        "        step_pool = 1 if len(dims) < 3 else (2 if len(dims) < 6 else 3)\n",
        "        side_len = inp_side_len\n",
        "        side_lengths = [side_len]\n",
        "        dims = (in_channels, *dims)  # Set the first dimension to the number of input channels (e.g., 3 for RGB)\n",
        "        enc_layers = []\n",
        "        for i in range(len(dims) - 1):\n",
        "            pad = (kernel_sizes[i] - 1) // 2\n",
        "            enc_layers.append(nn.Conv2d(in_channels=dims[i], out_channels=dims[i + 1], kernel_size=kernel_sizes[i],\n",
        "                                        padding=pad, stride=1))\n",
        "            enc_layers.append(nn.ReLU(inplace=True))\n",
        "            enc_layers.append(nn.Dropout(p=dropout_rate))\n",
        "            if pool and (i % step_pool == 0 or i == len(dims) - 1) and side_len > 3:\n",
        "                enc_layers.append(nn.MaxPool2d(kernel_size=2, stride=2, padding=0))\n",
        "                side_len = math.floor(side_len / 2)\n",
        "                side_lengths.append(side_len)\n",
        "\n",
        "        # fully connected layers in the center of the autoencoder to reduce dimensionality\n",
        "        fc_dims = (side_len ** 2 * dims[-1], side_len ** 2 * dims[-1] // 2, central_dim)\n",
        "        self.encoder = nn.Sequential(\n",
        "            *enc_layers,\n",
        "            nn.Flatten(),\n",
        "            nn.Linear(fc_dims[0], fc_dims[1]),\n",
        "            nn.ReLU(inplace=True),\n",
        "            nn.Dropout(p=dropout_rate),\n",
        "            nn.Linear(fc_dims[1], fc_dims[2]),\n",
        "            nn.ReLU(inplace=True),\n",
        "            nn.Dropout(p=dropout_rate)\n",
        "        )\n",
        "\n",
        "        # build decoder\n",
        "        central_side_len = side_lengths.pop(-1)\n",
        "        dec_layers = []\n",
        "        for i in reversed(range(1, len(dims))):\n",
        "            kersize = 2 if len(side_lengths) > 0 and side_len * 2 == side_lengths.pop(-1) else 3\n",
        "            pad, stride = (1, 1) if side_len == inp_side_len else (0, 2)\n",
        "            dec_layers.append(nn.ConvTranspose2d(in_channels=dims[i], out_channels=dims[i - 1], kernel_size=kersize,\n",
        "                                                 padding=pad, stride=stride))\n",
        "            side_len = side_len if pad == 1 else (side_len * 2 if kersize == 2 else side_len * 2 + 1)\n",
        "            dec_layers.append(nn.ReLU(inplace=True))\n",
        "            dec_layers.append(nn.Dropout(p=dropout_rate))\n",
        "        dec_layers[-1] = nn.Sigmoid()\n",
        "\n",
        "        self.decoder = nn.Sequential(\n",
        "            nn.Linear(fc_dims[2], fc_dims[1]),\n",
        "            nn.ReLU(inplace=True),\n",
        "            nn.Dropout(p=dropout_rate),\n",
        "            nn.Linear(fc_dims[1], fc_dims[0]),\n",
        "            nn.ReLU(inplace=True),\n",
        "            nn.Dropout(p=dropout_rate),\n",
        "            nn.Unflatten(dim=1, unflattened_size=(dims[-1], central_side_len, central_side_len)),\n",
        "            *dec_layers,\n",
        "        )"
      ]
    },
    {
      "cell_type": "markdown",
      "metadata": {
        "id": "CCt9pRSRqpa0"
      },
      "source": [
        "My code starts from here"
      ]
    },
    {
      "cell_type": "code",
      "execution_count": null,
      "metadata": {
        "id": "FS7K3Su6q1gH"
      },
      "outputs": [],
      "source": [
        "def load_checkpoint(model, save_dir, num_epochs, exact_checkpoint=None):\n",
        "    \"\"\"\n",
        "    Loads the latest checkpoint from a specified directory into the model.\n",
        "\n",
        "    Parameters:\n",
        "        model (torch.nn.Module): The model to load the checkpoint into.\n",
        "        save_dir (str): The directory containing checkpoint files.\n",
        "        num_epochs (int): The total number of epochs to train.\n",
        "\n",
        "    Returns:\n",
        "        int: The epoch number to start training from.\n",
        "    \"\"\"\n",
        "    os.makedirs(save_dir, exist_ok=True)\n",
        "\n",
        "    # Check for checkpoint files in the specified directory\n",
        "    checkpoint_files = [f for f in os.listdir(save_dir) if f.endswith('.pth')]\n",
        "    training_finished = False\n",
        "\n",
        "\n",
        "    if checkpoint_files:\n",
        "        if \"model_weights.pth\" in checkpoint_files:\n",
        "            latest_checkpoint_file = \"model_weights.pth\"\n",
        "            training_finished = True\n",
        "        elif exact_checkpoint is not None:\n",
        "          latest_checkpoint_file = \"checkpoint_epoch_\"+str(exact_checkpoint)+\".pth\"\n",
        "        else:\n",
        "            # Find the checkpoint file with the highest epoch number\n",
        "            latest_checkpoint_file = max(checkpoint_files, key=lambda x: int(re.search(r'(\\d+)', x).group()))\n",
        "            print(f\"Loading checkpoint: {latest_checkpoint_file}\")\n",
        "\n",
        "        # Load the state_dict from the checkpoint file into the model\n",
        "        model.load_state_dict(torch.load(os.path.join(save_dir, latest_checkpoint_file)))\n",
        "\n",
        "        # Determine the starting epoch\n",
        "        start_epoch = num_epochs if training_finished else int(re.search(r'(\\d+)', latest_checkpoint_file).group()) + 1\n",
        "    else:\n",
        "        start_epoch = 0\n",
        "\n",
        "    return start_epoch"
      ]
    },
    {
      "cell_type": "code",
      "execution_count": null,
      "metadata": {
        "id": "QBOKBEDPrnsZ"
      },
      "outputs": [],
      "source": [
        "def train_model(model, start_epoch, num_epochs, save_dir, train_loader, val_loader, criterion, optimizer, device, name, accumulation_steps=1):\n",
        "    \"\"\"\n",
        "    Trains a model and saves checkpoints.\n",
        "\n",
        "    Parameters:\n",
        "        model (torch.nn.Module): The model to train.\n",
        "        start_epoch (int): The starting epoch for resuming training.\n",
        "        num_epochs (int): Total number of epochs to train.\n",
        "        save_dir (str): Directory to save checkpoints.\n",
        "        train_loader (DataLoader): DataLoader for training data.\n",
        "        val_loader (DataLoader): DataLoader for validation data.\n",
        "        criterion: Loss function.\n",
        "        optimizer: Optimizer for model training.\n",
        "        device: Device to perform computations on (e.g., 'cuda' or 'cpu').\n",
        "        accumulation_steps (int): Number of steps to accumulate gradients before updating.\n",
        "    \"\"\"\n",
        "    wandb.init(\n",
        "      # Set the project where this run will be logged\n",
        "      project=\"Thesis\",\n",
        "      # We pass a run name (otherwise it’ll be randomly assigned, like sunshine-lollypop-10)\n",
        "      name=f\"{name}\",\n",
        "      # Track hyperparameters and run metadata\n",
        "      config={\n",
        "      \"learning_rate\": 0.001,\n",
        "      \"architecture\": \"Symmetric Autoencoder with 5 layers\",\n",
        "      \"dataset\": \"CIFAR-100\",\n",
        "      \"epochs\": 50,\n",
        "      \"dropout rate\": 0.2,\n",
        "      })\n",
        "\n",
        "    os.makedirs(save_dir, exist_ok=True)\n",
        "    best_val_loss = float('inf')\n",
        "    no_improve_epochs = 0\n",
        "    best_model_path = os.path.join(save_dir, 'best_model.pth')\n",
        "\n",
        "    print(f\"Starting training from epoch {start_epoch + 1}\")\n",
        "    for epoch in range(start_epoch, num_epochs):\n",
        "      ssim_metric = StructuralSimilarityIndexMeasure(data_range=1.0).to(device)\n",
        "\n",
        "      model.train()\n",
        "      epoch_loss = 0.0\n",
        "      epoch_acc = 0.0\n",
        "\n",
        "      # Training phase\n",
        "      for i, (inputs, _) in enumerate(tqdm(train_loader, desc=f\"Epoch {epoch + 1}/{num_epochs}\")):\n",
        "          inputs = inputs.to(device)\n",
        "          targets = inputs  # Autoencoder: target is input itself\n",
        "\n",
        "          # Forward pass\n",
        "          outputs = model(inputs)\n",
        "          loss = criterion(outputs, targets) / accumulation_steps\n",
        "          loss.backward()\n",
        "\n",
        "          # Update optimizer\n",
        "          if (i + 1) % accumulation_steps == 0:\n",
        "              optimizer.step()\n",
        "              optimizer.zero_grad()\n",
        "\n",
        "          # Track loss and accuracy\n",
        "          epoch_loss += loss.item()\n",
        "          train_targets_batch = targets.view(-1, 3, 32, 32)\n",
        "          ssim_metric.update(outputs, train_targets_batch)\n",
        "          batch_acc = ssim_metric.compute().item()\n",
        "          epoch_acc += batch_acc\n",
        "\n",
        "          # Print statistics every 100 mini-batches\n",
        "          if (i + 1) % 100 == 0:\n",
        "              avg_batch_loss = epoch_loss / (i + 1)\n",
        "              avg_batch_acc = (epoch_acc / (i + 1)) * 100\n",
        "              # print(f\"[Epoch {epoch + 1}, Batch {i + 1}] avg_loss: {avg_batch_loss:.4f}, avg_acc: {avg_batch_acc:.2f}%\")\n",
        "              ssim_metric.reset()  # Reset metric for next mini-batch\n",
        "\n",
        "      # Compute epoch-level metrics\n",
        "      avg_epoch_loss = epoch_loss / len(train_loader)\n",
        "      avg_epoch_acc = (epoch_acc / len(train_loader)) * 100\n",
        "      print(f\"Epoch {epoch + 1}: train_loss={avg_epoch_loss:.4f}, train_acc={avg_epoch_acc:.2f}%\")\n",
        "\n",
        "      # Save checkpoint\n",
        "      checkpoint_path = os.path.join(save_dir, f'checkpoint_epoch_{epoch + 1}.pth')\n",
        "      torch.save(model.state_dict(), checkpoint_path)\n",
        "      print(f\"Checkpoint saved at {checkpoint_path}\")\n",
        "\n",
        "      # Validation phase\n",
        "      model.eval()\n",
        "      val_loss = 0.0\n",
        "      val_acc = 0.0\n",
        "      ssim_metric.reset()  # Reset metric for validation\n",
        "\n",
        "      with torch.no_grad():\n",
        "          for inputs, _ in val_loader:\n",
        "              inputs = inputs.to(device)\n",
        "              targets = inputs\n",
        "              outputs = model(inputs)\n",
        "              loss = criterion(outputs, targets)\n",
        "              val_loss += loss.item()\n",
        "              val_targets = targets.view(-1, 3, 32, 32)\n",
        "              ssim_metric.update(outputs, val_targets)\n",
        "              val_acc += ssim_metric.compute().item()\n",
        "\n",
        "      if val_loss < best_val_loss:\n",
        "            best_val_loss = val_loss\n",
        "            best_epoch = epoch\n",
        "            epochs_without_improvement = 0\n",
        "            torch.save(model.state_dict(), best_model_path)\n",
        "      else:\n",
        "            epochs_without_improvement += 1\n",
        "\n",
        "      if epochs_without_improvement >= 5:\n",
        "            current_lr = optimizer.param_groups[0]['lr']\n",
        "            new_lr = current_lr * 0.1\n",
        "            optimizer.param_groups[0]['lr'] = new_lr\n",
        "            print(f\"Learning rate decreased to {new_lr}\")\n",
        "            epochs_without_improvement = 0\n",
        "\n",
        "      avg_val_loss = val_loss / len(val_loader)\n",
        "      avg_val_acc = (val_acc / len(val_loader)) * 100\n",
        "      print(f\"Validation: val_loss={avg_val_loss:.4f}, val_acc={avg_val_acc:.2f}%\")\n",
        "      wandb.log({\"tr_acc\": avg_epoch_acc, \"tr_loss\": avg_epoch_loss, \"val_acc\": avg_val_acc, \"val_loss\": avg_val_loss, \"lr\":optimizer.param_groups[0]['lr']})\n",
        "\n",
        "    wandb.finish()\n",
        "    print('Finished Training')"
      ]
    },
    {
      "cell_type": "code",
      "execution_count": null,
      "metadata": {
        "id": "Feb6vNKksCvP"
      },
      "outputs": [],
      "source": [
        "def display_reconstruction(model, val_loader, device, n=1):\n",
        "    \"\"\"\n",
        "    Displays original and reconstructed images from a model.\n",
        "\n",
        "    Parameters:\n",
        "        model (torch.nn.Module): The autoencoder model.\n",
        "        val_loader (DataLoader): Validation data loader.\n",
        "        device: Device to perform computations on (e.g., 'cuda' or 'cpu').\n",
        "        n (int): Number of images to display.\n",
        "    \"\"\"\n",
        "    model.to(device)\n",
        "    model.eval()\n",
        "\n",
        "    # Obtain one batch of validation data\n",
        "    val_iter = iter(val_loader)\n",
        "    images, _ = next(val_iter)\n",
        "\n",
        "    # Move images to the device\n",
        "    images = images.to(device)\n",
        "\n",
        "    # Pass through the autoencoder to get reconstructed images\n",
        "    with torch.no_grad():\n",
        "        reconstructed_images = model(images)\n",
        "\n",
        "    # Move images back to CPU for visualization\n",
        "    images = images.cpu()\n",
        "    reconstructed_images = reconstructed_images.cpu()\n",
        "\n",
        "    # Display original and reconstructed images\n",
        "    fig, axes = plt.subplots(n, 2, figsize=(6, 3 * n))\n",
        "    for i in range(n):\n",
        "        if n == 1:\n",
        "            axes[0].imshow(transforms.ToPILImage()(images[i]))\n",
        "            axes[0].set_title(\"Original\")\n",
        "            axes[0].axis('off')\n",
        "            axes[1].imshow(transforms.ToPILImage()(reconstructed_images[i]))\n",
        "            axes[1].set_title(\"Reconstructed\")\n",
        "            axes[1].axis('off')\n",
        "        else:\n",
        "            axes[i, 0].imshow(transforms.ToPILImage()(images[i]))\n",
        "            axes[i, 0].set_title(\"Original\")\n",
        "            axes[i, 0].axis('off')\n",
        "            axes[i, 1].imshow(transforms.ToPILImage()(reconstructed_images[i]))\n",
        "            axes[i, 1].set_title(\"Reconstructed\")\n",
        "            axes[i, 1].axis('off')\n",
        "\n",
        "    plt.show()"
      ]
    },
    {
      "cell_type": "code",
      "execution_count": null,
      "metadata": {
        "id": "7YeAjBfY1fjb"
      },
      "outputs": [],
      "source": [
        "def evaluate_reconstruction(model, train_loader, val_loader, device, criterion, ssim_metric):\n",
        "    \"\"\"\n",
        "    Evaluate the reconstruction accuracy of the model on both training and validation datasets.\n",
        "\n",
        "    :param model: Trained model (e.g., an autoencoder)\n",
        "    :param train_loader: DataLoader for training data\n",
        "    :param val_loader: DataLoader for validation data\n",
        "    :param device: Device to run the evaluation (CPU/GPU)\n",
        "    :param criterion: Loss function for reconstruction (e.g., MSELoss)\n",
        "    :param ssim_metric: SSIM metric instance (from torcheval)\n",
        "    :return: Dictionary containing reconstruction loss and SSIM for both datasets\n",
        "    \"\"\"\n",
        "    def evaluate_loader(data_loader, description):\n",
        "        total_loss = 0\n",
        "        total_ssim = 0\n",
        "\n",
        "        with torch.no_grad():\n",
        "            for batch in tqdm(data_loader, desc=f\"Evaluating {description} Data\"):\n",
        "                inputs = batch[0]  # Use only the images, ignoring labels\n",
        "                inputs = inputs.to(device)\n",
        "\n",
        "                # Forward pass\n",
        "                outputs = model(inputs)\n",
        "\n",
        "                # Compute reconstruction loss\n",
        "                loss = criterion(outputs, inputs)\n",
        "                total_loss += loss.item()\n",
        "\n",
        "                # Compute SSIM\n",
        "                ssim_metric.update(outputs, inputs)\n",
        "                total_ssim += ssim_metric.compute().item()\n",
        "                ssim_metric.reset()\n",
        "\n",
        "        # Compute average loss and SSIM\n",
        "        avg_loss = total_loss / len(data_loader)\n",
        "        avg_ssim = total_ssim / len(data_loader)\n",
        "        return avg_loss, avg_ssim\n",
        "\n",
        "    model.eval()  # Set the model to evaluation mode\n",
        "\n",
        "    # Evaluate on training data\n",
        "    train_loss, train_ssim = evaluate_loader(train_loader, \"Training\")\n",
        "\n",
        "    # Evaluate on validation data\n",
        "    val_loss, val_ssim = evaluate_loader(val_loader, \"Validation\")\n",
        "\n",
        "    return {\n",
        "        'train_loss': train_loss,\n",
        "        'train_ssim': train_ssim,\n",
        "        'val_loss': val_loss,\n",
        "        'val_ssim': val_ssim,\n",
        "    }\n"
      ]
    },
    {
      "cell_type": "code",
      "execution_count": null,
      "metadata": {
        "colab": {
          "base_uri": "https://localhost:8080/"
        },
        "id": "hWO6LvamXx6f",
        "outputId": "dda8a9c1-cd4d-4203-967a-3e7efdffc69e"
      },
      "outputs": [
        {
          "name": "stdout",
          "output_type": "stream",
          "text": [
            "Files already downloaded and verified\n",
            "Files already downloaded and verified\n"
          ]
        }
      ],
      "source": [
        "# Set device\n",
        "device = torch.device('cuda:0' if torch.cuda.is_available() else 'cpu')\n",
        "\n",
        "# Data transformations for CIFAR-100\n",
        "transform = transforms.Compose([\n",
        "    transforms.ToTensor(),\n",
        "    # You can add normalization if needed\n",
        "    # transforms.Normalize((0.5071, 0.4865, 0.4409), (0.2675, 0.2565, 0.2761)),\n",
        "])\n",
        "\n",
        "# Load CIFAR-100 dataset\n",
        "train_dataset = datasets.CIFAR100(root='./data', train=True, download=True, transform=transform)\n",
        "val_dataset = datasets.CIFAR100(root='./data', train=False, download=True, transform=transform)\n",
        "\n",
        "# DataLoaders\n",
        "train_loader = DataLoader(train_dataset, batch_size=64, shuffle=True, num_workers=2)\n",
        "val_loader = DataLoader(val_dataset, batch_size=64, shuffle=False, num_workers=2)\n",
        "\n",
        "tr_data = torch.stack([img for img, _ in train_dataset]).to(device)\n",
        "val_data = torch.stack([img for img, _ in val_dataset]).to(device)\n",
        "\n",
        "tr_labels = torch.tensor([label for _, label in train_dataset]).to(device)\n",
        "val_labels = torch.tensor([label for _, label in val_dataset]).to(device)\n"
      ]
    },
    {
      "cell_type": "code",
      "execution_count": null,
      "metadata": {
        "colab": {
          "base_uri": "https://localhost:8080/"
        },
        "id": "BHZEI29svXx0",
        "outputId": "8bb5385b-71ce-42fd-af72-7153a6e41e2a"
      },
      "outputs": [
        {
          "name": "stdout",
          "output_type": "stream",
          "text": [
            "Mounted at /content/gdrive\n"
          ]
        }
      ],
      "source": [
        "drive.mount('/content/gdrive', force_remount=True)\n",
        "num_epochs = 250"
      ]
    },
    {
      "cell_type": "code",
      "execution_count": null,
      "metadata": {
        "id": "gk5hs9xywtBu"
      },
      "outputs": [],
      "source": [
        "# Instantiate your model\n",
        "model = DeepSymmetricConvAutoencoder(\n",
        "    inp_side_len=32,  # CIFAR-100 images are 32x32\n",
        "    dims=(32, 64, 128, 256, 512),    # 5 layers\n",
        "    kernel_sizes=3,\n",
        "    central_dim=256,\n",
        "    in_channels=3,  # CIFAR-100 has 3 channels (RGB)\n",
        "    dropout_rate=0.2\n",
        ").to(device)\n",
        "\n",
        "\n",
        "# Define loss function and optimizer\n",
        "criterion = nn.MSELoss()\n",
        "optimizer = optim.Adam(model.parameters(), lr=0.001)"
      ]
    },
    {
      "cell_type": "code",
      "execution_count": null,
      "metadata": {
        "id": "IWoWi8bK80j7"
      },
      "outputs": [],
      "source": [
        "save_dir_symmetric_ae = '/content/gdrive/My Drive/checkpoints/SymmetricAutoencoderLRAndDropout20'\n",
        "start_epoch_symmetric = load_checkpoint(model, save_dir_symmetric_ae, num_epochs)#, exact_checkpoint=100)"
      ]
    },
    {
      "cell_type": "code",
      "execution_count": null,
      "metadata": {
        "id": "Q44JY-nA0_Rg"
      },
      "outputs": [],
      "source": [
        "# In order to solve the model's crashing for the 10 dims (out of memory)\n",
        "torch.cuda.empty_cache()\n",
        "os.environ['PYTORCH_CUDA_ALLOC_CONF'] = 'expandable_segments:True'"
      ]
    },
    {
      "cell_type": "code",
      "execution_count": null,
      "metadata": {
        "colab": {
          "background_save": true,
          "base_uri": "https://localhost:8080/",
          "height": 1000,
          "referenced_widgets": [
            "2357ab0f36554f82a06e1d55c688c2ad"
          ]
        },
        "id": "ELgnq1ZtYisB",
        "outputId": "e515e6da-826f-4ff9-8987-829263a80aec"
      },
      "outputs": [
        {
          "data": {
            "text/html": [
              "Tracking run with wandb version 0.18.7"
            ],
            "text/plain": [
              "<IPython.core.display.HTML object>"
            ]
          },
          "metadata": {},
          "output_type": "display_data"
        },
        {
          "data": {
            "text/html": [
              "Run data is saved locally in <code>/content/wandb/run-20241127_134311-kh3mh9u7</code>"
            ],
            "text/plain": [
              "<IPython.core.display.HTML object>"
            ]
          },
          "metadata": {},
          "output_type": "display_data"
        },
        {
          "data": {
            "text/html": [
              "Syncing run <strong><a href='https://wandb.ai/shira-chesler-ariel-university/Thesis/runs/kh3mh9u7' target=\"_blank\">symmetric_autoencoder_dropout20</a></strong> to <a href='https://wandb.ai/shira-chesler-ariel-university/Thesis' target=\"_blank\">Weights & Biases</a> (<a href='https://wandb.me/developer-guide' target=\"_blank\">docs</a>)<br/>"
            ],
            "text/plain": [
              "<IPython.core.display.HTML object>"
            ]
          },
          "metadata": {},
          "output_type": "display_data"
        },
        {
          "data": {
            "text/html": [
              " View project at <a href='https://wandb.ai/shira-chesler-ariel-university/Thesis' target=\"_blank\">https://wandb.ai/shira-chesler-ariel-university/Thesis</a>"
            ],
            "text/plain": [
              "<IPython.core.display.HTML object>"
            ]
          },
          "metadata": {},
          "output_type": "display_data"
        },
        {
          "data": {
            "text/html": [
              " View run at <a href='https://wandb.ai/shira-chesler-ariel-university/Thesis/runs/kh3mh9u7' target=\"_blank\">https://wandb.ai/shira-chesler-ariel-university/Thesis/runs/kh3mh9u7</a>"
            ],
            "text/plain": [
              "<IPython.core.display.HTML object>"
            ]
          },
          "metadata": {},
          "output_type": "display_data"
        },
        {
          "name": "stdout",
          "output_type": "stream",
          "text": [
            "Starting training from epoch 1\n"
          ]
        },
        {
          "name": "stderr",
          "output_type": "stream",
          "text": [
            "Epoch 1/250: 100%|██████████| 782/782 [00:39<00:00, 20.03it/s]\n"
          ]
        },
        {
          "name": "stdout",
          "output_type": "stream",
          "text": [
            "Epoch 1: train_loss=0.0724, train_acc=18.27%\n",
            "Checkpoint saved at /content/gdrive/My Drive/checkpoints/SymmetricAutoencoderLRAndDropout20/checkpoint_epoch_1.pth\n",
            "Validation: val_loss=0.0728, val_acc=17.96%\n"
          ]
        },
        {
          "name": "stderr",
          "output_type": "stream",
          "text": [
            "Epoch 2/250: 100%|██████████| 782/782 [00:39<00:00, 19.74it/s]\n"
          ]
        },
        {
          "name": "stdout",
          "output_type": "stream",
          "text": [
            "Epoch 2: train_loss=0.0724, train_acc=18.40%\n",
            "Checkpoint saved at /content/gdrive/My Drive/checkpoints/SymmetricAutoencoderLRAndDropout20/checkpoint_epoch_2.pth\n",
            "Validation: val_loss=0.0728, val_acc=17.96%\n"
          ]
        },
        {
          "name": "stderr",
          "output_type": "stream",
          "text": [
            "Epoch 3/250: 100%|██████████| 782/782 [00:39<00:00, 19.80it/s]\n"
          ]
        },
        {
          "name": "stdout",
          "output_type": "stream",
          "text": [
            "Epoch 3: train_loss=0.0724, train_acc=18.27%\n",
            "Checkpoint saved at /content/gdrive/My Drive/checkpoints/SymmetricAutoencoderLRAndDropout20/checkpoint_epoch_3.pth\n",
            "Validation: val_loss=0.0728, val_acc=17.96%\n"
          ]
        },
        {
          "name": "stderr",
          "output_type": "stream",
          "text": [
            "Epoch 4/250: 100%|██████████| 782/782 [00:39<00:00, 19.80it/s]\n"
          ]
        },
        {
          "name": "stdout",
          "output_type": "stream",
          "text": [
            "Epoch 4: train_loss=0.0724, train_acc=18.38%\n",
            "Checkpoint saved at /content/gdrive/My Drive/checkpoints/SymmetricAutoencoderLRAndDropout20/checkpoint_epoch_4.pth\n",
            "Validation: val_loss=0.0728, val_acc=17.96%\n"
          ]
        },
        {
          "name": "stderr",
          "output_type": "stream",
          "text": [
            "Epoch 5/250: 100%|██████████| 782/782 [00:39<00:00, 19.76it/s]\n"
          ]
        },
        {
          "name": "stdout",
          "output_type": "stream",
          "text": [
            "Epoch 5: train_loss=0.0724, train_acc=18.28%\n",
            "Checkpoint saved at /content/gdrive/My Drive/checkpoints/SymmetricAutoencoderLRAndDropout20/checkpoint_epoch_5.pth\n",
            "Validation: val_loss=0.0728, val_acc=17.96%\n"
          ]
        },
        {
          "name": "stderr",
          "output_type": "stream",
          "text": [
            "Epoch 6/250: 100%|██████████| 782/782 [00:39<00:00, 19.79it/s]\n"
          ]
        },
        {
          "name": "stdout",
          "output_type": "stream",
          "text": [
            "Epoch 6: train_loss=0.0724, train_acc=18.26%\n",
            "Checkpoint saved at /content/gdrive/My Drive/checkpoints/SymmetricAutoencoderLRAndDropout20/checkpoint_epoch_6.pth\n",
            "Learning rate decreased to 0.0001\n",
            "Validation: val_loss=0.0728, val_acc=17.96%\n"
          ]
        },
        {
          "name": "stderr",
          "output_type": "stream",
          "text": [
            "Epoch 7/250: 100%|██████████| 782/782 [00:39<00:00, 19.85it/s]\n"
          ]
        },
        {
          "name": "stdout",
          "output_type": "stream",
          "text": [
            "Epoch 7: train_loss=0.0724, train_acc=18.33%\n",
            "Checkpoint saved at /content/gdrive/My Drive/checkpoints/SymmetricAutoencoderLRAndDropout20/checkpoint_epoch_7.pth\n",
            "Validation: val_loss=0.0728, val_acc=17.96%\n"
          ]
        },
        {
          "name": "stderr",
          "output_type": "stream",
          "text": [
            "Epoch 8/250: 100%|██████████| 782/782 [00:39<00:00, 19.79it/s]\n"
          ]
        },
        {
          "name": "stdout",
          "output_type": "stream",
          "text": [
            "Epoch 8: train_loss=0.0724, train_acc=18.31%\n",
            "Checkpoint saved at /content/gdrive/My Drive/checkpoints/SymmetricAutoencoderLRAndDropout20/checkpoint_epoch_8.pth\n",
            "Validation: val_loss=0.0728, val_acc=17.96%\n"
          ]
        },
        {
          "name": "stderr",
          "output_type": "stream",
          "text": [
            "Epoch 9/250: 100%|██████████| 782/782 [00:39<00:00, 19.84it/s]\n"
          ]
        },
        {
          "name": "stdout",
          "output_type": "stream",
          "text": [
            "Epoch 9: train_loss=0.0724, train_acc=18.31%\n",
            "Checkpoint saved at /content/gdrive/My Drive/checkpoints/SymmetricAutoencoderLRAndDropout20/checkpoint_epoch_9.pth\n",
            "Validation: val_loss=0.0728, val_acc=17.96%\n"
          ]
        },
        {
          "name": "stderr",
          "output_type": "stream",
          "text": [
            "Epoch 10/250: 100%|██████████| 782/782 [00:39<00:00, 19.80it/s]\n"
          ]
        },
        {
          "name": "stdout",
          "output_type": "stream",
          "text": [
            "Epoch 10: train_loss=0.0724, train_acc=18.30%\n",
            "Checkpoint saved at /content/gdrive/My Drive/checkpoints/SymmetricAutoencoderLRAndDropout20/checkpoint_epoch_10.pth\n",
            "Validation: val_loss=0.0728, val_acc=17.96%\n"
          ]
        },
        {
          "name": "stderr",
          "output_type": "stream",
          "text": [
            "Epoch 11/250: 100%|██████████| 782/782 [00:39<00:00, 19.82it/s]\n"
          ]
        },
        {
          "name": "stdout",
          "output_type": "stream",
          "text": [
            "Epoch 11: train_loss=0.0724, train_acc=18.24%\n",
            "Checkpoint saved at /content/gdrive/My Drive/checkpoints/SymmetricAutoencoderLRAndDropout20/checkpoint_epoch_11.pth\n",
            "Learning rate decreased to 1e-05\n",
            "Validation: val_loss=0.0728, val_acc=17.96%\n"
          ]
        },
        {
          "name": "stderr",
          "output_type": "stream",
          "text": [
            "Epoch 12/250: 100%|██████████| 782/782 [00:39<00:00, 19.84it/s]\n"
          ]
        },
        {
          "name": "stdout",
          "output_type": "stream",
          "text": [
            "Epoch 12: train_loss=0.0724, train_acc=18.32%\n",
            "Checkpoint saved at /content/gdrive/My Drive/checkpoints/SymmetricAutoencoderLRAndDropout20/checkpoint_epoch_12.pth\n",
            "Validation: val_loss=0.0728, val_acc=17.96%\n"
          ]
        },
        {
          "name": "stderr",
          "output_type": "stream",
          "text": [
            "Epoch 13/250: 100%|██████████| 782/782 [00:39<00:00, 19.79it/s]\n"
          ]
        },
        {
          "name": "stdout",
          "output_type": "stream",
          "text": [
            "Epoch 13: train_loss=0.0724, train_acc=18.31%\n",
            "Checkpoint saved at /content/gdrive/My Drive/checkpoints/SymmetricAutoencoderLRAndDropout20/checkpoint_epoch_13.pth\n",
            "Validation: val_loss=0.0728, val_acc=17.96%\n"
          ]
        },
        {
          "name": "stderr",
          "output_type": "stream",
          "text": [
            "Epoch 14/250: 100%|██████████| 782/782 [00:39<00:00, 19.84it/s]\n"
          ]
        },
        {
          "name": "stdout",
          "output_type": "stream",
          "text": [
            "Epoch 14: train_loss=0.0724, train_acc=18.24%\n",
            "Checkpoint saved at /content/gdrive/My Drive/checkpoints/SymmetricAutoencoderLRAndDropout20/checkpoint_epoch_14.pth\n",
            "Validation: val_loss=0.0728, val_acc=17.96%\n"
          ]
        },
        {
          "name": "stderr",
          "output_type": "stream",
          "text": [
            "Epoch 15/250: 100%|██████████| 782/782 [00:39<00:00, 19.84it/s]\n"
          ]
        },
        {
          "name": "stdout",
          "output_type": "stream",
          "text": [
            "Epoch 15: train_loss=0.0724, train_acc=18.32%\n",
            "Checkpoint saved at /content/gdrive/My Drive/checkpoints/SymmetricAutoencoderLRAndDropout20/checkpoint_epoch_15.pth\n",
            "Validation: val_loss=0.0728, val_acc=17.96%\n"
          ]
        },
        {
          "name": "stderr",
          "output_type": "stream",
          "text": [
            "Epoch 16/250: 100%|██████████| 782/782 [00:39<00:00, 19.83it/s]\n"
          ]
        },
        {
          "name": "stdout",
          "output_type": "stream",
          "text": [
            "Epoch 16: train_loss=0.0724, train_acc=18.16%\n",
            "Checkpoint saved at /content/gdrive/My Drive/checkpoints/SymmetricAutoencoderLRAndDropout20/checkpoint_epoch_16.pth\n",
            "Validation: val_loss=0.0728, val_acc=17.87%\n"
          ]
        },
        {
          "name": "stderr",
          "output_type": "stream",
          "text": [
            "Epoch 17/250: 100%|██████████| 782/782 [00:39<00:00, 19.88it/s]\n"
          ]
        },
        {
          "name": "stdout",
          "output_type": "stream",
          "text": [
            "Epoch 17: train_loss=0.0715, train_acc=17.81%\n",
            "Checkpoint saved at /content/gdrive/My Drive/checkpoints/SymmetricAutoencoderLRAndDropout20/checkpoint_epoch_17.pth\n",
            "Validation: val_loss=0.0714, val_acc=17.91%\n"
          ]
        },
        {
          "name": "stderr",
          "output_type": "stream",
          "text": [
            "Epoch 18/250: 100%|██████████| 782/782 [00:39<00:00, 19.79it/s]\n"
          ]
        },
        {
          "name": "stdout",
          "output_type": "stream",
          "text": [
            "Epoch 18: train_loss=0.0666, train_acc=17.99%\n",
            "Checkpoint saved at /content/gdrive/My Drive/checkpoints/SymmetricAutoencoderLRAndDropout20/checkpoint_epoch_18.pth\n",
            "Validation: val_loss=0.0708, val_acc=18.02%\n"
          ]
        },
        {
          "name": "stderr",
          "output_type": "stream",
          "text": [
            "Epoch 19/250: 100%|██████████| 782/782 [00:39<00:00, 19.73it/s]\n"
          ]
        },
        {
          "name": "stdout",
          "output_type": "stream",
          "text": [
            "Epoch 19: train_loss=0.0657, train_acc=18.79%\n",
            "Checkpoint saved at /content/gdrive/My Drive/checkpoints/SymmetricAutoencoderLRAndDropout20/checkpoint_epoch_19.pth\n",
            "Validation: val_loss=0.0703, val_acc=18.11%\n"
          ]
        },
        {
          "name": "stderr",
          "output_type": "stream",
          "text": [
            "Epoch 20/250: 100%|██████████| 782/782 [00:39<00:00, 19.73it/s]\n"
          ]
        },
        {
          "name": "stdout",
          "output_type": "stream",
          "text": [
            "Epoch 20: train_loss=0.0654, train_acc=19.11%\n",
            "Checkpoint saved at /content/gdrive/My Drive/checkpoints/SymmetricAutoencoderLRAndDropout20/checkpoint_epoch_20.pth\n",
            "Validation: val_loss=0.0703, val_acc=18.22%\n"
          ]
        },
        {
          "name": "stderr",
          "output_type": "stream",
          "text": [
            "Epoch 21/250: 100%|██████████| 782/782 [00:39<00:00, 19.72it/s]\n"
          ]
        },
        {
          "name": "stdout",
          "output_type": "stream",
          "text": [
            "Epoch 21: train_loss=0.0651, train_acc=19.37%\n",
            "Checkpoint saved at /content/gdrive/My Drive/checkpoints/SymmetricAutoencoderLRAndDropout20/checkpoint_epoch_21.pth\n",
            "Validation: val_loss=0.0700, val_acc=18.35%\n"
          ]
        },
        {
          "name": "stderr",
          "output_type": "stream",
          "text": [
            "Epoch 22/250: 100%|██████████| 782/782 [00:39<00:00, 19.68it/s]\n"
          ]
        },
        {
          "name": "stdout",
          "output_type": "stream",
          "text": [
            "Epoch 22: train_loss=0.0649, train_acc=19.74%\n",
            "Checkpoint saved at /content/gdrive/My Drive/checkpoints/SymmetricAutoencoderLRAndDropout20/checkpoint_epoch_22.pth\n",
            "Validation: val_loss=0.0697, val_acc=18.49%\n"
          ]
        },
        {
          "name": "stderr",
          "output_type": "stream",
          "text": [
            "Epoch 23/250: 100%|██████████| 782/782 [00:39<00:00, 19.63it/s]\n"
          ]
        },
        {
          "name": "stdout",
          "output_type": "stream",
          "text": [
            "Epoch 23: train_loss=0.0647, train_acc=20.06%\n",
            "Checkpoint saved at /content/gdrive/My Drive/checkpoints/SymmetricAutoencoderLRAndDropout20/checkpoint_epoch_23.pth\n",
            "Validation: val_loss=0.0697, val_acc=18.57%\n"
          ]
        },
        {
          "name": "stderr",
          "output_type": "stream",
          "text": [
            "Epoch 24/250: 100%|██████████| 782/782 [00:39<00:00, 19.63it/s]\n"
          ]
        },
        {
          "name": "stdout",
          "output_type": "stream",
          "text": [
            "Epoch 24: train_loss=0.0616, train_acc=20.11%\n",
            "Checkpoint saved at /content/gdrive/My Drive/checkpoints/SymmetricAutoencoderLRAndDropout20/checkpoint_epoch_24.pth\n",
            "Validation: val_loss=0.0663, val_acc=19.20%\n"
          ]
        },
        {
          "name": "stderr",
          "output_type": "stream",
          "text": [
            "Epoch 25/250: 100%|██████████| 782/782 [00:39<00:00, 19.61it/s]\n"
          ]
        },
        {
          "name": "stdout",
          "output_type": "stream",
          "text": [
            "Epoch 25: train_loss=0.0564, train_acc=21.15%\n",
            "Checkpoint saved at /content/gdrive/My Drive/checkpoints/SymmetricAutoencoderLRAndDropout20/checkpoint_epoch_25.pth\n",
            "Validation: val_loss=0.0670, val_acc=19.02%\n"
          ]
        },
        {
          "name": "stderr",
          "output_type": "stream",
          "text": [
            "Epoch 26/250: 100%|██████████| 782/782 [00:39<00:00, 19.65it/s]\n"
          ]
        },
        {
          "name": "stdout",
          "output_type": "stream",
          "text": [
            "Epoch 26: train_loss=0.0534, train_acc=21.38%\n",
            "Checkpoint saved at /content/gdrive/My Drive/checkpoints/SymmetricAutoencoderLRAndDropout20/checkpoint_epoch_26.pth\n",
            "Validation: val_loss=0.0635, val_acc=19.73%\n"
          ]
        },
        {
          "name": "stderr",
          "output_type": "stream",
          "text": [
            "Epoch 27/250: 100%|██████████| 782/782 [00:39<00:00, 19.62it/s]\n"
          ]
        },
        {
          "name": "stdout",
          "output_type": "stream",
          "text": [
            "Epoch 27: train_loss=0.0503, train_acc=22.67%\n",
            "Checkpoint saved at /content/gdrive/My Drive/checkpoints/SymmetricAutoencoderLRAndDropout20/checkpoint_epoch_27.pth\n",
            "Validation: val_loss=0.0630, val_acc=19.89%\n"
          ]
        },
        {
          "name": "stderr",
          "output_type": "stream",
          "text": [
            "Epoch 28/250: 100%|██████████| 782/782 [00:39<00:00, 19.62it/s]\n"
          ]
        },
        {
          "name": "stdout",
          "output_type": "stream",
          "text": [
            "Epoch 28: train_loss=0.0496, train_acc=23.64%\n",
            "Checkpoint saved at /content/gdrive/My Drive/checkpoints/SymmetricAutoencoderLRAndDropout20/checkpoint_epoch_28.pth\n",
            "Validation: val_loss=0.0626, val_acc=20.04%\n"
          ]
        },
        {
          "name": "stderr",
          "output_type": "stream",
          "text": [
            "Epoch 29/250: 100%|██████████| 782/782 [00:39<00:00, 19.64it/s]\n"
          ]
        },
        {
          "name": "stdout",
          "output_type": "stream",
          "text": [
            "Epoch 29: train_loss=0.0492, train_acc=24.26%\n",
            "Checkpoint saved at /content/gdrive/My Drive/checkpoints/SymmetricAutoencoderLRAndDropout20/checkpoint_epoch_29.pth\n",
            "Validation: val_loss=0.0616, val_acc=20.39%\n"
          ]
        },
        {
          "name": "stderr",
          "output_type": "stream",
          "text": [
            "Epoch 30/250: 100%|██████████| 782/782 [00:39<00:00, 19.61it/s]\n"
          ]
        },
        {
          "name": "stdout",
          "output_type": "stream",
          "text": [
            "Epoch 30: train_loss=0.0489, train_acc=24.75%\n",
            "Checkpoint saved at /content/gdrive/My Drive/checkpoints/SymmetricAutoencoderLRAndDropout20/checkpoint_epoch_30.pth\n",
            "Validation: val_loss=0.0612, val_acc=20.65%\n"
          ]
        },
        {
          "name": "stderr",
          "output_type": "stream",
          "text": [
            "Epoch 31/250: 100%|██████████| 782/782 [00:39<00:00, 19.62it/s]\n"
          ]
        },
        {
          "name": "stdout",
          "output_type": "stream",
          "text": [
            "Epoch 31: train_loss=0.0487, train_acc=25.06%\n",
            "Checkpoint saved at /content/gdrive/My Drive/checkpoints/SymmetricAutoencoderLRAndDropout20/checkpoint_epoch_31.pth\n",
            "Validation: val_loss=0.0603, val_acc=20.93%\n"
          ]
        },
        {
          "name": "stderr",
          "output_type": "stream",
          "text": [
            "Epoch 32/250: 100%|██████████| 782/782 [00:39<00:00, 19.61it/s]\n"
          ]
        },
        {
          "name": "stdout",
          "output_type": "stream",
          "text": [
            "Epoch 32: train_loss=0.0484, train_acc=25.41%\n",
            "Checkpoint saved at /content/gdrive/My Drive/checkpoints/SymmetricAutoencoderLRAndDropout20/checkpoint_epoch_32.pth\n",
            "Validation: val_loss=0.0602, val_acc=20.99%\n"
          ]
        },
        {
          "name": "stderr",
          "output_type": "stream",
          "text": [
            "Epoch 33/250: 100%|██████████| 782/782 [00:39<00:00, 19.63it/s]\n"
          ]
        },
        {
          "name": "stdout",
          "output_type": "stream",
          "text": [
            "Epoch 33: train_loss=0.0482, train_acc=25.70%\n",
            "Checkpoint saved at /content/gdrive/My Drive/checkpoints/SymmetricAutoencoderLRAndDropout20/checkpoint_epoch_33.pth\n",
            "Validation: val_loss=0.0600, val_acc=21.02%\n"
          ]
        },
        {
          "name": "stderr",
          "output_type": "stream",
          "text": [
            "Epoch 34/250: 100%|██████████| 782/782 [00:39<00:00, 19.62it/s]\n"
          ]
        },
        {
          "name": "stdout",
          "output_type": "stream",
          "text": [
            "Epoch 34: train_loss=0.0481, train_acc=25.89%\n",
            "Checkpoint saved at /content/gdrive/My Drive/checkpoints/SymmetricAutoencoderLRAndDropout20/checkpoint_epoch_34.pth\n",
            "Validation: val_loss=0.0595, val_acc=21.32%\n"
          ]
        },
        {
          "name": "stderr",
          "output_type": "stream",
          "text": [
            "Epoch 35/250: 100%|██████████| 782/782 [00:39<00:00, 19.63it/s]\n"
          ]
        },
        {
          "name": "stdout",
          "output_type": "stream",
          "text": [
            "Epoch 35: train_loss=0.0478, train_acc=25.99%\n",
            "Checkpoint saved at /content/gdrive/My Drive/checkpoints/SymmetricAutoencoderLRAndDropout20/checkpoint_epoch_35.pth\n",
            "Validation: val_loss=0.0599, val_acc=21.03%\n"
          ]
        },
        {
          "name": "stderr",
          "output_type": "stream",
          "text": [
            "Epoch 36/250: 100%|██████████| 782/782 [00:39<00:00, 19.64it/s]\n"
          ]
        },
        {
          "name": "stdout",
          "output_type": "stream",
          "text": [
            "Epoch 36: train_loss=0.0474, train_acc=26.08%\n",
            "Checkpoint saved at /content/gdrive/My Drive/checkpoints/SymmetricAutoencoderLRAndDropout20/checkpoint_epoch_36.pth\n",
            "Validation: val_loss=0.0601, val_acc=21.04%\n"
          ]
        },
        {
          "name": "stderr",
          "output_type": "stream",
          "text": [
            "Epoch 37/250: 100%|██████████| 782/782 [00:39<00:00, 19.65it/s]\n"
          ]
        },
        {
          "name": "stdout",
          "output_type": "stream",
          "text": [
            "Epoch 37: train_loss=0.0471, train_acc=26.27%\n",
            "Checkpoint saved at /content/gdrive/My Drive/checkpoints/SymmetricAutoencoderLRAndDropout20/checkpoint_epoch_37.pth\n",
            "Validation: val_loss=0.0596, val_acc=21.37%\n"
          ]
        },
        {
          "name": "stderr",
          "output_type": "stream",
          "text": [
            "Epoch 38/250: 100%|██████████| 782/782 [00:39<00:00, 19.66it/s]\n"
          ]
        },
        {
          "name": "stdout",
          "output_type": "stream",
          "text": [
            "Epoch 38: train_loss=0.0469, train_acc=26.57%\n",
            "Checkpoint saved at /content/gdrive/My Drive/checkpoints/SymmetricAutoencoderLRAndDropout20/checkpoint_epoch_38.pth\n",
            "Validation: val_loss=0.0600, val_acc=21.40%\n"
          ]
        },
        {
          "name": "stderr",
          "output_type": "stream",
          "text": [
            "Epoch 39/250: 100%|██████████| 782/782 [00:39<00:00, 19.61it/s]\n"
          ]
        },
        {
          "name": "stdout",
          "output_type": "stream",
          "text": [
            "Epoch 39: train_loss=0.0467, train_acc=27.04%\n",
            "Checkpoint saved at /content/gdrive/My Drive/checkpoints/SymmetricAutoencoderLRAndDropout20/checkpoint_epoch_39.pth\n",
            "Validation: val_loss=0.0592, val_acc=21.85%\n"
          ]
        },
        {
          "name": "stderr",
          "output_type": "stream",
          "text": [
            "Epoch 40/250: 100%|██████████| 782/782 [00:39<00:00, 19.63it/s]\n"
          ]
        },
        {
          "name": "stdout",
          "output_type": "stream",
          "text": [
            "Epoch 40: train_loss=0.0465, train_acc=27.23%\n",
            "Checkpoint saved at /content/gdrive/My Drive/checkpoints/SymmetricAutoencoderLRAndDropout20/checkpoint_epoch_40.pth\n",
            "Validation: val_loss=0.0591, val_acc=22.03%\n"
          ]
        },
        {
          "name": "stderr",
          "output_type": "stream",
          "text": [
            "Epoch 41/250: 100%|██████████| 782/782 [00:39<00:00, 19.64it/s]\n"
          ]
        },
        {
          "name": "stdout",
          "output_type": "stream",
          "text": [
            "Epoch 41: train_loss=0.0464, train_acc=27.58%\n",
            "Checkpoint saved at /content/gdrive/My Drive/checkpoints/SymmetricAutoencoderLRAndDropout20/checkpoint_epoch_41.pth\n",
            "Validation: val_loss=0.0586, val_acc=22.42%\n"
          ]
        },
        {
          "name": "stderr",
          "output_type": "stream",
          "text": [
            "Epoch 42/250: 100%|██████████| 782/782 [00:39<00:00, 19.59it/s]\n"
          ]
        },
        {
          "name": "stdout",
          "output_type": "stream",
          "text": [
            "Epoch 42: train_loss=0.0463, train_acc=27.83%\n",
            "Checkpoint saved at /content/gdrive/My Drive/checkpoints/SymmetricAutoencoderLRAndDropout20/checkpoint_epoch_42.pth\n",
            "Validation: val_loss=0.0585, val_acc=22.51%\n"
          ]
        },
        {
          "name": "stderr",
          "output_type": "stream",
          "text": [
            "Epoch 43/250: 100%|██████████| 782/782 [00:39<00:00, 19.65it/s]\n"
          ]
        },
        {
          "name": "stdout",
          "output_type": "stream",
          "text": [
            "Epoch 43: train_loss=0.0462, train_acc=28.00%\n",
            "Checkpoint saved at /content/gdrive/My Drive/checkpoints/SymmetricAutoencoderLRAndDropout20/checkpoint_epoch_43.pth\n",
            "Validation: val_loss=0.0592, val_acc=22.35%\n"
          ]
        },
        {
          "name": "stderr",
          "output_type": "stream",
          "text": [
            "Epoch 44/250: 100%|██████████| 782/782 [00:39<00:00, 19.60it/s]\n"
          ]
        },
        {
          "name": "stdout",
          "output_type": "stream",
          "text": [
            "Epoch 44: train_loss=0.0461, train_acc=28.31%\n",
            "Checkpoint saved at /content/gdrive/My Drive/checkpoints/SymmetricAutoencoderLRAndDropout20/checkpoint_epoch_44.pth\n",
            "Validation: val_loss=0.0584, val_acc=22.73%\n"
          ]
        },
        {
          "name": "stderr",
          "output_type": "stream",
          "text": [
            "Epoch 45/250: 100%|██████████| 782/782 [00:39<00:00, 19.57it/s]\n"
          ]
        },
        {
          "name": "stdout",
          "output_type": "stream",
          "text": [
            "Epoch 45: train_loss=0.0460, train_acc=28.48%\n",
            "Checkpoint saved at /content/gdrive/My Drive/checkpoints/SymmetricAutoencoderLRAndDropout20/checkpoint_epoch_45.pth\n",
            "Validation: val_loss=0.0584, val_acc=22.83%\n"
          ]
        },
        {
          "name": "stderr",
          "output_type": "stream",
          "text": [
            "Epoch 46/250: 100%|██████████| 782/782 [00:39<00:00, 19.63it/s]\n"
          ]
        },
        {
          "name": "stdout",
          "output_type": "stream",
          "text": [
            "Epoch 46: train_loss=0.0459, train_acc=28.73%\n",
            "Checkpoint saved at /content/gdrive/My Drive/checkpoints/SymmetricAutoencoderLRAndDropout20/checkpoint_epoch_46.pth\n",
            "Validation: val_loss=0.0578, val_acc=23.11%\n"
          ]
        },
        {
          "name": "stderr",
          "output_type": "stream",
          "text": [
            "Epoch 47/250: 100%|██████████| 782/782 [00:39<00:00, 19.63it/s]\n"
          ]
        },
        {
          "name": "stdout",
          "output_type": "stream",
          "text": [
            "Epoch 47: train_loss=0.0458, train_acc=28.88%\n",
            "Checkpoint saved at /content/gdrive/My Drive/checkpoints/SymmetricAutoencoderLRAndDropout20/checkpoint_epoch_47.pth\n",
            "Validation: val_loss=0.0582, val_acc=23.05%\n"
          ]
        },
        {
          "name": "stderr",
          "output_type": "stream",
          "text": [
            "Epoch 48/250: 100%|██████████| 782/782 [00:39<00:00, 19.64it/s]\n"
          ]
        },
        {
          "name": "stdout",
          "output_type": "stream",
          "text": [
            "Epoch 48: train_loss=0.0457, train_acc=28.95%\n",
            "Checkpoint saved at /content/gdrive/My Drive/checkpoints/SymmetricAutoencoderLRAndDropout20/checkpoint_epoch_48.pth\n",
            "Validation: val_loss=0.0582, val_acc=23.11%\n"
          ]
        },
        {
          "name": "stderr",
          "output_type": "stream",
          "text": [
            "Epoch 49/250: 100%|██████████| 782/782 [00:39<00:00, 19.64it/s]\n"
          ]
        },
        {
          "name": "stdout",
          "output_type": "stream",
          "text": [
            "Epoch 49: train_loss=0.0457, train_acc=29.16%\n",
            "Checkpoint saved at /content/gdrive/My Drive/checkpoints/SymmetricAutoencoderLRAndDropout20/checkpoint_epoch_49.pth\n",
            "Validation: val_loss=0.0581, val_acc=23.24%\n"
          ]
        },
        {
          "name": "stderr",
          "output_type": "stream",
          "text": [
            "Epoch 50/250: 100%|██████████| 782/782 [00:39<00:00, 19.58it/s]\n"
          ]
        },
        {
          "name": "stdout",
          "output_type": "stream",
          "text": [
            "Epoch 50: train_loss=0.0456, train_acc=29.40%\n",
            "Checkpoint saved at /content/gdrive/My Drive/checkpoints/SymmetricAutoencoderLRAndDropout20/checkpoint_epoch_50.pth\n",
            "Validation: val_loss=0.0578, val_acc=23.43%\n"
          ]
        },
        {
          "name": "stderr",
          "output_type": "stream",
          "text": [
            "Epoch 51/250: 100%|██████████| 782/782 [00:39<00:00, 19.58it/s]\n"
          ]
        },
        {
          "name": "stdout",
          "output_type": "stream",
          "text": [
            "Epoch 51: train_loss=0.0455, train_acc=29.35%\n",
            "Checkpoint saved at /content/gdrive/My Drive/checkpoints/SymmetricAutoencoderLRAndDropout20/checkpoint_epoch_51.pth\n",
            "Validation: val_loss=0.0577, val_acc=23.52%\n"
          ]
        },
        {
          "name": "stderr",
          "output_type": "stream",
          "text": [
            "Epoch 52/250: 100%|██████████| 782/782 [00:39<00:00, 19.57it/s]\n"
          ]
        },
        {
          "name": "stdout",
          "output_type": "stream",
          "text": [
            "Epoch 52: train_loss=0.0455, train_acc=29.53%\n",
            "Checkpoint saved at /content/gdrive/My Drive/checkpoints/SymmetricAutoencoderLRAndDropout20/checkpoint_epoch_52.pth\n",
            "Validation: val_loss=0.0573, val_acc=23.71%\n"
          ]
        },
        {
          "name": "stderr",
          "output_type": "stream",
          "text": [
            "Epoch 53/250: 100%|██████████| 782/782 [00:39<00:00, 19.58it/s]\n"
          ]
        },
        {
          "name": "stdout",
          "output_type": "stream",
          "text": [
            "Epoch 53: train_loss=0.0454, train_acc=29.65%\n",
            "Checkpoint saved at /content/gdrive/My Drive/checkpoints/SymmetricAutoencoderLRAndDropout20/checkpoint_epoch_53.pth\n",
            "Validation: val_loss=0.0570, val_acc=23.87%\n"
          ]
        },
        {
          "name": "stderr",
          "output_type": "stream",
          "text": [
            "Epoch 54/250: 100%|██████████| 782/782 [00:39<00:00, 19.59it/s]\n"
          ]
        },
        {
          "name": "stdout",
          "output_type": "stream",
          "text": [
            "Epoch 54: train_loss=0.0454, train_acc=29.76%\n",
            "Checkpoint saved at /content/gdrive/My Drive/checkpoints/SymmetricAutoencoderLRAndDropout20/checkpoint_epoch_54.pth\n",
            "Validation: val_loss=0.0572, val_acc=23.92%\n"
          ]
        },
        {
          "name": "stderr",
          "output_type": "stream",
          "text": [
            "Epoch 55/250: 100%|██████████| 782/782 [00:39<00:00, 19.59it/s]\n"
          ]
        },
        {
          "name": "stdout",
          "output_type": "stream",
          "text": [
            "Epoch 55: train_loss=0.0453, train_acc=29.96%\n",
            "Checkpoint saved at /content/gdrive/My Drive/checkpoints/SymmetricAutoencoderLRAndDropout20/checkpoint_epoch_55.pth\n",
            "Validation: val_loss=0.0575, val_acc=23.80%\n"
          ]
        },
        {
          "name": "stderr",
          "output_type": "stream",
          "text": [
            "Epoch 56/250: 100%|██████████| 782/782 [00:39<00:00, 19.62it/s]\n"
          ]
        },
        {
          "name": "stdout",
          "output_type": "stream",
          "text": [
            "Epoch 56: train_loss=0.0453, train_acc=30.10%\n",
            "Checkpoint saved at /content/gdrive/My Drive/checkpoints/SymmetricAutoencoderLRAndDropout20/checkpoint_epoch_56.pth\n",
            "Validation: val_loss=0.0571, val_acc=23.95%\n"
          ]
        },
        {
          "name": "stderr",
          "output_type": "stream",
          "text": [
            "Epoch 57/250: 100%|██████████| 782/782 [00:39<00:00, 19.64it/s]\n"
          ]
        },
        {
          "name": "stdout",
          "output_type": "stream",
          "text": [
            "Epoch 57: train_loss=0.0452, train_acc=30.10%\n",
            "Checkpoint saved at /content/gdrive/My Drive/checkpoints/SymmetricAutoencoderLRAndDropout20/checkpoint_epoch_57.pth\n",
            "Validation: val_loss=0.0570, val_acc=24.10%\n"
          ]
        },
        {
          "name": "stderr",
          "output_type": "stream",
          "text": [
            "Epoch 58/250: 100%|██████████| 782/782 [00:39<00:00, 19.64it/s]\n"
          ]
        },
        {
          "name": "stdout",
          "output_type": "stream",
          "text": [
            "Epoch 58: train_loss=0.0452, train_acc=30.21%\n",
            "Checkpoint saved at /content/gdrive/My Drive/checkpoints/SymmetricAutoencoderLRAndDropout20/checkpoint_epoch_58.pth\n",
            "Validation: val_loss=0.0569, val_acc=24.16%\n"
          ]
        },
        {
          "name": "stderr",
          "output_type": "stream",
          "text": [
            "Epoch 59/250: 100%|██████████| 782/782 [00:39<00:00, 19.61it/s]\n"
          ]
        },
        {
          "name": "stdout",
          "output_type": "stream",
          "text": [
            "Epoch 59: train_loss=0.0452, train_acc=30.28%\n",
            "Checkpoint saved at /content/gdrive/My Drive/checkpoints/SymmetricAutoencoderLRAndDropout20/checkpoint_epoch_59.pth\n",
            "Validation: val_loss=0.0569, val_acc=24.24%\n"
          ]
        },
        {
          "name": "stderr",
          "output_type": "stream",
          "text": [
            "Epoch 60/250: 100%|██████████| 782/782 [00:39<00:00, 19.60it/s]\n"
          ]
        },
        {
          "name": "stdout",
          "output_type": "stream",
          "text": [
            "Epoch 60: train_loss=0.0451, train_acc=30.42%\n",
            "Checkpoint saved at /content/gdrive/My Drive/checkpoints/SymmetricAutoencoderLRAndDropout20/checkpoint_epoch_60.pth\n",
            "Validation: val_loss=0.0568, val_acc=24.33%\n"
          ]
        },
        {
          "name": "stderr",
          "output_type": "stream",
          "text": [
            "Epoch 61/250: 100%|██████████| 782/782 [00:39<00:00, 19.60it/s]\n"
          ]
        },
        {
          "name": "stdout",
          "output_type": "stream",
          "text": [
            "Epoch 61: train_loss=0.0450, train_acc=30.70%\n",
            "Checkpoint saved at /content/gdrive/My Drive/checkpoints/SymmetricAutoencoderLRAndDropout20/checkpoint_epoch_61.pth\n",
            "Validation: val_loss=0.0570, val_acc=24.25%\n"
          ]
        },
        {
          "name": "stderr",
          "output_type": "stream",
          "text": [
            "Epoch 62/250: 100%|██████████| 782/782 [00:39<00:00, 19.61it/s]\n"
          ]
        },
        {
          "name": "stdout",
          "output_type": "stream",
          "text": [
            "Epoch 62: train_loss=0.0450, train_acc=30.66%\n",
            "Checkpoint saved at /content/gdrive/My Drive/checkpoints/SymmetricAutoencoderLRAndDropout20/checkpoint_epoch_62.pth\n",
            "Validation: val_loss=0.0569, val_acc=24.41%\n"
          ]
        },
        {
          "name": "stderr",
          "output_type": "stream",
          "text": [
            "Epoch 63/250: 100%|██████████| 782/782 [00:39<00:00, 19.60it/s]\n"
          ]
        },
        {
          "name": "stdout",
          "output_type": "stream",
          "text": [
            "Epoch 63: train_loss=0.0450, train_acc=30.75%\n",
            "Checkpoint saved at /content/gdrive/My Drive/checkpoints/SymmetricAutoencoderLRAndDropout20/checkpoint_epoch_63.pth\n",
            "Validation: val_loss=0.0563, val_acc=24.66%\n"
          ]
        },
        {
          "name": "stderr",
          "output_type": "stream",
          "text": [
            "Epoch 64/250: 100%|██████████| 782/782 [00:40<00:00, 19.54it/s]\n"
          ]
        },
        {
          "name": "stdout",
          "output_type": "stream",
          "text": [
            "Epoch 64: train_loss=0.0449, train_acc=30.94%\n",
            "Checkpoint saved at /content/gdrive/My Drive/checkpoints/SymmetricAutoencoderLRAndDropout20/checkpoint_epoch_64.pth\n",
            "Validation: val_loss=0.0567, val_acc=24.50%\n"
          ]
        },
        {
          "name": "stderr",
          "output_type": "stream",
          "text": [
            "Epoch 65/250: 100%|██████████| 782/782 [00:39<00:00, 19.60it/s]\n"
          ]
        },
        {
          "name": "stdout",
          "output_type": "stream",
          "text": [
            "Epoch 65: train_loss=0.0449, train_acc=30.96%\n",
            "Checkpoint saved at /content/gdrive/My Drive/checkpoints/SymmetricAutoencoderLRAndDropout20/checkpoint_epoch_65.pth\n",
            "Validation: val_loss=0.0564, val_acc=24.69%\n"
          ]
        },
        {
          "name": "stderr",
          "output_type": "stream",
          "text": [
            "Epoch 66/250: 100%|██████████| 782/782 [00:39<00:00, 19.59it/s]\n"
          ]
        },
        {
          "name": "stdout",
          "output_type": "stream",
          "text": [
            "Epoch 66: train_loss=0.0449, train_acc=31.05%\n",
            "Checkpoint saved at /content/gdrive/My Drive/checkpoints/SymmetricAutoencoderLRAndDropout20/checkpoint_epoch_66.pth\n",
            "Validation: val_loss=0.0565, val_acc=24.66%\n"
          ]
        },
        {
          "name": "stderr",
          "output_type": "stream",
          "text": [
            "Epoch 67/250: 100%|██████████| 782/782 [00:39<00:00, 19.57it/s]\n"
          ]
        },
        {
          "name": "stdout",
          "output_type": "stream",
          "text": [
            "Epoch 67: train_loss=0.0448, train_acc=31.16%\n",
            "Checkpoint saved at /content/gdrive/My Drive/checkpoints/SymmetricAutoencoderLRAndDropout20/checkpoint_epoch_67.pth\n",
            "Validation: val_loss=0.0563, val_acc=24.81%\n"
          ]
        },
        {
          "name": "stderr",
          "output_type": "stream",
          "text": [
            "Epoch 68/250: 100%|██████████| 782/782 [00:39<00:00, 19.58it/s]\n"
          ]
        },
        {
          "name": "stdout",
          "output_type": "stream",
          "text": [
            "Epoch 68: train_loss=0.0448, train_acc=31.27%\n",
            "Checkpoint saved at /content/gdrive/My Drive/checkpoints/SymmetricAutoencoderLRAndDropout20/checkpoint_epoch_68.pth\n",
            "Validation: val_loss=0.0565, val_acc=24.75%\n"
          ]
        },
        {
          "name": "stderr",
          "output_type": "stream",
          "text": [
            "Epoch 69/250: 100%|██████████| 782/782 [00:39<00:00, 19.65it/s]\n"
          ]
        },
        {
          "name": "stdout",
          "output_type": "stream",
          "text": [
            "Epoch 69: train_loss=0.0448, train_acc=31.50%\n",
            "Checkpoint saved at /content/gdrive/My Drive/checkpoints/SymmetricAutoencoderLRAndDropout20/checkpoint_epoch_69.pth\n",
            "Validation: val_loss=0.0563, val_acc=24.81%\n"
          ]
        },
        {
          "name": "stderr",
          "output_type": "stream",
          "text": [
            "Epoch 70/250: 100%|██████████| 782/782 [00:39<00:00, 19.67it/s]\n"
          ]
        },
        {
          "name": "stdout",
          "output_type": "stream",
          "text": [
            "Epoch 70: train_loss=0.0447, train_acc=31.49%\n",
            "Checkpoint saved at /content/gdrive/My Drive/checkpoints/SymmetricAutoencoderLRAndDropout20/checkpoint_epoch_70.pth\n",
            "Validation: val_loss=0.0562, val_acc=25.02%\n"
          ]
        },
        {
          "name": "stderr",
          "output_type": "stream",
          "text": [
            "Epoch 71/250: 100%|██████████| 782/782 [00:39<00:00, 19.65it/s]\n"
          ]
        },
        {
          "name": "stdout",
          "output_type": "stream",
          "text": [
            "Epoch 71: train_loss=0.0447, train_acc=31.40%\n",
            "Checkpoint saved at /content/gdrive/My Drive/checkpoints/SymmetricAutoencoderLRAndDropout20/checkpoint_epoch_71.pth\n",
            "Validation: val_loss=0.0562, val_acc=25.05%\n"
          ]
        },
        {
          "name": "stderr",
          "output_type": "stream",
          "text": [
            "Epoch 72/250: 100%|██████████| 782/782 [00:39<00:00, 19.64it/s]\n"
          ]
        },
        {
          "name": "stdout",
          "output_type": "stream",
          "text": [
            "Epoch 72: train_loss=0.0447, train_acc=31.47%\n",
            "Checkpoint saved at /content/gdrive/My Drive/checkpoints/SymmetricAutoencoderLRAndDropout20/checkpoint_epoch_72.pth\n",
            "Validation: val_loss=0.0563, val_acc=25.03%\n"
          ]
        },
        {
          "name": "stderr",
          "output_type": "stream",
          "text": [
            "Epoch 73/250: 100%|██████████| 782/782 [00:39<00:00, 19.66it/s]\n"
          ]
        },
        {
          "name": "stdout",
          "output_type": "stream",
          "text": [
            "Epoch 73: train_loss=0.0446, train_acc=31.61%\n",
            "Checkpoint saved at /content/gdrive/My Drive/checkpoints/SymmetricAutoencoderLRAndDropout20/checkpoint_epoch_73.pth\n",
            "Validation: val_loss=0.0560, val_acc=25.12%\n"
          ]
        },
        {
          "name": "stderr",
          "output_type": "stream",
          "text": [
            "Epoch 74/250: 100%|██████████| 782/782 [00:39<00:00, 19.66it/s]\n"
          ]
        },
        {
          "name": "stdout",
          "output_type": "stream",
          "text": [
            "Epoch 74: train_loss=0.0446, train_acc=31.75%\n",
            "Checkpoint saved at /content/gdrive/My Drive/checkpoints/SymmetricAutoencoderLRAndDropout20/checkpoint_epoch_74.pth\n",
            "Validation: val_loss=0.0556, val_acc=25.37%\n"
          ]
        },
        {
          "name": "stderr",
          "output_type": "stream",
          "text": [
            "Epoch 75/250: 100%|██████████| 782/782 [00:39<00:00, 19.64it/s]\n"
          ]
        },
        {
          "name": "stdout",
          "output_type": "stream",
          "text": [
            "Epoch 75: train_loss=0.0446, train_acc=31.70%\n",
            "Checkpoint saved at /content/gdrive/My Drive/checkpoints/SymmetricAutoencoderLRAndDropout20/checkpoint_epoch_75.pth\n",
            "Validation: val_loss=0.0559, val_acc=25.25%\n"
          ]
        },
        {
          "name": "stderr",
          "output_type": "stream",
          "text": [
            "Epoch 76/250: 100%|██████████| 782/782 [00:39<00:00, 19.69it/s]\n"
          ]
        },
        {
          "name": "stdout",
          "output_type": "stream",
          "text": [
            "Epoch 76: train_loss=0.0446, train_acc=31.78%\n",
            "Checkpoint saved at /content/gdrive/My Drive/checkpoints/SymmetricAutoencoderLRAndDropout20/checkpoint_epoch_76.pth\n",
            "Validation: val_loss=0.0559, val_acc=25.26%\n"
          ]
        },
        {
          "name": "stderr",
          "output_type": "stream",
          "text": [
            "Epoch 77/250: 100%|██████████| 782/782 [00:39<00:00, 19.64it/s]\n"
          ]
        },
        {
          "name": "stdout",
          "output_type": "stream",
          "text": [
            "Epoch 77: train_loss=0.0445, train_acc=31.82%\n",
            "Checkpoint saved at /content/gdrive/My Drive/checkpoints/SymmetricAutoencoderLRAndDropout20/checkpoint_epoch_77.pth\n",
            "Validation: val_loss=0.0559, val_acc=25.32%\n"
          ]
        },
        {
          "name": "stderr",
          "output_type": "stream",
          "text": [
            "Epoch 78/250: 100%|██████████| 782/782 [00:39<00:00, 19.66it/s]\n"
          ]
        },
        {
          "name": "stdout",
          "output_type": "stream",
          "text": [
            "Epoch 78: train_loss=0.0445, train_acc=31.85%\n",
            "Checkpoint saved at /content/gdrive/My Drive/checkpoints/SymmetricAutoencoderLRAndDropout20/checkpoint_epoch_78.pth\n",
            "Validation: val_loss=0.0559, val_acc=25.34%\n"
          ]
        },
        {
          "name": "stderr",
          "output_type": "stream",
          "text": [
            "Epoch 79/250: 100%|██████████| 782/782 [00:39<00:00, 19.70it/s]\n"
          ]
        },
        {
          "name": "stdout",
          "output_type": "stream",
          "text": [
            "Epoch 79: train_loss=0.0445, train_acc=31.98%\n",
            "Checkpoint saved at /content/gdrive/My Drive/checkpoints/SymmetricAutoencoderLRAndDropout20/checkpoint_epoch_79.pth\n",
            "Learning rate decreased to 1.0000000000000002e-06\n",
            "Validation: val_loss=0.0559, val_acc=25.41%\n"
          ]
        },
        {
          "name": "stderr",
          "output_type": "stream",
          "text": [
            "Epoch 80/250: 100%|██████████| 782/782 [00:39<00:00, 19.68it/s]\n"
          ]
        },
        {
          "name": "stdout",
          "output_type": "stream",
          "text": [
            "Epoch 80: train_loss=0.0445, train_acc=32.00%\n",
            "Checkpoint saved at /content/gdrive/My Drive/checkpoints/SymmetricAutoencoderLRAndDropout20/checkpoint_epoch_80.pth\n",
            "Validation: val_loss=0.0558, val_acc=25.42%\n"
          ]
        },
        {
          "name": "stderr",
          "output_type": "stream",
          "text": [
            "Epoch 81/250: 100%|██████████| 782/782 [00:39<00:00, 19.67it/s]\n"
          ]
        },
        {
          "name": "stdout",
          "output_type": "stream",
          "text": [
            "Epoch 81: train_loss=0.0445, train_acc=32.08%\n",
            "Checkpoint saved at /content/gdrive/My Drive/checkpoints/SymmetricAutoencoderLRAndDropout20/checkpoint_epoch_81.pth\n",
            "Validation: val_loss=0.0556, val_acc=25.53%\n"
          ]
        },
        {
          "name": "stderr",
          "output_type": "stream",
          "text": [
            "Epoch 82/250: 100%|██████████| 782/782 [00:39<00:00, 19.67it/s]\n"
          ]
        },
        {
          "name": "stdout",
          "output_type": "stream",
          "text": [
            "Epoch 82: train_loss=0.0444, train_acc=32.04%\n",
            "Checkpoint saved at /content/gdrive/My Drive/checkpoints/SymmetricAutoencoderLRAndDropout20/checkpoint_epoch_82.pth\n",
            "Validation: val_loss=0.0557, val_acc=25.49%\n"
          ]
        },
        {
          "name": "stderr",
          "output_type": "stream",
          "text": [
            "Epoch 83/250: 100%|██████████| 782/782 [00:39<00:00, 19.68it/s]\n"
          ]
        },
        {
          "name": "stdout",
          "output_type": "stream",
          "text": [
            "Epoch 83: train_loss=0.0444, train_acc=32.04%\n",
            "Checkpoint saved at /content/gdrive/My Drive/checkpoints/SymmetricAutoencoderLRAndDropout20/checkpoint_epoch_83.pth\n",
            "Validation: val_loss=0.0557, val_acc=25.50%\n"
          ]
        },
        {
          "name": "stderr",
          "output_type": "stream",
          "text": [
            "Epoch 84/250: 100%|██████████| 782/782 [00:39<00:00, 19.68it/s]\n"
          ]
        },
        {
          "name": "stdout",
          "output_type": "stream",
          "text": [
            "Epoch 84: train_loss=0.0444, train_acc=32.09%\n",
            "Checkpoint saved at /content/gdrive/My Drive/checkpoints/SymmetricAutoencoderLRAndDropout20/checkpoint_epoch_84.pth\n",
            "Validation: val_loss=0.0556, val_acc=25.54%\n"
          ]
        },
        {
          "name": "stderr",
          "output_type": "stream",
          "text": [
            "Epoch 85/250: 100%|██████████| 782/782 [00:39<00:00, 19.64it/s]\n"
          ]
        },
        {
          "name": "stdout",
          "output_type": "stream",
          "text": [
            "Epoch 85: train_loss=0.0444, train_acc=32.10%\n",
            "Checkpoint saved at /content/gdrive/My Drive/checkpoints/SymmetricAutoencoderLRAndDropout20/checkpoint_epoch_85.pth\n",
            "Validation: val_loss=0.0557, val_acc=25.51%\n"
          ]
        },
        {
          "name": "stderr",
          "output_type": "stream",
          "text": [
            "Epoch 86/250: 100%|██████████| 782/782 [00:39<00:00, 19.66it/s]\n"
          ]
        },
        {
          "name": "stdout",
          "output_type": "stream",
          "text": [
            "Epoch 86: train_loss=0.0444, train_acc=32.12%\n",
            "Checkpoint saved at /content/gdrive/My Drive/checkpoints/SymmetricAutoencoderLRAndDropout20/checkpoint_epoch_86.pth\n",
            "Validation: val_loss=0.0556, val_acc=25.54%\n"
          ]
        },
        {
          "name": "stderr",
          "output_type": "stream",
          "text": [
            "Epoch 87/250: 100%|██████████| 782/782 [00:39<00:00, 19.69it/s]\n"
          ]
        },
        {
          "name": "stdout",
          "output_type": "stream",
          "text": [
            "Epoch 87: train_loss=0.0444, train_acc=32.19%\n",
            "Checkpoint saved at /content/gdrive/My Drive/checkpoints/SymmetricAutoencoderLRAndDropout20/checkpoint_epoch_87.pth\n",
            "Validation: val_loss=0.0557, val_acc=25.51%\n"
          ]
        },
        {
          "name": "stderr",
          "output_type": "stream",
          "text": [
            "Epoch 88/250: 100%|██████████| 782/782 [00:39<00:00, 19.68it/s]\n"
          ]
        },
        {
          "name": "stdout",
          "output_type": "stream",
          "text": [
            "Epoch 88: train_loss=0.0444, train_acc=32.09%\n",
            "Checkpoint saved at /content/gdrive/My Drive/checkpoints/SymmetricAutoencoderLRAndDropout20/checkpoint_epoch_88.pth\n",
            "Validation: val_loss=0.0556, val_acc=25.55%\n"
          ]
        },
        {
          "name": "stderr",
          "output_type": "stream",
          "text": [
            "Epoch 89/250: 100%|██████████| 782/782 [00:39<00:00, 19.68it/s]\n"
          ]
        },
        {
          "name": "stdout",
          "output_type": "stream",
          "text": [
            "Epoch 89: train_loss=0.0444, train_acc=32.05%\n",
            "Checkpoint saved at /content/gdrive/My Drive/checkpoints/SymmetricAutoencoderLRAndDropout20/checkpoint_epoch_89.pth\n",
            "Learning rate decreased to 1.0000000000000002e-07\n",
            "Validation: val_loss=0.0557, val_acc=25.51%\n"
          ]
        },
        {
          "name": "stderr",
          "output_type": "stream",
          "text": [
            "Epoch 90/250: 100%|██████████| 782/782 [00:39<00:00, 19.68it/s]\n"
          ]
        },
        {
          "name": "stdout",
          "output_type": "stream",
          "text": [
            "Epoch 90: train_loss=0.0444, train_acc=32.28%\n",
            "Checkpoint saved at /content/gdrive/My Drive/checkpoints/SymmetricAutoencoderLRAndDropout20/checkpoint_epoch_90.pth\n",
            "Validation: val_loss=0.0556, val_acc=25.54%\n"
          ]
        },
        {
          "name": "stderr",
          "output_type": "stream",
          "text": [
            "Epoch 91/250: 100%|██████████| 782/782 [00:39<00:00, 19.69it/s]\n"
          ]
        },
        {
          "name": "stdout",
          "output_type": "stream",
          "text": [
            "Epoch 91: train_loss=0.0444, train_acc=32.20%\n",
            "Checkpoint saved at /content/gdrive/My Drive/checkpoints/SymmetricAutoencoderLRAndDropout20/checkpoint_epoch_91.pth\n",
            "Validation: val_loss=0.0556, val_acc=25.53%\n"
          ]
        },
        {
          "name": "stderr",
          "output_type": "stream",
          "text": [
            "Epoch 92/250: 100%|██████████| 782/782 [00:39<00:00, 19.68it/s]\n"
          ]
        },
        {
          "name": "stdout",
          "output_type": "stream",
          "text": [
            "Epoch 92: train_loss=0.0444, train_acc=32.22%\n",
            "Checkpoint saved at /content/gdrive/My Drive/checkpoints/SymmetricAutoencoderLRAndDropout20/checkpoint_epoch_92.pth\n",
            "Validation: val_loss=0.0557, val_acc=25.52%\n"
          ]
        },
        {
          "name": "stderr",
          "output_type": "stream",
          "text": [
            "Epoch 93/250: 100%|██████████| 782/782 [00:39<00:00, 19.67it/s]\n"
          ]
        },
        {
          "name": "stdout",
          "output_type": "stream",
          "text": [
            "Epoch 93: train_loss=0.0444, train_acc=32.19%\n",
            "Checkpoint saved at /content/gdrive/My Drive/checkpoints/SymmetricAutoencoderLRAndDropout20/checkpoint_epoch_93.pth\n",
            "Validation: val_loss=0.0556, val_acc=25.53%\n"
          ]
        },
        {
          "name": "stderr",
          "output_type": "stream",
          "text": [
            "Epoch 94/250: 100%|██████████| 782/782 [00:39<00:00, 19.70it/s]\n"
          ]
        },
        {
          "name": "stdout",
          "output_type": "stream",
          "text": [
            "Epoch 94: train_loss=0.0444, train_acc=32.13%\n",
            "Checkpoint saved at /content/gdrive/My Drive/checkpoints/SymmetricAutoencoderLRAndDropout20/checkpoint_epoch_94.pth\n",
            "Learning rate decreased to 1.0000000000000004e-08\n",
            "Validation: val_loss=0.0557, val_acc=25.52%\n"
          ]
        },
        {
          "name": "stderr",
          "output_type": "stream",
          "text": [
            "Epoch 95/250: 100%|██████████| 782/782 [00:39<00:00, 19.72it/s]\n"
          ]
        },
        {
          "name": "stdout",
          "output_type": "stream",
          "text": [
            "Epoch 95: train_loss=0.0444, train_acc=32.11%\n",
            "Checkpoint saved at /content/gdrive/My Drive/checkpoints/SymmetricAutoencoderLRAndDropout20/checkpoint_epoch_95.pth\n",
            "Validation: val_loss=0.0556, val_acc=25.53%\n"
          ]
        },
        {
          "name": "stderr",
          "output_type": "stream",
          "text": [
            "Epoch 96/250: 100%|██████████| 782/782 [00:39<00:00, 19.73it/s]\n"
          ]
        },
        {
          "name": "stdout",
          "output_type": "stream",
          "text": [
            "Epoch 96: train_loss=0.0444, train_acc=32.02%\n",
            "Checkpoint saved at /content/gdrive/My Drive/checkpoints/SymmetricAutoencoderLRAndDropout20/checkpoint_epoch_96.pth\n",
            "Validation: val_loss=0.0556, val_acc=25.53%\n"
          ]
        },
        {
          "name": "stderr",
          "output_type": "stream",
          "text": [
            "Epoch 97/250: 100%|██████████| 782/782 [00:39<00:00, 19.68it/s]\n"
          ]
        },
        {
          "name": "stdout",
          "output_type": "stream",
          "text": [
            "Epoch 97: train_loss=0.0444, train_acc=32.23%\n",
            "Checkpoint saved at /content/gdrive/My Drive/checkpoints/SymmetricAutoencoderLRAndDropout20/checkpoint_epoch_97.pth\n",
            "Validation: val_loss=0.0556, val_acc=25.53%\n"
          ]
        },
        {
          "name": "stderr",
          "output_type": "stream",
          "text": [
            "Epoch 98/250: 100%|██████████| 782/782 [00:39<00:00, 19.64it/s]\n"
          ]
        },
        {
          "name": "stdout",
          "output_type": "stream",
          "text": [
            "Epoch 98: train_loss=0.0444, train_acc=32.09%\n",
            "Checkpoint saved at /content/gdrive/My Drive/checkpoints/SymmetricAutoencoderLRAndDropout20/checkpoint_epoch_98.pth\n",
            "Validation: val_loss=0.0556, val_acc=25.53%\n"
          ]
        },
        {
          "name": "stderr",
          "output_type": "stream",
          "text": [
            "Epoch 99/250: 100%|██████████| 782/782 [00:39<00:00, 19.63it/s]\n"
          ]
        },
        {
          "name": "stdout",
          "output_type": "stream",
          "text": [
            "Epoch 99: train_loss=0.0444, train_acc=32.08%\n",
            "Checkpoint saved at /content/gdrive/My Drive/checkpoints/SymmetricAutoencoderLRAndDropout20/checkpoint_epoch_99.pth\n",
            "Learning rate decreased to 1.0000000000000005e-09\n",
            "Validation: val_loss=0.0556, val_acc=25.53%\n"
          ]
        },
        {
          "name": "stderr",
          "output_type": "stream",
          "text": [
            "Epoch 100/250: 100%|██████████| 782/782 [00:39<00:00, 19.66it/s]\n"
          ]
        },
        {
          "name": "stdout",
          "output_type": "stream",
          "text": [
            "Epoch 100: train_loss=0.0444, train_acc=32.08%\n",
            "Checkpoint saved at /content/gdrive/My Drive/checkpoints/SymmetricAutoencoderLRAndDropout20/checkpoint_epoch_100.pth\n",
            "Validation: val_loss=0.0556, val_acc=25.53%\n"
          ]
        },
        {
          "name": "stderr",
          "output_type": "stream",
          "text": [
            "Epoch 101/250: 100%|██████████| 782/782 [00:39<00:00, 19.67it/s]\n"
          ]
        },
        {
          "name": "stdout",
          "output_type": "stream",
          "text": [
            "Epoch 101: train_loss=0.0444, train_acc=32.14%\n",
            "Checkpoint saved at /content/gdrive/My Drive/checkpoints/SymmetricAutoencoderLRAndDropout20/checkpoint_epoch_101.pth\n",
            "Validation: val_loss=0.0556, val_acc=25.53%\n"
          ]
        },
        {
          "name": "stderr",
          "output_type": "stream",
          "text": [
            "Epoch 102/250: 100%|██████████| 782/782 [00:39<00:00, 19.70it/s]\n"
          ]
        },
        {
          "name": "stdout",
          "output_type": "stream",
          "text": [
            "Epoch 102: train_loss=0.0444, train_acc=32.10%\n",
            "Checkpoint saved at /content/gdrive/My Drive/checkpoints/SymmetricAutoencoderLRAndDropout20/checkpoint_epoch_102.pth\n",
            "Validation: val_loss=0.0556, val_acc=25.53%\n"
          ]
        },
        {
          "name": "stderr",
          "output_type": "stream",
          "text": [
            "Epoch 103/250: 100%|██████████| 782/782 [00:39<00:00, 19.69it/s]\n"
          ]
        },
        {
          "name": "stdout",
          "output_type": "stream",
          "text": [
            "Epoch 103: train_loss=0.0444, train_acc=32.10%\n",
            "Checkpoint saved at /content/gdrive/My Drive/checkpoints/SymmetricAutoencoderLRAndDropout20/checkpoint_epoch_103.pth\n",
            "Validation: val_loss=0.0556, val_acc=25.53%\n"
          ]
        },
        {
          "name": "stderr",
          "output_type": "stream",
          "text": [
            "Epoch 104/250: 100%|██████████| 782/782 [00:39<00:00, 19.68it/s]\n"
          ]
        },
        {
          "name": "stdout",
          "output_type": "stream",
          "text": [
            "Epoch 104: train_loss=0.0444, train_acc=32.06%\n",
            "Checkpoint saved at /content/gdrive/My Drive/checkpoints/SymmetricAutoencoderLRAndDropout20/checkpoint_epoch_104.pth\n",
            "Learning rate decreased to 1.0000000000000006e-10\n",
            "Validation: val_loss=0.0556, val_acc=25.53%\n"
          ]
        },
        {
          "name": "stderr",
          "output_type": "stream",
          "text": [
            "Epoch 105/250: 100%|██████████| 782/782 [00:39<00:00, 19.69it/s]\n"
          ]
        },
        {
          "name": "stdout",
          "output_type": "stream",
          "text": [
            "Epoch 105: train_loss=0.0444, train_acc=32.11%\n",
            "Checkpoint saved at /content/gdrive/My Drive/checkpoints/SymmetricAutoencoderLRAndDropout20/checkpoint_epoch_105.pth\n",
            "Validation: val_loss=0.0556, val_acc=25.53%\n"
          ]
        },
        {
          "name": "stderr",
          "output_type": "stream",
          "text": [
            "Epoch 106/250: 100%|██████████| 782/782 [00:39<00:00, 19.69it/s]\n"
          ]
        },
        {
          "name": "stdout",
          "output_type": "stream",
          "text": [
            "Epoch 106: train_loss=0.0444, train_acc=32.17%\n",
            "Checkpoint saved at /content/gdrive/My Drive/checkpoints/SymmetricAutoencoderLRAndDropout20/checkpoint_epoch_106.pth\n",
            "Validation: val_loss=0.0556, val_acc=25.53%\n"
          ]
        },
        {
          "name": "stderr",
          "output_type": "stream",
          "text": [
            "Epoch 107/250: 100%|██████████| 782/782 [00:39<00:00, 19.69it/s]\n"
          ]
        },
        {
          "name": "stdout",
          "output_type": "stream",
          "text": [
            "Epoch 107: train_loss=0.0444, train_acc=32.09%\n",
            "Checkpoint saved at /content/gdrive/My Drive/checkpoints/SymmetricAutoencoderLRAndDropout20/checkpoint_epoch_107.pth\n",
            "Validation: val_loss=0.0556, val_acc=25.53%\n"
          ]
        },
        {
          "name": "stderr",
          "output_type": "stream",
          "text": [
            "Epoch 108/250: 100%|██████████| 782/782 [00:39<00:00, 19.69it/s]\n"
          ]
        },
        {
          "name": "stdout",
          "output_type": "stream",
          "text": [
            "Epoch 108: train_loss=0.0444, train_acc=32.18%\n",
            "Checkpoint saved at /content/gdrive/My Drive/checkpoints/SymmetricAutoencoderLRAndDropout20/checkpoint_epoch_108.pth\n",
            "Validation: val_loss=0.0556, val_acc=25.53%\n"
          ]
        },
        {
          "name": "stderr",
          "output_type": "stream",
          "text": [
            "Epoch 109/250: 100%|██████████| 782/782 [00:39<00:00, 19.71it/s]\n"
          ]
        },
        {
          "name": "stdout",
          "output_type": "stream",
          "text": [
            "Epoch 109: train_loss=0.0444, train_acc=32.12%\n",
            "Checkpoint saved at /content/gdrive/My Drive/checkpoints/SymmetricAutoencoderLRAndDropout20/checkpoint_epoch_109.pth\n",
            "Learning rate decreased to 1.0000000000000006e-11\n",
            "Validation: val_loss=0.0556, val_acc=25.53%\n"
          ]
        },
        {
          "name": "stderr",
          "output_type": "stream",
          "text": [
            "Epoch 110/250: 100%|██████████| 782/782 [00:39<00:00, 19.70it/s]\n"
          ]
        },
        {
          "name": "stdout",
          "output_type": "stream",
          "text": [
            "Epoch 110: train_loss=0.0444, train_acc=32.04%\n",
            "Checkpoint saved at /content/gdrive/My Drive/checkpoints/SymmetricAutoencoderLRAndDropout20/checkpoint_epoch_110.pth\n",
            "Validation: val_loss=0.0556, val_acc=25.53%\n"
          ]
        },
        {
          "name": "stderr",
          "output_type": "stream",
          "text": [
            "Epoch 111/250: 100%|██████████| 782/782 [00:39<00:00, 19.64it/s]\n"
          ]
        },
        {
          "name": "stdout",
          "output_type": "stream",
          "text": [
            "Epoch 111: train_loss=0.0444, train_acc=32.11%\n",
            "Checkpoint saved at /content/gdrive/My Drive/checkpoints/SymmetricAutoencoderLRAndDropout20/checkpoint_epoch_111.pth\n",
            "Validation: val_loss=0.0556, val_acc=25.53%\n"
          ]
        },
        {
          "name": "stderr",
          "output_type": "stream",
          "text": [
            "Epoch 112/250: 100%|██████████| 782/782 [00:39<00:00, 19.65it/s]\n"
          ]
        },
        {
          "name": "stdout",
          "output_type": "stream",
          "text": [
            "Epoch 112: train_loss=0.0444, train_acc=32.06%\n",
            "Checkpoint saved at /content/gdrive/My Drive/checkpoints/SymmetricAutoencoderLRAndDropout20/checkpoint_epoch_112.pth\n",
            "Validation: val_loss=0.0556, val_acc=25.53%\n"
          ]
        },
        {
          "name": "stderr",
          "output_type": "stream",
          "text": [
            "Epoch 113/250: 100%|██████████| 782/782 [00:39<00:00, 19.67it/s]\n"
          ]
        },
        {
          "name": "stdout",
          "output_type": "stream",
          "text": [
            "Epoch 113: train_loss=0.0444, train_acc=32.09%\n",
            "Checkpoint saved at /content/gdrive/My Drive/checkpoints/SymmetricAutoencoderLRAndDropout20/checkpoint_epoch_113.pth\n",
            "Validation: val_loss=0.0556, val_acc=25.53%\n"
          ]
        },
        {
          "name": "stderr",
          "output_type": "stream",
          "text": [
            "Epoch 114/250: 100%|██████████| 782/782 [00:39<00:00, 19.66it/s]\n"
          ]
        },
        {
          "name": "stdout",
          "output_type": "stream",
          "text": [
            "Epoch 114: train_loss=0.0444, train_acc=32.16%\n",
            "Checkpoint saved at /content/gdrive/My Drive/checkpoints/SymmetricAutoencoderLRAndDropout20/checkpoint_epoch_114.pth\n",
            "Learning rate decreased to 1.0000000000000006e-12\n",
            "Validation: val_loss=0.0556, val_acc=25.53%\n"
          ]
        },
        {
          "name": "stderr",
          "output_type": "stream",
          "text": [
            "Epoch 115/250: 100%|██████████| 782/782 [00:39<00:00, 19.63it/s]\n"
          ]
        },
        {
          "name": "stdout",
          "output_type": "stream",
          "text": [
            "Epoch 115: train_loss=0.0444, train_acc=32.07%\n",
            "Checkpoint saved at /content/gdrive/My Drive/checkpoints/SymmetricAutoencoderLRAndDropout20/checkpoint_epoch_115.pth\n",
            "Validation: val_loss=0.0556, val_acc=25.53%\n"
          ]
        },
        {
          "name": "stderr",
          "output_type": "stream",
          "text": [
            "Epoch 116/250: 100%|██████████| 782/782 [00:39<00:00, 19.64it/s]\n"
          ]
        },
        {
          "name": "stdout",
          "output_type": "stream",
          "text": [
            "Epoch 116: train_loss=0.0444, train_acc=32.18%\n",
            "Checkpoint saved at /content/gdrive/My Drive/checkpoints/SymmetricAutoencoderLRAndDropout20/checkpoint_epoch_116.pth\n",
            "Validation: val_loss=0.0556, val_acc=25.53%\n"
          ]
        },
        {
          "name": "stderr",
          "output_type": "stream",
          "text": [
            "Epoch 117/250: 100%|██████████| 782/782 [00:39<00:00, 19.64it/s]\n"
          ]
        },
        {
          "name": "stdout",
          "output_type": "stream",
          "text": [
            "Epoch 117: train_loss=0.0444, train_acc=32.11%\n",
            "Checkpoint saved at /content/gdrive/My Drive/checkpoints/SymmetricAutoencoderLRAndDropout20/checkpoint_epoch_117.pth\n",
            "Validation: val_loss=0.0556, val_acc=25.53%\n"
          ]
        },
        {
          "name": "stderr",
          "output_type": "stream",
          "text": [
            "Epoch 118/250: 100%|██████████| 782/782 [00:39<00:00, 19.66it/s]\n"
          ]
        },
        {
          "name": "stdout",
          "output_type": "stream",
          "text": [
            "Epoch 118: train_loss=0.0444, train_acc=32.16%\n",
            "Checkpoint saved at /content/gdrive/My Drive/checkpoints/SymmetricAutoencoderLRAndDropout20/checkpoint_epoch_118.pth\n",
            "Validation: val_loss=0.0556, val_acc=25.53%\n"
          ]
        },
        {
          "name": "stderr",
          "output_type": "stream",
          "text": [
            "Epoch 119/250: 100%|██████████| 782/782 [00:39<00:00, 19.67it/s]\n"
          ]
        },
        {
          "name": "stdout",
          "output_type": "stream",
          "text": [
            "Epoch 119: train_loss=0.0444, train_acc=31.97%\n",
            "Checkpoint saved at /content/gdrive/My Drive/checkpoints/SymmetricAutoencoderLRAndDropout20/checkpoint_epoch_119.pth\n",
            "Learning rate decreased to 1.0000000000000007e-13\n",
            "Validation: val_loss=0.0556, val_acc=25.53%\n"
          ]
        },
        {
          "name": "stderr",
          "output_type": "stream",
          "text": [
            "Epoch 120/250: 100%|██████████| 782/782 [00:39<00:00, 19.70it/s]\n"
          ]
        },
        {
          "name": "stdout",
          "output_type": "stream",
          "text": [
            "Epoch 120: train_loss=0.0444, train_acc=32.12%\n",
            "Checkpoint saved at /content/gdrive/My Drive/checkpoints/SymmetricAutoencoderLRAndDropout20/checkpoint_epoch_120.pth\n",
            "Validation: val_loss=0.0556, val_acc=25.53%\n"
          ]
        },
        {
          "name": "stderr",
          "output_type": "stream",
          "text": [
            "Epoch 121/250: 100%|██████████| 782/782 [00:39<00:00, 19.70it/s]\n"
          ]
        },
        {
          "name": "stdout",
          "output_type": "stream",
          "text": [
            "Epoch 121: train_loss=0.0444, train_acc=32.10%\n",
            "Checkpoint saved at /content/gdrive/My Drive/checkpoints/SymmetricAutoencoderLRAndDropout20/checkpoint_epoch_121.pth\n",
            "Validation: val_loss=0.0556, val_acc=25.53%\n"
          ]
        },
        {
          "name": "stderr",
          "output_type": "stream",
          "text": [
            "Epoch 122/250: 100%|██████████| 782/782 [00:39<00:00, 19.67it/s]\n"
          ]
        },
        {
          "name": "stdout",
          "output_type": "stream",
          "text": [
            "Epoch 122: train_loss=0.0444, train_acc=32.10%\n",
            "Checkpoint saved at /content/gdrive/My Drive/checkpoints/SymmetricAutoencoderLRAndDropout20/checkpoint_epoch_122.pth\n",
            "Validation: val_loss=0.0556, val_acc=25.53%\n"
          ]
        },
        {
          "name": "stderr",
          "output_type": "stream",
          "text": [
            "Epoch 123/250: 100%|██████████| 782/782 [00:39<00:00, 19.65it/s]\n"
          ]
        },
        {
          "name": "stdout",
          "output_type": "stream",
          "text": [
            "Epoch 123: train_loss=0.0444, train_acc=32.16%\n",
            "Checkpoint saved at /content/gdrive/My Drive/checkpoints/SymmetricAutoencoderLRAndDropout20/checkpoint_epoch_123.pth\n",
            "Validation: val_loss=0.0556, val_acc=25.53%\n"
          ]
        },
        {
          "name": "stderr",
          "output_type": "stream",
          "text": [
            "Epoch 124/250: 100%|██████████| 782/782 [00:39<00:00, 19.66it/s]\n"
          ]
        },
        {
          "name": "stdout",
          "output_type": "stream",
          "text": [
            "Epoch 124: train_loss=0.0444, train_acc=32.15%\n",
            "Checkpoint saved at /content/gdrive/My Drive/checkpoints/SymmetricAutoencoderLRAndDropout20/checkpoint_epoch_124.pth\n",
            "Learning rate decreased to 1.0000000000000008e-14\n",
            "Validation: val_loss=0.0556, val_acc=25.53%\n"
          ]
        },
        {
          "name": "stderr",
          "output_type": "stream",
          "text": [
            "Epoch 125/250: 100%|██████████| 782/782 [00:39<00:00, 19.56it/s]\n"
          ]
        },
        {
          "name": "stdout",
          "output_type": "stream",
          "text": [
            "Epoch 125: train_loss=0.0444, train_acc=32.03%\n",
            "Checkpoint saved at /content/gdrive/My Drive/checkpoints/SymmetricAutoencoderLRAndDropout20/checkpoint_epoch_125.pth\n",
            "Validation: val_loss=0.0556, val_acc=25.53%\n"
          ]
        },
        {
          "name": "stderr",
          "output_type": "stream",
          "text": [
            "Epoch 126/250: 100%|██████████| 782/782 [00:39<00:00, 19.55it/s]\n"
          ]
        },
        {
          "name": "stdout",
          "output_type": "stream",
          "text": [
            "Epoch 126: train_loss=0.0444, train_acc=32.03%\n",
            "Checkpoint saved at /content/gdrive/My Drive/checkpoints/SymmetricAutoencoderLRAndDropout20/checkpoint_epoch_126.pth\n",
            "Validation: val_loss=0.0556, val_acc=25.53%\n"
          ]
        },
        {
          "name": "stderr",
          "output_type": "stream",
          "text": [
            "Epoch 127/250: 100%|██████████| 782/782 [00:39<00:00, 19.67it/s]\n"
          ]
        },
        {
          "name": "stdout",
          "output_type": "stream",
          "text": [
            "Epoch 127: train_loss=0.0444, train_acc=32.00%\n",
            "Checkpoint saved at /content/gdrive/My Drive/checkpoints/SymmetricAutoencoderLRAndDropout20/checkpoint_epoch_127.pth\n",
            "Validation: val_loss=0.0556, val_acc=25.53%\n"
          ]
        },
        {
          "name": "stderr",
          "output_type": "stream",
          "text": [
            "Epoch 128/250: 100%|██████████| 782/782 [00:39<00:00, 19.60it/s]\n"
          ]
        },
        {
          "name": "stdout",
          "output_type": "stream",
          "text": [
            "Epoch 128: train_loss=0.0444, train_acc=32.16%\n",
            "Checkpoint saved at /content/gdrive/My Drive/checkpoints/SymmetricAutoencoderLRAndDropout20/checkpoint_epoch_128.pth\n",
            "Validation: val_loss=0.0556, val_acc=25.53%\n"
          ]
        },
        {
          "name": "stderr",
          "output_type": "stream",
          "text": [
            "Epoch 129/250: 100%|██████████| 782/782 [00:39<00:00, 19.61it/s]\n"
          ]
        },
        {
          "name": "stdout",
          "output_type": "stream",
          "text": [
            "Epoch 129: train_loss=0.0444, train_acc=32.09%\n",
            "Checkpoint saved at /content/gdrive/My Drive/checkpoints/SymmetricAutoencoderLRAndDropout20/checkpoint_epoch_129.pth\n",
            "Learning rate decreased to 1.0000000000000009e-15\n",
            "Validation: val_loss=0.0556, val_acc=25.53%\n"
          ]
        },
        {
          "name": "stderr",
          "output_type": "stream",
          "text": [
            "Epoch 130/250: 100%|██████████| 782/782 [00:39<00:00, 19.64it/s]\n"
          ]
        },
        {
          "name": "stdout",
          "output_type": "stream",
          "text": [
            "Epoch 130: train_loss=0.0444, train_acc=32.06%\n",
            "Checkpoint saved at /content/gdrive/My Drive/checkpoints/SymmetricAutoencoderLRAndDropout20/checkpoint_epoch_130.pth\n",
            "Validation: val_loss=0.0556, val_acc=25.53%\n"
          ]
        },
        {
          "name": "stderr",
          "output_type": "stream",
          "text": [
            "Epoch 131/250: 100%|██████████| 782/782 [00:39<00:00, 19.58it/s]\n"
          ]
        },
        {
          "name": "stdout",
          "output_type": "stream",
          "text": [
            "Epoch 131: train_loss=0.0444, train_acc=32.19%\n",
            "Checkpoint saved at /content/gdrive/My Drive/checkpoints/SymmetricAutoencoderLRAndDropout20/checkpoint_epoch_131.pth\n",
            "Validation: val_loss=0.0556, val_acc=25.53%\n"
          ]
        },
        {
          "name": "stderr",
          "output_type": "stream",
          "text": [
            "Epoch 132/250: 100%|██████████| 782/782 [00:39<00:00, 19.58it/s]\n"
          ]
        },
        {
          "name": "stdout",
          "output_type": "stream",
          "text": [
            "Epoch 132: train_loss=0.0444, train_acc=32.08%\n",
            "Checkpoint saved at /content/gdrive/My Drive/checkpoints/SymmetricAutoencoderLRAndDropout20/checkpoint_epoch_132.pth\n",
            "Validation: val_loss=0.0556, val_acc=25.53%\n"
          ]
        },
        {
          "name": "stderr",
          "output_type": "stream",
          "text": [
            "Epoch 133/250: 100%|██████████| 782/782 [00:39<00:00, 19.63it/s]\n"
          ]
        },
        {
          "name": "stdout",
          "output_type": "stream",
          "text": [
            "Epoch 133: train_loss=0.0444, train_acc=32.07%\n",
            "Checkpoint saved at /content/gdrive/My Drive/checkpoints/SymmetricAutoencoderLRAndDropout20/checkpoint_epoch_133.pth\n",
            "Validation: val_loss=0.0556, val_acc=25.53%\n"
          ]
        },
        {
          "name": "stderr",
          "output_type": "stream",
          "text": [
            "Epoch 134/250: 100%|██████████| 782/782 [00:39<00:00, 19.67it/s]\n"
          ]
        },
        {
          "name": "stdout",
          "output_type": "stream",
          "text": [
            "Epoch 134: train_loss=0.0444, train_acc=32.19%\n",
            "Checkpoint saved at /content/gdrive/My Drive/checkpoints/SymmetricAutoencoderLRAndDropout20/checkpoint_epoch_134.pth\n",
            "Learning rate decreased to 1.000000000000001e-16\n",
            "Validation: val_loss=0.0556, val_acc=25.53%\n"
          ]
        },
        {
          "name": "stderr",
          "output_type": "stream",
          "text": [
            "Epoch 135/250: 100%|██████████| 782/782 [00:39<00:00, 19.66it/s]\n"
          ]
        },
        {
          "name": "stdout",
          "output_type": "stream",
          "text": [
            "Epoch 135: train_loss=0.0444, train_acc=32.14%\n",
            "Checkpoint saved at /content/gdrive/My Drive/checkpoints/SymmetricAutoencoderLRAndDropout20/checkpoint_epoch_135.pth\n",
            "Validation: val_loss=0.0556, val_acc=25.53%\n"
          ]
        },
        {
          "name": "stderr",
          "output_type": "stream",
          "text": [
            "Epoch 136/250: 100%|██████████| 782/782 [00:39<00:00, 19.66it/s]\n"
          ]
        },
        {
          "name": "stdout",
          "output_type": "stream",
          "text": [
            "Epoch 136: train_loss=0.0444, train_acc=32.15%\n",
            "Checkpoint saved at /content/gdrive/My Drive/checkpoints/SymmetricAutoencoderLRAndDropout20/checkpoint_epoch_136.pth\n",
            "Validation: val_loss=0.0556, val_acc=25.53%\n"
          ]
        },
        {
          "name": "stderr",
          "output_type": "stream",
          "text": [
            "Epoch 137/250: 100%|██████████| 782/782 [00:39<00:00, 19.66it/s]\n"
          ]
        },
        {
          "name": "stdout",
          "output_type": "stream",
          "text": [
            "Epoch 137: train_loss=0.0444, train_acc=32.19%\n",
            "Checkpoint saved at /content/gdrive/My Drive/checkpoints/SymmetricAutoencoderLRAndDropout20/checkpoint_epoch_137.pth\n",
            "Validation: val_loss=0.0556, val_acc=25.53%\n"
          ]
        },
        {
          "name": "stderr",
          "output_type": "stream",
          "text": [
            "Epoch 138/250: 100%|██████████| 782/782 [00:39<00:00, 19.66it/s]\n"
          ]
        },
        {
          "name": "stdout",
          "output_type": "stream",
          "text": [
            "Epoch 138: train_loss=0.0444, train_acc=32.13%\n",
            "Checkpoint saved at /content/gdrive/My Drive/checkpoints/SymmetricAutoencoderLRAndDropout20/checkpoint_epoch_138.pth\n",
            "Validation: val_loss=0.0556, val_acc=25.53%\n"
          ]
        },
        {
          "name": "stderr",
          "output_type": "stream",
          "text": [
            "Epoch 139/250: 100%|██████████| 782/782 [00:39<00:00, 19.62it/s]\n"
          ]
        },
        {
          "name": "stdout",
          "output_type": "stream",
          "text": [
            "Epoch 139: train_loss=0.0444, train_acc=32.17%\n",
            "Checkpoint saved at /content/gdrive/My Drive/checkpoints/SymmetricAutoencoderLRAndDropout20/checkpoint_epoch_139.pth\n",
            "Learning rate decreased to 1.000000000000001e-17\n",
            "Validation: val_loss=0.0556, val_acc=25.53%\n"
          ]
        },
        {
          "name": "stderr",
          "output_type": "stream",
          "text": [
            "Epoch 140/250: 100%|██████████| 782/782 [00:39<00:00, 19.63it/s]\n"
          ]
        },
        {
          "name": "stdout",
          "output_type": "stream",
          "text": [
            "Epoch 140: train_loss=0.0444, train_acc=32.20%\n",
            "Checkpoint saved at /content/gdrive/My Drive/checkpoints/SymmetricAutoencoderLRAndDropout20/checkpoint_epoch_140.pth\n",
            "Validation: val_loss=0.0556, val_acc=25.53%\n"
          ]
        },
        {
          "name": "stderr",
          "output_type": "stream",
          "text": [
            "Epoch 141/250: 100%|██████████| 782/782 [00:39<00:00, 19.60it/s]\n"
          ]
        },
        {
          "name": "stdout",
          "output_type": "stream",
          "text": [
            "Epoch 141: train_loss=0.0444, train_acc=32.09%\n",
            "Checkpoint saved at /content/gdrive/My Drive/checkpoints/SymmetricAutoencoderLRAndDropout20/checkpoint_epoch_141.pth\n",
            "Validation: val_loss=0.0556, val_acc=25.53%\n"
          ]
        },
        {
          "name": "stderr",
          "output_type": "stream",
          "text": [
            "Epoch 142/250: 100%|██████████| 782/782 [00:39<00:00, 19.63it/s]\n"
          ]
        },
        {
          "name": "stdout",
          "output_type": "stream",
          "text": [
            "Epoch 142: train_loss=0.0444, train_acc=32.18%\n",
            "Checkpoint saved at /content/gdrive/My Drive/checkpoints/SymmetricAutoencoderLRAndDropout20/checkpoint_epoch_142.pth\n",
            "Validation: val_loss=0.0556, val_acc=25.53%\n"
          ]
        },
        {
          "name": "stderr",
          "output_type": "stream",
          "text": [
            "Epoch 143/250: 100%|██████████| 782/782 [00:39<00:00, 19.61it/s]\n"
          ]
        },
        {
          "name": "stdout",
          "output_type": "stream",
          "text": [
            "Epoch 143: train_loss=0.0444, train_acc=32.09%\n",
            "Checkpoint saved at /content/gdrive/My Drive/checkpoints/SymmetricAutoencoderLRAndDropout20/checkpoint_epoch_143.pth\n",
            "Validation: val_loss=0.0556, val_acc=25.53%\n"
          ]
        },
        {
          "name": "stderr",
          "output_type": "stream",
          "text": [
            "Epoch 144/250: 100%|██████████| 782/782 [00:39<00:00, 19.64it/s]\n"
          ]
        },
        {
          "name": "stdout",
          "output_type": "stream",
          "text": [
            "Epoch 144: train_loss=0.0444, train_acc=32.11%\n",
            "Checkpoint saved at /content/gdrive/My Drive/checkpoints/SymmetricAutoencoderLRAndDropout20/checkpoint_epoch_144.pth\n",
            "Learning rate decreased to 1.000000000000001e-18\n",
            "Validation: val_loss=0.0556, val_acc=25.53%\n"
          ]
        },
        {
          "name": "stderr",
          "output_type": "stream",
          "text": [
            "Epoch 145/250: 100%|██████████| 782/782 [00:39<00:00, 19.63it/s]\n"
          ]
        },
        {
          "name": "stdout",
          "output_type": "stream",
          "text": [
            "Epoch 145: train_loss=0.0444, train_acc=32.16%\n",
            "Checkpoint saved at /content/gdrive/My Drive/checkpoints/SymmetricAutoencoderLRAndDropout20/checkpoint_epoch_145.pth\n",
            "Validation: val_loss=0.0556, val_acc=25.53%\n"
          ]
        },
        {
          "name": "stderr",
          "output_type": "stream",
          "text": [
            "Epoch 146/250: 100%|██████████| 782/782 [00:39<00:00, 19.64it/s]\n"
          ]
        },
        {
          "name": "stdout",
          "output_type": "stream",
          "text": [
            "Epoch 146: train_loss=0.0444, train_acc=32.12%\n",
            "Checkpoint saved at /content/gdrive/My Drive/checkpoints/SymmetricAutoencoderLRAndDropout20/checkpoint_epoch_146.pth\n",
            "Validation: val_loss=0.0556, val_acc=25.53%\n"
          ]
        },
        {
          "name": "stderr",
          "output_type": "stream",
          "text": [
            "Epoch 147/250: 100%|██████████| 782/782 [00:39<00:00, 19.65it/s]\n"
          ]
        },
        {
          "name": "stdout",
          "output_type": "stream",
          "text": [
            "Epoch 147: train_loss=0.0444, train_acc=32.05%\n",
            "Checkpoint saved at /content/gdrive/My Drive/checkpoints/SymmetricAutoencoderLRAndDropout20/checkpoint_epoch_147.pth\n",
            "Validation: val_loss=0.0556, val_acc=25.53%\n"
          ]
        },
        {
          "name": "stderr",
          "output_type": "stream",
          "text": [
            "Epoch 148/250: 100%|██████████| 782/782 [00:39<00:00, 19.62it/s]\n"
          ]
        },
        {
          "name": "stdout",
          "output_type": "stream",
          "text": [
            "Epoch 148: train_loss=0.0444, train_acc=32.16%\n",
            "Checkpoint saved at /content/gdrive/My Drive/checkpoints/SymmetricAutoencoderLRAndDropout20/checkpoint_epoch_148.pth\n",
            "Validation: val_loss=0.0556, val_acc=25.53%\n"
          ]
        },
        {
          "name": "stderr",
          "output_type": "stream",
          "text": [
            "Epoch 149/250: 100%|██████████| 782/782 [00:39<00:00, 19.63it/s]\n"
          ]
        },
        {
          "name": "stdout",
          "output_type": "stream",
          "text": [
            "Epoch 149: train_loss=0.0444, train_acc=32.13%\n",
            "Checkpoint saved at /content/gdrive/My Drive/checkpoints/SymmetricAutoencoderLRAndDropout20/checkpoint_epoch_149.pth\n",
            "Learning rate decreased to 1.000000000000001e-19\n",
            "Validation: val_loss=0.0556, val_acc=25.53%\n"
          ]
        },
        {
          "name": "stderr",
          "output_type": "stream",
          "text": [
            "Epoch 150/250: 100%|██████████| 782/782 [00:39<00:00, 19.61it/s]\n"
          ]
        },
        {
          "name": "stdout",
          "output_type": "stream",
          "text": [
            "Epoch 150: train_loss=0.0444, train_acc=32.11%\n",
            "Checkpoint saved at /content/gdrive/My Drive/checkpoints/SymmetricAutoencoderLRAndDropout20/checkpoint_epoch_150.pth\n",
            "Validation: val_loss=0.0556, val_acc=25.53%\n"
          ]
        },
        {
          "name": "stderr",
          "output_type": "stream",
          "text": [
            "Epoch 151/250: 100%|██████████| 782/782 [00:39<00:00, 19.60it/s]\n"
          ]
        },
        {
          "name": "stdout",
          "output_type": "stream",
          "text": [
            "Epoch 151: train_loss=0.0444, train_acc=32.15%\n",
            "Checkpoint saved at /content/gdrive/My Drive/checkpoints/SymmetricAutoencoderLRAndDropout20/checkpoint_epoch_151.pth\n",
            "Validation: val_loss=0.0556, val_acc=25.53%\n"
          ]
        },
        {
          "name": "stderr",
          "output_type": "stream",
          "text": [
            "Epoch 152/250: 100%|██████████| 782/782 [00:39<00:00, 19.62it/s]\n"
          ]
        },
        {
          "name": "stdout",
          "output_type": "stream",
          "text": [
            "Epoch 152: train_loss=0.0444, train_acc=32.06%\n",
            "Checkpoint saved at /content/gdrive/My Drive/checkpoints/SymmetricAutoencoderLRAndDropout20/checkpoint_epoch_152.pth\n",
            "Validation: val_loss=0.0556, val_acc=25.53%\n"
          ]
        },
        {
          "name": "stderr",
          "output_type": "stream",
          "text": [
            "Epoch 153/250: 100%|██████████| 782/782 [00:39<00:00, 19.62it/s]\n"
          ]
        },
        {
          "name": "stdout",
          "output_type": "stream",
          "text": [
            "Epoch 153: train_loss=0.0444, train_acc=32.05%\n",
            "Checkpoint saved at /content/gdrive/My Drive/checkpoints/SymmetricAutoencoderLRAndDropout20/checkpoint_epoch_153.pth\n",
            "Validation: val_loss=0.0556, val_acc=25.53%\n"
          ]
        },
        {
          "name": "stderr",
          "output_type": "stream",
          "text": [
            "Epoch 154/250: 100%|██████████| 782/782 [00:39<00:00, 19.63it/s]\n"
          ]
        },
        {
          "name": "stdout",
          "output_type": "stream",
          "text": [
            "Epoch 154: train_loss=0.0444, train_acc=32.08%\n",
            "Checkpoint saved at /content/gdrive/My Drive/checkpoints/SymmetricAutoencoderLRAndDropout20/checkpoint_epoch_154.pth\n",
            "Learning rate decreased to 1.0000000000000011e-20\n",
            "Validation: val_loss=0.0556, val_acc=25.53%\n"
          ]
        },
        {
          "name": "stderr",
          "output_type": "stream",
          "text": [
            "Epoch 155/250: 100%|██████████| 782/782 [00:39<00:00, 19.63it/s]\n"
          ]
        },
        {
          "name": "stdout",
          "output_type": "stream",
          "text": [
            "Epoch 155: train_loss=0.0444, train_acc=32.13%\n",
            "Checkpoint saved at /content/gdrive/My Drive/checkpoints/SymmetricAutoencoderLRAndDropout20/checkpoint_epoch_155.pth\n",
            "Validation: val_loss=0.0556, val_acc=25.53%\n"
          ]
        },
        {
          "name": "stderr",
          "output_type": "stream",
          "text": [
            "Epoch 156/250: 100%|██████████| 782/782 [00:39<00:00, 19.62it/s]\n"
          ]
        },
        {
          "name": "stdout",
          "output_type": "stream",
          "text": [
            "Epoch 156: train_loss=0.0444, train_acc=32.07%\n",
            "Checkpoint saved at /content/gdrive/My Drive/checkpoints/SymmetricAutoencoderLRAndDropout20/checkpoint_epoch_156.pth\n",
            "Validation: val_loss=0.0556, val_acc=25.53%\n"
          ]
        },
        {
          "name": "stderr",
          "output_type": "stream",
          "text": [
            "Epoch 157/250: 100%|██████████| 782/782 [00:39<00:00, 19.61it/s]\n"
          ]
        },
        {
          "name": "stdout",
          "output_type": "stream",
          "text": [
            "Epoch 157: train_loss=0.0444, train_acc=32.14%\n",
            "Checkpoint saved at /content/gdrive/My Drive/checkpoints/SymmetricAutoencoderLRAndDropout20/checkpoint_epoch_157.pth\n",
            "Validation: val_loss=0.0556, val_acc=25.53%\n"
          ]
        },
        {
          "name": "stderr",
          "output_type": "stream",
          "text": [
            "Epoch 158/250: 100%|██████████| 782/782 [00:39<00:00, 19.65it/s]\n"
          ]
        },
        {
          "name": "stdout",
          "output_type": "stream",
          "text": [
            "Epoch 158: train_loss=0.0444, train_acc=32.09%\n",
            "Checkpoint saved at /content/gdrive/My Drive/checkpoints/SymmetricAutoencoderLRAndDropout20/checkpoint_epoch_158.pth\n",
            "Validation: val_loss=0.0556, val_acc=25.53%\n"
          ]
        },
        {
          "name": "stderr",
          "output_type": "stream",
          "text": [
            "Epoch 159/250: 100%|██████████| 782/782 [00:39<00:00, 19.65it/s]\n"
          ]
        },
        {
          "name": "stdout",
          "output_type": "stream",
          "text": [
            "Epoch 159: train_loss=0.0444, train_acc=32.09%\n",
            "Checkpoint saved at /content/gdrive/My Drive/checkpoints/SymmetricAutoencoderLRAndDropout20/checkpoint_epoch_159.pth\n",
            "Learning rate decreased to 1.0000000000000012e-21\n",
            "Validation: val_loss=0.0556, val_acc=25.53%\n"
          ]
        },
        {
          "name": "stderr",
          "output_type": "stream",
          "text": [
            "Epoch 160/250: 100%|██████████| 782/782 [00:39<00:00, 19.63it/s]\n"
          ]
        },
        {
          "name": "stdout",
          "output_type": "stream",
          "text": [
            "Epoch 160: train_loss=0.0444, train_acc=32.06%\n",
            "Checkpoint saved at /content/gdrive/My Drive/checkpoints/SymmetricAutoencoderLRAndDropout20/checkpoint_epoch_160.pth\n",
            "Validation: val_loss=0.0556, val_acc=25.53%\n"
          ]
        },
        {
          "name": "stderr",
          "output_type": "stream",
          "text": [
            "Epoch 161/250: 100%|██████████| 782/782 [00:39<00:00, 19.63it/s]\n"
          ]
        },
        {
          "name": "stdout",
          "output_type": "stream",
          "text": [
            "Epoch 161: train_loss=0.0444, train_acc=32.07%\n",
            "Checkpoint saved at /content/gdrive/My Drive/checkpoints/SymmetricAutoencoderLRAndDropout20/checkpoint_epoch_161.pth\n",
            "Validation: val_loss=0.0556, val_acc=25.53%\n"
          ]
        },
        {
          "name": "stderr",
          "output_type": "stream",
          "text": [
            "Epoch 162/250: 100%|██████████| 782/782 [00:39<00:00, 19.63it/s]\n"
          ]
        },
        {
          "name": "stdout",
          "output_type": "stream",
          "text": [
            "Epoch 162: train_loss=0.0444, train_acc=32.15%\n",
            "Checkpoint saved at /content/gdrive/My Drive/checkpoints/SymmetricAutoencoderLRAndDropout20/checkpoint_epoch_162.pth\n",
            "Validation: val_loss=0.0556, val_acc=25.53%\n"
          ]
        },
        {
          "name": "stderr",
          "output_type": "stream",
          "text": [
            "Epoch 163/250: 100%|██████████| 782/782 [00:39<00:00, 19.64it/s]\n"
          ]
        },
        {
          "name": "stdout",
          "output_type": "stream",
          "text": [
            "Epoch 163: train_loss=0.0444, train_acc=32.07%\n",
            "Checkpoint saved at /content/gdrive/My Drive/checkpoints/SymmetricAutoencoderLRAndDropout20/checkpoint_epoch_163.pth\n",
            "Validation: val_loss=0.0556, val_acc=25.53%\n"
          ]
        },
        {
          "name": "stderr",
          "output_type": "stream",
          "text": [
            "Epoch 164/250: 100%|██████████| 782/782 [00:39<00:00, 19.64it/s]\n"
          ]
        },
        {
          "name": "stdout",
          "output_type": "stream",
          "text": [
            "Epoch 164: train_loss=0.0444, train_acc=32.09%\n",
            "Checkpoint saved at /content/gdrive/My Drive/checkpoints/SymmetricAutoencoderLRAndDropout20/checkpoint_epoch_164.pth\n",
            "Learning rate decreased to 1.0000000000000012e-22\n",
            "Validation: val_loss=0.0556, val_acc=25.53%\n"
          ]
        },
        {
          "name": "stderr",
          "output_type": "stream",
          "text": [
            "Epoch 165/250: 100%|██████████| 782/782 [00:39<00:00, 19.64it/s]\n"
          ]
        },
        {
          "name": "stdout",
          "output_type": "stream",
          "text": [
            "Epoch 165: train_loss=0.0444, train_acc=32.06%\n",
            "Checkpoint saved at /content/gdrive/My Drive/checkpoints/SymmetricAutoencoderLRAndDropout20/checkpoint_epoch_165.pth\n",
            "Validation: val_loss=0.0556, val_acc=25.53%\n"
          ]
        },
        {
          "name": "stderr",
          "output_type": "stream",
          "text": [
            "Epoch 166/250: 100%|██████████| 782/782 [00:39<00:00, 19.65it/s]\n"
          ]
        },
        {
          "name": "stdout",
          "output_type": "stream",
          "text": [
            "Epoch 166: train_loss=0.0444, train_acc=32.18%\n",
            "Checkpoint saved at /content/gdrive/My Drive/checkpoints/SymmetricAutoencoderLRAndDropout20/checkpoint_epoch_166.pth\n",
            "Validation: val_loss=0.0556, val_acc=25.53%\n"
          ]
        },
        {
          "name": "stderr",
          "output_type": "stream",
          "text": [
            "Epoch 167/250: 100%|██████████| 782/782 [00:39<00:00, 19.63it/s]\n"
          ]
        },
        {
          "name": "stdout",
          "output_type": "stream",
          "text": [
            "Epoch 167: train_loss=0.0444, train_acc=32.21%\n",
            "Checkpoint saved at /content/gdrive/My Drive/checkpoints/SymmetricAutoencoderLRAndDropout20/checkpoint_epoch_167.pth\n",
            "Validation: val_loss=0.0556, val_acc=25.53%\n"
          ]
        },
        {
          "name": "stderr",
          "output_type": "stream",
          "text": [
            "Epoch 168/250: 100%|██████████| 782/782 [00:39<00:00, 19.64it/s]\n"
          ]
        },
        {
          "name": "stdout",
          "output_type": "stream",
          "text": [
            "Epoch 168: train_loss=0.0444, train_acc=32.09%\n",
            "Checkpoint saved at /content/gdrive/My Drive/checkpoints/SymmetricAutoencoderLRAndDropout20/checkpoint_epoch_168.pth\n",
            "Validation: val_loss=0.0556, val_acc=25.53%\n"
          ]
        },
        {
          "name": "stderr",
          "output_type": "stream",
          "text": [
            "Epoch 169/250: 100%|██████████| 782/782 [00:39<00:00, 19.65it/s]\n"
          ]
        },
        {
          "name": "stdout",
          "output_type": "stream",
          "text": [
            "Epoch 169: train_loss=0.0444, train_acc=32.09%\n",
            "Checkpoint saved at /content/gdrive/My Drive/checkpoints/SymmetricAutoencoderLRAndDropout20/checkpoint_epoch_169.pth\n",
            "Learning rate decreased to 1.0000000000000013e-23\n",
            "Validation: val_loss=0.0556, val_acc=25.53%\n"
          ]
        },
        {
          "name": "stderr",
          "output_type": "stream",
          "text": [
            "Epoch 170/250: 100%|██████████| 782/782 [00:39<00:00, 19.69it/s]\n"
          ]
        },
        {
          "name": "stdout",
          "output_type": "stream",
          "text": [
            "Epoch 170: train_loss=0.0444, train_acc=32.03%\n",
            "Checkpoint saved at /content/gdrive/My Drive/checkpoints/SymmetricAutoencoderLRAndDropout20/checkpoint_epoch_170.pth\n",
            "Validation: val_loss=0.0556, val_acc=25.53%\n"
          ]
        },
        {
          "name": "stderr",
          "output_type": "stream",
          "text": [
            "Epoch 171/250: 100%|██████████| 782/782 [00:39<00:00, 19.66it/s]\n"
          ]
        },
        {
          "name": "stdout",
          "output_type": "stream",
          "text": [
            "Epoch 171: train_loss=0.0444, train_acc=32.15%\n",
            "Checkpoint saved at /content/gdrive/My Drive/checkpoints/SymmetricAutoencoderLRAndDropout20/checkpoint_epoch_171.pth\n",
            "Validation: val_loss=0.0556, val_acc=25.53%\n"
          ]
        },
        {
          "name": "stderr",
          "output_type": "stream",
          "text": [
            "Epoch 172/250: 100%|██████████| 782/782 [00:39<00:00, 19.68it/s]\n"
          ]
        },
        {
          "name": "stdout",
          "output_type": "stream",
          "text": [
            "Epoch 172: train_loss=0.0444, train_acc=32.10%\n",
            "Checkpoint saved at /content/gdrive/My Drive/checkpoints/SymmetricAutoencoderLRAndDropout20/checkpoint_epoch_172.pth\n",
            "Validation: val_loss=0.0556, val_acc=25.53%\n"
          ]
        },
        {
          "name": "stderr",
          "output_type": "stream",
          "text": [
            "Epoch 173/250: 100%|██████████| 782/782 [00:39<00:00, 19.68it/s]\n"
          ]
        },
        {
          "name": "stdout",
          "output_type": "stream",
          "text": [
            "Epoch 173: train_loss=0.0444, train_acc=32.13%\n",
            "Checkpoint saved at /content/gdrive/My Drive/checkpoints/SymmetricAutoencoderLRAndDropout20/checkpoint_epoch_173.pth\n",
            "Validation: val_loss=0.0556, val_acc=25.53%\n"
          ]
        },
        {
          "name": "stderr",
          "output_type": "stream",
          "text": [
            "Epoch 174/250: 100%|██████████| 782/782 [00:39<00:00, 19.63it/s]\n"
          ]
        },
        {
          "name": "stdout",
          "output_type": "stream",
          "text": [
            "Epoch 174: train_loss=0.0444, train_acc=32.14%\n",
            "Checkpoint saved at /content/gdrive/My Drive/checkpoints/SymmetricAutoencoderLRAndDropout20/checkpoint_epoch_174.pth\n",
            "Learning rate decreased to 1.0000000000000014e-24\n",
            "Validation: val_loss=0.0556, val_acc=25.53%\n"
          ]
        },
        {
          "name": "stderr",
          "output_type": "stream",
          "text": [
            "Epoch 175/250: 100%|██████████| 782/782 [00:39<00:00, 19.67it/s]\n"
          ]
        },
        {
          "name": "stdout",
          "output_type": "stream",
          "text": [
            "Epoch 175: train_loss=0.0444, train_acc=32.12%\n",
            "Checkpoint saved at /content/gdrive/My Drive/checkpoints/SymmetricAutoencoderLRAndDropout20/checkpoint_epoch_175.pth\n",
            "Validation: val_loss=0.0556, val_acc=25.53%\n"
          ]
        },
        {
          "name": "stderr",
          "output_type": "stream",
          "text": [
            "Epoch 176/250: 100%|██████████| 782/782 [00:39<00:00, 19.68it/s]\n"
          ]
        },
        {
          "name": "stdout",
          "output_type": "stream",
          "text": [
            "Epoch 176: train_loss=0.0444, train_acc=32.11%\n",
            "Checkpoint saved at /content/gdrive/My Drive/checkpoints/SymmetricAutoencoderLRAndDropout20/checkpoint_epoch_176.pth\n",
            "Validation: val_loss=0.0556, val_acc=25.53%\n"
          ]
        },
        {
          "name": "stderr",
          "output_type": "stream",
          "text": [
            "Epoch 177/250: 100%|██████████| 782/782 [00:39<00:00, 19.66it/s]\n"
          ]
        },
        {
          "name": "stdout",
          "output_type": "stream",
          "text": [
            "Epoch 177: train_loss=0.0444, train_acc=32.13%\n",
            "Checkpoint saved at /content/gdrive/My Drive/checkpoints/SymmetricAutoencoderLRAndDropout20/checkpoint_epoch_177.pth\n",
            "Validation: val_loss=0.0556, val_acc=25.53%\n"
          ]
        },
        {
          "name": "stderr",
          "output_type": "stream",
          "text": [
            "Epoch 178/250: 100%|██████████| 782/782 [00:39<00:00, 19.70it/s]\n"
          ]
        },
        {
          "name": "stdout",
          "output_type": "stream",
          "text": [
            "Epoch 178: train_loss=0.0444, train_acc=31.98%\n",
            "Checkpoint saved at /content/gdrive/My Drive/checkpoints/SymmetricAutoencoderLRAndDropout20/checkpoint_epoch_178.pth\n",
            "Validation: val_loss=0.0556, val_acc=25.53%\n"
          ]
        },
        {
          "name": "stderr",
          "output_type": "stream",
          "text": [
            "Epoch 179/250: 100%|██████████| 782/782 [00:39<00:00, 19.67it/s]\n"
          ]
        },
        {
          "name": "stdout",
          "output_type": "stream",
          "text": [
            "Epoch 179: train_loss=0.0444, train_acc=32.15%\n",
            "Checkpoint saved at /content/gdrive/My Drive/checkpoints/SymmetricAutoencoderLRAndDropout20/checkpoint_epoch_179.pth\n",
            "Learning rate decreased to 1.0000000000000014e-25\n",
            "Validation: val_loss=0.0556, val_acc=25.53%\n"
          ]
        },
        {
          "name": "stderr",
          "output_type": "stream",
          "text": [
            "Epoch 180/250: 100%|██████████| 782/782 [00:39<00:00, 19.64it/s]\n"
          ]
        },
        {
          "name": "stdout",
          "output_type": "stream",
          "text": [
            "Epoch 180: train_loss=0.0444, train_acc=32.08%\n",
            "Checkpoint saved at /content/gdrive/My Drive/checkpoints/SymmetricAutoencoderLRAndDropout20/checkpoint_epoch_180.pth\n",
            "Validation: val_loss=0.0556, val_acc=25.53%\n"
          ]
        },
        {
          "name": "stderr",
          "output_type": "stream",
          "text": [
            "Epoch 181/250: 100%|██████████| 782/782 [00:39<00:00, 19.68it/s]\n"
          ]
        },
        {
          "name": "stdout",
          "output_type": "stream",
          "text": [
            "Epoch 181: train_loss=0.0444, train_acc=32.17%\n",
            "Checkpoint saved at /content/gdrive/My Drive/checkpoints/SymmetricAutoencoderLRAndDropout20/checkpoint_epoch_181.pth\n",
            "Validation: val_loss=0.0556, val_acc=25.53%\n"
          ]
        },
        {
          "name": "stderr",
          "output_type": "stream",
          "text": [
            "Epoch 182/250: 100%|██████████| 782/782 [00:39<00:00, 19.69it/s]\n"
          ]
        },
        {
          "name": "stdout",
          "output_type": "stream",
          "text": [
            "Epoch 182: train_loss=0.0444, train_acc=32.07%\n",
            "Checkpoint saved at /content/gdrive/My Drive/checkpoints/SymmetricAutoencoderLRAndDropout20/checkpoint_epoch_182.pth\n",
            "Validation: val_loss=0.0556, val_acc=25.53%\n"
          ]
        },
        {
          "name": "stderr",
          "output_type": "stream",
          "text": [
            "Epoch 183/250: 100%|██████████| 782/782 [00:39<00:00, 19.66it/s]\n"
          ]
        },
        {
          "name": "stdout",
          "output_type": "stream",
          "text": [
            "Epoch 183: train_loss=0.0444, train_acc=32.11%\n",
            "Checkpoint saved at /content/gdrive/My Drive/checkpoints/SymmetricAutoencoderLRAndDropout20/checkpoint_epoch_183.pth\n",
            "Validation: val_loss=0.0556, val_acc=25.53%\n"
          ]
        },
        {
          "name": "stderr",
          "output_type": "stream",
          "text": [
            "Epoch 184/250: 100%|██████████| 782/782 [00:39<00:00, 19.65it/s]\n"
          ]
        },
        {
          "name": "stdout",
          "output_type": "stream",
          "text": [
            "Epoch 184: train_loss=0.0444, train_acc=32.15%\n",
            "Checkpoint saved at /content/gdrive/My Drive/checkpoints/SymmetricAutoencoderLRAndDropout20/checkpoint_epoch_184.pth\n",
            "Learning rate decreased to 1.0000000000000015e-26\n",
            "Validation: val_loss=0.0556, val_acc=25.53%\n"
          ]
        },
        {
          "name": "stderr",
          "output_type": "stream",
          "text": [
            "Epoch 185/250: 100%|██████████| 782/782 [00:39<00:00, 19.58it/s]\n"
          ]
        },
        {
          "name": "stdout",
          "output_type": "stream",
          "text": [
            "Epoch 185: train_loss=0.0444, train_acc=32.09%\n",
            "Checkpoint saved at /content/gdrive/My Drive/checkpoints/SymmetricAutoencoderLRAndDropout20/checkpoint_epoch_185.pth\n",
            "Validation: val_loss=0.0556, val_acc=25.53%\n"
          ]
        },
        {
          "name": "stderr",
          "output_type": "stream",
          "text": [
            "Epoch 186/250: 100%|██████████| 782/782 [00:39<00:00, 19.57it/s]\n"
          ]
        },
        {
          "name": "stdout",
          "output_type": "stream",
          "text": [
            "Epoch 186: train_loss=0.0444, train_acc=32.02%\n",
            "Checkpoint saved at /content/gdrive/My Drive/checkpoints/SymmetricAutoencoderLRAndDropout20/checkpoint_epoch_186.pth\n",
            "Validation: val_loss=0.0556, val_acc=25.53%\n"
          ]
        },
        {
          "name": "stderr",
          "output_type": "stream",
          "text": [
            "Epoch 187/250: 100%|██████████| 782/782 [00:39<00:00, 19.59it/s]\n"
          ]
        },
        {
          "name": "stdout",
          "output_type": "stream",
          "text": [
            "Epoch 187: train_loss=0.0444, train_acc=32.05%\n",
            "Checkpoint saved at /content/gdrive/My Drive/checkpoints/SymmetricAutoencoderLRAndDropout20/checkpoint_epoch_187.pth\n",
            "Validation: val_loss=0.0556, val_acc=25.53%\n"
          ]
        },
        {
          "name": "stderr",
          "output_type": "stream",
          "text": [
            "Epoch 188/250: 100%|██████████| 782/782 [00:39<00:00, 19.61it/s]\n"
          ]
        },
        {
          "name": "stdout",
          "output_type": "stream",
          "text": [
            "Epoch 188: train_loss=0.0444, train_acc=32.03%\n",
            "Checkpoint saved at /content/gdrive/My Drive/checkpoints/SymmetricAutoencoderLRAndDropout20/checkpoint_epoch_188.pth\n",
            "Validation: val_loss=0.0556, val_acc=25.53%\n"
          ]
        },
        {
          "name": "stderr",
          "output_type": "stream",
          "text": [
            "Epoch 189/250: 100%|██████████| 782/782 [00:39<00:00, 19.60it/s]\n"
          ]
        },
        {
          "name": "stdout",
          "output_type": "stream",
          "text": [
            "Epoch 189: train_loss=0.0444, train_acc=32.23%\n",
            "Checkpoint saved at /content/gdrive/My Drive/checkpoints/SymmetricAutoencoderLRAndDropout20/checkpoint_epoch_189.pth\n",
            "Learning rate decreased to 1.0000000000000015e-27\n",
            "Validation: val_loss=0.0556, val_acc=25.53%\n"
          ]
        },
        {
          "name": "stderr",
          "output_type": "stream",
          "text": [
            "Epoch 190/250: 100%|██████████| 782/782 [00:39<00:00, 19.58it/s]\n"
          ]
        },
        {
          "name": "stdout",
          "output_type": "stream",
          "text": [
            "Epoch 190: train_loss=0.0444, train_acc=32.09%\n",
            "Checkpoint saved at /content/gdrive/My Drive/checkpoints/SymmetricAutoencoderLRAndDropout20/checkpoint_epoch_190.pth\n",
            "Validation: val_loss=0.0556, val_acc=25.53%\n"
          ]
        },
        {
          "name": "stderr",
          "output_type": "stream",
          "text": [
            "Epoch 191/250: 100%|██████████| 782/782 [00:39<00:00, 19.60it/s]\n"
          ]
        },
        {
          "name": "stdout",
          "output_type": "stream",
          "text": [
            "Epoch 191: train_loss=0.0444, train_acc=32.12%\n",
            "Checkpoint saved at /content/gdrive/My Drive/checkpoints/SymmetricAutoencoderLRAndDropout20/checkpoint_epoch_191.pth\n",
            "Validation: val_loss=0.0556, val_acc=25.53%\n"
          ]
        },
        {
          "name": "stderr",
          "output_type": "stream",
          "text": [
            "Epoch 192/250: 100%|██████████| 782/782 [00:39<00:00, 19.63it/s]\n"
          ]
        },
        {
          "name": "stdout",
          "output_type": "stream",
          "text": [
            "Epoch 192: train_loss=0.0444, train_acc=32.03%\n",
            "Checkpoint saved at /content/gdrive/My Drive/checkpoints/SymmetricAutoencoderLRAndDropout20/checkpoint_epoch_192.pth\n",
            "Validation: val_loss=0.0556, val_acc=25.53%\n"
          ]
        },
        {
          "name": "stderr",
          "output_type": "stream",
          "text": [
            "Epoch 193/250: 100%|██████████| 782/782 [00:39<00:00, 19.67it/s]\n"
          ]
        },
        {
          "name": "stdout",
          "output_type": "stream",
          "text": [
            "Epoch 193: train_loss=0.0444, train_acc=32.09%\n",
            "Checkpoint saved at /content/gdrive/My Drive/checkpoints/SymmetricAutoencoderLRAndDropout20/checkpoint_epoch_193.pth\n",
            "Validation: val_loss=0.0556, val_acc=25.53%\n"
          ]
        },
        {
          "name": "stderr",
          "output_type": "stream",
          "text": [
            "Epoch 194/250: 100%|██████████| 782/782 [00:39<00:00, 19.64it/s]\n"
          ]
        },
        {
          "name": "stdout",
          "output_type": "stream",
          "text": [
            "Epoch 194: train_loss=0.0444, train_acc=32.19%\n",
            "Checkpoint saved at /content/gdrive/My Drive/checkpoints/SymmetricAutoencoderLRAndDropout20/checkpoint_epoch_194.pth\n",
            "Learning rate decreased to 1.0000000000000015e-28\n",
            "Validation: val_loss=0.0556, val_acc=25.53%\n"
          ]
        },
        {
          "name": "stderr",
          "output_type": "stream",
          "text": [
            "Epoch 195/250: 100%|██████████| 782/782 [00:39<00:00, 19.66it/s]\n"
          ]
        },
        {
          "name": "stdout",
          "output_type": "stream",
          "text": [
            "Epoch 195: train_loss=0.0444, train_acc=32.19%\n",
            "Checkpoint saved at /content/gdrive/My Drive/checkpoints/SymmetricAutoencoderLRAndDropout20/checkpoint_epoch_195.pth\n",
            "Validation: val_loss=0.0556, val_acc=25.53%\n"
          ]
        },
        {
          "name": "stderr",
          "output_type": "stream",
          "text": [
            "Epoch 196/250: 100%|██████████| 782/782 [00:39<00:00, 19.64it/s]\n"
          ]
        },
        {
          "name": "stdout",
          "output_type": "stream",
          "text": [
            "Epoch 196: train_loss=0.0444, train_acc=32.01%\n",
            "Checkpoint saved at /content/gdrive/My Drive/checkpoints/SymmetricAutoencoderLRAndDropout20/checkpoint_epoch_196.pth\n",
            "Validation: val_loss=0.0556, val_acc=25.53%\n"
          ]
        },
        {
          "name": "stderr",
          "output_type": "stream",
          "text": [
            "Epoch 197/250: 100%|██████████| 782/782 [00:39<00:00, 19.65it/s]\n"
          ]
        },
        {
          "name": "stdout",
          "output_type": "stream",
          "text": [
            "Epoch 197: train_loss=0.0444, train_acc=32.12%\n",
            "Checkpoint saved at /content/gdrive/My Drive/checkpoints/SymmetricAutoencoderLRAndDropout20/checkpoint_epoch_197.pth\n",
            "Validation: val_loss=0.0556, val_acc=25.53%\n"
          ]
        },
        {
          "name": "stderr",
          "output_type": "stream",
          "text": [
            "Epoch 198/250: 100%|██████████| 782/782 [00:39<00:00, 19.61it/s]\n"
          ]
        },
        {
          "name": "stdout",
          "output_type": "stream",
          "text": [
            "Epoch 198: train_loss=0.0444, train_acc=32.06%\n",
            "Checkpoint saved at /content/gdrive/My Drive/checkpoints/SymmetricAutoencoderLRAndDropout20/checkpoint_epoch_198.pth\n",
            "Validation: val_loss=0.0556, val_acc=25.53%\n"
          ]
        },
        {
          "name": "stderr",
          "output_type": "stream",
          "text": [
            "Epoch 199/250: 100%|██████████| 782/782 [00:39<00:00, 19.61it/s]\n"
          ]
        },
        {
          "name": "stdout",
          "output_type": "stream",
          "text": [
            "Epoch 199: train_loss=0.0444, train_acc=32.11%\n",
            "Checkpoint saved at /content/gdrive/My Drive/checkpoints/SymmetricAutoencoderLRAndDropout20/checkpoint_epoch_199.pth\n",
            "Learning rate decreased to 1.0000000000000016e-29\n",
            "Validation: val_loss=0.0556, val_acc=25.53%\n"
          ]
        },
        {
          "name": "stderr",
          "output_type": "stream",
          "text": [
            "Epoch 200/250: 100%|██████████| 782/782 [00:39<00:00, 19.70it/s]\n"
          ]
        },
        {
          "name": "stdout",
          "output_type": "stream",
          "text": [
            "Epoch 200: train_loss=0.0444, train_acc=32.15%\n",
            "Checkpoint saved at /content/gdrive/My Drive/checkpoints/SymmetricAutoencoderLRAndDropout20/checkpoint_epoch_200.pth\n",
            "Validation: val_loss=0.0556, val_acc=25.53%\n"
          ]
        },
        {
          "name": "stderr",
          "output_type": "stream",
          "text": [
            "Epoch 201/250: 100%|██████████| 782/782 [00:39<00:00, 19.71it/s]\n"
          ]
        },
        {
          "name": "stdout",
          "output_type": "stream",
          "text": [
            "Epoch 201: train_loss=0.0444, train_acc=32.02%\n",
            "Checkpoint saved at /content/gdrive/My Drive/checkpoints/SymmetricAutoencoderLRAndDropout20/checkpoint_epoch_201.pth\n",
            "Validation: val_loss=0.0556, val_acc=25.53%\n"
          ]
        },
        {
          "name": "stderr",
          "output_type": "stream",
          "text": [
            "Epoch 202/250: 100%|██████████| 782/782 [00:39<00:00, 19.72it/s]\n"
          ]
        },
        {
          "name": "stdout",
          "output_type": "stream",
          "text": [
            "Epoch 202: train_loss=0.0444, train_acc=32.11%\n",
            "Checkpoint saved at /content/gdrive/My Drive/checkpoints/SymmetricAutoencoderLRAndDropout20/checkpoint_epoch_202.pth\n",
            "Validation: val_loss=0.0556, val_acc=25.53%\n"
          ]
        },
        {
          "name": "stderr",
          "output_type": "stream",
          "text": [
            "Epoch 203/250: 100%|██████████| 782/782 [00:39<00:00, 19.72it/s]\n"
          ]
        },
        {
          "name": "stdout",
          "output_type": "stream",
          "text": [
            "Epoch 203: train_loss=0.0444, train_acc=32.21%\n",
            "Checkpoint saved at /content/gdrive/My Drive/checkpoints/SymmetricAutoencoderLRAndDropout20/checkpoint_epoch_203.pth\n",
            "Validation: val_loss=0.0556, val_acc=25.53%\n"
          ]
        },
        {
          "name": "stderr",
          "output_type": "stream",
          "text": [
            "Epoch 204/250: 100%|██████████| 782/782 [00:39<00:00, 19.68it/s]\n"
          ]
        },
        {
          "name": "stdout",
          "output_type": "stream",
          "text": [
            "Epoch 204: train_loss=0.0444, train_acc=32.11%\n",
            "Checkpoint saved at /content/gdrive/My Drive/checkpoints/SymmetricAutoencoderLRAndDropout20/checkpoint_epoch_204.pth\n",
            "Learning rate decreased to 1.0000000000000017e-30\n",
            "Validation: val_loss=0.0556, val_acc=25.53%\n"
          ]
        },
        {
          "name": "stderr",
          "output_type": "stream",
          "text": [
            "Epoch 205/250: 100%|██████████| 782/782 [00:39<00:00, 19.65it/s]\n"
          ]
        },
        {
          "name": "stdout",
          "output_type": "stream",
          "text": [
            "Epoch 205: train_loss=0.0444, train_acc=32.07%\n",
            "Checkpoint saved at /content/gdrive/My Drive/checkpoints/SymmetricAutoencoderLRAndDropout20/checkpoint_epoch_205.pth\n",
            "Validation: val_loss=0.0556, val_acc=25.53%\n"
          ]
        },
        {
          "name": "stderr",
          "output_type": "stream",
          "text": [
            "Epoch 206/250: 100%|██████████| 782/782 [00:39<00:00, 19.59it/s]\n"
          ]
        },
        {
          "name": "stdout",
          "output_type": "stream",
          "text": [
            "Epoch 206: train_loss=0.0444, train_acc=32.20%\n",
            "Checkpoint saved at /content/gdrive/My Drive/checkpoints/SymmetricAutoencoderLRAndDropout20/checkpoint_epoch_206.pth\n",
            "Validation: val_loss=0.0556, val_acc=25.53%\n"
          ]
        },
        {
          "name": "stderr",
          "output_type": "stream",
          "text": [
            "Epoch 207/250: 100%|██████████| 782/782 [00:39<00:00, 19.67it/s]\n"
          ]
        },
        {
          "name": "stdout",
          "output_type": "stream",
          "text": [
            "Epoch 207: train_loss=0.0444, train_acc=32.15%\n",
            "Checkpoint saved at /content/gdrive/My Drive/checkpoints/SymmetricAutoencoderLRAndDropout20/checkpoint_epoch_207.pth\n",
            "Validation: val_loss=0.0556, val_acc=25.53%\n"
          ]
        },
        {
          "name": "stderr",
          "output_type": "stream",
          "text": [
            "Epoch 208/250: 100%|██████████| 782/782 [00:39<00:00, 19.61it/s]\n"
          ]
        },
        {
          "name": "stdout",
          "output_type": "stream",
          "text": [
            "Epoch 208: train_loss=0.0444, train_acc=32.04%\n",
            "Checkpoint saved at /content/gdrive/My Drive/checkpoints/SymmetricAutoencoderLRAndDropout20/checkpoint_epoch_208.pth\n",
            "Validation: val_loss=0.0556, val_acc=25.53%\n"
          ]
        },
        {
          "name": "stderr",
          "output_type": "stream",
          "text": [
            "Epoch 209/250: 100%|██████████| 782/782 [00:39<00:00, 19.62it/s]\n"
          ]
        },
        {
          "name": "stdout",
          "output_type": "stream",
          "text": [
            "Epoch 209: train_loss=0.0444, train_acc=31.98%\n",
            "Checkpoint saved at /content/gdrive/My Drive/checkpoints/SymmetricAutoencoderLRAndDropout20/checkpoint_epoch_209.pth\n",
            "Learning rate decreased to 1.0000000000000016e-31\n",
            "Validation: val_loss=0.0556, val_acc=25.53%\n"
          ]
        },
        {
          "name": "stderr",
          "output_type": "stream",
          "text": [
            "Epoch 210/250: 100%|██████████| 782/782 [00:39<00:00, 19.67it/s]\n"
          ]
        },
        {
          "name": "stdout",
          "output_type": "stream",
          "text": [
            "Epoch 210: train_loss=0.0444, train_acc=32.09%\n",
            "Checkpoint saved at /content/gdrive/My Drive/checkpoints/SymmetricAutoencoderLRAndDropout20/checkpoint_epoch_210.pth\n",
            "Validation: val_loss=0.0556, val_acc=25.53%\n"
          ]
        },
        {
          "name": "stderr",
          "output_type": "stream",
          "text": [
            "Epoch 211/250: 100%|██████████| 782/782 [00:39<00:00, 19.65it/s]\n"
          ]
        },
        {
          "name": "stdout",
          "output_type": "stream",
          "text": [
            "Epoch 211: train_loss=0.0444, train_acc=32.19%\n",
            "Checkpoint saved at /content/gdrive/My Drive/checkpoints/SymmetricAutoencoderLRAndDropout20/checkpoint_epoch_211.pth\n",
            "Validation: val_loss=0.0556, val_acc=25.53%\n"
          ]
        },
        {
          "name": "stderr",
          "output_type": "stream",
          "text": [
            "Epoch 212/250: 100%|██████████| 782/782 [00:39<00:00, 19.65it/s]\n"
          ]
        },
        {
          "name": "stdout",
          "output_type": "stream",
          "text": [
            "Epoch 212: train_loss=0.0444, train_acc=32.14%\n",
            "Checkpoint saved at /content/gdrive/My Drive/checkpoints/SymmetricAutoencoderLRAndDropout20/checkpoint_epoch_212.pth\n",
            "Validation: val_loss=0.0556, val_acc=25.53%\n"
          ]
        },
        {
          "name": "stderr",
          "output_type": "stream",
          "text": [
            "Epoch 213/250: 100%|██████████| 782/782 [00:39<00:00, 19.62it/s]\n"
          ]
        },
        {
          "name": "stdout",
          "output_type": "stream",
          "text": [
            "Epoch 213: train_loss=0.0444, train_acc=32.14%\n",
            "Checkpoint saved at /content/gdrive/My Drive/checkpoints/SymmetricAutoencoderLRAndDropout20/checkpoint_epoch_213.pth\n",
            "Validation: val_loss=0.0556, val_acc=25.53%\n"
          ]
        },
        {
          "name": "stderr",
          "output_type": "stream",
          "text": [
            "Epoch 214/250: 100%|██████████| 782/782 [00:39<00:00, 19.60it/s]\n"
          ]
        },
        {
          "name": "stdout",
          "output_type": "stream",
          "text": [
            "Epoch 214: train_loss=0.0444, train_acc=32.07%\n",
            "Checkpoint saved at /content/gdrive/My Drive/checkpoints/SymmetricAutoencoderLRAndDropout20/checkpoint_epoch_214.pth\n",
            "Learning rate decreased to 1.0000000000000017e-32\n",
            "Validation: val_loss=0.0556, val_acc=25.53%\n"
          ]
        },
        {
          "name": "stderr",
          "output_type": "stream",
          "text": [
            "Epoch 215/250: 100%|██████████| 782/782 [00:39<00:00, 19.59it/s]\n"
          ]
        },
        {
          "name": "stdout",
          "output_type": "stream",
          "text": [
            "Epoch 215: train_loss=0.0444, train_acc=32.07%\n",
            "Checkpoint saved at /content/gdrive/My Drive/checkpoints/SymmetricAutoencoderLRAndDropout20/checkpoint_epoch_215.pth\n",
            "Validation: val_loss=0.0556, val_acc=25.53%\n"
          ]
        },
        {
          "name": "stderr",
          "output_type": "stream",
          "text": [
            "Epoch 216/250: 100%|██████████| 782/782 [00:39<00:00, 19.63it/s]\n"
          ]
        },
        {
          "name": "stdout",
          "output_type": "stream",
          "text": [
            "Epoch 216: train_loss=0.0444, train_acc=32.11%\n",
            "Checkpoint saved at /content/gdrive/My Drive/checkpoints/SymmetricAutoencoderLRAndDropout20/checkpoint_epoch_216.pth\n",
            "Validation: val_loss=0.0556, val_acc=25.53%\n"
          ]
        },
        {
          "name": "stderr",
          "output_type": "stream",
          "text": [
            "Epoch 217/250: 100%|██████████| 782/782 [00:39<00:00, 19.66it/s]\n"
          ]
        },
        {
          "name": "stdout",
          "output_type": "stream",
          "text": [
            "Epoch 217: train_loss=0.0444, train_acc=32.13%\n",
            "Checkpoint saved at /content/gdrive/My Drive/checkpoints/SymmetricAutoencoderLRAndDropout20/checkpoint_epoch_217.pth\n",
            "Validation: val_loss=0.0556, val_acc=25.53%\n"
          ]
        },
        {
          "name": "stderr",
          "output_type": "stream",
          "text": [
            "Epoch 218/250: 100%|██████████| 782/782 [00:39<00:00, 19.63it/s]\n"
          ]
        },
        {
          "name": "stdout",
          "output_type": "stream",
          "text": [
            "Epoch 218: train_loss=0.0444, train_acc=32.09%\n",
            "Checkpoint saved at /content/gdrive/My Drive/checkpoints/SymmetricAutoencoderLRAndDropout20/checkpoint_epoch_218.pth\n",
            "Validation: val_loss=0.0556, val_acc=25.53%\n"
          ]
        },
        {
          "name": "stderr",
          "output_type": "stream",
          "text": [
            "Epoch 219/250: 100%|██████████| 782/782 [00:39<00:00, 19.64it/s]\n"
          ]
        },
        {
          "name": "stdout",
          "output_type": "stream",
          "text": [
            "Epoch 219: train_loss=0.0444, train_acc=32.10%\n",
            "Checkpoint saved at /content/gdrive/My Drive/checkpoints/SymmetricAutoencoderLRAndDropout20/checkpoint_epoch_219.pth\n",
            "Learning rate decreased to 1.0000000000000018e-33\n",
            "Validation: val_loss=0.0556, val_acc=25.53%\n"
          ]
        },
        {
          "name": "stderr",
          "output_type": "stream",
          "text": [
            "Epoch 220/250: 100%|██████████| 782/782 [00:39<00:00, 19.62it/s]\n"
          ]
        },
        {
          "name": "stdout",
          "output_type": "stream",
          "text": [
            "Epoch 220: train_loss=0.0444, train_acc=32.07%\n",
            "Checkpoint saved at /content/gdrive/My Drive/checkpoints/SymmetricAutoencoderLRAndDropout20/checkpoint_epoch_220.pth\n",
            "Validation: val_loss=0.0556, val_acc=25.53%\n"
          ]
        },
        {
          "name": "stderr",
          "output_type": "stream",
          "text": [
            "Epoch 221/250: 100%|██████████| 782/782 [00:39<00:00, 19.67it/s]\n"
          ]
        },
        {
          "name": "stdout",
          "output_type": "stream",
          "text": [
            "Epoch 221: train_loss=0.0444, train_acc=32.12%\n",
            "Checkpoint saved at /content/gdrive/My Drive/checkpoints/SymmetricAutoencoderLRAndDropout20/checkpoint_epoch_221.pth\n",
            "Validation: val_loss=0.0556, val_acc=25.53%\n"
          ]
        },
        {
          "name": "stderr",
          "output_type": "stream",
          "text": [
            "Epoch 222/250: 100%|██████████| 782/782 [00:39<00:00, 19.66it/s]\n"
          ]
        },
        {
          "name": "stdout",
          "output_type": "stream",
          "text": [
            "Epoch 222: train_loss=0.0444, train_acc=32.03%\n",
            "Checkpoint saved at /content/gdrive/My Drive/checkpoints/SymmetricAutoencoderLRAndDropout20/checkpoint_epoch_222.pth\n",
            "Validation: val_loss=0.0556, val_acc=25.53%\n"
          ]
        },
        {
          "name": "stderr",
          "output_type": "stream",
          "text": [
            "Epoch 223/250: 100%|██████████| 782/782 [00:39<00:00, 19.65it/s]\n"
          ]
        },
        {
          "name": "stdout",
          "output_type": "stream",
          "text": [
            "Epoch 223: train_loss=0.0444, train_acc=32.07%\n",
            "Checkpoint saved at /content/gdrive/My Drive/checkpoints/SymmetricAutoencoderLRAndDropout20/checkpoint_epoch_223.pth\n",
            "Validation: val_loss=0.0556, val_acc=25.53%\n"
          ]
        },
        {
          "name": "stderr",
          "output_type": "stream",
          "text": [
            "Epoch 224/250: 100%|██████████| 782/782 [00:39<00:00, 19.62it/s]\n"
          ]
        },
        {
          "name": "stdout",
          "output_type": "stream",
          "text": [
            "Epoch 224: train_loss=0.0444, train_acc=32.08%\n",
            "Checkpoint saved at /content/gdrive/My Drive/checkpoints/SymmetricAutoencoderLRAndDropout20/checkpoint_epoch_224.pth\n",
            "Learning rate decreased to 1.0000000000000019e-34\n",
            "Validation: val_loss=0.0556, val_acc=25.53%\n"
          ]
        },
        {
          "name": "stderr",
          "output_type": "stream",
          "text": [
            "Epoch 225/250: 100%|██████████| 782/782 [00:39<00:00, 19.60it/s]\n"
          ]
        },
        {
          "name": "stdout",
          "output_type": "stream",
          "text": [
            "Epoch 225: train_loss=0.0444, train_acc=32.17%\n",
            "Checkpoint saved at /content/gdrive/My Drive/checkpoints/SymmetricAutoencoderLRAndDropout20/checkpoint_epoch_225.pth\n",
            "Validation: val_loss=0.0556, val_acc=25.53%\n"
          ]
        },
        {
          "name": "stderr",
          "output_type": "stream",
          "text": [
            "Epoch 226/250: 100%|██████████| 782/782 [00:39<00:00, 19.64it/s]\n"
          ]
        },
        {
          "name": "stdout",
          "output_type": "stream",
          "text": [
            "Epoch 226: train_loss=0.0444, train_acc=32.14%\n",
            "Checkpoint saved at /content/gdrive/My Drive/checkpoints/SymmetricAutoencoderLRAndDropout20/checkpoint_epoch_226.pth\n",
            "Validation: val_loss=0.0556, val_acc=25.53%\n"
          ]
        },
        {
          "name": "stderr",
          "output_type": "stream",
          "text": [
            "Epoch 227/250: 100%|██████████| 782/782 [00:39<00:00, 19.69it/s]\n"
          ]
        },
        {
          "name": "stdout",
          "output_type": "stream",
          "text": [
            "Epoch 227: train_loss=0.0444, train_acc=32.21%\n",
            "Checkpoint saved at /content/gdrive/My Drive/checkpoints/SymmetricAutoencoderLRAndDropout20/checkpoint_epoch_227.pth\n",
            "Validation: val_loss=0.0556, val_acc=25.53%\n"
          ]
        },
        {
          "name": "stderr",
          "output_type": "stream",
          "text": [
            "Epoch 228/250: 100%|██████████| 782/782 [00:39<00:00, 19.66it/s]\n"
          ]
        },
        {
          "name": "stdout",
          "output_type": "stream",
          "text": [
            "Epoch 228: train_loss=0.0444, train_acc=32.11%\n",
            "Checkpoint saved at /content/gdrive/My Drive/checkpoints/SymmetricAutoencoderLRAndDropout20/checkpoint_epoch_228.pth\n",
            "Validation: val_loss=0.0556, val_acc=25.53%\n"
          ]
        },
        {
          "name": "stderr",
          "output_type": "stream",
          "text": [
            "Epoch 229/250: 100%|██████████| 782/782 [00:39<00:00, 19.61it/s]\n"
          ]
        },
        {
          "name": "stdout",
          "output_type": "stream",
          "text": [
            "Epoch 229: train_loss=0.0444, train_acc=32.00%\n",
            "Checkpoint saved at /content/gdrive/My Drive/checkpoints/SymmetricAutoencoderLRAndDropout20/checkpoint_epoch_229.pth\n",
            "Learning rate decreased to 1.0000000000000019e-35\n",
            "Validation: val_loss=0.0556, val_acc=25.53%\n"
          ]
        },
        {
          "name": "stderr",
          "output_type": "stream",
          "text": [
            "Epoch 230/250: 100%|██████████| 782/782 [00:39<00:00, 19.60it/s]\n"
          ]
        },
        {
          "name": "stdout",
          "output_type": "stream",
          "text": [
            "Epoch 230: train_loss=0.0444, train_acc=32.14%\n",
            "Checkpoint saved at /content/gdrive/My Drive/checkpoints/SymmetricAutoencoderLRAndDropout20/checkpoint_epoch_230.pth\n",
            "Validation: val_loss=0.0556, val_acc=25.53%\n"
          ]
        },
        {
          "name": "stderr",
          "output_type": "stream",
          "text": [
            "Epoch 231/250: 100%|██████████| 782/782 [00:39<00:00, 19.64it/s]\n"
          ]
        },
        {
          "name": "stdout",
          "output_type": "stream",
          "text": [
            "Epoch 231: train_loss=0.0444, train_acc=32.23%\n",
            "Checkpoint saved at /content/gdrive/My Drive/checkpoints/SymmetricAutoencoderLRAndDropout20/checkpoint_epoch_231.pth\n",
            "Validation: val_loss=0.0556, val_acc=25.53%\n"
          ]
        },
        {
          "name": "stderr",
          "output_type": "stream",
          "text": [
            "Epoch 232/250: 100%|██████████| 782/782 [00:39<00:00, 19.62it/s]\n"
          ]
        },
        {
          "name": "stdout",
          "output_type": "stream",
          "text": [
            "Epoch 232: train_loss=0.0444, train_acc=32.08%\n",
            "Checkpoint saved at /content/gdrive/My Drive/checkpoints/SymmetricAutoencoderLRAndDropout20/checkpoint_epoch_232.pth\n",
            "Validation: val_loss=0.0556, val_acc=25.53%\n"
          ]
        },
        {
          "name": "stderr",
          "output_type": "stream",
          "text": [
            "Epoch 233/250: 100%|██████████| 782/782 [00:39<00:00, 19.66it/s]\n"
          ]
        },
        {
          "name": "stdout",
          "output_type": "stream",
          "text": [
            "Epoch 233: train_loss=0.0444, train_acc=32.09%\n",
            "Checkpoint saved at /content/gdrive/My Drive/checkpoints/SymmetricAutoencoderLRAndDropout20/checkpoint_epoch_233.pth\n",
            "Validation: val_loss=0.0556, val_acc=25.53%\n"
          ]
        },
        {
          "name": "stderr",
          "output_type": "stream",
          "text": [
            "Epoch 234/250: 100%|██████████| 782/782 [00:39<00:00, 19.66it/s]\n"
          ]
        },
        {
          "name": "stdout",
          "output_type": "stream",
          "text": [
            "Epoch 234: train_loss=0.0444, train_acc=32.22%\n",
            "Checkpoint saved at /content/gdrive/My Drive/checkpoints/SymmetricAutoencoderLRAndDropout20/checkpoint_epoch_234.pth\n",
            "Learning rate decreased to 1.000000000000002e-36\n",
            "Validation: val_loss=0.0556, val_acc=25.53%\n"
          ]
        },
        {
          "name": "stderr",
          "output_type": "stream",
          "text": [
            "Epoch 235/250: 100%|██████████| 782/782 [00:39<00:00, 19.68it/s]\n"
          ]
        },
        {
          "name": "stdout",
          "output_type": "stream",
          "text": [
            "Epoch 235: train_loss=0.0444, train_acc=32.08%\n",
            "Checkpoint saved at /content/gdrive/My Drive/checkpoints/SymmetricAutoencoderLRAndDropout20/checkpoint_epoch_235.pth\n",
            "Validation: val_loss=0.0556, val_acc=25.53%\n"
          ]
        },
        {
          "name": "stderr",
          "output_type": "stream",
          "text": [
            "Epoch 236/250: 100%|██████████| 782/782 [00:39<00:00, 19.68it/s]\n"
          ]
        },
        {
          "name": "stdout",
          "output_type": "stream",
          "text": [
            "Epoch 236: train_loss=0.0444, train_acc=32.13%\n",
            "Checkpoint saved at /content/gdrive/My Drive/checkpoints/SymmetricAutoencoderLRAndDropout20/checkpoint_epoch_236.pth\n",
            "Validation: val_loss=0.0556, val_acc=25.53%\n"
          ]
        },
        {
          "name": "stderr",
          "output_type": "stream",
          "text": [
            "Epoch 237/250: 100%|██████████| 782/782 [00:39<00:00, 19.72it/s]\n"
          ]
        },
        {
          "name": "stdout",
          "output_type": "stream",
          "text": [
            "Epoch 237: train_loss=0.0444, train_acc=32.09%\n",
            "Checkpoint saved at /content/gdrive/My Drive/checkpoints/SymmetricAutoencoderLRAndDropout20/checkpoint_epoch_237.pth\n",
            "Validation: val_loss=0.0556, val_acc=25.53%\n"
          ]
        },
        {
          "name": "stderr",
          "output_type": "stream",
          "text": [
            "Epoch 238/250: 100%|██████████| 782/782 [00:39<00:00, 19.68it/s]\n"
          ]
        },
        {
          "name": "stdout",
          "output_type": "stream",
          "text": [
            "Epoch 238: train_loss=0.0444, train_acc=32.09%\n",
            "Checkpoint saved at /content/gdrive/My Drive/checkpoints/SymmetricAutoencoderLRAndDropout20/checkpoint_epoch_238.pth\n",
            "Validation: val_loss=0.0556, val_acc=25.53%\n"
          ]
        },
        {
          "name": "stderr",
          "output_type": "stream",
          "text": [
            "Epoch 239/250: 100%|██████████| 782/782 [00:39<00:00, 19.69it/s]\n"
          ]
        },
        {
          "name": "stdout",
          "output_type": "stream",
          "text": [
            "Epoch 239: train_loss=0.0444, train_acc=32.09%\n",
            "Checkpoint saved at /content/gdrive/My Drive/checkpoints/SymmetricAutoencoderLRAndDropout20/checkpoint_epoch_239.pth\n",
            "Learning rate decreased to 1.000000000000002e-37\n",
            "Validation: val_loss=0.0556, val_acc=25.53%\n"
          ]
        },
        {
          "name": "stderr",
          "output_type": "stream",
          "text": [
            "Epoch 240/250: 100%|██████████| 782/782 [00:39<00:00, 19.70it/s]\n"
          ]
        },
        {
          "name": "stdout",
          "output_type": "stream",
          "text": [
            "Epoch 240: train_loss=0.0444, train_acc=32.03%\n",
            "Checkpoint saved at /content/gdrive/My Drive/checkpoints/SymmetricAutoencoderLRAndDropout20/checkpoint_epoch_240.pth\n",
            "Validation: val_loss=0.0556, val_acc=25.53%\n"
          ]
        },
        {
          "name": "stderr",
          "output_type": "stream",
          "text": [
            "Epoch 241/250: 100%|██████████| 782/782 [00:39<00:00, 19.70it/s]\n"
          ]
        },
        {
          "name": "stdout",
          "output_type": "stream",
          "text": [
            "Epoch 241: train_loss=0.0444, train_acc=32.07%\n",
            "Checkpoint saved at /content/gdrive/My Drive/checkpoints/SymmetricAutoencoderLRAndDropout20/checkpoint_epoch_241.pth\n",
            "Validation: val_loss=0.0556, val_acc=25.53%\n"
          ]
        },
        {
          "name": "stderr",
          "output_type": "stream",
          "text": [
            "Epoch 242/250: 100%|██████████| 782/782 [00:39<00:00, 19.65it/s]\n"
          ]
        },
        {
          "name": "stdout",
          "output_type": "stream",
          "text": [
            "Epoch 242: train_loss=0.0444, train_acc=32.14%\n",
            "Checkpoint saved at /content/gdrive/My Drive/checkpoints/SymmetricAutoencoderLRAndDropout20/checkpoint_epoch_242.pth\n",
            "Validation: val_loss=0.0556, val_acc=25.53%\n"
          ]
        },
        {
          "name": "stderr",
          "output_type": "stream",
          "text": [
            "Epoch 243/250: 100%|██████████| 782/782 [00:39<00:00, 19.64it/s]\n"
          ]
        },
        {
          "name": "stdout",
          "output_type": "stream",
          "text": [
            "Epoch 243: train_loss=0.0444, train_acc=32.12%\n",
            "Checkpoint saved at /content/gdrive/My Drive/checkpoints/SymmetricAutoencoderLRAndDropout20/checkpoint_epoch_243.pth\n",
            "Validation: val_loss=0.0556, val_acc=25.53%\n"
          ]
        },
        {
          "name": "stderr",
          "output_type": "stream",
          "text": [
            "Epoch 244/250: 100%|██████████| 782/782 [00:39<00:00, 19.67it/s]\n"
          ]
        },
        {
          "name": "stdout",
          "output_type": "stream",
          "text": [
            "Epoch 244: train_loss=0.0444, train_acc=32.13%\n",
            "Checkpoint saved at /content/gdrive/My Drive/checkpoints/SymmetricAutoencoderLRAndDropout20/checkpoint_epoch_244.pth\n",
            "Learning rate decreased to 1.000000000000002e-38\n",
            "Validation: val_loss=0.0556, val_acc=25.53%\n"
          ]
        },
        {
          "name": "stderr",
          "output_type": "stream",
          "text": [
            "Epoch 245/250: 100%|██████████| 782/782 [00:39<00:00, 19.65it/s]\n"
          ]
        },
        {
          "name": "stdout",
          "output_type": "stream",
          "text": [
            "Epoch 245: train_loss=0.0444, train_acc=32.12%\n",
            "Checkpoint saved at /content/gdrive/My Drive/checkpoints/SymmetricAutoencoderLRAndDropout20/checkpoint_epoch_245.pth\n",
            "Validation: val_loss=0.0556, val_acc=25.53%\n"
          ]
        },
        {
          "name": "stderr",
          "output_type": "stream",
          "text": [
            "Epoch 246/250: 100%|██████████| 782/782 [00:39<00:00, 19.67it/s]\n"
          ]
        },
        {
          "name": "stdout",
          "output_type": "stream",
          "text": [
            "Epoch 246: train_loss=0.0444, train_acc=32.08%\n",
            "Checkpoint saved at /content/gdrive/My Drive/checkpoints/SymmetricAutoencoderLRAndDropout20/checkpoint_epoch_246.pth\n",
            "Validation: val_loss=0.0556, val_acc=25.53%\n"
          ]
        },
        {
          "name": "stderr",
          "output_type": "stream",
          "text": [
            "Epoch 247/250: 100%|██████████| 782/782 [00:39<00:00, 19.68it/s]\n"
          ]
        },
        {
          "name": "stdout",
          "output_type": "stream",
          "text": [
            "Epoch 247: train_loss=0.0444, train_acc=32.18%\n",
            "Checkpoint saved at /content/gdrive/My Drive/checkpoints/SymmetricAutoencoderLRAndDropout20/checkpoint_epoch_247.pth\n",
            "Validation: val_loss=0.0556, val_acc=25.53%\n"
          ]
        },
        {
          "name": "stderr",
          "output_type": "stream",
          "text": [
            "Epoch 248/250: 100%|██████████| 782/782 [00:39<00:00, 19.69it/s]\n"
          ]
        },
        {
          "name": "stdout",
          "output_type": "stream",
          "text": [
            "Epoch 248: train_loss=0.0444, train_acc=32.15%\n",
            "Checkpoint saved at /content/gdrive/My Drive/checkpoints/SymmetricAutoencoderLRAndDropout20/checkpoint_epoch_248.pth\n",
            "Validation: val_loss=0.0556, val_acc=25.53%\n"
          ]
        },
        {
          "name": "stderr",
          "output_type": "stream",
          "text": [
            "Epoch 249/250: 100%|██████████| 782/782 [00:39<00:00, 19.65it/s]\n"
          ]
        },
        {
          "name": "stdout",
          "output_type": "stream",
          "text": [
            "Epoch 249: train_loss=0.0444, train_acc=32.27%\n",
            "Checkpoint saved at /content/gdrive/My Drive/checkpoints/SymmetricAutoencoderLRAndDropout20/checkpoint_epoch_249.pth\n",
            "Learning rate decreased to 1.000000000000002e-39\n",
            "Validation: val_loss=0.0556, val_acc=25.53%\n"
          ]
        },
        {
          "name": "stderr",
          "output_type": "stream",
          "text": [
            "Epoch 250/250: 100%|██████████| 782/782 [00:39<00:00, 19.66it/s]\n"
          ]
        },
        {
          "name": "stdout",
          "output_type": "stream",
          "text": [
            "Epoch 250: train_loss=0.0444, train_acc=32.11%\n",
            "Checkpoint saved at /content/gdrive/My Drive/checkpoints/SymmetricAutoencoderLRAndDropout20/checkpoint_epoch_250.pth\n",
            "Validation: val_loss=0.0556, val_acc=25.53%\n"
          ]
        },
        {
          "data": {
            "application/vnd.jupyter.widget-view+json": {
              "model_id": "2357ab0f36554f82a06e1d55c688c2ad",
              "version_major": 2,
              "version_minor": 0
            },
            "text/plain": [
              "VBox(children=(Label(value='0.084 MB of 0.084 MB uploaded\\r'), FloatProgress(value=1.0, max=1.0)))"
            ]
          },
          "metadata": {},
          "output_type": "display_data"
        },
        {
          "data": {
            "text/html": [
              "\n",
              "    <style>\n",
              "        .wandb-row {\n",
              "            display: flex;\n",
              "            flex-direction: row;\n",
              "            flex-wrap: wrap;\n",
              "            justify-content: flex-start;\n",
              "            width: 100%;\n",
              "        }\n",
              "        .wandb-col {\n",
              "            display: flex;\n",
              "            flex-direction: column;\n",
              "            flex-basis: 100%;\n",
              "            flex: 1;\n",
              "            padding: 10px;\n",
              "        }\n",
              "    </style>\n",
              "<div class=\"wandb-row\"><div class=\"wandb-col\"><h3>Run history:</h3><br/><table class=\"wandb\"><tr><td>lr</td><td>█▂▂▁▁▁▁▁▁▁▁▁▁▁▁▁▁▁▁▁▁▁▁▁▁▁▁▁▁▁▁▁▁▁▁▁▁▁▁▁</td></tr><tr><td>tr_acc</td><td>▁▁▁▂▃▄▅▅▆▆▇▇▇▇██████████████████████████</td></tr><tr><td>tr_loss</td><td>████▆▂▂▁▁▁▁▁▁▁▁▁▁▁▁▁▁▁▁▁▁▁▁▁▁▁▁▁▁▁▁▁▁▁▁▁</td></tr><tr><td>val_acc</td><td>▁▁▁▂▄▅▆▇▇▇██████████████████████████████</td></tr><tr><td>val_loss</td><td>██▇▇▃▂▂▂▂▂▂▁▂▁▁▁▁▁▁▁▁▁▁▁▁▁▁▁▁▁▁▁▁▁▁▁▁▁▁▁</td></tr></table><br/></div><div class=\"wandb-col\"><h3>Run summary:</h3><br/><table class=\"wandb\"><tr><td>lr</td><td>0.0</td></tr><tr><td>tr_acc</td><td>32.11441</td></tr><tr><td>tr_loss</td><td>0.0444</td></tr><tr><td>val_acc</td><td>25.52851</td></tr><tr><td>val_loss</td><td>0.05565</td></tr></table><br/></div></div>"
            ],
            "text/plain": [
              "<IPython.core.display.HTML object>"
            ]
          },
          "metadata": {},
          "output_type": "display_data"
        },
        {
          "data": {
            "text/html": [
              " View run <strong style=\"color:#cdcd00\">symmetric_autoencoder_dropout20</strong> at: <a href='https://wandb.ai/shira-chesler-ariel-university/Thesis/runs/kh3mh9u7' target=\"_blank\">https://wandb.ai/shira-chesler-ariel-university/Thesis/runs/kh3mh9u7</a><br/> View project at: <a href='https://wandb.ai/shira-chesler-ariel-university/Thesis' target=\"_blank\">https://wandb.ai/shira-chesler-ariel-university/Thesis</a><br/>Synced 5 W&B file(s), 0 media file(s), 0 artifact file(s) and 0 other file(s)"
            ],
            "text/plain": [
              "<IPython.core.display.HTML object>"
            ]
          },
          "metadata": {},
          "output_type": "display_data"
        },
        {
          "data": {
            "text/html": [
              "Find logs at: <code>./wandb/run-20241127_134311-kh3mh9u7/logs</code>"
            ],
            "text/plain": [
              "<IPython.core.display.HTML object>"
            ]
          },
          "metadata": {},
          "output_type": "display_data"
        },
        {
          "name": "stdout",
          "output_type": "stream",
          "text": [
            "Finished Training\n"
          ]
        }
      ],
      "source": [
        "train_model(model, start_epoch_symmetric, num_epochs, save_dir_symmetric_ae, train_loader, val_loader, criterion, optimizer, device, \"symmetric_autoencoder_dropout20\")\n",
        "# history = model.fit(tr_data, val_data, save_dir_symmetric_ae, start_epoch_symmetric, num_epochs=50)"
      ]
    },
    {
      "cell_type": "code",
      "execution_count": null,
      "metadata": {
        "colab": {
          "background_save": true
        },
        "id": "s3q5U3hIJogw"
      },
      "outputs": [],
      "source": [
        "# display_reconstruction(model, val_loader, device, n=1)"
      ]
    },
    {
      "cell_type": "code",
      "execution_count": null,
      "metadata": {
        "colab": {
          "background_save": true
        },
        "id": "xVSAH_e6tvmt",
        "outputId": "44b76605-58e4-4a38-8893-0383072c2a84"
      },
      "outputs": [
        {
          "name": "stderr",
          "output_type": "stream",
          "text": [
            "Evaluating Training Data: 100%|██████████| 782/782 [00:10<00:00, 71.21it/s]\n",
            "Evaluating Validation Data: 100%|██████████| 157/157 [00:02<00:00, 69.13it/s]"
          ]
        },
        {
          "name": "stdout",
          "output_type": "stream",
          "text": [
            "\n",
            "Symmetric model\n",
            "Train Reconstruction Loss: 0.0553\n",
            "Train Reconstruction SSIM: 0.2585\n",
            "Validation Reconstruction Loss: 0.0556\n",
            "Validation Reconstruction SSIM: 0.2550\n"
          ]
        },
        {
          "name": "stderr",
          "output_type": "stream",
          "text": [
            "\n"
          ]
        }
      ],
      "source": [
        "ssim_metric = StructuralSimilarityIndexMeasure(data_range=1.0).to(device)\n",
        "criterion = torch.nn.MSELoss()\n",
        "\n",
        "results = evaluate_reconstruction(model, train_loader, val_loader, device, criterion, ssim_metric)\n",
        "\n",
        "print(\"\\nSymmetric model\")\n",
        "print(f\"Train Reconstruction Loss: {results['train_loss']:.4f}\")\n",
        "print(f\"Train Reconstruction SSIM: {results['train_ssim']:.4f}\")\n",
        "print(f\"Validation Reconstruction Loss: {results['val_loss']:.4f}\")\n",
        "print(f\"Validation Reconstruction SSIM: {results['val_ssim']:.4f}\")"
      ]
    },
    {
      "cell_type": "markdown",
      "metadata": {
        "id": "OE-VLUmCuIU6"
      },
      "source": [
        "Asymmetric Autoencoders"
      ]
    },
    {
      "cell_type": "code",
      "execution_count": null,
      "metadata": {
        "colab": {
          "background_save": true
        },
        "id": "oceGVqER4CAm"
      },
      "outputs": [],
      "source": [
        "# My addition - asymmetric autoencoder (currently adjusted for smaller decoder only)\n",
        "\n",
        "def remove_dims(dims, num_layers_less, smaller_part='decoder'):\n",
        "    if num_layers_less >= len(dims):\n",
        "        # If num_layers_less is too large, retain only one dimension\n",
        "        return [dims[0]] if smaller_part == 'encoder' else [dims[-1]]\n",
        "\n",
        "    # if num_layers_less == 0:\n",
        "        # return dims\n",
        "    adjusted_dims = []\n",
        "\n",
        "    times_skipped = 0\n",
        "    if smaller_part == 'encoder':\n",
        "        # Start with the first dimension included\n",
        "        adjusted_dims = [dims[0]]\n",
        "        skip = True  # Start by skipping the second element\n",
        "\n",
        "        # Iterate through remaining dims from start (excluding the first element)\n",
        "        for dim in dims[1:]:\n",
        "          if times_skipped >= num_layers_less:\n",
        "                skip = False\n",
        "          times_skipped = times_skipped + 1\n",
        "          if not skip:\n",
        "              adjusted_dims.append(dim)\n",
        "              times_skipped = times_skipped - 1\n",
        "          skip = not skip  # Toggle skipping\n",
        "\n",
        "\n",
        "    else:  # smaller_part == 'decoder'\n",
        "        # Start with the last dimension included\n",
        "        adjusted_dims = [dims[-1]]\n",
        "        skip = True  # Start by skipping the second-last layer\n",
        "\n",
        "        # Iterate through remaining dims in reverse, excluding the last element\n",
        "        for dim in reversed(dims[:-1]):\n",
        "          if times_skipped >= num_layers_less:\n",
        "              skip = False\n",
        "          times_skipped = times_skipped + 1\n",
        "          if not skip:\n",
        "              adjusted_dims.append(dim)\n",
        "              times_skipped = times_skipped - 1\n",
        "          skip = not skip  # Toggle skipping\n",
        "\n",
        "\n",
        "        # Reverse back to maintain the original order\n",
        "        adjusted_dims.reverse()\n",
        "\n",
        "    return tuple(adjusted_dims)\n",
        "\n",
        "\n",
        "# Function to process kernel sizes for encoder and decoder separately\n",
        "def process_kernel_sizes(kernel_sizes, adjusted_dims_enc, adjusted_dims_dec):\n",
        "    if isinstance(kernel_sizes, int):\n",
        "        # Apply the same kernel size to all encoder and decoder layers\n",
        "        kernel_sizes_enc = [kernel_sizes] * len(adjusted_dims_enc)\n",
        "        kernel_sizes_dec = [kernel_sizes] * len(adjusted_dims_dec)\n",
        "    else:\n",
        "        # Ensure kernel_sizes is long enough for both encoder and decoder, should never get here currently\n",
        "        assert len(kernel_sizes) == len(adjusted_dims_enc) + len(adjusted_dims_dec) - 2, \\\n",
        "        \"kernel_sizes should have length equal to (encoder layers + decoder layers - 2)\"\n",
        "\n",
        "        # Split kernel_sizes between encoder and decoder\n",
        "        kernel_sizes_enc = kernel_sizes[:len(adjusted_dims_enc) - 1]\n",
        "        kernel_sizes_dec = kernel_sizes[len(adjusted_dims_enc) - 1:]\n",
        "\n",
        "    # Verify each kernel size is positive\n",
        "    assert all(size > 0 for size in kernel_sizes_enc + kernel_sizes_dec), \\\n",
        "        \"All kernel sizes must be positive integers\"\n",
        "\n",
        "    return kernel_sizes_enc, kernel_sizes_dec\n",
        "\n",
        "class DeepAsymmetricConvAutoencoder(AbstractAutoencoder):\n",
        "    \"\"\" Conv AE with variable number of conv layers, where either encoder or decoder has fewer layers \"\"\"\n",
        "    def __init__(self, inp_side_len=32, dims=(32, 64), kernel_sizes=3, central_dim=256, pool=True, in_channels=3,\n",
        "                 smaller_part='decoder', num_layers_less=1):\n",
        "        \"\"\"\n",
        "        :param inp_side_len: Input image side length (e.g., 32 for CIFAR)\n",
        "        :param dims: Dimensions of convolutional layers (e.g., (32, 64))\n",
        "        :param kernel_sizes: Kernel sizes for each layer\n",
        "        :param central_dim: Central bottleneck dimension\n",
        "        :param pool: Whether to use pooling\n",
        "        :param in_channels: Number of input channels (3 for RGB)\n",
        "        :param smaller_part: 'encoder' or 'decoder', indicating which part should have fewer layers\n",
        "        :param num_layers_less: How many fewer layers the smaller part should have\n",
        "        \"\"\"\n",
        "        super().__init__()\n",
        "\n",
        "        assert smaller_part in ['encoder', 'decoder'], \"smaller_part must be 'encoder' or 'decoder'\"\n",
        "        assert num_layers_less >= 0, \"num_layers_less must be non-negative\"\n",
        "\n",
        "        # Adjust dims based on which part is smaller\n",
        "        if smaller_part == 'encoder':\n",
        "            adjusted_dims_enc = remove_dims(dims, num_layers_less, smaller_part)\n",
        "            adjusted_dims_dec = dims\n",
        "        else:\n",
        "            adjusted_dims_enc = dims\n",
        "            adjusted_dims_dec = remove_dims(dims, num_layers_less, smaller_part)\n",
        "\n",
        "        kernel_sizes_enc, kernel_sizes_dec = process_kernel_sizes(kernel_sizes, adjusted_dims_enc, adjusted_dims_dec)\n",
        "\n",
        "        # Encoder construction\n",
        "        step_pool = 1 if len(adjusted_dims_enc) < 3 else (2 if len(adjusted_dims_enc) < 6 else 3)\n",
        "        side_len = inp_side_len\n",
        "        side_lengths = [side_len]\n",
        "\n",
        "        adjusted_dims_enc = (in_channels, *adjusted_dims_enc)  # Set the first dimension to input channels\n",
        "        adjusted_dims_dec = (in_channels, *adjusted_dims_dec)  # Ensure the last dimension matches input channels\n",
        "\n",
        "        enc_layers = []\n",
        "        for i in range(len(adjusted_dims_enc) - 1):\n",
        "            pad = (kernel_sizes_enc[i] - 1) // 2\n",
        "            enc_layers.append(nn.Conv2d(in_channels=adjusted_dims_enc[i], out_channels=adjusted_dims_enc[i + 1],\n",
        "                                        kernel_size=kernel_sizes_enc[i], padding=pad, stride=1))\n",
        "            enc_layers.append(nn.ReLU(inplace=True))\n",
        "            if pool and (i % step_pool == 0 or i == len(adjusted_dims_enc) - 1) and side_len > 3:\n",
        "                enc_layers.append(nn.MaxPool2d(kernel_size=2, stride=2, padding=0))\n",
        "                side_len = math.floor(side_len / 2)\n",
        "                side_lengths.append(side_len)\n",
        "\n",
        "        fc_dims_enc = (side_len ** 2 * adjusted_dims_enc[-1], side_len ** 2 * adjusted_dims_enc[-1] // 2, central_dim)\n",
        "        fc_dims_dec = (side_len ** 2 * adjusted_dims_dec[-1], side_len ** 2 * adjusted_dims_dec[-1] // 2, central_dim)\n",
        "        self.encoder = nn.Sequential(\n",
        "            *enc_layers,\n",
        "            nn.Flatten(),\n",
        "            nn.Linear(fc_dims_enc[0], fc_dims_enc[1]),\n",
        "            nn.ReLU(inplace=True),\n",
        "            nn.Linear(fc_dims_enc[1], fc_dims_enc[2]),\n",
        "            nn.ReLU(inplace=True)\n",
        "        )\n",
        "\n",
        "        # Decoder construction\n",
        "        central_side_len = side_lengths.pop(-1)\n",
        "        dec_layers = []\n",
        "        for i in reversed(range(1, len(adjusted_dims_dec))):\n",
        "            kersize = 2 if len(side_lengths) > 0 and side_len * 2 == side_lengths.pop(-1) else 3\n",
        "            pad, stride = (1, 1) if side_len == inp_side_len else (0, 2)\n",
        "            dec_layers.append(nn.ConvTranspose2d(in_channels=adjusted_dims_dec[i], out_channels=adjusted_dims_dec[i - 1], kernel_size=kersize,\n",
        "                                                padding=pad, stride=stride))\n",
        "            side_len = side_len if pad == 1 else (side_len * 2 if kersize == 2 else side_len * 2 + 1)\n",
        "            dec_layers.append(nn.ReLU(inplace=True))\n",
        "        dec_layers[-1] = nn.Sigmoid()\n",
        "\n",
        "        self.decoder = nn.Sequential(\n",
        "            nn.Linear(fc_dims_dec[2], fc_dims_dec[1]),\n",
        "            nn.ReLU(inplace=True),\n",
        "            nn.Linear(fc_dims_dec[1], fc_dims_dec[0]),\n",
        "            nn.ReLU(inplace=True),\n",
        "            nn.Unflatten(dim=1, unflattened_size=(dims[-1], central_side_len, central_side_len)),\n",
        "            *dec_layers,\n",
        "        )"
      ]
    },
    {
      "cell_type": "code",
      "execution_count": null,
      "metadata": {
        "colab": {
          "background_save": true
        },
        "id": "s8h8q1a1A8gn"
      },
      "outputs": [],
      "source": [
        "# In order to solve the model's crashing for the 10 dims (out of memory)\n",
        "torch.cuda.empty_cache()\n",
        "os.environ['PYTORCH_CUDA_ALLOC_CONF'] = 'expandable_segments:True'"
      ]
    },
    {
      "cell_type": "code",
      "execution_count": null,
      "metadata": {
        "colab": {
          "background_save": true
        },
        "id": "eZXwyV_W3yfQ"
      },
      "outputs": [],
      "source": [
        "# Instantiate your model\n",
        "asym_model_minus1 = DeepAsymmetricConvAutoencoder(\n",
        "    inp_side_len=32,  # CIFAR-100 images are 32x32\n",
        "    dims=(32, 64, 128, 256, 512),    # 5 layers\n",
        "    kernel_sizes=3,\n",
        "    central_dim=256,\n",
        "    in_channels=3  # CIFAR-100 has 3 channels (RGB)\n",
        ").to(device)\n",
        "\n",
        "\n",
        "# Define loss function and optimizer\n",
        "criterion = nn.MSELoss()\n",
        "optimizer = optim.Adam(asym_model_minus1.parameters(), lr=0.001)"
      ]
    },
    {
      "cell_type": "code",
      "execution_count": null,
      "metadata": {
        "colab": {
          "background_save": true
        },
        "id": "oq8xNpqOJtKG"
      },
      "outputs": [],
      "source": [
        "save_dir_asymmetric_ae_minus1 = '/content/gdrive/My Drive/checkpoints/AsymmetricAutoencoderMinus1New'\n",
        "start_epoch_asym_minus1 = load_checkpoint(asym_model_minus1, save_dir_asymmetric_ae_minus1, num_epochs)"
      ]
    },
    {
      "cell_type": "code",
      "execution_count": null,
      "metadata": {
        "id": "ONnfEf_M3yWS"
      },
      "outputs": [],
      "source": [
        "train_model(asym_model_minus1, start_epoch_asym_minus1, num_epochs, save_dir_asymmetric_ae_minus1, train_loader, val_loader, criterion, optimizer, device, \"Assymetric_autoencoder_minus1\")\n",
        "# history1 = asym_model_minus1.fit(tr_data, val_data, save_dir_asymmetric_ae_minus1, start_epoch_asym_minus1, num_epochs=150)"
      ]
    },
    {
      "cell_type": "code",
      "execution_count": null,
      "metadata": {
        "id": "WSd_PeK9KV8U"
      },
      "outputs": [],
      "source": [
        "# display_reconstruction(asym_model_minus1, val_loader, device, n=1)"
      ]
    },
    {
      "cell_type": "code",
      "execution_count": null,
      "metadata": {
        "id": "z0PsJsgrsBI-"
      },
      "outputs": [],
      "source": [
        "results = evaluate_reconstruction(asym_model_minus1, train_loader, val_loader, device, criterion, ssim_metric)\n",
        "\n",
        "print(\"\\nAsymmetric model minus 1 layer - in the decoder\")\n",
        "print(f\"Train Reconstruction Loss: {results['train_loss']:.4f}\")\n",
        "print(f\"Train Reconstruction SSIM: {results['train_ssim']:.4f}\")\n",
        "print(f\"Validation Reconstruction Loss: {results['val_loss']:.4f}\")\n",
        "print(f\"Validation Reconstruction SSIM: {results['val_ssim']:.4f}\")"
      ]
    },
    {
      "cell_type": "code",
      "execution_count": null,
      "metadata": {
        "id": "S0jemCIIAKT_"
      },
      "outputs": [],
      "source": [
        "# Instantiate your model\n",
        "asym_model_minus2 = DeepAsymmetricConvAutoencoder(\n",
        "    inp_side_len=32,  # CIFAR-100 images are 32x32\n",
        "    dims=(32, 64, 128, 256, 512),    # 5 layers\n",
        "    kernel_sizes=3,\n",
        "    central_dim=256,\n",
        "    num_layers_less=2,\n",
        "    in_channels=3  # CIFAR-100 has 3 channels (RGB)\n",
        ").to(device)\n",
        "\n",
        "\n",
        "# Define loss function and optimizer\n",
        "criterion = nn.MSELoss()\n",
        "optimizer = optim.Adam(asym_model_minus2.parameters(), lr=0.001)"
      ]
    },
    {
      "cell_type": "code",
      "execution_count": null,
      "metadata": {
        "id": "P49s6qHI3Ent"
      },
      "outputs": [],
      "source": [
        "save_dir_asymmetric_ae_minus2 = '/content/gdrive/My Drive/checkpoints/AsymmetricAutoencoderMinus2New'\n",
        "start_epoch_asym_minus2 = load_checkpoint(asym_model_minus2, save_dir_asymmetric_ae_minus2, num_epochs)"
      ]
    },
    {
      "cell_type": "code",
      "execution_count": null,
      "metadata": {
        "id": "xGQhq3lrcQen"
      },
      "outputs": [],
      "source": [
        "train_model(asym_model_minus2, start_epoch_asym_minus2, num_epochs, save_dir_asymmetric_ae_minus2, train_loader, val_loader, criterion, optimizer, device, \"Assymetric_autoencoder_minus2\")\n",
        "# history2 = asym_model_minus2.fit(tr_data, val_data, save_dir_asymmetric_ae_minus2, start_epoch_asym_minus2, num_epochs=150)"
      ]
    },
    {
      "cell_type": "code",
      "execution_count": null,
      "metadata": {
        "id": "qWomjan7KMsY"
      },
      "outputs": [],
      "source": [
        "# display_reconstruction(asym_model_minus2, val_loader, device, n=1)"
      ]
    },
    {
      "cell_type": "code",
      "execution_count": null,
      "metadata": {
        "id": "U2R6yx6T4ndc"
      },
      "outputs": [],
      "source": [
        "results = evaluate_reconstruction(asym_model_minus2, train_loader, val_loader, device, criterion, ssim_metric)\n",
        "\n",
        "print(\"\\nAsymmetric model minus 2 layer - in the decoder\")\n",
        "print(f\"Train Reconstruction Loss: {results['train_loss']:.4f}\")\n",
        "print(f\"Train Reconstruction SSIM: {results['train_ssim']:.4f}\")\n",
        "print(f\"Validation Reconstruction Loss: {results['val_loss']:.4f}\")\n",
        "print(f\"Validation Reconstruction SSIM: {results['val_ssim']:.4f}\")"
      ]
    },
    {
      "cell_type": "code",
      "execution_count": null,
      "metadata": {
        "id": "JUMTRw9TcBzr"
      },
      "outputs": [],
      "source": [
        "'''\n",
        "sym_model_by_asym_code = DeepConvAsymmetricAutoencoder(\n",
        "    inp_side_len=32,  # CIFAR-100 images are 32x32\n",
        "    dims=(32, 64, 128, 256, 512),    # 5 layers\n",
        "    kernel_sizes=3,\n",
        "    central_dim=256,\n",
        "    num_layers_less=0,\n",
        "    in_channels=3  # CIFAR-100 has 3 channels (RGB)\n",
        ").to(device)\n",
        "\n",
        "\n",
        "# Define loss function and optimizer\n",
        "criterion = nn.MSELoss()\n",
        "optimizer = optim.Adam(sym_model_by_asym_code.parameters(), lr=0.001)\n",
        "\n",
        "save_dir_symmetric_by_asymmetric_code = '/content/gdrive/My Drive/checkpoints/SymmetricAutoencoderByAsymmetricCode'\n",
        "start_epoch_symmetric_by_asym_code = load_checkpoint(sym_model_by_asym_code, save_dir_symmetric_by_asymmetric_code, num_epochs)\n",
        "\n",
        "train_model(\n",
        "    sym_model_by_asym_code,\n",
        "    start_epoch_symmetric_by_asym_code,\n",
        "    num_epochs,\n",
        "    save_dir_symmetric_by_asymmetric_code,\n",
        "    train_loader,\n",
        "    val_loader,\n",
        "    criterion,\n",
        "    optimizer,\n",
        "    device\n",
        ")\n",
        "\n",
        "display_reconstruction(sym_model_by_asym_code, val_loader, device, n=1)\n",
        "'''"
      ]
    },
    {
      "cell_type": "code",
      "source": [
        "use_cuda = torch.cuda.is_available()\n",
        "device = torch.device(\"cuda\" if use_cuda else \"cpu\")\n",
        "device"
      ],
      "metadata": {
        "colab": {
          "base_uri": "https://localhost:8080/"
        },
        "id": "H9ALo56Of4jP",
        "outputId": "948e9205-98fc-4321-ced1-eb5ae9a69927"
      },
      "execution_count": null,
      "outputs": [
        {
          "output_type": "execute_result",
          "data": {
            "text/plain": [
              "device(type='cuda')"
            ]
          },
          "metadata": {},
          "execution_count": 3
        }
      ]
    },
    {
      "cell_type": "code",
      "source": [
        "train_data = datasets.CIFAR100('./', train=True, download=True)\n",
        "\n",
        "# Stick all the images together to form a 1600000 X 32 X 3 array\n",
        "x = np.concatenate([np.asarray(train_data[i][0]) for i in range(len(train_data))])\n",
        "\n",
        "# calculate the mean and std along the (0, 1) axes\n",
        "mean = np.mean(x, axis=(0, 1))/255\n",
        "std = np.std(x, axis=(0, 1))/255\n",
        "# the the mean and std\n",
        "mean=mean.tolist()\n",
        "std=std.tolist()"
      ],
      "metadata": {
        "colab": {
          "base_uri": "https://localhost:8080/"
        },
        "id": "HG6559QZf4NT",
        "outputId": "4173077d-777b-4837-d991-df52ac327c3c"
      },
      "execution_count": null,
      "outputs": [
        {
          "output_type": "stream",
          "name": "stdout",
          "text": [
            "Downloading https://www.cs.toronto.edu/~kriz/cifar-100-python.tar.gz to ./cifar-100-python.tar.gz\n"
          ]
        },
        {
          "output_type": "stream",
          "name": "stderr",
          "text": [
            "100%|██████████| 169M/169M [00:02<00:00, 74.6MB/s]\n"
          ]
        },
        {
          "output_type": "stream",
          "name": "stdout",
          "text": [
            "Extracting ./cifar-100-python.tar.gz to ./\n"
          ]
        }
      ]
    },
    {
      "cell_type": "code",
      "execution_count": null,
      "metadata": {
        "id": "MSvXMRGkgfoN",
        "colab": {
          "base_uri": "https://localhost:8080/"
        },
        "outputId": "8007a203-815f-4f4d-e69d-92b5fac12107"
      },
      "outputs": [
        {
          "output_type": "stream",
          "name": "stdout",
          "text": [
            "Files already downloaded and verified\n",
            "Files already downloaded and verified\n"
          ]
        }
      ],
      "source": [
        "from torchvision import transforms as T\n",
        "\n",
        "batch_size = 128\n",
        "\n",
        "\n",
        "train_transform = T.Compose([\n",
        "    T.RandomCrop(32, padding=4),\n",
        "    T.RandomHorizontalFlip(),\n",
        "    T.RandomRotation(15),\n",
        "    T.ToTensor(),\n",
        "    T.Normalize(mean, std, inplace=True)\n",
        "])\n",
        "\n",
        "test_transform = T.Compose([\n",
        "                # T.Resize(256), # Resize images to 256 x 256\n",
        "                # T.CenterCrop(224), # Center crop image\n",
        "                # T.RandomHorizontalFlip(),\n",
        "                T.ToTensor(),  # Converting cropped images to tensors\n",
        "                T.Normalize(mean, std)\n",
        "])\n",
        "\n",
        "\n",
        "trainset = datasets.CIFAR100(\"./\",\n",
        "                                         train=True,\n",
        "                                         download=True,\n",
        "                                         transform=train_transform)\n",
        "train_loader = torch.utils.data.DataLoader(\n",
        "    trainset, batch_size, shuffle=True, num_workers=2,pin_memory=True)\n",
        "\n",
        "testset = datasets.CIFAR100(\"./\",\n",
        "                                        train=False,\n",
        "                                        download=True,\n",
        "                                        transform=test_transform)\n",
        "test_loader = torch.utils.data.DataLoader(\n",
        "    testset, batch_size*2,pin_memory=True, num_workers=2)"
      ]
    },
    {
      "cell_type": "code",
      "execution_count": null,
      "metadata": {
        "id": "mlKN5sDwdv50"
      },
      "outputs": [],
      "source": [
        "class Autoencoder(nn.Module):\n",
        "    def __init__(self):\n",
        "        super(Autoencoder, self).__init__()\n",
        "        # Input size: [batch, 3, 32, 32]\n",
        "        # Output size: [batch, 3, 32, 32]\n",
        "        self.encoder = nn.Sequential(\n",
        "            nn.Conv2d(3, 12, 4, stride=2, padding=1),            # [batch, 12, 16, 16]\n",
        "            nn.ReLU(),\n",
        "            nn.Conv2d(12, 24, 4, stride=2, padding=1),           # [batch, 24, 8, 8]\n",
        "            nn.ReLU(),\n",
        "            nn.Conv2d(24, 48, 4, stride=2, padding=1),           # [batch, 48, 4, 4]\n",
        "            nn.ReLU(),\n",
        "        )\n",
        "        self.decoder = nn.Sequential(\n",
        "            nn.ConvTranspose2d(48, 24, 4, stride=2, padding=1),  # [batch, 24, 8, 8]\n",
        "            nn.ReLU(),\n",
        "            nn.ConvTranspose2d(24, 12, 4, stride=2, padding=1),  # [batch, 12, 16, 16]\n",
        "            nn.ReLU(),\n",
        "            nn.ConvTranspose2d(12, 3, 4, stride=2, padding=1),   # [batch, 3, 32, 32]\n",
        "            nn.Sigmoid(),\n",
        "        )\n",
        "\n",
        "    def forward(self, x):\n",
        "        encoded = self.encoder(x)\n",
        "        decoded = self.decoder(encoded)\n",
        "        return decoded, encoded.view(-1, 48*4*4)\n"
      ]
    },
    {
      "cell_type": "code",
      "execution_count": null,
      "metadata": {
        "id": "sCG9df5AQYlK"
      },
      "outputs": [],
      "source": [
        "from torch.optim import lr_scheduler\n",
        "model_ft = Autoencoder()\n",
        "model_ft = model_ft.to(device)\n",
        "\n",
        "criterion = nn.MSELoss()\n",
        "\n",
        "optimizer_ft = optim.SGD(model_ft.parameters(), lr=0.1, momentum=0.9, weight_decay=5e-4)\n",
        "exp_lr_scheduler = optim.lr_scheduler.MultiStepLR(optimizer_ft, milestones=[60, 120, 160], gamma=0.2)"
      ]
    },
    {
      "cell_type": "code",
      "source": [
        "dataloaders = {\n",
        "    'train': train_loader,\n",
        "    'val': test_loader,\n",
        "    'test': test_loader\n",
        "}\n",
        "dataset_sizes = {\n",
        "    'train': len(train_loader.dataset),\n",
        "    'val': len(test_loader.dataset),\n",
        "    'test': len(test_loader.dataset),\n",
        "}"
      ],
      "metadata": {
        "id": "WUx1FQocgKXr"
      },
      "execution_count": null,
      "outputs": []
    },
    {
      "cell_type": "code",
      "source": [
        "\n",
        "\n",
        "import time\n",
        "import copy\n",
        "from torchmetrics import StructuralSimilarityIndexMeasure\n",
        "from tqdm import tqdm\n",
        "from torch import autograd\n",
        "\n",
        "def train_model(model, criterion, optimizer, scheduler, num_epochs=25):\n",
        "    since = time.time()\n",
        "\n",
        "    best_model_wts = copy.deepcopy(model.state_dict())\n",
        "    best_loss = float('inf')\n",
        "\n",
        "    for epoch in range(num_epochs):\n",
        "        print(f'Epoch {epoch}/{num_epochs - 1}')\n",
        "        print('-' * 10)\n",
        "\n",
        "        # Each epoch has a training and validation phase\n",
        "        for phase in ['train', 'val']:\n",
        "            if phase == 'train':\n",
        "                model.train()  # Set model to training mode\n",
        "            else:\n",
        "                model.eval()   # Set model to evaluate mode\n",
        "\n",
        "            running_loss = 0.0\n",
        "            ssim_metric = StructuralSimilarityIndexMeasure(data_range=1.0).to(device)\n",
        "            running_ssim = 0.0\n",
        "\n",
        "            # Iterate over data\n",
        "            for inputs, _ in tqdm(dataloaders[phase]):\n",
        "                inputs = inputs.to(device)\n",
        "\n",
        "                # Zero the parameter gradients\n",
        "                optimizer.zero_grad()\n",
        "\n",
        "                # Forward pass\n",
        "                with torch.set_grad_enabled(phase == 'train'):\n",
        "                    reconstructed_img, _ = model(inputs)\n",
        "                    loss = criterion(reconstructed_img, inputs)\n",
        "\n",
        "                    # Backward pass and optimize only in training phase\n",
        "                    if phase == 'train':\n",
        "                        with autograd.detect_anomaly():\n",
        "                            loss.backward()\n",
        "                            optimizer.step()\n",
        "\n",
        "                # Update statistics\n",
        "                running_loss += loss.item() * inputs.size(0)\n",
        "                ssim_metric.update(reconstructed_img, inputs)\n",
        "\n",
        "            # Compute phase metrics\n",
        "            epoch_loss = running_loss / dataset_sizes[phase]\n",
        "            epoch_ssim = ssim_metric.compute().item() * 100  # Convert to percentage\n",
        "            ssim_metric.reset()  # Reset metric for the next phase\n",
        "\n",
        "            print(f'{phase} Loss: {epoch_loss:.4f}, SSIM: {epoch_ssim:.2f}%')\n",
        "\n",
        "            # Adjust learning rate if in training phase\n",
        "            if phase == 'train':\n",
        "                scheduler.step()\n",
        "\n",
        "            # Save the best model based on validation loss\n",
        "            if phase == 'val' and epoch_loss < best_loss:\n",
        "                print('Saving best model...')\n",
        "                state = {\n",
        "                    'model': model.state_dict(),\n",
        "                    'loss': epoch_loss,\n",
        "                    'epoch': epoch,\n",
        "                }\n",
        "                torch.save(state, './tiny_ae_layers5.pth')\n",
        "                best_loss = epoch_loss\n",
        "                best_model_wts = copy.deepcopy(model.state_dict())\n",
        "\n",
        "        print()\n",
        "\n",
        "    # Time elapsed\n",
        "    time_elapsed = time.time() - since\n",
        "    print(f'Training complete in {time_elapsed // 60:.0f}m {time_elapsed % 60:.0f}s')\n",
        "    print(f'Best val loss: {best_loss:.4f}')\n",
        "\n",
        "    # Load best model weights\n",
        "    model.load_state_dict(best_model_wts)\n",
        "    return model\n"
      ],
      "metadata": {
        "id": "5Ta8POvNet0j"
      },
      "execution_count": null,
      "outputs": []
    },
    {
      "cell_type": "code",
      "execution_count": null,
      "metadata": {
        "id": "b4EkyZidGpqa",
        "colab": {
          "base_uri": "https://localhost:8080/"
        },
        "outputId": "64a85487-8e79-4f62-8770-e38c3ff2b8a3"
      },
      "outputs": [
        {
          "metadata": {
            "tags": null
          },
          "name": "stderr",
          "output_type": "stream",
          "text": [
            "/usr/local/lib/python3.10/dist-packages/torchmetrics/utilities/prints.py:62: FutureWarning: Importing `StructuralSimilarityIndexMeasure` from `torchmetrics` was deprecated and will be removed in 2.0. Import `StructuralSimilarityIndexMeasure` from `torchmetrics.image` instead.\n",
            "  _future_warning(\n"
          ]
        },
        {
          "metadata": {
            "tags": null
          },
          "name": "stdout",
          "output_type": "stream",
          "text": [
            "Epoch 0/199\n",
            "----------\n"
          ]
        },
        {
          "metadata": {
            "tags": null
          },
          "name": "stderr",
          "output_type": "stream",
          "text": [
            "  0%|          | 0/391 [00:00<?, ?it/s]<ipython-input-18-7604379977f2>:42: UserWarning: Anomaly Detection has been enabled. This mode will increase the runtime and should only be enabled for debugging.\n",
            "  with autograd.detect_anomaly():\n",
            "100%|██████████| 391/391 [00:14<00:00, 26.08it/s]\n"
          ]
        },
        {
          "metadata": {
            "tags": null
          },
          "name": "stdout",
          "output_type": "stream",
          "text": [
            "train Loss: 1.3607, SSIM: -0.02%\n"
          ]
        },
        {
          "metadata": {
            "tags": null
          },
          "name": "stderr",
          "output_type": "stream",
          "text": [
            "100%|██████████| 40/40 [00:01<00:00, 25.38it/s]\n"
          ]
        },
        {
          "metadata": {
            "tags": null
          },
          "name": "stdout",
          "output_type": "stream",
          "text": [
            "val Loss: 1.0068, SSIM: 0.04%\n",
            "Saving best model...\n",
            "\n",
            "Epoch 1/199\n",
            "----------\n"
          ]
        },
        {
          "metadata": {
            "tags": null
          },
          "name": "stderr",
          "output_type": "stream",
          "text": [
            "100%|██████████| 391/391 [00:13<00:00, 29.19it/s]\n"
          ]
        },
        {
          "metadata": {
            "tags": null
          },
          "name": "stdout",
          "output_type": "stream",
          "text": [
            "train Loss: 1.3379, SSIM: 0.01%\n"
          ]
        },
        {
          "metadata": {
            "tags": null
          },
          "name": "stderr",
          "output_type": "stream",
          "text": [
            "100%|██████████| 40/40 [00:01<00:00, 27.80it/s]\n"
          ]
        },
        {
          "metadata": {
            "tags": null
          },
          "name": "stdout",
          "output_type": "stream",
          "text": [
            "val Loss: 1.0068, SSIM: 0.04%\n",
            "\n",
            "Epoch 2/199\n",
            "----------\n"
          ]
        },
        {
          "metadata": {
            "tags": null
          },
          "name": "stderr",
          "output_type": "stream",
          "text": [
            "100%|██████████| 391/391 [00:13<00:00, 29.12it/s]\n"
          ]
        },
        {
          "metadata": {
            "tags": null
          },
          "name": "stdout",
          "output_type": "stream",
          "text": [
            "train Loss: 1.3374, SSIM: 0.01%\n"
          ]
        },
        {
          "metadata": {
            "tags": null
          },
          "name": "stderr",
          "output_type": "stream",
          "text": [
            "100%|██████████| 40/40 [00:01<00:00, 28.87it/s]\n"
          ]
        },
        {
          "metadata": {
            "tags": null
          },
          "name": "stdout",
          "output_type": "stream",
          "text": [
            "val Loss: 1.0067, SSIM: 0.04%\n",
            "Saving best model...\n",
            "\n",
            "Epoch 3/199\n",
            "----------\n"
          ]
        },
        {
          "metadata": {
            "tags": null
          },
          "name": "stderr",
          "output_type": "stream",
          "text": [
            "100%|██████████| 391/391 [00:13<00:00, 29.73it/s]\n"
          ]
        },
        {
          "metadata": {
            "tags": null
          },
          "name": "stdout",
          "output_type": "stream",
          "text": [
            "train Loss: 1.3361, SSIM: 0.02%\n"
          ]
        },
        {
          "metadata": {
            "tags": null
          },
          "name": "stderr",
          "output_type": "stream",
          "text": [
            "100%|██████████| 40/40 [00:01<00:00, 28.69it/s]\n"
          ]
        },
        {
          "metadata": {
            "tags": null
          },
          "name": "stdout",
          "output_type": "stream",
          "text": [
            "val Loss: 1.0058, SSIM: 0.05%\n",
            "Saving best model...\n",
            "\n",
            "Epoch 4/199\n",
            "----------\n"
          ]
        },
        {
          "metadata": {
            "tags": null
          },
          "name": "stderr",
          "output_type": "stream",
          "text": [
            "100%|██████████| 391/391 [00:13<00:00, 29.63it/s]\n"
          ]
        },
        {
          "metadata": {
            "tags": null
          },
          "name": "stdout",
          "output_type": "stream",
          "text": [
            "train Loss: 1.3359, SSIM: 0.02%\n"
          ]
        },
        {
          "metadata": {
            "tags": null
          },
          "name": "stderr",
          "output_type": "stream",
          "text": [
            "100%|██████████| 40/40 [00:01<00:00, 27.30it/s]\n"
          ]
        },
        {
          "metadata": {
            "tags": null
          },
          "name": "stdout",
          "output_type": "stream",
          "text": [
            "val Loss: 0.9804, SSIM: 0.26%\n",
            "Saving best model...\n",
            "\n",
            "Epoch 5/199\n",
            "----------\n"
          ]
        },
        {
          "metadata": {
            "tags": null
          },
          "name": "stderr",
          "output_type": "stream",
          "text": [
            "100%|██████████| 391/391 [00:13<00:00, 28.75it/s]\n"
          ]
        },
        {
          "metadata": {
            "tags": null
          },
          "name": "stdout",
          "output_type": "stream",
          "text": [
            "train Loss: 1.1368, SSIM: 4.80%\n"
          ]
        },
        {
          "metadata": {
            "tags": null
          },
          "name": "stderr",
          "output_type": "stream",
          "text": [
            "100%|██████████| 40/40 [00:01<00:00, 26.45it/s]\n"
          ]
        },
        {
          "metadata": {
            "tags": null
          },
          "name": "stdout",
          "output_type": "stream",
          "text": [
            "val Loss: 0.6383, SSIM: 9.89%\n",
            "Saving best model...\n",
            "\n",
            "Epoch 6/199\n",
            "----------\n"
          ]
        },
        {
          "metadata": {
            "tags": null
          },
          "name": "stderr",
          "output_type": "stream",
          "text": [
            "100%|██████████| 391/391 [00:13<00:00, 28.62it/s]\n"
          ]
        },
        {
          "metadata": {
            "tags": null
          },
          "name": "stdout",
          "output_type": "stream",
          "text": [
            "train Loss: 1.0595, SSIM: 8.26%\n"
          ]
        },
        {
          "metadata": {
            "tags": null
          },
          "name": "stderr",
          "output_type": "stream",
          "text": [
            "100%|██████████| 40/40 [00:01<00:00, 27.40it/s]\n"
          ]
        },
        {
          "metadata": {
            "tags": null
          },
          "name": "stdout",
          "output_type": "stream",
          "text": [
            "val Loss: 0.6155, SSIM: 12.09%\n",
            "Saving best model...\n",
            "\n",
            "Epoch 7/199\n",
            "----------\n"
          ]
        },
        {
          "metadata": {
            "tags": null
          },
          "name": "stderr",
          "output_type": "stream",
          "text": [
            "100%|██████████| 391/391 [00:13<00:00, 28.52it/s]\n"
          ]
        },
        {
          "metadata": {
            "tags": null
          },
          "name": "stdout",
          "output_type": "stream",
          "text": [
            "train Loss: 1.0406, SSIM: 9.39%\n"
          ]
        },
        {
          "metadata": {
            "tags": null
          },
          "name": "stderr",
          "output_type": "stream",
          "text": [
            "100%|██████████| 40/40 [00:01<00:00, 26.66it/s]\n"
          ]
        },
        {
          "metadata": {
            "tags": null
          },
          "name": "stdout",
          "output_type": "stream",
          "text": [
            "val Loss: 0.5959, SSIM: 13.24%\n",
            "Saving best model...\n",
            "\n",
            "Epoch 8/199\n",
            "----------\n"
          ]
        },
        {
          "metadata": {
            "tags": null
          },
          "name": "stderr",
          "output_type": "stream",
          "text": [
            "100%|██████████| 391/391 [00:13<00:00, 28.48it/s]\n"
          ]
        },
        {
          "metadata": {
            "tags": null
          },
          "name": "stdout",
          "output_type": "stream",
          "text": [
            "train Loss: 1.0245, SSIM: 10.46%\n"
          ]
        },
        {
          "metadata": {
            "tags": null
          },
          "name": "stderr",
          "output_type": "stream",
          "text": [
            "100%|██████████| 40/40 [00:01<00:00, 27.70it/s]\n"
          ]
        },
        {
          "metadata": {
            "tags": null
          },
          "name": "stdout",
          "output_type": "stream",
          "text": [
            "val Loss: 0.5809, SSIM: 15.99%\n",
            "Saving best model...\n",
            "\n",
            "Epoch 9/199\n",
            "----------\n"
          ]
        },
        {
          "metadata": {
            "tags": null
          },
          "name": "stderr",
          "output_type": "stream",
          "text": [
            "100%|██████████| 391/391 [00:13<00:00, 28.45it/s]\n"
          ]
        },
        {
          "metadata": {
            "tags": null
          },
          "name": "stdout",
          "output_type": "stream",
          "text": [
            "train Loss: 1.0130, SSIM: 11.43%\n"
          ]
        },
        {
          "metadata": {
            "tags": null
          },
          "name": "stderr",
          "output_type": "stream",
          "text": [
            "100%|██████████| 40/40 [00:01<00:00, 26.85it/s]\n"
          ]
        },
        {
          "metadata": {
            "tags": null
          },
          "name": "stdout",
          "output_type": "stream",
          "text": [
            "val Loss: 0.5740, SSIM: 17.13%\n",
            "Saving best model...\n",
            "\n",
            "Epoch 10/199\n",
            "----------\n"
          ]
        },
        {
          "metadata": {
            "tags": null
          },
          "name": "stderr",
          "output_type": "stream",
          "text": [
            "100%|██████████| 391/391 [00:13<00:00, 28.99it/s]\n"
          ]
        },
        {
          "metadata": {
            "tags": null
          },
          "name": "stdout",
          "output_type": "stream",
          "text": [
            "train Loss: 1.0055, SSIM: 11.95%\n"
          ]
        },
        {
          "metadata": {
            "tags": null
          },
          "name": "stderr",
          "output_type": "stream",
          "text": [
            "100%|██████████| 40/40 [00:01<00:00, 28.76it/s]\n"
          ]
        },
        {
          "metadata": {
            "tags": null
          },
          "name": "stdout",
          "output_type": "stream",
          "text": [
            "val Loss: 0.5709, SSIM: 18.34%\n",
            "Saving best model...\n",
            "\n",
            "Epoch 11/199\n",
            "----------\n"
          ]
        },
        {
          "metadata": {
            "tags": null
          },
          "name": "stderr",
          "output_type": "stream",
          "text": [
            "100%|██████████| 391/391 [00:13<00:00, 28.96it/s]\n"
          ]
        },
        {
          "metadata": {
            "tags": null
          },
          "name": "stdout",
          "output_type": "stream",
          "text": [
            "train Loss: 1.0017, SSIM: 12.43%\n"
          ]
        },
        {
          "metadata": {
            "tags": null
          },
          "name": "stderr",
          "output_type": "stream",
          "text": [
            "100%|██████████| 40/40 [00:01<00:00, 25.25it/s]\n"
          ]
        },
        {
          "metadata": {
            "tags": null
          },
          "name": "stdout",
          "output_type": "stream",
          "text": [
            "val Loss: 0.5645, SSIM: 18.00%\n",
            "Saving best model...\n",
            "\n",
            "Epoch 12/199\n",
            "----------\n"
          ]
        },
        {
          "metadata": {
            "tags": null
          },
          "name": "stderr",
          "output_type": "stream",
          "text": [
            "100%|██████████| 391/391 [00:13<00:00, 29.33it/s]\n"
          ]
        },
        {
          "metadata": {
            "tags": null
          },
          "name": "stdout",
          "output_type": "stream",
          "text": [
            "train Loss: 0.9974, SSIM: 12.82%\n"
          ]
        },
        {
          "metadata": {
            "tags": null
          },
          "name": "stderr",
          "output_type": "stream",
          "text": [
            "100%|██████████| 40/40 [00:01<00:00, 27.61it/s]\n"
          ]
        },
        {
          "metadata": {
            "tags": null
          },
          "name": "stdout",
          "output_type": "stream",
          "text": [
            "val Loss: 0.5633, SSIM: 17.79%\n",
            "Saving best model...\n",
            "\n",
            "Epoch 13/199\n",
            "----------\n"
          ]
        },
        {
          "metadata": {
            "tags": null
          },
          "name": "stderr",
          "output_type": "stream",
          "text": [
            "100%|██████████| 391/391 [00:13<00:00, 29.75it/s]\n"
          ]
        },
        {
          "metadata": {
            "tags": null
          },
          "name": "stdout",
          "output_type": "stream",
          "text": [
            "train Loss: 0.9957, SSIM: 13.04%\n"
          ]
        },
        {
          "metadata": {
            "tags": null
          },
          "name": "stderr",
          "output_type": "stream",
          "text": [
            "100%|██████████| 40/40 [00:01<00:00, 28.06it/s]\n"
          ]
        },
        {
          "metadata": {
            "tags": null
          },
          "name": "stdout",
          "output_type": "stream",
          "text": [
            "val Loss: 0.5622, SSIM: 17.87%\n",
            "Saving best model...\n",
            "\n",
            "Epoch 14/199\n",
            "----------\n"
          ]
        },
        {
          "metadata": {
            "tags": null
          },
          "name": "stderr",
          "output_type": "stream",
          "text": [
            "100%|██████████| 391/391 [00:13<00:00, 29.75it/s]\n"
          ]
        },
        {
          "metadata": {
            "tags": null
          },
          "name": "stdout",
          "output_type": "stream",
          "text": [
            "train Loss: 0.9949, SSIM: 13.19%\n"
          ]
        },
        {
          "metadata": {
            "tags": null
          },
          "name": "stderr",
          "output_type": "stream",
          "text": [
            "100%|██████████| 40/40 [00:01<00:00, 28.36it/s]\n"
          ]
        },
        {
          "metadata": {
            "tags": null
          },
          "name": "stdout",
          "output_type": "stream",
          "text": [
            "val Loss: 0.5599, SSIM: 18.88%\n",
            "Saving best model...\n",
            "\n",
            "Epoch 15/199\n",
            "----------\n"
          ]
        },
        {
          "output_type": "stream",
          "name": "stderr",
          "text": [
            "100%|██████████| 391/391 [00:13<00:00, 29.88it/s]\n"
          ]
        },
        {
          "output_type": "stream",
          "name": "stdout",
          "text": [
            "train Loss: 0.9938, SSIM: 13.32%\n"
          ]
        },
        {
          "output_type": "stream",
          "name": "stderr",
          "text": [
            "100%|██████████| 40/40 [00:01<00:00, 26.35it/s]\n"
          ]
        },
        {
          "output_type": "stream",
          "name": "stdout",
          "text": [
            "val Loss: 0.5587, SSIM: 19.39%\n",
            "Saving best model...\n",
            "\n",
            "Epoch 16/199\n",
            "----------\n"
          ]
        },
        {
          "output_type": "stream",
          "name": "stderr",
          "text": [
            "100%|██████████| 391/391 [00:13<00:00, 29.51it/s]\n"
          ]
        },
        {
          "output_type": "stream",
          "name": "stdout",
          "text": [
            "train Loss: 0.9933, SSIM: 13.40%\n"
          ]
        },
        {
          "output_type": "stream",
          "name": "stderr",
          "text": [
            "100%|██████████| 40/40 [00:01<00:00, 27.76it/s]\n"
          ]
        },
        {
          "output_type": "stream",
          "name": "stdout",
          "text": [
            "val Loss: 0.5581, SSIM: 19.41%\n",
            "Saving best model...\n",
            "\n",
            "Epoch 17/199\n",
            "----------\n"
          ]
        },
        {
          "output_type": "stream",
          "name": "stderr",
          "text": [
            "100%|██████████| 391/391 [00:13<00:00, 29.58it/s]\n"
          ]
        },
        {
          "output_type": "stream",
          "name": "stdout",
          "text": [
            "train Loss: 0.9924, SSIM: 13.47%\n"
          ]
        },
        {
          "output_type": "stream",
          "name": "stderr",
          "text": [
            "100%|██████████| 40/40 [00:01<00:00, 29.40it/s]\n"
          ]
        },
        {
          "output_type": "stream",
          "name": "stdout",
          "text": [
            "val Loss: 0.5582, SSIM: 20.26%\n",
            "\n",
            "Epoch 18/199\n",
            "----------\n"
          ]
        },
        {
          "output_type": "stream",
          "name": "stderr",
          "text": [
            "100%|██████████| 391/391 [00:13<00:00, 29.96it/s]\n"
          ]
        },
        {
          "output_type": "stream",
          "name": "stdout",
          "text": [
            "train Loss: 0.9913, SSIM: 13.55%\n"
          ]
        },
        {
          "output_type": "stream",
          "name": "stderr",
          "text": [
            "100%|██████████| 40/40 [00:01<00:00, 28.65it/s]\n"
          ]
        },
        {
          "output_type": "stream",
          "name": "stdout",
          "text": [
            "val Loss: 0.5593, SSIM: 20.97%\n",
            "\n",
            "Epoch 19/199\n",
            "----------\n"
          ]
        },
        {
          "output_type": "stream",
          "name": "stderr",
          "text": [
            "100%|██████████| 391/391 [00:13<00:00, 29.52it/s]\n"
          ]
        },
        {
          "output_type": "stream",
          "name": "stdout",
          "text": [
            "train Loss: 0.9919, SSIM: 13.60%\n"
          ]
        },
        {
          "output_type": "stream",
          "name": "stderr",
          "text": [
            "100%|██████████| 40/40 [00:01<00:00, 26.44it/s]\n"
          ]
        },
        {
          "output_type": "stream",
          "name": "stdout",
          "text": [
            "val Loss: 0.5570, SSIM: 19.49%\n",
            "Saving best model...\n",
            "\n",
            "Epoch 20/199\n",
            "----------\n"
          ]
        },
        {
          "output_type": "stream",
          "name": "stderr",
          "text": [
            "100%|██████████| 391/391 [00:12<00:00, 30.08it/s]\n"
          ]
        },
        {
          "output_type": "stream",
          "name": "stdout",
          "text": [
            "train Loss: 0.9911, SSIM: 13.63%\n"
          ]
        },
        {
          "output_type": "stream",
          "name": "stderr",
          "text": [
            "100%|██████████| 40/40 [00:01<00:00, 28.59it/s]\n"
          ]
        },
        {
          "output_type": "stream",
          "name": "stdout",
          "text": [
            "val Loss: 0.5563, SSIM: 20.10%\n",
            "Saving best model...\n",
            "\n",
            "Epoch 21/199\n",
            "----------\n"
          ]
        },
        {
          "output_type": "stream",
          "name": "stderr",
          "text": [
            "100%|██████████| 391/391 [00:13<00:00, 30.07it/s]\n"
          ]
        },
        {
          "output_type": "stream",
          "name": "stdout",
          "text": [
            "train Loss: 0.9896, SSIM: 13.68%\n"
          ]
        },
        {
          "output_type": "stream",
          "name": "stderr",
          "text": [
            "100%|██████████| 40/40 [00:01<00:00, 30.12it/s]\n"
          ]
        },
        {
          "output_type": "stream",
          "name": "stdout",
          "text": [
            "val Loss: 0.5565, SSIM: 20.73%\n",
            "\n",
            "Epoch 22/199\n",
            "----------\n"
          ]
        },
        {
          "output_type": "stream",
          "name": "stderr",
          "text": [
            "100%|██████████| 391/391 [00:13<00:00, 29.94it/s]\n"
          ]
        },
        {
          "output_type": "stream",
          "name": "stdout",
          "text": [
            "train Loss: 0.9906, SSIM: 13.69%\n"
          ]
        },
        {
          "output_type": "stream",
          "name": "stderr",
          "text": [
            "100%|██████████| 40/40 [00:01<00:00, 27.85it/s]\n"
          ]
        },
        {
          "output_type": "stream",
          "name": "stdout",
          "text": [
            "val Loss: 0.5564, SSIM: 19.45%\n",
            "\n",
            "Epoch 23/199\n",
            "----------\n"
          ]
        },
        {
          "output_type": "stream",
          "name": "stderr",
          "text": [
            "100%|██████████| 391/391 [00:13<00:00, 28.37it/s]\n"
          ]
        },
        {
          "output_type": "stream",
          "name": "stdout",
          "text": [
            "train Loss: 0.9914, SSIM: 13.68%\n"
          ]
        },
        {
          "output_type": "stream",
          "name": "stderr",
          "text": [
            "100%|██████████| 40/40 [00:01<00:00, 25.98it/s]\n"
          ]
        },
        {
          "output_type": "stream",
          "name": "stdout",
          "text": [
            "val Loss: 0.5557, SSIM: 20.10%\n",
            "Saving best model...\n",
            "\n",
            "Epoch 24/199\n",
            "----------\n"
          ]
        },
        {
          "output_type": "stream",
          "name": "stderr",
          "text": [
            "100%|██████████| 391/391 [00:13<00:00, 28.47it/s]\n"
          ]
        },
        {
          "output_type": "stream",
          "name": "stdout",
          "text": [
            "train Loss: 0.9905, SSIM: 13.71%\n"
          ]
        },
        {
          "output_type": "stream",
          "name": "stderr",
          "text": [
            "100%|██████████| 40/40 [00:01<00:00, 27.07it/s]\n"
          ]
        },
        {
          "output_type": "stream",
          "name": "stdout",
          "text": [
            "val Loss: 0.5558, SSIM: 20.45%\n",
            "\n",
            "Epoch 25/199\n",
            "----------\n"
          ]
        },
        {
          "output_type": "stream",
          "name": "stderr",
          "text": [
            "100%|██████████| 391/391 [00:13<00:00, 28.72it/s]\n"
          ]
        },
        {
          "output_type": "stream",
          "name": "stdout",
          "text": [
            "train Loss: 0.9907, SSIM: 13.73%\n"
          ]
        },
        {
          "output_type": "stream",
          "name": "stderr",
          "text": [
            "100%|██████████| 40/40 [00:01<00:00, 27.92it/s]\n"
          ]
        },
        {
          "output_type": "stream",
          "name": "stdout",
          "text": [
            "val Loss: 0.5558, SSIM: 20.64%\n",
            "\n",
            "Epoch 26/199\n",
            "----------\n"
          ]
        },
        {
          "output_type": "stream",
          "name": "stderr",
          "text": [
            "100%|██████████| 391/391 [00:13<00:00, 29.17it/s]\n"
          ]
        },
        {
          "output_type": "stream",
          "name": "stdout",
          "text": [
            "train Loss: 0.9898, SSIM: 13.74%\n"
          ]
        },
        {
          "output_type": "stream",
          "name": "stderr",
          "text": [
            "100%|██████████| 40/40 [00:01<00:00, 27.62it/s]\n"
          ]
        },
        {
          "output_type": "stream",
          "name": "stdout",
          "text": [
            "val Loss: 0.5556, SSIM: 20.33%\n",
            "Saving best model...\n",
            "\n",
            "Epoch 27/199\n",
            "----------\n"
          ]
        },
        {
          "output_type": "stream",
          "name": "stderr",
          "text": [
            "100%|██████████| 391/391 [00:13<00:00, 28.54it/s]\n"
          ]
        },
        {
          "output_type": "stream",
          "name": "stdout",
          "text": [
            "train Loss: 0.9898, SSIM: 13.74%\n"
          ]
        },
        {
          "output_type": "stream",
          "name": "stderr",
          "text": [
            "100%|██████████| 40/40 [00:01<00:00, 26.47it/s]\n"
          ]
        },
        {
          "output_type": "stream",
          "name": "stdout",
          "text": [
            "val Loss: 0.5555, SSIM: 20.32%\n",
            "Saving best model...\n",
            "\n",
            "Epoch 28/199\n",
            "----------\n"
          ]
        },
        {
          "output_type": "stream",
          "name": "stderr",
          "text": [
            "100%|██████████| 391/391 [00:13<00:00, 28.73it/s]\n"
          ]
        },
        {
          "output_type": "stream",
          "name": "stdout",
          "text": [
            "train Loss: 0.9899, SSIM: 13.74%\n"
          ]
        },
        {
          "output_type": "stream",
          "name": "stderr",
          "text": [
            "100%|██████████| 40/40 [00:01<00:00, 28.17it/s]\n"
          ]
        },
        {
          "output_type": "stream",
          "name": "stdout",
          "text": [
            "val Loss: 0.5554, SSIM: 20.43%\n",
            "Saving best model...\n",
            "\n",
            "Epoch 29/199\n",
            "----------\n"
          ]
        },
        {
          "output_type": "stream",
          "name": "stderr",
          "text": [
            "100%|██████████| 391/391 [00:13<00:00, 28.52it/s]\n"
          ]
        },
        {
          "output_type": "stream",
          "name": "stdout",
          "text": [
            "train Loss: 0.9886, SSIM: 13.77%\n"
          ]
        },
        {
          "output_type": "stream",
          "name": "stderr",
          "text": [
            "100%|██████████| 40/40 [00:01<00:00, 27.99it/s]\n"
          ]
        },
        {
          "output_type": "stream",
          "name": "stdout",
          "text": [
            "val Loss: 0.5557, SSIM: 19.70%\n",
            "\n",
            "Epoch 30/199\n",
            "----------\n"
          ]
        },
        {
          "output_type": "stream",
          "name": "stderr",
          "text": [
            "100%|██████████| 391/391 [00:13<00:00, 28.46it/s]\n"
          ]
        },
        {
          "output_type": "stream",
          "name": "stdout",
          "text": [
            "train Loss: 0.9908, SSIM: 13.74%\n"
          ]
        },
        {
          "output_type": "stream",
          "name": "stderr",
          "text": [
            "100%|██████████| 40/40 [00:01<00:00, 28.09it/s]\n"
          ]
        },
        {
          "output_type": "stream",
          "name": "stdout",
          "text": [
            "val Loss: 0.5555, SSIM: 19.97%\n",
            "\n",
            "Epoch 31/199\n",
            "----------\n"
          ]
        },
        {
          "output_type": "stream",
          "name": "stderr",
          "text": [
            "100%|██████████| 391/391 [00:13<00:00, 28.59it/s]\n"
          ]
        },
        {
          "output_type": "stream",
          "name": "stdout",
          "text": [
            "train Loss: 0.9887, SSIM: 13.77%\n"
          ]
        },
        {
          "output_type": "stream",
          "name": "stderr",
          "text": [
            "100%|██████████| 40/40 [00:01<00:00, 27.33it/s]\n"
          ]
        },
        {
          "output_type": "stream",
          "name": "stdout",
          "text": [
            "val Loss: 0.5555, SSIM: 19.74%\n",
            "\n",
            "Epoch 32/199\n",
            "----------\n"
          ]
        },
        {
          "output_type": "stream",
          "name": "stderr",
          "text": [
            "100%|██████████| 391/391 [00:13<00:00, 28.75it/s]\n"
          ]
        },
        {
          "output_type": "stream",
          "name": "stdout",
          "text": [
            "train Loss: 0.9893, SSIM: 13.76%\n"
          ]
        },
        {
          "output_type": "stream",
          "name": "stderr",
          "text": [
            "100%|██████████| 40/40 [00:01<00:00, 27.69it/s]\n"
          ]
        },
        {
          "output_type": "stream",
          "name": "stdout",
          "text": [
            "val Loss: 0.5560, SSIM: 20.93%\n",
            "\n",
            "Epoch 33/199\n",
            "----------\n"
          ]
        },
        {
          "output_type": "stream",
          "name": "stderr",
          "text": [
            "100%|██████████| 391/391 [00:13<00:00, 28.78it/s]\n"
          ]
        },
        {
          "output_type": "stream",
          "name": "stdout",
          "text": [
            "train Loss: 0.9892, SSIM: 13.78%\n"
          ]
        },
        {
          "output_type": "stream",
          "name": "stderr",
          "text": [
            "100%|██████████| 40/40 [00:01<00:00, 26.18it/s]\n"
          ]
        },
        {
          "output_type": "stream",
          "name": "stdout",
          "text": [
            "val Loss: 0.5554, SSIM: 19.89%\n",
            "\n",
            "Epoch 34/199\n",
            "----------\n"
          ]
        },
        {
          "output_type": "stream",
          "name": "stderr",
          "text": [
            "100%|██████████| 391/391 [00:13<00:00, 29.05it/s]\n"
          ]
        },
        {
          "output_type": "stream",
          "name": "stdout",
          "text": [
            "train Loss: 0.9887, SSIM: 13.78%\n"
          ]
        },
        {
          "output_type": "stream",
          "name": "stderr",
          "text": [
            "100%|██████████| 40/40 [00:01<00:00, 27.59it/s]\n"
          ]
        },
        {
          "output_type": "stream",
          "name": "stdout",
          "text": [
            "val Loss: 0.5555, SSIM: 20.36%\n",
            "\n",
            "Epoch 35/199\n",
            "----------\n"
          ]
        },
        {
          "output_type": "stream",
          "name": "stderr",
          "text": [
            "100%|██████████| 391/391 [00:13<00:00, 29.20it/s]\n"
          ]
        },
        {
          "output_type": "stream",
          "name": "stdout",
          "text": [
            "train Loss: 0.9887, SSIM: 13.80%\n"
          ]
        },
        {
          "output_type": "stream",
          "name": "stderr",
          "text": [
            "100%|██████████| 40/40 [00:01<00:00, 27.66it/s]\n"
          ]
        },
        {
          "output_type": "stream",
          "name": "stdout",
          "text": [
            "val Loss: 0.5552, SSIM: 20.39%\n",
            "Saving best model...\n",
            "\n",
            "Epoch 36/199\n",
            "----------\n"
          ]
        },
        {
          "output_type": "stream",
          "name": "stderr",
          "text": [
            "100%|██████████| 391/391 [00:13<00:00, 29.04it/s]\n"
          ]
        },
        {
          "output_type": "stream",
          "name": "stdout",
          "text": [
            "train Loss: 0.9885, SSIM: 13.80%\n"
          ]
        },
        {
          "output_type": "stream",
          "name": "stderr",
          "text": [
            "100%|██████████| 40/40 [00:01<00:00, 27.87it/s]\n"
          ]
        },
        {
          "output_type": "stream",
          "name": "stdout",
          "text": [
            "val Loss: 0.5556, SSIM: 20.71%\n",
            "\n",
            "Epoch 37/199\n",
            "----------\n"
          ]
        },
        {
          "output_type": "stream",
          "name": "stderr",
          "text": [
            "100%|██████████| 391/391 [00:13<00:00, 29.19it/s]\n"
          ]
        },
        {
          "output_type": "stream",
          "name": "stdout",
          "text": [
            "train Loss: 0.9889, SSIM: 13.78%\n"
          ]
        },
        {
          "output_type": "stream",
          "name": "stderr",
          "text": [
            "100%|██████████| 40/40 [00:01<00:00, 27.72it/s]\n"
          ]
        },
        {
          "output_type": "stream",
          "name": "stdout",
          "text": [
            "val Loss: 0.5553, SSIM: 20.34%\n",
            "\n",
            "Epoch 38/199\n",
            "----------\n"
          ]
        },
        {
          "output_type": "stream",
          "name": "stderr",
          "text": [
            "100%|██████████| 391/391 [00:13<00:00, 29.49it/s]\n"
          ]
        },
        {
          "output_type": "stream",
          "name": "stdout",
          "text": [
            "train Loss: 0.9885, SSIM: 13.80%\n"
          ]
        },
        {
          "output_type": "stream",
          "name": "stderr",
          "text": [
            "100%|██████████| 40/40 [00:01<00:00, 28.72it/s]\n"
          ]
        },
        {
          "output_type": "stream",
          "name": "stdout",
          "text": [
            "val Loss: 0.5555, SSIM: 19.76%\n",
            "\n",
            "Epoch 39/199\n",
            "----------\n"
          ]
        },
        {
          "output_type": "stream",
          "name": "stderr",
          "text": [
            "100%|██████████| 391/391 [00:13<00:00, 29.41it/s]\n"
          ]
        },
        {
          "output_type": "stream",
          "name": "stdout",
          "text": [
            "train Loss: 0.9890, SSIM: 13.79%\n"
          ]
        },
        {
          "output_type": "stream",
          "name": "stderr",
          "text": [
            "100%|██████████| 40/40 [00:01<00:00, 28.24it/s]\n"
          ]
        },
        {
          "output_type": "stream",
          "name": "stdout",
          "text": [
            "val Loss: 0.5559, SSIM: 19.37%\n",
            "\n",
            "Epoch 40/199\n",
            "----------\n"
          ]
        },
        {
          "output_type": "stream",
          "name": "stderr",
          "text": [
            "100%|██████████| 391/391 [00:13<00:00, 29.50it/s]\n"
          ]
        },
        {
          "output_type": "stream",
          "name": "stdout",
          "text": [
            "train Loss: 0.9880, SSIM: 13.77%\n"
          ]
        },
        {
          "output_type": "stream",
          "name": "stderr",
          "text": [
            "100%|██████████| 40/40 [00:01<00:00, 27.39it/s]\n"
          ]
        },
        {
          "output_type": "stream",
          "name": "stdout",
          "text": [
            "val Loss: 0.5553, SSIM: 19.84%\n",
            "\n",
            "Epoch 41/199\n",
            "----------\n"
          ]
        },
        {
          "output_type": "stream",
          "name": "stderr",
          "text": [
            "100%|██████████| 391/391 [00:13<00:00, 29.21it/s]\n"
          ]
        },
        {
          "output_type": "stream",
          "name": "stdout",
          "text": [
            "train Loss: 0.9890, SSIM: 13.78%\n"
          ]
        },
        {
          "output_type": "stream",
          "name": "stderr",
          "text": [
            "100%|██████████| 40/40 [00:01<00:00, 26.84it/s]\n"
          ]
        },
        {
          "output_type": "stream",
          "name": "stdout",
          "text": [
            "val Loss: 0.5556, SSIM: 19.58%\n",
            "\n",
            "Epoch 42/199\n",
            "----------\n"
          ]
        },
        {
          "output_type": "stream",
          "name": "stderr",
          "text": [
            "100%|██████████| 391/391 [00:13<00:00, 29.18it/s]\n"
          ]
        },
        {
          "output_type": "stream",
          "name": "stdout",
          "text": [
            "train Loss: 0.9886, SSIM: 13.79%\n"
          ]
        },
        {
          "output_type": "stream",
          "name": "stderr",
          "text": [
            "100%|██████████| 40/40 [00:01<00:00, 27.62it/s]\n"
          ]
        },
        {
          "output_type": "stream",
          "name": "stdout",
          "text": [
            "val Loss: 0.5552, SSIM: 20.28%\n",
            "\n",
            "Epoch 43/199\n",
            "----------\n"
          ]
        },
        {
          "output_type": "stream",
          "name": "stderr",
          "text": [
            "100%|██████████| 391/391 [00:13<00:00, 29.72it/s]\n"
          ]
        },
        {
          "output_type": "stream",
          "name": "stdout",
          "text": [
            "train Loss: 0.9891, SSIM: 13.80%\n"
          ]
        },
        {
          "output_type": "stream",
          "name": "stderr",
          "text": [
            "100%|██████████| 40/40 [00:01<00:00, 27.79it/s]\n"
          ]
        },
        {
          "output_type": "stream",
          "name": "stdout",
          "text": [
            "val Loss: 0.5556, SSIM: 20.80%\n",
            "\n",
            "Epoch 44/199\n",
            "----------\n"
          ]
        },
        {
          "output_type": "stream",
          "name": "stderr",
          "text": [
            "100%|██████████| 391/391 [00:13<00:00, 29.33it/s]\n"
          ]
        },
        {
          "output_type": "stream",
          "name": "stdout",
          "text": [
            "train Loss: 0.9892, SSIM: 13.78%\n"
          ]
        },
        {
          "output_type": "stream",
          "name": "stderr",
          "text": [
            "100%|██████████| 40/40 [00:01<00:00, 26.30it/s]\n"
          ]
        },
        {
          "output_type": "stream",
          "name": "stdout",
          "text": [
            "val Loss: 0.5554, SSIM: 20.56%\n",
            "\n",
            "Epoch 45/199\n",
            "----------\n"
          ]
        },
        {
          "output_type": "stream",
          "name": "stderr",
          "text": [
            "100%|██████████| 391/391 [00:13<00:00, 28.75it/s]\n"
          ]
        },
        {
          "output_type": "stream",
          "name": "stdout",
          "text": [
            "train Loss: 0.9880, SSIM: 13.80%\n"
          ]
        },
        {
          "output_type": "stream",
          "name": "stderr",
          "text": [
            "100%|██████████| 40/40 [00:01<00:00, 27.33it/s]\n"
          ]
        },
        {
          "output_type": "stream",
          "name": "stdout",
          "text": [
            "val Loss: 0.5551, SSIM: 20.10%\n",
            "Saving best model...\n",
            "\n",
            "Epoch 46/199\n",
            "----------\n"
          ]
        },
        {
          "output_type": "stream",
          "name": "stderr",
          "text": [
            "100%|██████████| 391/391 [00:13<00:00, 29.11it/s]\n"
          ]
        },
        {
          "output_type": "stream",
          "name": "stdout",
          "text": [
            "train Loss: 0.9889, SSIM: 13.79%\n"
          ]
        },
        {
          "output_type": "stream",
          "name": "stderr",
          "text": [
            "100%|██████████| 40/40 [00:01<00:00, 27.48it/s]\n"
          ]
        },
        {
          "output_type": "stream",
          "name": "stdout",
          "text": [
            "val Loss: 0.5555, SSIM: 19.64%\n",
            "\n",
            "Epoch 47/199\n",
            "----------\n"
          ]
        },
        {
          "output_type": "stream",
          "name": "stderr",
          "text": [
            "100%|██████████| 391/391 [00:13<00:00, 29.07it/s]\n"
          ]
        },
        {
          "output_type": "stream",
          "name": "stdout",
          "text": [
            "train Loss: 0.9886, SSIM: 13.78%\n"
          ]
        },
        {
          "output_type": "stream",
          "name": "stderr",
          "text": [
            "100%|██████████| 40/40 [00:01<00:00, 28.27it/s]\n"
          ]
        },
        {
          "output_type": "stream",
          "name": "stdout",
          "text": [
            "val Loss: 0.5558, SSIM: 19.52%\n",
            "\n",
            "Epoch 48/199\n",
            "----------\n"
          ]
        },
        {
          "output_type": "stream",
          "name": "stderr",
          "text": [
            "100%|██████████| 391/391 [00:13<00:00, 28.94it/s]\n"
          ]
        },
        {
          "output_type": "stream",
          "name": "stdout",
          "text": [
            "train Loss: 0.9890, SSIM: 13.79%\n"
          ]
        },
        {
          "output_type": "stream",
          "name": "stderr",
          "text": [
            "100%|██████████| 40/40 [00:01<00:00, 27.28it/s]\n"
          ]
        },
        {
          "output_type": "stream",
          "name": "stdout",
          "text": [
            "val Loss: 0.5551, SSIM: 19.95%\n",
            "\n",
            "Epoch 49/199\n",
            "----------\n"
          ]
        },
        {
          "output_type": "stream",
          "name": "stderr",
          "text": [
            "100%|██████████| 391/391 [00:13<00:00, 29.12it/s]\n"
          ]
        },
        {
          "output_type": "stream",
          "name": "stdout",
          "text": [
            "train Loss: 0.9891, SSIM: 13.79%\n"
          ]
        },
        {
          "output_type": "stream",
          "name": "stderr",
          "text": [
            "100%|██████████| 40/40 [00:01<00:00, 28.50it/s]\n"
          ]
        },
        {
          "output_type": "stream",
          "name": "stdout",
          "text": [
            "val Loss: 0.5554, SSIM: 20.62%\n",
            "\n",
            "Epoch 50/199\n",
            "----------\n"
          ]
        },
        {
          "output_type": "stream",
          "name": "stderr",
          "text": [
            "100%|██████████| 391/391 [00:13<00:00, 29.36it/s]\n"
          ]
        },
        {
          "output_type": "stream",
          "name": "stdout",
          "text": [
            "train Loss: 0.9888, SSIM: 13.79%\n"
          ]
        },
        {
          "output_type": "stream",
          "name": "stderr",
          "text": [
            "100%|██████████| 40/40 [00:01<00:00, 27.81it/s]\n"
          ]
        },
        {
          "output_type": "stream",
          "name": "stdout",
          "text": [
            "val Loss: 0.5577, SSIM: 18.34%\n",
            "\n",
            "Epoch 51/199\n",
            "----------\n"
          ]
        },
        {
          "output_type": "stream",
          "name": "stderr",
          "text": [
            "100%|██████████| 391/391 [00:13<00:00, 29.40it/s]\n"
          ]
        },
        {
          "output_type": "stream",
          "name": "stdout",
          "text": [
            "train Loss: 0.9883, SSIM: 13.80%\n"
          ]
        },
        {
          "output_type": "stream",
          "name": "stderr",
          "text": [
            "100%|██████████| 40/40 [00:01<00:00, 26.53it/s]\n"
          ]
        },
        {
          "output_type": "stream",
          "name": "stdout",
          "text": [
            "val Loss: 0.5554, SSIM: 19.67%\n",
            "\n",
            "Epoch 52/199\n",
            "----------\n"
          ]
        },
        {
          "output_type": "stream",
          "name": "stderr",
          "text": [
            "100%|██████████| 391/391 [00:13<00:00, 29.09it/s]\n"
          ]
        },
        {
          "output_type": "stream",
          "name": "stdout",
          "text": [
            "train Loss: 0.9888, SSIM: 13.78%\n"
          ]
        },
        {
          "output_type": "stream",
          "name": "stderr",
          "text": [
            "100%|██████████| 40/40 [00:01<00:00, 29.47it/s]\n"
          ]
        },
        {
          "output_type": "stream",
          "name": "stdout",
          "text": [
            "val Loss: 0.5562, SSIM: 21.10%\n",
            "\n",
            "Epoch 53/199\n",
            "----------\n"
          ]
        },
        {
          "output_type": "stream",
          "name": "stderr",
          "text": [
            "100%|██████████| 391/391 [00:13<00:00, 29.02it/s]\n"
          ]
        },
        {
          "output_type": "stream",
          "name": "stdout",
          "text": [
            "train Loss: 0.9896, SSIM: 13.80%\n"
          ]
        },
        {
          "output_type": "stream",
          "name": "stderr",
          "text": [
            "100%|██████████| 40/40 [00:01<00:00, 27.68it/s]\n"
          ]
        },
        {
          "output_type": "stream",
          "name": "stdout",
          "text": [
            "val Loss: 0.5553, SSIM: 20.58%\n",
            "\n",
            "Epoch 54/199\n",
            "----------\n"
          ]
        },
        {
          "output_type": "stream",
          "name": "stderr",
          "text": [
            "100%|██████████| 391/391 [00:13<00:00, 29.81it/s]\n"
          ]
        },
        {
          "output_type": "stream",
          "name": "stdout",
          "text": [
            "train Loss: 0.9894, SSIM: 13.81%\n"
          ]
        },
        {
          "output_type": "stream",
          "name": "stderr",
          "text": [
            "100%|██████████| 40/40 [00:01<00:00, 29.24it/s]\n"
          ]
        },
        {
          "output_type": "stream",
          "name": "stdout",
          "text": [
            "val Loss: 0.5551, SSIM: 19.80%\n",
            "Saving best model...\n",
            "\n",
            "Epoch 55/199\n",
            "----------\n"
          ]
        },
        {
          "output_type": "stream",
          "name": "stderr",
          "text": [
            "100%|██████████| 391/391 [00:12<00:00, 30.68it/s]\n"
          ]
        },
        {
          "output_type": "stream",
          "name": "stdout",
          "text": [
            "train Loss: 0.9872, SSIM: 13.84%\n"
          ]
        },
        {
          "output_type": "stream",
          "name": "stderr",
          "text": [
            "100%|██████████| 40/40 [00:01<00:00, 27.63it/s]\n"
          ]
        },
        {
          "output_type": "stream",
          "name": "stdout",
          "text": [
            "val Loss: 0.5549, SSIM: 20.25%\n",
            "Saving best model...\n",
            "\n",
            "Epoch 56/199\n",
            "----------\n"
          ]
        },
        {
          "output_type": "stream",
          "name": "stderr",
          "text": [
            "100%|██████████| 391/391 [00:12<00:00, 30.90it/s]\n"
          ]
        },
        {
          "output_type": "stream",
          "name": "stdout",
          "text": [
            "train Loss: 0.9882, SSIM: 13.85%\n"
          ]
        },
        {
          "output_type": "stream",
          "name": "stderr",
          "text": [
            "100%|██████████| 40/40 [00:01<00:00, 30.64it/s]\n"
          ]
        },
        {
          "output_type": "stream",
          "name": "stdout",
          "text": [
            "val Loss: 0.5548, SSIM: 19.97%\n",
            "Saving best model...\n",
            "\n",
            "Epoch 57/199\n",
            "----------\n"
          ]
        },
        {
          "output_type": "stream",
          "name": "stderr",
          "text": [
            "100%|██████████| 391/391 [00:12<00:00, 31.10it/s]\n"
          ]
        },
        {
          "output_type": "stream",
          "name": "stdout",
          "text": [
            "train Loss: 0.9874, SSIM: 13.86%\n"
          ]
        },
        {
          "output_type": "stream",
          "name": "stderr",
          "text": [
            "100%|██████████| 40/40 [00:01<00:00, 27.80it/s]\n"
          ]
        },
        {
          "output_type": "stream",
          "name": "stdout",
          "text": [
            "val Loss: 0.5548, SSIM: 19.93%\n",
            "\n",
            "Epoch 58/199\n",
            "----------\n"
          ]
        },
        {
          "output_type": "stream",
          "name": "stderr",
          "text": [
            "100%|██████████| 391/391 [00:12<00:00, 30.10it/s]\n"
          ]
        },
        {
          "output_type": "stream",
          "name": "stdout",
          "text": [
            "train Loss: 0.9884, SSIM: 13.86%\n"
          ]
        },
        {
          "output_type": "stream",
          "name": "stderr",
          "text": [
            "100%|██████████| 40/40 [00:01<00:00, 28.19it/s]\n"
          ]
        },
        {
          "output_type": "stream",
          "name": "stdout",
          "text": [
            "val Loss: 0.5545, SSIM: 20.42%\n",
            "Saving best model...\n",
            "\n",
            "Epoch 59/199\n",
            "----------\n"
          ]
        },
        {
          "output_type": "stream",
          "name": "stderr",
          "text": [
            "100%|██████████| 391/391 [00:13<00:00, 29.49it/s]\n"
          ]
        },
        {
          "output_type": "stream",
          "name": "stdout",
          "text": [
            "train Loss: 0.9879, SSIM: 13.87%\n"
          ]
        },
        {
          "output_type": "stream",
          "name": "stderr",
          "text": [
            "100%|██████████| 40/40 [00:01<00:00, 27.26it/s]\n"
          ]
        },
        {
          "output_type": "stream",
          "name": "stdout",
          "text": [
            "val Loss: 0.5545, SSIM: 20.07%\n",
            "Saving best model...\n",
            "\n",
            "Epoch 60/199\n",
            "----------\n"
          ]
        },
        {
          "output_type": "stream",
          "name": "stderr",
          "text": [
            "100%|██████████| 391/391 [00:14<00:00, 27.65it/s]\n"
          ]
        },
        {
          "output_type": "stream",
          "name": "stdout",
          "text": [
            "train Loss: 0.9876, SSIM: 13.92%\n"
          ]
        },
        {
          "output_type": "stream",
          "name": "stderr",
          "text": [
            "100%|██████████| 40/40 [00:01<00:00, 27.23it/s]\n"
          ]
        },
        {
          "output_type": "stream",
          "name": "stdout",
          "text": [
            "val Loss: 0.5543, SSIM: 20.23%\n",
            "Saving best model...\n",
            "\n",
            "Epoch 61/199\n",
            "----------\n"
          ]
        },
        {
          "output_type": "stream",
          "name": "stderr",
          "text": [
            "100%|██████████| 391/391 [00:13<00:00, 29.58it/s]\n"
          ]
        },
        {
          "output_type": "stream",
          "name": "stdout",
          "text": [
            "train Loss: 0.9885, SSIM: 13.91%\n"
          ]
        },
        {
          "output_type": "stream",
          "name": "stderr",
          "text": [
            "100%|██████████| 40/40 [00:01<00:00, 28.57it/s]\n"
          ]
        },
        {
          "output_type": "stream",
          "name": "stdout",
          "text": [
            "val Loss: 0.5543, SSIM: 20.21%\n",
            "Saving best model...\n",
            "\n",
            "Epoch 62/199\n",
            "----------\n"
          ]
        },
        {
          "output_type": "stream",
          "name": "stderr",
          "text": [
            "100%|██████████| 391/391 [00:13<00:00, 29.65it/s]\n"
          ]
        },
        {
          "output_type": "stream",
          "name": "stdout",
          "text": [
            "train Loss: 0.9877, SSIM: 13.93%\n"
          ]
        },
        {
          "output_type": "stream",
          "name": "stderr",
          "text": [
            "100%|██████████| 40/40 [00:01<00:00, 27.80it/s]\n"
          ]
        },
        {
          "output_type": "stream",
          "name": "stdout",
          "text": [
            "val Loss: 0.5542, SSIM: 20.23%\n",
            "Saving best model...\n",
            "\n",
            "Epoch 63/199\n",
            "----------\n"
          ]
        },
        {
          "output_type": "stream",
          "name": "stderr",
          "text": [
            "100%|██████████| 391/391 [00:13<00:00, 29.50it/s]\n"
          ]
        },
        {
          "output_type": "stream",
          "name": "stdout",
          "text": [
            "train Loss: 0.9868, SSIM: 13.94%\n"
          ]
        },
        {
          "output_type": "stream",
          "name": "stderr",
          "text": [
            "100%|██████████| 40/40 [00:01<00:00, 27.02it/s]\n"
          ]
        },
        {
          "output_type": "stream",
          "name": "stdout",
          "text": [
            "val Loss: 0.5543, SSIM: 20.14%\n",
            "\n",
            "Epoch 64/199\n",
            "----------\n"
          ]
        },
        {
          "output_type": "stream",
          "name": "stderr",
          "text": [
            "100%|██████████| 391/391 [00:13<00:00, 29.44it/s]\n"
          ]
        },
        {
          "output_type": "stream",
          "name": "stdout",
          "text": [
            "train Loss: 0.9869, SSIM: 13.94%\n"
          ]
        },
        {
          "output_type": "stream",
          "name": "stderr",
          "text": [
            "100%|██████████| 40/40 [00:01<00:00, 27.94it/s]\n"
          ]
        },
        {
          "output_type": "stream",
          "name": "stdout",
          "text": [
            "val Loss: 0.5542, SSIM: 20.18%\n",
            "Saving best model...\n",
            "\n",
            "Epoch 65/199\n",
            "----------\n"
          ]
        },
        {
          "output_type": "stream",
          "name": "stderr",
          "text": [
            "100%|██████████| 391/391 [00:13<00:00, 29.16it/s]\n"
          ]
        },
        {
          "output_type": "stream",
          "name": "stdout",
          "text": [
            "train Loss: 0.9876, SSIM: 13.92%\n"
          ]
        },
        {
          "output_type": "stream",
          "name": "stderr",
          "text": [
            "100%|██████████| 40/40 [00:01<00:00, 28.09it/s]\n"
          ]
        },
        {
          "output_type": "stream",
          "name": "stdout",
          "text": [
            "val Loss: 0.5542, SSIM: 20.34%\n",
            "Saving best model...\n",
            "\n",
            "Epoch 66/199\n",
            "----------\n"
          ]
        },
        {
          "output_type": "stream",
          "name": "stderr",
          "text": [
            "100%|██████████| 391/391 [00:14<00:00, 27.59it/s]\n"
          ]
        },
        {
          "output_type": "stream",
          "name": "stdout",
          "text": [
            "train Loss: 0.9875, SSIM: 13.93%\n"
          ]
        },
        {
          "output_type": "stream",
          "name": "stderr",
          "text": [
            "100%|██████████| 40/40 [00:01<00:00, 23.39it/s]\n"
          ]
        },
        {
          "output_type": "stream",
          "name": "stdout",
          "text": [
            "val Loss: 0.5543, SSIM: 20.03%\n",
            "\n",
            "Epoch 67/199\n",
            "----------\n"
          ]
        },
        {
          "output_type": "stream",
          "name": "stderr",
          "text": [
            "100%|██████████| 391/391 [00:14<00:00, 27.28it/s]\n"
          ]
        },
        {
          "output_type": "stream",
          "name": "stdout",
          "text": [
            "train Loss: 0.9881, SSIM: 13.92%\n"
          ]
        },
        {
          "output_type": "stream",
          "name": "stderr",
          "text": [
            "100%|██████████| 40/40 [00:01<00:00, 26.49it/s]\n"
          ]
        },
        {
          "output_type": "stream",
          "name": "stdout",
          "text": [
            "val Loss: 0.5542, SSIM: 20.27%\n",
            "Saving best model...\n",
            "\n",
            "Epoch 68/199\n",
            "----------\n"
          ]
        },
        {
          "output_type": "stream",
          "name": "stderr",
          "text": [
            "100%|██████████| 391/391 [00:13<00:00, 28.47it/s]\n"
          ]
        },
        {
          "output_type": "stream",
          "name": "stdout",
          "text": [
            "train Loss: 0.9885, SSIM: 13.92%\n"
          ]
        },
        {
          "output_type": "stream",
          "name": "stderr",
          "text": [
            "100%|██████████| 40/40 [00:01<00:00, 29.53it/s]\n"
          ]
        },
        {
          "output_type": "stream",
          "name": "stdout",
          "text": [
            "val Loss: 0.5542, SSIM: 20.21%\n",
            "\n",
            "Epoch 69/199\n",
            "----------\n"
          ]
        },
        {
          "output_type": "stream",
          "name": "stderr",
          "text": [
            "100%|██████████| 391/391 [00:12<00:00, 31.15it/s]\n"
          ]
        },
        {
          "output_type": "stream",
          "name": "stdout",
          "text": [
            "train Loss: 0.9880, SSIM: 13.94%\n"
          ]
        },
        {
          "output_type": "stream",
          "name": "stderr",
          "text": [
            "100%|██████████| 40/40 [00:01<00:00, 29.81it/s]\n"
          ]
        },
        {
          "output_type": "stream",
          "name": "stdout",
          "text": [
            "val Loss: 0.5543, SSIM: 19.93%\n",
            "\n",
            "Epoch 70/199\n",
            "----------\n"
          ]
        },
        {
          "output_type": "stream",
          "name": "stderr",
          "text": [
            "100%|██████████| 391/391 [00:12<00:00, 30.18it/s]\n"
          ]
        },
        {
          "output_type": "stream",
          "name": "stdout",
          "text": [
            "train Loss: 0.9867, SSIM: 13.96%\n"
          ]
        },
        {
          "output_type": "stream",
          "name": "stderr",
          "text": [
            "100%|██████████| 40/40 [00:01<00:00, 27.90it/s]\n"
          ]
        },
        {
          "output_type": "stream",
          "name": "stdout",
          "text": [
            "val Loss: 0.5542, SSIM: 20.43%\n",
            "\n",
            "Epoch 71/199\n",
            "----------\n"
          ]
        },
        {
          "output_type": "stream",
          "name": "stderr",
          "text": [
            "100%|██████████| 391/391 [00:13<00:00, 28.74it/s]\n"
          ]
        },
        {
          "output_type": "stream",
          "name": "stdout",
          "text": [
            "train Loss: 0.9863, SSIM: 13.96%\n"
          ]
        },
        {
          "output_type": "stream",
          "name": "stderr",
          "text": [
            "100%|██████████| 40/40 [00:01<00:00, 29.01it/s]\n"
          ]
        },
        {
          "output_type": "stream",
          "name": "stdout",
          "text": [
            "val Loss: 0.5542, SSIM: 20.19%\n",
            "\n",
            "Epoch 72/199\n",
            "----------\n"
          ]
        },
        {
          "output_type": "stream",
          "name": "stderr",
          "text": [
            "100%|██████████| 391/391 [00:13<00:00, 29.51it/s]\n"
          ]
        },
        {
          "output_type": "stream",
          "name": "stdout",
          "text": [
            "train Loss: 0.9871, SSIM: 13.95%\n"
          ]
        },
        {
          "output_type": "stream",
          "name": "stderr",
          "text": [
            "100%|██████████| 40/40 [00:01<00:00, 27.65it/s]\n"
          ]
        },
        {
          "output_type": "stream",
          "name": "stdout",
          "text": [
            "val Loss: 0.5541, SSIM: 20.22%\n",
            "Saving best model...\n",
            "\n",
            "Epoch 73/199\n",
            "----------\n"
          ]
        },
        {
          "output_type": "stream",
          "name": "stderr",
          "text": [
            "100%|██████████| 391/391 [00:13<00:00, 29.69it/s]\n"
          ]
        },
        {
          "output_type": "stream",
          "name": "stdout",
          "text": [
            "train Loss: 0.9873, SSIM: 13.94%\n"
          ]
        },
        {
          "output_type": "stream",
          "name": "stderr",
          "text": [
            "100%|██████████| 40/40 [00:01<00:00, 26.92it/s]\n"
          ]
        },
        {
          "output_type": "stream",
          "name": "stdout",
          "text": [
            "val Loss: 0.5541, SSIM: 20.31%\n",
            "Saving best model...\n",
            "\n",
            "Epoch 74/199\n",
            "----------\n"
          ]
        },
        {
          "output_type": "stream",
          "name": "stderr",
          "text": [
            "100%|██████████| 391/391 [00:13<00:00, 29.25it/s]\n"
          ]
        },
        {
          "output_type": "stream",
          "name": "stdout",
          "text": [
            "train Loss: 0.9876, SSIM: 13.95%\n"
          ]
        },
        {
          "output_type": "stream",
          "name": "stderr",
          "text": [
            "100%|██████████| 40/40 [00:01<00:00, 26.60it/s]\n"
          ]
        },
        {
          "output_type": "stream",
          "name": "stdout",
          "text": [
            "val Loss: 0.5541, SSIM: 20.34%\n",
            "Saving best model...\n",
            "\n",
            "Epoch 75/199\n",
            "----------\n"
          ]
        },
        {
          "output_type": "stream",
          "name": "stderr",
          "text": [
            "100%|██████████| 391/391 [00:13<00:00, 29.46it/s]\n"
          ]
        },
        {
          "output_type": "stream",
          "name": "stdout",
          "text": [
            "train Loss: 0.9869, SSIM: 13.95%\n"
          ]
        },
        {
          "output_type": "stream",
          "name": "stderr",
          "text": [
            "100%|██████████| 40/40 [00:01<00:00, 27.61it/s]\n"
          ]
        },
        {
          "output_type": "stream",
          "name": "stdout",
          "text": [
            "val Loss: 0.5541, SSIM: 20.22%\n",
            "\n",
            "Epoch 76/199\n",
            "----------\n"
          ]
        },
        {
          "output_type": "stream",
          "name": "stderr",
          "text": [
            "100%|██████████| 391/391 [00:13<00:00, 29.19it/s]\n"
          ]
        },
        {
          "output_type": "stream",
          "name": "stdout",
          "text": [
            "train Loss: 0.9872, SSIM: 13.95%\n"
          ]
        },
        {
          "output_type": "stream",
          "name": "stderr",
          "text": [
            "100%|██████████| 40/40 [00:01<00:00, 28.24it/s]\n"
          ]
        },
        {
          "output_type": "stream",
          "name": "stdout",
          "text": [
            "val Loss: 0.5541, SSIM: 20.28%\n",
            "\n",
            "Epoch 77/199\n",
            "----------\n"
          ]
        },
        {
          "output_type": "stream",
          "name": "stderr",
          "text": [
            "100%|██████████| 391/391 [00:13<00:00, 29.53it/s]\n"
          ]
        },
        {
          "output_type": "stream",
          "name": "stdout",
          "text": [
            "train Loss: 0.9875, SSIM: 13.96%\n"
          ]
        },
        {
          "output_type": "stream",
          "name": "stderr",
          "text": [
            "100%|██████████| 40/40 [00:01<00:00, 26.86it/s]\n"
          ]
        },
        {
          "output_type": "stream",
          "name": "stdout",
          "text": [
            "val Loss: 0.5541, SSIM: 20.19%\n",
            "\n",
            "Epoch 78/199\n",
            "----------\n"
          ]
        },
        {
          "output_type": "stream",
          "name": "stderr",
          "text": [
            "100%|██████████| 391/391 [00:13<00:00, 29.07it/s]\n"
          ]
        },
        {
          "output_type": "stream",
          "name": "stdout",
          "text": [
            "train Loss: 0.9874, SSIM: 13.95%\n"
          ]
        },
        {
          "output_type": "stream",
          "name": "stderr",
          "text": [
            "100%|██████████| 40/40 [00:01<00:00, 27.45it/s]\n"
          ]
        },
        {
          "output_type": "stream",
          "name": "stdout",
          "text": [
            "val Loss: 0.5541, SSIM: 20.28%\n",
            "Saving best model...\n",
            "\n",
            "Epoch 79/199\n",
            "----------\n"
          ]
        },
        {
          "output_type": "stream",
          "name": "stderr",
          "text": [
            "100%|██████████| 391/391 [00:13<00:00, 29.13it/s]\n"
          ]
        },
        {
          "output_type": "stream",
          "name": "stdout",
          "text": [
            "train Loss: 0.9875, SSIM: 13.95%\n"
          ]
        },
        {
          "output_type": "stream",
          "name": "stderr",
          "text": [
            "100%|██████████| 40/40 [00:01<00:00, 27.76it/s]\n"
          ]
        },
        {
          "output_type": "stream",
          "name": "stdout",
          "text": [
            "val Loss: 0.5541, SSIM: 20.14%\n",
            "\n",
            "Epoch 80/199\n",
            "----------\n"
          ]
        },
        {
          "output_type": "stream",
          "name": "stderr",
          "text": [
            "100%|██████████| 391/391 [00:13<00:00, 28.56it/s]\n"
          ]
        },
        {
          "output_type": "stream",
          "name": "stdout",
          "text": [
            "train Loss: 0.9866, SSIM: 13.97%\n"
          ]
        },
        {
          "output_type": "stream",
          "name": "stderr",
          "text": [
            "100%|██████████| 40/40 [00:01<00:00, 27.28it/s]\n"
          ]
        },
        {
          "output_type": "stream",
          "name": "stdout",
          "text": [
            "val Loss: 0.5541, SSIM: 20.18%\n",
            "\n",
            "Epoch 81/199\n",
            "----------\n"
          ]
        },
        {
          "output_type": "stream",
          "name": "stderr",
          "text": [
            "100%|██████████| 391/391 [00:13<00:00, 28.57it/s]\n"
          ]
        },
        {
          "output_type": "stream",
          "name": "stdout",
          "text": [
            "train Loss: 0.9864, SSIM: 13.97%\n"
          ]
        },
        {
          "output_type": "stream",
          "name": "stderr",
          "text": [
            "100%|██████████| 40/40 [00:01<00:00, 26.67it/s]\n"
          ]
        },
        {
          "output_type": "stream",
          "name": "stdout",
          "text": [
            "val Loss: 0.5540, SSIM: 20.32%\n",
            "Saving best model...\n",
            "\n",
            "Epoch 82/199\n",
            "----------\n"
          ]
        },
        {
          "output_type": "stream",
          "name": "stderr",
          "text": [
            "100%|██████████| 391/391 [00:13<00:00, 29.20it/s]\n"
          ]
        },
        {
          "output_type": "stream",
          "name": "stdout",
          "text": [
            "train Loss: 0.9863, SSIM: 13.98%\n"
          ]
        },
        {
          "output_type": "stream",
          "name": "stderr",
          "text": [
            "100%|██████████| 40/40 [00:01<00:00, 28.86it/s]\n"
          ]
        },
        {
          "output_type": "stream",
          "name": "stdout",
          "text": [
            "val Loss: 0.5540, SSIM: 20.23%\n",
            "Saving best model...\n",
            "\n",
            "Epoch 83/199\n",
            "----------\n"
          ]
        },
        {
          "output_type": "stream",
          "name": "stderr",
          "text": [
            "100%|██████████| 391/391 [00:13<00:00, 29.80it/s]\n"
          ]
        },
        {
          "output_type": "stream",
          "name": "stdout",
          "text": [
            "train Loss: 0.9870, SSIM: 13.97%\n"
          ]
        },
        {
          "output_type": "stream",
          "name": "stderr",
          "text": [
            "100%|██████████| 40/40 [00:01<00:00, 28.41it/s]\n"
          ]
        },
        {
          "output_type": "stream",
          "name": "stdout",
          "text": [
            "val Loss: 0.5541, SSIM: 20.10%\n",
            "\n",
            "Epoch 84/199\n",
            "----------\n"
          ]
        },
        {
          "output_type": "stream",
          "name": "stderr",
          "text": [
            "100%|██████████| 391/391 [00:13<00:00, 29.64it/s]\n"
          ]
        },
        {
          "output_type": "stream",
          "name": "stdout",
          "text": [
            "train Loss: 0.9877, SSIM: 13.96%\n"
          ]
        },
        {
          "output_type": "stream",
          "name": "stderr",
          "text": [
            "100%|██████████| 40/40 [00:01<00:00, 28.99it/s]\n"
          ]
        },
        {
          "output_type": "stream",
          "name": "stdout",
          "text": [
            "val Loss: 0.5540, SSIM: 20.48%\n",
            "Saving best model...\n",
            "\n",
            "Epoch 85/199\n",
            "----------\n"
          ]
        },
        {
          "output_type": "stream",
          "name": "stderr",
          "text": [
            "100%|██████████| 391/391 [00:13<00:00, 29.29it/s]\n"
          ]
        },
        {
          "output_type": "stream",
          "name": "stdout",
          "text": [
            "train Loss: 0.9862, SSIM: 13.98%\n"
          ]
        },
        {
          "output_type": "stream",
          "name": "stderr",
          "text": [
            "100%|██████████| 40/40 [00:01<00:00, 28.47it/s]\n"
          ]
        },
        {
          "output_type": "stream",
          "name": "stdout",
          "text": [
            "val Loss: 0.5540, SSIM: 20.26%\n",
            "Saving best model...\n",
            "\n",
            "Epoch 86/199\n",
            "----------\n"
          ]
        },
        {
          "output_type": "stream",
          "name": "stderr",
          "text": [
            "100%|██████████| 391/391 [00:13<00:00, 29.37it/s]\n"
          ]
        },
        {
          "output_type": "stream",
          "name": "stdout",
          "text": [
            "train Loss: 0.9872, SSIM: 13.96%\n"
          ]
        },
        {
          "output_type": "stream",
          "name": "stderr",
          "text": [
            "100%|██████████| 40/40 [00:01<00:00, 26.27it/s]\n"
          ]
        },
        {
          "output_type": "stream",
          "name": "stdout",
          "text": [
            "val Loss: 0.5540, SSIM: 20.21%\n",
            "\n",
            "Epoch 87/199\n",
            "----------\n"
          ]
        },
        {
          "output_type": "stream",
          "name": "stderr",
          "text": [
            "100%|██████████| 391/391 [00:13<00:00, 28.67it/s]\n"
          ]
        },
        {
          "output_type": "stream",
          "name": "stdout",
          "text": [
            "train Loss: 0.9865, SSIM: 14.00%\n"
          ]
        },
        {
          "output_type": "stream",
          "name": "stderr",
          "text": [
            "100%|██████████| 40/40 [00:01<00:00, 26.06it/s]\n"
          ]
        },
        {
          "output_type": "stream",
          "name": "stdout",
          "text": [
            "val Loss: 0.5539, SSIM: 20.49%\n",
            "Saving best model...\n",
            "\n",
            "Epoch 88/199\n",
            "----------\n"
          ]
        },
        {
          "output_type": "stream",
          "name": "stderr",
          "text": [
            "100%|██████████| 391/391 [00:13<00:00, 29.17it/s]\n"
          ]
        },
        {
          "output_type": "stream",
          "name": "stdout",
          "text": [
            "train Loss: 0.9871, SSIM: 13.96%\n"
          ]
        },
        {
          "output_type": "stream",
          "name": "stderr",
          "text": [
            "100%|██████████| 40/40 [00:01<00:00, 26.62it/s]\n"
          ]
        },
        {
          "output_type": "stream",
          "name": "stdout",
          "text": [
            "val Loss: 0.5540, SSIM: 20.13%\n",
            "\n",
            "Epoch 89/199\n",
            "----------\n"
          ]
        },
        {
          "output_type": "stream",
          "name": "stderr",
          "text": [
            "100%|██████████| 391/391 [00:13<00:00, 29.09it/s]\n"
          ]
        },
        {
          "output_type": "stream",
          "name": "stdout",
          "text": [
            "train Loss: 0.9872, SSIM: 13.97%\n"
          ]
        },
        {
          "output_type": "stream",
          "name": "stderr",
          "text": [
            "100%|██████████| 40/40 [00:01<00:00, 26.36it/s]\n"
          ]
        },
        {
          "output_type": "stream",
          "name": "stdout",
          "text": [
            "val Loss: 0.5539, SSIM: 20.48%\n",
            "Saving best model...\n",
            "\n",
            "Epoch 90/199\n",
            "----------\n"
          ]
        },
        {
          "output_type": "stream",
          "name": "stderr",
          "text": [
            "100%|██████████| 391/391 [00:13<00:00, 29.52it/s]\n"
          ]
        },
        {
          "output_type": "stream",
          "name": "stdout",
          "text": [
            "train Loss: 0.9875, SSIM: 13.97%\n"
          ]
        },
        {
          "output_type": "stream",
          "name": "stderr",
          "text": [
            "100%|██████████| 40/40 [00:01<00:00, 27.54it/s]\n"
          ]
        },
        {
          "output_type": "stream",
          "name": "stdout",
          "text": [
            "val Loss: 0.5539, SSIM: 20.27%\n",
            "\n",
            "Epoch 91/199\n",
            "----------\n"
          ]
        },
        {
          "output_type": "stream",
          "name": "stderr",
          "text": [
            "100%|██████████| 391/391 [00:13<00:00, 29.24it/s]\n"
          ]
        },
        {
          "output_type": "stream",
          "name": "stdout",
          "text": [
            "train Loss: 0.9858, SSIM: 13.99%\n"
          ]
        },
        {
          "output_type": "stream",
          "name": "stderr",
          "text": [
            "100%|██████████| 40/40 [00:01<00:00, 27.25it/s]\n"
          ]
        },
        {
          "output_type": "stream",
          "name": "stdout",
          "text": [
            "val Loss: 0.5539, SSIM: 20.28%\n",
            "\n",
            "Epoch 92/199\n",
            "----------\n"
          ]
        },
        {
          "output_type": "stream",
          "name": "stderr",
          "text": [
            "100%|██████████| 391/391 [00:13<00:00, 29.68it/s]\n"
          ]
        },
        {
          "output_type": "stream",
          "name": "stdout",
          "text": [
            "train Loss: 0.9878, SSIM: 13.97%\n"
          ]
        },
        {
          "output_type": "stream",
          "name": "stderr",
          "text": [
            "100%|██████████| 40/40 [00:01<00:00, 27.54it/s]\n"
          ]
        },
        {
          "output_type": "stream",
          "name": "stdout",
          "text": [
            "val Loss: 0.5539, SSIM: 20.25%\n",
            "Saving best model...\n",
            "\n",
            "Epoch 93/199\n",
            "----------\n"
          ]
        },
        {
          "output_type": "stream",
          "name": "stderr",
          "text": [
            "100%|██████████| 391/391 [00:13<00:00, 29.39it/s]\n"
          ]
        },
        {
          "output_type": "stream",
          "name": "stdout",
          "text": [
            "train Loss: 0.9880, SSIM: 13.97%\n"
          ]
        },
        {
          "output_type": "stream",
          "name": "stderr",
          "text": [
            "100%|██████████| 40/40 [00:01<00:00, 27.32it/s]\n"
          ]
        },
        {
          "output_type": "stream",
          "name": "stdout",
          "text": [
            "val Loss: 0.5539, SSIM: 20.37%\n",
            "Saving best model...\n",
            "\n",
            "Epoch 94/199\n",
            "----------\n"
          ]
        },
        {
          "output_type": "stream",
          "name": "stderr",
          "text": [
            "100%|██████████| 391/391 [00:13<00:00, 29.90it/s]\n"
          ]
        },
        {
          "output_type": "stream",
          "name": "stdout",
          "text": [
            "train Loss: 0.9883, SSIM: 13.97%\n"
          ]
        },
        {
          "output_type": "stream",
          "name": "stderr",
          "text": [
            "100%|██████████| 40/40 [00:01<00:00, 26.90it/s]\n"
          ]
        },
        {
          "output_type": "stream",
          "name": "stdout",
          "text": [
            "val Loss: 0.5539, SSIM: 20.42%\n",
            "\n",
            "Epoch 95/199\n",
            "----------\n"
          ]
        },
        {
          "output_type": "stream",
          "name": "stderr",
          "text": [
            "100%|██████████| 391/391 [00:12<00:00, 30.38it/s]\n"
          ]
        },
        {
          "output_type": "stream",
          "name": "stdout",
          "text": [
            "train Loss: 0.9869, SSIM: 13.96%\n"
          ]
        },
        {
          "output_type": "stream",
          "name": "stderr",
          "text": [
            "100%|██████████| 40/40 [00:01<00:00, 27.89it/s]\n"
          ]
        },
        {
          "output_type": "stream",
          "name": "stdout",
          "text": [
            "val Loss: 0.5539, SSIM: 20.28%\n",
            "Saving best model...\n",
            "\n",
            "Epoch 96/199\n",
            "----------\n"
          ]
        },
        {
          "output_type": "stream",
          "name": "stderr",
          "text": [
            "100%|██████████| 391/391 [00:13<00:00, 30.06it/s]\n"
          ]
        },
        {
          "output_type": "stream",
          "name": "stdout",
          "text": [
            "train Loss: 0.9866, SSIM: 13.98%\n"
          ]
        },
        {
          "output_type": "stream",
          "name": "stderr",
          "text": [
            "100%|██████████| 40/40 [00:01<00:00, 27.74it/s]\n"
          ]
        },
        {
          "output_type": "stream",
          "name": "stdout",
          "text": [
            "val Loss: 0.5539, SSIM: 20.49%\n",
            "\n",
            "Epoch 97/199\n",
            "----------\n"
          ]
        },
        {
          "output_type": "stream",
          "name": "stderr",
          "text": [
            "100%|██████████| 391/391 [00:13<00:00, 29.89it/s]\n"
          ]
        },
        {
          "output_type": "stream",
          "name": "stdout",
          "text": [
            "train Loss: 0.9874, SSIM: 13.98%\n"
          ]
        },
        {
          "output_type": "stream",
          "name": "stderr",
          "text": [
            "100%|██████████| 40/40 [00:01<00:00, 27.68it/s]\n"
          ]
        },
        {
          "output_type": "stream",
          "name": "stdout",
          "text": [
            "val Loss: 0.5539, SSIM: 20.22%\n",
            "\n",
            "Epoch 98/199\n",
            "----------\n"
          ]
        },
        {
          "output_type": "stream",
          "name": "stderr",
          "text": [
            "100%|██████████| 391/391 [00:12<00:00, 30.41it/s]\n"
          ]
        },
        {
          "output_type": "stream",
          "name": "stdout",
          "text": [
            "train Loss: 0.9878, SSIM: 13.97%\n"
          ]
        },
        {
          "output_type": "stream",
          "name": "stderr",
          "text": [
            "100%|██████████| 40/40 [00:01<00:00, 28.91it/s]\n"
          ]
        },
        {
          "output_type": "stream",
          "name": "stdout",
          "text": [
            "val Loss: 0.5538, SSIM: 20.36%\n",
            "Saving best model...\n",
            "\n",
            "Epoch 99/199\n",
            "----------\n"
          ]
        },
        {
          "output_type": "stream",
          "name": "stderr",
          "text": [
            "100%|██████████| 391/391 [00:13<00:00, 29.23it/s]\n"
          ]
        },
        {
          "output_type": "stream",
          "name": "stdout",
          "text": [
            "train Loss: 0.9875, SSIM: 13.99%\n"
          ]
        },
        {
          "output_type": "stream",
          "name": "stderr",
          "text": [
            "100%|██████████| 40/40 [00:01<00:00, 28.72it/s]\n"
          ]
        },
        {
          "output_type": "stream",
          "name": "stdout",
          "text": [
            "val Loss: 0.5539, SSIM: 20.14%\n",
            "\n",
            "Epoch 100/199\n",
            "----------\n"
          ]
        },
        {
          "output_type": "stream",
          "name": "stderr",
          "text": [
            "100%|██████████| 391/391 [00:12<00:00, 30.21it/s]\n"
          ]
        },
        {
          "output_type": "stream",
          "name": "stdout",
          "text": [
            "train Loss: 0.9872, SSIM: 13.98%\n"
          ]
        },
        {
          "output_type": "stream",
          "name": "stderr",
          "text": [
            "100%|██████████| 40/40 [00:01<00:00, 27.26it/s]\n"
          ]
        },
        {
          "output_type": "stream",
          "name": "stdout",
          "text": [
            "val Loss: 0.5538, SSIM: 20.30%\n",
            "\n",
            "Epoch 101/199\n",
            "----------\n"
          ]
        },
        {
          "output_type": "stream",
          "name": "stderr",
          "text": [
            "100%|██████████| 391/391 [00:12<00:00, 30.25it/s]\n"
          ]
        },
        {
          "output_type": "stream",
          "name": "stdout",
          "text": [
            "train Loss: 0.9870, SSIM: 13.97%\n"
          ]
        },
        {
          "output_type": "stream",
          "name": "stderr",
          "text": [
            "100%|██████████| 40/40 [00:01<00:00, 28.40it/s]\n"
          ]
        },
        {
          "output_type": "stream",
          "name": "stdout",
          "text": [
            "val Loss: 0.5539, SSIM: 20.07%\n",
            "\n",
            "Epoch 102/199\n",
            "----------\n"
          ]
        },
        {
          "output_type": "stream",
          "name": "stderr",
          "text": [
            "100%|██████████| 391/391 [00:13<00:00, 30.03it/s]\n"
          ]
        },
        {
          "output_type": "stream",
          "name": "stdout",
          "text": [
            "train Loss: 0.9871, SSIM: 13.98%\n"
          ]
        },
        {
          "output_type": "stream",
          "name": "stderr",
          "text": [
            "100%|██████████| 40/40 [00:01<00:00, 29.01it/s]\n"
          ]
        },
        {
          "output_type": "stream",
          "name": "stdout",
          "text": [
            "val Loss: 0.5538, SSIM: 20.34%\n",
            "Saving best model...\n",
            "\n",
            "Epoch 103/199\n",
            "----------\n"
          ]
        },
        {
          "output_type": "stream",
          "name": "stderr",
          "text": [
            "100%|██████████| 391/391 [00:12<00:00, 30.71it/s]\n"
          ]
        },
        {
          "output_type": "stream",
          "name": "stdout",
          "text": [
            "train Loss: 0.9860, SSIM: 14.01%\n"
          ]
        },
        {
          "output_type": "stream",
          "name": "stderr",
          "text": [
            "100%|██████████| 40/40 [00:01<00:00, 29.96it/s]\n"
          ]
        },
        {
          "output_type": "stream",
          "name": "stdout",
          "text": [
            "val Loss: 0.5538, SSIM: 20.38%\n",
            "\n",
            "Epoch 104/199\n",
            "----------\n"
          ]
        },
        {
          "output_type": "stream",
          "name": "stderr",
          "text": [
            "100%|██████████| 391/391 [00:12<00:00, 30.29it/s]\n"
          ]
        },
        {
          "output_type": "stream",
          "name": "stdout",
          "text": [
            "train Loss: 0.9878, SSIM: 13.96%\n"
          ]
        },
        {
          "output_type": "stream",
          "name": "stderr",
          "text": [
            "100%|██████████| 40/40 [00:01<00:00, 28.05it/s]\n"
          ]
        },
        {
          "output_type": "stream",
          "name": "stdout",
          "text": [
            "val Loss: 0.5538, SSIM: 20.37%\n",
            "Saving best model...\n",
            "\n",
            "Epoch 105/199\n",
            "----------\n"
          ]
        },
        {
          "output_type": "stream",
          "name": "stderr",
          "text": [
            "100%|██████████| 391/391 [00:12<00:00, 31.13it/s]\n"
          ]
        },
        {
          "output_type": "stream",
          "name": "stdout",
          "text": [
            "train Loss: 0.9865, SSIM: 14.00%\n"
          ]
        },
        {
          "output_type": "stream",
          "name": "stderr",
          "text": [
            "100%|██████████| 40/40 [00:01<00:00, 29.28it/s]\n"
          ]
        },
        {
          "output_type": "stream",
          "name": "stdout",
          "text": [
            "val Loss: 0.5537, SSIM: 20.44%\n",
            "Saving best model...\n",
            "\n",
            "Epoch 106/199\n",
            "----------\n"
          ]
        },
        {
          "output_type": "stream",
          "name": "stderr",
          "text": [
            "100%|██████████| 391/391 [00:12<00:00, 30.14it/s]\n"
          ]
        },
        {
          "output_type": "stream",
          "name": "stdout",
          "text": [
            "train Loss: 0.9865, SSIM: 13.99%\n"
          ]
        },
        {
          "output_type": "stream",
          "name": "stderr",
          "text": [
            "100%|██████████| 40/40 [00:01<00:00, 28.70it/s]\n"
          ]
        },
        {
          "output_type": "stream",
          "name": "stdout",
          "text": [
            "val Loss: 0.5537, SSIM: 20.48%\n",
            "Saving best model...\n",
            "\n",
            "Epoch 107/199\n",
            "----------\n"
          ]
        },
        {
          "output_type": "stream",
          "name": "stderr",
          "text": [
            "100%|██████████| 391/391 [00:12<00:00, 30.69it/s]\n"
          ]
        },
        {
          "output_type": "stream",
          "name": "stdout",
          "text": [
            "train Loss: 0.9858, SSIM: 14.00%\n"
          ]
        },
        {
          "output_type": "stream",
          "name": "stderr",
          "text": [
            "100%|██████████| 40/40 [00:01<00:00, 28.56it/s]\n"
          ]
        },
        {
          "output_type": "stream",
          "name": "stdout",
          "text": [
            "val Loss: 0.5537, SSIM: 20.52%\n",
            "\n",
            "Epoch 108/199\n",
            "----------\n"
          ]
        },
        {
          "output_type": "stream",
          "name": "stderr",
          "text": [
            "100%|██████████| 391/391 [00:13<00:00, 29.65it/s]\n"
          ]
        },
        {
          "output_type": "stream",
          "name": "stdout",
          "text": [
            "train Loss: 0.9877, SSIM: 13.99%\n"
          ]
        },
        {
          "output_type": "stream",
          "name": "stderr",
          "text": [
            "100%|██████████| 40/40 [00:01<00:00, 25.54it/s]\n"
          ]
        },
        {
          "output_type": "stream",
          "name": "stdout",
          "text": [
            "val Loss: 0.5538, SSIM: 20.28%\n",
            "\n",
            "Epoch 109/199\n",
            "----------\n"
          ]
        },
        {
          "output_type": "stream",
          "name": "stderr",
          "text": [
            "100%|██████████| 391/391 [00:13<00:00, 29.99it/s]\n"
          ]
        },
        {
          "output_type": "stream",
          "name": "stdout",
          "text": [
            "train Loss: 0.9877, SSIM: 13.99%\n"
          ]
        },
        {
          "output_type": "stream",
          "name": "stderr",
          "text": [
            "100%|██████████| 40/40 [00:01<00:00, 29.44it/s]\n"
          ]
        },
        {
          "output_type": "stream",
          "name": "stdout",
          "text": [
            "val Loss: 0.5537, SSIM: 20.35%\n",
            "\n",
            "Epoch 110/199\n",
            "----------\n"
          ]
        },
        {
          "output_type": "stream",
          "name": "stderr",
          "text": [
            "100%|██████████| 391/391 [00:12<00:00, 30.22it/s]\n"
          ]
        },
        {
          "output_type": "stream",
          "name": "stdout",
          "text": [
            "train Loss: 0.9880, SSIM: 13.99%\n"
          ]
        },
        {
          "output_type": "stream",
          "name": "stderr",
          "text": [
            "100%|██████████| 40/40 [00:01<00:00, 29.04it/s]\n"
          ]
        },
        {
          "output_type": "stream",
          "name": "stdout",
          "text": [
            "val Loss: 0.5537, SSIM: 20.44%\n",
            "\n",
            "Epoch 111/199\n",
            "----------\n"
          ]
        },
        {
          "output_type": "stream",
          "name": "stderr",
          "text": [
            "100%|██████████| 391/391 [00:13<00:00, 29.88it/s]\n"
          ]
        },
        {
          "output_type": "stream",
          "name": "stdout",
          "text": [
            "train Loss: 0.9870, SSIM: 13.99%\n"
          ]
        },
        {
          "output_type": "stream",
          "name": "stderr",
          "text": [
            "100%|██████████| 40/40 [00:01<00:00, 28.20it/s]\n"
          ]
        },
        {
          "output_type": "stream",
          "name": "stdout",
          "text": [
            "val Loss: 0.5537, SSIM: 20.52%\n",
            "Saving best model...\n",
            "\n",
            "Epoch 112/199\n",
            "----------\n"
          ]
        },
        {
          "output_type": "stream",
          "name": "stderr",
          "text": [
            "100%|██████████| 391/391 [00:12<00:00, 30.50it/s]\n"
          ]
        },
        {
          "output_type": "stream",
          "name": "stdout",
          "text": [
            "train Loss: 0.9866, SSIM: 14.00%\n"
          ]
        },
        {
          "output_type": "stream",
          "name": "stderr",
          "text": [
            "100%|██████████| 40/40 [00:01<00:00, 28.07it/s]\n"
          ]
        },
        {
          "output_type": "stream",
          "name": "stdout",
          "text": [
            "val Loss: 0.5537, SSIM: 20.27%\n",
            "\n",
            "Epoch 113/199\n",
            "----------\n"
          ]
        },
        {
          "output_type": "stream",
          "name": "stderr",
          "text": [
            "100%|██████████| 391/391 [00:12<00:00, 30.17it/s]\n"
          ]
        },
        {
          "output_type": "stream",
          "name": "stdout",
          "text": [
            "train Loss: 0.9861, SSIM: 14.02%\n"
          ]
        },
        {
          "output_type": "stream",
          "name": "stderr",
          "text": [
            "100%|██████████| 40/40 [00:01<00:00, 28.78it/s]\n"
          ]
        },
        {
          "output_type": "stream",
          "name": "stdout",
          "text": [
            "val Loss: 0.5537, SSIM: 20.37%\n",
            "Saving best model...\n",
            "\n",
            "Epoch 114/199\n",
            "----------\n"
          ]
        },
        {
          "output_type": "stream",
          "name": "stderr",
          "text": [
            "100%|██████████| 391/391 [00:13<00:00, 29.91it/s]\n"
          ]
        },
        {
          "output_type": "stream",
          "name": "stdout",
          "text": [
            "train Loss: 0.9864, SSIM: 14.02%\n"
          ]
        },
        {
          "output_type": "stream",
          "name": "stderr",
          "text": [
            "100%|██████████| 40/40 [00:01<00:00, 29.32it/s]\n"
          ]
        },
        {
          "output_type": "stream",
          "name": "stdout",
          "text": [
            "val Loss: 0.5537, SSIM: 20.53%\n",
            "\n",
            "Epoch 115/199\n",
            "----------\n"
          ]
        },
        {
          "output_type": "stream",
          "name": "stderr",
          "text": [
            "100%|██████████| 391/391 [00:13<00:00, 30.05it/s]\n"
          ]
        },
        {
          "output_type": "stream",
          "name": "stdout",
          "text": [
            "train Loss: 0.9878, SSIM: 13.98%\n"
          ]
        },
        {
          "output_type": "stream",
          "name": "stderr",
          "text": [
            "100%|██████████| 40/40 [00:01<00:00, 28.74it/s]\n"
          ]
        },
        {
          "output_type": "stream",
          "name": "stdout",
          "text": [
            "val Loss: 0.5538, SSIM: 20.13%\n",
            "\n",
            "Epoch 116/199\n",
            "----------\n"
          ]
        },
        {
          "output_type": "stream",
          "name": "stderr",
          "text": [
            "100%|██████████| 391/391 [00:13<00:00, 29.96it/s]\n"
          ]
        },
        {
          "output_type": "stream",
          "name": "stdout",
          "text": [
            "train Loss: 0.9863, SSIM: 14.02%\n"
          ]
        },
        {
          "output_type": "stream",
          "name": "stderr",
          "text": [
            "100%|██████████| 40/40 [00:01<00:00, 27.45it/s]\n"
          ]
        },
        {
          "output_type": "stream",
          "name": "stdout",
          "text": [
            "val Loss: 0.5538, SSIM: 20.05%\n",
            "\n",
            "Epoch 117/199\n",
            "----------\n"
          ]
        },
        {
          "output_type": "stream",
          "name": "stderr",
          "text": [
            "100%|██████████| 391/391 [00:13<00:00, 29.76it/s]\n"
          ]
        },
        {
          "output_type": "stream",
          "name": "stdout",
          "text": [
            "train Loss: 0.9857, SSIM: 14.03%\n"
          ]
        },
        {
          "output_type": "stream",
          "name": "stderr",
          "text": [
            "100%|██████████| 40/40 [00:01<00:00, 28.36it/s]\n"
          ]
        },
        {
          "output_type": "stream",
          "name": "stdout",
          "text": [
            "val Loss: 0.5537, SSIM: 20.37%\n",
            "Saving best model...\n",
            "\n",
            "Epoch 118/199\n",
            "----------\n"
          ]
        },
        {
          "output_type": "stream",
          "name": "stderr",
          "text": [
            "100%|██████████| 391/391 [00:12<00:00, 30.43it/s]\n"
          ]
        },
        {
          "output_type": "stream",
          "name": "stdout",
          "text": [
            "train Loss: 0.9868, SSIM: 14.01%\n"
          ]
        },
        {
          "output_type": "stream",
          "name": "stderr",
          "text": [
            "100%|██████████| 40/40 [00:01<00:00, 28.35it/s]\n"
          ]
        },
        {
          "output_type": "stream",
          "name": "stdout",
          "text": [
            "val Loss: 0.5537, SSIM: 20.11%\n",
            "\n",
            "Epoch 119/199\n",
            "----------\n"
          ]
        },
        {
          "output_type": "stream",
          "name": "stderr",
          "text": [
            "100%|██████████| 391/391 [00:12<00:00, 30.29it/s]\n"
          ]
        },
        {
          "output_type": "stream",
          "name": "stdout",
          "text": [
            "train Loss: 0.9872, SSIM: 14.02%\n"
          ]
        },
        {
          "output_type": "stream",
          "name": "stderr",
          "text": [
            "100%|██████████| 40/40 [00:01<00:00, 28.34it/s]\n"
          ]
        },
        {
          "output_type": "stream",
          "name": "stdout",
          "text": [
            "val Loss: 0.5536, SSIM: 20.56%\n",
            "Saving best model...\n",
            "\n",
            "Epoch 120/199\n",
            "----------\n"
          ]
        },
        {
          "output_type": "stream",
          "name": "stderr",
          "text": [
            "100%|██████████| 391/391 [00:12<00:00, 30.13it/s]\n"
          ]
        },
        {
          "output_type": "stream",
          "name": "stdout",
          "text": [
            "train Loss: 0.9877, SSIM: 14.01%\n"
          ]
        },
        {
          "output_type": "stream",
          "name": "stderr",
          "text": [
            "100%|██████████| 40/40 [00:01<00:00, 28.67it/s]\n"
          ]
        },
        {
          "output_type": "stream",
          "name": "stdout",
          "text": [
            "val Loss: 0.5536, SSIM: 20.35%\n",
            "\n",
            "Epoch 121/199\n",
            "----------\n"
          ]
        },
        {
          "output_type": "stream",
          "name": "stderr",
          "text": [
            "100%|██████████| 391/391 [00:12<00:00, 30.46it/s]\n"
          ]
        },
        {
          "output_type": "stream",
          "name": "stdout",
          "text": [
            "train Loss: 0.9868, SSIM: 14.01%\n"
          ]
        },
        {
          "output_type": "stream",
          "name": "stderr",
          "text": [
            "100%|██████████| 40/40 [00:01<00:00, 28.89it/s]\n"
          ]
        },
        {
          "output_type": "stream",
          "name": "stdout",
          "text": [
            "val Loss: 0.5536, SSIM: 20.31%\n",
            "\n",
            "Epoch 122/199\n",
            "----------\n"
          ]
        },
        {
          "output_type": "stream",
          "name": "stderr",
          "text": [
            "100%|██████████| 391/391 [00:12<00:00, 30.43it/s]\n"
          ]
        },
        {
          "output_type": "stream",
          "name": "stdout",
          "text": [
            "train Loss: 0.9869, SSIM: 14.01%\n"
          ]
        },
        {
          "output_type": "stream",
          "name": "stderr",
          "text": [
            "100%|██████████| 40/40 [00:01<00:00, 28.97it/s]\n"
          ]
        },
        {
          "output_type": "stream",
          "name": "stdout",
          "text": [
            "val Loss: 0.5536, SSIM: 20.30%\n",
            "\n",
            "Epoch 123/199\n",
            "----------\n"
          ]
        },
        {
          "output_type": "stream",
          "name": "stderr",
          "text": [
            "100%|██████████| 391/391 [00:13<00:00, 29.67it/s]\n"
          ]
        },
        {
          "output_type": "stream",
          "name": "stdout",
          "text": [
            "train Loss: 0.9870, SSIM: 14.01%\n"
          ]
        },
        {
          "output_type": "stream",
          "name": "stderr",
          "text": [
            "100%|██████████| 40/40 [00:01<00:00, 28.05it/s]\n"
          ]
        },
        {
          "output_type": "stream",
          "name": "stdout",
          "text": [
            "val Loss: 0.5536, SSIM: 20.41%\n",
            "\n",
            "Epoch 124/199\n",
            "----------\n"
          ]
        },
        {
          "output_type": "stream",
          "name": "stderr",
          "text": [
            "100%|██████████| 391/391 [00:13<00:00, 29.95it/s]\n"
          ]
        },
        {
          "output_type": "stream",
          "name": "stdout",
          "text": [
            "train Loss: 0.9855, SSIM: 14.03%\n"
          ]
        },
        {
          "output_type": "stream",
          "name": "stderr",
          "text": [
            "100%|██████████| 40/40 [00:01<00:00, 28.99it/s]\n"
          ]
        },
        {
          "output_type": "stream",
          "name": "stdout",
          "text": [
            "val Loss: 0.5536, SSIM: 20.29%\n",
            "\n",
            "Epoch 125/199\n",
            "----------\n"
          ]
        },
        {
          "output_type": "stream",
          "name": "stderr",
          "text": [
            "100%|██████████| 391/391 [00:13<00:00, 29.79it/s]\n"
          ]
        },
        {
          "output_type": "stream",
          "name": "stdout",
          "text": [
            "train Loss: 0.9880, SSIM: 14.00%\n"
          ]
        },
        {
          "output_type": "stream",
          "name": "stderr",
          "text": [
            "100%|██████████| 40/40 [00:01<00:00, 29.35it/s]\n"
          ]
        },
        {
          "output_type": "stream",
          "name": "stdout",
          "text": [
            "val Loss: 0.5536, SSIM: 20.36%\n",
            "\n",
            "Epoch 126/199\n",
            "----------\n"
          ]
        },
        {
          "output_type": "stream",
          "name": "stderr",
          "text": [
            "100%|██████████| 391/391 [00:12<00:00, 30.15it/s]\n"
          ]
        },
        {
          "output_type": "stream",
          "name": "stdout",
          "text": [
            "train Loss: 0.9861, SSIM: 14.02%\n"
          ]
        },
        {
          "output_type": "stream",
          "name": "stderr",
          "text": [
            "100%|██████████| 40/40 [00:01<00:00, 29.03it/s]\n"
          ]
        },
        {
          "output_type": "stream",
          "name": "stdout",
          "text": [
            "val Loss: 0.5536, SSIM: 20.34%\n",
            "\n",
            "Epoch 127/199\n",
            "----------\n"
          ]
        },
        {
          "output_type": "stream",
          "name": "stderr",
          "text": [
            "100%|██████████| 391/391 [00:12<00:00, 30.59it/s]\n"
          ]
        },
        {
          "output_type": "stream",
          "name": "stdout",
          "text": [
            "train Loss: 0.9857, SSIM: 14.04%\n"
          ]
        },
        {
          "output_type": "stream",
          "name": "stderr",
          "text": [
            "100%|██████████| 40/40 [00:01<00:00, 27.56it/s]\n"
          ]
        },
        {
          "output_type": "stream",
          "name": "stdout",
          "text": [
            "val Loss: 0.5536, SSIM: 20.31%\n",
            "\n",
            "Epoch 128/199\n",
            "----------\n"
          ]
        },
        {
          "output_type": "stream",
          "name": "stderr",
          "text": [
            "100%|██████████| 391/391 [00:13<00:00, 29.21it/s]\n"
          ]
        },
        {
          "output_type": "stream",
          "name": "stdout",
          "text": [
            "train Loss: 0.9875, SSIM: 14.01%\n"
          ]
        },
        {
          "output_type": "stream",
          "name": "stderr",
          "text": [
            "100%|██████████| 40/40 [00:01<00:00, 27.95it/s]\n"
          ]
        },
        {
          "output_type": "stream",
          "name": "stdout",
          "text": [
            "val Loss: 0.5536, SSIM: 20.33%\n",
            "\n",
            "Epoch 129/199\n",
            "----------\n"
          ]
        },
        {
          "output_type": "stream",
          "name": "stderr",
          "text": [
            "100%|██████████| 391/391 [00:13<00:00, 28.43it/s]\n"
          ]
        },
        {
          "output_type": "stream",
          "name": "stdout",
          "text": [
            "train Loss: 0.9876, SSIM: 14.00%\n"
          ]
        },
        {
          "output_type": "stream",
          "name": "stderr",
          "text": [
            "100%|██████████| 40/40 [00:01<00:00, 26.40it/s]\n"
          ]
        },
        {
          "output_type": "stream",
          "name": "stdout",
          "text": [
            "val Loss: 0.5536, SSIM: 20.31%\n",
            "\n",
            "Epoch 130/199\n",
            "----------\n"
          ]
        },
        {
          "output_type": "stream",
          "name": "stderr",
          "text": [
            "100%|██████████| 391/391 [00:13<00:00, 28.45it/s]\n"
          ]
        },
        {
          "output_type": "stream",
          "name": "stdout",
          "text": [
            "train Loss: 0.9871, SSIM: 14.01%\n"
          ]
        },
        {
          "output_type": "stream",
          "name": "stderr",
          "text": [
            "100%|██████████| 40/40 [00:01<00:00, 26.34it/s]\n"
          ]
        },
        {
          "output_type": "stream",
          "name": "stdout",
          "text": [
            "val Loss: 0.5536, SSIM: 20.35%\n",
            "Saving best model...\n",
            "\n",
            "Epoch 131/199\n",
            "----------\n"
          ]
        },
        {
          "output_type": "stream",
          "name": "stderr",
          "text": [
            "100%|██████████| 391/391 [00:13<00:00, 28.76it/s]\n"
          ]
        },
        {
          "output_type": "stream",
          "name": "stdout",
          "text": [
            "train Loss: 0.9863, SSIM: 14.02%\n"
          ]
        },
        {
          "output_type": "stream",
          "name": "stderr",
          "text": [
            "100%|██████████| 40/40 [00:01<00:00, 28.09it/s]\n"
          ]
        },
        {
          "output_type": "stream",
          "name": "stdout",
          "text": [
            "val Loss: 0.5536, SSIM: 20.35%\n",
            "Saving best model...\n",
            "\n",
            "Epoch 132/199\n",
            "----------\n"
          ]
        },
        {
          "output_type": "stream",
          "name": "stderr",
          "text": [
            "100%|██████████| 391/391 [00:13<00:00, 29.52it/s]\n"
          ]
        },
        {
          "output_type": "stream",
          "name": "stdout",
          "text": [
            "train Loss: 0.9864, SSIM: 14.02%\n"
          ]
        },
        {
          "output_type": "stream",
          "name": "stderr",
          "text": [
            "100%|██████████| 40/40 [00:01<00:00, 27.24it/s]\n"
          ]
        },
        {
          "output_type": "stream",
          "name": "stdout",
          "text": [
            "val Loss: 0.5536, SSIM: 20.30%\n",
            "\n",
            "Epoch 133/199\n",
            "----------\n"
          ]
        },
        {
          "output_type": "stream",
          "name": "stderr",
          "text": [
            "100%|██████████| 391/391 [00:12<00:00, 30.16it/s]\n"
          ]
        },
        {
          "output_type": "stream",
          "name": "stdout",
          "text": [
            "train Loss: 0.9862, SSIM: 14.01%\n"
          ]
        },
        {
          "output_type": "stream",
          "name": "stderr",
          "text": [
            "100%|██████████| 40/40 [00:01<00:00, 29.23it/s]\n"
          ]
        },
        {
          "output_type": "stream",
          "name": "stdout",
          "text": [
            "val Loss: 0.5536, SSIM: 20.34%\n",
            "\n",
            "Epoch 134/199\n",
            "----------\n"
          ]
        },
        {
          "output_type": "stream",
          "name": "stderr",
          "text": [
            "100%|██████████| 391/391 [00:13<00:00, 29.91it/s]\n"
          ]
        },
        {
          "output_type": "stream",
          "name": "stdout",
          "text": [
            "train Loss: 0.9868, SSIM: 14.02%\n"
          ]
        },
        {
          "output_type": "stream",
          "name": "stderr",
          "text": [
            "100%|██████████| 40/40 [00:01<00:00, 29.22it/s]\n"
          ]
        },
        {
          "output_type": "stream",
          "name": "stdout",
          "text": [
            "val Loss: 0.5536, SSIM: 20.42%\n",
            "Saving best model...\n",
            "\n",
            "Epoch 135/199\n",
            "----------\n"
          ]
        },
        {
          "output_type": "stream",
          "name": "stderr",
          "text": [
            "100%|██████████| 391/391 [00:13<00:00, 29.90it/s]\n"
          ]
        },
        {
          "output_type": "stream",
          "name": "stdout",
          "text": [
            "train Loss: 0.9864, SSIM: 14.02%\n"
          ]
        },
        {
          "output_type": "stream",
          "name": "stderr",
          "text": [
            "100%|██████████| 40/40 [00:01<00:00, 28.54it/s]\n"
          ]
        },
        {
          "output_type": "stream",
          "name": "stdout",
          "text": [
            "val Loss: 0.5536, SSIM: 20.32%\n",
            "\n",
            "Epoch 136/199\n",
            "----------\n"
          ]
        },
        {
          "output_type": "stream",
          "name": "stderr",
          "text": [
            "100%|██████████| 391/391 [00:13<00:00, 29.30it/s]\n"
          ]
        },
        {
          "output_type": "stream",
          "name": "stdout",
          "text": [
            "train Loss: 0.9876, SSIM: 14.01%\n"
          ]
        },
        {
          "output_type": "stream",
          "name": "stderr",
          "text": [
            "100%|██████████| 40/40 [00:01<00:00, 25.21it/s]\n"
          ]
        },
        {
          "output_type": "stream",
          "name": "stdout",
          "text": [
            "val Loss: 0.5536, SSIM: 20.32%\n",
            "\n",
            "Epoch 137/199\n",
            "----------\n"
          ]
        },
        {
          "output_type": "stream",
          "name": "stderr",
          "text": [
            "100%|██████████| 391/391 [00:13<00:00, 29.78it/s]\n"
          ]
        },
        {
          "output_type": "stream",
          "name": "stdout",
          "text": [
            "train Loss: 0.9868, SSIM: 14.03%\n"
          ]
        },
        {
          "output_type": "stream",
          "name": "stderr",
          "text": [
            "100%|██████████| 40/40 [00:01<00:00, 27.84it/s]\n"
          ]
        },
        {
          "output_type": "stream",
          "name": "stdout",
          "text": [
            "val Loss: 0.5536, SSIM: 20.32%\n",
            "Saving best model...\n",
            "\n",
            "Epoch 138/199\n",
            "----------\n"
          ]
        },
        {
          "output_type": "stream",
          "name": "stderr",
          "text": [
            "100%|██████████| 391/391 [00:13<00:00, 29.21it/s]\n"
          ]
        },
        {
          "output_type": "stream",
          "name": "stdout",
          "text": [
            "train Loss: 0.9875, SSIM: 14.01%\n"
          ]
        },
        {
          "output_type": "stream",
          "name": "stderr",
          "text": [
            "100%|██████████| 40/40 [00:01<00:00, 27.76it/s]\n"
          ]
        },
        {
          "output_type": "stream",
          "name": "stdout",
          "text": [
            "val Loss: 0.5536, SSIM: 20.36%\n",
            "Saving best model...\n",
            "\n",
            "Epoch 139/199\n",
            "----------\n"
          ]
        },
        {
          "output_type": "stream",
          "name": "stderr",
          "text": [
            "100%|██████████| 391/391 [00:13<00:00, 29.07it/s]\n"
          ]
        },
        {
          "output_type": "stream",
          "name": "stdout",
          "text": [
            "train Loss: 0.9872, SSIM: 14.01%\n"
          ]
        },
        {
          "output_type": "stream",
          "name": "stderr",
          "text": [
            "100%|██████████| 40/40 [00:01<00:00, 27.53it/s]\n"
          ]
        },
        {
          "output_type": "stream",
          "name": "stdout",
          "text": [
            "val Loss: 0.5536, SSIM: 20.38%\n",
            "\n",
            "Epoch 140/199\n",
            "----------\n"
          ]
        },
        {
          "output_type": "stream",
          "name": "stderr",
          "text": [
            "100%|██████████| 391/391 [00:13<00:00, 29.33it/s]\n"
          ]
        },
        {
          "output_type": "stream",
          "name": "stdout",
          "text": [
            "train Loss: 0.9864, SSIM: 14.02%\n"
          ]
        },
        {
          "output_type": "stream",
          "name": "stderr",
          "text": [
            "100%|██████████| 40/40 [00:01<00:00, 26.99it/s]\n"
          ]
        },
        {
          "output_type": "stream",
          "name": "stdout",
          "text": [
            "val Loss: 0.5536, SSIM: 20.44%\n",
            "Saving best model...\n",
            "\n",
            "Epoch 141/199\n",
            "----------\n"
          ]
        },
        {
          "output_type": "stream",
          "name": "stderr",
          "text": [
            "100%|██████████| 391/391 [00:13<00:00, 29.52it/s]\n"
          ]
        },
        {
          "output_type": "stream",
          "name": "stdout",
          "text": [
            "train Loss: 0.9868, SSIM: 14.02%\n"
          ]
        },
        {
          "output_type": "stream",
          "name": "stderr",
          "text": [
            "100%|██████████| 40/40 [00:01<00:00, 27.91it/s]\n"
          ]
        },
        {
          "output_type": "stream",
          "name": "stdout",
          "text": [
            "val Loss: 0.5536, SSIM: 20.41%\n",
            "Saving best model...\n",
            "\n",
            "Epoch 142/199\n",
            "----------\n"
          ]
        },
        {
          "output_type": "stream",
          "name": "stderr",
          "text": [
            "100%|██████████| 391/391 [00:13<00:00, 29.56it/s]\n"
          ]
        },
        {
          "output_type": "stream",
          "name": "stdout",
          "text": [
            "train Loss: 0.9873, SSIM: 14.01%\n"
          ]
        },
        {
          "output_type": "stream",
          "name": "stderr",
          "text": [
            "100%|██████████| 40/40 [00:01<00:00, 27.90it/s]\n"
          ]
        },
        {
          "output_type": "stream",
          "name": "stdout",
          "text": [
            "val Loss: 0.5536, SSIM: 20.32%\n",
            "\n",
            "Epoch 143/199\n",
            "----------\n"
          ]
        },
        {
          "output_type": "stream",
          "name": "stderr",
          "text": [
            "100%|██████████| 391/391 [00:13<00:00, 28.98it/s]\n"
          ]
        },
        {
          "output_type": "stream",
          "name": "stdout",
          "text": [
            "train Loss: 0.9864, SSIM: 14.02%\n"
          ]
        },
        {
          "output_type": "stream",
          "name": "stderr",
          "text": [
            "100%|██████████| 40/40 [00:01<00:00, 26.62it/s]\n"
          ]
        },
        {
          "output_type": "stream",
          "name": "stdout",
          "text": [
            "val Loss: 0.5536, SSIM: 20.42%\n",
            "Saving best model...\n",
            "\n",
            "Epoch 144/199\n",
            "----------\n"
          ]
        },
        {
          "output_type": "stream",
          "name": "stderr",
          "text": [
            "100%|██████████| 391/391 [00:13<00:00, 29.50it/s]\n"
          ]
        },
        {
          "output_type": "stream",
          "name": "stdout",
          "text": [
            "train Loss: 0.9863, SSIM: 14.03%\n"
          ]
        },
        {
          "output_type": "stream",
          "name": "stderr",
          "text": [
            "100%|██████████| 40/40 [00:01<00:00, 26.72it/s]\n"
          ]
        },
        {
          "output_type": "stream",
          "name": "stdout",
          "text": [
            "val Loss: 0.5536, SSIM: 20.33%\n",
            "\n",
            "Epoch 145/199\n",
            "----------\n"
          ]
        },
        {
          "output_type": "stream",
          "name": "stderr",
          "text": [
            "100%|██████████| 391/391 [00:13<00:00, 29.43it/s]\n"
          ]
        },
        {
          "output_type": "stream",
          "name": "stdout",
          "text": [
            "train Loss: 0.9875, SSIM: 14.02%\n"
          ]
        },
        {
          "output_type": "stream",
          "name": "stderr",
          "text": [
            "100%|██████████| 40/40 [00:01<00:00, 28.05it/s]\n"
          ]
        },
        {
          "output_type": "stream",
          "name": "stdout",
          "text": [
            "val Loss: 0.5536, SSIM: 20.33%\n",
            "\n",
            "Epoch 146/199\n",
            "----------\n"
          ]
        },
        {
          "output_type": "stream",
          "name": "stderr",
          "text": [
            "100%|██████████| 391/391 [00:13<00:00, 29.59it/s]\n"
          ]
        },
        {
          "output_type": "stream",
          "name": "stdout",
          "text": [
            "train Loss: 0.9877, SSIM: 14.01%\n"
          ]
        },
        {
          "output_type": "stream",
          "name": "stderr",
          "text": [
            "100%|██████████| 40/40 [00:01<00:00, 28.55it/s]\n"
          ]
        },
        {
          "output_type": "stream",
          "name": "stdout",
          "text": [
            "val Loss: 0.5536, SSIM: 20.43%\n",
            "Saving best model...\n",
            "\n",
            "Epoch 147/199\n",
            "----------\n"
          ]
        },
        {
          "output_type": "stream",
          "name": "stderr",
          "text": [
            "100%|██████████| 391/391 [00:13<00:00, 29.51it/s]\n"
          ]
        },
        {
          "output_type": "stream",
          "name": "stdout",
          "text": [
            "train Loss: 0.9868, SSIM: 14.02%\n"
          ]
        },
        {
          "output_type": "stream",
          "name": "stderr",
          "text": [
            "100%|██████████| 40/40 [00:01<00:00, 26.04it/s]\n"
          ]
        },
        {
          "output_type": "stream",
          "name": "stdout",
          "text": [
            "val Loss: 0.5536, SSIM: 20.45%\n",
            "Saving best model...\n",
            "\n",
            "Epoch 148/199\n",
            "----------\n"
          ]
        },
        {
          "output_type": "stream",
          "name": "stderr",
          "text": [
            "100%|██████████| 391/391 [00:13<00:00, 28.86it/s]\n"
          ]
        },
        {
          "output_type": "stream",
          "name": "stdout",
          "text": [
            "train Loss: 0.9870, SSIM: 14.01%\n"
          ]
        },
        {
          "output_type": "stream",
          "name": "stderr",
          "text": [
            "100%|██████████| 40/40 [00:01<00:00, 27.08it/s]\n"
          ]
        },
        {
          "output_type": "stream",
          "name": "stdout",
          "text": [
            "val Loss: 0.5536, SSIM: 20.37%\n",
            "\n",
            "Epoch 149/199\n",
            "----------\n"
          ]
        },
        {
          "output_type": "stream",
          "name": "stderr",
          "text": [
            "100%|██████████| 391/391 [00:13<00:00, 29.25it/s]\n"
          ]
        },
        {
          "output_type": "stream",
          "name": "stdout",
          "text": [
            "train Loss: 0.9877, SSIM: 14.01%\n"
          ]
        },
        {
          "output_type": "stream",
          "name": "stderr",
          "text": [
            "100%|██████████| 40/40 [00:01<00:00, 27.27it/s]\n"
          ]
        },
        {
          "output_type": "stream",
          "name": "stdout",
          "text": [
            "val Loss: 0.5536, SSIM: 20.29%\n",
            "\n",
            "Epoch 150/199\n",
            "----------\n"
          ]
        },
        {
          "output_type": "stream",
          "name": "stderr",
          "text": [
            "100%|██████████| 391/391 [00:13<00:00, 28.62it/s]\n"
          ]
        },
        {
          "output_type": "stream",
          "name": "stdout",
          "text": [
            "train Loss: 0.9873, SSIM: 14.02%\n"
          ]
        },
        {
          "output_type": "stream",
          "name": "stderr",
          "text": [
            "100%|██████████| 40/40 [00:01<00:00, 27.02it/s]\n"
          ]
        },
        {
          "output_type": "stream",
          "name": "stdout",
          "text": [
            "val Loss: 0.5536, SSIM: 20.36%\n",
            "\n",
            "Epoch 151/199\n",
            "----------\n"
          ]
        },
        {
          "output_type": "stream",
          "name": "stderr",
          "text": [
            "100%|██████████| 391/391 [00:13<00:00, 28.58it/s]\n"
          ]
        },
        {
          "output_type": "stream",
          "name": "stdout",
          "text": [
            "train Loss: 0.9868, SSIM: 14.02%\n"
          ]
        },
        {
          "output_type": "stream",
          "name": "stderr",
          "text": [
            "100%|██████████| 40/40 [00:01<00:00, 27.81it/s]\n"
          ]
        },
        {
          "output_type": "stream",
          "name": "stdout",
          "text": [
            "val Loss: 0.5536, SSIM: 20.43%\n",
            "\n",
            "Epoch 152/199\n",
            "----------\n"
          ]
        },
        {
          "output_type": "stream",
          "name": "stderr",
          "text": [
            "100%|██████████| 391/391 [00:13<00:00, 29.41it/s]\n"
          ]
        },
        {
          "output_type": "stream",
          "name": "stdout",
          "text": [
            "train Loss: 0.9867, SSIM: 14.03%\n"
          ]
        },
        {
          "output_type": "stream",
          "name": "stderr",
          "text": [
            "100%|██████████| 40/40 [00:01<00:00, 27.81it/s]\n"
          ]
        },
        {
          "output_type": "stream",
          "name": "stdout",
          "text": [
            "val Loss: 0.5536, SSIM: 20.34%\n",
            "\n",
            "Epoch 153/199\n",
            "----------\n"
          ]
        },
        {
          "output_type": "stream",
          "name": "stderr",
          "text": [
            "100%|██████████| 391/391 [00:13<00:00, 29.16it/s]\n"
          ]
        },
        {
          "output_type": "stream",
          "name": "stdout",
          "text": [
            "train Loss: 0.9866, SSIM: 14.03%\n"
          ]
        },
        {
          "output_type": "stream",
          "name": "stderr",
          "text": [
            "100%|██████████| 40/40 [00:01<00:00, 27.11it/s]\n"
          ]
        },
        {
          "output_type": "stream",
          "name": "stdout",
          "text": [
            "val Loss: 0.5536, SSIM: 20.35%\n",
            "\n",
            "Epoch 154/199\n",
            "----------\n"
          ]
        },
        {
          "output_type": "stream",
          "name": "stderr",
          "text": [
            "100%|██████████| 391/391 [00:13<00:00, 29.42it/s]\n"
          ]
        },
        {
          "output_type": "stream",
          "name": "stdout",
          "text": [
            "train Loss: 0.9875, SSIM: 14.03%\n"
          ]
        },
        {
          "output_type": "stream",
          "name": "stderr",
          "text": [
            "100%|██████████| 40/40 [00:01<00:00, 26.17it/s]\n"
          ]
        },
        {
          "output_type": "stream",
          "name": "stdout",
          "text": [
            "val Loss: 0.5536, SSIM: 20.31%\n",
            "\n",
            "Epoch 155/199\n",
            "----------\n"
          ]
        },
        {
          "output_type": "stream",
          "name": "stderr",
          "text": [
            "100%|██████████| 391/391 [00:13<00:00, 29.30it/s]\n"
          ]
        },
        {
          "output_type": "stream",
          "name": "stdout",
          "text": [
            "train Loss: 0.9874, SSIM: 14.02%\n"
          ]
        },
        {
          "output_type": "stream",
          "name": "stderr",
          "text": [
            "100%|██████████| 40/40 [00:01<00:00, 27.92it/s]\n"
          ]
        },
        {
          "output_type": "stream",
          "name": "stdout",
          "text": [
            "val Loss: 0.5536, SSIM: 20.37%\n",
            "\n",
            "Epoch 156/199\n",
            "----------\n"
          ]
        },
        {
          "output_type": "stream",
          "name": "stderr",
          "text": [
            "100%|██████████| 391/391 [00:13<00:00, 29.52it/s]\n"
          ]
        },
        {
          "output_type": "stream",
          "name": "stdout",
          "text": [
            "train Loss: 0.9853, SSIM: 14.04%\n"
          ]
        },
        {
          "output_type": "stream",
          "name": "stderr",
          "text": [
            "100%|██████████| 40/40 [00:01<00:00, 28.24it/s]\n"
          ]
        },
        {
          "output_type": "stream",
          "name": "stdout",
          "text": [
            "val Loss: 0.5536, SSIM: 20.37%\n",
            "\n",
            "Epoch 157/199\n",
            "----------\n"
          ]
        },
        {
          "output_type": "stream",
          "name": "stderr",
          "text": [
            "100%|██████████| 391/391 [00:13<00:00, 29.68it/s]\n"
          ]
        },
        {
          "output_type": "stream",
          "name": "stdout",
          "text": [
            "train Loss: 0.9865, SSIM: 14.02%\n"
          ]
        },
        {
          "output_type": "stream",
          "name": "stderr",
          "text": [
            "100%|██████████| 40/40 [00:01<00:00, 28.46it/s]\n"
          ]
        },
        {
          "output_type": "stream",
          "name": "stdout",
          "text": [
            "val Loss: 0.5536, SSIM: 20.37%\n",
            "Saving best model...\n",
            "\n",
            "Epoch 158/199\n",
            "----------\n"
          ]
        },
        {
          "output_type": "stream",
          "name": "stderr",
          "text": [
            "100%|██████████| 391/391 [00:13<00:00, 29.24it/s]\n"
          ]
        },
        {
          "output_type": "stream",
          "name": "stdout",
          "text": [
            "train Loss: 0.9861, SSIM: 14.02%\n"
          ]
        },
        {
          "output_type": "stream",
          "name": "stderr",
          "text": [
            "100%|██████████| 40/40 [00:01<00:00, 26.58it/s]\n"
          ]
        },
        {
          "output_type": "stream",
          "name": "stdout",
          "text": [
            "val Loss: 0.5536, SSIM: 20.32%\n",
            "\n",
            "Epoch 159/199\n",
            "----------\n"
          ]
        },
        {
          "output_type": "stream",
          "name": "stderr",
          "text": [
            "100%|██████████| 391/391 [00:13<00:00, 29.46it/s]\n"
          ]
        },
        {
          "output_type": "stream",
          "name": "stdout",
          "text": [
            "train Loss: 0.9871, SSIM: 14.02%\n"
          ]
        },
        {
          "output_type": "stream",
          "name": "stderr",
          "text": [
            "100%|██████████| 40/40 [00:01<00:00, 28.66it/s]\n"
          ]
        },
        {
          "output_type": "stream",
          "name": "stdout",
          "text": [
            "val Loss: 0.5536, SSIM: 20.37%\n",
            "\n",
            "Epoch 160/199\n",
            "----------\n"
          ]
        },
        {
          "output_type": "stream",
          "name": "stderr",
          "text": [
            "100%|██████████| 391/391 [00:13<00:00, 29.73it/s]\n"
          ]
        },
        {
          "output_type": "stream",
          "name": "stdout",
          "text": [
            "train Loss: 0.9856, SSIM: 14.04%\n"
          ]
        },
        {
          "output_type": "stream",
          "name": "stderr",
          "text": [
            "100%|██████████| 40/40 [00:01<00:00, 28.68it/s]\n"
          ]
        },
        {
          "output_type": "stream",
          "name": "stdout",
          "text": [
            "val Loss: 0.5536, SSIM: 20.36%\n",
            "\n",
            "Epoch 161/199\n",
            "----------\n"
          ]
        },
        {
          "output_type": "stream",
          "name": "stderr",
          "text": [
            "100%|██████████| 391/391 [00:13<00:00, 29.73it/s]\n"
          ]
        },
        {
          "output_type": "stream",
          "name": "stdout",
          "text": [
            "train Loss: 0.9876, SSIM: 14.02%\n"
          ]
        },
        {
          "output_type": "stream",
          "name": "stderr",
          "text": [
            "100%|██████████| 40/40 [00:01<00:00, 28.49it/s]\n"
          ]
        },
        {
          "output_type": "stream",
          "name": "stdout",
          "text": [
            "val Loss: 0.5536, SSIM: 20.32%\n",
            "\n",
            "Epoch 162/199\n",
            "----------\n"
          ]
        },
        {
          "output_type": "stream",
          "name": "stderr",
          "text": [
            "100%|██████████| 391/391 [00:13<00:00, 29.65it/s]\n"
          ]
        },
        {
          "output_type": "stream",
          "name": "stdout",
          "text": [
            "train Loss: 0.9865, SSIM: 14.03%\n"
          ]
        },
        {
          "output_type": "stream",
          "name": "stderr",
          "text": [
            "100%|██████████| 40/40 [00:01<00:00, 28.35it/s]\n"
          ]
        },
        {
          "output_type": "stream",
          "name": "stdout",
          "text": [
            "val Loss: 0.5536, SSIM: 20.37%\n",
            "\n",
            "Epoch 163/199\n",
            "----------\n"
          ]
        },
        {
          "output_type": "stream",
          "name": "stderr",
          "text": [
            "100%|██████████| 391/391 [00:13<00:00, 29.86it/s]\n"
          ]
        },
        {
          "output_type": "stream",
          "name": "stdout",
          "text": [
            "train Loss: 0.9877, SSIM: 14.00%\n"
          ]
        },
        {
          "output_type": "stream",
          "name": "stderr",
          "text": [
            "100%|██████████| 40/40 [00:01<00:00, 29.09it/s]\n"
          ]
        },
        {
          "output_type": "stream",
          "name": "stdout",
          "text": [
            "val Loss: 0.5536, SSIM: 20.35%\n",
            "\n",
            "Epoch 164/199\n",
            "----------\n"
          ]
        },
        {
          "output_type": "stream",
          "name": "stderr",
          "text": [
            "100%|██████████| 391/391 [00:13<00:00, 29.98it/s]\n"
          ]
        },
        {
          "output_type": "stream",
          "name": "stdout",
          "text": [
            "train Loss: 0.9873, SSIM: 14.02%\n"
          ]
        },
        {
          "output_type": "stream",
          "name": "stderr",
          "text": [
            "100%|██████████| 40/40 [00:01<00:00, 28.05it/s]\n"
          ]
        },
        {
          "output_type": "stream",
          "name": "stdout",
          "text": [
            "val Loss: 0.5536, SSIM: 20.38%\n",
            "Saving best model...\n",
            "\n",
            "Epoch 165/199\n",
            "----------\n"
          ]
        },
        {
          "output_type": "stream",
          "name": "stderr",
          "text": [
            "100%|██████████| 391/391 [00:13<00:00, 29.51it/s]\n"
          ]
        },
        {
          "output_type": "stream",
          "name": "stdout",
          "text": [
            "train Loss: 0.9867, SSIM: 14.02%\n"
          ]
        },
        {
          "output_type": "stream",
          "name": "stderr",
          "text": [
            "100%|██████████| 40/40 [00:01<00:00, 28.64it/s]\n"
          ]
        },
        {
          "output_type": "stream",
          "name": "stdout",
          "text": [
            "val Loss: 0.5535, SSIM: 20.38%\n",
            "Saving best model...\n",
            "\n",
            "Epoch 166/199\n",
            "----------\n"
          ]
        },
        {
          "output_type": "stream",
          "name": "stderr",
          "text": [
            "100%|██████████| 391/391 [00:13<00:00, 29.97it/s]\n"
          ]
        },
        {
          "output_type": "stream",
          "name": "stdout",
          "text": [
            "train Loss: 0.9865, SSIM: 14.02%\n"
          ]
        },
        {
          "output_type": "stream",
          "name": "stderr",
          "text": [
            "100%|██████████| 40/40 [00:01<00:00, 28.24it/s]\n"
          ]
        },
        {
          "output_type": "stream",
          "name": "stdout",
          "text": [
            "val Loss: 0.5536, SSIM: 20.37%\n",
            "\n",
            "Epoch 167/199\n",
            "----------\n"
          ]
        },
        {
          "output_type": "stream",
          "name": "stderr",
          "text": [
            "100%|██████████| 391/391 [00:13<00:00, 29.83it/s]\n"
          ]
        },
        {
          "output_type": "stream",
          "name": "stdout",
          "text": [
            "train Loss: 0.9863, SSIM: 14.04%\n"
          ]
        },
        {
          "output_type": "stream",
          "name": "stderr",
          "text": [
            "100%|██████████| 40/40 [00:01<00:00, 28.30it/s]\n"
          ]
        },
        {
          "output_type": "stream",
          "name": "stdout",
          "text": [
            "val Loss: 0.5535, SSIM: 20.37%\n",
            "\n",
            "Epoch 168/199\n",
            "----------\n"
          ]
        },
        {
          "output_type": "stream",
          "name": "stderr",
          "text": [
            "100%|██████████| 391/391 [00:13<00:00, 29.66it/s]\n"
          ]
        },
        {
          "output_type": "stream",
          "name": "stdout",
          "text": [
            "train Loss: 0.9871, SSIM: 14.01%\n"
          ]
        },
        {
          "output_type": "stream",
          "name": "stderr",
          "text": [
            "100%|██████████| 40/40 [00:01<00:00, 27.94it/s]\n"
          ]
        },
        {
          "output_type": "stream",
          "name": "stdout",
          "text": [
            "val Loss: 0.5535, SSIM: 20.36%\n",
            "\n",
            "Epoch 169/199\n",
            "----------\n"
          ]
        },
        {
          "output_type": "stream",
          "name": "stderr",
          "text": [
            "100%|██████████| 391/391 [00:13<00:00, 29.46it/s]\n"
          ]
        },
        {
          "output_type": "stream",
          "name": "stdout",
          "text": [
            "train Loss: 0.9860, SSIM: 14.04%\n"
          ]
        },
        {
          "output_type": "stream",
          "name": "stderr",
          "text": [
            "100%|██████████| 40/40 [00:01<00:00, 27.20it/s]\n"
          ]
        },
        {
          "output_type": "stream",
          "name": "stdout",
          "text": [
            "val Loss: 0.5535, SSIM: 20.41%\n",
            "Saving best model...\n",
            "\n",
            "Epoch 170/199\n",
            "----------\n"
          ]
        },
        {
          "output_type": "stream",
          "name": "stderr",
          "text": [
            "100%|██████████| 391/391 [00:13<00:00, 29.01it/s]\n"
          ]
        },
        {
          "output_type": "stream",
          "name": "stdout",
          "text": [
            "train Loss: 0.9866, SSIM: 14.05%\n"
          ]
        },
        {
          "output_type": "stream",
          "name": "stderr",
          "text": [
            "100%|██████████| 40/40 [00:01<00:00, 27.50it/s]\n"
          ]
        },
        {
          "output_type": "stream",
          "name": "stdout",
          "text": [
            "val Loss: 0.5536, SSIM: 20.36%\n",
            "\n",
            "Epoch 171/199\n",
            "----------\n"
          ]
        },
        {
          "output_type": "stream",
          "name": "stderr",
          "text": [
            "100%|██████████| 391/391 [00:13<00:00, 29.22it/s]\n"
          ]
        },
        {
          "output_type": "stream",
          "name": "stdout",
          "text": [
            "train Loss: 0.9874, SSIM: 14.02%\n"
          ]
        },
        {
          "output_type": "stream",
          "name": "stderr",
          "text": [
            "100%|██████████| 40/40 [00:01<00:00, 27.47it/s]\n"
          ]
        },
        {
          "output_type": "stream",
          "name": "stdout",
          "text": [
            "val Loss: 0.5536, SSIM: 20.33%\n",
            "\n",
            "Epoch 172/199\n",
            "----------\n"
          ]
        },
        {
          "output_type": "stream",
          "name": "stderr",
          "text": [
            "100%|██████████| 391/391 [00:13<00:00, 29.07it/s]\n"
          ]
        },
        {
          "output_type": "stream",
          "name": "stdout",
          "text": [
            "train Loss: 0.9873, SSIM: 14.01%\n"
          ]
        },
        {
          "output_type": "stream",
          "name": "stderr",
          "text": [
            "100%|██████████| 40/40 [00:01<00:00, 27.67it/s]\n"
          ]
        },
        {
          "output_type": "stream",
          "name": "stdout",
          "text": [
            "val Loss: 0.5536, SSIM: 20.33%\n",
            "\n",
            "Epoch 173/199\n",
            "----------\n"
          ]
        },
        {
          "output_type": "stream",
          "name": "stderr",
          "text": [
            "100%|██████████| 391/391 [00:13<00:00, 29.87it/s]\n"
          ]
        },
        {
          "output_type": "stream",
          "name": "stdout",
          "text": [
            "train Loss: 0.9877, SSIM: 13.99%\n"
          ]
        },
        {
          "output_type": "stream",
          "name": "stderr",
          "text": [
            "100%|██████████| 40/40 [00:01<00:00, 25.90it/s]\n"
          ]
        },
        {
          "output_type": "stream",
          "name": "stdout",
          "text": [
            "val Loss: 0.5536, SSIM: 20.33%\n",
            "\n",
            "Epoch 174/199\n",
            "----------\n"
          ]
        },
        {
          "output_type": "stream",
          "name": "stderr",
          "text": [
            "100%|██████████| 391/391 [00:13<00:00, 29.27it/s]\n"
          ]
        },
        {
          "output_type": "stream",
          "name": "stdout",
          "text": [
            "train Loss: 0.9864, SSIM: 14.02%\n"
          ]
        },
        {
          "output_type": "stream",
          "name": "stderr",
          "text": [
            "100%|██████████| 40/40 [00:01<00:00, 27.08it/s]\n"
          ]
        },
        {
          "output_type": "stream",
          "name": "stdout",
          "text": [
            "val Loss: 0.5536, SSIM: 20.34%\n",
            "\n",
            "Epoch 175/199\n",
            "----------\n"
          ]
        },
        {
          "output_type": "stream",
          "name": "stderr",
          "text": [
            "100%|██████████| 391/391 [00:13<00:00, 29.45it/s]\n"
          ]
        },
        {
          "output_type": "stream",
          "name": "stdout",
          "text": [
            "train Loss: 0.9864, SSIM: 14.02%\n"
          ]
        },
        {
          "output_type": "stream",
          "name": "stderr",
          "text": [
            "100%|██████████| 40/40 [00:01<00:00, 29.11it/s]\n"
          ]
        },
        {
          "output_type": "stream",
          "name": "stdout",
          "text": [
            "val Loss: 0.5536, SSIM: 20.32%\n",
            "\n",
            "Epoch 176/199\n",
            "----------\n"
          ]
        },
        {
          "output_type": "stream",
          "name": "stderr",
          "text": [
            "100%|██████████| 391/391 [00:13<00:00, 29.42it/s]\n"
          ]
        },
        {
          "output_type": "stream",
          "name": "stdout",
          "text": [
            "train Loss: 0.9874, SSIM: 14.01%\n"
          ]
        },
        {
          "output_type": "stream",
          "name": "stderr",
          "text": [
            "100%|██████████| 40/40 [00:01<00:00, 27.37it/s]\n"
          ]
        },
        {
          "output_type": "stream",
          "name": "stdout",
          "text": [
            "val Loss: 0.5536, SSIM: 20.32%\n",
            "\n",
            "Epoch 177/199\n",
            "----------\n"
          ]
        },
        {
          "output_type": "stream",
          "name": "stderr",
          "text": [
            "100%|██████████| 391/391 [00:13<00:00, 29.49it/s]\n"
          ]
        },
        {
          "output_type": "stream",
          "name": "stdout",
          "text": [
            "train Loss: 0.9862, SSIM: 14.04%\n"
          ]
        },
        {
          "output_type": "stream",
          "name": "stderr",
          "text": [
            "100%|██████████| 40/40 [00:01<00:00, 26.89it/s]\n"
          ]
        },
        {
          "output_type": "stream",
          "name": "stdout",
          "text": [
            "val Loss: 0.5536, SSIM: 20.36%\n",
            "\n",
            "Epoch 178/199\n",
            "----------\n"
          ]
        },
        {
          "output_type": "stream",
          "name": "stderr",
          "text": [
            "100%|██████████| 391/391 [00:13<00:00, 29.73it/s]\n"
          ]
        },
        {
          "output_type": "stream",
          "name": "stdout",
          "text": [
            "train Loss: 0.9870, SSIM: 14.03%\n"
          ]
        },
        {
          "output_type": "stream",
          "name": "stderr",
          "text": [
            "100%|██████████| 40/40 [00:01<00:00, 27.69it/s]\n"
          ]
        },
        {
          "output_type": "stream",
          "name": "stdout",
          "text": [
            "val Loss: 0.5536, SSIM: 20.36%\n",
            "\n",
            "Epoch 179/199\n",
            "----------\n"
          ]
        },
        {
          "output_type": "stream",
          "name": "stderr",
          "text": [
            "100%|██████████| 391/391 [00:13<00:00, 28.99it/s]\n"
          ]
        },
        {
          "output_type": "stream",
          "name": "stdout",
          "text": [
            "train Loss: 0.9869, SSIM: 14.02%\n"
          ]
        },
        {
          "output_type": "stream",
          "name": "stderr",
          "text": [
            "100%|██████████| 40/40 [00:01<00:00, 28.43it/s]\n"
          ]
        },
        {
          "output_type": "stream",
          "name": "stdout",
          "text": [
            "val Loss: 0.5536, SSIM: 20.31%\n",
            "\n",
            "Epoch 180/199\n",
            "----------\n"
          ]
        },
        {
          "output_type": "stream",
          "name": "stderr",
          "text": [
            "100%|██████████| 391/391 [00:13<00:00, 29.32it/s]\n"
          ]
        },
        {
          "output_type": "stream",
          "name": "stdout",
          "text": [
            "train Loss: 0.9874, SSIM: 14.01%\n"
          ]
        },
        {
          "output_type": "stream",
          "name": "stderr",
          "text": [
            "100%|██████████| 40/40 [00:01<00:00, 27.03it/s]\n"
          ]
        },
        {
          "output_type": "stream",
          "name": "stdout",
          "text": [
            "val Loss: 0.5535, SSIM: 20.37%\n",
            "\n",
            "Epoch 181/199\n",
            "----------\n"
          ]
        },
        {
          "output_type": "stream",
          "name": "stderr",
          "text": [
            "100%|██████████| 391/391 [00:13<00:00, 29.39it/s]\n"
          ]
        },
        {
          "output_type": "stream",
          "name": "stdout",
          "text": [
            "train Loss: 0.9871, SSIM: 14.02%\n"
          ]
        },
        {
          "output_type": "stream",
          "name": "stderr",
          "text": [
            "100%|██████████| 40/40 [00:01<00:00, 28.09it/s]\n"
          ]
        },
        {
          "output_type": "stream",
          "name": "stdout",
          "text": [
            "val Loss: 0.5536, SSIM: 20.32%\n",
            "\n",
            "Epoch 182/199\n",
            "----------\n"
          ]
        },
        {
          "output_type": "stream",
          "name": "stderr",
          "text": [
            "100%|██████████| 391/391 [00:13<00:00, 29.26it/s]\n"
          ]
        },
        {
          "output_type": "stream",
          "name": "stdout",
          "text": [
            "train Loss: 0.9877, SSIM: 14.02%\n"
          ]
        },
        {
          "output_type": "stream",
          "name": "stderr",
          "text": [
            "100%|██████████| 40/40 [00:01<00:00, 27.36it/s]\n"
          ]
        },
        {
          "output_type": "stream",
          "name": "stdout",
          "text": [
            "val Loss: 0.5536, SSIM: 20.36%\n",
            "\n",
            "Epoch 183/199\n",
            "----------\n"
          ]
        },
        {
          "output_type": "stream",
          "name": "stderr",
          "text": [
            "100%|██████████| 391/391 [00:13<00:00, 29.42it/s]\n"
          ]
        },
        {
          "output_type": "stream",
          "name": "stdout",
          "text": [
            "train Loss: 0.9873, SSIM: 14.02%\n"
          ]
        },
        {
          "output_type": "stream",
          "name": "stderr",
          "text": [
            "100%|██████████| 40/40 [00:01<00:00, 28.06it/s]\n"
          ]
        },
        {
          "output_type": "stream",
          "name": "stdout",
          "text": [
            "val Loss: 0.5536, SSIM: 20.35%\n",
            "\n",
            "Epoch 184/199\n",
            "----------\n"
          ]
        },
        {
          "output_type": "stream",
          "name": "stderr",
          "text": [
            "100%|██████████| 391/391 [00:13<00:00, 29.03it/s]\n"
          ]
        },
        {
          "output_type": "stream",
          "name": "stdout",
          "text": [
            "train Loss: 0.9859, SSIM: 14.03%\n"
          ]
        },
        {
          "output_type": "stream",
          "name": "stderr",
          "text": [
            "100%|██████████| 40/40 [00:01<00:00, 26.22it/s]\n"
          ]
        },
        {
          "output_type": "stream",
          "name": "stdout",
          "text": [
            "val Loss: 0.5536, SSIM: 20.33%\n",
            "\n",
            "Epoch 185/199\n",
            "----------\n"
          ]
        },
        {
          "output_type": "stream",
          "name": "stderr",
          "text": [
            "100%|██████████| 391/391 [00:13<00:00, 29.45it/s]\n"
          ]
        },
        {
          "output_type": "stream",
          "name": "stdout",
          "text": [
            "train Loss: 0.9871, SSIM: 14.03%\n"
          ]
        },
        {
          "output_type": "stream",
          "name": "stderr",
          "text": [
            "100%|██████████| 40/40 [00:01<00:00, 27.40it/s]\n"
          ]
        },
        {
          "output_type": "stream",
          "name": "stdout",
          "text": [
            "val Loss: 0.5535, SSIM: 20.38%\n",
            "Saving best model...\n",
            "\n",
            "Epoch 186/199\n",
            "----------\n"
          ]
        },
        {
          "output_type": "stream",
          "name": "stderr",
          "text": [
            "100%|██████████| 391/391 [00:13<00:00, 29.36it/s]\n"
          ]
        },
        {
          "output_type": "stream",
          "name": "stdout",
          "text": [
            "train Loss: 0.9869, SSIM: 14.03%\n"
          ]
        },
        {
          "output_type": "stream",
          "name": "stderr",
          "text": [
            "100%|██████████| 40/40 [00:01<00:00, 28.44it/s]\n"
          ]
        },
        {
          "output_type": "stream",
          "name": "stdout",
          "text": [
            "val Loss: 0.5536, SSIM: 20.37%\n",
            "\n",
            "Epoch 187/199\n",
            "----------\n"
          ]
        },
        {
          "output_type": "stream",
          "name": "stderr",
          "text": [
            "100%|██████████| 391/391 [00:13<00:00, 29.31it/s]\n"
          ]
        },
        {
          "output_type": "stream",
          "name": "stdout",
          "text": [
            "train Loss: 0.9868, SSIM: 14.04%\n"
          ]
        },
        {
          "output_type": "stream",
          "name": "stderr",
          "text": [
            "100%|██████████| 40/40 [00:01<00:00, 28.23it/s]\n"
          ]
        },
        {
          "output_type": "stream",
          "name": "stdout",
          "text": [
            "val Loss: 0.5536, SSIM: 20.36%\n",
            "\n",
            "Epoch 188/199\n",
            "----------\n"
          ]
        },
        {
          "output_type": "stream",
          "name": "stderr",
          "text": [
            "100%|██████████| 391/391 [00:13<00:00, 29.81it/s]\n"
          ]
        },
        {
          "output_type": "stream",
          "name": "stdout",
          "text": [
            "train Loss: 0.9881, SSIM: 14.02%\n"
          ]
        },
        {
          "output_type": "stream",
          "name": "stderr",
          "text": [
            "100%|██████████| 40/40 [00:01<00:00, 26.84it/s]\n"
          ]
        },
        {
          "output_type": "stream",
          "name": "stdout",
          "text": [
            "val Loss: 0.5535, SSIM: 20.35%\n",
            "\n",
            "Epoch 189/199\n",
            "----------\n"
          ]
        },
        {
          "output_type": "stream",
          "name": "stderr",
          "text": [
            "100%|██████████| 391/391 [00:13<00:00, 29.30it/s]\n"
          ]
        },
        {
          "output_type": "stream",
          "name": "stdout",
          "text": [
            "train Loss: 0.9876, SSIM: 14.01%\n"
          ]
        },
        {
          "output_type": "stream",
          "name": "stderr",
          "text": [
            "100%|██████████| 40/40 [00:01<00:00, 27.50it/s]\n"
          ]
        },
        {
          "output_type": "stream",
          "name": "stdout",
          "text": [
            "val Loss: 0.5536, SSIM: 20.33%\n",
            "\n",
            "Epoch 190/199\n",
            "----------\n"
          ]
        },
        {
          "output_type": "stream",
          "name": "stderr",
          "text": [
            "100%|██████████| 391/391 [00:13<00:00, 29.65it/s]\n"
          ]
        },
        {
          "output_type": "stream",
          "name": "stdout",
          "text": [
            "train Loss: 0.9862, SSIM: 14.04%\n"
          ]
        },
        {
          "output_type": "stream",
          "name": "stderr",
          "text": [
            "100%|██████████| 40/40 [00:01<00:00, 28.63it/s]\n"
          ]
        },
        {
          "output_type": "stream",
          "name": "stdout",
          "text": [
            "val Loss: 0.5535, SSIM: 20.37%\n",
            "\n",
            "Epoch 191/199\n",
            "----------\n"
          ]
        },
        {
          "output_type": "stream",
          "name": "stderr",
          "text": [
            "100%|██████████| 391/391 [00:13<00:00, 29.79it/s]\n"
          ]
        },
        {
          "output_type": "stream",
          "name": "stdout",
          "text": [
            "train Loss: 0.9870, SSIM: 14.02%\n"
          ]
        },
        {
          "output_type": "stream",
          "name": "stderr",
          "text": [
            "100%|██████████| 40/40 [00:01<00:00, 27.14it/s]\n"
          ]
        },
        {
          "output_type": "stream",
          "name": "stdout",
          "text": [
            "val Loss: 0.5536, SSIM: 20.34%\n",
            "\n",
            "Epoch 192/199\n",
            "----------\n"
          ]
        },
        {
          "output_type": "stream",
          "name": "stderr",
          "text": [
            "100%|██████████| 391/391 [00:13<00:00, 29.03it/s]\n"
          ]
        },
        {
          "output_type": "stream",
          "name": "stdout",
          "text": [
            "train Loss: 0.9877, SSIM: 14.02%\n"
          ]
        },
        {
          "output_type": "stream",
          "name": "stderr",
          "text": [
            "100%|██████████| 40/40 [00:01<00:00, 28.03it/s]\n"
          ]
        },
        {
          "output_type": "stream",
          "name": "stdout",
          "text": [
            "val Loss: 0.5535, SSIM: 20.36%\n",
            "\n",
            "Epoch 193/199\n",
            "----------\n"
          ]
        },
        {
          "output_type": "stream",
          "name": "stderr",
          "text": [
            "100%|██████████| 391/391 [00:13<00:00, 29.51it/s]\n"
          ]
        },
        {
          "output_type": "stream",
          "name": "stdout",
          "text": [
            "train Loss: 0.9859, SSIM: 14.04%\n"
          ]
        },
        {
          "output_type": "stream",
          "name": "stderr",
          "text": [
            "100%|██████████| 40/40 [00:01<00:00, 28.76it/s]\n"
          ]
        },
        {
          "output_type": "stream",
          "name": "stdout",
          "text": [
            "val Loss: 0.5535, SSIM: 20.37%\n",
            "\n",
            "Epoch 194/199\n",
            "----------\n"
          ]
        },
        {
          "output_type": "stream",
          "name": "stderr",
          "text": [
            "100%|██████████| 391/391 [00:13<00:00, 29.42it/s]\n"
          ]
        },
        {
          "output_type": "stream",
          "name": "stdout",
          "text": [
            "train Loss: 0.9864, SSIM: 14.03%\n"
          ]
        },
        {
          "output_type": "stream",
          "name": "stderr",
          "text": [
            "100%|██████████| 40/40 [00:01<00:00, 28.76it/s]\n"
          ]
        },
        {
          "output_type": "stream",
          "name": "stdout",
          "text": [
            "val Loss: 0.5536, SSIM: 20.31%\n",
            "\n",
            "Epoch 195/199\n",
            "----------\n"
          ]
        },
        {
          "output_type": "stream",
          "name": "stderr",
          "text": [
            "100%|██████████| 391/391 [00:13<00:00, 29.36it/s]\n"
          ]
        },
        {
          "output_type": "stream",
          "name": "stdout",
          "text": [
            "train Loss: 0.9852, SSIM: 14.04%\n"
          ]
        },
        {
          "output_type": "stream",
          "name": "stderr",
          "text": [
            "100%|██████████| 40/40 [00:01<00:00, 27.36it/s]\n"
          ]
        },
        {
          "output_type": "stream",
          "name": "stdout",
          "text": [
            "val Loss: 0.5535, SSIM: 20.35%\n",
            "\n",
            "Epoch 196/199\n",
            "----------\n"
          ]
        },
        {
          "output_type": "stream",
          "name": "stderr",
          "text": [
            "100%|██████████| 391/391 [00:13<00:00, 29.35it/s]\n"
          ]
        },
        {
          "output_type": "stream",
          "name": "stdout",
          "text": [
            "train Loss: 0.9867, SSIM: 14.01%\n"
          ]
        },
        {
          "output_type": "stream",
          "name": "stderr",
          "text": [
            "100%|██████████| 40/40 [00:01<00:00, 27.25it/s]\n"
          ]
        },
        {
          "output_type": "stream",
          "name": "stdout",
          "text": [
            "val Loss: 0.5535, SSIM: 20.40%\n",
            "Saving best model...\n",
            "\n",
            "Epoch 197/199\n",
            "----------\n"
          ]
        },
        {
          "output_type": "stream",
          "name": "stderr",
          "text": [
            "100%|██████████| 391/391 [00:13<00:00, 29.76it/s]\n"
          ]
        },
        {
          "output_type": "stream",
          "name": "stdout",
          "text": [
            "train Loss: 0.9861, SSIM: 14.04%\n"
          ]
        },
        {
          "output_type": "stream",
          "name": "stderr",
          "text": [
            "100%|██████████| 40/40 [00:01<00:00, 28.61it/s]\n"
          ]
        },
        {
          "output_type": "stream",
          "name": "stdout",
          "text": [
            "val Loss: 0.5535, SSIM: 20.34%\n",
            "\n",
            "Epoch 198/199\n",
            "----------\n"
          ]
        },
        {
          "output_type": "stream",
          "name": "stderr",
          "text": [
            "100%|██████████| 391/391 [00:13<00:00, 29.75it/s]\n"
          ]
        },
        {
          "output_type": "stream",
          "name": "stdout",
          "text": [
            "train Loss: 0.9863, SSIM: 14.02%\n"
          ]
        },
        {
          "output_type": "stream",
          "name": "stderr",
          "text": [
            "100%|██████████| 40/40 [00:01<00:00, 28.67it/s]\n"
          ]
        },
        {
          "output_type": "stream",
          "name": "stdout",
          "text": [
            "val Loss: 0.5535, SSIM: 20.36%\n",
            "\n",
            "Epoch 199/199\n",
            "----------\n"
          ]
        },
        {
          "output_type": "stream",
          "name": "stderr",
          "text": [
            "100%|██████████| 391/391 [00:12<00:00, 30.31it/s]\n"
          ]
        },
        {
          "output_type": "stream",
          "name": "stdout",
          "text": [
            "train Loss: 0.9877, SSIM: 14.02%\n"
          ]
        },
        {
          "output_type": "stream",
          "name": "stderr",
          "text": [
            "100%|██████████| 40/40 [00:01<00:00, 27.98it/s]"
          ]
        },
        {
          "output_type": "stream",
          "name": "stdout",
          "text": [
            "val Loss: 0.5535, SSIM: 20.37%\n",
            "\n",
            "Training complete in 49m 9s\n",
            "Best val loss: 0.5535\n"
          ]
        },
        {
          "output_type": "stream",
          "name": "stderr",
          "text": [
            "\n"
          ]
        }
      ],
      "source": [
        "model_ft = train_model(model_ft, criterion, optimizer_ft, exp_lr_scheduler, num_epochs=200)"
      ]
    },
    {
      "cell_type": "code",
      "execution_count": null,
      "metadata": {
        "id": "2JdUt-urFv9K"
      },
      "outputs": [],
      "source": []
    },
    {
      "cell_type": "code",
      "execution_count": null,
      "metadata": {
        "id": "1Edj_W-i3yCf"
      },
      "outputs": [],
      "source": []
    },
    {
      "cell_type": "code",
      "execution_count": null,
      "metadata": {
        "id": "4LMbpZ0pzsCr"
      },
      "outputs": [],
      "source": []
    },
    {
      "cell_type": "code",
      "execution_count": null,
      "metadata": {
        "id": "FzOvO6-WCVi7"
      },
      "outputs": [],
      "source": []
    }
  ],
  "metadata": {
    "accelerator": "GPU",
    "colab": {
      "gpuType": "T4",
      "machine_shape": "hm",
      "provenance": [],
      "authorship_tag": "ABX9TyPbkwcl54PeJn7kg56zS7x8",
      "include_colab_link": true
    },
    "kernelspec": {
      "display_name": "Python 3",
      "name": "python3"
    },
    "language_info": {
      "name": "python"
    }
  },
  "nbformat": 4,
  "nbformat_minor": 0
}